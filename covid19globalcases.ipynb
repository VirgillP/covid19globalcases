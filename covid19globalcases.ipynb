{
 "cells": [
  {
   "cell_type": "markdown",
   "metadata": {},
   "source": [
    "***Exploring data on COVID-19***"
   ]
  },
  {
   "cell_type": "markdown",
   "metadata": {},
   "source": [
    "See guideline on how to install julia(https://julialang.org/) on your platform and how to start using it with\n",
    "\n",
    "jupyter notebook\n",
    "\n",
    "jupyter lab\n",
    "\n",
    "Windows CMD\n",
    "\n",
    "Windows PowerShell.\n",
    "\n",
    "using Interact\n",
    "using CSV etc..\n",
    "are packages used to interact and manipulate data.These are installed once.\n",
    "\n",
    "In Windows CMD/Windows Powerhsell (have not used Julia on Mac yet) enter the following:\n",
    "\n",
    "import Pkg (press enter/return)\n",
    "\n",
    "pkg.add(\"Interact\")(press enter/return)\n",
    "\n",
    "Repeat steps with additional packages"
   ]
  },
  {
   "cell_type": "code",
   "execution_count": 1,
   "metadata": {},
   "outputs": [
    {
     "data": {
      "text/html": [
       "<script>\n",
       "// Immediately-invoked-function-expression to avoid global variables.\n",
       "(function() {\n",
       "    var warning_div = document.getElementById(\"webio-warning-415524178590779419\");\n",
       "    var hide = function () {\n",
       "        var script = document.getElementById(\"webio-setup-1944516223409373758\");\n",
       "        var parent = script && script.parentElement;\n",
       "        var grandparent = parent && parent.parentElement;\n",
       "        if (grandparent) {\n",
       "            grandparent.style.display = \"none\";\n",
       "        }\n",
       "        warning_div.style.display = \"none\";\n",
       "    };\n",
       "    if (typeof Jupyter !== \"undefined\") {\n",
       "        console.log(\"WebIO detected Jupyter notebook environment.\");\n",
       "        // Jupyter notebook.\n",
       "        var extensions = (\n",
       "            Jupyter\n",
       "            && Jupyter.notebook.config.data\n",
       "            && Jupyter.notebook.config.data.load_extensions\n",
       "        );\n",
       "        if (extensions && extensions[\"webio-jupyter-notebook\"]) {\n",
       "            // Extension already loaded.\n",
       "            console.log(\"Jupyter WebIO nbextension detected; not loading ad-hoc.\");\n",
       "            hide();\n",
       "            return;\n",
       "        }\n",
       "    } else if (window.location.pathname.includes(\"/lab\")) {\n",
       "        // Guessing JupyterLa\n",
       "        console.log(\"Jupyter Lab detected; make sure the @webio/jupyter-lab-provider labextension is installed.\");\n",
       "        hide();\n",
       "        return;\n",
       "    }\n",
       "})();\n",
       "\n",
       "</script>\n",
       "<p\n",
       "    id=\"webio-warning-415524178590779419\"\n",
       "    class=\"output_text output_stderr\"\n",
       "    style=\"padding: 1em; font-weight: bold;\"\n",
       ">\n",
       "    Unable to load WebIO. Please make sure WebIO works for your Jupyter client.\n",
       "    For troubleshooting, please see <a href=\"https://juliagizmos.github.io/WebIO.jl/latest/providers/ijulia/\">\n",
       "    the WebIO/IJulia documentation</a>.\n",
       "    <!-- TODO: link to installation docs. -->\n",
       "</p>\n"
      ],
      "text/plain": [
       "HTML{String}(\"<script>\\n// Immediately-invoked-function-expression to avoid global variables.\\n(function() {\\n    var warning_div = document.getElementById(\\\"webio-warning-415524178590779419\\\");\\n    var hide = function () {\\n        var script = document.getElementById(\\\"webio-setup-1944516223409373758\\\");\\n        var parent = script && script.parentElement;\\n        var grandparent = parent && parent.parentElement;\\n        if (grandparent) {\\n            grandparent.style.display = \\\"none\\\";\\n        }\\n        warning_div.style.display = \\\"none\\\";\\n    };\\n    if (typeof Jupyter !== \\\"undefined\\\") {\\n        console.log(\\\"WebIO detected Jupyter notebook environment.\\\");\\n        // Jupyter notebook.\\n        var extensions = (\\n            Jupyter\\n            && Jupyter.notebook.config.data\\n            && Jupyter.notebook.config.data.load_extensions\\n        );\\n        if (extensions && extensions[\\\"webio-jupyter-notebook\\\"]) {\\n            // Extension already loaded.\\n            console.log(\\\"Jupyter WebIO nbextension detected; not loading ad-hoc.\\\");\\n            hide();\\n            return;\\n        }\\n    } else if (window.location.pathname.includes(\\\"/lab\\\")) {\\n        // Guessing JupyterLa\\n        console.log(\\\"Jupyter Lab detected; make sure the @webio/jupyter-lab-provider labextension is installed.\\\");\\n        hide();\\n        return;\\n    }\\n})();\\n\\n</script>\\n<p\\n    id=\\\"webio-warning-415524178590779419\\\"\\n    class=\\\"output_text output_stderr\\\"\\n    style=\\\"padding: 1em; font-weight: bold;\\\"\\n>\\n    Unable to load WebIO. Please make sure WebIO works for your Jupyter client.\\n    For troubleshooting, please see <a href=\\\"https://juliagizmos.github.io/WebIO.jl/latest/providers/ijulia/\\\">\\n    the WebIO/IJulia documentation</a>.\\n    <!-- TODO: link to installation docs. -->\\n</p>\\n\")"
      ]
     },
     "metadata": {},
     "output_type": "display_data"
    }
   ],
   "source": [
    "using Interact\n",
    "using CSV\n",
    "using DataFrames\n",
    "using Dates\n",
    "using PlotThemes"
   ]
  },
  {
   "cell_type": "code",
   "execution_count": 2,
   "metadata": {},
   "outputs": [
    {
     "data": {
      "text/plain": [
       "\"https://raw.githubusercontent.com/CSSEGISandData/COVID-19/master/csse_covid_19_data/csse_covid_19_time_series/time_series_covid19_confirmed_global.csv\""
      ]
     },
     "execution_count": 2,
     "metadata": {},
     "output_type": "execute_result"
    }
   ],
   "source": [
    "# Open your web browser and search for johns hopkins coronavirus data github -> CSSEGISandData/COVID-19->COVID-19\n",
    "# ->csse_covid_19_data->csse covid 19 timer series. Select the time series covid19 confirmed global.csv file and on the top\n",
    "# right corner of the page click on raw. You will be presented with the actual csv file and proceed into copying the whole link\n",
    "# in the web browser search bar.\n",
    "\n",
    "url = \"https://raw.githubusercontent.com/CSSEGISandData/COVID-19/master/csse_covid_19_data/csse_covid_19_time_series/time_series_covid19_confirmed_global.csv\""
   ]
  },
  {
   "cell_type": "code",
   "execution_count": 3,
   "metadata": {
    "scrolled": true
   },
   "outputs": [
    {
     "data": {
      "text/plain": [
       "\"https://raw.githubusercontent.com/CSSEGISandData/COVID-19/master/csse_covid_19_data/csse_covid_19_time_series/time_series_covid19_confirmed_global.csv\""
      ]
     },
     "execution_count": 3,
     "metadata": {},
     "output_type": "execute_result"
    }
   ],
   "source": [
    "url"
   ]
  },
  {
   "cell_type": "markdown",
   "metadata": {},
   "source": [
    "download() retrievs the data. Note the arguments in parentheses"
   ]
  },
  {
   "cell_type": "code",
   "execution_count": 4,
   "metadata": {},
   "outputs": [
    {
     "data": {
      "text/plain": [
       "\"covid_19_confirmed_global.csv\""
      ]
     },
     "execution_count": 4,
     "metadata": {},
     "output_type": "execute_result"
    }
   ],
   "source": [
    "#File will be downloaded in the same directory(folder) where the .ipynb file is located\n",
    "download(url, \"covid_19_confirmed_global.csv\") "
   ]
  },
  {
   "cell_type": "code",
   "execution_count": 5,
   "metadata": {
    "scrolled": true
   },
   "outputs": [
    {
     "data": {
      "text/html": [
       "<table class=\"data-frame\"><thead><tr><th></th><th>Province/State</th><th>Country/Region</th><th>Lat</th><th>Long</th><th>1/22/20</th></tr><tr><th></th><th>String?</th><th>String</th><th>Float64</th><th>Float64</th><th>Int64</th></tr></thead><tbody><p>266 rows × 191 columns (omitted printing of 186 columns)</p><tr><th>1</th><td><em>missing</em></td><td>Afghanistan</td><td>33.9391</td><td>67.71</td><td>0</td></tr><tr><th>2</th><td><em>missing</em></td><td>Albania</td><td>41.1533</td><td>20.1683</td><td>0</td></tr><tr><th>3</th><td><em>missing</em></td><td>Algeria</td><td>28.0339</td><td>1.6596</td><td>0</td></tr><tr><th>4</th><td><em>missing</em></td><td>Andorra</td><td>42.5063</td><td>1.5218</td><td>0</td></tr><tr><th>5</th><td><em>missing</em></td><td>Angola</td><td>-11.2027</td><td>17.8739</td><td>0</td></tr><tr><th>6</th><td><em>missing</em></td><td>Antigua and Barbuda</td><td>17.0608</td><td>-61.7964</td><td>0</td></tr><tr><th>7</th><td><em>missing</em></td><td>Argentina</td><td>-38.4161</td><td>-63.6167</td><td>0</td></tr><tr><th>8</th><td><em>missing</em></td><td>Armenia</td><td>40.0691</td><td>45.0382</td><td>0</td></tr><tr><th>9</th><td>Australian Capital Territory</td><td>Australia</td><td>-35.4735</td><td>149.012</td><td>0</td></tr><tr><th>10</th><td>New South Wales</td><td>Australia</td><td>-33.8688</td><td>151.209</td><td>0</td></tr><tr><th>11</th><td>Northern Territory</td><td>Australia</td><td>-12.4634</td><td>130.846</td><td>0</td></tr><tr><th>12</th><td>Queensland</td><td>Australia</td><td>-27.4698</td><td>153.025</td><td>0</td></tr><tr><th>13</th><td>South Australia</td><td>Australia</td><td>-34.9285</td><td>138.601</td><td>0</td></tr><tr><th>14</th><td>Tasmania</td><td>Australia</td><td>-42.8821</td><td>147.327</td><td>0</td></tr><tr><th>15</th><td>Victoria</td><td>Australia</td><td>-37.8136</td><td>144.963</td><td>0</td></tr><tr><th>16</th><td>Western Australia</td><td>Australia</td><td>-31.9505</td><td>115.861</td><td>0</td></tr><tr><th>17</th><td><em>missing</em></td><td>Austria</td><td>47.5162</td><td>14.5501</td><td>0</td></tr><tr><th>18</th><td><em>missing</em></td><td>Azerbaijan</td><td>40.1431</td><td>47.5769</td><td>0</td></tr><tr><th>19</th><td><em>missing</em></td><td>Bahamas</td><td>25.0259</td><td>-78.0359</td><td>0</td></tr><tr><th>20</th><td><em>missing</em></td><td>Bahrain</td><td>26.0275</td><td>50.55</td><td>0</td></tr><tr><th>21</th><td><em>missing</em></td><td>Bangladesh</td><td>23.685</td><td>90.3563</td><td>0</td></tr><tr><th>22</th><td><em>missing</em></td><td>Barbados</td><td>13.1939</td><td>-59.5432</td><td>0</td></tr><tr><th>23</th><td><em>missing</em></td><td>Belarus</td><td>53.7098</td><td>27.9534</td><td>0</td></tr><tr><th>24</th><td><em>missing</em></td><td>Belgium</td><td>50.8333</td><td>4.46994</td><td>0</td></tr><tr><th>25</th><td><em>missing</em></td><td>Benin</td><td>9.3077</td><td>2.3158</td><td>0</td></tr><tr><th>26</th><td><em>missing</em></td><td>Bhutan</td><td>27.5142</td><td>90.4336</td><td>0</td></tr><tr><th>27</th><td><em>missing</em></td><td>Bolivia</td><td>-16.2902</td><td>-63.5887</td><td>0</td></tr><tr><th>28</th><td><em>missing</em></td><td>Bosnia and Herzegovina</td><td>43.9159</td><td>17.6791</td><td>0</td></tr><tr><th>29</th><td><em>missing</em></td><td>Brazil</td><td>-14.235</td><td>-51.9253</td><td>0</td></tr><tr><th>30</th><td><em>missing</em></td><td>Brunei</td><td>4.5353</td><td>114.728</td><td>0</td></tr><tr><th>&vellip;</th><td>&vellip;</td><td>&vellip;</td><td>&vellip;</td><td>&vellip;</td><td>&vellip;</td></tr></tbody></table>"
      ],
      "text/latex": [
       "\\begin{tabular}{r|cccccc}\n",
       "\t& Province/State & Country/Region & Lat & Long & 1/22/20 & \\\\\n",
       "\t\\hline\n",
       "\t& String? & String & Float64 & Float64 & Int64 & \\\\\n",
       "\t\\hline\n",
       "\t1 & \\emph{missing} & Afghanistan & 33.9391 & 67.71 & 0 & $\\dots$ \\\\\n",
       "\t2 & \\emph{missing} & Albania & 41.1533 & 20.1683 & 0 & $\\dots$ \\\\\n",
       "\t3 & \\emph{missing} & Algeria & 28.0339 & 1.6596 & 0 & $\\dots$ \\\\\n",
       "\t4 & \\emph{missing} & Andorra & 42.5063 & 1.5218 & 0 & $\\dots$ \\\\\n",
       "\t5 & \\emph{missing} & Angola & -11.2027 & 17.8739 & 0 & $\\dots$ \\\\\n",
       "\t6 & \\emph{missing} & Antigua and Barbuda & 17.0608 & -61.7964 & 0 & $\\dots$ \\\\\n",
       "\t7 & \\emph{missing} & Argentina & -38.4161 & -63.6167 & 0 & $\\dots$ \\\\\n",
       "\t8 & \\emph{missing} & Armenia & 40.0691 & 45.0382 & 0 & $\\dots$ \\\\\n",
       "\t9 & Australian Capital Territory & Australia & -35.4735 & 149.012 & 0 & $\\dots$ \\\\\n",
       "\t10 & New South Wales & Australia & -33.8688 & 151.209 & 0 & $\\dots$ \\\\\n",
       "\t11 & Northern Territory & Australia & -12.4634 & 130.846 & 0 & $\\dots$ \\\\\n",
       "\t12 & Queensland & Australia & -27.4698 & 153.025 & 0 & $\\dots$ \\\\\n",
       "\t13 & South Australia & Australia & -34.9285 & 138.601 & 0 & $\\dots$ \\\\\n",
       "\t14 & Tasmania & Australia & -42.8821 & 147.327 & 0 & $\\dots$ \\\\\n",
       "\t15 & Victoria & Australia & -37.8136 & 144.963 & 0 & $\\dots$ \\\\\n",
       "\t16 & Western Australia & Australia & -31.9505 & 115.861 & 0 & $\\dots$ \\\\\n",
       "\t17 & \\emph{missing} & Austria & 47.5162 & 14.5501 & 0 & $\\dots$ \\\\\n",
       "\t18 & \\emph{missing} & Azerbaijan & 40.1431 & 47.5769 & 0 & $\\dots$ \\\\\n",
       "\t19 & \\emph{missing} & Bahamas & 25.0259 & -78.0359 & 0 & $\\dots$ \\\\\n",
       "\t20 & \\emph{missing} & Bahrain & 26.0275 & 50.55 & 0 & $\\dots$ \\\\\n",
       "\t21 & \\emph{missing} & Bangladesh & 23.685 & 90.3563 & 0 & $\\dots$ \\\\\n",
       "\t22 & \\emph{missing} & Barbados & 13.1939 & -59.5432 & 0 & $\\dots$ \\\\\n",
       "\t23 & \\emph{missing} & Belarus & 53.7098 & 27.9534 & 0 & $\\dots$ \\\\\n",
       "\t24 & \\emph{missing} & Belgium & 50.8333 & 4.46994 & 0 & $\\dots$ \\\\\n",
       "\t25 & \\emph{missing} & Benin & 9.3077 & 2.3158 & 0 & $\\dots$ \\\\\n",
       "\t26 & \\emph{missing} & Bhutan & 27.5142 & 90.4336 & 0 & $\\dots$ \\\\\n",
       "\t27 & \\emph{missing} & Bolivia & -16.2902 & -63.5887 & 0 & $\\dots$ \\\\\n",
       "\t28 & \\emph{missing} & Bosnia and Herzegovina & 43.9159 & 17.6791 & 0 & $\\dots$ \\\\\n",
       "\t29 & \\emph{missing} & Brazil & -14.235 & -51.9253 & 0 & $\\dots$ \\\\\n",
       "\t30 & \\emph{missing} & Brunei & 4.5353 & 114.728 & 0 & $\\dots$ \\\\\n",
       "\t$\\dots$ & $\\dots$ & $\\dots$ & $\\dots$ & $\\dots$ & $\\dots$ &  \\\\\n",
       "\\end{tabular}\n"
      ],
      "text/plain": [
       "266×191 DataFrame. Omitted printing of 188 columns\n",
       "│ Row │ Province/State                   │ Country/Region        │ Lat      │\n",
       "│     │ \u001b[90mUnion{Missing, String}\u001b[39m           │ \u001b[90mString\u001b[39m                │ \u001b[90mFloat64\u001b[39m  │\n",
       "├─────┼──────────────────────────────────┼───────────────────────┼──────────┤\n",
       "│ 1   │ \u001b[90mmissing\u001b[39m                          │ Afghanistan           │ 33.9391  │\n",
       "│ 2   │ \u001b[90mmissing\u001b[39m                          │ Albania               │ 41.1533  │\n",
       "│ 3   │ \u001b[90mmissing\u001b[39m                          │ Algeria               │ 28.0339  │\n",
       "│ 4   │ \u001b[90mmissing\u001b[39m                          │ Andorra               │ 42.5063  │\n",
       "│ 5   │ \u001b[90mmissing\u001b[39m                          │ Angola                │ -11.2027 │\n",
       "│ 6   │ \u001b[90mmissing\u001b[39m                          │ Antigua and Barbuda   │ 17.0608  │\n",
       "│ 7   │ \u001b[90mmissing\u001b[39m                          │ Argentina             │ -38.4161 │\n",
       "│ 8   │ \u001b[90mmissing\u001b[39m                          │ Armenia               │ 40.0691  │\n",
       "│ 9   │ Australian Capital Territory     │ Australia             │ -35.4735 │\n",
       "│ 10  │ New South Wales                  │ Australia             │ -33.8688 │\n",
       "⋮\n",
       "│ 256 │ Bonaire, Sint Eustatius and Saba │ Netherlands           │ 12.1784  │\n",
       "│ 257 │ \u001b[90mmissing\u001b[39m                          │ Malawi                │ -13.2543 │\n",
       "│ 258 │ Falkland Islands (Malvinas)      │ United Kingdom        │ -51.7963 │\n",
       "│ 259 │ Saint Pierre and Miquelon        │ France                │ 46.8852  │\n",
       "│ 260 │ \u001b[90mmissing\u001b[39m                          │ South Sudan           │ 6.877    │\n",
       "│ 261 │ \u001b[90mmissing\u001b[39m                          │ Western Sahara        │ 24.2155  │\n",
       "│ 262 │ \u001b[90mmissing\u001b[39m                          │ Sao Tome and Principe │ 0.1864   │\n",
       "│ 263 │ \u001b[90mmissing\u001b[39m                          │ Yemen                 │ 15.5527  │\n",
       "│ 264 │ \u001b[90mmissing\u001b[39m                          │ Comoros               │ -11.6455 │\n",
       "│ 265 │ \u001b[90mmissing\u001b[39m                          │ Tajikistan            │ 38.861   │\n",
       "│ 266 │ \u001b[90mmissing\u001b[39m                          │ Lesotho               │ -29.61   │"
      ]
     },
     "execution_count": 5,
     "metadata": {},
     "output_type": "execute_result"
    }
   ],
   "source": [
    "CSV.read(\"covid_19_confirmed_global.csv\") #run the function 'read' from the package CSV"
   ]
  },
  {
   "cell_type": "code",
   "execution_count": 6,
   "metadata": {},
   "outputs": [],
   "source": [
    "data = CSV.read(\"covid_19_confirmed_global.csv\"); # semi-colon supresses the display of the output"
   ]
  },
  {
   "cell_type": "code",
   "execution_count": 7,
   "metadata": {},
   "outputs": [
    {
     "data": {
      "text/plain": [
       "DataFrame"
      ]
     },
     "execution_count": 7,
     "metadata": {},
     "output_type": "execute_result"
    }
   ],
   "source": [
    "typeof(data)"
   ]
  },
  {
   "cell_type": "code",
   "execution_count": 8,
   "metadata": {
    "scrolled": false
   },
   "outputs": [
    {
     "data": {
      "text/html": [
       "<table class=\"data-frame\"><thead><tr><th></th><th>Province/State</th><th>Country/Region</th><th>Lat</th><th>Long</th><th>1/22/20</th></tr><tr><th></th><th>String?</th><th>String</th><th>Float64</th><th>Float64</th><th>Int64</th></tr></thead><tbody><p>266 rows × 191 columns (omitted printing of 186 columns)</p><tr><th>1</th><td><em>missing</em></td><td>Afghanistan</td><td>33.9391</td><td>67.71</td><td>0</td></tr><tr><th>2</th><td><em>missing</em></td><td>Albania</td><td>41.1533</td><td>20.1683</td><td>0</td></tr><tr><th>3</th><td><em>missing</em></td><td>Algeria</td><td>28.0339</td><td>1.6596</td><td>0</td></tr><tr><th>4</th><td><em>missing</em></td><td>Andorra</td><td>42.5063</td><td>1.5218</td><td>0</td></tr><tr><th>5</th><td><em>missing</em></td><td>Angola</td><td>-11.2027</td><td>17.8739</td><td>0</td></tr><tr><th>6</th><td><em>missing</em></td><td>Antigua and Barbuda</td><td>17.0608</td><td>-61.7964</td><td>0</td></tr><tr><th>7</th><td><em>missing</em></td><td>Argentina</td><td>-38.4161</td><td>-63.6167</td><td>0</td></tr><tr><th>8</th><td><em>missing</em></td><td>Armenia</td><td>40.0691</td><td>45.0382</td><td>0</td></tr><tr><th>9</th><td>Australian Capital Territory</td><td>Australia</td><td>-35.4735</td><td>149.012</td><td>0</td></tr><tr><th>10</th><td>New South Wales</td><td>Australia</td><td>-33.8688</td><td>151.209</td><td>0</td></tr><tr><th>11</th><td>Northern Territory</td><td>Australia</td><td>-12.4634</td><td>130.846</td><td>0</td></tr><tr><th>12</th><td>Queensland</td><td>Australia</td><td>-27.4698</td><td>153.025</td><td>0</td></tr><tr><th>13</th><td>South Australia</td><td>Australia</td><td>-34.9285</td><td>138.601</td><td>0</td></tr><tr><th>14</th><td>Tasmania</td><td>Australia</td><td>-42.8821</td><td>147.327</td><td>0</td></tr><tr><th>15</th><td>Victoria</td><td>Australia</td><td>-37.8136</td><td>144.963</td><td>0</td></tr><tr><th>16</th><td>Western Australia</td><td>Australia</td><td>-31.9505</td><td>115.861</td><td>0</td></tr><tr><th>17</th><td><em>missing</em></td><td>Austria</td><td>47.5162</td><td>14.5501</td><td>0</td></tr><tr><th>18</th><td><em>missing</em></td><td>Azerbaijan</td><td>40.1431</td><td>47.5769</td><td>0</td></tr><tr><th>19</th><td><em>missing</em></td><td>Bahamas</td><td>25.0259</td><td>-78.0359</td><td>0</td></tr><tr><th>20</th><td><em>missing</em></td><td>Bahrain</td><td>26.0275</td><td>50.55</td><td>0</td></tr><tr><th>21</th><td><em>missing</em></td><td>Bangladesh</td><td>23.685</td><td>90.3563</td><td>0</td></tr><tr><th>22</th><td><em>missing</em></td><td>Barbados</td><td>13.1939</td><td>-59.5432</td><td>0</td></tr><tr><th>23</th><td><em>missing</em></td><td>Belarus</td><td>53.7098</td><td>27.9534</td><td>0</td></tr><tr><th>24</th><td><em>missing</em></td><td>Belgium</td><td>50.8333</td><td>4.46994</td><td>0</td></tr><tr><th>25</th><td><em>missing</em></td><td>Benin</td><td>9.3077</td><td>2.3158</td><td>0</td></tr><tr><th>26</th><td><em>missing</em></td><td>Bhutan</td><td>27.5142</td><td>90.4336</td><td>0</td></tr><tr><th>27</th><td><em>missing</em></td><td>Bolivia</td><td>-16.2902</td><td>-63.5887</td><td>0</td></tr><tr><th>28</th><td><em>missing</em></td><td>Bosnia and Herzegovina</td><td>43.9159</td><td>17.6791</td><td>0</td></tr><tr><th>29</th><td><em>missing</em></td><td>Brazil</td><td>-14.235</td><td>-51.9253</td><td>0</td></tr><tr><th>30</th><td><em>missing</em></td><td>Brunei</td><td>4.5353</td><td>114.728</td><td>0</td></tr><tr><th>&vellip;</th><td>&vellip;</td><td>&vellip;</td><td>&vellip;</td><td>&vellip;</td><td>&vellip;</td></tr></tbody></table>"
      ],
      "text/latex": [
       "\\begin{tabular}{r|cccccc}\n",
       "\t& Province/State & Country/Region & Lat & Long & 1/22/20 & \\\\\n",
       "\t\\hline\n",
       "\t& String? & String & Float64 & Float64 & Int64 & \\\\\n",
       "\t\\hline\n",
       "\t1 & \\emph{missing} & Afghanistan & 33.9391 & 67.71 & 0 & $\\dots$ \\\\\n",
       "\t2 & \\emph{missing} & Albania & 41.1533 & 20.1683 & 0 & $\\dots$ \\\\\n",
       "\t3 & \\emph{missing} & Algeria & 28.0339 & 1.6596 & 0 & $\\dots$ \\\\\n",
       "\t4 & \\emph{missing} & Andorra & 42.5063 & 1.5218 & 0 & $\\dots$ \\\\\n",
       "\t5 & \\emph{missing} & Angola & -11.2027 & 17.8739 & 0 & $\\dots$ \\\\\n",
       "\t6 & \\emph{missing} & Antigua and Barbuda & 17.0608 & -61.7964 & 0 & $\\dots$ \\\\\n",
       "\t7 & \\emph{missing} & Argentina & -38.4161 & -63.6167 & 0 & $\\dots$ \\\\\n",
       "\t8 & \\emph{missing} & Armenia & 40.0691 & 45.0382 & 0 & $\\dots$ \\\\\n",
       "\t9 & Australian Capital Territory & Australia & -35.4735 & 149.012 & 0 & $\\dots$ \\\\\n",
       "\t10 & New South Wales & Australia & -33.8688 & 151.209 & 0 & $\\dots$ \\\\\n",
       "\t11 & Northern Territory & Australia & -12.4634 & 130.846 & 0 & $\\dots$ \\\\\n",
       "\t12 & Queensland & Australia & -27.4698 & 153.025 & 0 & $\\dots$ \\\\\n",
       "\t13 & South Australia & Australia & -34.9285 & 138.601 & 0 & $\\dots$ \\\\\n",
       "\t14 & Tasmania & Australia & -42.8821 & 147.327 & 0 & $\\dots$ \\\\\n",
       "\t15 & Victoria & Australia & -37.8136 & 144.963 & 0 & $\\dots$ \\\\\n",
       "\t16 & Western Australia & Australia & -31.9505 & 115.861 & 0 & $\\dots$ \\\\\n",
       "\t17 & \\emph{missing} & Austria & 47.5162 & 14.5501 & 0 & $\\dots$ \\\\\n",
       "\t18 & \\emph{missing} & Azerbaijan & 40.1431 & 47.5769 & 0 & $\\dots$ \\\\\n",
       "\t19 & \\emph{missing} & Bahamas & 25.0259 & -78.0359 & 0 & $\\dots$ \\\\\n",
       "\t20 & \\emph{missing} & Bahrain & 26.0275 & 50.55 & 0 & $\\dots$ \\\\\n",
       "\t21 & \\emph{missing} & Bangladesh & 23.685 & 90.3563 & 0 & $\\dots$ \\\\\n",
       "\t22 & \\emph{missing} & Barbados & 13.1939 & -59.5432 & 0 & $\\dots$ \\\\\n",
       "\t23 & \\emph{missing} & Belarus & 53.7098 & 27.9534 & 0 & $\\dots$ \\\\\n",
       "\t24 & \\emph{missing} & Belgium & 50.8333 & 4.46994 & 0 & $\\dots$ \\\\\n",
       "\t25 & \\emph{missing} & Benin & 9.3077 & 2.3158 & 0 & $\\dots$ \\\\\n",
       "\t26 & \\emph{missing} & Bhutan & 27.5142 & 90.4336 & 0 & $\\dots$ \\\\\n",
       "\t27 & \\emph{missing} & Bolivia & -16.2902 & -63.5887 & 0 & $\\dots$ \\\\\n",
       "\t28 & \\emph{missing} & Bosnia and Herzegovina & 43.9159 & 17.6791 & 0 & $\\dots$ \\\\\n",
       "\t29 & \\emph{missing} & Brazil & -14.235 & -51.9253 & 0 & $\\dots$ \\\\\n",
       "\t30 & \\emph{missing} & Brunei & 4.5353 & 114.728 & 0 & $\\dots$ \\\\\n",
       "\t$\\dots$ & $\\dots$ & $\\dots$ & $\\dots$ & $\\dots$ & $\\dots$ &  \\\\\n",
       "\\end{tabular}\n"
      ],
      "text/plain": [
       "266×191 DataFrame. Omitted printing of 188 columns\n",
       "│ Row │ Province/State                   │ Country/Region        │ Lat      │\n",
       "│     │ \u001b[90mUnion{Missing, String}\u001b[39m           │ \u001b[90mString\u001b[39m                │ \u001b[90mFloat64\u001b[39m  │\n",
       "├─────┼──────────────────────────────────┼───────────────────────┼──────────┤\n",
       "│ 1   │ \u001b[90mmissing\u001b[39m                          │ Afghanistan           │ 33.9391  │\n",
       "│ 2   │ \u001b[90mmissing\u001b[39m                          │ Albania               │ 41.1533  │\n",
       "│ 3   │ \u001b[90mmissing\u001b[39m                          │ Algeria               │ 28.0339  │\n",
       "│ 4   │ \u001b[90mmissing\u001b[39m                          │ Andorra               │ 42.5063  │\n",
       "│ 5   │ \u001b[90mmissing\u001b[39m                          │ Angola                │ -11.2027 │\n",
       "│ 6   │ \u001b[90mmissing\u001b[39m                          │ Antigua and Barbuda   │ 17.0608  │\n",
       "│ 7   │ \u001b[90mmissing\u001b[39m                          │ Argentina             │ -38.4161 │\n",
       "│ 8   │ \u001b[90mmissing\u001b[39m                          │ Armenia               │ 40.0691  │\n",
       "│ 9   │ Australian Capital Territory     │ Australia             │ -35.4735 │\n",
       "│ 10  │ New South Wales                  │ Australia             │ -33.8688 │\n",
       "⋮\n",
       "│ 256 │ Bonaire, Sint Eustatius and Saba │ Netherlands           │ 12.1784  │\n",
       "│ 257 │ \u001b[90mmissing\u001b[39m                          │ Malawi                │ -13.2543 │\n",
       "│ 258 │ Falkland Islands (Malvinas)      │ United Kingdom        │ -51.7963 │\n",
       "│ 259 │ Saint Pierre and Miquelon        │ France                │ 46.8852  │\n",
       "│ 260 │ \u001b[90mmissing\u001b[39m                          │ South Sudan           │ 6.877    │\n",
       "│ 261 │ \u001b[90mmissing\u001b[39m                          │ Western Sahara        │ 24.2155  │\n",
       "│ 262 │ \u001b[90mmissing\u001b[39m                          │ Sao Tome and Principe │ 0.1864   │\n",
       "│ 263 │ \u001b[90mmissing\u001b[39m                          │ Yemen                 │ 15.5527  │\n",
       "│ 264 │ \u001b[90mmissing\u001b[39m                          │ Comoros               │ -11.6455 │\n",
       "│ 265 │ \u001b[90mmissing\u001b[39m                          │ Tajikistan            │ 38.861   │\n",
       "│ 266 │ \u001b[90mmissing\u001b[39m                          │ Lesotho               │ -29.61   │"
      ]
     },
     "execution_count": 8,
     "metadata": {},
     "output_type": "execute_result"
    }
   ],
   "source": [
    "data"
   ]
  },
  {
   "cell_type": "code",
   "execution_count": 9,
   "metadata": {},
   "outputs": [
    {
     "data": {
      "text/html": [
       "<table class=\"data-frame\"><thead><tr><th></th><th>province</th><th>country</th><th>Lat</th><th>Long</th><th>1/22/20</th></tr><tr><th></th><th>String?</th><th>String</th><th>Float64</th><th>Float64</th><th>Int64</th></tr></thead><tbody><p>266 rows × 191 columns (omitted printing of 186 columns)</p><tr><th>1</th><td><em>missing</em></td><td>Afghanistan</td><td>33.9391</td><td>67.71</td><td>0</td></tr><tr><th>2</th><td><em>missing</em></td><td>Albania</td><td>41.1533</td><td>20.1683</td><td>0</td></tr><tr><th>3</th><td><em>missing</em></td><td>Algeria</td><td>28.0339</td><td>1.6596</td><td>0</td></tr><tr><th>4</th><td><em>missing</em></td><td>Andorra</td><td>42.5063</td><td>1.5218</td><td>0</td></tr><tr><th>5</th><td><em>missing</em></td><td>Angola</td><td>-11.2027</td><td>17.8739</td><td>0</td></tr><tr><th>6</th><td><em>missing</em></td><td>Antigua and Barbuda</td><td>17.0608</td><td>-61.7964</td><td>0</td></tr><tr><th>7</th><td><em>missing</em></td><td>Argentina</td><td>-38.4161</td><td>-63.6167</td><td>0</td></tr><tr><th>8</th><td><em>missing</em></td><td>Armenia</td><td>40.0691</td><td>45.0382</td><td>0</td></tr><tr><th>9</th><td>Australian Capital Territory</td><td>Australia</td><td>-35.4735</td><td>149.012</td><td>0</td></tr><tr><th>10</th><td>New South Wales</td><td>Australia</td><td>-33.8688</td><td>151.209</td><td>0</td></tr><tr><th>11</th><td>Northern Territory</td><td>Australia</td><td>-12.4634</td><td>130.846</td><td>0</td></tr><tr><th>12</th><td>Queensland</td><td>Australia</td><td>-27.4698</td><td>153.025</td><td>0</td></tr><tr><th>13</th><td>South Australia</td><td>Australia</td><td>-34.9285</td><td>138.601</td><td>0</td></tr><tr><th>14</th><td>Tasmania</td><td>Australia</td><td>-42.8821</td><td>147.327</td><td>0</td></tr><tr><th>15</th><td>Victoria</td><td>Australia</td><td>-37.8136</td><td>144.963</td><td>0</td></tr><tr><th>16</th><td>Western Australia</td><td>Australia</td><td>-31.9505</td><td>115.861</td><td>0</td></tr><tr><th>17</th><td><em>missing</em></td><td>Austria</td><td>47.5162</td><td>14.5501</td><td>0</td></tr><tr><th>18</th><td><em>missing</em></td><td>Azerbaijan</td><td>40.1431</td><td>47.5769</td><td>0</td></tr><tr><th>19</th><td><em>missing</em></td><td>Bahamas</td><td>25.0259</td><td>-78.0359</td><td>0</td></tr><tr><th>20</th><td><em>missing</em></td><td>Bahrain</td><td>26.0275</td><td>50.55</td><td>0</td></tr><tr><th>21</th><td><em>missing</em></td><td>Bangladesh</td><td>23.685</td><td>90.3563</td><td>0</td></tr><tr><th>22</th><td><em>missing</em></td><td>Barbados</td><td>13.1939</td><td>-59.5432</td><td>0</td></tr><tr><th>23</th><td><em>missing</em></td><td>Belarus</td><td>53.7098</td><td>27.9534</td><td>0</td></tr><tr><th>24</th><td><em>missing</em></td><td>Belgium</td><td>50.8333</td><td>4.46994</td><td>0</td></tr><tr><th>25</th><td><em>missing</em></td><td>Benin</td><td>9.3077</td><td>2.3158</td><td>0</td></tr><tr><th>26</th><td><em>missing</em></td><td>Bhutan</td><td>27.5142</td><td>90.4336</td><td>0</td></tr><tr><th>27</th><td><em>missing</em></td><td>Bolivia</td><td>-16.2902</td><td>-63.5887</td><td>0</td></tr><tr><th>28</th><td><em>missing</em></td><td>Bosnia and Herzegovina</td><td>43.9159</td><td>17.6791</td><td>0</td></tr><tr><th>29</th><td><em>missing</em></td><td>Brazil</td><td>-14.235</td><td>-51.9253</td><td>0</td></tr><tr><th>30</th><td><em>missing</em></td><td>Brunei</td><td>4.5353</td><td>114.728</td><td>0</td></tr><tr><th>&vellip;</th><td>&vellip;</td><td>&vellip;</td><td>&vellip;</td><td>&vellip;</td><td>&vellip;</td></tr></tbody></table>"
      ],
      "text/latex": [
       "\\begin{tabular}{r|cccccc}\n",
       "\t& province & country & Lat & Long & 1/22/20 & \\\\\n",
       "\t\\hline\n",
       "\t& String? & String & Float64 & Float64 & Int64 & \\\\\n",
       "\t\\hline\n",
       "\t1 & \\emph{missing} & Afghanistan & 33.9391 & 67.71 & 0 & $\\dots$ \\\\\n",
       "\t2 & \\emph{missing} & Albania & 41.1533 & 20.1683 & 0 & $\\dots$ \\\\\n",
       "\t3 & \\emph{missing} & Algeria & 28.0339 & 1.6596 & 0 & $\\dots$ \\\\\n",
       "\t4 & \\emph{missing} & Andorra & 42.5063 & 1.5218 & 0 & $\\dots$ \\\\\n",
       "\t5 & \\emph{missing} & Angola & -11.2027 & 17.8739 & 0 & $\\dots$ \\\\\n",
       "\t6 & \\emph{missing} & Antigua and Barbuda & 17.0608 & -61.7964 & 0 & $\\dots$ \\\\\n",
       "\t7 & \\emph{missing} & Argentina & -38.4161 & -63.6167 & 0 & $\\dots$ \\\\\n",
       "\t8 & \\emph{missing} & Armenia & 40.0691 & 45.0382 & 0 & $\\dots$ \\\\\n",
       "\t9 & Australian Capital Territory & Australia & -35.4735 & 149.012 & 0 & $\\dots$ \\\\\n",
       "\t10 & New South Wales & Australia & -33.8688 & 151.209 & 0 & $\\dots$ \\\\\n",
       "\t11 & Northern Territory & Australia & -12.4634 & 130.846 & 0 & $\\dots$ \\\\\n",
       "\t12 & Queensland & Australia & -27.4698 & 153.025 & 0 & $\\dots$ \\\\\n",
       "\t13 & South Australia & Australia & -34.9285 & 138.601 & 0 & $\\dots$ \\\\\n",
       "\t14 & Tasmania & Australia & -42.8821 & 147.327 & 0 & $\\dots$ \\\\\n",
       "\t15 & Victoria & Australia & -37.8136 & 144.963 & 0 & $\\dots$ \\\\\n",
       "\t16 & Western Australia & Australia & -31.9505 & 115.861 & 0 & $\\dots$ \\\\\n",
       "\t17 & \\emph{missing} & Austria & 47.5162 & 14.5501 & 0 & $\\dots$ \\\\\n",
       "\t18 & \\emph{missing} & Azerbaijan & 40.1431 & 47.5769 & 0 & $\\dots$ \\\\\n",
       "\t19 & \\emph{missing} & Bahamas & 25.0259 & -78.0359 & 0 & $\\dots$ \\\\\n",
       "\t20 & \\emph{missing} & Bahrain & 26.0275 & 50.55 & 0 & $\\dots$ \\\\\n",
       "\t21 & \\emph{missing} & Bangladesh & 23.685 & 90.3563 & 0 & $\\dots$ \\\\\n",
       "\t22 & \\emph{missing} & Barbados & 13.1939 & -59.5432 & 0 & $\\dots$ \\\\\n",
       "\t23 & \\emph{missing} & Belarus & 53.7098 & 27.9534 & 0 & $\\dots$ \\\\\n",
       "\t24 & \\emph{missing} & Belgium & 50.8333 & 4.46994 & 0 & $\\dots$ \\\\\n",
       "\t25 & \\emph{missing} & Benin & 9.3077 & 2.3158 & 0 & $\\dots$ \\\\\n",
       "\t26 & \\emph{missing} & Bhutan & 27.5142 & 90.4336 & 0 & $\\dots$ \\\\\n",
       "\t27 & \\emph{missing} & Bolivia & -16.2902 & -63.5887 & 0 & $\\dots$ \\\\\n",
       "\t28 & \\emph{missing} & Bosnia and Herzegovina & 43.9159 & 17.6791 & 0 & $\\dots$ \\\\\n",
       "\t29 & \\emph{missing} & Brazil & -14.235 & -51.9253 & 0 & $\\dots$ \\\\\n",
       "\t30 & \\emph{missing} & Brunei & 4.5353 & 114.728 & 0 & $\\dots$ \\\\\n",
       "\t$\\dots$ & $\\dots$ & $\\dots$ & $\\dots$ & $\\dots$ & $\\dots$ &  \\\\\n",
       "\\end{tabular}\n"
      ],
      "text/plain": [
       "266×191 DataFrame. Omitted printing of 188 columns\n",
       "│ Row │ province                         │ country               │ Lat      │\n",
       "│     │ \u001b[90mUnion{Missing, String}\u001b[39m           │ \u001b[90mString\u001b[39m                │ \u001b[90mFloat64\u001b[39m  │\n",
       "├─────┼──────────────────────────────────┼───────────────────────┼──────────┤\n",
       "│ 1   │ \u001b[90mmissing\u001b[39m                          │ Afghanistan           │ 33.9391  │\n",
       "│ 2   │ \u001b[90mmissing\u001b[39m                          │ Albania               │ 41.1533  │\n",
       "│ 3   │ \u001b[90mmissing\u001b[39m                          │ Algeria               │ 28.0339  │\n",
       "│ 4   │ \u001b[90mmissing\u001b[39m                          │ Andorra               │ 42.5063  │\n",
       "│ 5   │ \u001b[90mmissing\u001b[39m                          │ Angola                │ -11.2027 │\n",
       "│ 6   │ \u001b[90mmissing\u001b[39m                          │ Antigua and Barbuda   │ 17.0608  │\n",
       "│ 7   │ \u001b[90mmissing\u001b[39m                          │ Argentina             │ -38.4161 │\n",
       "│ 8   │ \u001b[90mmissing\u001b[39m                          │ Armenia               │ 40.0691  │\n",
       "│ 9   │ Australian Capital Territory     │ Australia             │ -35.4735 │\n",
       "│ 10  │ New South Wales                  │ Australia             │ -33.8688 │\n",
       "⋮\n",
       "│ 256 │ Bonaire, Sint Eustatius and Saba │ Netherlands           │ 12.1784  │\n",
       "│ 257 │ \u001b[90mmissing\u001b[39m                          │ Malawi                │ -13.2543 │\n",
       "│ 258 │ Falkland Islands (Malvinas)      │ United Kingdom        │ -51.7963 │\n",
       "│ 259 │ Saint Pierre and Miquelon        │ France                │ 46.8852  │\n",
       "│ 260 │ \u001b[90mmissing\u001b[39m                          │ South Sudan           │ 6.877    │\n",
       "│ 261 │ \u001b[90mmissing\u001b[39m                          │ Western Sahara        │ 24.2155  │\n",
       "│ 262 │ \u001b[90mmissing\u001b[39m                          │ Sao Tome and Principe │ 0.1864   │\n",
       "│ 263 │ \u001b[90mmissing\u001b[39m                          │ Yemen                 │ 15.5527  │\n",
       "│ 264 │ \u001b[90mmissing\u001b[39m                          │ Comoros               │ -11.6455 │\n",
       "│ 265 │ \u001b[90mmissing\u001b[39m                          │ Tajikistan            │ 38.861   │\n",
       "│ 266 │ \u001b[90mmissing\u001b[39m                          │ Lesotho               │ -29.61   │"
      ]
     },
     "execution_count": 9,
     "metadata": {},
     "output_type": "execute_result"
    }
   ],
   "source": [
    "datacopy = rename!(data, 1 => \"province\", 2 => \"country\") \n",
    "# !, bang, is a convention: function that \"modifies\" its argument in place"
   ]
  },
  {
   "cell_type": "code",
   "execution_count": 10,
   "metadata": {},
   "outputs": [
    {
     "data": {
      "text/html": [
       "<table class=\"data-frame\"><thead><tr><th></th><th>province</th><th>country</th><th>Lat</th><th>Long</th><th>1/22/20</th></tr><tr><th></th><th>String?</th><th>String</th><th>Float64</th><th>Float64</th><th>Int64</th></tr></thead><tbody><p>266 rows × 191 columns (omitted printing of 186 columns)</p><tr><th>1</th><td><em>missing</em></td><td>Afghanistan</td><td>33.9391</td><td>67.71</td><td>0</td></tr><tr><th>2</th><td><em>missing</em></td><td>Albania</td><td>41.1533</td><td>20.1683</td><td>0</td></tr><tr><th>3</th><td><em>missing</em></td><td>Algeria</td><td>28.0339</td><td>1.6596</td><td>0</td></tr><tr><th>4</th><td><em>missing</em></td><td>Andorra</td><td>42.5063</td><td>1.5218</td><td>0</td></tr><tr><th>5</th><td><em>missing</em></td><td>Angola</td><td>-11.2027</td><td>17.8739</td><td>0</td></tr><tr><th>6</th><td><em>missing</em></td><td>Antigua and Barbuda</td><td>17.0608</td><td>-61.7964</td><td>0</td></tr><tr><th>7</th><td><em>missing</em></td><td>Argentina</td><td>-38.4161</td><td>-63.6167</td><td>0</td></tr><tr><th>8</th><td><em>missing</em></td><td>Armenia</td><td>40.0691</td><td>45.0382</td><td>0</td></tr><tr><th>9</th><td>Australian Capital Territory</td><td>Australia</td><td>-35.4735</td><td>149.012</td><td>0</td></tr><tr><th>10</th><td>New South Wales</td><td>Australia</td><td>-33.8688</td><td>151.209</td><td>0</td></tr><tr><th>11</th><td>Northern Territory</td><td>Australia</td><td>-12.4634</td><td>130.846</td><td>0</td></tr><tr><th>12</th><td>Queensland</td><td>Australia</td><td>-27.4698</td><td>153.025</td><td>0</td></tr><tr><th>13</th><td>South Australia</td><td>Australia</td><td>-34.9285</td><td>138.601</td><td>0</td></tr><tr><th>14</th><td>Tasmania</td><td>Australia</td><td>-42.8821</td><td>147.327</td><td>0</td></tr><tr><th>15</th><td>Victoria</td><td>Australia</td><td>-37.8136</td><td>144.963</td><td>0</td></tr><tr><th>16</th><td>Western Australia</td><td>Australia</td><td>-31.9505</td><td>115.861</td><td>0</td></tr><tr><th>17</th><td><em>missing</em></td><td>Austria</td><td>47.5162</td><td>14.5501</td><td>0</td></tr><tr><th>18</th><td><em>missing</em></td><td>Azerbaijan</td><td>40.1431</td><td>47.5769</td><td>0</td></tr><tr><th>19</th><td><em>missing</em></td><td>Bahamas</td><td>25.0259</td><td>-78.0359</td><td>0</td></tr><tr><th>20</th><td><em>missing</em></td><td>Bahrain</td><td>26.0275</td><td>50.55</td><td>0</td></tr><tr><th>21</th><td><em>missing</em></td><td>Bangladesh</td><td>23.685</td><td>90.3563</td><td>0</td></tr><tr><th>22</th><td><em>missing</em></td><td>Barbados</td><td>13.1939</td><td>-59.5432</td><td>0</td></tr><tr><th>23</th><td><em>missing</em></td><td>Belarus</td><td>53.7098</td><td>27.9534</td><td>0</td></tr><tr><th>24</th><td><em>missing</em></td><td>Belgium</td><td>50.8333</td><td>4.46994</td><td>0</td></tr><tr><th>25</th><td><em>missing</em></td><td>Benin</td><td>9.3077</td><td>2.3158</td><td>0</td></tr><tr><th>26</th><td><em>missing</em></td><td>Bhutan</td><td>27.5142</td><td>90.4336</td><td>0</td></tr><tr><th>27</th><td><em>missing</em></td><td>Bolivia</td><td>-16.2902</td><td>-63.5887</td><td>0</td></tr><tr><th>28</th><td><em>missing</em></td><td>Bosnia and Herzegovina</td><td>43.9159</td><td>17.6791</td><td>0</td></tr><tr><th>29</th><td><em>missing</em></td><td>Brazil</td><td>-14.235</td><td>-51.9253</td><td>0</td></tr><tr><th>30</th><td><em>missing</em></td><td>Brunei</td><td>4.5353</td><td>114.728</td><td>0</td></tr><tr><th>&vellip;</th><td>&vellip;</td><td>&vellip;</td><td>&vellip;</td><td>&vellip;</td><td>&vellip;</td></tr></tbody></table>"
      ],
      "text/latex": [
       "\\begin{tabular}{r|cccccc}\n",
       "\t& province & country & Lat & Long & 1/22/20 & \\\\\n",
       "\t\\hline\n",
       "\t& String? & String & Float64 & Float64 & Int64 & \\\\\n",
       "\t\\hline\n",
       "\t1 & \\emph{missing} & Afghanistan & 33.9391 & 67.71 & 0 & $\\dots$ \\\\\n",
       "\t2 & \\emph{missing} & Albania & 41.1533 & 20.1683 & 0 & $\\dots$ \\\\\n",
       "\t3 & \\emph{missing} & Algeria & 28.0339 & 1.6596 & 0 & $\\dots$ \\\\\n",
       "\t4 & \\emph{missing} & Andorra & 42.5063 & 1.5218 & 0 & $\\dots$ \\\\\n",
       "\t5 & \\emph{missing} & Angola & -11.2027 & 17.8739 & 0 & $\\dots$ \\\\\n",
       "\t6 & \\emph{missing} & Antigua and Barbuda & 17.0608 & -61.7964 & 0 & $\\dots$ \\\\\n",
       "\t7 & \\emph{missing} & Argentina & -38.4161 & -63.6167 & 0 & $\\dots$ \\\\\n",
       "\t8 & \\emph{missing} & Armenia & 40.0691 & 45.0382 & 0 & $\\dots$ \\\\\n",
       "\t9 & Australian Capital Territory & Australia & -35.4735 & 149.012 & 0 & $\\dots$ \\\\\n",
       "\t10 & New South Wales & Australia & -33.8688 & 151.209 & 0 & $\\dots$ \\\\\n",
       "\t11 & Northern Territory & Australia & -12.4634 & 130.846 & 0 & $\\dots$ \\\\\n",
       "\t12 & Queensland & Australia & -27.4698 & 153.025 & 0 & $\\dots$ \\\\\n",
       "\t13 & South Australia & Australia & -34.9285 & 138.601 & 0 & $\\dots$ \\\\\n",
       "\t14 & Tasmania & Australia & -42.8821 & 147.327 & 0 & $\\dots$ \\\\\n",
       "\t15 & Victoria & Australia & -37.8136 & 144.963 & 0 & $\\dots$ \\\\\n",
       "\t16 & Western Australia & Australia & -31.9505 & 115.861 & 0 & $\\dots$ \\\\\n",
       "\t17 & \\emph{missing} & Austria & 47.5162 & 14.5501 & 0 & $\\dots$ \\\\\n",
       "\t18 & \\emph{missing} & Azerbaijan & 40.1431 & 47.5769 & 0 & $\\dots$ \\\\\n",
       "\t19 & \\emph{missing} & Bahamas & 25.0259 & -78.0359 & 0 & $\\dots$ \\\\\n",
       "\t20 & \\emph{missing} & Bahrain & 26.0275 & 50.55 & 0 & $\\dots$ \\\\\n",
       "\t21 & \\emph{missing} & Bangladesh & 23.685 & 90.3563 & 0 & $\\dots$ \\\\\n",
       "\t22 & \\emph{missing} & Barbados & 13.1939 & -59.5432 & 0 & $\\dots$ \\\\\n",
       "\t23 & \\emph{missing} & Belarus & 53.7098 & 27.9534 & 0 & $\\dots$ \\\\\n",
       "\t24 & \\emph{missing} & Belgium & 50.8333 & 4.46994 & 0 & $\\dots$ \\\\\n",
       "\t25 & \\emph{missing} & Benin & 9.3077 & 2.3158 & 0 & $\\dots$ \\\\\n",
       "\t26 & \\emph{missing} & Bhutan & 27.5142 & 90.4336 & 0 & $\\dots$ \\\\\n",
       "\t27 & \\emph{missing} & Bolivia & -16.2902 & -63.5887 & 0 & $\\dots$ \\\\\n",
       "\t28 & \\emph{missing} & Bosnia and Herzegovina & 43.9159 & 17.6791 & 0 & $\\dots$ \\\\\n",
       "\t29 & \\emph{missing} & Brazil & -14.235 & -51.9253 & 0 & $\\dots$ \\\\\n",
       "\t30 & \\emph{missing} & Brunei & 4.5353 & 114.728 & 0 & $\\dots$ \\\\\n",
       "\t$\\dots$ & $\\dots$ & $\\dots$ & $\\dots$ & $\\dots$ & $\\dots$ &  \\\\\n",
       "\\end{tabular}\n"
      ],
      "text/plain": [
       "266×191 DataFrame. Omitted printing of 188 columns\n",
       "│ Row │ province                         │ country               │ Lat      │\n",
       "│     │ \u001b[90mUnion{Missing, String}\u001b[39m           │ \u001b[90mString\u001b[39m                │ \u001b[90mFloat64\u001b[39m  │\n",
       "├─────┼──────────────────────────────────┼───────────────────────┼──────────┤\n",
       "│ 1   │ \u001b[90mmissing\u001b[39m                          │ Afghanistan           │ 33.9391  │\n",
       "│ 2   │ \u001b[90mmissing\u001b[39m                          │ Albania               │ 41.1533  │\n",
       "│ 3   │ \u001b[90mmissing\u001b[39m                          │ Algeria               │ 28.0339  │\n",
       "│ 4   │ \u001b[90mmissing\u001b[39m                          │ Andorra               │ 42.5063  │\n",
       "│ 5   │ \u001b[90mmissing\u001b[39m                          │ Angola                │ -11.2027 │\n",
       "│ 6   │ \u001b[90mmissing\u001b[39m                          │ Antigua and Barbuda   │ 17.0608  │\n",
       "│ 7   │ \u001b[90mmissing\u001b[39m                          │ Argentina             │ -38.4161 │\n",
       "│ 8   │ \u001b[90mmissing\u001b[39m                          │ Armenia               │ 40.0691  │\n",
       "│ 9   │ Australian Capital Territory     │ Australia             │ -35.4735 │\n",
       "│ 10  │ New South Wales                  │ Australia             │ -33.8688 │\n",
       "⋮\n",
       "│ 256 │ Bonaire, Sint Eustatius and Saba │ Netherlands           │ 12.1784  │\n",
       "│ 257 │ \u001b[90mmissing\u001b[39m                          │ Malawi                │ -13.2543 │\n",
       "│ 258 │ Falkland Islands (Malvinas)      │ United Kingdom        │ -51.7963 │\n",
       "│ 259 │ Saint Pierre and Miquelon        │ France                │ 46.8852  │\n",
       "│ 260 │ \u001b[90mmissing\u001b[39m                          │ South Sudan           │ 6.877    │\n",
       "│ 261 │ \u001b[90mmissing\u001b[39m                          │ Western Sahara        │ 24.2155  │\n",
       "│ 262 │ \u001b[90mmissing\u001b[39m                          │ Sao Tome and Principe │ 0.1864   │\n",
       "│ 263 │ \u001b[90mmissing\u001b[39m                          │ Yemen                 │ 15.5527  │\n",
       "│ 264 │ \u001b[90mmissing\u001b[39m                          │ Comoros               │ -11.6455 │\n",
       "│ 265 │ \u001b[90mmissing\u001b[39m                          │ Tajikistan            │ 38.861   │\n",
       "│ 266 │ \u001b[90mmissing\u001b[39m                          │ Lesotho               │ -29.61   │"
      ]
     },
     "execution_count": 10,
     "metadata": {},
     "output_type": "execute_result"
    }
   ],
   "source": [
    "datacopy"
   ]
  },
  {
   "cell_type": "markdown",
   "metadata": {},
   "source": [
    "Whe are using Interact here with @manipulate for testing purposes. Feel free to play around with it"
   ]
  },
  {
   "cell_type": "code",
   "execution_count": 11,
   "metadata": {
    "scrolled": true
   },
   "outputs": [
    {
     "data": {
      "application/vnd.webio.node+json": {
       "children": [
        {
         "children": [
          {
           "children": [
            {
             "children": [
              {
               "children": [
                {
                 "children": [
                  "i"
                 ],
                 "instanceArgs": {
                  "namespace": "html",
                  "tag": "label"
                 },
                 "nodeType": "DOM",
                 "props": {
                  "className": "interact ",
                  "style": {
                   "padding": "5px 10px 0px 10px"
                  }
                 },
                 "type": "node"
                }
               ],
               "instanceArgs": {
                "namespace": "html",
                "tag": "div"
               },
               "nodeType": "DOM",
               "props": {
                "className": "interact-flex-row-left"
               },
               "type": "node"
              },
              {
               "children": [
                {
                 "children": [],
                 "instanceArgs": {
                  "namespace": "html",
                  "tag": "input"
                 },
                 "nodeType": "DOM",
                 "props": {
                  "attributes": {
                   "data-bind": "numericValue: index, valueUpdate: 'input', event: {change: function (){this.changes(this.changes()+1)}}",
                   "orient": "horizontal",
                   "type": "range"
                  },
                  "className": "slider slider is-fullwidth",
                  "max": 10,
                  "min": 1,
                  "step": 1,
                  "style": {}
                 },
                 "type": "node"
                }
               ],
               "instanceArgs": {
                "namespace": "html",
                "tag": "div"
               },
               "nodeType": "DOM",
               "props": {
                "className": "interact-flex-row-center"
               },
               "type": "node"
              },
              {
               "children": [
                {
                 "children": [],
                 "instanceArgs": {
                  "namespace": "html",
                  "tag": "p"
                 },
                 "nodeType": "DOM",
                 "props": {
                  "attributes": {
                   "data-bind": "text: formatted_val"
                  }
                 },
                 "type": "node"
                }
               ],
               "instanceArgs": {
                "namespace": "html",
                "tag": "div"
               },
               "nodeType": "DOM",
               "props": {
                "className": "interact-flex-row-right"
               },
               "type": "node"
              }
             ],
             "instanceArgs": {
              "namespace": "html",
              "tag": "div"
             },
             "nodeType": "DOM",
             "props": {
              "className": "interact-flex-row interact-widget"
             },
             "type": "node"
            }
           ],
           "instanceArgs": {
            "handlers": {
             "changes": [
              "(function (val){return (val!=this.model[\"changes\"]()) ? (this.valueFromJulia[\"changes\"]=true, this.model[\"changes\"](val)) : undefined})"
             ],
             "index": [
              "(function (val){return (val!=this.model[\"index\"]()) ? (this.valueFromJulia[\"index\"]=true, this.model[\"index\"](val)) : undefined})"
             ]
            },
            "id": "4274002538675139284",
            "imports": {
             "data": [
              {
               "name": "knockout",
               "type": "js",
               "url": "/assetserver/b11976f3d16930ca52e686fb903e8f6e21aa0a27-knockout.js"
              },
              {
               "name": "knockout_punches",
               "type": "js",
               "url": "/assetserver/35ffd0fd0a8b9f353ea026fe8e7670a036aacb66-knockout_punches.js"
              },
              {
               "name": null,
               "type": "js",
               "url": "/assetserver/d7dc43cd8e032859830dbaf2c129ee643dddc5b8-all.js"
              },
              {
               "name": null,
               "type": "css",
               "url": "/assetserver/0c2243c1fec513e3455ae87a7faf286dcb3855bb-style.css"
              },
              {
               "name": null,
               "type": "css",
               "url": "/assetserver/d14c3e99eaf8f69e0990cd6fca3cdbb2b0ac8108-bulma_confined.min.css"
              }
             ],
             "type": "async_block"
            },
            "mount_callbacks": [
             "function () {\n    var handler = (function (ko, koPunches) {\n    ko.punches.enableAll();\n    ko.bindingHandlers.numericValue = {\n        init: function(element, valueAccessor, allBindings, data, context) {\n            var stringified = ko.observable(ko.unwrap(valueAccessor()));\n            stringified.subscribe(function(value) {\n                var val = parseFloat(value);\n                if (!isNaN(val)) {\n                    valueAccessor()(val);\n                }\n            });\n            valueAccessor().subscribe(function(value) {\n                var str = JSON.stringify(value);\n                if ((str == \"0\") && ([\"-0\", \"-0.\"].indexOf(stringified()) >= 0))\n                     return;\n                 if ([\"null\", \"\"].indexOf(str) >= 0)\n                     return;\n                stringified(str);\n            });\n            ko.applyBindingsToNode(\n                element,\n                {\n                    value: stringified,\n                    valueUpdate: allBindings.get('valueUpdate'),\n                },\n                context,\n            );\n        }\n    };\n    var json_data = {\"formatted_vals\":[\"1\",\"2\",\"3\",\"4\",\"5\",\"6\",\"7\",\"8\",\"9\",\"10\"],\"changes\":WebIO.getval({\"name\":\"changes\",\"scope\":\"4274002538675139284\",\"id\":\"17646029977189317996\",\"type\":\"observable\"}),\"index\":WebIO.getval({\"name\":\"index\",\"scope\":\"4274002538675139284\",\"id\":\"8324121054679619061\",\"type\":\"observable\"})};\n    var self = this;\n    function AppViewModel() {\n        for (var key in json_data) {\n            var el = json_data[key];\n            this[key] = Array.isArray(el) ? ko.observableArray(el) : ko.observable(el);\n        }\n        \n        [this[\"formatted_val\"]=ko.computed(    function(){\n        return this.formatted_vals()[parseInt(this.index())-(1)];\n    }\n,this)]\n        [this[\"changes\"].subscribe((function (val){!(this.valueFromJulia[\"changes\"]) ? (WebIO.setval({\"name\":\"changes\",\"scope\":\"4274002538675139284\",\"id\":\"17646029977189317996\",\"type\":\"observable\"},val)) : undefined; return this.valueFromJulia[\"changes\"]=false}),self),this[\"index\"].subscribe((function (val){!(this.valueFromJulia[\"index\"]) ? (WebIO.setval({\"name\":\"index\",\"scope\":\"4274002538675139284\",\"id\":\"8324121054679619061\",\"type\":\"observable\"},val)) : undefined; return this.valueFromJulia[\"index\"]=false}),self)]\n        \n    }\n    self.model = new AppViewModel();\n    self.valueFromJulia = {};\n    for (var key in json_data) {\n        self.valueFromJulia[key] = false;\n    }\n    ko.applyBindings(self.model, self.dom);\n}\n);\n    (WebIO.importBlock({\"data\":[{\"name\":\"knockout\",\"type\":\"js\",\"url\":\"/assetserver/b11976f3d16930ca52e686fb903e8f6e21aa0a27-knockout.js\"},{\"name\":\"knockout_punches\",\"type\":\"js\",\"url\":\"/assetserver/35ffd0fd0a8b9f353ea026fe8e7670a036aacb66-knockout_punches.js\"}],\"type\":\"async_block\"})).then((imports) => handler.apply(this, imports));\n}\n"
            ],
            "observables": {
             "changes": {
              "id": "17646029977189317996",
              "sync": false,
              "value": 0
             },
             "index": {
              "id": "8324121054679619061",
              "sync": true,
              "value": 5
             }
            },
            "systemjs_options": null
           },
           "nodeType": "Scope",
           "props": {},
           "type": "node"
          }
         ],
         "instanceArgs": {
          "namespace": "html",
          "tag": "div"
         },
         "nodeType": "DOM",
         "props": {
          "className": "field interact-widget"
         },
         "type": "node"
        },
        {
         "children": [
          {
           "children": [],
           "instanceArgs": {
            "id": "6297525926169832642",
            "name": "obs-node"
           },
           "nodeType": "ObservableNode",
           "props": {},
           "type": "node"
          }
         ],
         "instanceArgs": {
          "handlers": {},
          "id": "1662968213783414497",
          "imports": {
           "data": [],
           "type": "async_block"
          },
          "mount_callbacks": [],
          "observables": {
           "obs-node": {
            "id": "6297525926169832642",
            "sync": false,
            "value": {
             "children": [
              {
               "children": [],
               "instanceArgs": {
                "namespace": "html",
                "tag": "div"
               },
               "nodeType": "DOM",
               "props": {
                "setInnerHtml": "5"
               },
               "type": "node"
              }
             ],
             "instanceArgs": {
              "namespace": "html",
              "tag": "div"
             },
             "nodeType": "DOM",
             "props": {
              "className": "interact-flex-row interact-widget"
             },
             "type": "node"
            }
           }
          },
          "systemjs_options": null
         },
         "nodeType": "Scope",
         "props": {},
         "type": "node"
        }
       ],
       "instanceArgs": {
        "namespace": "html",
        "tag": "div"
       },
       "nodeType": "DOM",
       "props": {},
       "type": "node"
      },
      "text/html": [
       "<div\n",
       "    class=\"webio-mountpoint\"\n",
       "    data-webio-mountpoint=\"422847183849562\"\n",
       ">\n",
       "    <script>\n",
       "    if (window.require && require.defined && require.defined(\"nbextensions/webio-jupyter-notebook\")) {\n",
       "        console.log(\"Jupyter WebIO extension detected, not mounting.\");\n",
       "    } else if (window.WebIO) {\n",
       "        WebIO.mount(\n",
       "            document.querySelector('[data-webio-mountpoint=\"422847183849562\"]'),\n",
       "            {\"props\":{},\"nodeType\":\"DOM\",\"type\":\"node\",\"instanceArgs\":{\"namespace\":\"html\",\"tag\":\"div\"},\"children\":[{\"props\":{\"className\":\"field interact-widget\"},\"nodeType\":\"DOM\",\"type\":\"node\",\"instanceArgs\":{\"namespace\":\"html\",\"tag\":\"div\"},\"children\":[{\"props\":{},\"nodeType\":\"Scope\",\"type\":\"node\",\"instanceArgs\":{\"imports\":{\"data\":[{\"name\":\"knockout\",\"type\":\"js\",\"url\":\"\\/assetserver\\/b11976f3d16930ca52e686fb903e8f6e21aa0a27-knockout.js\"},{\"name\":\"knockout_punches\",\"type\":\"js\",\"url\":\"\\/assetserver\\/35ffd0fd0a8b9f353ea026fe8e7670a036aacb66-knockout_punches.js\"},{\"name\":null,\"type\":\"js\",\"url\":\"\\/assetserver\\/d7dc43cd8e032859830dbaf2c129ee643dddc5b8-all.js\"},{\"name\":null,\"type\":\"css\",\"url\":\"\\/assetserver\\/0c2243c1fec513e3455ae87a7faf286dcb3855bb-style.css\"},{\"name\":null,\"type\":\"css\",\"url\":\"\\/assetserver\\/d14c3e99eaf8f69e0990cd6fca3cdbb2b0ac8108-bulma_confined.min.css\"}],\"type\":\"async_block\"},\"id\":\"4274002538675139284\",\"handlers\":{\"changes\":[\"(function (val){return (val!=this.model[\\\"changes\\\"]()) ? (this.valueFromJulia[\\\"changes\\\"]=true, this.model[\\\"changes\\\"](val)) : undefined})\"],\"index\":[\"(function (val){return (val!=this.model[\\\"index\\\"]()) ? (this.valueFromJulia[\\\"index\\\"]=true, this.model[\\\"index\\\"](val)) : undefined})\"]},\"systemjs_options\":null,\"mount_callbacks\":[\"function () {\\n    var handler = (function (ko, koPunches) {\\n    ko.punches.enableAll();\\n    ko.bindingHandlers.numericValue = {\\n        init: function(element, valueAccessor, allBindings, data, context) {\\n            var stringified = ko.observable(ko.unwrap(valueAccessor()));\\n            stringified.subscribe(function(value) {\\n                var val = parseFloat(value);\\n                if (!isNaN(val)) {\\n                    valueAccessor()(val);\\n                }\\n            });\\n            valueAccessor().subscribe(function(value) {\\n                var str = JSON.stringify(value);\\n                if ((str == \\\"0\\\") && ([\\\"-0\\\", \\\"-0.\\\"].indexOf(stringified()) >= 0))\\n                     return;\\n                 if ([\\\"null\\\", \\\"\\\"].indexOf(str) >= 0)\\n                     return;\\n                stringified(str);\\n            });\\n            ko.applyBindingsToNode(\\n                element,\\n                {\\n                    value: stringified,\\n                    valueUpdate: allBindings.get('valueUpdate'),\\n                },\\n                context,\\n            );\\n        }\\n    };\\n    var json_data = {\\\"formatted_vals\\\":[\\\"1\\\",\\\"2\\\",\\\"3\\\",\\\"4\\\",\\\"5\\\",\\\"6\\\",\\\"7\\\",\\\"8\\\",\\\"9\\\",\\\"10\\\"],\\\"changes\\\":WebIO.getval({\\\"name\\\":\\\"changes\\\",\\\"scope\\\":\\\"4274002538675139284\\\",\\\"id\\\":\\\"17646029977189317996\\\",\\\"type\\\":\\\"observable\\\"}),\\\"index\\\":WebIO.getval({\\\"name\\\":\\\"index\\\",\\\"scope\\\":\\\"4274002538675139284\\\",\\\"id\\\":\\\"8324121054679619061\\\",\\\"type\\\":\\\"observable\\\"})};\\n    var self = this;\\n    function AppViewModel() {\\n        for (var key in json_data) {\\n            var el = json_data[key];\\n            this[key] = Array.isArray(el) ? ko.observableArray(el) : ko.observable(el);\\n        }\\n        \\n        [this[\\\"formatted_val\\\"]=ko.computed(    function(){\\n        return this.formatted_vals()[parseInt(this.index())-(1)];\\n    }\\n,this)]\\n        [this[\\\"changes\\\"].subscribe((function (val){!(this.valueFromJulia[\\\"changes\\\"]) ? (WebIO.setval({\\\"name\\\":\\\"changes\\\",\\\"scope\\\":\\\"4274002538675139284\\\",\\\"id\\\":\\\"17646029977189317996\\\",\\\"type\\\":\\\"observable\\\"},val)) : undefined; return this.valueFromJulia[\\\"changes\\\"]=false}),self),this[\\\"index\\\"].subscribe((function (val){!(this.valueFromJulia[\\\"index\\\"]) ? (WebIO.setval({\\\"name\\\":\\\"index\\\",\\\"scope\\\":\\\"4274002538675139284\\\",\\\"id\\\":\\\"8324121054679619061\\\",\\\"type\\\":\\\"observable\\\"},val)) : undefined; return this.valueFromJulia[\\\"index\\\"]=false}),self)]\\n        \\n    }\\n    self.model = new AppViewModel();\\n    self.valueFromJulia = {};\\n    for (var key in json_data) {\\n        self.valueFromJulia[key] = false;\\n    }\\n    ko.applyBindings(self.model, self.dom);\\n}\\n);\\n    (WebIO.importBlock({\\\"data\\\":[{\\\"name\\\":\\\"knockout\\\",\\\"type\\\":\\\"js\\\",\\\"url\\\":\\\"\\/assetserver\\/b11976f3d16930ca52e686fb903e8f6e21aa0a27-knockout.js\\\"},{\\\"name\\\":\\\"knockout_punches\\\",\\\"type\\\":\\\"js\\\",\\\"url\\\":\\\"\\/assetserver\\/35ffd0fd0a8b9f353ea026fe8e7670a036aacb66-knockout_punches.js\\\"}],\\\"type\\\":\\\"async_block\\\"})).then((imports) => handler.apply(this, imports));\\n}\\n\"],\"observables\":{\"changes\":{\"sync\":false,\"id\":\"17646029977189317996\",\"value\":0},\"index\":{\"sync\":true,\"id\":\"8324121054679619061\",\"value\":5}}},\"children\":[{\"props\":{\"className\":\"interact-flex-row interact-widget\"},\"nodeType\":\"DOM\",\"type\":\"node\",\"instanceArgs\":{\"namespace\":\"html\",\"tag\":\"div\"},\"children\":[{\"props\":{\"className\":\"interact-flex-row-left\"},\"nodeType\":\"DOM\",\"type\":\"node\",\"instanceArgs\":{\"namespace\":\"html\",\"tag\":\"div\"},\"children\":[{\"props\":{\"className\":\"interact \",\"style\":{\"padding\":\"5px 10px 0px 10px\"}},\"nodeType\":\"DOM\",\"type\":\"node\",\"instanceArgs\":{\"namespace\":\"html\",\"tag\":\"label\"},\"children\":[\"i\"]}]},{\"props\":{\"className\":\"interact-flex-row-center\"},\"nodeType\":\"DOM\",\"type\":\"node\",\"instanceArgs\":{\"namespace\":\"html\",\"tag\":\"div\"},\"children\":[{\"props\":{\"max\":10,\"min\":1,\"attributes\":{\"type\":\"range\",\"data-bind\":\"numericValue: index, valueUpdate: 'input', event: {change: function (){this.changes(this.changes()+1)}}\",\"orient\":\"horizontal\"},\"step\":1,\"className\":\"slider slider is-fullwidth\",\"style\":{}},\"nodeType\":\"DOM\",\"type\":\"node\",\"instanceArgs\":{\"namespace\":\"html\",\"tag\":\"input\"},\"children\":[]}]},{\"props\":{\"className\":\"interact-flex-row-right\"},\"nodeType\":\"DOM\",\"type\":\"node\",\"instanceArgs\":{\"namespace\":\"html\",\"tag\":\"div\"},\"children\":[{\"props\":{\"attributes\":{\"data-bind\":\"text: formatted_val\"}},\"nodeType\":\"DOM\",\"type\":\"node\",\"instanceArgs\":{\"namespace\":\"html\",\"tag\":\"p\"},\"children\":[]}]}]}]}]},{\"props\":{},\"nodeType\":\"Scope\",\"type\":\"node\",\"instanceArgs\":{\"imports\":{\"data\":[],\"type\":\"async_block\"},\"id\":\"7210982768503157246\",\"handlers\":{},\"systemjs_options\":null,\"mount_callbacks\":[],\"observables\":{\"obs-node\":{\"sync\":false,\"id\":\"7128403694075298732\",\"value\":{\"props\":{\"className\":\"interact-flex-row interact-widget\"},\"nodeType\":\"DOM\",\"type\":\"node\",\"instanceArgs\":{\"namespace\":\"html\",\"tag\":\"div\"},\"children\":[{\"props\":{\"setInnerHtml\":\"5\"},\"nodeType\":\"DOM\",\"type\":\"node\",\"instanceArgs\":{\"namespace\":\"html\",\"tag\":\"div\"},\"children\":[]}]}}}},\"children\":[{\"props\":{},\"nodeType\":\"ObservableNode\",\"type\":\"node\",\"instanceArgs\":{\"id\":\"7128403694075298732\",\"name\":\"obs-node\"},\"children\":[]}]}]},\n",
       "            window,\n",
       "        );\n",
       "    } else {\n",
       "        document\n",
       "            .querySelector('[data-webio-mountpoint=\"422847183849562\"]')\n",
       "            .innerHTML = (\n",
       "                '<div style=\"padding: 1em; background-color: #f8d6da; border: 1px solid #f5c6cb\">' +\n",
       "                '<p><strong>WebIO not detected.</strong></p>' +\n",
       "                '<p>Please read ' +\n",
       "                '<a href=\"https://juliagizmos.github.io/WebIO.jl/latest/troubleshooting/not-detected/\" target=\"_blank\">the troubleshooting guide</a> ' +\n",
       "                'for more information on how to resolve this issue.</p>' +\n",
       "                '<p><a href=\"https://juliagizmos.github.io/WebIO.jl/latest/troubleshooting/not-detected/\" target=\"_blank\">https://juliagizmos.github.io/WebIO.jl/latest/troubleshooting/not-detected/</a></p>' +\n",
       "                '</div>'\n",
       "            );\n",
       "    }\n",
       "    </script>\n",
       "</div>\n"
      ],
      "text/plain": [
       "Node{WebIO.DOM}(WebIO.DOM(:html, :div), Any[Node{WebIO.DOM}(WebIO.DOM(:html, :div), Any[Scope(Node{WebIO.DOM}(WebIO.DOM(:html, :div), Any[Node{WebIO.DOM}(WebIO.DOM(:html, :div), Any[Node{WebIO.DOM}(WebIO.DOM(:html, :label), Any[\"i\"], Dict{Symbol,Any}(:className => \"interact \",:style => Dict{Any,Any}(:padding => \"5px 10px 0px 10px\")))], Dict{Symbol,Any}(:className => \"interact-flex-row-left\")), Node{WebIO.DOM}(WebIO.DOM(:html, :div), Any[Node{WebIO.DOM}(WebIO.DOM(:html, :input), Any[], Dict{Symbol,Any}(:max => 10,:min => 1,:attributes => Dict{Any,Any}(:type => \"range\",Symbol(\"data-bind\") => \"numericValue: index, valueUpdate: 'input', event: {change: function (){this.changes(this.changes()+1)}}\",\"orient\" => \"horizontal\"),:step => 1,:className => \"slider slider is-fullwidth\",:style => Dict{Any,Any}()))], Dict{Symbol,Any}(:className => \"interact-flex-row-center\")), Node{WebIO.DOM}(WebIO.DOM(:html, :div), Any[Node{WebIO.DOM}(WebIO.DOM(:html, :p), Any[], Dict{Symbol,Any}(:attributes => Dict(\"data-bind\" => \"text: formatted_val\")))], Dict{Symbol,Any}(:className => \"interact-flex-row-right\"))], Dict{Symbol,Any}(:className => \"interact-flex-row interact-widget\")), Dict{String,Tuple{Observables.AbstractObservable,Union{Nothing, Bool}}}(\"changes\" => (Observable{Int64} with 1 listeners. Value:\n",
       "0, nothing),\"index\" => (Observable{Int64} with 2 listeners. Value:\n",
       "5, nothing)), Set(String[]), nothing, Asset[Asset(\"js\", \"knockout\", \"C:\\\\Users\\\\Hp EliteBook\\\\.julia\\\\packages\\\\Knockout\\\\IP1uR\\\\src\\\\..\\\\assets\\\\knockout.js\"), Asset(\"js\", \"knockout_punches\", \"C:\\\\Users\\\\Hp EliteBook\\\\.julia\\\\packages\\\\Knockout\\\\IP1uR\\\\src\\\\..\\\\assets\\\\knockout_punches.js\"), Asset(\"js\", nothing, \"C:\\\\Users\\\\Hp EliteBook\\\\.julia\\\\packages\\\\InteractBase\\\\sOe2Z\\\\src\\\\..\\\\assets\\\\all.js\"), Asset(\"css\", nothing, \"C:\\\\Users\\\\Hp EliteBook\\\\.julia\\\\packages\\\\InteractBase\\\\sOe2Z\\\\src\\\\..\\\\assets\\\\style.css\"), Asset(\"css\", nothing, \"C:\\\\Users\\\\Hp EliteBook\\\\.julia\\\\packages\\\\Interact\\\\SbgIk\\\\src\\\\..\\\\assets\\\\bulma_confined.min.css\")], Dict{Any,Any}(\"changes\" => Any[WebIO.JSString(\"(function (val){return (val!=this.model[\\\"changes\\\"]()) ? (this.valueFromJulia[\\\"changes\\\"]=true, this.model[\\\"changes\\\"](val)) : undefined})\")],\"index\" => Any[WebIO.JSString(\"(function (val){return (val!=this.model[\\\"index\\\"]()) ? (this.valueFromJulia[\\\"index\\\"]=true, this.model[\\\"index\\\"](val)) : undefined})\")]), WebIO.ConnectionPool(Channel{Any}(sz_max:32,sz_curr:0), Set(AbstractConnection[]), Base.GenericCondition{Base.AlwaysLockedST}(Base.InvasiveLinkedList{Task}(Task (runnable) @0x0000000012626850, Task (runnable) @0x0000000012626850), Base.AlwaysLockedST(1))), WebIO.JSString[WebIO.JSString(\"function () {\\n    var handler = (function (ko, koPunches) {\\n    ko.punches.enableAll();\\n    ko.bindingHandlers.numericValue = {\\n        init: function(element, valueAccessor, allBindings, data, context) {\\n            var stringified = ko.observable(ko.unwrap(valueAccessor()));\\n            stringified.subscribe(function(value) {\\n                var val = parseFloat(value);\\n                if (!isNaN(val)) {\\n                    valueAccessor()(val);\\n                }\\n            });\\n            valueAccessor().subscribe(function(value) {\\n                var str = JSON.stringify(value);\\n                if ((str == \\\"0\\\") && ([\\\"-0\\\", \\\"-0.\\\"].indexOf(stringified()) >= 0))\\n                     return;\\n                 if ([\\\"null\\\", \\\"\\\"].indexOf(str) >= 0)\\n                     return;\\n                stringified(str);\\n            });\\n            ko.applyBindingsToNode(\\n                element,\\n                {\\n                    value: stringified,\\n                    valueUpdate: allBindings.get('valueUpdate'),\\n                },\\n                context,\\n            );\\n        }\\n    };\\n    var json_data = {\\\"formatted_vals\\\":[\\\"1\\\",\\\"2\\\",\\\"3\\\",\\\"4\\\",\\\"5\\\",\\\"6\\\",\\\"7\\\",\\\"8\\\",\\\"9\\\",\\\"10\\\"],\\\"changes\\\":WebIO.getval({\\\"name\\\":\\\"changes\\\",\\\"scope\\\":\\\"4274002538675139284\\\",\\\"id\\\":\\\"17646029977189317996\\\",\\\"type\\\":\\\"observable\\\"}),\\\"index\\\":WebIO.getval({\\\"name\\\":\\\"index\\\",\\\"scope\\\":\\\"4274002538675139284\\\",\\\"id\\\":\\\"8324121054679619061\\\",\\\"type\\\":\\\"observable\\\"})};\\n    var self = this;\\n    function AppViewModel() {\\n        for (var key in json_data) {\\n            var el = json_data[key];\\n            this[key] = Array.isArray(el) ? ko.observableArray(el) : ko.observable(el);\\n        }\\n        \\n        [this[\\\"formatted_val\\\"]=ko.computed(    function(){\\n        return this.formatted_vals()[parseInt(this.index())-(1)];\\n    }\\n,this)]\\n        [this[\\\"changes\\\"].subscribe((function (val){!(this.valueFromJulia[\\\"changes\\\"]) ? (WebIO.setval({\\\"name\\\":\\\"changes\\\",\\\"scope\\\":\\\"4274002538675139284\\\",\\\"id\\\":\\\"17646029977189317996\\\",\\\"type\\\":\\\"observable\\\"},val)) : undefined; return this.valueFromJulia[\\\"changes\\\"]=false}),self),this[\\\"index\\\"].subscribe((function (val){!(this.valueFromJulia[\\\"index\\\"]) ? (WebIO.setval({\\\"name\\\":\\\"index\\\",\\\"scope\\\":\\\"4274002538675139284\\\",\\\"id\\\":\\\"8324121054679619061\\\",\\\"type\\\":\\\"observable\\\"},val)) : undefined; return this.valueFromJulia[\\\"index\\\"]=false}),self)]\\n        \\n    }\\n    self.model = new AppViewModel();\\n    self.valueFromJulia = {};\\n    for (var key in json_data) {\\n        self.valueFromJulia[key] = false;\\n    }\\n    ko.applyBindings(self.model, self.dom);\\n}\\n);\\n    (WebIO.importBlock({\\\"data\\\":[{\\\"name\\\":\\\"knockout\\\",\\\"type\\\":\\\"js\\\",\\\"url\\\":\\\"/assetserver/b11976f3d16930ca52e686fb903e8f6e21aa0a27-knockout.js\\\"},{\\\"name\\\":\\\"knockout_punches\\\",\\\"type\\\":\\\"js\\\",\\\"url\\\":\\\"/assetserver/35ffd0fd0a8b9f353ea026fe8e7670a036aacb66-knockout_punches.js\\\"}],\\\"type\\\":\\\"async_block\\\"})).then((imports) => handler.apply(this, imports));\\n}\\n\")])], Dict{Symbol,Any}(:className => \"field interact-widget\")), Observable{Any} with 0 listeners. Value:\n",
       "Node{WebIO.DOM}(WebIO.DOM(:html, :div), Any[HTML{Int64}(5)], Dict{Symbol,Any}(:className => \"interact-flex-row interact-widget\"))], Dict{Symbol,Any}())"
      ]
     },
     "execution_count": 11,
     "metadata": {
      "application/vnd.webio.node+json": {
       "kernelId": "b9c76d26-75a8-4e66-99f0-535227d6feb4"
      }
     },
     "output_type": "execute_result"
    }
   ],
   "source": [
    "@manipulate for i in 1:10\n",
    "    HTML(i)\n",
    "end"
   ]
  },
  {
   "cell_type": "code",
   "execution_count": 12,
   "metadata": {},
   "outputs": [
    {
     "data": {
      "text/plain": [
       "266-element WeakRefStrings.StringArray{String,1}:\n",
       " \"Afghanistan\"\n",
       " \"Albania\"\n",
       " \"Algeria\"\n",
       " \"Andorra\"\n",
       " \"Angola\"\n",
       " \"Antigua and Barbuda\"\n",
       " \"Argentina\"\n",
       " \"Armenia\"\n",
       " \"Australia\"\n",
       " \"Australia\"\n",
       " \"Australia\"\n",
       " \"Australia\"\n",
       " \"Australia\"\n",
       " ⋮\n",
       " \"Sierra Leone\"\n",
       " \"Netherlands\"\n",
       " \"Malawi\"\n",
       " \"United Kingdom\"\n",
       " \"France\"\n",
       " \"South Sudan\"\n",
       " \"Western Sahara\"\n",
       " \"Sao Tome and Principe\"\n",
       " \"Yemen\"\n",
       " \"Comoros\"\n",
       " \"Tajikistan\"\n",
       " \"Lesotho\""
      ]
     },
     "execution_count": 12,
     "metadata": {},
     "output_type": "execute_result"
    }
   ],
   "source": [
    "countries = datacopy[:, 2] # A shorter way to extract all the data from column 2"
   ]
  },
  {
   "cell_type": "code",
   "execution_count": 13,
   "metadata": {},
   "outputs": [
    {
     "data": {
      "text/plain": [
       "266-element Array{String,1}:\n",
       " \"Afghanistan\"\n",
       " \"Albania\"\n",
       " \"Algeria\"\n",
       " \"Andorra\"\n",
       " \"Angola\"\n",
       " \"Antigua and Barbuda\"\n",
       " \"Argentina\"\n",
       " \"Armenia\"\n",
       " \"Australia\"\n",
       " \"Australia\"\n",
       " \"Australia\"\n",
       " \"Australia\"\n",
       " \"Australia\"\n",
       " ⋮\n",
       " \"Sierra Leone\"\n",
       " \"Netherlands\"\n",
       " \"Malawi\"\n",
       " \"United Kingdom\"\n",
       " \"France\"\n",
       " \"South Sudan\"\n",
       " \"Western Sahara\"\n",
       " \"Sao Tome and Principe\"\n",
       " \"Yemen\"\n",
       " \"Comoros\"\n",
       " \"Tajikistan\"\n",
       " \"Lesotho\""
      ]
     },
     "execution_count": 13,
     "metadata": {},
     "output_type": "execute_result"
    }
   ],
   "source": [
    "countries = collect(datacopy[:, 2])"
   ]
  },
  {
   "cell_type": "code",
   "execution_count": 14,
   "metadata": {},
   "outputs": [
    {
     "data": {
      "text/plain": [
       "188-element Array{String,1}:\n",
       " \"Afghanistan\"\n",
       " \"Albania\"\n",
       " \"Algeria\"\n",
       " \"Andorra\"\n",
       " \"Angola\"\n",
       " \"Antigua and Barbuda\"\n",
       " \"Argentina\"\n",
       " \"Armenia\"\n",
       " \"Australia\"\n",
       " \"Austria\"\n",
       " \"Azerbaijan\"\n",
       " \"Bahamas\"\n",
       " \"Bahrain\"\n",
       " ⋮\n",
       " \"MS Zaandam\"\n",
       " \"Botswana\"\n",
       " \"Burundi\"\n",
       " \"Sierra Leone\"\n",
       " \"Malawi\"\n",
       " \"South Sudan\"\n",
       " \"Western Sahara\"\n",
       " \"Sao Tome and Principe\"\n",
       " \"Yemen\"\n",
       " \"Comoros\"\n",
       " \"Tajikistan\"\n",
       " \"Lesotho\""
      ]
     },
     "execution_count": 14,
     "metadata": {},
     "output_type": "execute_result"
    }
   ],
   "source": [
    "uniquecountries = unique(countries)"
   ]
  },
  {
   "cell_type": "code",
   "execution_count": 15,
   "metadata": {},
   "outputs": [
    {
     "data": {
      "application/vnd.webio.node+json": {
       "children": [
        {
         "children": [
          {
           "children": [
            {
             "children": [
              {
               "children": [
                {
                 "children": [
                  "i"
                 ],
                 "instanceArgs": {
                  "namespace": "html",
                  "tag": "label"
                 },
                 "nodeType": "DOM",
                 "props": {
                  "className": "interact ",
                  "style": {
                   "padding": "5px 10px 0px 10px"
                  }
                 },
                 "type": "node"
                }
               ],
               "instanceArgs": {
                "namespace": "html",
                "tag": "div"
               },
               "nodeType": "DOM",
               "props": {
                "className": "interact-flex-row-left"
               },
               "type": "node"
              },
              {
               "children": [
                {
                 "children": [],
                 "instanceArgs": {
                  "namespace": "html",
                  "tag": "input"
                 },
                 "nodeType": "DOM",
                 "props": {
                  "attributes": {
                   "data-bind": "numericValue: index, valueUpdate: 'input', event: {change: function (){this.changes(this.changes()+1)}}",
                   "orient": "horizontal",
                   "type": "range"
                  },
                  "className": "slider slider is-fullwidth",
                  "max": 266,
                  "min": 1,
                  "step": 1,
                  "style": {}
                 },
                 "type": "node"
                }
               ],
               "instanceArgs": {
                "namespace": "html",
                "tag": "div"
               },
               "nodeType": "DOM",
               "props": {
                "className": "interact-flex-row-center"
               },
               "type": "node"
              },
              {
               "children": [
                {
                 "children": [],
                 "instanceArgs": {
                  "namespace": "html",
                  "tag": "p"
                 },
                 "nodeType": "DOM",
                 "props": {
                  "attributes": {
                   "data-bind": "text: formatted_val"
                  }
                 },
                 "type": "node"
                }
               ],
               "instanceArgs": {
                "namespace": "html",
                "tag": "div"
               },
               "nodeType": "DOM",
               "props": {
                "className": "interact-flex-row-right"
               },
               "type": "node"
              }
             ],
             "instanceArgs": {
              "namespace": "html",
              "tag": "div"
             },
             "nodeType": "DOM",
             "props": {
              "className": "interact-flex-row interact-widget"
             },
             "type": "node"
            }
           ],
           "instanceArgs": {
            "handlers": {
             "changes": [
              "(function (val){return (val!=this.model[\"changes\"]()) ? (this.valueFromJulia[\"changes\"]=true, this.model[\"changes\"](val)) : undefined})"
             ],
             "index": [
              "(function (val){return (val!=this.model[\"index\"]()) ? (this.valueFromJulia[\"index\"]=true, this.model[\"index\"](val)) : undefined})"
             ]
            },
            "id": "8374943085043880406",
            "imports": {
             "data": [
              {
               "name": "knockout",
               "type": "js",
               "url": "/assetserver/b11976f3d16930ca52e686fb903e8f6e21aa0a27-knockout.js"
              },
              {
               "name": "knockout_punches",
               "type": "js",
               "url": "/assetserver/35ffd0fd0a8b9f353ea026fe8e7670a036aacb66-knockout_punches.js"
              },
              {
               "name": null,
               "type": "js",
               "url": "/assetserver/d7dc43cd8e032859830dbaf2c129ee643dddc5b8-all.js"
              },
              {
               "name": null,
               "type": "css",
               "url": "/assetserver/0c2243c1fec513e3455ae87a7faf286dcb3855bb-style.css"
              },
              {
               "name": null,
               "type": "css",
               "url": "/assetserver/d14c3e99eaf8f69e0990cd6fca3cdbb2b0ac8108-bulma_confined.min.css"
              }
             ],
             "type": "async_block"
            },
            "mount_callbacks": [
             "function () {\n    var handler = (function (ko, koPunches) {\n    ko.punches.enableAll();\n    ko.bindingHandlers.numericValue = {\n        init: function(element, valueAccessor, allBindings, data, context) {\n            var stringified = ko.observable(ko.unwrap(valueAccessor()));\n            stringified.subscribe(function(value) {\n                var val = parseFloat(value);\n                if (!isNaN(val)) {\n                    valueAccessor()(val);\n                }\n            });\n            valueAccessor().subscribe(function(value) {\n                var str = JSON.stringify(value);\n                if ((str == \"0\") && ([\"-0\", \"-0.\"].indexOf(stringified()) >= 0))\n                     return;\n                 if ([\"null\", \"\"].indexOf(str) >= 0)\n                     return;\n                stringified(str);\n            });\n            ko.applyBindingsToNode(\n                element,\n                {\n                    value: stringified,\n                    valueUpdate: allBindings.get('valueUpdate'),\n                },\n                context,\n            );\n        }\n    };\n    var json_data = {\"formatted_vals\":[\"1\",\"2\",\"3\",\"4\",\"5\",\"6\",\"7\",\"8\",\"9\",\"10\",\"11\",\"12\",\"13\",\"14\",\"15\",\"16\",\"17\",\"18\",\"19\",\"20\",\"21\",\"22\",\"23\",\"24\",\"25\",\"26\",\"27\",\"28\",\"29\",\"30\",\"31\",\"32\",\"33\",\"34\",\"35\",\"36\",\"37\",\"38\",\"39\",\"40\",\"41\",\"42\",\"43\",\"44\",\"45\",\"46\",\"47\",\"48\",\"49\",\"50\",\"51\",\"52\",\"53\",\"54\",\"55\",\"56\",\"57\",\"58\",\"59\",\"60\",\"61\",\"62\",\"63\",\"64\",\"65\",\"66\",\"67\",\"68\",\"69\",\"70\",\"71\",\"72\",\"73\",\"74\",\"75\",\"76\",\"77\",\"78\",\"79\",\"80\",\"81\",\"82\",\"83\",\"84\",\"85\",\"86\",\"87\",\"88\",\"89\",\"90\",\"91\",\"92\",\"93\",\"94\",\"95\",\"96\",\"97\",\"98\",\"99\",\"100\",\"101\",\"102\",\"103\",\"104\",\"105\",\"106\",\"107\",\"108\",\"109\",\"110\",\"111\",\"112\",\"113\",\"114\",\"115\",\"116\",\"117\",\"118\",\"119\",\"120\",\"121\",\"122\",\"123\",\"124\",\"125\",\"126\",\"127\",\"128\",\"129\",\"130\",\"131\",\"132\",\"133\",\"134\",\"135\",\"136\",\"137\",\"138\",\"139\",\"140\",\"141\",\"142\",\"143\",\"144\",\"145\",\"146\",\"147\",\"148\",\"149\",\"150\",\"151\",\"152\",\"153\",\"154\",\"155\",\"156\",\"157\",\"158\",\"159\",\"160\",\"161\",\"162\",\"163\",\"164\",\"165\",\"166\",\"167\",\"168\",\"169\",\"170\",\"171\",\"172\",\"173\",\"174\",\"175\",\"176\",\"177\",\"178\",\"179\",\"180\",\"181\",\"182\",\"183\",\"184\",\"185\",\"186\",\"187\",\"188\",\"189\",\"190\",\"191\",\"192\",\"193\",\"194\",\"195\",\"196\",\"197\",\"198\",\"199\",\"200\",\"201\",\"202\",\"203\",\"204\",\"205\",\"206\",\"207\",\"208\",\"209\",\"210\",\"211\",\"212\",\"213\",\"214\",\"215\",\"216\",\"217\",\"218\",\"219\",\"220\",\"221\",\"222\",\"223\",\"224\",\"225\",\"226\",\"227\",\"228\",\"229\",\"230\",\"231\",\"232\",\"233\",\"234\",\"235\",\"236\",\"237\",\"238\",\"239\",\"240\",\"241\",\"242\",\"243\",\"244\",\"245\",\"246\",\"247\",\"248\",\"249\",\"250\",\"251\",\"252\",\"253\",\"254\",\"255\",\"256\",\"257\",\"258\",\"259\",\"260\",\"261\",\"262\",\"263\",\"264\",\"265\",\"266\"],\"changes\":WebIO.getval({\"name\":\"changes\",\"scope\":\"8374943085043880406\",\"id\":\"7995703738632891299\",\"type\":\"observable\"}),\"index\":WebIO.getval({\"name\":\"index\",\"scope\":\"8374943085043880406\",\"id\":\"4050912956311699042\",\"type\":\"observable\"})};\n    var self = this;\n    function AppViewModel() {\n        for (var key in json_data) {\n            var el = json_data[key];\n            this[key] = Array.isArray(el) ? ko.observableArray(el) : ko.observable(el);\n        }\n        \n        [this[\"formatted_val\"]=ko.computed(    function(){\n        return this.formatted_vals()[parseInt(this.index())-(1)];\n    }\n,this)]\n        [this[\"changes\"].subscribe((function (val){!(this.valueFromJulia[\"changes\"]) ? (WebIO.setval({\"name\":\"changes\",\"scope\":\"8374943085043880406\",\"id\":\"7995703738632891299\",\"type\":\"observable\"},val)) : undefined; return this.valueFromJulia[\"changes\"]=false}),self),this[\"index\"].subscribe((function (val){!(this.valueFromJulia[\"index\"]) ? (WebIO.setval({\"name\":\"index\",\"scope\":\"8374943085043880406\",\"id\":\"4050912956311699042\",\"type\":\"observable\"},val)) : undefined; return this.valueFromJulia[\"index\"]=false}),self)]\n        \n    }\n    self.model = new AppViewModel();\n    self.valueFromJulia = {};\n    for (var key in json_data) {\n        self.valueFromJulia[key] = false;\n    }\n    ko.applyBindings(self.model, self.dom);\n}\n);\n    (WebIO.importBlock({\"data\":[{\"name\":\"knockout\",\"type\":\"js\",\"url\":\"/assetserver/b11976f3d16930ca52e686fb903e8f6e21aa0a27-knockout.js\"},{\"name\":\"knockout_punches\",\"type\":\"js\",\"url\":\"/assetserver/35ffd0fd0a8b9f353ea026fe8e7670a036aacb66-knockout_punches.js\"}],\"type\":\"async_block\"})).then((imports) => handler.apply(this, imports));\n}\n"
            ],
            "observables": {
             "changes": {
              "id": "7995703738632891299",
              "sync": false,
              "value": 0
             },
             "index": {
              "id": "4050912956311699042",
              "sync": true,
              "value": 133
             }
            },
            "systemjs_options": null
           },
           "nodeType": "Scope",
           "props": {},
           "type": "node"
          }
         ],
         "instanceArgs": {
          "namespace": "html",
          "tag": "div"
         },
         "nodeType": "DOM",
         "props": {
          "className": "field interact-widget"
         },
         "type": "node"
        },
        {
         "children": [
          {
           "children": [],
           "instanceArgs": {
            "id": "12028522609428630053",
            "name": "obs-node"
           },
           "nodeType": "ObservableNode",
           "props": {},
           "type": "node"
          }
         ],
         "instanceArgs": {
          "handlers": {},
          "id": "4547606043218139029",
          "imports": {
           "data": [],
           "type": "async_block"
          },
          "mount_callbacks": [],
          "observables": {
           "obs-node": {
            "id": "12028522609428630053",
            "sync": false,
            "value": {
             "children": [
              "Indonesia"
             ],
             "instanceArgs": {
              "namespace": "html",
              "tag": "div"
             },
             "nodeType": "DOM",
             "props": {
              "className": "interact-flex-row interact-widget"
             },
             "type": "node"
            }
           }
          },
          "systemjs_options": null
         },
         "nodeType": "Scope",
         "props": {},
         "type": "node"
        }
       ],
       "instanceArgs": {
        "namespace": "html",
        "tag": "div"
       },
       "nodeType": "DOM",
       "props": {},
       "type": "node"
      },
      "text/html": [
       "<div\n",
       "    class=\"webio-mountpoint\"\n",
       "    data-webio-mountpoint=\"11236961547687399334\"\n",
       ">\n",
       "    <script>\n",
       "    if (window.require && require.defined && require.defined(\"nbextensions/webio-jupyter-notebook\")) {\n",
       "        console.log(\"Jupyter WebIO extension detected, not mounting.\");\n",
       "    } else if (window.WebIO) {\n",
       "        WebIO.mount(\n",
       "            document.querySelector('[data-webio-mountpoint=\"11236961547687399334\"]'),\n",
       "            {\"props\":{},\"nodeType\":\"DOM\",\"type\":\"node\",\"instanceArgs\":{\"namespace\":\"html\",\"tag\":\"div\"},\"children\":[{\"props\":{\"className\":\"field interact-widget\"},\"nodeType\":\"DOM\",\"type\":\"node\",\"instanceArgs\":{\"namespace\":\"html\",\"tag\":\"div\"},\"children\":[{\"props\":{},\"nodeType\":\"Scope\",\"type\":\"node\",\"instanceArgs\":{\"imports\":{\"data\":[{\"name\":\"knockout\",\"type\":\"js\",\"url\":\"\\/assetserver\\/b11976f3d16930ca52e686fb903e8f6e21aa0a27-knockout.js\"},{\"name\":\"knockout_punches\",\"type\":\"js\",\"url\":\"\\/assetserver\\/35ffd0fd0a8b9f353ea026fe8e7670a036aacb66-knockout_punches.js\"},{\"name\":null,\"type\":\"js\",\"url\":\"\\/assetserver\\/d7dc43cd8e032859830dbaf2c129ee643dddc5b8-all.js\"},{\"name\":null,\"type\":\"css\",\"url\":\"\\/assetserver\\/0c2243c1fec513e3455ae87a7faf286dcb3855bb-style.css\"},{\"name\":null,\"type\":\"css\",\"url\":\"\\/assetserver\\/d14c3e99eaf8f69e0990cd6fca3cdbb2b0ac8108-bulma_confined.min.css\"}],\"type\":\"async_block\"},\"id\":\"8374943085043880406\",\"handlers\":{\"changes\":[\"(function (val){return (val!=this.model[\\\"changes\\\"]()) ? (this.valueFromJulia[\\\"changes\\\"]=true, this.model[\\\"changes\\\"](val)) : undefined})\"],\"index\":[\"(function (val){return (val!=this.model[\\\"index\\\"]()) ? (this.valueFromJulia[\\\"index\\\"]=true, this.model[\\\"index\\\"](val)) : undefined})\"]},\"systemjs_options\":null,\"mount_callbacks\":[\"function () {\\n    var handler = (function (ko, koPunches) {\\n    ko.punches.enableAll();\\n    ko.bindingHandlers.numericValue = {\\n        init: function(element, valueAccessor, allBindings, data, context) {\\n            var stringified = ko.observable(ko.unwrap(valueAccessor()));\\n            stringified.subscribe(function(value) {\\n                var val = parseFloat(value);\\n                if (!isNaN(val)) {\\n                    valueAccessor()(val);\\n                }\\n            });\\n            valueAccessor().subscribe(function(value) {\\n                var str = JSON.stringify(value);\\n                if ((str == \\\"0\\\") && ([\\\"-0\\\", \\\"-0.\\\"].indexOf(stringified()) >= 0))\\n                     return;\\n                 if ([\\\"null\\\", \\\"\\\"].indexOf(str) >= 0)\\n                     return;\\n                stringified(str);\\n            });\\n            ko.applyBindingsToNode(\\n                element,\\n                {\\n                    value: stringified,\\n                    valueUpdate: allBindings.get('valueUpdate'),\\n                },\\n                context,\\n            );\\n        }\\n    };\\n    var json_data = {\\\"formatted_vals\\\":[\\\"1\\\",\\\"2\\\",\\\"3\\\",\\\"4\\\",\\\"5\\\",\\\"6\\\",\\\"7\\\",\\\"8\\\",\\\"9\\\",\\\"10\\\",\\\"11\\\",\\\"12\\\",\\\"13\\\",\\\"14\\\",\\\"15\\\",\\\"16\\\",\\\"17\\\",\\\"18\\\",\\\"19\\\",\\\"20\\\",\\\"21\\\",\\\"22\\\",\\\"23\\\",\\\"24\\\",\\\"25\\\",\\\"26\\\",\\\"27\\\",\\\"28\\\",\\\"29\\\",\\\"30\\\",\\\"31\\\",\\\"32\\\",\\\"33\\\",\\\"34\\\",\\\"35\\\",\\\"36\\\",\\\"37\\\",\\\"38\\\",\\\"39\\\",\\\"40\\\",\\\"41\\\",\\\"42\\\",\\\"43\\\",\\\"44\\\",\\\"45\\\",\\\"46\\\",\\\"47\\\",\\\"48\\\",\\\"49\\\",\\\"50\\\",\\\"51\\\",\\\"52\\\",\\\"53\\\",\\\"54\\\",\\\"55\\\",\\\"56\\\",\\\"57\\\",\\\"58\\\",\\\"59\\\",\\\"60\\\",\\\"61\\\",\\\"62\\\",\\\"63\\\",\\\"64\\\",\\\"65\\\",\\\"66\\\",\\\"67\\\",\\\"68\\\",\\\"69\\\",\\\"70\\\",\\\"71\\\",\\\"72\\\",\\\"73\\\",\\\"74\\\",\\\"75\\\",\\\"76\\\",\\\"77\\\",\\\"78\\\",\\\"79\\\",\\\"80\\\",\\\"81\\\",\\\"82\\\",\\\"83\\\",\\\"84\\\",\\\"85\\\",\\\"86\\\",\\\"87\\\",\\\"88\\\",\\\"89\\\",\\\"90\\\",\\\"91\\\",\\\"92\\\",\\\"93\\\",\\\"94\\\",\\\"95\\\",\\\"96\\\",\\\"97\\\",\\\"98\\\",\\\"99\\\",\\\"100\\\",\\\"101\\\",\\\"102\\\",\\\"103\\\",\\\"104\\\",\\\"105\\\",\\\"106\\\",\\\"107\\\",\\\"108\\\",\\\"109\\\",\\\"110\\\",\\\"111\\\",\\\"112\\\",\\\"113\\\",\\\"114\\\",\\\"115\\\",\\\"116\\\",\\\"117\\\",\\\"118\\\",\\\"119\\\",\\\"120\\\",\\\"121\\\",\\\"122\\\",\\\"123\\\",\\\"124\\\",\\\"125\\\",\\\"126\\\",\\\"127\\\",\\\"128\\\",\\\"129\\\",\\\"130\\\",\\\"131\\\",\\\"132\\\",\\\"133\\\",\\\"134\\\",\\\"135\\\",\\\"136\\\",\\\"137\\\",\\\"138\\\",\\\"139\\\",\\\"140\\\",\\\"141\\\",\\\"142\\\",\\\"143\\\",\\\"144\\\",\\\"145\\\",\\\"146\\\",\\\"147\\\",\\\"148\\\",\\\"149\\\",\\\"150\\\",\\\"151\\\",\\\"152\\\",\\\"153\\\",\\\"154\\\",\\\"155\\\",\\\"156\\\",\\\"157\\\",\\\"158\\\",\\\"159\\\",\\\"160\\\",\\\"161\\\",\\\"162\\\",\\\"163\\\",\\\"164\\\",\\\"165\\\",\\\"166\\\",\\\"167\\\",\\\"168\\\",\\\"169\\\",\\\"170\\\",\\\"171\\\",\\\"172\\\",\\\"173\\\",\\\"174\\\",\\\"175\\\",\\\"176\\\",\\\"177\\\",\\\"178\\\",\\\"179\\\",\\\"180\\\",\\\"181\\\",\\\"182\\\",\\\"183\\\",\\\"184\\\",\\\"185\\\",\\\"186\\\",\\\"187\\\",\\\"188\\\",\\\"189\\\",\\\"190\\\",\\\"191\\\",\\\"192\\\",\\\"193\\\",\\\"194\\\",\\\"195\\\",\\\"196\\\",\\\"197\\\",\\\"198\\\",\\\"199\\\",\\\"200\\\",\\\"201\\\",\\\"202\\\",\\\"203\\\",\\\"204\\\",\\\"205\\\",\\\"206\\\",\\\"207\\\",\\\"208\\\",\\\"209\\\",\\\"210\\\",\\\"211\\\",\\\"212\\\",\\\"213\\\",\\\"214\\\",\\\"215\\\",\\\"216\\\",\\\"217\\\",\\\"218\\\",\\\"219\\\",\\\"220\\\",\\\"221\\\",\\\"222\\\",\\\"223\\\",\\\"224\\\",\\\"225\\\",\\\"226\\\",\\\"227\\\",\\\"228\\\",\\\"229\\\",\\\"230\\\",\\\"231\\\",\\\"232\\\",\\\"233\\\",\\\"234\\\",\\\"235\\\",\\\"236\\\",\\\"237\\\",\\\"238\\\",\\\"239\\\",\\\"240\\\",\\\"241\\\",\\\"242\\\",\\\"243\\\",\\\"244\\\",\\\"245\\\",\\\"246\\\",\\\"247\\\",\\\"248\\\",\\\"249\\\",\\\"250\\\",\\\"251\\\",\\\"252\\\",\\\"253\\\",\\\"254\\\",\\\"255\\\",\\\"256\\\",\\\"257\\\",\\\"258\\\",\\\"259\\\",\\\"260\\\",\\\"261\\\",\\\"262\\\",\\\"263\\\",\\\"264\\\",\\\"265\\\",\\\"266\\\"],\\\"changes\\\":WebIO.getval({\\\"name\\\":\\\"changes\\\",\\\"scope\\\":\\\"8374943085043880406\\\",\\\"id\\\":\\\"7995703738632891299\\\",\\\"type\\\":\\\"observable\\\"}),\\\"index\\\":WebIO.getval({\\\"name\\\":\\\"index\\\",\\\"scope\\\":\\\"8374943085043880406\\\",\\\"id\\\":\\\"4050912956311699042\\\",\\\"type\\\":\\\"observable\\\"})};\\n    var self = this;\\n    function AppViewModel() {\\n        for (var key in json_data) {\\n            var el = json_data[key];\\n            this[key] = Array.isArray(el) ? ko.observableArray(el) : ko.observable(el);\\n        }\\n        \\n        [this[\\\"formatted_val\\\"]=ko.computed(    function(){\\n        return this.formatted_vals()[parseInt(this.index())-(1)];\\n    }\\n,this)]\\n        [this[\\\"changes\\\"].subscribe((function (val){!(this.valueFromJulia[\\\"changes\\\"]) ? (WebIO.setval({\\\"name\\\":\\\"changes\\\",\\\"scope\\\":\\\"8374943085043880406\\\",\\\"id\\\":\\\"7995703738632891299\\\",\\\"type\\\":\\\"observable\\\"},val)) : undefined; return this.valueFromJulia[\\\"changes\\\"]=false}),self),this[\\\"index\\\"].subscribe((function (val){!(this.valueFromJulia[\\\"index\\\"]) ? (WebIO.setval({\\\"name\\\":\\\"index\\\",\\\"scope\\\":\\\"8374943085043880406\\\",\\\"id\\\":\\\"4050912956311699042\\\",\\\"type\\\":\\\"observable\\\"},val)) : undefined; return this.valueFromJulia[\\\"index\\\"]=false}),self)]\\n        \\n    }\\n    self.model = new AppViewModel();\\n    self.valueFromJulia = {};\\n    for (var key in json_data) {\\n        self.valueFromJulia[key] = false;\\n    }\\n    ko.applyBindings(self.model, self.dom);\\n}\\n);\\n    (WebIO.importBlock({\\\"data\\\":[{\\\"name\\\":\\\"knockout\\\",\\\"type\\\":\\\"js\\\",\\\"url\\\":\\\"\\/assetserver\\/b11976f3d16930ca52e686fb903e8f6e21aa0a27-knockout.js\\\"},{\\\"name\\\":\\\"knockout_punches\\\",\\\"type\\\":\\\"js\\\",\\\"url\\\":\\\"\\/assetserver\\/35ffd0fd0a8b9f353ea026fe8e7670a036aacb66-knockout_punches.js\\\"}],\\\"type\\\":\\\"async_block\\\"})).then((imports) => handler.apply(this, imports));\\n}\\n\"],\"observables\":{\"changes\":{\"sync\":false,\"id\":\"7995703738632891299\",\"value\":0},\"index\":{\"sync\":true,\"id\":\"4050912956311699042\",\"value\":133}}},\"children\":[{\"props\":{\"className\":\"interact-flex-row interact-widget\"},\"nodeType\":\"DOM\",\"type\":\"node\",\"instanceArgs\":{\"namespace\":\"html\",\"tag\":\"div\"},\"children\":[{\"props\":{\"className\":\"interact-flex-row-left\"},\"nodeType\":\"DOM\",\"type\":\"node\",\"instanceArgs\":{\"namespace\":\"html\",\"tag\":\"div\"},\"children\":[{\"props\":{\"className\":\"interact \",\"style\":{\"padding\":\"5px 10px 0px 10px\"}},\"nodeType\":\"DOM\",\"type\":\"node\",\"instanceArgs\":{\"namespace\":\"html\",\"tag\":\"label\"},\"children\":[\"i\"]}]},{\"props\":{\"className\":\"interact-flex-row-center\"},\"nodeType\":\"DOM\",\"type\":\"node\",\"instanceArgs\":{\"namespace\":\"html\",\"tag\":\"div\"},\"children\":[{\"props\":{\"max\":266,\"min\":1,\"attributes\":{\"type\":\"range\",\"data-bind\":\"numericValue: index, valueUpdate: 'input', event: {change: function (){this.changes(this.changes()+1)}}\",\"orient\":\"horizontal\"},\"step\":1,\"className\":\"slider slider is-fullwidth\",\"style\":{}},\"nodeType\":\"DOM\",\"type\":\"node\",\"instanceArgs\":{\"namespace\":\"html\",\"tag\":\"input\"},\"children\":[]}]},{\"props\":{\"className\":\"interact-flex-row-right\"},\"nodeType\":\"DOM\",\"type\":\"node\",\"instanceArgs\":{\"namespace\":\"html\",\"tag\":\"div\"},\"children\":[{\"props\":{\"attributes\":{\"data-bind\":\"text: formatted_val\"}},\"nodeType\":\"DOM\",\"type\":\"node\",\"instanceArgs\":{\"namespace\":\"html\",\"tag\":\"p\"},\"children\":[]}]}]}]}]},{\"props\":{},\"nodeType\":\"Scope\",\"type\":\"node\",\"instanceArgs\":{\"imports\":{\"data\":[],\"type\":\"async_block\"},\"id\":\"1532909303514462641\",\"handlers\":{},\"systemjs_options\":null,\"mount_callbacks\":[],\"observables\":{\"obs-node\":{\"sync\":false,\"id\":\"7350275522132905037\",\"value\":{\"props\":{\"className\":\"interact-flex-row interact-widget\"},\"nodeType\":\"DOM\",\"type\":\"node\",\"instanceArgs\":{\"namespace\":\"html\",\"tag\":\"div\"},\"children\":[\"Indonesia\"]}}}},\"children\":[{\"props\":{},\"nodeType\":\"ObservableNode\",\"type\":\"node\",\"instanceArgs\":{\"id\":\"7350275522132905037\",\"name\":\"obs-node\"},\"children\":[]}]}]},\n",
       "            window,\n",
       "        );\n",
       "    } else {\n",
       "        document\n",
       "            .querySelector('[data-webio-mountpoint=\"11236961547687399334\"]')\n",
       "            .innerHTML = (\n",
       "                '<div style=\"padding: 1em; background-color: #f8d6da; border: 1px solid #f5c6cb\">' +\n",
       "                '<p><strong>WebIO not detected.</strong></p>' +\n",
       "                '<p>Please read ' +\n",
       "                '<a href=\"https://juliagizmos.github.io/WebIO.jl/latest/troubleshooting/not-detected/\" target=\"_blank\">the troubleshooting guide</a> ' +\n",
       "                'for more information on how to resolve this issue.</p>' +\n",
       "                '<p><a href=\"https://juliagizmos.github.io/WebIO.jl/latest/troubleshooting/not-detected/\" target=\"_blank\">https://juliagizmos.github.io/WebIO.jl/latest/troubleshooting/not-detected/</a></p>' +\n",
       "                '</div>'\n",
       "            );\n",
       "    }\n",
       "    </script>\n",
       "</div>\n"
      ],
      "text/plain": [
       "Node{WebIO.DOM}(WebIO.DOM(:html, :div), Any[Node{WebIO.DOM}(WebIO.DOM(:html, :div), Any[Scope(Node{WebIO.DOM}(WebIO.DOM(:html, :div), Any[Node{WebIO.DOM}(WebIO.DOM(:html, :div), Any[Node{WebIO.DOM}(WebIO.DOM(:html, :label), Any[\"i\"], Dict{Symbol,Any}(:className => \"interact \",:style => Dict{Any,Any}(:padding => \"5px 10px 0px 10px\")))], Dict{Symbol,Any}(:className => \"interact-flex-row-left\")), Node{WebIO.DOM}(WebIO.DOM(:html, :div), Any[Node{WebIO.DOM}(WebIO.DOM(:html, :input), Any[], Dict{Symbol,Any}(:max => 266,:min => 1,:attributes => Dict{Any,Any}(:type => \"range\",Symbol(\"data-bind\") => \"numericValue: index, valueUpdate: 'input', event: {change: function (){this.changes(this.changes()+1)}}\",\"orient\" => \"horizontal\"),:step => 1,:className => \"slider slider is-fullwidth\",:style => Dict{Any,Any}()))], Dict{Symbol,Any}(:className => \"interact-flex-row-center\")), Node{WebIO.DOM}(WebIO.DOM(:html, :div), Any[Node{WebIO.DOM}(WebIO.DOM(:html, :p), Any[], Dict{Symbol,Any}(:attributes => Dict(\"data-bind\" => \"text: formatted_val\")))], Dict{Symbol,Any}(:className => \"interact-flex-row-right\"))], Dict{Symbol,Any}(:className => \"interact-flex-row interact-widget\")), Dict{String,Tuple{Observables.AbstractObservable,Union{Nothing, Bool}}}(\"changes\" => (Observable{Int64} with 1 listeners. Value:\n",
       "0, nothing),\"index\" => (Observable{Int64} with 2 listeners. Value:\n",
       "133, nothing)), Set(String[]), nothing, Asset[Asset(\"js\", \"knockout\", \"C:\\\\Users\\\\Hp EliteBook\\\\.julia\\\\packages\\\\Knockout\\\\IP1uR\\\\src\\\\..\\\\assets\\\\knockout.js\"), Asset(\"js\", \"knockout_punches\", \"C:\\\\Users\\\\Hp EliteBook\\\\.julia\\\\packages\\\\Knockout\\\\IP1uR\\\\src\\\\..\\\\assets\\\\knockout_punches.js\"), Asset(\"js\", nothing, \"C:\\\\Users\\\\Hp EliteBook\\\\.julia\\\\packages\\\\InteractBase\\\\sOe2Z\\\\src\\\\..\\\\assets\\\\all.js\"), Asset(\"css\", nothing, \"C:\\\\Users\\\\Hp EliteBook\\\\.julia\\\\packages\\\\InteractBase\\\\sOe2Z\\\\src\\\\..\\\\assets\\\\style.css\"), Asset(\"css\", nothing, \"C:\\\\Users\\\\Hp EliteBook\\\\.julia\\\\packages\\\\Interact\\\\SbgIk\\\\src\\\\..\\\\assets\\\\bulma_confined.min.css\")], Dict{Any,Any}(\"changes\" => Any[WebIO.JSString(\"(function (val){return (val!=this.model[\\\"changes\\\"]()) ? (this.valueFromJulia[\\\"changes\\\"]=true, this.model[\\\"changes\\\"](val)) : undefined})\")],\"index\" => Any[WebIO.JSString(\"(function (val){return (val!=this.model[\\\"index\\\"]()) ? (this.valueFromJulia[\\\"index\\\"]=true, this.model[\\\"index\\\"](val)) : undefined})\")]), WebIO.ConnectionPool(Channel{Any}(sz_max:32,sz_curr:0), Set(AbstractConnection[]), Base.GenericCondition{Base.AlwaysLockedST}(Base.InvasiveLinkedList{Task}(Task (runnable) @0x00000000123c02f0, Task (runnable) @0x00000000123c02f0), Base.AlwaysLockedST(1))), WebIO.JSString[WebIO.JSString(\"function () {\\n    var handler = (function (ko, koPunches) {\\n    ko.punches.enableAll();\\n    ko.bindingHandlers.numericValue = {\\n        init: function(element, valueAccessor, allBindings, data, context) {\\n            var stringified = ko.observable(ko.unwrap(valueAccessor()));\\n            stringified.subscribe(function(value) {\\n                var val = parseFloat(value);\\n                if (!isNaN(val)) {\\n                    valueAccessor()(val);\\n                }\\n            });\\n            valueAccessor().subscribe(function(value) {\\n                var str = JSON.stringify(value);\\n                if ((str == \\\"0\\\") && ([\\\"-0\\\", \\\"-0.\\\"].indexOf(stringified()) >= 0))\\n                     return;\\n                 if ([\\\"null\\\", \\\"\\\"].indexOf(str) >= 0)\\n                     return;\\n                stringified(str);\\n            });\\n            ko.applyBindingsToNode(\\n                element,\\n                {\\n                    value: stringified,\\n                    valueUpdate: allBindings.get('valueUpdate'),\\n                },\\n                context,\\n            );\\n        }\\n    };\\n    var json_data = {\\\"formatted_vals\\\":[\\\"1\\\",\\\"2\\\",\\\"3\\\",\\\"4\\\",\\\"5\\\",\\\"6\\\",\\\"7\\\",\\\"8\\\",\\\"9\\\",\\\"10\\\",\\\"11\\\",\\\"12\\\",\\\"13\\\",\\\"14\\\",\\\"15\\\",\\\"16\\\",\\\"17\\\",\\\"18\\\",\\\"19\\\",\\\"20\\\",\\\"21\\\",\\\"22\\\",\\\"23\\\",\\\"24\\\",\\\"25\\\",\\\"26\\\",\\\"27\\\",\\\"28\\\",\\\"29\\\",\\\"30\\\",\\\"31\\\",\\\"32\\\",\\\"33\\\",\\\"34\\\",\\\"35\\\",\\\"36\\\",\\\"37\\\",\\\"38\\\",\\\"39\\\",\\\"40\\\",\\\"41\\\",\\\"42\\\",\\\"43\\\",\\\"44\\\",\\\"45\\\",\\\"46\\\",\\\"47\\\",\\\"48\\\",\\\"49\\\",\\\"50\\\",\\\"51\\\",\\\"52\\\",\\\"53\\\",\\\"54\\\",\\\"55\\\",\\\"56\\\",\\\"57\\\",\\\"58\\\",\\\"59\\\",\\\"60\\\",\\\"61\\\",\\\"62\\\",\\\"63\\\",\\\"64\\\",\\\"65\\\",\\\"66\\\",\\\"67\\\",\\\"68\\\",\\\"69\\\",\\\"70\\\",\\\"71\\\",\\\"72\\\",\\\"73\\\",\\\"74\\\",\\\"75\\\",\\\"76\\\",\\\"77\\\",\\\"78\\\",\\\"79\\\",\\\"80\\\",\\\"81\\\",\\\"82\\\",\\\"83\\\",\\\"84\\\",\\\"85\\\",\\\"86\\\",\\\"87\\\",\\\"88\\\",\\\"89\\\",\\\"90\\\",\\\"91\\\",\\\"92\\\",\\\"93\\\",\\\"94\\\",\\\"95\\\",\\\"96\\\",\\\"97\\\",\\\"98\\\",\\\"99\\\",\\\"100\\\",\\\"101\\\",\\\"102\\\",\\\"103\\\",\\\"104\\\",\\\"105\\\",\\\"106\\\",\\\"107\\\",\\\"108\\\",\\\"109\\\",\\\"110\\\",\\\"111\\\",\\\"112\\\",\\\"113\\\",\\\"114\\\",\\\"115\\\",\\\"116\\\",\\\"117\\\",\\\"118\\\",\\\"119\\\",\\\"120\\\",\\\"121\\\",\\\"122\\\",\\\"123\\\",\\\"124\\\",\\\"125\\\",\\\"126\\\",\\\"127\\\",\\\"128\\\",\\\"129\\\",\\\"130\\\",\\\"131\\\",\\\"132\\\",\\\"133\\\",\\\"134\\\",\\\"135\\\",\\\"136\\\",\\\"137\\\",\\\"138\\\",\\\"139\\\",\\\"140\\\",\\\"141\\\",\\\"142\\\",\\\"143\\\",\\\"144\\\",\\\"145\\\",\\\"146\\\",\\\"147\\\",\\\"148\\\",\\\"149\\\",\\\"150\\\",\\\"151\\\",\\\"152\\\",\\\"153\\\",\\\"154\\\",\\\"155\\\",\\\"156\\\",\\\"157\\\",\\\"158\\\",\\\"159\\\",\\\"160\\\",\\\"161\\\",\\\"162\\\",\\\"163\\\",\\\"164\\\",\\\"165\\\",\\\"166\\\",\\\"167\\\",\\\"168\\\",\\\"169\\\",\\\"170\\\",\\\"171\\\",\\\"172\\\",\\\"173\\\",\\\"174\\\",\\\"175\\\",\\\"176\\\",\\\"177\\\",\\\"178\\\",\\\"179\\\",\\\"180\\\",\\\"181\\\",\\\"182\\\",\\\"183\\\",\\\"184\\\",\\\"185\\\",\\\"186\\\",\\\"187\\\",\\\"188\\\",\\\"189\\\",\\\"190\\\",\\\"191\\\",\\\"192\\\",\\\"193\\\",\\\"194\\\",\\\"195\\\",\\\"196\\\",\\\"197\\\",\\\"198\\\",\\\"199\\\",\\\"200\\\",\\\"201\\\",\\\"202\\\",\\\"203\\\",\\\"204\\\",\\\"205\\\",\\\"206\\\",\\\"207\\\",\\\"208\\\",\\\"209\\\",\\\"210\\\",\\\"211\\\",\\\"212\\\",\\\"213\\\",\\\"214\\\",\\\"215\\\",\\\"216\\\",\\\"217\\\",\\\"218\\\",\\\"219\\\",\\\"220\\\",\\\"221\\\",\\\"222\\\",\\\"223\\\",\\\"224\\\",\\\"225\\\",\\\"226\\\",\\\"227\\\",\\\"228\\\",\\\"229\\\",\\\"230\\\",\\\"231\\\",\\\"232\\\",\\\"233\\\",\\\"234\\\",\\\"235\\\",\\\"236\\\",\\\"237\\\",\\\"238\\\",\\\"239\\\",\\\"240\\\",\\\"241\\\",\\\"242\\\",\\\"243\\\",\\\"244\\\",\\\"245\\\",\\\"246\\\",\\\"247\\\",\\\"248\\\",\\\"249\\\",\\\"250\\\",\\\"251\\\",\\\"252\\\",\\\"253\\\",\\\"254\\\",\\\"255\\\",\\\"256\\\",\\\"257\\\",\\\"258\\\",\\\"259\\\",\\\"260\\\",\\\"261\\\",\\\"262\\\",\\\"263\\\",\\\"264\\\",\\\"265\\\",\\\"266\\\"],\\\"changes\\\":WebIO.getval({\\\"name\\\":\\\"changes\\\",\\\"scope\\\":\\\"8374943085043880406\\\",\\\"id\\\":\\\"7995703738632891299\\\",\\\"type\\\":\\\"observable\\\"}),\\\"index\\\":WebIO.getval({\\\"name\\\":\\\"index\\\",\\\"scope\\\":\\\"8374943085043880406\\\",\\\"id\\\":\\\"4050912956311699042\\\",\\\"type\\\":\\\"observable\\\"})};\\n    var self = this;\\n    function AppViewModel() {\\n        for (var key in json_data) {\\n            var el = json_data[key];\\n            this[key] = Array.isArray(el) ? ko.observableArray(el) : ko.observable(el);\\n        }\\n        \\n        [this[\\\"formatted_val\\\"]=ko.computed(    function(){\\n        return this.formatted_vals()[parseInt(this.index())-(1)];\\n    }\\n,this)]\\n        [this[\\\"changes\\\"].subscribe((function (val){!(this.valueFromJulia[\\\"changes\\\"]) ? (WebIO.setval({\\\"name\\\":\\\"changes\\\",\\\"scope\\\":\\\"8374943085043880406\\\",\\\"id\\\":\\\"7995703738632891299\\\",\\\"type\\\":\\\"observable\\\"},val)) : undefined; return this.valueFromJulia[\\\"changes\\\"]=false}),self),this[\\\"index\\\"].subscribe((function (val){!(this.valueFromJulia[\\\"index\\\"]) ? (WebIO.setval({\\\"name\\\":\\\"index\\\",\\\"scope\\\":\\\"8374943085043880406\\\",\\\"id\\\":\\\"4050912956311699042\\\",\\\"type\\\":\\\"observable\\\"},val)) : undefined; return this.valueFromJulia[\\\"index\\\"]=false}),self)]\\n        \\n    }\\n    self.model = new AppViewModel();\\n    self.valueFromJulia = {};\\n    for (var key in json_data) {\\n        self.valueFromJulia[key] = false;\\n    }\\n    ko.applyBindings(self.model, self.dom);\\n}\\n);\\n    (WebIO.importBlock({\\\"data\\\":[{\\\"name\\\":\\\"knockout\\\",\\\"type\\\":\\\"js\\\",\\\"url\\\":\\\"/assetserver/b11976f3d16930ca52e686fb903e8f6e21aa0a27-knockout.js\\\"},{\\\"name\\\":\\\"knockout_punches\\\",\\\"type\\\":\\\"js\\\",\\\"url\\\":\\\"/assetserver/35ffd0fd0a8b9f353ea026fe8e7670a036aacb66-knockout_punches.js\\\"}],\\\"type\\\":\\\"async_block\\\"})).then((imports) => handler.apply(this, imports));\\n}\\n\")])], Dict{Symbol,Any}(:className => \"field interact-widget\")), Observable{Any} with 0 listeners. Value:\n",
       "Node{WebIO.DOM}(WebIO.DOM(:html, :div), Any[\"Indonesia\"], Dict{Symbol,Any}(:className => \"interact-flex-row interact-widget\"))], Dict{Symbol,Any}())"
      ]
     },
     "execution_count": 15,
     "metadata": {
      "application/vnd.webio.node+json": {
       "kernelId": "b9c76d26-75a8-4e66-99f0-535227d6feb4"
      }
     },
     "output_type": "execute_result"
    }
   ],
   "source": [
    "@manipulate for i in 1:length(countries) # in the column of countries, start from row 1 and the whole length\n",
    "    countries[i] # starting from row 1; display country names with their corresponding number\n",
    "end"
   ]
  },
  {
   "cell_type": "markdown",
   "metadata": {},
   "source": [
    "Extract data and plot"
   ]
  },
  {
   "cell_type": "code",
   "execution_count": 16,
   "metadata": {
    "scrolled": true
   },
   "outputs": [
    {
     "data": {
      "application/vnd.webio.node+json": {
       "children": [
        {
         "children": [
          {
           "children": [
            {
             "children": [
              {
               "children": [
                {
                 "children": [
                  "i"
                 ],
                 "instanceArgs": {
                  "namespace": "html",
                  "tag": "label"
                 },
                 "nodeType": "DOM",
                 "props": {
                  "className": "interact ",
                  "style": {
                   "padding": "5px 10px 0px 10px"
                  }
                 },
                 "type": "node"
                }
               ],
               "instanceArgs": {
                "namespace": "html",
                "tag": "div"
               },
               "nodeType": "DOM",
               "props": {
                "className": "interact-flex-row-left"
               },
               "type": "node"
              },
              {
               "children": [
                {
                 "children": [],
                 "instanceArgs": {
                  "namespace": "html",
                  "tag": "input"
                 },
                 "nodeType": "DOM",
                 "props": {
                  "attributes": {
                   "data-bind": "numericValue: index, valueUpdate: 'input', event: {change: function (){this.changes(this.changes()+1)}}",
                   "orient": "horizontal",
                   "type": "range"
                  },
                  "className": "slider slider is-fullwidth",
                  "max": 266,
                  "min": 1,
                  "step": 1,
                  "style": {}
                 },
                 "type": "node"
                }
               ],
               "instanceArgs": {
                "namespace": "html",
                "tag": "div"
               },
               "nodeType": "DOM",
               "props": {
                "className": "interact-flex-row-center"
               },
               "type": "node"
              },
              {
               "children": [
                {
                 "children": [],
                 "instanceArgs": {
                  "namespace": "html",
                  "tag": "p"
                 },
                 "nodeType": "DOM",
                 "props": {
                  "attributes": {
                   "data-bind": "text: formatted_val"
                  }
                 },
                 "type": "node"
                }
               ],
               "instanceArgs": {
                "namespace": "html",
                "tag": "div"
               },
               "nodeType": "DOM",
               "props": {
                "className": "interact-flex-row-right"
               },
               "type": "node"
              }
             ],
             "instanceArgs": {
              "namespace": "html",
              "tag": "div"
             },
             "nodeType": "DOM",
             "props": {
              "className": "interact-flex-row interact-widget"
             },
             "type": "node"
            }
           ],
           "instanceArgs": {
            "handlers": {
             "changes": [
              "(function (val){return (val!=this.model[\"changes\"]()) ? (this.valueFromJulia[\"changes\"]=true, this.model[\"changes\"](val)) : undefined})"
             ],
             "index": [
              "(function (val){return (val!=this.model[\"index\"]()) ? (this.valueFromJulia[\"index\"]=true, this.model[\"index\"](val)) : undefined})"
             ]
            },
            "id": "1517111488216249198",
            "imports": {
             "data": [
              {
               "name": "knockout",
               "type": "js",
               "url": "/assetserver/b11976f3d16930ca52e686fb903e8f6e21aa0a27-knockout.js"
              },
              {
               "name": "knockout_punches",
               "type": "js",
               "url": "/assetserver/35ffd0fd0a8b9f353ea026fe8e7670a036aacb66-knockout_punches.js"
              },
              {
               "name": null,
               "type": "js",
               "url": "/assetserver/d7dc43cd8e032859830dbaf2c129ee643dddc5b8-all.js"
              },
              {
               "name": null,
               "type": "css",
               "url": "/assetserver/0c2243c1fec513e3455ae87a7faf286dcb3855bb-style.css"
              },
              {
               "name": null,
               "type": "css",
               "url": "/assetserver/d14c3e99eaf8f69e0990cd6fca3cdbb2b0ac8108-bulma_confined.min.css"
              }
             ],
             "type": "async_block"
            },
            "mount_callbacks": [
             "function () {\n    var handler = (function (ko, koPunches) {\n    ko.punches.enableAll();\n    ko.bindingHandlers.numericValue = {\n        init: function(element, valueAccessor, allBindings, data, context) {\n            var stringified = ko.observable(ko.unwrap(valueAccessor()));\n            stringified.subscribe(function(value) {\n                var val = parseFloat(value);\n                if (!isNaN(val)) {\n                    valueAccessor()(val);\n                }\n            });\n            valueAccessor().subscribe(function(value) {\n                var str = JSON.stringify(value);\n                if ((str == \"0\") && ([\"-0\", \"-0.\"].indexOf(stringified()) >= 0))\n                     return;\n                 if ([\"null\", \"\"].indexOf(str) >= 0)\n                     return;\n                stringified(str);\n            });\n            ko.applyBindingsToNode(\n                element,\n                {\n                    value: stringified,\n                    valueUpdate: allBindings.get('valueUpdate'),\n                },\n                context,\n            );\n        }\n    };\n    var json_data = {\"formatted_vals\":[\"1\",\"2\",\"3\",\"4\",\"5\",\"6\",\"7\",\"8\",\"9\",\"10\",\"11\",\"12\",\"13\",\"14\",\"15\",\"16\",\"17\",\"18\",\"19\",\"20\",\"21\",\"22\",\"23\",\"24\",\"25\",\"26\",\"27\",\"28\",\"29\",\"30\",\"31\",\"32\",\"33\",\"34\",\"35\",\"36\",\"37\",\"38\",\"39\",\"40\",\"41\",\"42\",\"43\",\"44\",\"45\",\"46\",\"47\",\"48\",\"49\",\"50\",\"51\",\"52\",\"53\",\"54\",\"55\",\"56\",\"57\",\"58\",\"59\",\"60\",\"61\",\"62\",\"63\",\"64\",\"65\",\"66\",\"67\",\"68\",\"69\",\"70\",\"71\",\"72\",\"73\",\"74\",\"75\",\"76\",\"77\",\"78\",\"79\",\"80\",\"81\",\"82\",\"83\",\"84\",\"85\",\"86\",\"87\",\"88\",\"89\",\"90\",\"91\",\"92\",\"93\",\"94\",\"95\",\"96\",\"97\",\"98\",\"99\",\"100\",\"101\",\"102\",\"103\",\"104\",\"105\",\"106\",\"107\",\"108\",\"109\",\"110\",\"111\",\"112\",\"113\",\"114\",\"115\",\"116\",\"117\",\"118\",\"119\",\"120\",\"121\",\"122\",\"123\",\"124\",\"125\",\"126\",\"127\",\"128\",\"129\",\"130\",\"131\",\"132\",\"133\",\"134\",\"135\",\"136\",\"137\",\"138\",\"139\",\"140\",\"141\",\"142\",\"143\",\"144\",\"145\",\"146\",\"147\",\"148\",\"149\",\"150\",\"151\",\"152\",\"153\",\"154\",\"155\",\"156\",\"157\",\"158\",\"159\",\"160\",\"161\",\"162\",\"163\",\"164\",\"165\",\"166\",\"167\",\"168\",\"169\",\"170\",\"171\",\"172\",\"173\",\"174\",\"175\",\"176\",\"177\",\"178\",\"179\",\"180\",\"181\",\"182\",\"183\",\"184\",\"185\",\"186\",\"187\",\"188\",\"189\",\"190\",\"191\",\"192\",\"193\",\"194\",\"195\",\"196\",\"197\",\"198\",\"199\",\"200\",\"201\",\"202\",\"203\",\"204\",\"205\",\"206\",\"207\",\"208\",\"209\",\"210\",\"211\",\"212\",\"213\",\"214\",\"215\",\"216\",\"217\",\"218\",\"219\",\"220\",\"221\",\"222\",\"223\",\"224\",\"225\",\"226\",\"227\",\"228\",\"229\",\"230\",\"231\",\"232\",\"233\",\"234\",\"235\",\"236\",\"237\",\"238\",\"239\",\"240\",\"241\",\"242\",\"243\",\"244\",\"245\",\"246\",\"247\",\"248\",\"249\",\"250\",\"251\",\"252\",\"253\",\"254\",\"255\",\"256\",\"257\",\"258\",\"259\",\"260\",\"261\",\"262\",\"263\",\"264\",\"265\",\"266\"],\"changes\":WebIO.getval({\"name\":\"changes\",\"scope\":\"1517111488216249198\",\"id\":\"16241654592666683343\",\"type\":\"observable\"}),\"index\":WebIO.getval({\"name\":\"index\",\"scope\":\"1517111488216249198\",\"id\":\"2920239224957366017\",\"type\":\"observable\"})};\n    var self = this;\n    function AppViewModel() {\n        for (var key in json_data) {\n            var el = json_data[key];\n            this[key] = Array.isArray(el) ? ko.observableArray(el) : ko.observable(el);\n        }\n        \n        [this[\"formatted_val\"]=ko.computed(    function(){\n        return this.formatted_vals()[parseInt(this.index())-(1)];\n    }\n,this)]\n        [this[\"changes\"].subscribe((function (val){!(this.valueFromJulia[\"changes\"]) ? (WebIO.setval({\"name\":\"changes\",\"scope\":\"1517111488216249198\",\"id\":\"16241654592666683343\",\"type\":\"observable\"},val)) : undefined; return this.valueFromJulia[\"changes\"]=false}),self),this[\"index\"].subscribe((function (val){!(this.valueFromJulia[\"index\"]) ? (WebIO.setval({\"name\":\"index\",\"scope\":\"1517111488216249198\",\"id\":\"2920239224957366017\",\"type\":\"observable\"},val)) : undefined; return this.valueFromJulia[\"index\"]=false}),self)]\n        \n    }\n    self.model = new AppViewModel();\n    self.valueFromJulia = {};\n    for (var key in json_data) {\n        self.valueFromJulia[key] = false;\n    }\n    ko.applyBindings(self.model, self.dom);\n}\n);\n    (WebIO.importBlock({\"data\":[{\"name\":\"knockout\",\"type\":\"js\",\"url\":\"/assetserver/b11976f3d16930ca52e686fb903e8f6e21aa0a27-knockout.js\"},{\"name\":\"knockout_punches\",\"type\":\"js\",\"url\":\"/assetserver/35ffd0fd0a8b9f353ea026fe8e7670a036aacb66-knockout_punches.js\"}],\"type\":\"async_block\"})).then((imports) => handler.apply(this, imports));\n}\n"
            ],
            "observables": {
             "changes": {
              "id": "16241654592666683343",
              "sync": false,
              "value": 0
             },
             "index": {
              "id": "2920239224957366017",
              "sync": true,
              "value": 133
             }
            },
            "systemjs_options": null
           },
           "nodeType": "Scope",
           "props": {},
           "type": "node"
          }
         ],
         "instanceArgs": {
          "namespace": "html",
          "tag": "div"
         },
         "nodeType": "DOM",
         "props": {
          "className": "field interact-widget"
         },
         "type": "node"
        },
        {
         "children": [
          {
           "children": [],
           "instanceArgs": {
            "id": "16843633588667652117",
            "name": "obs-node"
           },
           "nodeType": "ObservableNode",
           "props": {},
           "type": "node"
          }
         ],
         "instanceArgs": {
          "handlers": {},
          "id": "9395796072160172649",
          "imports": {
           "data": [],
           "type": "async_block"
          },
          "mount_callbacks": [],
          "observables": {
           "obs-node": {
            "id": "16843633588667652117",
            "sync": false,
            "value": {
             "children": [
              {
               "children": [],
               "instanceArgs": {
                "namespace": "html",
                "tag": "div"
               },
               "nodeType": "DOM",
               "props": {
                "setInnerHtml": "<p>DataFrameRow (10 columns)</p><table class=\"data-frame\"><thead><tr><th></th><th>province</th><th>country</th><th>Lat</th><th>Long</th><th>1/22/20</th><th>1/23/20</th><th>1/24/20</th><th>1/25/20</th><th>1/26/20</th><th>1/27/20</th></tr><tr><th></th><th>String?</th><th>String</th><th>Float64</th><th>Float64</th><th>Int64</th><th>Int64</th><th>Int64</th><th>Int64</th><th>Int64</th><th>Int64</th></tr></thead><tbody><tr><th>133</th><td><em>missing</em></td><td>Indonesia</td><td>-0.7893</td><td>113.921</td><td>0</td><td>0</td><td>0</td><td>0</td><td>0</td><td>0</td></tr></tbody></table>"
               },
               "type": "node"
              }
             ],
             "instanceArgs": {
              "namespace": "html",
              "tag": "div"
             },
             "nodeType": "DOM",
             "props": {
              "className": "interact-flex-row interact-widget"
             },
             "type": "node"
            }
           }
          },
          "systemjs_options": null
         },
         "nodeType": "Scope",
         "props": {},
         "type": "node"
        }
       ],
       "instanceArgs": {
        "namespace": "html",
        "tag": "div"
       },
       "nodeType": "DOM",
       "props": {},
       "type": "node"
      },
      "text/html": [
       "<div\n",
       "    class=\"webio-mountpoint\"\n",
       "    data-webio-mountpoint=\"1642134171285266845\"\n",
       ">\n",
       "    <script>\n",
       "    if (window.require && require.defined && require.defined(\"nbextensions/webio-jupyter-notebook\")) {\n",
       "        console.log(\"Jupyter WebIO extension detected, not mounting.\");\n",
       "    } else if (window.WebIO) {\n",
       "        WebIO.mount(\n",
       "            document.querySelector('[data-webio-mountpoint=\"1642134171285266845\"]'),\n",
       "            {\"props\":{},\"nodeType\":\"DOM\",\"type\":\"node\",\"instanceArgs\":{\"namespace\":\"html\",\"tag\":\"div\"},\"children\":[{\"props\":{\"className\":\"field interact-widget\"},\"nodeType\":\"DOM\",\"type\":\"node\",\"instanceArgs\":{\"namespace\":\"html\",\"tag\":\"div\"},\"children\":[{\"props\":{},\"nodeType\":\"Scope\",\"type\":\"node\",\"instanceArgs\":{\"imports\":{\"data\":[{\"name\":\"knockout\",\"type\":\"js\",\"url\":\"\\/assetserver\\/b11976f3d16930ca52e686fb903e8f6e21aa0a27-knockout.js\"},{\"name\":\"knockout_punches\",\"type\":\"js\",\"url\":\"\\/assetserver\\/35ffd0fd0a8b9f353ea026fe8e7670a036aacb66-knockout_punches.js\"},{\"name\":null,\"type\":\"js\",\"url\":\"\\/assetserver\\/d7dc43cd8e032859830dbaf2c129ee643dddc5b8-all.js\"},{\"name\":null,\"type\":\"css\",\"url\":\"\\/assetserver\\/0c2243c1fec513e3455ae87a7faf286dcb3855bb-style.css\"},{\"name\":null,\"type\":\"css\",\"url\":\"\\/assetserver\\/d14c3e99eaf8f69e0990cd6fca3cdbb2b0ac8108-bulma_confined.min.css\"}],\"type\":\"async_block\"},\"id\":\"1517111488216249198\",\"handlers\":{\"changes\":[\"(function (val){return (val!=this.model[\\\"changes\\\"]()) ? (this.valueFromJulia[\\\"changes\\\"]=true, this.model[\\\"changes\\\"](val)) : undefined})\"],\"index\":[\"(function (val){return (val!=this.model[\\\"index\\\"]()) ? (this.valueFromJulia[\\\"index\\\"]=true, this.model[\\\"index\\\"](val)) : undefined})\"]},\"systemjs_options\":null,\"mount_callbacks\":[\"function () {\\n    var handler = (function (ko, koPunches) {\\n    ko.punches.enableAll();\\n    ko.bindingHandlers.numericValue = {\\n        init: function(element, valueAccessor, allBindings, data, context) {\\n            var stringified = ko.observable(ko.unwrap(valueAccessor()));\\n            stringified.subscribe(function(value) {\\n                var val = parseFloat(value);\\n                if (!isNaN(val)) {\\n                    valueAccessor()(val);\\n                }\\n            });\\n            valueAccessor().subscribe(function(value) {\\n                var str = JSON.stringify(value);\\n                if ((str == \\\"0\\\") && ([\\\"-0\\\", \\\"-0.\\\"].indexOf(stringified()) >= 0))\\n                     return;\\n                 if ([\\\"null\\\", \\\"\\\"].indexOf(str) >= 0)\\n                     return;\\n                stringified(str);\\n            });\\n            ko.applyBindingsToNode(\\n                element,\\n                {\\n                    value: stringified,\\n                    valueUpdate: allBindings.get('valueUpdate'),\\n                },\\n                context,\\n            );\\n        }\\n    };\\n    var json_data = {\\\"formatted_vals\\\":[\\\"1\\\",\\\"2\\\",\\\"3\\\",\\\"4\\\",\\\"5\\\",\\\"6\\\",\\\"7\\\",\\\"8\\\",\\\"9\\\",\\\"10\\\",\\\"11\\\",\\\"12\\\",\\\"13\\\",\\\"14\\\",\\\"15\\\",\\\"16\\\",\\\"17\\\",\\\"18\\\",\\\"19\\\",\\\"20\\\",\\\"21\\\",\\\"22\\\",\\\"23\\\",\\\"24\\\",\\\"25\\\",\\\"26\\\",\\\"27\\\",\\\"28\\\",\\\"29\\\",\\\"30\\\",\\\"31\\\",\\\"32\\\",\\\"33\\\",\\\"34\\\",\\\"35\\\",\\\"36\\\",\\\"37\\\",\\\"38\\\",\\\"39\\\",\\\"40\\\",\\\"41\\\",\\\"42\\\",\\\"43\\\",\\\"44\\\",\\\"45\\\",\\\"46\\\",\\\"47\\\",\\\"48\\\",\\\"49\\\",\\\"50\\\",\\\"51\\\",\\\"52\\\",\\\"53\\\",\\\"54\\\",\\\"55\\\",\\\"56\\\",\\\"57\\\",\\\"58\\\",\\\"59\\\",\\\"60\\\",\\\"61\\\",\\\"62\\\",\\\"63\\\",\\\"64\\\",\\\"65\\\",\\\"66\\\",\\\"67\\\",\\\"68\\\",\\\"69\\\",\\\"70\\\",\\\"71\\\",\\\"72\\\",\\\"73\\\",\\\"74\\\",\\\"75\\\",\\\"76\\\",\\\"77\\\",\\\"78\\\",\\\"79\\\",\\\"80\\\",\\\"81\\\",\\\"82\\\",\\\"83\\\",\\\"84\\\",\\\"85\\\",\\\"86\\\",\\\"87\\\",\\\"88\\\",\\\"89\\\",\\\"90\\\",\\\"91\\\",\\\"92\\\",\\\"93\\\",\\\"94\\\",\\\"95\\\",\\\"96\\\",\\\"97\\\",\\\"98\\\",\\\"99\\\",\\\"100\\\",\\\"101\\\",\\\"102\\\",\\\"103\\\",\\\"104\\\",\\\"105\\\",\\\"106\\\",\\\"107\\\",\\\"108\\\",\\\"109\\\",\\\"110\\\",\\\"111\\\",\\\"112\\\",\\\"113\\\",\\\"114\\\",\\\"115\\\",\\\"116\\\",\\\"117\\\",\\\"118\\\",\\\"119\\\",\\\"120\\\",\\\"121\\\",\\\"122\\\",\\\"123\\\",\\\"124\\\",\\\"125\\\",\\\"126\\\",\\\"127\\\",\\\"128\\\",\\\"129\\\",\\\"130\\\",\\\"131\\\",\\\"132\\\",\\\"133\\\",\\\"134\\\",\\\"135\\\",\\\"136\\\",\\\"137\\\",\\\"138\\\",\\\"139\\\",\\\"140\\\",\\\"141\\\",\\\"142\\\",\\\"143\\\",\\\"144\\\",\\\"145\\\",\\\"146\\\",\\\"147\\\",\\\"148\\\",\\\"149\\\",\\\"150\\\",\\\"151\\\",\\\"152\\\",\\\"153\\\",\\\"154\\\",\\\"155\\\",\\\"156\\\",\\\"157\\\",\\\"158\\\",\\\"159\\\",\\\"160\\\",\\\"161\\\",\\\"162\\\",\\\"163\\\",\\\"164\\\",\\\"165\\\",\\\"166\\\",\\\"167\\\",\\\"168\\\",\\\"169\\\",\\\"170\\\",\\\"171\\\",\\\"172\\\",\\\"173\\\",\\\"174\\\",\\\"175\\\",\\\"176\\\",\\\"177\\\",\\\"178\\\",\\\"179\\\",\\\"180\\\",\\\"181\\\",\\\"182\\\",\\\"183\\\",\\\"184\\\",\\\"185\\\",\\\"186\\\",\\\"187\\\",\\\"188\\\",\\\"189\\\",\\\"190\\\",\\\"191\\\",\\\"192\\\",\\\"193\\\",\\\"194\\\",\\\"195\\\",\\\"196\\\",\\\"197\\\",\\\"198\\\",\\\"199\\\",\\\"200\\\",\\\"201\\\",\\\"202\\\",\\\"203\\\",\\\"204\\\",\\\"205\\\",\\\"206\\\",\\\"207\\\",\\\"208\\\",\\\"209\\\",\\\"210\\\",\\\"211\\\",\\\"212\\\",\\\"213\\\",\\\"214\\\",\\\"215\\\",\\\"216\\\",\\\"217\\\",\\\"218\\\",\\\"219\\\",\\\"220\\\",\\\"221\\\",\\\"222\\\",\\\"223\\\",\\\"224\\\",\\\"225\\\",\\\"226\\\",\\\"227\\\",\\\"228\\\",\\\"229\\\",\\\"230\\\",\\\"231\\\",\\\"232\\\",\\\"233\\\",\\\"234\\\",\\\"235\\\",\\\"236\\\",\\\"237\\\",\\\"238\\\",\\\"239\\\",\\\"240\\\",\\\"241\\\",\\\"242\\\",\\\"243\\\",\\\"244\\\",\\\"245\\\",\\\"246\\\",\\\"247\\\",\\\"248\\\",\\\"249\\\",\\\"250\\\",\\\"251\\\",\\\"252\\\",\\\"253\\\",\\\"254\\\",\\\"255\\\",\\\"256\\\",\\\"257\\\",\\\"258\\\",\\\"259\\\",\\\"260\\\",\\\"261\\\",\\\"262\\\",\\\"263\\\",\\\"264\\\",\\\"265\\\",\\\"266\\\"],\\\"changes\\\":WebIO.getval({\\\"name\\\":\\\"changes\\\",\\\"scope\\\":\\\"1517111488216249198\\\",\\\"id\\\":\\\"16241654592666683343\\\",\\\"type\\\":\\\"observable\\\"}),\\\"index\\\":WebIO.getval({\\\"name\\\":\\\"index\\\",\\\"scope\\\":\\\"1517111488216249198\\\",\\\"id\\\":\\\"2920239224957366017\\\",\\\"type\\\":\\\"observable\\\"})};\\n    var self = this;\\n    function AppViewModel() {\\n        for (var key in json_data) {\\n            var el = json_data[key];\\n            this[key] = Array.isArray(el) ? ko.observableArray(el) : ko.observable(el);\\n        }\\n        \\n        [this[\\\"formatted_val\\\"]=ko.computed(    function(){\\n        return this.formatted_vals()[parseInt(this.index())-(1)];\\n    }\\n,this)]\\n        [this[\\\"changes\\\"].subscribe((function (val){!(this.valueFromJulia[\\\"changes\\\"]) ? (WebIO.setval({\\\"name\\\":\\\"changes\\\",\\\"scope\\\":\\\"1517111488216249198\\\",\\\"id\\\":\\\"16241654592666683343\\\",\\\"type\\\":\\\"observable\\\"},val)) : undefined; return this.valueFromJulia[\\\"changes\\\"]=false}),self),this[\\\"index\\\"].subscribe((function (val){!(this.valueFromJulia[\\\"index\\\"]) ? (WebIO.setval({\\\"name\\\":\\\"index\\\",\\\"scope\\\":\\\"1517111488216249198\\\",\\\"id\\\":\\\"2920239224957366017\\\",\\\"type\\\":\\\"observable\\\"},val)) : undefined; return this.valueFromJulia[\\\"index\\\"]=false}),self)]\\n        \\n    }\\n    self.model = new AppViewModel();\\n    self.valueFromJulia = {};\\n    for (var key in json_data) {\\n        self.valueFromJulia[key] = false;\\n    }\\n    ko.applyBindings(self.model, self.dom);\\n}\\n);\\n    (WebIO.importBlock({\\\"data\\\":[{\\\"name\\\":\\\"knockout\\\",\\\"type\\\":\\\"js\\\",\\\"url\\\":\\\"\\/assetserver\\/b11976f3d16930ca52e686fb903e8f6e21aa0a27-knockout.js\\\"},{\\\"name\\\":\\\"knockout_punches\\\",\\\"type\\\":\\\"js\\\",\\\"url\\\":\\\"\\/assetserver\\/35ffd0fd0a8b9f353ea026fe8e7670a036aacb66-knockout_punches.js\\\"}],\\\"type\\\":\\\"async_block\\\"})).then((imports) => handler.apply(this, imports));\\n}\\n\"],\"observables\":{\"changes\":{\"sync\":false,\"id\":\"16241654592666683343\",\"value\":0},\"index\":{\"sync\":true,\"id\":\"2920239224957366017\",\"value\":133}}},\"children\":[{\"props\":{\"className\":\"interact-flex-row interact-widget\"},\"nodeType\":\"DOM\",\"type\":\"node\",\"instanceArgs\":{\"namespace\":\"html\",\"tag\":\"div\"},\"children\":[{\"props\":{\"className\":\"interact-flex-row-left\"},\"nodeType\":\"DOM\",\"type\":\"node\",\"instanceArgs\":{\"namespace\":\"html\",\"tag\":\"div\"},\"children\":[{\"props\":{\"className\":\"interact \",\"style\":{\"padding\":\"5px 10px 0px 10px\"}},\"nodeType\":\"DOM\",\"type\":\"node\",\"instanceArgs\":{\"namespace\":\"html\",\"tag\":\"label\"},\"children\":[\"i\"]}]},{\"props\":{\"className\":\"interact-flex-row-center\"},\"nodeType\":\"DOM\",\"type\":\"node\",\"instanceArgs\":{\"namespace\":\"html\",\"tag\":\"div\"},\"children\":[{\"props\":{\"max\":266,\"min\":1,\"attributes\":{\"type\":\"range\",\"data-bind\":\"numericValue: index, valueUpdate: 'input', event: {change: function (){this.changes(this.changes()+1)}}\",\"orient\":\"horizontal\"},\"step\":1,\"className\":\"slider slider is-fullwidth\",\"style\":{}},\"nodeType\":\"DOM\",\"type\":\"node\",\"instanceArgs\":{\"namespace\":\"html\",\"tag\":\"input\"},\"children\":[]}]},{\"props\":{\"className\":\"interact-flex-row-right\"},\"nodeType\":\"DOM\",\"type\":\"node\",\"instanceArgs\":{\"namespace\":\"html\",\"tag\":\"div\"},\"children\":[{\"props\":{\"attributes\":{\"data-bind\":\"text: formatted_val\"}},\"nodeType\":\"DOM\",\"type\":\"node\",\"instanceArgs\":{\"namespace\":\"html\",\"tag\":\"p\"},\"children\":[]}]}]}]}]},{\"props\":{},\"nodeType\":\"Scope\",\"type\":\"node\",\"instanceArgs\":{\"imports\":{\"data\":[],\"type\":\"async_block\"},\"id\":\"1252685356171736321\",\"handlers\":{},\"systemjs_options\":null,\"mount_callbacks\":[],\"observables\":{\"obs-node\":{\"sync\":false,\"id\":\"119366371739303396\",\"value\":{\"props\":{\"className\":\"interact-flex-row interact-widget\"},\"nodeType\":\"DOM\",\"type\":\"node\",\"instanceArgs\":{\"namespace\":\"html\",\"tag\":\"div\"},\"children\":[{\"props\":{\"setInnerHtml\":\"<p>DataFrameRow (10 columns)<\\/p><table class=\\\"data-frame\\\"><thead><tr><th><\\/th><th>province<\\/th><th>country<\\/th><th>Lat<\\/th><th>Long<\\/th><th>1\\/22\\/20<\\/th><th>1\\/23\\/20<\\/th><th>1\\/24\\/20<\\/th><th>1\\/25\\/20<\\/th><th>1\\/26\\/20<\\/th><th>1\\/27\\/20<\\/th><\\/tr><tr><th><\\/th><th>String?<\\/th><th>String<\\/th><th>Float64<\\/th><th>Float64<\\/th><th>Int64<\\/th><th>Int64<\\/th><th>Int64<\\/th><th>Int64<\\/th><th>Int64<\\/th><th>Int64<\\/th><\\/tr><\\/thead><tbody><tr><th>133<\\/th><td><em>missing<\\/em><\\/td><td>Indonesia<\\/td><td>-0.7893<\\/td><td>113.921<\\/td><td>0<\\/td><td>0<\\/td><td>0<\\/td><td>0<\\/td><td>0<\\/td><td>0<\\/td><\\/tr><\\/tbody><\\/table>\"},\"nodeType\":\"DOM\",\"type\":\"node\",\"instanceArgs\":{\"namespace\":\"html\",\"tag\":\"div\"},\"children\":[]}]}}}},\"children\":[{\"props\":{},\"nodeType\":\"ObservableNode\",\"type\":\"node\",\"instanceArgs\":{\"id\":\"119366371739303396\",\"name\":\"obs-node\"},\"children\":[]}]}]},\n",
       "            window,\n",
       "        );\n",
       "    } else {\n",
       "        document\n",
       "            .querySelector('[data-webio-mountpoint=\"1642134171285266845\"]')\n",
       "            .innerHTML = (\n",
       "                '<div style=\"padding: 1em; background-color: #f8d6da; border: 1px solid #f5c6cb\">' +\n",
       "                '<p><strong>WebIO not detected.</strong></p>' +\n",
       "                '<p>Please read ' +\n",
       "                '<a href=\"https://juliagizmos.github.io/WebIO.jl/latest/troubleshooting/not-detected/\" target=\"_blank\">the troubleshooting guide</a> ' +\n",
       "                'for more information on how to resolve this issue.</p>' +\n",
       "                '<p><a href=\"https://juliagizmos.github.io/WebIO.jl/latest/troubleshooting/not-detected/\" target=\"_blank\">https://juliagizmos.github.io/WebIO.jl/latest/troubleshooting/not-detected/</a></p>' +\n",
       "                '</div>'\n",
       "            );\n",
       "    }\n",
       "    </script>\n",
       "</div>\n"
      ],
      "text/plain": [
       "Node{WebIO.DOM}(WebIO.DOM(:html, :div), Any[Node{WebIO.DOM}(WebIO.DOM(:html, :div), Any[Scope(Node{WebIO.DOM}(WebIO.DOM(:html, :div), Any[Node{WebIO.DOM}(WebIO.DOM(:html, :div), Any[Node{WebIO.DOM}(WebIO.DOM(:html, :label), Any[\"i\"], Dict{Symbol,Any}(:className => \"interact \",:style => Dict{Any,Any}(:padding => \"5px 10px 0px 10px\")))], Dict{Symbol,Any}(:className => \"interact-flex-row-left\")), Node{WebIO.DOM}(WebIO.DOM(:html, :div), Any[Node{WebIO.DOM}(WebIO.DOM(:html, :input), Any[], Dict{Symbol,Any}(:max => 266,:min => 1,:attributes => Dict{Any,Any}(:type => \"range\",Symbol(\"data-bind\") => \"numericValue: index, valueUpdate: 'input', event: {change: function (){this.changes(this.changes()+1)}}\",\"orient\" => \"horizontal\"),:step => 1,:className => \"slider slider is-fullwidth\",:style => Dict{Any,Any}()))], Dict{Symbol,Any}(:className => \"interact-flex-row-center\")), Node{WebIO.DOM}(WebIO.DOM(:html, :div), Any[Node{WebIO.DOM}(WebIO.DOM(:html, :p), Any[], Dict{Symbol,Any}(:attributes => Dict(\"data-bind\" => \"text: formatted_val\")))], Dict{Symbol,Any}(:className => \"interact-flex-row-right\"))], Dict{Symbol,Any}(:className => \"interact-flex-row interact-widget\")), Dict{String,Tuple{Observables.AbstractObservable,Union{Nothing, Bool}}}(\"changes\" => (Observable{Int64} with 1 listeners. Value:\n",
       "0, nothing),\"index\" => (Observable{Int64} with 2 listeners. Value:\n",
       "133, nothing)), Set(String[]), nothing, Asset[Asset(\"js\", \"knockout\", \"C:\\\\Users\\\\Hp EliteBook\\\\.julia\\\\packages\\\\Knockout\\\\IP1uR\\\\src\\\\..\\\\assets\\\\knockout.js\"), Asset(\"js\", \"knockout_punches\", \"C:\\\\Users\\\\Hp EliteBook\\\\.julia\\\\packages\\\\Knockout\\\\IP1uR\\\\src\\\\..\\\\assets\\\\knockout_punches.js\"), Asset(\"js\", nothing, \"C:\\\\Users\\\\Hp EliteBook\\\\.julia\\\\packages\\\\InteractBase\\\\sOe2Z\\\\src\\\\..\\\\assets\\\\all.js\"), Asset(\"css\", nothing, \"C:\\\\Users\\\\Hp EliteBook\\\\.julia\\\\packages\\\\InteractBase\\\\sOe2Z\\\\src\\\\..\\\\assets\\\\style.css\"), Asset(\"css\", nothing, \"C:\\\\Users\\\\Hp EliteBook\\\\.julia\\\\packages\\\\Interact\\\\SbgIk\\\\src\\\\..\\\\assets\\\\bulma_confined.min.css\")], Dict{Any,Any}(\"changes\" => Any[WebIO.JSString(\"(function (val){return (val!=this.model[\\\"changes\\\"]()) ? (this.valueFromJulia[\\\"changes\\\"]=true, this.model[\\\"changes\\\"](val)) : undefined})\")],\"index\" => Any[WebIO.JSString(\"(function (val){return (val!=this.model[\\\"index\\\"]()) ? (this.valueFromJulia[\\\"index\\\"]=true, this.model[\\\"index\\\"](val)) : undefined})\")]), WebIO.ConnectionPool(Channel{Any}(sz_max:32,sz_curr:0), Set(AbstractConnection[]), Base.GenericCondition{Base.AlwaysLockedST}(Base.InvasiveLinkedList{Task}(Task (runnable) @0x0000000012626570, Task (runnable) @0x0000000012626570), Base.AlwaysLockedST(1))), WebIO.JSString[WebIO.JSString(\"function () {\\n    var handler = (function (ko, koPunches) {\\n    ko.punches.enableAll();\\n    ko.bindingHandlers.numericValue = {\\n        init: function(element, valueAccessor, allBindings, data, context) {\\n            var stringified = ko.observable(ko.unwrap(valueAccessor()));\\n            stringified.subscribe(function(value) {\\n                var val = parseFloat(value);\\n                if (!isNaN(val)) {\\n                    valueAccessor()(val);\\n                }\\n            });\\n            valueAccessor().subscribe(function(value) {\\n                var str = JSON.stringify(value);\\n                if ((str == \\\"0\\\") && ([\\\"-0\\\", \\\"-0.\\\"].indexOf(stringified()) >= 0))\\n                     return;\\n                 if ([\\\"null\\\", \\\"\\\"].indexOf(str) >= 0)\\n                     return;\\n                stringified(str);\\n            });\\n            ko.applyBindingsToNode(\\n                element,\\n                {\\n                    value: stringified,\\n                    valueUpdate: allBindings.get('valueUpdate'),\\n                },\\n                context,\\n            );\\n        }\\n    };\\n    var json_data = {\\\"formatted_vals\\\":[\\\"1\\\",\\\"2\\\",\\\"3\\\",\\\"4\\\",\\\"5\\\",\\\"6\\\",\\\"7\\\",\\\"8\\\",\\\"9\\\",\\\"10\\\",\\\"11\\\",\\\"12\\\",\\\"13\\\",\\\"14\\\",\\\"15\\\",\\\"16\\\",\\\"17\\\",\\\"18\\\",\\\"19\\\",\\\"20\\\",\\\"21\\\",\\\"22\\\",\\\"23\\\",\\\"24\\\",\\\"25\\\",\\\"26\\\",\\\"27\\\",\\\"28\\\",\\\"29\\\",\\\"30\\\",\\\"31\\\",\\\"32\\\",\\\"33\\\",\\\"34\\\",\\\"35\\\",\\\"36\\\",\\\"37\\\",\\\"38\\\",\\\"39\\\",\\\"40\\\",\\\"41\\\",\\\"42\\\",\\\"43\\\",\\\"44\\\",\\\"45\\\",\\\"46\\\",\\\"47\\\",\\\"48\\\",\\\"49\\\",\\\"50\\\",\\\"51\\\",\\\"52\\\",\\\"53\\\",\\\"54\\\",\\\"55\\\",\\\"56\\\",\\\"57\\\",\\\"58\\\",\\\"59\\\",\\\"60\\\",\\\"61\\\",\\\"62\\\",\\\"63\\\",\\\"64\\\",\\\"65\\\",\\\"66\\\",\\\"67\\\",\\\"68\\\",\\\"69\\\",\\\"70\\\",\\\"71\\\",\\\"72\\\",\\\"73\\\",\\\"74\\\",\\\"75\\\",\\\"76\\\",\\\"77\\\",\\\"78\\\",\\\"79\\\",\\\"80\\\",\\\"81\\\",\\\"82\\\",\\\"83\\\",\\\"84\\\",\\\"85\\\",\\\"86\\\",\\\"87\\\",\\\"88\\\",\\\"89\\\",\\\"90\\\",\\\"91\\\",\\\"92\\\",\\\"93\\\",\\\"94\\\",\\\"95\\\",\\\"96\\\",\\\"97\\\",\\\"98\\\",\\\"99\\\",\\\"100\\\",\\\"101\\\",\\\"102\\\",\\\"103\\\",\\\"104\\\",\\\"105\\\",\\\"106\\\",\\\"107\\\",\\\"108\\\",\\\"109\\\",\\\"110\\\",\\\"111\\\",\\\"112\\\",\\\"113\\\",\\\"114\\\",\\\"115\\\",\\\"116\\\",\\\"117\\\",\\\"118\\\",\\\"119\\\",\\\"120\\\",\\\"121\\\",\\\"122\\\",\\\"123\\\",\\\"124\\\",\\\"125\\\",\\\"126\\\",\\\"127\\\",\\\"128\\\",\\\"129\\\",\\\"130\\\",\\\"131\\\",\\\"132\\\",\\\"133\\\",\\\"134\\\",\\\"135\\\",\\\"136\\\",\\\"137\\\",\\\"138\\\",\\\"139\\\",\\\"140\\\",\\\"141\\\",\\\"142\\\",\\\"143\\\",\\\"144\\\",\\\"145\\\",\\\"146\\\",\\\"147\\\",\\\"148\\\",\\\"149\\\",\\\"150\\\",\\\"151\\\",\\\"152\\\",\\\"153\\\",\\\"154\\\",\\\"155\\\",\\\"156\\\",\\\"157\\\",\\\"158\\\",\\\"159\\\",\\\"160\\\",\\\"161\\\",\\\"162\\\",\\\"163\\\",\\\"164\\\",\\\"165\\\",\\\"166\\\",\\\"167\\\",\\\"168\\\",\\\"169\\\",\\\"170\\\",\\\"171\\\",\\\"172\\\",\\\"173\\\",\\\"174\\\",\\\"175\\\",\\\"176\\\",\\\"177\\\",\\\"178\\\",\\\"179\\\",\\\"180\\\",\\\"181\\\",\\\"182\\\",\\\"183\\\",\\\"184\\\",\\\"185\\\",\\\"186\\\",\\\"187\\\",\\\"188\\\",\\\"189\\\",\\\"190\\\",\\\"191\\\",\\\"192\\\",\\\"193\\\",\\\"194\\\",\\\"195\\\",\\\"196\\\",\\\"197\\\",\\\"198\\\",\\\"199\\\",\\\"200\\\",\\\"201\\\",\\\"202\\\",\\\"203\\\",\\\"204\\\",\\\"205\\\",\\\"206\\\",\\\"207\\\",\\\"208\\\",\\\"209\\\",\\\"210\\\",\\\"211\\\",\\\"212\\\",\\\"213\\\",\\\"214\\\",\\\"215\\\",\\\"216\\\",\\\"217\\\",\\\"218\\\",\\\"219\\\",\\\"220\\\",\\\"221\\\",\\\"222\\\",\\\"223\\\",\\\"224\\\",\\\"225\\\",\\\"226\\\",\\\"227\\\",\\\"228\\\",\\\"229\\\",\\\"230\\\",\\\"231\\\",\\\"232\\\",\\\"233\\\",\\\"234\\\",\\\"235\\\",\\\"236\\\",\\\"237\\\",\\\"238\\\",\\\"239\\\",\\\"240\\\",\\\"241\\\",\\\"242\\\",\\\"243\\\",\\\"244\\\",\\\"245\\\",\\\"246\\\",\\\"247\\\",\\\"248\\\",\\\"249\\\",\\\"250\\\",\\\"251\\\",\\\"252\\\",\\\"253\\\",\\\"254\\\",\\\"255\\\",\\\"256\\\",\\\"257\\\",\\\"258\\\",\\\"259\\\",\\\"260\\\",\\\"261\\\",\\\"262\\\",\\\"263\\\",\\\"264\\\",\\\"265\\\",\\\"266\\\"],\\\"changes\\\":WebIO.getval({\\\"name\\\":\\\"changes\\\",\\\"scope\\\":\\\"1517111488216249198\\\",\\\"id\\\":\\\"16241654592666683343\\\",\\\"type\\\":\\\"observable\\\"}),\\\"index\\\":WebIO.getval({\\\"name\\\":\\\"index\\\",\\\"scope\\\":\\\"1517111488216249198\\\",\\\"id\\\":\\\"2920239224957366017\\\",\\\"type\\\":\\\"observable\\\"})};\\n    var self = this;\\n    function AppViewModel() {\\n        for (var key in json_data) {\\n            var el = json_data[key];\\n            this[key] = Array.isArray(el) ? ko.observableArray(el) : ko.observable(el);\\n        }\\n        \\n        [this[\\\"formatted_val\\\"]=ko.computed(    function(){\\n        return this.formatted_vals()[parseInt(this.index())-(1)];\\n    }\\n,this)]\\n        [this[\\\"changes\\\"].subscribe((function (val){!(this.valueFromJulia[\\\"changes\\\"]) ? (WebIO.setval({\\\"name\\\":\\\"changes\\\",\\\"scope\\\":\\\"1517111488216249198\\\",\\\"id\\\":\\\"16241654592666683343\\\",\\\"type\\\":\\\"observable\\\"},val)) : undefined; return this.valueFromJulia[\\\"changes\\\"]=false}),self),this[\\\"index\\\"].subscribe((function (val){!(this.valueFromJulia[\\\"index\\\"]) ? (WebIO.setval({\\\"name\\\":\\\"index\\\",\\\"scope\\\":\\\"1517111488216249198\\\",\\\"id\\\":\\\"2920239224957366017\\\",\\\"type\\\":\\\"observable\\\"},val)) : undefined; return this.valueFromJulia[\\\"index\\\"]=false}),self)]\\n        \\n    }\\n    self.model = new AppViewModel();\\n    self.valueFromJulia = {};\\n    for (var key in json_data) {\\n        self.valueFromJulia[key] = false;\\n    }\\n    ko.applyBindings(self.model, self.dom);\\n}\\n);\\n    (WebIO.importBlock({\\\"data\\\":[{\\\"name\\\":\\\"knockout\\\",\\\"type\\\":\\\"js\\\",\\\"url\\\":\\\"/assetserver/b11976f3d16930ca52e686fb903e8f6e21aa0a27-knockout.js\\\"},{\\\"name\\\":\\\"knockout_punches\\\",\\\"type\\\":\\\"js\\\",\\\"url\\\":\\\"/assetserver/35ffd0fd0a8b9f353ea026fe8e7670a036aacb66-knockout_punches.js\\\"}],\\\"type\\\":\\\"async_block\\\"})).then((imports) => handler.apply(this, imports));\\n}\\n\")])], Dict{Symbol,Any}(:className => \"field interact-widget\")), Observable{Any} with 0 listeners. Value:\n",
       "Node{WebIO.DOM}(WebIO.DOM(:html, :div), Any[DataFrameRow. Omitted printing of 3 columns\n",
       "│ Row │ province │ country   │ Lat     │ Long    │ 1/22/20 │ 1/23/20 │ 1/24/20 │\n",
       "│     │ \u001b[90mString?\u001b[39m  │ \u001b[90mString\u001b[39m    │ \u001b[90mFloat64\u001b[39m │ \u001b[90mFloat64\u001b[39m │ \u001b[90mInt64\u001b[39m   │ \u001b[90mInt64\u001b[39m   │ \u001b[90mInt64\u001b[39m   │\n",
       "├─────┼──────────┼───────────┼─────────┼─────────┼─────────┼─────────┼─────────┤\n",
       "│ 133 │ \u001b[90mmissing\u001b[39m  │ Indonesia │ -0.7893 │ 113.921 │ 0       │ 0       │ 0       │], Dict{Symbol,Any}(:className => \"interact-flex-row interact-widget\"))], Dict{Symbol,Any}())"
      ]
     },
     "execution_count": 16,
     "metadata": {
      "application/vnd.webio.node+json": {
       "kernelId": "b9c76d26-75a8-4e66-99f0-535227d6feb4"
      }
     },
     "output_type": "execute_result"
    }
   ],
   "source": [
    "@manipulate for i in 1:length(countries)\n",
    "    datacopy[i, 1:10] # column 1 through 10\n",
    "end"
   ]
  },
  {
   "cell_type": "code",
   "execution_count": 17,
   "metadata": {},
   "outputs": [
    {
     "data": {
      "text/plain": [
       "true"
      ]
     },
     "execution_count": 17,
     "metadata": {},
     "output_type": "execute_result"
    }
   ],
   "source": [
    "startswith(\"South\", \"S\")"
   ]
  },
  {
   "cell_type": "markdown",
   "metadata": {},
   "source": [
    "Array comprehension"
   ]
  },
  {
   "cell_type": "code",
   "execution_count": 18,
   "metadata": {},
   "outputs": [
    {
     "data": {
      "text/plain": [
       "266-element Array{Bool,1}:\n",
       " 0\n",
       " 0\n",
       " 0\n",
       " 0\n",
       " 0\n",
       " 0\n",
       " 0\n",
       " 0\n",
       " 0\n",
       " 0\n",
       " 0\n",
       " 0\n",
       " 0\n",
       " ⋮\n",
       " 0\n",
       " 0\n",
       " 0\n",
       " 0\n",
       " 0\n",
       " 1\n",
       " 0\n",
       " 0\n",
       " 0\n",
       " 0\n",
       " 0\n",
       " 0"
      ]
     },
     "execution_count": 18,
     "metadata": {},
     "output_type": "execute_result"
    }
   ],
   "source": [
    "scountries = [startswith(country, \"South\") for country in countries]"
   ]
  },
  {
   "cell_type": "code",
   "execution_count": 19,
   "metadata": {},
   "outputs": [
    {
     "data": {
      "text/html": [
       "<table class=\"data-frame\"><thead><tr><th></th><th>province</th><th>country</th><th>Lat</th><th>Long</th><th>1/22/20</th><th>1/23/20</th><th>1/24/20</th><th>1/25/20</th><th>1/26/20</th></tr><tr><th></th><th>String?</th><th>String</th><th>Float64</th><th>Float64</th><th>Int64</th><th>Int64</th><th>Int64</th><th>Int64</th><th>Int64</th></tr></thead><tbody><p>2 rows × 191 columns (omitted printing of 182 columns)</p><tr><th>1</th><td><em>missing</em></td><td>South Africa</td><td>-30.5595</td><td>22.9375</td><td>0</td><td>0</td><td>0</td><td>0</td><td>0</td></tr><tr><th>2</th><td><em>missing</em></td><td>South Sudan</td><td>6.877</td><td>31.307</td><td>0</td><td>0</td><td>0</td><td>0</td><td>0</td></tr></tbody></table>"
      ],
      "text/latex": [
       "\\begin{tabular}{r|cccccccccc}\n",
       "\t& province & country & Lat & Long & 1/22/20 & 1/23/20 & 1/24/20 & 1/25/20 & 1/26/20 & \\\\\n",
       "\t\\hline\n",
       "\t& String? & String & Float64 & Float64 & Int64 & Int64 & Int64 & Int64 & Int64 & \\\\\n",
       "\t\\hline\n",
       "\t1 & \\emph{missing} & South Africa & -30.5595 & 22.9375 & 0 & 0 & 0 & 0 & 0 & $\\dots$ \\\\\n",
       "\t2 & \\emph{missing} & South Sudan & 6.877 & 31.307 & 0 & 0 & 0 & 0 & 0 & $\\dots$ \\\\\n",
       "\\end{tabular}\n"
      ],
      "text/plain": [
       "2×191 DataFrame. Omitted printing of 185 columns\n",
       "│ Row │ province │ country      │ Lat      │ Long    │ 1/22/20 │ 1/23/20 │\n",
       "│     │ \u001b[90mString?\u001b[39m  │ \u001b[90mString\u001b[39m       │ \u001b[90mFloat64\u001b[39m  │ \u001b[90mFloat64\u001b[39m │ \u001b[90mInt64\u001b[39m   │ \u001b[90mInt64\u001b[39m   │\n",
       "├─────┼──────────┼──────────────┼──────────┼─────────┼─────────┼─────────┤\n",
       "│ 1   │ \u001b[90mmissing\u001b[39m  │ South Africa │ -30.5595 │ 22.9375 │ 0       │ 0       │\n",
       "│ 2   │ \u001b[90mmissing\u001b[39m  │ South Sudan  │ 6.877    │ 31.307  │ 0       │ 0       │"
      ]
     },
     "execution_count": 19,
     "metadata": {},
     "output_type": "execute_result"
    }
   ],
   "source": [
    "datacopy[scountries, :]"
   ]
  },
  {
   "cell_type": "code",
   "execution_count": 20,
   "metadata": {},
   "outputs": [
    {
     "data": {
      "text/plain": [
       "266-element BitArray{1}:\n",
       " 0\n",
       " 0\n",
       " 0\n",
       " 0\n",
       " 0\n",
       " 0\n",
       " 0\n",
       " 0\n",
       " 0\n",
       " 0\n",
       " 0\n",
       " 0\n",
       " 0\n",
       " ⋮\n",
       " 0\n",
       " 0\n",
       " 0\n",
       " 0\n",
       " 0\n",
       " 0\n",
       " 0\n",
       " 0\n",
       " 0\n",
       " 0\n",
       " 0\n",
       " 0"
      ]
     },
     "execution_count": 20,
     "metadata": {},
     "output_type": "execute_result"
    }
   ],
   "source": [
    "countries .== \"South Africa\" \n",
    "# period before == is \"broadcasting\": apply operation to each element of a vector"
   ]
  },
  {
   "cell_type": "code",
   "execution_count": 21,
   "metadata": {
    "scrolled": false
   },
   "outputs": [
    {
     "data": {
      "text/plain": [
       "266-element Array{Bool,1}:\n",
       " 0\n",
       " 0\n",
       " 0\n",
       " 0\n",
       " 0\n",
       " 0\n",
       " 0\n",
       " 0\n",
       " 0\n",
       " 0\n",
       " 0\n",
       " 0\n",
       " 0\n",
       " ⋮\n",
       " 0\n",
       " 0\n",
       " 0\n",
       " 0\n",
       " 0\n",
       " 0\n",
       " 0\n",
       " 0\n",
       " 0\n",
       " 0\n",
       " 0\n",
       " 0"
      ]
     },
     "execution_count": 21,
     "metadata": {},
     "output_type": "execute_result"
    }
   ],
   "source": [
    "sa = [startswith(country, \"South Africa\") for country in countries]"
   ]
  },
  {
   "cell_type": "code",
   "execution_count": 22,
   "metadata": {
    "scrolled": true
   },
   "outputs": [
    {
     "data": {
      "text/plain": [
       "2-element Array{Any,1}:\n",
       " Bool[0, 0, 0, 0, 0, 0, 0, 0, 0, 0  …  0, 0, 0, 0, 0, 0, 0, 0, 0, 0]\n",
       " Colon()"
      ]
     },
     "execution_count": 22,
     "metadata": {},
     "output_type": "execute_result"
    }
   ],
   "source": [
    "datarow =[sa, :]"
   ]
  },
  {
   "cell_type": "code",
   "execution_count": 23,
   "metadata": {},
   "outputs": [
    {
     "data": {
      "text/plain": [
       "201"
      ]
     },
     "execution_count": 23,
     "metadata": {},
     "output_type": "execute_result"
    }
   ],
   "source": [
    "soutafricarow = findfirst(countries .== \"South Africa\")"
   ]
  },
  {
   "cell_type": "code",
   "execution_count": 24,
   "metadata": {},
   "outputs": [
    {
     "data": {
      "text/html": [
       "<p>DataFrameRow (191 columns)</p><table class=\"data-frame\"><thead><tr><th></th><th>province</th><th>country</th><th>Lat</th><th>Long</th><th>1/22/20</th><th>1/23/20</th><th>1/24/20</th><th>1/25/20</th><th>1/26/20</th></tr><tr><th></th><th>String?</th><th>String</th><th>Float64</th><th>Float64</th><th>Int64</th><th>Int64</th><th>Int64</th><th>Int64</th><th>Int64</th></tr></thead><tbody><tr><th>201</th><td><em>missing</em></td><td>South Africa</td><td>-30.5595</td><td>22.9375</td><td>0</td><td>0</td><td>0</td><td>0</td><td>0</td></tr></tbody></table>"
      ],
      "text/latex": [
       "\\begin{tabular}{r|cccccccccc}\n",
       "\t& province & country & Lat & Long & 1/22/20 & 1/23/20 & 1/24/20 & 1/25/20 & 1/26/20 & \\\\\n",
       "\t\\hline\n",
       "\t& String? & String & Float64 & Float64 & Int64 & Int64 & Int64 & Int64 & Int64 & \\\\\n",
       "\t\\hline\n",
       "\t201 & \\emph{missing} & South Africa & -30.5595 & 22.9375 & 0 & 0 & 0 & 0 & 0 & $\\dots$ \\\\\n",
       "\\end{tabular}\n"
      ],
      "text/plain": [
       "DataFrameRow. Omitted printing of 185 columns\n",
       "│ Row │ province │ country      │ Lat      │ Long    │ 1/22/20 │ 1/23/20 │\n",
       "│     │ \u001b[90mString?\u001b[39m  │ \u001b[90mString\u001b[39m       │ \u001b[90mFloat64\u001b[39m  │ \u001b[90mFloat64\u001b[39m │ \u001b[90mInt64\u001b[39m   │ \u001b[90mInt64\u001b[39m   │\n",
       "├─────┼──────────┼──────────────┼──────────┼─────────┼─────────┼─────────┤\n",
       "│ 201 │ \u001b[90mmissing\u001b[39m  │ South Africa │ -30.5595 │ 22.9375 │ 0       │ 0       │"
      ]
     },
     "execution_count": 24,
     "metadata": {},
     "output_type": "execute_result"
    }
   ],
   "source": [
    "sadatarow = datacopy[soutafricarow, :]"
   ]
  },
  {
   "cell_type": "code",
   "execution_count": 25,
   "metadata": {},
   "outputs": [
    {
     "data": {
      "text/plain": [
       "144-element Array{Int64,1}:\n",
       "      1\n",
       "      1\n",
       "      1\n",
       "      3\n",
       "      3\n",
       "      7\n",
       "     13\n",
       "     17\n",
       "     24\n",
       "     38\n",
       "     51\n",
       "     62\n",
       "     62\n",
       "      ⋮\n",
       " 311049\n",
       " 324221\n",
       " 337594\n",
       " 350879\n",
       " 364328\n",
       " 373628\n",
       " 381798\n",
       " 394948\n",
       " 408052\n",
       " 421996\n",
       " 434200\n",
       " 445433"
      ]
     },
     "execution_count": 25,
     "metadata": {},
     "output_type": "execute_result"
    }
   ],
   "source": [
    "sadata = convert(Vector, sadatarow[48:end])"
   ]
  },
  {
   "cell_type": "code",
   "execution_count": 26,
   "metadata": {},
   "outputs": [],
   "source": [
    "using Plots"
   ]
  },
  {
   "cell_type": "code",
   "execution_count": 27,
   "metadata": {},
   "outputs": [
    {
     "data": {
      "text/plain": [
       "191-element Array{String,1}:\n",
       " \"province\"\n",
       " \"country\"\n",
       " \"Lat\"\n",
       " \"Long\"\n",
       " \"1/22/20\"\n",
       " \"1/23/20\"\n",
       " \"1/24/20\"\n",
       " \"1/25/20\"\n",
       " \"1/26/20\"\n",
       " \"1/27/20\"\n",
       " \"1/28/20\"\n",
       " \"1/29/20\"\n",
       " \"1/30/20\"\n",
       " ⋮\n",
       " \"7/15/20\"\n",
       " \"7/16/20\"\n",
       " \"7/17/20\"\n",
       " \"7/18/20\"\n",
       " \"7/19/20\"\n",
       " \"7/20/20\"\n",
       " \"7/21/20\"\n",
       " \"7/22/20\"\n",
       " \"7/23/20\"\n",
       " \"7/24/20\"\n",
       " \"7/25/20\"\n",
       " \"7/26/20\""
      ]
     },
     "execution_count": 27,
     "metadata": {},
     "output_type": "execute_result"
    }
   ],
   "source": [
    "coldate = names(datacopy)"
   ]
  },
  {
   "cell_type": "code",
   "execution_count": 28,
   "metadata": {
    "scrolled": true
   },
   "outputs": [
    {
     "data": {
      "image/svg+xml": [
       "<?xml version=\"1.0\" encoding=\"utf-8\"?>\n",
       "<svg xmlns=\"http://www.w3.org/2000/svg\" xmlns:xlink=\"http://www.w3.org/1999/xlink\" width=\"600\" height=\"400\" viewBox=\"0 0 2400 1600\">\n",
       "<defs>\n",
       "  <clipPath id=\"clip040\">\n",
       "    <rect x=\"0\" y=\"0\" width=\"2400\" height=\"1600\"/>\n",
       "  </clipPath>\n",
       "</defs>\n",
       "<path clip-path=\"url(#clip040)\" d=\"\n",
       "M0 1600 L2400 1600 L2400 0 L0 0  Z\n",
       "  \" fill=\"#ffffff\" fill-rule=\"evenodd\" fill-opacity=\"1\"/>\n",
       "<defs>\n",
       "  <clipPath id=\"clip041\">\n",
       "    <rect x=\"480\" y=\"0\" width=\"1681\" height=\"1600\"/>\n",
       "  </clipPath>\n",
       "</defs>\n",
       "<path clip-path=\"url(#clip040)\" d=\"\n",
       "M214.954 1486.45 L2352.76 1486.45 L2352.76 47.2441 L214.954 47.2441  Z\n",
       "  \" fill=\"#ffffff\" fill-rule=\"evenodd\" fill-opacity=\"1\"/>\n",
       "<defs>\n",
       "  <clipPath id=\"clip042\">\n",
       "    <rect x=\"214\" y=\"47\" width=\"2139\" height=\"1440\"/>\n",
       "  </clipPath>\n",
       "</defs>\n",
       "<polyline clip-path=\"url(#clip042)\" style=\"stroke:#000000; stroke-width:2; stroke-opacity:0.1; fill:none\" points=\"\n",
       "  261.355,1486.45 261.355,47.2441 \n",
       "  \"/>\n",
       "<polyline clip-path=\"url(#clip042)\" style=\"stroke:#000000; stroke-width:2; stroke-opacity:0.1; fill:none\" points=\"\n",
       "  684.458,1486.45 684.458,47.2441 \n",
       "  \"/>\n",
       "<polyline clip-path=\"url(#clip042)\" style=\"stroke:#000000; stroke-width:2; stroke-opacity:0.1; fill:none\" points=\"\n",
       "  1107.56,1486.45 1107.56,47.2441 \n",
       "  \"/>\n",
       "<polyline clip-path=\"url(#clip042)\" style=\"stroke:#000000; stroke-width:2; stroke-opacity:0.1; fill:none\" points=\"\n",
       "  1530.67,1486.45 1530.67,47.2441 \n",
       "  \"/>\n",
       "<polyline clip-path=\"url(#clip042)\" style=\"stroke:#000000; stroke-width:2; stroke-opacity:0.1; fill:none\" points=\"\n",
       "  1953.77,1486.45 1953.77,47.2441 \n",
       "  \"/>\n",
       "<polyline clip-path=\"url(#clip042)\" style=\"stroke:#000000; stroke-width:2; stroke-opacity:0.1; fill:none\" points=\"\n",
       "  214.954,1445.72 2352.76,1445.72 \n",
       "  \"/>\n",
       "<polyline clip-path=\"url(#clip042)\" style=\"stroke:#000000; stroke-width:2; stroke-opacity:0.1; fill:none\" points=\"\n",
       "  214.954,1140.9 2352.76,1140.9 \n",
       "  \"/>\n",
       "<polyline clip-path=\"url(#clip042)\" style=\"stroke:#000000; stroke-width:2; stroke-opacity:0.1; fill:none\" points=\"\n",
       "  214.954,836.091 2352.76,836.091 \n",
       "  \"/>\n",
       "<polyline clip-path=\"url(#clip042)\" style=\"stroke:#000000; stroke-width:2; stroke-opacity:0.1; fill:none\" points=\"\n",
       "  214.954,531.277 2352.76,531.277 \n",
       "  \"/>\n",
       "<polyline clip-path=\"url(#clip042)\" style=\"stroke:#000000; stroke-width:2; stroke-opacity:0.1; fill:none\" points=\"\n",
       "  214.954,226.462 2352.76,226.462 \n",
       "  \"/>\n",
       "<polyline clip-path=\"url(#clip040)\" style=\"stroke:#000000; stroke-width:4; stroke-opacity:1; fill:none\" points=\"\n",
       "  214.954,1486.45 2352.76,1486.45 \n",
       "  \"/>\n",
       "<polyline clip-path=\"url(#clip040)\" style=\"stroke:#000000; stroke-width:4; stroke-opacity:1; fill:none\" points=\"\n",
       "  214.954,1486.45 214.954,47.2441 \n",
       "  \"/>\n",
       "<polyline clip-path=\"url(#clip040)\" style=\"stroke:#000000; stroke-width:4; stroke-opacity:1; fill:none\" points=\"\n",
       "  261.355,1486.45 261.355,1469.18 \n",
       "  \"/>\n",
       "<polyline clip-path=\"url(#clip040)\" style=\"stroke:#000000; stroke-width:4; stroke-opacity:1; fill:none\" points=\"\n",
       "  684.458,1486.45 684.458,1469.18 \n",
       "  \"/>\n",
       "<polyline clip-path=\"url(#clip040)\" style=\"stroke:#000000; stroke-width:4; stroke-opacity:1; fill:none\" points=\"\n",
       "  1107.56,1486.45 1107.56,1469.18 \n",
       "  \"/>\n",
       "<polyline clip-path=\"url(#clip040)\" style=\"stroke:#000000; stroke-width:4; stroke-opacity:1; fill:none\" points=\"\n",
       "  1530.67,1486.45 1530.67,1469.18 \n",
       "  \"/>\n",
       "<polyline clip-path=\"url(#clip040)\" style=\"stroke:#000000; stroke-width:4; stroke-opacity:1; fill:none\" points=\"\n",
       "  1953.77,1486.45 1953.77,1469.18 \n",
       "  \"/>\n",
       "<polyline clip-path=\"url(#clip040)\" style=\"stroke:#000000; stroke-width:4; stroke-opacity:1; fill:none\" points=\"\n",
       "  214.954,1445.72 240.608,1445.72 \n",
       "  \"/>\n",
       "<polyline clip-path=\"url(#clip040)\" style=\"stroke:#000000; stroke-width:4; stroke-opacity:1; fill:none\" points=\"\n",
       "  214.954,1140.9 240.608,1140.9 \n",
       "  \"/>\n",
       "<polyline clip-path=\"url(#clip040)\" style=\"stroke:#000000; stroke-width:4; stroke-opacity:1; fill:none\" points=\"\n",
       "  214.954,836.091 240.608,836.091 \n",
       "  \"/>\n",
       "<polyline clip-path=\"url(#clip040)\" style=\"stroke:#000000; stroke-width:4; stroke-opacity:1; fill:none\" points=\"\n",
       "  214.954,531.277 240.608,531.277 \n",
       "  \"/>\n",
       "<polyline clip-path=\"url(#clip040)\" style=\"stroke:#000000; stroke-width:4; stroke-opacity:1; fill:none\" points=\"\n",
       "  214.954,226.462 240.608,226.462 \n",
       "  \"/>\n",
       "<path clip-path=\"url(#clip040)\" d=\"M 0 0 M261.355 1508.44 Q257.744 1508.44 255.915 1512 Q254.109 1515.55 254.109 1522.67 Q254.109 1529.78 255.915 1533.35 Q257.744 1536.89 261.355 1536.89 Q264.989 1536.89 266.795 1533.35 Q268.623 1529.78 268.623 1522.67 Q268.623 1515.55 266.795 1512 Q264.989 1508.44 261.355 1508.44 M261.355 1504.73 Q267.165 1504.73 270.22 1509.34 Q273.299 1513.92 273.299 1522.67 Q273.299 1531.4 270.22 1536.01 Q267.165 1540.59 261.355 1540.59 Q255.545 1540.59 252.466 1536.01 Q249.41 1531.4 249.41 1522.67 Q249.41 1513.92 252.466 1509.34 Q255.545 1504.73 261.355 1504.73 Z\" fill=\"#000000\" fill-rule=\"evenodd\" fill-opacity=\"1\" /><path clip-path=\"url(#clip040)\" d=\"M 0 0 M675.199 1521.29 Q678.556 1522 680.431 1524.27 Q682.329 1526.54 682.329 1529.87 Q682.329 1534.99 678.81 1537.79 Q675.292 1540.59 668.81 1540.59 Q666.634 1540.59 664.32 1540.15 Q662.028 1539.73 659.574 1538.88 L659.574 1534.36 Q661.519 1535.5 663.833 1536.08 Q666.148 1536.66 668.671 1536.66 Q673.07 1536.66 675.361 1534.92 Q677.676 1533.18 677.676 1529.87 Q677.676 1526.82 675.523 1525.11 Q673.394 1523.37 669.574 1523.37 L665.546 1523.37 L665.546 1519.53 L669.759 1519.53 Q673.208 1519.53 675.037 1518.16 Q676.866 1516.77 676.866 1514.18 Q676.866 1511.52 674.968 1510.11 Q673.093 1508.67 669.574 1508.67 Q667.653 1508.67 665.454 1509.09 Q663.255 1509.5 660.616 1510.38 L660.616 1506.22 Q663.278 1505.48 665.593 1505.11 Q667.931 1504.73 669.991 1504.73 Q675.315 1504.73 678.417 1507.17 Q681.519 1509.57 681.519 1513.69 Q681.519 1516.56 679.875 1518.55 Q678.232 1520.52 675.199 1521.29 Z\" fill=\"#000000\" fill-rule=\"evenodd\" fill-opacity=\"1\" /><path clip-path=\"url(#clip040)\" d=\"M 0 0 M697.398 1508.44 Q693.787 1508.44 691.958 1512 Q690.153 1515.55 690.153 1522.67 Q690.153 1529.78 691.958 1533.35 Q693.787 1536.89 697.398 1536.89 Q701.032 1536.89 702.838 1533.35 Q704.667 1529.78 704.667 1522.67 Q704.667 1515.55 702.838 1512 Q701.032 1508.44 697.398 1508.44 M697.398 1504.73 Q703.208 1504.73 706.264 1509.34 Q709.343 1513.92 709.343 1522.67 Q709.343 1531.4 706.264 1536.01 Q703.208 1540.59 697.398 1540.59 Q691.588 1540.59 688.509 1536.01 Q685.454 1531.4 685.454 1522.67 Q685.454 1513.92 688.509 1509.34 Q691.588 1504.73 697.398 1504.73 Z\" fill=\"#000000\" fill-rule=\"evenodd\" fill-opacity=\"1\" /><path clip-path=\"url(#clip040)\" d=\"M 0 0 M1094.46 1520.78 Q1091.31 1520.78 1089.46 1522.93 Q1087.63 1525.08 1087.63 1528.83 Q1087.63 1532.56 1089.46 1534.73 Q1091.31 1536.89 1094.46 1536.89 Q1097.61 1536.89 1099.44 1534.73 Q1101.29 1532.56 1101.29 1528.83 Q1101.29 1525.08 1099.44 1522.93 Q1097.61 1520.78 1094.46 1520.78 M1103.74 1506.12 L1103.74 1510.38 Q1101.98 1509.55 1100.18 1509.11 Q1098.4 1508.67 1096.64 1508.67 Q1092.01 1508.67 1089.55 1511.8 Q1087.12 1514.92 1086.78 1521.24 Q1088.14 1519.23 1090.2 1518.16 Q1092.26 1517.07 1094.74 1517.07 Q1099.95 1517.07 1102.96 1520.24 Q1105.99 1523.39 1105.99 1528.83 Q1105.99 1534.16 1102.84 1537.37 Q1099.69 1540.59 1094.46 1540.59 Q1088.46 1540.59 1085.29 1536.01 Q1082.12 1531.4 1082.12 1522.67 Q1082.12 1514.48 1086.01 1509.62 Q1089.9 1504.73 1096.45 1504.73 Q1098.21 1504.73 1099.99 1505.08 Q1101.8 1505.43 1103.74 1506.12 Z\" fill=\"#000000\" fill-rule=\"evenodd\" fill-opacity=\"1\" /><path clip-path=\"url(#clip040)\" d=\"M 0 0 M1121.06 1508.44 Q1117.45 1508.44 1115.62 1512 Q1113.81 1515.55 1113.81 1522.67 Q1113.81 1529.78 1115.62 1533.35 Q1117.45 1536.89 1121.06 1536.89 Q1124.69 1536.89 1126.5 1533.35 Q1128.33 1529.78 1128.33 1522.67 Q1128.33 1515.55 1126.5 1512 Q1124.69 1508.44 1121.06 1508.44 M1121.06 1504.73 Q1126.87 1504.73 1129.92 1509.34 Q1133 1513.92 1133 1522.67 Q1133 1531.4 1129.92 1536.01 Q1126.87 1540.59 1121.06 1540.59 Q1115.25 1540.59 1112.17 1536.01 Q1109.11 1531.4 1109.11 1522.67 Q1109.11 1513.92 1112.17 1509.34 Q1115.25 1504.73 1121.06 1504.73 Z\" fill=\"#000000\" fill-rule=\"evenodd\" fill-opacity=\"1\" /><path clip-path=\"url(#clip040)\" d=\"M 0 0 M1507.46 1539.2 L1507.46 1534.94 Q1509.22 1535.78 1511.02 1536.22 Q1512.83 1536.66 1514.57 1536.66 Q1519.2 1536.66 1521.63 1533.55 Q1524.08 1530.43 1524.43 1524.09 Q1523.08 1526.08 1521.02 1527.14 Q1518.96 1528.21 1516.46 1528.21 Q1511.28 1528.21 1508.25 1525.08 Q1505.24 1521.93 1505.24 1516.49 Q1505.24 1511.17 1508.39 1507.95 Q1511.53 1504.73 1516.77 1504.73 Q1522.76 1504.73 1525.91 1509.34 Q1529.08 1513.92 1529.08 1522.67 Q1529.08 1530.85 1525.19 1535.73 Q1521.33 1540.59 1514.77 1540.59 Q1513.02 1540.59 1511.21 1540.24 Q1509.4 1539.9 1507.46 1539.2 M1516.77 1524.55 Q1519.91 1524.55 1521.74 1522.4 Q1523.59 1520.24 1523.59 1516.49 Q1523.59 1512.77 1521.74 1510.61 Q1519.91 1508.44 1516.77 1508.44 Q1513.62 1508.44 1511.77 1510.61 Q1509.94 1512.77 1509.94 1516.49 Q1509.94 1520.24 1511.77 1522.4 Q1513.62 1524.55 1516.77 1524.55 Z\" fill=\"#000000\" fill-rule=\"evenodd\" fill-opacity=\"1\" /><path clip-path=\"url(#clip040)\" d=\"M 0 0 M1544.15 1508.44 Q1540.54 1508.44 1538.71 1512 Q1536.9 1515.55 1536.9 1522.67 Q1536.9 1529.78 1538.71 1533.35 Q1540.54 1536.89 1544.15 1536.89 Q1547.78 1536.89 1549.59 1533.35 Q1551.42 1529.78 1551.42 1522.67 Q1551.42 1515.55 1549.59 1512 Q1547.78 1508.44 1544.15 1508.44 M1544.15 1504.73 Q1549.96 1504.73 1553.02 1509.34 Q1556.09 1513.92 1556.09 1522.67 Q1556.09 1531.4 1553.02 1536.01 Q1549.96 1540.59 1544.15 1540.59 Q1538.34 1540.59 1535.26 1536.01 Q1532.2 1531.4 1532.2 1522.67 Q1532.2 1513.92 1535.26 1509.34 Q1538.34 1504.73 1544.15 1504.73 Z\" fill=\"#000000\" fill-rule=\"evenodd\" fill-opacity=\"1\" /><path clip-path=\"url(#clip040)\" d=\"M 0 0 M1917.94 1535.98 L1925.57 1535.98 L1925.57 1509.62 L1917.26 1511.29 L1917.26 1507.03 L1925.53 1505.36 L1930.2 1505.36 L1930.2 1535.98 L1937.84 1535.98 L1937.84 1539.92 L1917.94 1539.92 L1917.94 1535.98 Z\" fill=\"#000000\" fill-rule=\"evenodd\" fill-opacity=\"1\" /><path clip-path=\"url(#clip040)\" d=\"M 0 0 M1946.94 1535.98 L1963.26 1535.98 L1963.26 1539.92 L1941.32 1539.92 L1941.32 1535.98 Q1943.98 1533.23 1948.56 1528.6 Q1953.17 1523.95 1954.35 1522.61 Q1956.59 1520.08 1957.47 1518.35 Q1958.38 1516.59 1958.38 1514.9 Q1958.38 1512.14 1956.43 1510.41 Q1954.51 1508.67 1951.41 1508.67 Q1949.21 1508.67 1946.76 1509.43 Q1944.32 1510.2 1941.55 1511.75 L1941.55 1507.03 Q1944.37 1505.89 1946.82 1505.31 Q1949.28 1504.73 1951.32 1504.73 Q1956.69 1504.73 1959.88 1507.42 Q1963.07 1510.11 1963.07 1514.6 Q1963.07 1516.73 1962.26 1518.65 Q1961.48 1520.54 1959.37 1523.14 Q1958.79 1523.81 1955.69 1527.03 Q1952.59 1530.22 1946.94 1535.98 Z\" fill=\"#000000\" fill-rule=\"evenodd\" fill-opacity=\"1\" /><path clip-path=\"url(#clip040)\" d=\"M 0 0 M1978.33 1508.44 Q1974.72 1508.44 1972.89 1512 Q1971.08 1515.55 1971.08 1522.67 Q1971.08 1529.78 1972.89 1533.35 Q1974.72 1536.89 1978.33 1536.89 Q1981.96 1536.89 1983.77 1533.35 Q1985.6 1529.78 1985.6 1522.67 Q1985.6 1515.55 1983.77 1512 Q1981.96 1508.44 1978.33 1508.44 M1978.33 1504.73 Q1984.14 1504.73 1987.19 1509.34 Q1990.27 1513.92 1990.27 1522.67 Q1990.27 1531.4 1987.19 1536.01 Q1984.14 1540.59 1978.33 1540.59 Q1972.52 1540.59 1969.44 1536.01 Q1966.38 1531.4 1966.38 1522.67 Q1966.38 1513.92 1969.44 1509.34 Q1972.52 1504.73 1978.33 1504.73 Z\" fill=\"#000000\" fill-rule=\"evenodd\" fill-opacity=\"1\" /><path clip-path=\"url(#clip040)\" d=\"M 0 0 M179.01 1431.52 Q175.399 1431.52 173.57 1435.08 Q171.765 1438.62 171.765 1445.75 Q171.765 1452.86 173.57 1456.42 Q175.399 1459.97 179.01 1459.97 Q182.644 1459.97 184.45 1456.42 Q186.279 1452.86 186.279 1445.75 Q186.279 1438.62 184.45 1435.08 Q182.644 1431.52 179.01 1431.52 M179.01 1427.81 Q184.82 1427.81 187.876 1432.42 Q190.954 1437 190.954 1445.75 Q190.954 1454.48 187.876 1459.09 Q184.82 1463.67 179.01 1463.67 Q173.2 1463.67 170.121 1459.09 Q167.066 1454.48 167.066 1445.75 Q167.066 1437 170.121 1432.42 Q173.2 1427.81 179.01 1427.81 Z\" fill=\"#000000\" fill-rule=\"evenodd\" fill-opacity=\"1\" /><path clip-path=\"url(#clip040)\" d=\"M 0 0 M66.8376 1160.7 L74.4764 1160.7 L74.4764 1134.33 L66.1663 1136 L66.1663 1131.74 L74.4301 1130.07 L79.106 1130.07 L79.106 1160.7 L86.7449 1160.7 L86.7449 1164.63 L66.8376 1164.63 L66.8376 1160.7 Z\" fill=\"#000000\" fill-rule=\"evenodd\" fill-opacity=\"1\" /><path clip-path=\"url(#clip040)\" d=\"M 0 0 M119.985 1139.17 L109.407 1149.79 L119.985 1160.37 L117.231 1163.17 L106.606 1152.55 L95.981 1163.17 L93.2495 1160.37 L103.805 1149.79 L93.2495 1139.17 L95.981 1136.37 L106.606 1146.99 L117.231 1136.37 L119.985 1139.17 Z\" fill=\"#000000\" fill-rule=\"evenodd\" fill-opacity=\"1\" /><path clip-path=\"url(#clip040)\" d=\"M 0 0 M125.865 1160.7 L133.504 1160.7 L133.504 1134.33 L125.194 1136 L125.194 1131.74 L133.458 1130.07 L138.134 1130.07 L138.134 1160.7 L145.772 1160.7 L145.772 1164.63 L125.865 1164.63 L125.865 1160.7 Z\" fill=\"#000000\" fill-rule=\"evenodd\" fill-opacity=\"1\" /><path clip-path=\"url(#clip040)\" d=\"M 0 0 M160.842 1133.15 Q157.231 1133.15 155.402 1136.72 Q153.596 1140.26 153.596 1147.39 Q153.596 1154.49 155.402 1158.06 Q157.231 1161.6 160.842 1161.6 Q164.476 1161.6 166.282 1158.06 Q168.11 1154.49 168.11 1147.39 Q168.11 1140.26 166.282 1136.72 Q164.476 1133.15 160.842 1133.15 M160.842 1129.45 Q166.652 1129.45 169.707 1134.05 Q172.786 1138.64 172.786 1147.39 Q172.786 1156.11 169.707 1160.72 Q166.652 1165.3 160.842 1165.3 Q155.032 1165.3 151.953 1160.72 Q148.897 1156.11 148.897 1147.39 Q148.897 1138.64 151.953 1134.05 Q155.032 1129.45 160.842 1129.45 Z\" fill=\"#000000\" fill-rule=\"evenodd\" fill-opacity=\"1\" /><path clip-path=\"url(#clip040)\" d=\"M 0 0 M173.971 1109.14 L188.886 1109.14 L188.886 1112.34 L177.45 1112.34 L177.45 1119.22 Q178.278 1118.94 179.106 1118.81 Q179.933 1118.66 180.761 1118.66 Q185.463 1118.66 188.208 1121.24 Q190.954 1123.81 190.954 1128.21 Q190.954 1132.75 188.133 1135.27 Q185.312 1137.77 180.178 1137.77 Q178.41 1137.77 176.566 1137.47 Q174.742 1137.17 172.786 1136.56 L172.786 1132.75 Q174.479 1133.67 176.284 1134.12 Q178.09 1134.57 180.102 1134.57 Q183.356 1134.57 185.256 1132.86 Q187.155 1131.15 187.155 1128.21 Q187.155 1125.28 185.256 1123.57 Q183.356 1121.86 180.102 1121.86 Q178.579 1121.86 177.055 1122.19 Q175.551 1122.53 173.971 1123.25 L173.971 1109.14 Z\" fill=\"#000000\" fill-rule=\"evenodd\" fill-opacity=\"1\" /><path clip-path=\"url(#clip040)\" d=\"M 0 0 M70.4255 855.883 L86.7449 855.883 L86.7449 859.818 L64.8006 859.818 L64.8006 855.883 Q67.4626 853.128 72.0459 848.499 Q76.6524 843.846 77.8329 842.503 Q80.0783 839.98 80.9579 838.244 Q81.8607 836.485 81.8607 834.795 Q81.8607 832.041 79.9162 830.304 Q77.9949 828.568 74.8931 828.568 Q72.694 828.568 70.2404 829.332 Q67.8098 830.096 65.032 831.647 L65.032 826.925 Q67.8561 825.791 70.3098 825.212 Q72.7635 824.633 74.8005 824.633 Q80.1709 824.633 83.3653 827.318 Q86.5597 830.004 86.5597 834.494 Q86.5597 836.624 85.7495 838.545 Q84.9625 840.443 82.856 843.036 Q82.2773 843.707 79.1755 846.925 Q76.0737 850.119 70.4255 855.883 Z\" fill=\"#000000\" fill-rule=\"evenodd\" fill-opacity=\"1\" /><path clip-path=\"url(#clip040)\" d=\"M 0 0 M119.985 834.355 L109.407 844.98 L119.985 855.559 L117.231 858.36 L106.606 847.735 L95.981 858.36 L93.2495 855.559 L103.805 844.98 L93.2495 834.355 L95.981 831.554 L106.606 842.179 L117.231 831.554 L119.985 834.355 Z\" fill=\"#000000\" fill-rule=\"evenodd\" fill-opacity=\"1\" /><path clip-path=\"url(#clip040)\" d=\"M 0 0 M125.865 855.883 L133.504 855.883 L133.504 829.517 L125.194 831.184 L125.194 826.925 L133.458 825.258 L138.134 825.258 L138.134 855.883 L145.772 855.883 L145.772 859.818 L125.865 859.818 L125.865 855.883 Z\" fill=\"#000000\" fill-rule=\"evenodd\" fill-opacity=\"1\" /><path clip-path=\"url(#clip040)\" d=\"M 0 0 M160.842 828.337 Q157.231 828.337 155.402 831.902 Q153.596 835.443 153.596 842.573 Q153.596 849.679 155.402 853.244 Q157.231 856.786 160.842 856.786 Q164.476 856.786 166.282 853.244 Q168.11 849.679 168.11 842.573 Q168.11 835.443 166.282 831.902 Q164.476 828.337 160.842 828.337 M160.842 824.633 Q166.652 824.633 169.707 829.24 Q172.786 833.823 172.786 842.573 Q172.786 851.3 169.707 855.906 Q166.652 860.489 160.842 860.489 Q155.032 860.489 151.953 855.906 Q148.897 851.3 148.897 842.573 Q148.897 833.823 151.953 829.24 Q155.032 824.633 160.842 824.633 Z\" fill=\"#000000\" fill-rule=\"evenodd\" fill-opacity=\"1\" /><path clip-path=\"url(#clip040)\" d=\"M 0 0 M173.971 804.328 L188.886 804.328 L188.886 807.525 L177.45 807.525 L177.45 814.409 Q178.278 814.127 179.106 813.995 Q179.933 813.845 180.761 813.845 Q185.463 813.845 188.208 816.421 Q190.954 818.998 190.954 823.399 Q190.954 827.932 188.133 830.452 Q185.312 832.953 180.178 832.953 Q178.41 832.953 176.566 832.652 Q174.742 832.351 172.786 831.75 L172.786 827.932 Q174.479 828.853 176.284 829.305 Q178.09 829.756 180.102 829.756 Q183.356 829.756 185.256 828.044 Q187.155 826.333 187.155 823.399 Q187.155 820.465 185.256 818.753 Q183.356 817.042 180.102 817.042 Q178.579 817.042 177.055 817.38 Q175.551 817.719 173.971 818.434 L173.971 804.328 Z\" fill=\"#000000\" fill-rule=\"evenodd\" fill-opacity=\"1\" /><path clip-path=\"url(#clip040)\" d=\"M 0 0 M79.6153 536.37 Q82.9718 537.088 84.8468 539.356 Q86.7449 541.625 86.7449 544.958 Q86.7449 550.074 83.2264 552.875 Q79.7079 555.675 73.2264 555.675 Q71.0505 555.675 68.7357 555.236 Q66.4441 554.819 63.9904 553.962 L63.9904 549.449 Q65.9348 550.583 68.2496 551.162 Q70.5644 551.74 73.0876 551.74 Q77.4857 551.74 79.7773 550.004 Q82.0921 548.268 82.0921 544.958 Q82.0921 541.902 79.9394 540.189 Q77.8098 538.453 73.9903 538.453 L69.9626 538.453 L69.9626 534.611 L74.1755 534.611 Q77.6246 534.611 79.4533 533.245 Q81.282 531.856 81.282 529.264 Q81.282 526.601 79.3838 525.189 Q77.5088 523.754 73.9903 523.754 Q72.069 523.754 69.87 524.171 Q67.6709 524.588 65.032 525.467 L65.032 521.301 Q67.6941 520.56 70.0089 520.189 Q72.3468 519.819 74.407 519.819 Q79.731 519.819 82.8329 522.25 Q85.9347 524.657 85.9347 528.777 Q85.9347 531.648 84.2912 533.638 Q82.6477 535.606 79.6153 536.37 Z\" fill=\"#000000\" fill-rule=\"evenodd\" fill-opacity=\"1\" /><path clip-path=\"url(#clip040)\" d=\"M 0 0 M119.985 529.541 L109.407 540.166 L119.985 550.745 L117.231 553.546 L106.606 542.921 L95.981 553.546 L93.2495 550.745 L103.805 540.166 L93.2495 529.541 L95.981 526.74 L106.606 537.365 L117.231 526.74 L119.985 529.541 Z\" fill=\"#000000\" fill-rule=\"evenodd\" fill-opacity=\"1\" /><path clip-path=\"url(#clip040)\" d=\"M 0 0 M125.865 551.069 L133.504 551.069 L133.504 524.703 L125.194 526.37 L125.194 522.111 L133.458 520.444 L138.134 520.444 L138.134 551.069 L145.772 551.069 L145.772 555.004 L125.865 555.004 L125.865 551.069 Z\" fill=\"#000000\" fill-rule=\"evenodd\" fill-opacity=\"1\" /><path clip-path=\"url(#clip040)\" d=\"M 0 0 M160.842 523.523 Q157.231 523.523 155.402 527.088 Q153.596 530.629 153.596 537.759 Q153.596 544.865 155.402 548.43 Q157.231 551.972 160.842 551.972 Q164.476 551.972 166.282 548.43 Q168.11 544.865 168.11 537.759 Q168.11 530.629 166.282 527.088 Q164.476 523.523 160.842 523.523 M160.842 519.819 Q166.652 519.819 169.707 524.426 Q172.786 529.009 172.786 537.759 Q172.786 546.486 169.707 551.092 Q166.652 555.675 160.842 555.675 Q155.032 555.675 151.953 551.092 Q148.897 546.486 148.897 537.759 Q148.897 529.009 151.953 524.426 Q155.032 519.819 160.842 519.819 Z\" fill=\"#000000\" fill-rule=\"evenodd\" fill-opacity=\"1\" /><path clip-path=\"url(#clip040)\" d=\"M 0 0 M173.971 499.514 L188.886 499.514 L188.886 502.711 L177.45 502.711 L177.45 509.595 Q178.278 509.313 179.106 509.181 Q179.933 509.03 180.761 509.03 Q185.463 509.03 188.208 511.607 Q190.954 514.184 190.954 518.585 Q190.954 523.117 188.133 525.638 Q185.312 528.139 180.178 528.139 Q178.41 528.139 176.566 527.838 Q174.742 527.537 172.786 526.935 L172.786 523.117 Q174.479 524.039 176.284 524.49 Q178.09 524.942 180.102 524.942 Q183.356 524.942 185.256 523.23 Q187.155 521.519 187.155 518.585 Q187.155 515.651 185.256 513.939 Q183.356 512.228 180.102 512.228 Q178.579 512.228 177.055 512.566 Q175.551 512.905 173.971 513.62 L173.971 499.514 Z\" fill=\"#000000\" fill-rule=\"evenodd\" fill-opacity=\"1\" /><path clip-path=\"url(#clip040)\" d=\"M 0 0 M77.1616 219.704 L65.3561 238.153 L77.1616 238.153 L77.1616 219.704 M75.9348 215.63 L81.8144 215.63 L81.8144 238.153 L86.7449 238.153 L86.7449 242.042 L81.8144 242.042 L81.8144 250.19 L77.1616 250.19 L77.1616 242.042 L61.5598 242.042 L61.5598 237.528 L75.9348 215.63 Z\" fill=\"#000000\" fill-rule=\"evenodd\" fill-opacity=\"1\" /><path clip-path=\"url(#clip040)\" d=\"M 0 0 M119.985 224.727 L109.407 235.352 L119.985 245.931 L117.231 248.732 L106.606 238.107 L95.981 248.732 L93.2495 245.931 L103.805 235.352 L93.2495 224.727 L95.981 221.926 L106.606 232.551 L117.231 221.926 L119.985 224.727 Z\" fill=\"#000000\" fill-rule=\"evenodd\" fill-opacity=\"1\" /><path clip-path=\"url(#clip040)\" d=\"M 0 0 M125.865 246.255 L133.504 246.255 L133.504 219.889 L125.194 221.556 L125.194 217.297 L133.458 215.63 L138.134 215.63 L138.134 246.255 L145.772 246.255 L145.772 250.19 L125.865 250.19 L125.865 246.255 Z\" fill=\"#000000\" fill-rule=\"evenodd\" fill-opacity=\"1\" /><path clip-path=\"url(#clip040)\" d=\"M 0 0 M160.842 218.709 Q157.231 218.709 155.402 222.274 Q153.596 225.815 153.596 232.945 Q153.596 240.051 155.402 243.616 Q157.231 247.158 160.842 247.158 Q164.476 247.158 166.282 243.616 Q168.11 240.051 168.11 232.945 Q168.11 225.815 166.282 222.274 Q164.476 218.709 160.842 218.709 M160.842 215.005 Q166.652 215.005 169.707 219.612 Q172.786 224.195 172.786 232.945 Q172.786 241.672 169.707 246.278 Q166.652 250.861 160.842 250.861 Q155.032 250.861 151.953 246.278 Q148.897 241.672 148.897 232.945 Q148.897 224.195 151.953 219.612 Q155.032 215.005 160.842 215.005 Z\" fill=\"#000000\" fill-rule=\"evenodd\" fill-opacity=\"1\" /><path clip-path=\"url(#clip040)\" d=\"M 0 0 M173.971 194.7 L188.886 194.7 L188.886 197.897 L177.45 197.897 L177.45 204.781 Q178.278 204.499 179.106 204.367 Q179.933 204.216 180.761 204.216 Q185.463 204.216 188.208 206.793 Q190.954 209.37 190.954 213.771 Q190.954 218.303 188.133 220.824 Q185.312 223.325 180.178 223.325 Q178.41 223.325 176.566 223.024 Q174.742 222.723 172.786 222.121 L172.786 218.303 Q174.479 219.225 176.284 219.676 Q178.09 220.128 180.102 220.128 Q183.356 220.128 185.256 218.416 Q187.155 216.705 187.155 213.771 Q187.155 210.837 185.256 209.125 Q183.356 207.414 180.102 207.414 Q178.579 207.414 177.055 207.752 Q175.551 208.091 173.971 208.805 L173.971 194.7 Z\" fill=\"#000000\" fill-rule=\"evenodd\" fill-opacity=\"1\" /><polyline clip-path=\"url(#clip042)\" style=\"stroke:#009af9; stroke-width:4; stroke-opacity:1; fill:none\" points=\"\n",
       "  275.458,1445.72 289.562,1445.72 303.665,1445.72 317.769,1445.71 331.872,1445.71 345.975,1445.7 360.079,1445.68 374.182,1445.67 388.286,1445.65 402.389,1445.6 \n",
       "  416.493,1445.56 430.596,1445.53 444.7,1445.53 458.803,1445.37 472.907,1445.26 487.01,1445.1 501.113,1444.99 515.217,1444.88 529.32,1444.49 543.424,1444.03 \n",
       "  557.527,1443.56 571.631,1442.89 585.734,1442.15 599.838,1442.1 613.941,1441.82 628.045,1441.68 642.148,1441.59 656.251,1441.51 670.355,1441.26 684.458,1441.13 \n",
       "  698.562,1440.89 712.665,1440.67 726.769,1440.58 740.872,1440.39 754.976,1440.09 769.079,1439.82 783.183,1439.61 797.286,1439.54 811.389,1439.1 825.493,1438.79 \n",
       "  839.596,1438.36 853.7,1438.08 867.803,1437.78 881.907,1437.24 896.01,1436.47 910.114,1436.09 924.217,1435.66 938.321,1435.16 952.424,1434.64 966.527,1433.67 \n",
       "  980.631,1432.86 994.734,1432.43 1008.84,1431.86 1022.94,1431.11 1037.04,1430.49 1051.15,1429.41 1065.25,1428.51 1079.36,1427.58 1093.46,1426.41 1107.56,1425.04 \n",
       "  1121.67,1423.71 1135.77,1422.64 1149.87,1421.92 1163.98,1420.63 1178.08,1418.61 1192.18,1417.01 1206.29,1415.19 1220.39,1413.25 1234.49,1411.12 1248.6,1408.92 \n",
       "  1262.7,1406.89 1276.8,1404.5 1290.91,1401.96 1305.01,1398.43 1319.11,1395.63 1333.22,1393.29 1347.32,1390.84 1361.42,1387.39 1375.53,1384.37 1389.63,1380.66 \n",
       "  1403.73,1376.88 1417.84,1373.74 1431.94,1371.76 1446.04,1366.66 1460.15,1362.19 1474.25,1356.59 1488.36,1351.33 1502.46,1346.1 1516.56,1340.99 1530.67,1336.56 \n",
       "  1544.77,1331.34 1558.87,1321.38 1572.98,1313.33 1587.08,1305.59 1601.18,1298.54 1615.29,1290.63 1629.39,1284.19 1643.49,1276.79 1657.6,1267.2 1671.7,1256.96 \n",
       "  1685.8,1245.35 1699.91,1232.23 1714.01,1221.58 1728.11,1213.04 1742.22,1200.61 1756.32,1190.01 1770.42,1178.35 1784.53,1163.21 1798.63,1149.13 1812.73,1136.06 \n",
       "  1826.84,1122.29 1840.94,1104.95 1855.05,1084.9 1869.15,1065.95 1883.25,1043.97 1897.36,1024.67 1911.46,1005.98 1925.56,984.812 1939.67,960.049 1953.77,933.445 \n",
       "  1967.87,905.82 1981.98,872.738 1996.08,845.997 2010.18,818.652 2024.29,787.762 2038.39,760.908 2052.49,719.228 2066.6,681.589 2080.7,640.449 2094.8,603.694 \n",
       "  2108.91,568.476 2123.01,536.483 2137.11,497.598 2151.22,457.448 2165.32,416.685 2179.42,376.19 2193.53,335.196 2207.63,306.848 2221.73,281.945 2235.84,241.862 \n",
       "  2249.94,201.919 2264.05,159.416 2278.15,122.216 2292.25,87.9763 \n",
       "  \"/>\n",
       "<path clip-path=\"url(#clip040)\" d=\"\n",
       "M1989.74 251.724 L2280.76 251.724 L2280.76 130.764 L1989.74 130.764  Z\n",
       "  \" fill=\"#ffffff\" fill-rule=\"evenodd\" fill-opacity=\"1\"/>\n",
       "<polyline clip-path=\"url(#clip040)\" style=\"stroke:#000000; stroke-width:4; stroke-opacity:1; fill:none\" points=\"\n",
       "  1989.74,251.724 2280.76,251.724 2280.76,130.764 1989.74,130.764 1989.74,251.724 \n",
       "  \"/>\n",
       "<polyline clip-path=\"url(#clip040)\" style=\"stroke:#009af9; stroke-width:4; stroke-opacity:1; fill:none\" points=\"\n",
       "  2013.74,191.244 2157.74,191.244 \n",
       "  \"/>\n",
       "<path clip-path=\"url(#clip040)\" d=\"M 0 0 M2195.58 210.931 Q2193.77 215.561 2192.06 216.973 Q2190.35 218.385 2187.48 218.385 L2184.08 218.385 L2184.08 214.82 L2186.58 214.82 Q2188.33 214.82 2189.31 213.987 Q2190.28 213.154 2191.46 210.052 L2192.22 208.107 L2181.74 182.598 L2186.25 182.598 L2194.35 202.876 L2202.46 182.598 L2206.97 182.598 L2195.58 210.931 Z\" fill=\"#000000\" fill-rule=\"evenodd\" fill-opacity=\"1\" /><path clip-path=\"url(#clip040)\" d=\"M 0 0 M2212.85 204.589 L2220.49 204.589 L2220.49 178.223 L2212.18 179.89 L2212.18 175.631 L2220.44 173.964 L2225.12 173.964 L2225.12 204.589 L2232.76 204.589 L2232.76 208.524 L2212.85 208.524 L2212.85 204.589 Z\" fill=\"#000000\" fill-rule=\"evenodd\" fill-opacity=\"1\" /></svg>\n"
      ]
     },
     "execution_count": 28,
     "metadata": {},
     "output_type": "execute_result"
    }
   ],
   "source": [
    "plot(sadata)"
   ]
  },
  {
   "cell_type": "code",
   "execution_count": 29,
   "metadata": {},
   "outputs": [
    {
     "data": {
      "text/plain": [
       "144-element Array{String,1}:\n",
       " \"3/5/20\"\n",
       " \"3/6/20\"\n",
       " \"3/7/20\"\n",
       " \"3/8/20\"\n",
       " \"3/9/20\"\n",
       " \"3/10/20\"\n",
       " \"3/11/20\"\n",
       " \"3/12/20\"\n",
       " \"3/13/20\"\n",
       " \"3/14/20\"\n",
       " \"3/15/20\"\n",
       " \"3/16/20\"\n",
       " \"3/17/20\"\n",
       " ⋮\n",
       " \"7/15/20\"\n",
       " \"7/16/20\"\n",
       " \"7/17/20\"\n",
       " \"7/18/20\"\n",
       " \"7/19/20\"\n",
       " \"7/20/20\"\n",
       " \"7/21/20\"\n",
       " \"7/22/20\"\n",
       " \"7/23/20\"\n",
       " \"7/24/20\"\n",
       " \"7/25/20\"\n",
       " \"7/26/20\""
      ]
     },
     "execution_count": 29,
     "metadata": {},
     "output_type": "execute_result"
    }
   ],
   "source": [
    "confirmeddate = String.(names(datacopy))[48:end] # apply STring function to each element"
   ]
  },
  {
   "cell_type": "markdown",
   "metadata": {},
   "source": [
    "Parse: convert string representation into a Julia object:"
   ]
  },
  {
   "cell_type": "code",
   "execution_count": 30,
   "metadata": {},
   "outputs": [
    {
     "data": {
      "text/plain": [
       "\"3/5/20\""
      ]
     },
     "execution_count": 30,
     "metadata": {},
     "output_type": "execute_result"
    }
   ],
   "source": [
    "confirmeddate[1]"
   ]
  },
  {
   "cell_type": "markdown",
   "metadata": {},
   "source": [
    "using Dates which comes with Julia"
   ]
  },
  {
   "cell_type": "code",
   "execution_count": 31,
   "metadata": {},
   "outputs": [
    {
     "data": {
      "text/plain": [
       "dateformat\"m/d/y\""
      ]
     },
     "execution_count": 31,
     "metadata": {},
     "output_type": "execute_result"
    }
   ],
   "source": [
    "format = Dates.DateFormat(\"m/d/y\") #Month, Date, Year"
   ]
  },
  {
   "cell_type": "code",
   "execution_count": 32,
   "metadata": {},
   "outputs": [
    {
     "data": {
      "text/plain": [
       "2020-03-05"
      ]
     },
     "execution_count": 32,
     "metadata": {},
     "output_type": "execute_result"
    }
   ],
   "source": [
    "parse(Date, confirmeddate[1], format) + Year(2000)"
   ]
  },
  {
   "cell_type": "code",
   "execution_count": 33,
   "metadata": {},
   "outputs": [
    {
     "data": {
      "text/plain": [
       "144-element Array{Date,1}:\n",
       " 2020-03-05\n",
       " 2020-03-06\n",
       " 2020-03-07\n",
       " 2020-03-08\n",
       " 2020-03-09\n",
       " 2020-03-10\n",
       " 2020-03-11\n",
       " 2020-03-12\n",
       " 2020-03-13\n",
       " 2020-03-14\n",
       " 2020-03-15\n",
       " 2020-03-16\n",
       " 2020-03-17\n",
       " ⋮\n",
       " 2020-07-15\n",
       " 2020-07-16\n",
       " 2020-07-17\n",
       " 2020-07-18\n",
       " 2020-07-19\n",
       " 2020-07-20\n",
       " 2020-07-21\n",
       " 2020-07-22\n",
       " 2020-07-23\n",
       " 2020-07-24\n",
       " 2020-07-25\n",
       " 2020-07-26"
      ]
     },
     "execution_count": 33,
     "metadata": {},
     "output_type": "execute_result"
    }
   ],
   "source": [
    "confirmeddays = parse.(Date, confirmeddate, format) .+ Year(2000)"
   ]
  },
  {
   "cell_type": "markdown",
   "metadata": {},
   "source": [
    "Testing subjects:\n",
    "\n",
    "***plot(confirmeddays, sadata, label=\"time line\", #xticks=confirmed_days[1:14:end], xrotation=45, leg=:topleft)***\n",
    "\n",
    "***scatter!(confirmeddays, sadata, label=\"confirmed days\")***"
   ]
  },
  {
   "cell_type": "markdown",
   "metadata": {},
   "source": [
    "Straight line on semi-log means ***exponential growth***"
   ]
  },
  {
   "cell_type": "code",
   "execution_count": 34,
   "metadata": {},
   "outputs": [
    {
     "data": {
      "image/svg+xml": [
       "<?xml version=\"1.0\" encoding=\"utf-8\"?>\n",
       "<svg xmlns=\"http://www.w3.org/2000/svg\" xmlns:xlink=\"http://www.w3.org/1999/xlink\" width=\"600\" height=\"400\" viewBox=\"0 0 2400 1600\">\n",
       "<defs>\n",
       "  <clipPath id=\"clip080\">\n",
       "    <rect x=\"0\" y=\"0\" width=\"2400\" height=\"1600\"/>\n",
       "  </clipPath>\n",
       "</defs>\n",
       "<path clip-path=\"url(#clip080)\" d=\"\n",
       "M0 1600 L2400 1600 L2400 0 L0 0  Z\n",
       "  \" fill=\"#ffffff\" fill-rule=\"evenodd\" fill-opacity=\"1\"/>\n",
       "<defs>\n",
       "  <clipPath id=\"clip081\">\n",
       "    <rect x=\"480\" y=\"0\" width=\"1681\" height=\"1600\"/>\n",
       "  </clipPath>\n",
       "</defs>\n",
       "<path clip-path=\"url(#clip080)\" d=\"\n",
       "M260.051 1263.94 L2352.76 1263.94 L2352.76 123.472 L260.051 123.472  Z\n",
       "  \" fill=\"#ffffff\" fill-rule=\"evenodd\" fill-opacity=\"1\"/>\n",
       "<defs>\n",
       "  <clipPath id=\"clip082\">\n",
       "    <rect x=\"260\" y=\"123\" width=\"2094\" height=\"1141\"/>\n",
       "  </clipPath>\n",
       "</defs>\n",
       "<polyline clip-path=\"url(#clip082)\" style=\"stroke:#000000; stroke-width:2; stroke-opacity:0.1; fill:none\" points=\"\n",
       "  319.279,1263.94 319.279,123.472 \n",
       "  \"/>\n",
       "<polyline clip-path=\"url(#clip082)\" style=\"stroke:#000000; stroke-width:2; stroke-opacity:0.1; fill:none\" points=\"\n",
       "  512.562,1263.94 512.562,123.472 \n",
       "  \"/>\n",
       "<polyline clip-path=\"url(#clip082)\" style=\"stroke:#000000; stroke-width:2; stroke-opacity:0.1; fill:none\" points=\"\n",
       "  705.845,1263.94 705.845,123.472 \n",
       "  \"/>\n",
       "<polyline clip-path=\"url(#clip082)\" style=\"stroke:#000000; stroke-width:2; stroke-opacity:0.1; fill:none\" points=\"\n",
       "  899.128,1263.94 899.128,123.472 \n",
       "  \"/>\n",
       "<polyline clip-path=\"url(#clip082)\" style=\"stroke:#000000; stroke-width:2; stroke-opacity:0.1; fill:none\" points=\"\n",
       "  1092.41,1263.94 1092.41,123.472 \n",
       "  \"/>\n",
       "<polyline clip-path=\"url(#clip082)\" style=\"stroke:#000000; stroke-width:2; stroke-opacity:0.1; fill:none\" points=\"\n",
       "  1285.69,1263.94 1285.69,123.472 \n",
       "  \"/>\n",
       "<polyline clip-path=\"url(#clip082)\" style=\"stroke:#000000; stroke-width:2; stroke-opacity:0.1; fill:none\" points=\"\n",
       "  1478.98,1263.94 1478.98,123.472 \n",
       "  \"/>\n",
       "<polyline clip-path=\"url(#clip082)\" style=\"stroke:#000000; stroke-width:2; stroke-opacity:0.1; fill:none\" points=\"\n",
       "  1672.26,1263.94 1672.26,123.472 \n",
       "  \"/>\n",
       "<polyline clip-path=\"url(#clip082)\" style=\"stroke:#000000; stroke-width:2; stroke-opacity:0.1; fill:none\" points=\"\n",
       "  1865.54,1263.94 1865.54,123.472 \n",
       "  \"/>\n",
       "<polyline clip-path=\"url(#clip082)\" style=\"stroke:#000000; stroke-width:2; stroke-opacity:0.1; fill:none\" points=\"\n",
       "  2058.83,1263.94 2058.83,123.472 \n",
       "  \"/>\n",
       "<polyline clip-path=\"url(#clip082)\" style=\"stroke:#000000; stroke-width:2; stroke-opacity:0.1; fill:none\" points=\"\n",
       "  2252.11,1263.94 2252.11,123.472 \n",
       "  \"/>\n",
       "<polyline clip-path=\"url(#clip082)\" style=\"stroke:#000000; stroke-width:2; stroke-opacity:0.1; fill:none\" points=\"\n",
       "  260.051,1231.66 2352.76,1231.66 \n",
       "  \"/>\n",
       "<polyline clip-path=\"url(#clip082)\" style=\"stroke:#000000; stroke-width:2; stroke-opacity:0.1; fill:none\" points=\"\n",
       "  260.051,1041.19 2352.76,1041.19 \n",
       "  \"/>\n",
       "<polyline clip-path=\"url(#clip082)\" style=\"stroke:#000000; stroke-width:2; stroke-opacity:0.1; fill:none\" points=\"\n",
       "  260.051,850.724 2352.76,850.724 \n",
       "  \"/>\n",
       "<polyline clip-path=\"url(#clip082)\" style=\"stroke:#000000; stroke-width:2; stroke-opacity:0.1; fill:none\" points=\"\n",
       "  260.051,660.257 2352.76,660.257 \n",
       "  \"/>\n",
       "<polyline clip-path=\"url(#clip082)\" style=\"stroke:#000000; stroke-width:2; stroke-opacity:0.1; fill:none\" points=\"\n",
       "  260.051,469.789 2352.76,469.789 \n",
       "  \"/>\n",
       "<polyline clip-path=\"url(#clip082)\" style=\"stroke:#000000; stroke-width:2; stroke-opacity:0.1; fill:none\" points=\"\n",
       "  260.051,279.321 2352.76,279.321 \n",
       "  \"/>\n",
       "<polyline clip-path=\"url(#clip080)\" style=\"stroke:#000000; stroke-width:4; stroke-opacity:1; fill:none\" points=\"\n",
       "  260.051,1263.94 2352.76,1263.94 \n",
       "  \"/>\n",
       "<polyline clip-path=\"url(#clip080)\" style=\"stroke:#000000; stroke-width:4; stroke-opacity:1; fill:none\" points=\"\n",
       "  260.051,1263.94 260.051,123.472 \n",
       "  \"/>\n",
       "<polyline clip-path=\"url(#clip080)\" style=\"stroke:#000000; stroke-width:4; stroke-opacity:1; fill:none\" points=\"\n",
       "  319.279,1263.94 319.279,1250.25 \n",
       "  \"/>\n",
       "<polyline clip-path=\"url(#clip080)\" style=\"stroke:#000000; stroke-width:4; stroke-opacity:1; fill:none\" points=\"\n",
       "  512.562,1263.94 512.562,1250.25 \n",
       "  \"/>\n",
       "<polyline clip-path=\"url(#clip080)\" style=\"stroke:#000000; stroke-width:4; stroke-opacity:1; fill:none\" points=\"\n",
       "  705.845,1263.94 705.845,1250.25 \n",
       "  \"/>\n",
       "<polyline clip-path=\"url(#clip080)\" style=\"stroke:#000000; stroke-width:4; stroke-opacity:1; fill:none\" points=\"\n",
       "  899.128,1263.94 899.128,1250.25 \n",
       "  \"/>\n",
       "<polyline clip-path=\"url(#clip080)\" style=\"stroke:#000000; stroke-width:4; stroke-opacity:1; fill:none\" points=\"\n",
       "  1092.41,1263.94 1092.41,1250.25 \n",
       "  \"/>\n",
       "<polyline clip-path=\"url(#clip080)\" style=\"stroke:#000000; stroke-width:4; stroke-opacity:1; fill:none\" points=\"\n",
       "  1285.69,1263.94 1285.69,1250.25 \n",
       "  \"/>\n",
       "<polyline clip-path=\"url(#clip080)\" style=\"stroke:#000000; stroke-width:4; stroke-opacity:1; fill:none\" points=\"\n",
       "  1478.98,1263.94 1478.98,1250.25 \n",
       "  \"/>\n",
       "<polyline clip-path=\"url(#clip080)\" style=\"stroke:#000000; stroke-width:4; stroke-opacity:1; fill:none\" points=\"\n",
       "  1672.26,1263.94 1672.26,1250.25 \n",
       "  \"/>\n",
       "<polyline clip-path=\"url(#clip080)\" style=\"stroke:#000000; stroke-width:4; stroke-opacity:1; fill:none\" points=\"\n",
       "  1865.54,1263.94 1865.54,1250.25 \n",
       "  \"/>\n",
       "<polyline clip-path=\"url(#clip080)\" style=\"stroke:#000000; stroke-width:4; stroke-opacity:1; fill:none\" points=\"\n",
       "  2058.83,1263.94 2058.83,1250.25 \n",
       "  \"/>\n",
       "<polyline clip-path=\"url(#clip080)\" style=\"stroke:#000000; stroke-width:4; stroke-opacity:1; fill:none\" points=\"\n",
       "  2252.11,1263.94 2252.11,1250.25 \n",
       "  \"/>\n",
       "<polyline clip-path=\"url(#clip080)\" style=\"stroke:#000000; stroke-width:4; stroke-opacity:1; fill:none\" points=\"\n",
       "  260.051,1231.66 285.164,1231.66 \n",
       "  \"/>\n",
       "<polyline clip-path=\"url(#clip080)\" style=\"stroke:#000000; stroke-width:4; stroke-opacity:1; fill:none\" points=\"\n",
       "  260.051,1041.19 285.164,1041.19 \n",
       "  \"/>\n",
       "<polyline clip-path=\"url(#clip080)\" style=\"stroke:#000000; stroke-width:4; stroke-opacity:1; fill:none\" points=\"\n",
       "  260.051,850.724 285.164,850.724 \n",
       "  \"/>\n",
       "<polyline clip-path=\"url(#clip080)\" style=\"stroke:#000000; stroke-width:4; stroke-opacity:1; fill:none\" points=\"\n",
       "  260.051,660.257 285.164,660.257 \n",
       "  \"/>\n",
       "<polyline clip-path=\"url(#clip080)\" style=\"stroke:#000000; stroke-width:4; stroke-opacity:1; fill:none\" points=\"\n",
       "  260.051,469.789 285.164,469.789 \n",
       "  \"/>\n",
       "<polyline clip-path=\"url(#clip080)\" style=\"stroke:#000000; stroke-width:4; stroke-opacity:1; fill:none\" points=\"\n",
       "  260.051,279.321 285.164,279.321 \n",
       "  \"/>\n",
       "<path clip-path=\"url(#clip080)\" d=\"M 0 0 M181.944 1466.36 L193.483 1454.82 L196.266 1457.6 L180.749 1473.12 L177.966 1470.33 Q177.901 1466.5 177.868 1459.99 Q177.835 1453.44 177.721 1451.66 Q177.524 1448.29 176.919 1446.44 Q176.313 1444.55 175.118 1443.36 Q173.17 1441.41 170.568 1441.56 Q167.982 1441.69 165.788 1443.88 Q164.233 1445.44 163.038 1447.71 Q161.86 1449.97 160.992 1453.03 L157.653 1449.69 Q158.848 1446.9 160.174 1444.75 Q161.5 1442.61 162.94 1441.17 Q166.738 1437.37 170.895 1437.01 Q175.053 1436.65 178.228 1439.82 Q179.734 1441.33 180.52 1443.26 Q181.305 1445.16 181.649 1448.48 Q181.714 1449.37 181.796 1453.84 Q181.862 1458.29 181.944 1466.36 Z\" fill=\"#000000\" fill-rule=\"evenodd\" fill-opacity=\"1\" /><path clip-path=\"url(#clip080)\" d=\"M 0 0 M184.661 1424.68 Q182.107 1427.24 183.335 1431.05 Q184.563 1434.83 189.604 1439.87 Q194.629 1444.9 198.426 1446.14 Q202.224 1447.35 204.777 1444.8 Q207.347 1442.23 206.119 1438.45 Q204.892 1434.64 199.867 1429.61 Q194.825 1424.57 191.028 1423.36 Q187.231 1422.11 184.661 1424.68 M182.042 1422.06 Q186.15 1417.96 191.568 1419.05 Q196.986 1420.12 203.173 1426.3 Q209.344 1432.48 210.424 1437.91 Q211.504 1443.31 207.396 1447.42 Q203.288 1451.53 197.87 1450.46 Q192.452 1449.37 186.281 1443.2 Q180.094 1437.01 179.014 1431.61 Q177.933 1426.17 182.042 1422.06 Z\" fill=\"#000000\" fill-rule=\"evenodd\" fill-opacity=\"1\" /><path clip-path=\"url(#clip080)\" d=\"M 0 0 M219.017 1429.28 L230.557 1417.74 L233.34 1420.53 L217.823 1436.04 L215.04 1433.26 Q214.974 1429.43 214.942 1422.92 Q214.909 1416.37 214.794 1414.58 Q214.598 1411.21 213.992 1409.36 Q213.387 1407.48 212.192 1406.29 Q210.244 1404.34 207.642 1404.49 Q205.055 1404.62 202.862 1406.81 Q201.307 1408.36 200.112 1410.64 Q198.934 1412.9 198.066 1415.96 L194.727 1412.62 Q195.922 1409.82 197.248 1407.68 Q198.574 1405.53 200.014 1404.09 Q203.811 1400.3 207.969 1399.94 Q212.126 1399.58 215.302 1402.75 Q216.808 1404.26 217.593 1406.19 Q218.379 1408.09 218.723 1411.41 Q218.788 1412.29 218.87 1416.76 Q218.936 1421.21 219.017 1429.28 Z\" fill=\"#000000\" fill-rule=\"evenodd\" fill-opacity=\"1\" /><path clip-path=\"url(#clip080)\" d=\"M 0 0 M221.735 1387.61 Q219.181 1390.16 220.409 1393.98 Q221.636 1397.76 226.678 1402.8 Q231.703 1407.82 235.5 1409.07 Q239.298 1410.28 241.851 1407.73 Q244.421 1405.16 243.193 1401.38 Q241.966 1397.56 236.941 1392.54 Q231.899 1387.5 228.102 1386.28 Q224.304 1385.04 221.735 1387.61 M219.116 1384.99 Q223.224 1380.88 228.642 1381.98 Q234.06 1383.04 240.247 1389.23 Q246.418 1395.4 247.498 1400.84 Q248.578 1406.24 244.47 1410.35 Q240.361 1414.45 234.944 1413.39 Q229.526 1412.29 223.355 1406.12 Q217.168 1399.94 216.088 1394.53 Q215.007 1389.1 219.116 1384.99 Z\" fill=\"#000000\" fill-rule=\"evenodd\" fill-opacity=\"1\" /><path clip-path=\"url(#clip080)\" d=\"M 0 0 M243.553 1389.26 L252.376 1380.44 L255.06 1383.13 L246.238 1391.95 L243.553 1389.26 Z\" fill=\"#000000\" fill-rule=\"evenodd\" fill-opacity=\"1\" /><path clip-path=\"url(#clip080)\" d=\"M 0 0 M251.295 1358.05 Q248.742 1360.6 249.97 1364.42 Q251.197 1368.2 256.239 1373.24 Q261.264 1378.26 265.061 1379.51 Q268.858 1380.72 271.412 1378.17 Q273.982 1375.6 272.754 1371.81 Q271.526 1368 266.501 1362.98 Q261.46 1357.93 257.663 1356.72 Q253.865 1355.48 251.295 1358.05 M248.676 1355.43 Q252.785 1351.32 258.203 1352.42 Q263.621 1353.48 269.808 1359.67 Q275.978 1365.84 277.059 1371.27 Q278.139 1376.68 274.031 1380.78 Q269.922 1384.89 264.504 1383.83 Q259.087 1382.73 252.916 1376.56 Q246.729 1370.37 245.648 1364.97 Q244.568 1359.54 248.676 1355.43 Z\" fill=\"#000000\" fill-rule=\"evenodd\" fill-opacity=\"1\" /><path clip-path=\"url(#clip080)\" d=\"M 0 0 M282.428 1345.09 Q285.308 1343.22 288.238 1343.5 Q291.184 1343.76 293.541 1346.12 Q297.159 1349.73 296.651 1354.2 Q296.144 1358.67 291.561 1363.25 Q290.022 1364.79 288.075 1366.12 Q286.159 1367.44 283.819 1368.57 L280.627 1365.38 Q282.804 1364.81 284.85 1363.58 Q286.896 1362.35 288.68 1360.57 Q291.79 1357.46 292.183 1354.61 Q292.592 1351.75 290.251 1349.41 Q288.091 1347.25 285.357 1347.56 Q282.624 1347.84 279.923 1350.54 L277.075 1353.38 L274.358 1350.67 L277.337 1347.69 Q279.776 1345.25 280.103 1342.99 Q280.414 1340.72 278.581 1338.88 Q276.699 1337 274.358 1337.34 Q272.017 1337.65 269.529 1340.14 Q268.171 1341.5 266.911 1343.35 Q265.65 1345.2 264.406 1347.69 L261.46 1344.74 Q262.819 1342.34 264.193 1340.44 Q265.585 1338.52 267.041 1337.07 Q270.806 1333.3 274.718 1332.83 Q278.614 1332.33 281.527 1335.25 Q283.557 1337.28 283.802 1339.85 Q284.032 1342.4 282.428 1345.09 Z\" fill=\"#000000\" fill-rule=\"evenodd\" fill-opacity=\"1\" /><path clip-path=\"url(#clip080)\" d=\"M 0 0 M291.757 1341.06 L300.58 1332.24 L303.264 1334.92 L294.442 1343.74 L291.757 1341.06 Z\" fill=\"#000000\" fill-rule=\"evenodd\" fill-opacity=\"1\" /><path clip-path=\"url(#clip080)\" d=\"M 0 0 M299.499 1309.85 Q296.946 1312.4 298.174 1316.21 Q299.401 1319.99 304.443 1325.03 Q309.468 1330.06 313.265 1331.3 Q317.062 1332.51 319.616 1329.96 Q322.186 1327.39 320.958 1323.61 Q319.73 1319.8 314.705 1314.77 Q309.664 1309.73 305.867 1308.52 Q302.069 1307.28 299.499 1309.85 M296.881 1307.23 Q300.989 1303.12 306.407 1304.21 Q311.825 1305.28 318.012 1311.47 Q324.183 1317.64 325.263 1323.07 Q326.343 1328.47 322.235 1332.58 Q318.126 1336.69 312.709 1335.62 Q307.291 1334.53 301.12 1328.36 Q294.933 1322.17 293.852 1316.77 Q292.772 1311.33 296.881 1307.23 Z\" fill=\"#000000\" fill-rule=\"evenodd\" fill-opacity=\"1\" /><path clip-path=\"url(#clip080)\" d=\"M 0 0 M309.386 1295.6 L322.366 1282.62 L325.148 1285.41 L315.197 1295.36 L321.187 1301.35 Q321.662 1300.38 322.268 1299.55 Q322.857 1298.7 323.577 1297.98 Q327.669 1293.89 332.301 1293.74 Q336.933 1293.59 340.764 1297.42 Q344.708 1301.37 344.446 1306.01 Q344.168 1310.65 339.7 1315.12 Q338.161 1316.65 336.295 1318 Q334.445 1319.32 332.219 1320.5 L328.897 1317.18 Q331.172 1316.51 333.136 1315.33 Q335.1 1314.15 336.852 1312.4 Q339.683 1309.57 339.847 1306.42 Q340.011 1303.28 337.457 1300.73 Q334.904 1298.17 331.761 1298.34 Q328.618 1298.5 325.787 1301.33 Q324.461 1302.66 323.43 1304.28 Q322.415 1305.88 321.662 1307.88 L309.386 1295.6 Z\" fill=\"#000000\" fill-rule=\"evenodd\" fill-opacity=\"1\" /><path clip-path=\"url(#clip080)\" d=\"M 0 0 M375.521 1466.06 L387.061 1454.52 L389.844 1457.31 L374.327 1472.82 L371.544 1470.04 Q371.478 1466.21 371.446 1459.7 Q371.413 1453.15 371.298 1451.36 Q371.102 1447.99 370.496 1446.14 Q369.891 1444.26 368.696 1443.07 Q366.748 1441.12 364.146 1441.26 Q361.559 1441.4 359.366 1443.59 Q357.811 1445.14 356.616 1447.42 Q355.438 1449.68 354.57 1452.74 L351.231 1449.4 Q352.426 1446.6 353.752 1444.46 Q355.078 1442.31 356.518 1440.87 Q360.315 1437.07 364.473 1436.71 Q368.63 1436.35 371.806 1439.53 Q373.312 1441.04 374.097 1442.97 Q374.883 1444.87 375.227 1448.19 Q375.292 1449.07 375.374 1453.54 Q375.44 1457.99 375.521 1466.06 Z\" fill=\"#000000\" fill-rule=\"evenodd\" fill-opacity=\"1\" /><path clip-path=\"url(#clip080)\" d=\"M 0 0 M378.239 1424.39 Q375.685 1426.94 376.913 1430.76 Q378.14 1434.54 383.182 1439.58 Q388.207 1444.6 392.004 1445.85 Q395.802 1447.06 398.355 1444.51 Q400.925 1441.94 399.697 1438.15 Q398.47 1434.34 393.445 1429.32 Q388.403 1424.27 384.606 1423.06 Q380.808 1421.82 378.239 1424.39 M375.62 1421.77 Q379.728 1417.66 385.146 1418.76 Q390.564 1419.82 396.751 1426.01 Q402.922 1432.18 404.002 1437.61 Q405.082 1443.02 400.974 1447.12 Q396.865 1451.23 391.448 1450.17 Q386.03 1449.07 379.859 1442.9 Q373.672 1436.71 372.592 1431.31 Q371.511 1425.88 375.62 1421.77 Z\" fill=\"#000000\" fill-rule=\"evenodd\" fill-opacity=\"1\" /><path clip-path=\"url(#clip080)\" d=\"M 0 0 M412.595 1428.99 L424.135 1417.45 L426.917 1420.23 L411.4 1435.75 L408.618 1432.97 Q408.552 1429.14 408.52 1422.62 Q408.487 1416.07 408.372 1414.29 Q408.176 1410.92 407.57 1409.07 Q406.965 1407.19 405.77 1405.99 Q403.822 1404.04 401.219 1404.19 Q398.633 1404.32 396.44 1406.52 Q394.885 1408.07 393.69 1410.35 Q392.512 1412.6 391.644 1415.67 L388.305 1412.33 Q389.5 1409.53 390.826 1407.38 Q392.151 1405.24 393.592 1403.8 Q397.389 1400 401.547 1399.64 Q405.704 1399.28 408.88 1402.46 Q410.386 1403.96 411.171 1405.89 Q411.957 1407.79 412.301 1411.11 Q412.366 1412 412.448 1416.47 Q412.513 1420.92 412.595 1428.99 Z\" fill=\"#000000\" fill-rule=\"evenodd\" fill-opacity=\"1\" /><path clip-path=\"url(#clip080)\" d=\"M 0 0 M415.312 1387.32 Q412.759 1389.87 413.987 1393.68 Q415.214 1397.46 420.256 1402.51 Q425.281 1407.53 429.078 1408.77 Q432.875 1409.99 435.429 1407.43 Q437.999 1404.86 436.771 1401.08 Q435.543 1397.27 430.518 1392.24 Q425.477 1387.2 421.68 1385.99 Q417.882 1384.75 415.312 1387.32 M412.693 1384.7 Q416.802 1380.59 422.22 1381.68 Q427.638 1382.75 433.825 1388.94 Q439.995 1395.11 441.076 1400.54 Q442.156 1405.94 438.048 1410.05 Q433.939 1414.16 428.521 1413.1 Q423.104 1412 416.933 1405.83 Q410.746 1399.64 409.665 1394.24 Q408.585 1388.8 412.693 1384.7 Z\" fill=\"#000000\" fill-rule=\"evenodd\" fill-opacity=\"1\" /><path clip-path=\"url(#clip080)\" d=\"M 0 0 M437.131 1388.97 L445.953 1380.15 L448.638 1382.83 L439.815 1391.65 L437.131 1388.97 Z\" fill=\"#000000\" fill-rule=\"evenodd\" fill-opacity=\"1\" /><path clip-path=\"url(#clip080)\" d=\"M 0 0 M444.873 1357.75 Q442.32 1360.31 443.547 1364.12 Q444.775 1367.9 449.816 1372.94 Q454.841 1377.97 458.639 1379.21 Q462.436 1380.42 464.99 1377.87 Q467.559 1375.3 466.332 1371.52 Q465.104 1367.71 460.079 1362.68 Q455.038 1357.64 451.24 1356.43 Q447.443 1355.18 444.873 1357.75 M442.254 1355.14 Q446.363 1351.03 451.781 1352.12 Q457.198 1353.19 463.386 1359.38 Q469.556 1365.55 470.637 1370.98 Q471.717 1376.38 467.608 1380.49 Q463.5 1384.6 458.082 1383.53 Q452.664 1382.44 446.494 1376.27 Q440.306 1370.08 439.226 1364.68 Q438.146 1359.24 442.254 1355.14 Z\" fill=\"#000000\" fill-rule=\"evenodd\" fill-opacity=\"1\" /><path clip-path=\"url(#clip080)\" d=\"M 0 0 M476.005 1344.79 Q478.886 1342.93 481.816 1343.2 Q484.762 1343.47 487.119 1345.82 Q490.737 1349.44 490.229 1353.91 Q489.722 1358.38 485.139 1362.96 Q483.6 1364.5 481.652 1365.82 Q479.737 1367.15 477.397 1368.28 L474.205 1365.09 Q476.382 1364.51 478.428 1363.29 Q480.474 1362.06 482.258 1360.28 Q485.368 1357.17 485.761 1354.32 Q486.17 1351.45 483.829 1349.11 Q481.669 1346.95 478.935 1347.26 Q476.202 1347.54 473.501 1350.24 L470.653 1353.09 L467.936 1350.37 L470.915 1347.39 Q473.354 1344.95 473.681 1342.7 Q473.992 1340.42 472.159 1338.59 Q470.276 1336.71 467.936 1337.05 Q465.595 1337.36 463.107 1339.85 Q461.749 1341.21 460.488 1343.06 Q459.228 1344.91 457.984 1347.39 L455.038 1344.45 Q456.396 1342.04 457.771 1340.14 Q459.163 1338.23 460.619 1336.77 Q464.384 1333.01 468.296 1332.53 Q472.192 1332.04 475.105 1334.95 Q477.135 1336.98 477.38 1339.55 Q477.609 1342.11 476.005 1344.79 Z\" fill=\"#000000\" fill-rule=\"evenodd\" fill-opacity=\"1\" /><path clip-path=\"url(#clip080)\" d=\"M 0 0 M485.335 1340.76 L494.158 1331.94 L496.842 1334.63 L488.02 1343.45 L485.335 1340.76 Z\" fill=\"#000000\" fill-rule=\"evenodd\" fill-opacity=\"1\" /><path clip-path=\"url(#clip080)\" d=\"M 0 0 M506.057 1335.53 L511.459 1330.13 L492.815 1311.48 L488.118 1318.54 L485.106 1315.52 L489.771 1308.5 L493.077 1305.2 L514.732 1326.85 L520.134 1321.45 L522.916 1324.23 L508.84 1338.31 L506.057 1335.53 Z\" fill=\"#000000\" fill-rule=\"evenodd\" fill-opacity=\"1\" /><path clip-path=\"url(#clip080)\" d=\"M 0 0 M526.092 1320.04 L523.08 1317.03 Q524.913 1316.38 526.501 1315.41 Q528.089 1314.44 529.316 1313.22 Q532.59 1309.94 532.115 1306.03 Q531.641 1302.09 527.401 1297.36 Q527.86 1299.71 527.156 1301.92 Q526.452 1304.13 524.684 1305.9 Q521.018 1309.57 516.664 1309.5 Q512.31 1309.4 508.463 1305.56 Q504.699 1301.79 504.65 1297.29 Q504.6 1292.79 508.3 1289.09 Q512.539 1284.85 518.022 1285.88 Q523.506 1286.88 529.693 1293.07 Q535.471 1298.85 536.175 1305.05 Q536.878 1311.22 532.246 1315.85 Q531.002 1317.1 529.48 1318.13 Q527.958 1319.16 526.092 1320.04 M522.311 1303.1 Q524.537 1300.88 524.308 1298.06 Q524.095 1295.23 521.443 1292.58 Q518.808 1289.94 515.976 1289.73 Q513.145 1289.48 510.919 1291.71 Q508.692 1293.94 508.922 1296.78 Q509.151 1299.6 511.786 1302.23 Q514.438 1304.89 517.253 1305.11 Q520.085 1305.33 522.311 1303.1 Z\" fill=\"#000000\" fill-rule=\"evenodd\" fill-opacity=\"1\" /><path clip-path=\"url(#clip080)\" d=\"M 0 0 M568.134 1466.73 L579.673 1455.19 L582.456 1457.98 L566.939 1473.49 L564.156 1470.71 Q564.091 1466.88 564.058 1460.37 Q564.025 1453.82 563.911 1452.03 Q563.714 1448.66 563.109 1446.81 Q562.503 1444.93 561.308 1443.74 Q559.36 1441.79 556.758 1441.94 Q554.172 1442.07 551.978 1444.26 Q550.423 1445.82 549.228 1448.09 Q548.05 1450.35 547.182 1453.41 L543.843 1450.07 Q545.038 1447.27 546.364 1445.13 Q547.69 1442.98 549.13 1441.54 Q552.928 1437.75 557.085 1437.39 Q561.243 1437.03 564.418 1440.2 Q565.924 1441.71 566.709 1443.64 Q567.495 1445.54 567.839 1448.86 Q567.904 1449.74 567.986 1454.21 Q568.052 1458.66 568.134 1466.73 Z\" fill=\"#000000\" fill-rule=\"evenodd\" fill-opacity=\"1\" /><path clip-path=\"url(#clip080)\" d=\"M 0 0 M570.851 1425.06 Q568.297 1427.61 569.525 1431.43 Q570.752 1435.21 575.794 1440.25 Q580.819 1445.27 584.616 1446.52 Q588.414 1447.73 590.967 1445.18 Q593.537 1442.61 592.309 1438.83 Q591.082 1435.01 586.057 1429.99 Q581.015 1424.95 577.218 1423.73 Q573.42 1422.49 570.851 1425.06 M568.232 1422.44 Q572.34 1418.33 577.758 1419.43 Q583.176 1420.49 589.363 1426.68 Q595.534 1432.85 596.614 1438.29 Q597.694 1443.69 593.586 1447.8 Q589.478 1451.9 584.06 1450.84 Q578.642 1449.74 572.471 1443.57 Q566.284 1437.39 565.204 1431.98 Q564.123 1426.55 568.232 1422.44 Z\" fill=\"#000000\" fill-rule=\"evenodd\" fill-opacity=\"1\" /><path clip-path=\"url(#clip080)\" d=\"M 0 0 M605.207 1429.66 L616.747 1418.12 L619.529 1420.9 L604.012 1436.42 L601.23 1433.64 Q601.164 1429.81 601.132 1423.29 Q601.099 1416.75 600.984 1414.96 Q600.788 1411.59 600.182 1409.74 Q599.577 1407.86 598.382 1406.66 Q596.434 1404.71 593.831 1404.86 Q591.245 1404.99 589.052 1407.19 Q587.497 1408.74 586.302 1411.02 Q585.124 1413.28 584.256 1416.34 L580.917 1413 Q582.112 1410.2 583.438 1408.05 Q584.764 1405.91 586.204 1404.47 Q590.001 1400.67 594.159 1400.31 Q598.316 1399.95 601.492 1403.13 Q602.998 1404.63 603.783 1406.56 Q604.569 1408.46 604.913 1411.79 Q604.978 1412.67 605.06 1417.14 Q605.125 1421.59 605.207 1429.66 Z\" fill=\"#000000\" fill-rule=\"evenodd\" fill-opacity=\"1\" /><path clip-path=\"url(#clip080)\" d=\"M 0 0 M607.924 1387.99 Q605.371 1390.54 606.599 1394.35 Q607.826 1398.13 612.868 1403.18 Q617.893 1408.2 621.69 1409.45 Q625.487 1410.66 628.041 1408.1 Q630.611 1405.53 629.383 1401.75 Q628.155 1397.94 623.13 1392.91 Q618.089 1387.87 614.292 1386.66 Q610.494 1385.42 607.924 1387.99 M605.306 1385.37 Q609.414 1381.26 614.832 1382.36 Q620.25 1383.42 626.437 1389.61 Q632.608 1395.78 633.688 1401.21 Q634.768 1406.61 630.66 1410.72 Q626.551 1414.83 621.134 1413.77 Q615.716 1412.67 609.545 1406.5 Q603.358 1400.31 602.277 1394.91 Q601.197 1389.48 605.306 1385.37 Z\" fill=\"#000000\" fill-rule=\"evenodd\" fill-opacity=\"1\" /><path clip-path=\"url(#clip080)\" d=\"M 0 0 M629.743 1389.64 L638.566 1380.82 L641.25 1383.5 L632.428 1392.32 L629.743 1389.64 Z\" fill=\"#000000\" fill-rule=\"evenodd\" fill-opacity=\"1\" /><path clip-path=\"url(#clip080)\" d=\"M 0 0 M637.485 1358.43 Q634.932 1360.98 636.159 1364.79 Q637.387 1368.57 642.428 1373.62 Q647.453 1378.64 651.251 1379.88 Q655.048 1381.1 657.602 1378.54 Q660.171 1375.97 658.944 1372.19 Q657.716 1368.38 652.691 1363.35 Q647.65 1358.31 643.852 1357.1 Q640.055 1355.86 637.485 1358.43 M634.866 1355.81 Q638.975 1351.7 644.393 1352.8 Q649.81 1353.86 655.998 1360.05 Q662.168 1366.22 663.249 1371.65 Q664.329 1377.05 660.221 1381.16 Q656.112 1385.27 650.694 1384.21 Q645.276 1383.11 639.106 1376.94 Q632.919 1370.75 631.838 1365.35 Q630.758 1359.92 634.866 1355.81 Z\" fill=\"#000000\" fill-rule=\"evenodd\" fill-opacity=\"1\" /><path clip-path=\"url(#clip080)\" d=\"M 0 0 M659.304 1338.01 L664.002 1359.41 L672.349 1351.06 L659.304 1338.01 M655.556 1336 L659.713 1331.84 L675.639 1347.77 L679.126 1344.28 L681.876 1347.03 L678.389 1350.52 L684.151 1356.28 L680.861 1359.57 L675.099 1353.81 L664.067 1364.84 L660.875 1361.65 L655.556 1336 Z\" fill=\"#000000\" fill-rule=\"evenodd\" fill-opacity=\"1\" /><path clip-path=\"url(#clip080)\" d=\"M 0 0 M678.749 1340.63 L687.572 1331.81 L690.256 1334.5 L681.434 1343.32 L678.749 1340.63 Z\" fill=\"#000000\" fill-rule=\"evenodd\" fill-opacity=\"1\" /><path clip-path=\"url(#clip080)\" d=\"M 0 0 M686.491 1309.42 Q683.938 1311.97 685.166 1315.79 Q686.393 1319.57 691.435 1324.61 Q696.46 1329.63 700.257 1330.88 Q704.054 1332.09 706.608 1329.54 Q709.178 1326.97 707.95 1323.19 Q706.722 1319.37 701.697 1314.35 Q696.656 1309.3 692.859 1308.09 Q689.061 1306.85 686.491 1309.42 M683.873 1306.8 Q687.981 1302.69 693.399 1303.79 Q698.817 1304.85 705.004 1311.04 Q711.175 1317.21 712.255 1322.64 Q713.335 1328.05 709.227 1332.15 Q705.118 1336.26 699.701 1335.2 Q694.283 1334.1 688.112 1327.93 Q681.925 1321.74 680.844 1316.34 Q679.764 1310.91 683.873 1306.8 Z\" fill=\"#000000\" fill-rule=\"evenodd\" fill-opacity=\"1\" /><path clip-path=\"url(#clip080)\" d=\"M 0 0 M720.848 1314.02 L732.388 1302.48 L735.17 1305.26 L719.653 1320.78 L716.871 1318 Q716.805 1314.17 716.772 1307.65 Q716.74 1301.1 716.625 1299.32 Q716.429 1295.95 715.823 1294.1 Q715.217 1292.22 714.023 1291.02 Q712.075 1289.07 709.472 1289.22 Q706.886 1289.35 704.693 1291.55 Q703.138 1293.1 701.943 1295.38 Q700.764 1297.63 699.897 1300.7 L696.558 1297.36 Q697.753 1294.56 699.079 1292.41 Q700.404 1290.27 701.845 1288.83 Q705.642 1285.03 709.8 1284.67 Q713.957 1284.31 717.133 1287.49 Q718.638 1288.99 719.424 1290.92 Q720.21 1292.82 720.553 1296.14 Q720.619 1297.03 720.701 1301.5 Q720.766 1305.95 720.848 1314.02 Z\" fill=\"#000000\" fill-rule=\"evenodd\" fill-opacity=\"1\" /><path clip-path=\"url(#clip080)\" d=\"M 0 0 M761.04 1467.11 L772.58 1455.57 L775.362 1458.35 L759.845 1473.87 L757.063 1471.09 Q756.997 1467.26 756.965 1460.74 Q756.932 1454.2 756.817 1452.41 Q756.621 1449.04 756.015 1447.19 Q755.41 1445.31 754.215 1444.11 Q752.267 1442.16 749.664 1442.31 Q747.078 1442.44 744.885 1444.64 Q743.33 1446.19 742.135 1448.47 Q740.957 1450.73 740.089 1453.79 L736.75 1450.45 Q737.945 1447.65 739.271 1445.5 Q740.596 1443.36 742.037 1441.92 Q745.834 1438.12 749.992 1437.76 Q754.149 1437.4 757.325 1440.58 Q758.831 1442.08 759.616 1444.01 Q760.402 1445.91 760.746 1449.24 Q760.811 1450.12 760.893 1454.59 Q760.958 1459.04 761.04 1467.11 Z\" fill=\"#000000\" fill-rule=\"evenodd\" fill-opacity=\"1\" /><path clip-path=\"url(#clip080)\" d=\"M 0 0 M763.757 1425.44 Q761.204 1427.99 762.432 1431.8 Q763.659 1435.59 768.701 1440.63 Q773.726 1445.65 777.523 1446.9 Q781.32 1448.11 783.874 1445.55 Q786.444 1442.98 785.216 1439.2 Q783.988 1435.39 778.963 1430.36 Q773.922 1425.32 770.125 1424.11 Q766.327 1422.87 763.757 1425.44 M761.138 1422.82 Q765.247 1418.71 770.665 1419.81 Q776.083 1420.87 782.27 1427.06 Q788.44 1433.23 789.521 1438.66 Q790.601 1444.06 786.493 1448.17 Q782.384 1452.28 776.966 1451.22 Q771.549 1450.12 765.378 1443.95 Q759.191 1437.76 758.11 1432.36 Q757.03 1426.93 761.138 1422.82 Z\" fill=\"#000000\" fill-rule=\"evenodd\" fill-opacity=\"1\" /><path clip-path=\"url(#clip080)\" d=\"M 0 0 M798.114 1430.04 L809.654 1418.5 L812.436 1421.28 L796.919 1436.8 L794.137 1434.01 Q794.071 1430.18 794.038 1423.67 Q794.006 1417.12 793.891 1415.34 Q793.695 1411.97 793.089 1410.12 Q792.483 1408.23 791.289 1407.04 Q789.341 1405.09 786.738 1405.24 Q784.152 1405.37 781.959 1407.56 Q780.404 1409.12 779.209 1411.39 Q778.03 1413.65 777.163 1416.71 L773.824 1413.37 Q775.019 1410.57 776.344 1408.43 Q777.67 1406.29 779.111 1404.85 Q782.908 1401.05 787.066 1400.69 Q791.223 1400.33 794.398 1403.5 Q795.904 1405.01 796.69 1406.94 Q797.476 1408.84 797.819 1412.16 Q797.885 1413.05 797.967 1417.51 Q798.032 1421.97 798.114 1430.04 Z\" fill=\"#000000\" fill-rule=\"evenodd\" fill-opacity=\"1\" /><path clip-path=\"url(#clip080)\" d=\"M 0 0 M800.831 1388.36 Q798.278 1390.92 799.505 1394.73 Q800.733 1398.51 805.774 1403.55 Q810.799 1408.58 814.597 1409.82 Q818.394 1411.03 820.948 1408.48 Q823.517 1405.91 822.29 1402.13 Q821.062 1398.31 816.037 1393.29 Q810.996 1388.25 807.198 1387.04 Q803.401 1385.79 800.831 1388.36 M798.212 1385.74 Q802.321 1381.64 807.738 1382.73 Q813.156 1383.8 819.343 1389.98 Q825.514 1396.15 826.595 1401.59 Q827.675 1406.99 823.566 1411.1 Q819.458 1415.21 814.04 1414.14 Q808.622 1413.05 802.452 1406.88 Q796.264 1400.69 795.184 1395.29 Q794.104 1389.85 798.212 1385.74 Z\" fill=\"#000000\" fill-rule=\"evenodd\" fill-opacity=\"1\" /><path clip-path=\"url(#clip080)\" d=\"M 0 0 M822.65 1390.02 L831.472 1381.19 L834.157 1383.88 L825.334 1392.7 L822.65 1390.02 Z\" fill=\"#000000\" fill-rule=\"evenodd\" fill-opacity=\"1\" /><path clip-path=\"url(#clip080)\" d=\"M 0 0 M830.392 1358.8 Q827.839 1361.36 829.066 1365.17 Q830.294 1368.95 835.335 1373.99 Q840.36 1379.02 844.158 1380.26 Q847.955 1381.47 850.508 1378.92 Q853.078 1376.35 851.851 1372.57 Q850.623 1368.75 845.598 1363.73 Q840.557 1358.69 836.759 1357.48 Q832.962 1356.23 830.392 1358.8 M827.773 1356.18 Q831.881 1352.07 837.299 1353.17 Q842.717 1354.24 848.904 1360.42 Q855.075 1366.59 856.155 1372.03 Q857.236 1377.43 853.127 1381.54 Q849.019 1385.65 843.601 1384.58 Q838.183 1383.49 832.012 1377.31 Q825.825 1371.13 824.745 1365.73 Q823.665 1360.29 827.773 1356.18 Z\" fill=\"#000000\" fill-rule=\"evenodd\" fill-opacity=\"1\" /><path clip-path=\"url(#clip080)\" d=\"M 0 0 M852.211 1338.39 L856.908 1359.78 L865.256 1351.44 L852.211 1338.39 M848.462 1336.38 L852.62 1332.22 L868.546 1348.15 L872.032 1344.66 L874.782 1347.41 L871.296 1350.9 L877.058 1356.66 L873.768 1359.95 L868.006 1354.19 L856.974 1365.22 L853.782 1362.03 L848.462 1336.38 Z\" fill=\"#000000\" fill-rule=\"evenodd\" fill-opacity=\"1\" /><path clip-path=\"url(#clip080)\" d=\"M 0 0 M871.656 1341.01 L880.478 1332.19 L883.163 1334.87 L874.34 1343.69 L871.656 1341.01 Z\" fill=\"#000000\" fill-rule=\"evenodd\" fill-opacity=\"1\" /><path clip-path=\"url(#clip080)\" d=\"M 0 0 M892.378 1335.77 L897.78 1330.37 L879.136 1311.73 L874.439 1318.78 L871.427 1315.77 L876.092 1308.75 L879.398 1305.44 L901.053 1327.1 L906.455 1321.7 L909.237 1324.48 L895.161 1338.55 L892.378 1335.77 Z\" fill=\"#000000\" fill-rule=\"evenodd\" fill-opacity=\"1\" /><path clip-path=\"url(#clip080)\" d=\"M 0 0 M906.766 1299.88 Q904.54 1302.1 904.752 1304.93 Q904.982 1307.75 907.633 1310.4 Q910.268 1313.04 913.1 1313.28 Q915.932 1313.5 918.158 1311.27 Q920.384 1309.04 920.155 1306.23 Q919.926 1303.38 917.29 1300.74 Q914.639 1298.09 911.807 1297.88 Q908.992 1297.65 906.766 1299.88 M902.968 1282.95 L905.98 1285.96 Q904.147 1286.62 902.559 1287.58 Q900.988 1288.53 899.744 1289.78 Q896.47 1293.05 896.945 1297 Q897.436 1300.92 901.659 1305.64 Q901.2 1303.25 901.904 1301.04 Q902.592 1298.81 904.343 1297.06 Q908.026 1293.38 912.396 1293.49 Q916.767 1293.58 920.613 1297.42 Q924.378 1301.19 924.427 1305.69 Q924.476 1310.19 920.777 1313.89 Q916.537 1318.13 911.054 1317.13 Q905.554 1316.11 899.384 1309.94 Q893.589 1304.15 892.902 1297.96 Q892.198 1291.76 896.83 1287.13 Q898.074 1285.88 899.58 1284.87 Q901.102 1283.84 902.968 1282.95 Z\" fill=\"#000000\" fill-rule=\"evenodd\" fill-opacity=\"1\" /><path clip-path=\"url(#clip080)\" d=\"M 0 0 M954.029 1467.4 L965.568 1455.87 L968.351 1458.65 L952.834 1474.16 L950.051 1471.38 Q949.986 1467.55 949.953 1461.04 Q949.92 1454.49 949.806 1452.71 Q949.609 1449.33 949.004 1447.48 Q948.398 1445.6 947.203 1444.41 Q945.255 1442.46 942.653 1442.61 Q940.067 1442.74 937.873 1444.93 Q936.318 1446.49 935.124 1448.76 Q933.945 1451.02 933.078 1454.08 L929.738 1450.74 Q930.933 1447.94 932.259 1445.8 Q933.585 1443.65 935.025 1442.21 Q938.823 1438.42 942.98 1438.06 Q947.138 1437.7 950.313 1440.87 Q951.819 1442.38 952.605 1444.31 Q953.39 1446.21 953.734 1449.53 Q953.8 1450.41 953.881 1454.88 Q953.947 1459.34 954.029 1467.4 Z\" fill=\"#000000\" fill-rule=\"evenodd\" fill-opacity=\"1\" /><path clip-path=\"url(#clip080)\" d=\"M 0 0 M956.746 1425.73 Q954.192 1428.28 955.42 1432.1 Q956.648 1435.88 961.689 1440.92 Q966.714 1445.95 970.511 1447.19 Q974.309 1448.4 976.862 1445.85 Q979.432 1443.28 978.205 1439.5 Q976.977 1435.68 971.952 1430.66 Q966.911 1425.62 963.113 1424.41 Q959.316 1423.16 956.746 1425.73 M954.127 1423.11 Q958.235 1419 963.653 1420.1 Q969.071 1421.16 975.258 1427.35 Q981.429 1433.52 982.509 1438.96 Q983.59 1444.36 979.481 1448.47 Q975.373 1452.58 969.955 1451.51 Q964.537 1450.41 958.366 1444.24 Q952.179 1438.06 951.099 1432.66 Q950.019 1427.22 954.127 1423.11 Z\" fill=\"#000000\" fill-rule=\"evenodd\" fill-opacity=\"1\" /><path clip-path=\"url(#clip080)\" d=\"M 0 0 M991.103 1430.33 L1002.64 1418.79 L1005.42 1421.57 L989.908 1437.09 L987.125 1434.31 Q987.06 1430.48 987.027 1423.96 Q986.994 1417.42 986.88 1415.63 Q986.683 1412.26 986.078 1410.41 Q985.472 1408.53 984.277 1407.33 Q982.329 1405.39 979.727 1405.53 Q977.141 1405.66 974.947 1407.86 Q973.392 1409.41 972.197 1411.69 Q971.019 1413.95 970.151 1417.01 L966.812 1413.67 Q968.007 1410.87 969.333 1408.72 Q970.659 1406.58 972.099 1405.14 Q975.897 1401.34 980.054 1400.98 Q984.212 1400.62 987.387 1403.8 Q988.893 1405.3 989.679 1407.24 Q990.464 1409.13 990.808 1412.46 Q990.873 1413.34 990.955 1417.81 Q991.021 1422.26 991.103 1430.33 Z\" fill=\"#000000\" fill-rule=\"evenodd\" fill-opacity=\"1\" /><path clip-path=\"url(#clip080)\" d=\"M 0 0 M993.82 1388.66 Q991.266 1391.21 992.494 1395.02 Q993.721 1398.81 998.763 1403.85 Q1003.79 1408.87 1007.59 1410.12 Q1011.38 1411.33 1013.94 1408.77 Q1016.51 1406.2 1015.28 1402.42 Q1014.05 1398.61 1009.03 1393.58 Q1003.98 1388.54 1000.19 1387.33 Q996.39 1386.09 993.82 1388.66 M991.201 1386.04 Q995.309 1381.93 1000.73 1383.03 Q1006.14 1384.09 1012.33 1390.28 Q1018.5 1396.45 1019.58 1401.88 Q1020.66 1407.28 1016.56 1411.39 Q1012.45 1415.5 1007.03 1414.44 Q1001.61 1413.34 995.44 1407.17 Q989.253 1400.98 988.173 1395.58 Q987.092 1390.15 991.201 1386.04 Z\" fill=\"#000000\" fill-rule=\"evenodd\" fill-opacity=\"1\" /><path clip-path=\"url(#clip080)\" d=\"M 0 0 M1015.64 1390.31 L1024.46 1381.49 L1027.15 1384.17 L1018.32 1393 L1015.64 1390.31 Z\" fill=\"#000000\" fill-rule=\"evenodd\" fill-opacity=\"1\" /><path clip-path=\"url(#clip080)\" d=\"M 0 0 M1023.38 1359.1 Q1020.83 1361.65 1022.05 1365.46 Q1023.28 1369.25 1028.32 1374.29 Q1033.35 1379.31 1037.15 1380.56 Q1040.94 1381.77 1043.5 1379.21 Q1046.07 1376.64 1044.84 1372.86 Q1043.61 1369.05 1038.59 1364.02 Q1033.55 1358.98 1029.75 1357.77 Q1025.95 1356.53 1023.38 1359.1 M1020.76 1356.48 Q1024.87 1352.37 1030.29 1353.47 Q1035.71 1354.53 1041.89 1360.72 Q1048.06 1366.89 1049.14 1372.32 Q1050.22 1377.72 1046.12 1381.83 Q1042.01 1385.94 1036.59 1384.88 Q1031.17 1383.78 1025 1377.61 Q1018.81 1371.42 1017.73 1366.02 Q1016.65 1360.59 1020.76 1356.48 Z\" fill=\"#000000\" fill-rule=\"evenodd\" fill-opacity=\"1\" /><path clip-path=\"url(#clip080)\" d=\"M 0 0 M1045.2 1338.69 L1049.9 1360.08 L1058.24 1351.73 L1045.2 1338.69 M1041.45 1336.67 L1045.61 1332.51 L1061.53 1348.44 L1065.02 1344.95 L1067.77 1347.7 L1064.28 1351.19 L1070.05 1356.95 L1066.76 1360.24 L1060.99 1354.48 L1049.96 1365.51 L1046.77 1362.32 L1041.45 1336.67 Z\" fill=\"#000000\" fill-rule=\"evenodd\" fill-opacity=\"1\" /><path clip-path=\"url(#clip080)\" d=\"M 0 0 M1064.64 1341.3 L1073.47 1332.48 L1076.15 1335.17 L1067.33 1343.99 L1064.64 1341.3 Z\" fill=\"#000000\" fill-rule=\"evenodd\" fill-opacity=\"1\" /><path clip-path=\"url(#clip080)\" d=\"M 0 0 M1084.42 1316.23 Q1087.3 1314.36 1090.23 1314.64 Q1093.17 1314.9 1095.53 1317.26 Q1099.15 1320.88 1098.64 1325.35 Q1098.13 1329.81 1093.55 1334.4 Q1092.01 1335.94 1090.06 1337.26 Q1088.15 1338.59 1085.81 1339.72 L1082.62 1336.53 Q1084.79 1335.95 1086.84 1334.72 Q1088.89 1333.5 1090.67 1331.71 Q1093.78 1328.6 1094.17 1325.75 Q1094.58 1322.89 1092.24 1320.55 Q1090.08 1318.39 1087.35 1318.7 Q1084.61 1318.98 1081.91 1321.68 L1079.06 1324.53 L1076.35 1321.81 L1079.33 1318.83 Q1081.77 1316.39 1082.09 1314.13 Q1082.4 1311.86 1080.57 1310.03 Q1078.69 1308.14 1076.35 1308.49 Q1074.01 1308.8 1071.52 1311.29 Q1070.16 1312.64 1068.9 1314.49 Q1067.64 1316.34 1066.4 1318.83 L1063.45 1315.88 Q1064.81 1313.48 1066.18 1311.58 Q1067.57 1309.67 1069.03 1308.21 Q1072.8 1304.44 1076.71 1303.97 Q1080.6 1303.48 1083.52 1306.39 Q1085.55 1308.42 1085.79 1310.99 Q1086.02 1313.54 1084.42 1316.23 Z\" fill=\"#000000\" fill-rule=\"evenodd\" fill-opacity=\"1\" /><path clip-path=\"url(#clip080)\" d=\"M 0 0 M1091.03 1291.45 Q1088.48 1294 1089.7 1297.81 Q1090.93 1301.6 1095.97 1306.64 Q1101 1311.66 1104.8 1312.91 Q1108.59 1314.12 1111.15 1311.56 Q1113.72 1308.99 1112.49 1305.21 Q1111.26 1301.4 1106.24 1296.37 Q1101.19 1291.33 1097.4 1290.12 Q1093.6 1288.88 1091.03 1291.45 M1088.41 1288.83 Q1092.52 1284.72 1097.94 1285.82 Q1103.36 1286.88 1109.54 1293.07 Q1115.71 1299.24 1116.79 1304.67 Q1117.87 1310.07 1113.77 1314.18 Q1109.66 1318.29 1104.24 1317.23 Q1098.82 1316.13 1092.65 1309.96 Q1086.46 1303.77 1085.38 1298.37 Q1084.3 1292.94 1088.41 1288.83 Z\" fill=\"#000000\" fill-rule=\"evenodd\" fill-opacity=\"1\" /><path clip-path=\"url(#clip080)\" d=\"M 0 0 M1148.43 1466.29 L1159.96 1454.75 L1162.75 1457.53 L1147.23 1473.05 L1144.45 1470.27 Q1144.38 1466.44 1144.35 1459.92 Q1144.32 1453.38 1144.2 1451.59 Q1144.01 1448.22 1143.4 1446.37 Q1142.79 1444.49 1141.6 1443.29 Q1139.65 1441.35 1137.05 1441.49 Q1134.46 1441.62 1132.27 1443.82 Q1130.71 1445.37 1129.52 1447.65 Q1128.34 1449.91 1127.47 1452.97 L1124.13 1449.63 Q1125.33 1446.83 1126.66 1444.69 Q1127.98 1442.54 1129.42 1441.1 Q1133.22 1437.3 1137.38 1436.94 Q1141.53 1436.58 1144.71 1439.76 Q1146.22 1441.26 1147 1443.2 Q1147.79 1445.09 1148.13 1448.42 Q1148.2 1449.3 1148.28 1453.77 Q1148.34 1458.22 1148.43 1466.29 Z\" fill=\"#000000\" fill-rule=\"evenodd\" fill-opacity=\"1\" /><path clip-path=\"url(#clip080)\" d=\"M 0 0 M1151.14 1424.62 Q1148.59 1427.17 1149.82 1430.99 Q1151.04 1434.77 1156.09 1439.81 Q1161.11 1444.83 1164.91 1446.08 Q1168.71 1447.29 1171.26 1444.73 Q1173.83 1442.16 1172.6 1438.38 Q1171.37 1434.57 1166.35 1429.55 Q1161.31 1424.5 1157.51 1423.29 Q1153.71 1422.05 1151.14 1424.62 M1148.52 1422 Q1152.63 1417.89 1158.05 1418.99 Q1163.47 1420.05 1169.65 1426.24 Q1175.83 1432.41 1176.91 1437.84 Q1177.99 1443.25 1173.88 1447.35 Q1169.77 1451.46 1164.35 1450.4 Q1158.93 1449.3 1152.76 1443.13 Q1146.58 1436.94 1145.5 1431.54 Q1144.41 1426.11 1148.52 1422 Z\" fill=\"#000000\" fill-rule=\"evenodd\" fill-opacity=\"1\" /><path clip-path=\"url(#clip080)\" d=\"M 0 0 M1185.5 1429.22 L1197.04 1417.68 L1199.82 1420.46 L1184.3 1435.98 L1181.52 1433.2 Q1181.46 1429.37 1181.42 1422.85 Q1181.39 1416.3 1181.28 1414.52 Q1181.08 1411.15 1180.47 1409.3 Q1179.87 1407.42 1178.67 1406.22 Q1176.73 1404.27 1174.12 1404.42 Q1171.54 1404.55 1169.34 1406.74 Q1167.79 1408.3 1166.59 1410.57 Q1165.42 1412.83 1164.55 1415.89 L1161.21 1412.56 Q1162.4 1409.76 1163.73 1407.61 Q1165.06 1405.47 1166.5 1404.03 Q1170.29 1400.23 1174.45 1399.87 Q1178.61 1399.51 1181.78 1402.69 Q1183.29 1404.19 1184.07 1406.12 Q1184.86 1408.02 1185.2 1411.34 Q1185.27 1412.23 1185.35 1416.7 Q1185.42 1421.15 1185.5 1429.22 Z\" fill=\"#000000\" fill-rule=\"evenodd\" fill-opacity=\"1\" /><path clip-path=\"url(#clip080)\" d=\"M 0 0 M1188.22 1387.54 Q1185.66 1390.1 1186.89 1393.91 Q1188.12 1397.69 1193.16 1402.73 Q1198.18 1407.76 1201.98 1409 Q1205.78 1410.21 1208.33 1407.66 Q1210.9 1405.09 1209.67 1401.31 Q1208.45 1397.5 1203.42 1392.47 Q1198.38 1387.43 1194.58 1386.22 Q1190.79 1384.97 1188.22 1387.54 M1185.6 1384.93 Q1189.71 1380.82 1195.12 1381.91 Q1200.54 1382.98 1206.73 1389.17 Q1212.9 1395.34 1213.98 1400.77 Q1215.06 1406.17 1210.95 1410.28 Q1206.84 1414.39 1201.43 1413.32 Q1196.01 1412.23 1189.84 1406.06 Q1183.65 1399.87 1182.57 1394.47 Q1181.49 1389.03 1185.6 1384.93 Z\" fill=\"#000000\" fill-rule=\"evenodd\" fill-opacity=\"1\" /><path clip-path=\"url(#clip080)\" d=\"M 0 0 M1210.03 1389.2 L1218.86 1380.38 L1221.54 1383.06 L1212.72 1391.88 L1210.03 1389.2 Z\" fill=\"#000000\" fill-rule=\"evenodd\" fill-opacity=\"1\" /><path clip-path=\"url(#clip080)\" d=\"M 0 0 M1217.78 1357.98 Q1215.22 1360.54 1216.45 1364.35 Q1217.68 1368.13 1222.72 1373.17 Q1227.74 1378.2 1231.54 1379.44 Q1235.34 1380.65 1237.89 1378.1 Q1240.46 1375.53 1239.24 1371.75 Q1238.01 1367.94 1232.98 1362.91 Q1227.94 1357.87 1224.14 1356.66 Q1220.35 1355.41 1217.78 1357.98 M1215.16 1355.36 Q1219.27 1351.26 1224.68 1352.35 Q1230.1 1353.42 1236.29 1359.6 Q1242.46 1365.77 1243.54 1371.21 Q1244.62 1376.61 1240.51 1380.72 Q1236.4 1384.83 1230.99 1383.76 Q1225.57 1382.67 1219.4 1376.5 Q1213.21 1370.31 1212.13 1364.91 Q1211.05 1359.47 1215.16 1355.36 Z\" fill=\"#000000\" fill-rule=\"evenodd\" fill-opacity=\"1\" /><path clip-path=\"url(#clip080)\" d=\"M 0 0 M1227.66 1343.74 L1240.64 1330.76 L1243.43 1333.55 L1233.47 1343.5 L1239.46 1349.49 Q1239.94 1348.52 1240.54 1347.69 Q1241.13 1346.84 1241.85 1346.12 Q1245.95 1342.02 1250.58 1341.88 Q1255.21 1341.73 1259.04 1345.56 Q1262.99 1349.51 1262.72 1354.15 Q1262.45 1358.79 1257.98 1363.25 Q1256.44 1364.79 1254.57 1366.14 Q1252.72 1367.46 1250.5 1368.64 L1247.17 1365.32 Q1249.45 1364.65 1251.41 1363.47 Q1253.38 1362.29 1255.13 1360.54 Q1257.96 1357.71 1258.12 1354.56 Q1258.29 1351.42 1255.73 1348.87 Q1253.18 1346.31 1250.04 1346.48 Q1246.9 1346.64 1244.06 1349.47 Q1242.74 1350.8 1241.71 1352.42 Q1240.69 1354.02 1239.94 1356.02 L1227.66 1343.74 Z\" fill=\"#000000\" fill-rule=\"evenodd\" fill-opacity=\"1\" /><path clip-path=\"url(#clip080)\" d=\"M 0 0 M1257.99 1341.24 L1266.82 1332.42 L1269.5 1335.1 L1260.68 1343.92 L1257.99 1341.24 Z\" fill=\"#000000\" fill-rule=\"evenodd\" fill-opacity=\"1\" /><path clip-path=\"url(#clip080)\" d=\"M 0 0 M1278.72 1336 L1284.12 1330.6 L1265.47 1311.96 L1260.78 1319.01 L1257.76 1316 L1262.43 1308.98 L1265.74 1305.67 L1287.39 1327.33 L1292.79 1321.92 L1295.57 1324.71 L1281.5 1338.78 L1278.72 1336 Z\" fill=\"#000000\" fill-rule=\"evenodd\" fill-opacity=\"1\" /><path clip-path=\"url(#clip080)\" d=\"M 0 0 M1286.69 1290.48 L1291.38 1311.87 L1299.73 1303.53 L1286.69 1290.48 M1282.94 1288.47 L1287.1 1284.31 L1303.02 1300.24 L1306.51 1296.75 L1309.26 1299.5 L1305.77 1302.99 L1311.53 1308.75 L1308.24 1312.04 L1302.48 1306.28 L1291.45 1317.31 L1288.26 1314.12 L1282.94 1288.47 Z\" fill=\"#000000\" fill-rule=\"evenodd\" fill-opacity=\"1\" /><path clip-path=\"url(#clip080)\" d=\"M 0 0 M1342.38 1465.62 L1353.92 1454.08 L1356.7 1456.86 L1341.18 1472.38 L1338.4 1469.6 Q1338.34 1465.77 1338.3 1459.25 Q1338.27 1452.71 1338.16 1450.92 Q1337.96 1447.55 1337.35 1445.7 Q1336.75 1443.82 1335.55 1442.62 Q1333.61 1440.68 1331 1440.82 Q1328.42 1440.95 1326.22 1443.15 Q1324.67 1444.7 1323.47 1446.98 Q1322.3 1449.24 1321.43 1452.3 L1318.09 1448.96 Q1319.28 1446.16 1320.61 1444.01 Q1321.94 1441.87 1323.38 1440.43 Q1327.17 1436.63 1331.33 1436.27 Q1335.49 1435.91 1338.66 1439.09 Q1340.17 1440.59 1340.96 1442.53 Q1341.74 1444.42 1342.08 1447.75 Q1342.15 1448.63 1342.23 1453.1 Q1342.3 1457.55 1342.38 1465.62 Z\" fill=\"#000000\" fill-rule=\"evenodd\" fill-opacity=\"1\" /><path clip-path=\"url(#clip080)\" d=\"M 0 0 M1345.1 1423.95 Q1342.54 1426.5 1343.77 1430.31 Q1345 1434.1 1350.04 1439.14 Q1355.06 1444.16 1358.86 1445.41 Q1362.66 1446.62 1365.21 1444.06 Q1367.78 1441.49 1366.56 1437.71 Q1365.33 1433.9 1360.3 1428.87 Q1355.26 1423.83 1351.46 1422.62 Q1347.67 1421.38 1345.1 1423.95 M1342.48 1421.33 Q1346.59 1417.22 1352 1418.32 Q1357.42 1419.38 1363.61 1425.57 Q1369.78 1431.74 1370.86 1437.17 Q1371.94 1442.57 1367.83 1446.68 Q1363.72 1450.79 1358.31 1449.73 Q1352.89 1448.63 1346.72 1442.46 Q1340.53 1436.27 1339.45 1430.87 Q1338.37 1425.44 1342.48 1421.33 Z\" fill=\"#000000\" fill-rule=\"evenodd\" fill-opacity=\"1\" /><path clip-path=\"url(#clip080)\" d=\"M 0 0 M1379.45 1428.55 L1390.99 1417.01 L1393.78 1419.79 L1378.26 1435.31 L1375.48 1432.52 Q1375.41 1428.69 1375.38 1422.18 Q1375.34 1415.63 1375.23 1413.85 Q1375.03 1410.48 1374.43 1408.63 Q1373.82 1406.74 1372.63 1405.55 Q1370.68 1403.6 1368.08 1403.75 Q1365.49 1403.88 1363.3 1406.07 Q1361.74 1407.63 1360.55 1409.9 Q1359.37 1412.16 1358.5 1415.22 L1355.16 1411.88 Q1356.36 1409.09 1357.68 1406.94 Q1359.01 1404.8 1360.45 1403.36 Q1364.25 1399.56 1368.4 1399.2 Q1372.56 1398.84 1375.74 1402.01 Q1377.24 1403.52 1378.03 1405.45 Q1378.81 1407.35 1379.16 1410.67 Q1379.22 1411.56 1379.31 1416.03 Q1379.37 1420.48 1379.45 1428.55 Z\" fill=\"#000000\" fill-rule=\"evenodd\" fill-opacity=\"1\" /><path clip-path=\"url(#clip080)\" d=\"M 0 0 M1382.17 1386.87 Q1379.62 1389.43 1380.84 1393.24 Q1382.07 1397.02 1387.11 1402.06 Q1392.14 1407.09 1395.94 1408.33 Q1399.73 1409.54 1402.29 1406.99 Q1404.86 1404.42 1403.63 1400.64 Q1402.4 1396.83 1397.38 1391.8 Q1392.33 1386.76 1388.54 1385.55 Q1384.74 1384.3 1382.17 1386.87 M1379.55 1384.25 Q1383.66 1380.15 1389.08 1381.24 Q1394.5 1382.31 1400.68 1388.49 Q1406.85 1394.66 1407.93 1400.1 Q1409.01 1405.5 1404.91 1409.61 Q1400.8 1413.72 1395.38 1412.65 Q1389.96 1411.56 1383.79 1405.39 Q1377.6 1399.2 1376.52 1393.8 Q1375.44 1388.36 1379.55 1384.25 Z\" fill=\"#000000\" fill-rule=\"evenodd\" fill-opacity=\"1\" /><path clip-path=\"url(#clip080)\" d=\"M 0 0 M1403.99 1388.53 L1412.81 1379.7 L1415.5 1382.39 L1406.67 1391.21 L1403.99 1388.53 Z\" fill=\"#000000\" fill-rule=\"evenodd\" fill-opacity=\"1\" /><path clip-path=\"url(#clip080)\" d=\"M 0 0 M1411.73 1357.31 Q1409.18 1359.87 1410.41 1363.68 Q1411.63 1367.46 1416.67 1372.5 Q1421.7 1377.53 1425.5 1378.77 Q1429.29 1379.98 1431.85 1377.43 Q1434.42 1374.86 1433.19 1371.08 Q1431.96 1367.26 1426.94 1362.24 Q1421.9 1357.2 1418.1 1355.99 Q1414.3 1354.74 1411.73 1357.31 M1409.11 1354.69 Q1413.22 1350.59 1418.64 1351.68 Q1424.06 1352.75 1430.24 1358.93 Q1436.41 1365.1 1437.49 1370.54 Q1438.57 1375.94 1434.47 1380.05 Q1430.36 1384.16 1424.94 1383.09 Q1419.52 1382 1413.35 1375.82 Q1407.16 1369.64 1406.08 1364.24 Q1405 1358.8 1409.11 1354.69 Z\" fill=\"#000000\" fill-rule=\"evenodd\" fill-opacity=\"1\" /><path clip-path=\"url(#clip080)\" d=\"M 0 0 M1421.62 1343.07 L1434.6 1330.09 L1437.38 1332.88 L1427.43 1342.83 L1433.42 1348.82 Q1433.89 1347.85 1434.5 1347.02 Q1435.09 1346.17 1435.81 1345.45 Q1439.9 1341.35 1444.53 1341.21 Q1449.16 1341.06 1453 1344.89 Q1456.94 1348.83 1456.68 1353.48 Q1456.4 1358.11 1451.93 1362.58 Q1450.39 1364.12 1448.53 1365.46 Q1446.68 1366.79 1444.45 1367.97 L1441.13 1364.65 Q1443.4 1363.97 1445.37 1362.8 Q1447.33 1361.62 1449.08 1359.87 Q1451.91 1357.03 1452.08 1353.89 Q1452.24 1350.75 1449.69 1348.2 Q1447.14 1345.64 1443.99 1345.81 Q1440.85 1345.97 1438.02 1348.8 Q1436.69 1350.13 1435.66 1351.75 Q1434.65 1353.35 1433.89 1355.35 L1421.62 1343.07 Z\" fill=\"#000000\" fill-rule=\"evenodd\" fill-opacity=\"1\" /><path clip-path=\"url(#clip080)\" d=\"M 0 0 M1451.95 1340.57 L1460.77 1331.75 L1463.45 1334.43 L1454.63 1343.25 L1451.95 1340.57 Z\" fill=\"#000000\" fill-rule=\"evenodd\" fill-opacity=\"1\" /><path clip-path=\"url(#clip080)\" d=\"M 0 0 M1474.94 1333.06 L1486.48 1321.52 L1489.27 1324.3 L1473.75 1339.82 L1470.97 1337.03 Q1470.9 1333.2 1470.87 1326.69 Q1470.84 1320.14 1470.72 1318.36 Q1470.53 1314.98 1469.92 1313.14 Q1469.31 1311.25 1468.12 1310.06 Q1466.17 1308.11 1463.57 1308.26 Q1460.98 1308.39 1458.79 1310.58 Q1457.23 1312.14 1456.04 1314.41 Q1454.86 1316.67 1453.99 1319.73 L1450.65 1316.39 Q1451.85 1313.59 1453.18 1311.45 Q1454.5 1309.3 1455.94 1307.86 Q1459.74 1304.07 1463.9 1303.71 Q1468.05 1303.35 1471.23 1306.52 Q1472.74 1308.03 1473.52 1309.96 Q1474.31 1311.86 1474.65 1315.18 Q1474.72 1316.06 1474.8 1320.53 Q1474.86 1324.99 1474.94 1333.06 Z\" fill=\"#000000\" fill-rule=\"evenodd\" fill-opacity=\"1\" /><path clip-path=\"url(#clip080)\" d=\"M 0 0 M1488.32 1302.04 Q1485.96 1304.39 1485.86 1307.01 Q1485.78 1309.62 1487.99 1311.83 Q1490.2 1314.04 1492.8 1313.95 Q1495.42 1313.86 1497.78 1311.5 Q1500.14 1309.14 1500.23 1306.52 Q1500.32 1303.89 1498.12 1301.69 Q1495.91 1299.48 1493.29 1299.58 Q1490.69 1299.66 1488.32 1302.04 M1483.6 1303.94 Q1480.95 1305.54 1478.3 1305.28 Q1475.66 1305 1473.57 1302.9 Q1470.64 1299.98 1471.02 1296.19 Q1471.41 1292.4 1475.04 1288.76 Q1478.69 1285.11 1482.47 1284.74 Q1486.26 1284.36 1489.19 1287.29 Q1491.28 1289.38 1491.54 1292.04 Q1491.82 1294.67 1490.23 1297.31 Q1493.18 1295.47 1496.13 1295.77 Q1499.09 1296.05 1501.43 1298.39 Q1504.98 1301.94 1504.7 1306.01 Q1504.44 1310.07 1500.4 1314.12 Q1496.35 1318.16 1492.28 1318.44 Q1488.22 1318.7 1484.67 1315.15 Q1482.33 1312.81 1482.05 1309.85 Q1481.77 1306.88 1483.6 1303.94 M1477.17 1299.93 Q1479.07 1301.82 1481.31 1301.71 Q1483.57 1301.58 1485.71 1299.43 Q1487.84 1297.31 1487.97 1295.05 Q1488.12 1292.77 1486.22 1290.87 Q1484.32 1288.98 1482.05 1289.12 Q1479.79 1289.25 1477.66 1291.38 Q1475.52 1293.53 1475.39 1295.78 Q1475.27 1298.03 1477.17 1299.93 Z\" fill=\"#000000\" fill-rule=\"evenodd\" fill-opacity=\"1\" /><path clip-path=\"url(#clip080)\" d=\"M 0 0 M1535.38 1465.9 L1546.92 1454.36 L1549.71 1457.14 L1534.19 1472.66 L1531.41 1469.88 Q1531.34 1466.05 1531.31 1459.53 Q1531.28 1452.98 1531.16 1451.2 Q1530.96 1447.83 1530.36 1445.98 Q1529.75 1444.1 1528.56 1442.9 Q1526.61 1440.95 1524.01 1441.1 Q1521.42 1441.23 1519.23 1443.43 Q1517.67 1444.98 1516.48 1447.26 Q1515.3 1449.51 1514.43 1452.58 L1511.09 1449.24 Q1512.29 1446.44 1513.61 1444.29 Q1514.94 1442.15 1516.38 1440.71 Q1520.18 1436.91 1524.34 1436.55 Q1528.49 1436.19 1531.67 1439.37 Q1533.17 1440.87 1533.96 1442.8 Q1534.75 1444.7 1535.09 1448.02 Q1535.16 1448.91 1535.24 1453.38 Q1535.3 1457.83 1535.38 1465.9 Z\" fill=\"#000000\" fill-rule=\"evenodd\" fill-opacity=\"1\" /><path clip-path=\"url(#clip080)\" d=\"M 0 0 M1538.1 1424.23 Q1535.55 1426.78 1536.78 1430.59 Q1538 1434.37 1543.04 1439.42 Q1548.07 1444.44 1551.87 1445.68 Q1555.66 1446.9 1558.22 1444.34 Q1560.79 1441.77 1559.56 1437.99 Q1558.33 1434.18 1553.31 1429.15 Q1548.27 1424.11 1544.47 1422.9 Q1540.67 1421.66 1538.1 1424.23 M1535.48 1421.61 Q1539.59 1417.5 1545.01 1418.59 Q1550.43 1419.66 1556.61 1425.85 Q1562.78 1432.02 1563.86 1437.45 Q1564.95 1442.85 1560.84 1446.96 Q1556.73 1451.07 1551.31 1450.01 Q1545.89 1448.91 1539.72 1442.74 Q1533.53 1436.55 1532.45 1431.15 Q1531.37 1425.72 1535.48 1421.61 Z\" fill=\"#000000\" fill-rule=\"evenodd\" fill-opacity=\"1\" /><path clip-path=\"url(#clip080)\" d=\"M 0 0 M1572.46 1428.82 L1584 1417.29 L1586.78 1420.07 L1571.26 1435.59 L1568.48 1432.8 Q1568.42 1428.97 1568.38 1422.46 Q1568.35 1415.91 1568.24 1414.13 Q1568.04 1410.75 1567.43 1408.9 Q1566.83 1407.02 1565.63 1405.83 Q1563.68 1403.88 1561.08 1404.03 Q1558.5 1404.16 1556.3 1406.35 Q1554.75 1407.91 1553.55 1410.18 Q1552.37 1412.44 1551.51 1415.5 L1548.17 1412.16 Q1549.36 1409.36 1550.69 1407.22 Q1552.01 1405.07 1553.45 1403.63 Q1557.25 1399.84 1561.41 1399.48 Q1565.57 1399.12 1568.74 1402.29 Q1570.25 1403.8 1571.03 1405.73 Q1571.82 1407.63 1572.16 1410.95 Q1572.23 1411.83 1572.31 1416.3 Q1572.38 1420.76 1572.46 1428.82 Z\" fill=\"#000000\" fill-rule=\"evenodd\" fill-opacity=\"1\" /><path clip-path=\"url(#clip080)\" d=\"M 0 0 M1575.18 1387.15 Q1572.62 1389.71 1573.85 1393.52 Q1575.08 1397.3 1580.12 1402.34 Q1585.14 1407.37 1588.94 1408.61 Q1592.74 1409.82 1595.29 1407.27 Q1597.86 1404.7 1596.63 1400.92 Q1595.41 1397.1 1590.38 1392.08 Q1585.34 1387.04 1581.54 1385.83 Q1577.74 1384.58 1575.18 1387.15 M1572.56 1384.53 Q1576.66 1380.42 1582.08 1381.52 Q1587.5 1382.59 1593.69 1388.77 Q1599.86 1394.94 1600.94 1400.38 Q1602.02 1405.78 1597.91 1409.89 Q1593.8 1414 1588.38 1412.93 Q1582.97 1411.83 1576.8 1405.66 Q1570.61 1399.48 1569.53 1394.08 Q1568.45 1388.64 1572.56 1384.53 Z\" fill=\"#000000\" fill-rule=\"evenodd\" fill-opacity=\"1\" /><path clip-path=\"url(#clip080)\" d=\"M 0 0 M1596.99 1388.8 L1605.82 1379.98 L1608.5 1382.67 L1599.68 1391.49 L1596.99 1388.8 Z\" fill=\"#000000\" fill-rule=\"evenodd\" fill-opacity=\"1\" /><path clip-path=\"url(#clip080)\" d=\"M 0 0 M1604.74 1357.59 Q1602.18 1360.14 1603.41 1363.96 Q1604.64 1367.74 1609.68 1372.78 Q1614.7 1377.81 1618.5 1379.05 Q1622.3 1380.26 1624.85 1377.71 Q1627.42 1375.14 1626.19 1371.36 Q1624.97 1367.54 1619.94 1362.52 Q1614.9 1357.48 1611.1 1356.27 Q1607.31 1355.02 1604.74 1357.59 M1602.12 1354.97 Q1606.23 1350.86 1611.64 1351.96 Q1617.06 1353.02 1623.25 1359.21 Q1629.42 1365.38 1630.5 1370.82 Q1631.58 1376.22 1627.47 1380.33 Q1623.36 1384.43 1617.95 1383.37 Q1612.53 1382.27 1606.36 1376.1 Q1600.17 1369.92 1599.09 1364.51 Q1598.01 1359.08 1602.12 1354.97 Z\" fill=\"#000000\" fill-rule=\"evenodd\" fill-opacity=\"1\" /><path clip-path=\"url(#clip080)\" d=\"M 0 0 M1632.97 1346.8 Q1630.74 1349.03 1630.96 1351.86 Q1631.19 1354.68 1633.84 1357.33 Q1636.47 1359.96 1639.31 1360.21 Q1642.14 1360.42 1644.36 1358.2 Q1646.59 1355.97 1646.36 1353.16 Q1646.13 1350.31 1643.5 1347.67 Q1640.84 1345.02 1638.01 1344.81 Q1635.2 1344.58 1632.97 1346.8 M1629.17 1329.88 L1632.19 1332.89 Q1630.35 1333.55 1628.76 1334.51 Q1627.19 1335.46 1625.95 1336.71 Q1622.68 1339.98 1623.15 1343.92 Q1623.64 1347.85 1627.86 1352.57 Q1627.41 1350.18 1628.11 1347.97 Q1628.8 1345.74 1630.55 1343.99 Q1634.23 1340.31 1638.6 1340.42 Q1642.97 1340.5 1646.82 1344.35 Q1650.58 1348.11 1650.63 1352.61 Q1650.68 1357.12 1646.98 1360.82 Q1642.74 1365.05 1637.26 1364.06 Q1631.76 1363.04 1625.59 1356.87 Q1619.79 1351.08 1619.11 1344.89 Q1618.4 1338.69 1623.04 1334.05 Q1624.28 1332.81 1625.79 1331.79 Q1627.31 1330.76 1629.17 1329.88 Z\" fill=\"#000000\" fill-rule=\"evenodd\" fill-opacity=\"1\" /><path clip-path=\"url(#clip080)\" d=\"M 0 0 M1645.77 1340.03 L1654.59 1331.21 L1657.28 1333.89 L1648.46 1342.71 L1645.77 1340.03 Z\" fill=\"#000000\" fill-rule=\"evenodd\" fill-opacity=\"1\" /><path clip-path=\"url(#clip080)\" d=\"M 0 0 M1666.49 1334.79 L1671.89 1329.39 L1653.25 1310.75 L1648.55 1317.8 L1645.54 1314.79 L1650.21 1307.77 L1653.51 1304.46 L1675.17 1326.11 L1680.57 1320.71 L1683.35 1323.5 L1669.28 1337.57 L1666.49 1334.79 Z\" fill=\"#000000\" fill-rule=\"evenodd\" fill-opacity=\"1\" /><path clip-path=\"url(#clip080)\" d=\"M 0 0 M1684.73 1316.56 L1690.13 1311.15 L1671.49 1292.51 L1666.79 1299.57 L1663.78 1296.55 L1668.44 1289.53 L1671.75 1286.23 L1693.4 1307.88 L1698.8 1302.48 L1701.59 1305.26 L1687.51 1319.34 L1684.73 1316.56 Z\" fill=\"#000000\" fill-rule=\"evenodd\" fill-opacity=\"1\" /><path clip-path=\"url(#clip080)\" d=\"M 0 0 M1728.77 1465.8 L1740.31 1454.26 L1743.09 1457.04 L1727.57 1472.56 L1724.79 1469.78 Q1724.72 1465.95 1724.69 1459.43 Q1724.66 1452.89 1724.54 1451.1 Q1724.35 1447.73 1723.74 1445.88 Q1723.13 1444 1721.94 1442.8 Q1719.99 1440.86 1717.39 1441 Q1714.8 1441.13 1712.61 1443.33 Q1711.06 1444.88 1709.86 1447.16 Q1708.68 1449.42 1707.81 1452.48 L1704.48 1449.14 Q1705.67 1446.34 1707 1444.19 Q1708.32 1442.05 1709.76 1440.61 Q1713.56 1436.81 1717.72 1436.45 Q1721.87 1436.09 1725.05 1439.27 Q1726.56 1440.77 1727.34 1442.71 Q1728.13 1444.6 1728.47 1447.93 Q1728.54 1448.81 1728.62 1453.28 Q1728.68 1457.73 1728.77 1465.8 Z\" fill=\"#000000\" fill-rule=\"evenodd\" fill-opacity=\"1\" /><path clip-path=\"url(#clip080)\" d=\"M 0 0 M1731.48 1424.13 Q1728.93 1426.68 1730.16 1430.49 Q1731.38 1434.28 1736.43 1439.32 Q1741.45 1444.34 1745.25 1445.59 Q1749.05 1446.8 1751.6 1444.24 Q1754.17 1441.67 1752.94 1437.89 Q1751.71 1434.08 1746.69 1429.05 Q1741.65 1424.01 1737.85 1422.8 Q1734.05 1421.56 1731.48 1424.13 M1728.86 1421.51 Q1732.97 1417.4 1738.39 1418.5 Q1743.81 1419.56 1750 1425.75 Q1756.17 1431.92 1757.25 1437.35 Q1758.33 1442.75 1754.22 1446.86 Q1750.11 1450.97 1744.69 1449.91 Q1739.27 1448.81 1733.1 1442.64 Q1726.92 1436.45 1725.84 1431.05 Q1724.76 1425.62 1728.86 1421.51 Z\" fill=\"#000000\" fill-rule=\"evenodd\" fill-opacity=\"1\" /><path clip-path=\"url(#clip080)\" d=\"M 0 0 M1765.84 1428.73 L1777.38 1417.19 L1780.16 1419.97 L1764.64 1435.49 L1761.86 1432.7 Q1761.8 1428.87 1761.76 1422.36 Q1761.73 1415.81 1761.62 1414.03 Q1761.42 1410.66 1760.81 1408.81 Q1760.21 1406.92 1759.01 1405.73 Q1757.07 1403.78 1754.46 1403.93 Q1751.88 1404.06 1749.68 1406.25 Q1748.13 1407.81 1746.93 1410.08 Q1745.76 1412.34 1744.89 1415.4 L1741.55 1412.06 Q1742.74 1409.27 1744.07 1407.12 Q1745.4 1404.98 1746.84 1403.54 Q1750.63 1399.74 1754.79 1399.38 Q1758.95 1399.02 1762.12 1402.19 Q1763.63 1403.7 1764.42 1405.63 Q1765.2 1407.53 1765.54 1410.85 Q1765.61 1411.74 1765.69 1416.21 Q1765.76 1420.66 1765.84 1428.73 Z\" fill=\"#000000\" fill-rule=\"evenodd\" fill-opacity=\"1\" /><path clip-path=\"url(#clip080)\" d=\"M 0 0 M1768.56 1387.05 Q1766 1389.61 1767.23 1393.42 Q1768.46 1397.2 1773.5 1402.24 Q1778.52 1407.27 1782.32 1408.51 Q1786.12 1409.72 1788.67 1407.17 Q1791.24 1404.6 1790.02 1400.82 Q1788.79 1397.01 1783.76 1391.98 Q1778.72 1386.94 1774.92 1385.73 Q1771.13 1384.48 1768.56 1387.05 M1765.94 1384.43 Q1770.05 1380.33 1775.46 1381.42 Q1780.88 1382.49 1787.07 1388.67 Q1793.24 1394.84 1794.32 1400.28 Q1795.4 1405.68 1791.29 1409.79 Q1787.18 1413.9 1781.77 1412.83 Q1776.35 1411.74 1770.18 1405.57 Q1763.99 1399.38 1762.91 1393.98 Q1761.83 1388.54 1765.94 1384.43 Z\" fill=\"#000000\" fill-rule=\"evenodd\" fill-opacity=\"1\" /><path clip-path=\"url(#clip080)\" d=\"M 0 0 M1790.38 1388.71 L1799.2 1379.88 L1801.88 1382.57 L1793.06 1391.39 L1790.38 1388.71 Z\" fill=\"#000000\" fill-rule=\"evenodd\" fill-opacity=\"1\" /><path clip-path=\"url(#clip080)\" d=\"M 0 0 M1798.12 1357.49 Q1795.56 1360.05 1796.79 1363.86 Q1798.02 1367.64 1803.06 1372.68 Q1808.09 1377.71 1811.88 1378.95 Q1815.68 1380.16 1818.23 1377.61 Q1820.8 1375.04 1819.58 1371.26 Q1818.35 1367.44 1813.32 1362.42 Q1808.28 1357.38 1804.48 1356.17 Q1800.69 1354.92 1798.12 1357.49 M1795.5 1354.87 Q1799.61 1350.77 1805.02 1351.86 Q1810.44 1352.93 1816.63 1359.11 Q1822.8 1365.28 1823.88 1370.72 Q1824.96 1376.12 1820.85 1380.23 Q1816.74 1384.34 1811.33 1383.27 Q1805.91 1382.18 1799.74 1376.01 Q1793.55 1369.82 1792.47 1364.42 Q1791.39 1358.98 1795.5 1354.87 Z\" fill=\"#000000\" fill-rule=\"evenodd\" fill-opacity=\"1\" /><path clip-path=\"url(#clip080)\" d=\"M 0 0 M1826.35 1346.71 Q1824.13 1348.93 1824.34 1351.76 Q1824.57 1354.58 1827.22 1357.23 Q1829.86 1359.87 1832.69 1360.11 Q1835.52 1360.32 1837.74 1358.1 Q1839.97 1355.87 1839.74 1353.06 Q1839.51 1350.21 1836.88 1347.57 Q1834.23 1344.92 1831.39 1344.71 Q1828.58 1344.48 1826.35 1346.71 M1822.55 1329.78 L1825.57 1332.79 Q1823.73 1333.45 1822.15 1334.41 Q1820.57 1335.36 1819.33 1336.61 Q1816.06 1339.88 1816.53 1343.83 Q1817.02 1347.75 1821.25 1352.47 Q1820.79 1350.08 1821.49 1347.87 Q1822.18 1345.64 1823.93 1343.89 Q1827.61 1340.21 1831.98 1340.32 Q1836.35 1340.4 1840.2 1344.25 Q1843.96 1348.02 1844.01 1352.52 Q1844.06 1357.02 1840.36 1360.72 Q1836.12 1364.96 1830.64 1363.96 Q1825.14 1362.94 1818.97 1356.77 Q1813.18 1350.98 1812.49 1344.79 Q1811.78 1338.59 1816.42 1333.96 Q1817.66 1332.71 1819.17 1331.7 Q1820.69 1330.67 1822.55 1329.78 Z\" fill=\"#000000\" fill-rule=\"evenodd\" fill-opacity=\"1\" /><path clip-path=\"url(#clip080)\" d=\"M 0 0 M1839.15 1339.93 L1847.97 1331.11 L1850.66 1333.79 L1841.84 1342.61 L1839.15 1339.93 Z\" fill=\"#000000\" fill-rule=\"evenodd\" fill-opacity=\"1\" /><path clip-path=\"url(#clip080)\" d=\"M 0 0 M1862.15 1332.42 L1873.69 1320.88 L1876.47 1323.66 L1860.95 1339.18 L1858.17 1336.39 Q1858.11 1332.56 1858.07 1326.05 Q1858.04 1319.5 1857.93 1317.72 Q1857.73 1314.35 1857.12 1312.5 Q1856.52 1310.61 1855.32 1309.42 Q1853.38 1307.47 1850.77 1307.62 Q1848.19 1307.75 1845.99 1309.94 Q1844.44 1311.5 1843.24 1313.77 Q1842.07 1316.03 1841.2 1319.09 L1837.86 1315.75 Q1839.05 1312.96 1840.38 1310.81 Q1841.71 1308.67 1843.15 1307.23 Q1846.94 1303.43 1851.1 1303.07 Q1855.26 1302.71 1858.43 1305.88 Q1859.94 1307.39 1860.73 1309.32 Q1861.51 1311.22 1861.85 1314.54 Q1861.92 1315.43 1862 1319.9 Q1862.07 1324.35 1862.15 1332.42 Z\" fill=\"#000000\" fill-rule=\"evenodd\" fill-opacity=\"1\" /><path clip-path=\"url(#clip080)\" d=\"M 0 0 M1855.65 1295.6 L1868.63 1282.62 L1871.41 1285.41 L1861.46 1295.36 L1867.45 1301.35 Q1867.93 1300.38 1868.53 1299.55 Q1869.12 1298.7 1869.84 1297.98 Q1873.93 1293.89 1878.57 1293.74 Q1883.2 1293.59 1887.03 1297.42 Q1890.97 1301.37 1890.71 1306.01 Q1890.43 1310.65 1885.97 1315.12 Q1884.43 1316.65 1882.56 1318 Q1880.71 1319.32 1878.48 1320.5 L1875.16 1317.18 Q1877.44 1316.51 1879.4 1315.33 Q1881.37 1314.15 1883.12 1312.4 Q1885.95 1309.57 1886.11 1306.42 Q1886.28 1303.28 1883.72 1300.73 Q1881.17 1298.17 1878.03 1298.34 Q1874.88 1298.5 1872.05 1301.33 Q1870.73 1302.66 1869.7 1304.28 Q1868.68 1305.88 1867.93 1307.88 L1855.65 1295.6 Z\" fill=\"#000000\" fill-rule=\"evenodd\" fill-opacity=\"1\" /><path clip-path=\"url(#clip080)\" d=\"M 0 0 M1921.1 1466.75 L1932.64 1455.21 L1935.42 1457.99 L1919.9 1473.51 L1917.12 1470.73 Q1917.06 1466.9 1917.02 1460.38 Q1916.99 1453.84 1916.88 1452.05 Q1916.68 1448.68 1916.07 1446.83 Q1915.47 1444.95 1914.27 1443.75 Q1912.33 1441.8 1909.72 1441.95 Q1907.14 1442.08 1904.94 1444.28 Q1903.39 1445.83 1902.19 1448.11 Q1901.02 1450.37 1900.15 1453.43 L1896.81 1450.09 Q1898 1447.29 1899.33 1445.14 Q1900.66 1443 1902.1 1441.56 Q1905.89 1437.76 1910.05 1437.4 Q1914.21 1437.04 1917.38 1440.22 Q1918.89 1441.72 1919.68 1443.65 Q1920.46 1445.55 1920.8 1448.88 Q1920.87 1449.76 1920.95 1454.23 Q1921.02 1458.68 1921.1 1466.75 Z\" fill=\"#000000\" fill-rule=\"evenodd\" fill-opacity=\"1\" /><path clip-path=\"url(#clip080)\" d=\"M 0 0 M1923.82 1425.08 Q1921.26 1427.63 1922.49 1431.44 Q1923.72 1435.22 1928.76 1440.27 Q1933.78 1445.29 1937.58 1446.54 Q1941.38 1447.75 1943.93 1445.19 Q1946.5 1442.62 1945.28 1438.84 Q1944.05 1435.03 1939.02 1430 Q1933.98 1424.96 1930.18 1423.75 Q1926.39 1422.51 1923.82 1425.08 M1921.2 1422.46 Q1925.31 1418.35 1930.72 1419.45 Q1936.14 1420.51 1942.33 1426.7 Q1948.5 1432.87 1949.58 1438.3 Q1950.66 1443.7 1946.55 1447.81 Q1942.44 1451.92 1937.03 1450.86 Q1931.61 1449.76 1925.44 1443.59 Q1919.25 1437.4 1918.17 1432 Q1917.09 1426.57 1921.2 1422.46 Z\" fill=\"#000000\" fill-rule=\"evenodd\" fill-opacity=\"1\" /><path clip-path=\"url(#clip080)\" d=\"M 0 0 M1958.17 1429.68 L1969.71 1418.14 L1972.5 1420.92 L1956.98 1436.44 L1954.2 1433.65 Q1954.13 1429.82 1954.1 1423.31 Q1954.06 1416.76 1953.95 1414.98 Q1953.75 1411.61 1953.15 1409.76 Q1952.54 1407.87 1951.35 1406.68 Q1949.4 1404.73 1946.8 1404.88 Q1944.21 1405.01 1942.02 1407.2 Q1940.46 1408.76 1939.27 1411.03 Q1938.09 1413.29 1937.22 1416.35 L1933.88 1413.01 Q1935.08 1410.21 1936.4 1408.07 Q1937.73 1405.93 1939.17 1404.49 Q1942.97 1400.69 1947.12 1400.33 Q1951.28 1399.97 1954.46 1403.14 Q1955.96 1404.65 1956.75 1406.58 Q1957.53 1408.48 1957.88 1411.8 Q1957.94 1412.69 1958.03 1417.15 Q1958.09 1421.61 1958.17 1429.68 Z\" fill=\"#000000\" fill-rule=\"evenodd\" fill-opacity=\"1\" /><path clip-path=\"url(#clip080)\" d=\"M 0 0 M1960.89 1388 Q1958.34 1390.56 1959.56 1394.37 Q1960.79 1398.15 1965.83 1403.19 Q1970.86 1408.22 1974.66 1409.46 Q1978.45 1410.67 1981.01 1408.12 Q1983.58 1405.55 1982.35 1401.77 Q1981.12 1397.95 1976.1 1392.93 Q1971.05 1387.89 1967.26 1386.68 Q1963.46 1385.43 1960.89 1388 M1958.27 1385.38 Q1962.38 1381.28 1967.8 1382.37 Q1973.22 1383.44 1979.4 1389.62 Q1985.57 1395.79 1986.65 1401.23 Q1987.73 1406.63 1983.63 1410.74 Q1979.52 1414.85 1974.1 1413.78 Q1968.68 1412.69 1962.51 1406.52 Q1956.32 1400.33 1955.24 1394.93 Q1954.16 1389.49 1958.27 1385.38 Z\" fill=\"#000000\" fill-rule=\"evenodd\" fill-opacity=\"1\" /><path clip-path=\"url(#clip080)\" d=\"M 0 0 M1982.71 1389.66 L1991.53 1380.83 L1994.22 1383.52 L1985.39 1392.34 L1982.71 1389.66 Z\" fill=\"#000000\" fill-rule=\"evenodd\" fill-opacity=\"1\" /><path clip-path=\"url(#clip080)\" d=\"M 0 0 M1990.45 1358.44 Q1987.9 1361 1989.13 1364.81 Q1990.35 1368.59 1995.39 1373.63 Q2000.42 1378.66 2004.22 1379.9 Q2008.01 1381.11 2010.57 1378.56 Q2013.14 1375.99 2011.91 1372.21 Q2010.68 1368.39 2005.66 1363.37 Q2000.62 1358.33 1996.82 1357.12 Q1993.02 1355.87 1990.45 1358.44 M1987.83 1355.82 Q1991.94 1351.71 1997.36 1352.81 Q2002.78 1353.88 2008.96 1360.06 Q2015.13 1366.23 2016.21 1371.67 Q2017.29 1377.07 2013.19 1381.18 Q2009.08 1385.29 2003.66 1384.22 Q1998.24 1383.13 1992.07 1376.95 Q1985.88 1370.77 1984.8 1365.37 Q1983.72 1359.93 1987.83 1355.82 Z\" fill=\"#000000\" fill-rule=\"evenodd\" fill-opacity=\"1\" /><path clip-path=\"url(#clip080)\" d=\"M 0 0 M1999.47 1345.07 L2015.18 1329.36 L2016.59 1330.76 L2030.75 1362.67 L2027.3 1366.12 L2013.99 1336.12 L2002.25 1347.85 L1999.47 1345.07 Z\" fill=\"#000000\" fill-rule=\"evenodd\" fill-opacity=\"1\" /><path clip-path=\"url(#clip080)\" d=\"M 0 0 M2030.73 1341.63 L2039.56 1332.81 L2042.24 1335.49 L2033.42 1344.32 L2030.73 1341.63 Z\" fill=\"#000000\" fill-rule=\"evenodd\" fill-opacity=\"1\" /><path clip-path=\"url(#clip080)\" d=\"M 0 0 M2038.48 1310.42 Q2035.92 1312.97 2037.15 1316.79 Q2038.38 1320.57 2043.42 1325.61 Q2048.44 1330.63 2052.24 1331.88 Q2056.04 1333.09 2058.59 1330.53 Q2061.16 1327.96 2059.93 1324.18 Q2058.71 1320.37 2053.68 1315.34 Q2048.64 1310.3 2044.84 1309.09 Q2041.05 1307.85 2038.48 1310.42 M2035.86 1307.8 Q2039.96 1303.69 2045.38 1304.79 Q2050.8 1305.85 2056.99 1312.04 Q2063.16 1318.21 2064.24 1323.64 Q2065.32 1329.04 2061.21 1333.15 Q2057.1 1337.26 2051.68 1336.2 Q2046.27 1335.1 2040.1 1328.93 Q2033.91 1322.74 2032.83 1317.34 Q2031.75 1311.91 2035.86 1307.8 Z\" fill=\"#000000\" fill-rule=\"evenodd\" fill-opacity=\"1\" /><path clip-path=\"url(#clip080)\" d=\"M 0 0 M2072.36 1320.04 L2069.35 1317.03 Q2071.18 1316.38 2072.77 1315.41 Q2074.35 1314.44 2075.58 1313.22 Q2078.86 1309.94 2078.38 1306.03 Q2077.91 1302.09 2073.67 1297.36 Q2074.13 1299.71 2073.42 1301.92 Q2072.72 1304.13 2070.95 1305.9 Q2067.28 1309.57 2062.93 1309.5 Q2058.58 1309.4 2054.73 1305.56 Q2050.96 1301.79 2050.92 1297.29 Q2050.87 1292.79 2054.57 1289.09 Q2058.8 1284.85 2064.29 1285.88 Q2069.77 1286.88 2075.96 1293.07 Q2081.74 1298.85 2082.44 1305.05 Q2083.14 1311.22 2078.51 1315.85 Q2077.27 1317.1 2075.75 1318.13 Q2074.22 1319.16 2072.36 1320.04 M2068.58 1303.1 Q2070.8 1300.88 2070.57 1298.06 Q2070.36 1295.23 2067.71 1292.58 Q2065.07 1289.94 2062.24 1289.73 Q2059.41 1289.48 2057.18 1291.71 Q2054.96 1293.94 2055.19 1296.78 Q2055.42 1299.6 2058.05 1302.23 Q2060.7 1304.89 2063.52 1305.11 Q2066.35 1305.33 2068.58 1303.1 Z\" fill=\"#000000\" fill-rule=\"evenodd\" fill-opacity=\"1\" /><path clip-path=\"url(#clip080)\" d=\"M 0 0 M2115.84 1465.29 L2127.38 1453.75 L2130.16 1456.54 L2114.64 1472.05 L2111.86 1469.27 Q2111.8 1465.44 2111.76 1458.93 Q2111.73 1452.38 2111.62 1450.59 Q2111.42 1447.22 2110.81 1445.37 Q2110.21 1443.49 2109.01 1442.3 Q2107.07 1440.35 2104.46 1440.5 Q2101.88 1440.63 2099.68 1442.82 Q2098.13 1444.37 2096.93 1446.65 Q2095.76 1448.91 2094.89 1451.97 L2091.55 1448.63 Q2092.74 1445.83 2094.07 1443.69 Q2095.4 1441.54 2096.84 1440.1 Q2100.63 1436.31 2104.79 1435.95 Q2108.95 1435.59 2112.12 1438.76 Q2113.63 1440.27 2114.42 1442.2 Q2115.2 1444.1 2115.54 1447.42 Q2115.61 1448.3 2115.69 1452.77 Q2115.76 1457.22 2115.84 1465.29 Z\" fill=\"#000000\" fill-rule=\"evenodd\" fill-opacity=\"1\" /><path clip-path=\"url(#clip080)\" d=\"M 0 0 M2118.56 1423.62 Q2116 1426.17 2117.23 1429.99 Q2118.46 1433.77 2123.5 1438.81 Q2128.52 1443.83 2132.32 1445.08 Q2136.12 1446.29 2138.67 1443.74 Q2141.24 1441.17 2140.02 1437.39 Q2138.79 1433.57 2133.76 1428.55 Q2128.72 1423.51 2124.92 1422.29 Q2121.13 1421.05 2118.56 1423.62 M2115.94 1421 Q2120.05 1416.89 2125.46 1417.99 Q2130.88 1419.05 2137.07 1425.24 Q2143.24 1431.41 2144.32 1436.85 Q2145.4 1442.25 2141.29 1446.36 Q2137.18 1450.46 2131.77 1449.4 Q2126.35 1448.3 2120.18 1442.13 Q2113.99 1435.95 2112.91 1430.54 Q2111.83 1425.11 2115.94 1421 Z\" fill=\"#000000\" fill-rule=\"evenodd\" fill-opacity=\"1\" /><path clip-path=\"url(#clip080)\" d=\"M 0 0 M2152.91 1428.22 L2164.45 1416.68 L2167.24 1419.46 L2151.72 1434.98 L2148.94 1432.2 Q2148.87 1428.37 2148.84 1421.85 Q2148.8 1415.3 2148.69 1413.52 Q2148.49 1410.15 2147.89 1408.3 Q2147.28 1406.42 2146.09 1405.22 Q2144.14 1403.27 2141.54 1403.42 Q2138.95 1403.55 2136.76 1405.75 Q2135.2 1407.3 2134.01 1409.58 Q2132.83 1411.83 2131.96 1414.9 L2128.62 1411.56 Q2129.82 1408.76 2131.14 1406.61 Q2132.47 1404.47 2133.91 1403.03 Q2137.71 1399.23 2141.86 1398.87 Q2146.02 1398.51 2149.2 1401.69 Q2150.7 1403.19 2151.49 1405.12 Q2152.27 1407.02 2152.62 1410.35 Q2152.68 1411.23 2152.77 1415.7 Q2152.83 1420.15 2152.91 1428.22 Z\" fill=\"#000000\" fill-rule=\"evenodd\" fill-opacity=\"1\" /><path clip-path=\"url(#clip080)\" d=\"M 0 0 M2155.63 1386.55 Q2153.08 1389.1 2154.3 1392.91 Q2155.53 1396.69 2160.57 1401.74 Q2165.6 1406.76 2169.4 1408 Q2173.19 1409.22 2175.75 1406.66 Q2178.32 1404.09 2177.09 1400.31 Q2175.86 1396.5 2170.84 1391.47 Q2165.79 1386.43 2162 1385.22 Q2158.2 1383.98 2155.63 1386.55 M2153.01 1383.93 Q2157.12 1379.82 2162.54 1380.92 Q2167.96 1381.98 2174.14 1388.17 Q2180.31 1394.34 2181.39 1399.77 Q2182.47 1405.17 2178.37 1409.28 Q2174.26 1413.39 2168.84 1412.33 Q2163.42 1411.23 2157.25 1405.06 Q2151.06 1398.87 2149.98 1393.47 Q2148.9 1388.04 2153.01 1383.93 Z\" fill=\"#000000\" fill-rule=\"evenodd\" fill-opacity=\"1\" /><path clip-path=\"url(#clip080)\" d=\"M 0 0 M2177.45 1388.2 L2186.27 1379.38 L2188.96 1382.06 L2180.13 1390.88 L2177.45 1388.2 Z\" fill=\"#000000\" fill-rule=\"evenodd\" fill-opacity=\"1\" /><path clip-path=\"url(#clip080)\" d=\"M 0 0 M2185.19 1356.99 Q2182.64 1359.54 2183.87 1363.35 Q2185.09 1367.13 2190.13 1372.17 Q2195.16 1377.2 2198.96 1378.44 Q2202.75 1379.66 2205.31 1377.1 Q2207.88 1374.53 2206.65 1370.75 Q2205.42 1366.94 2200.4 1361.91 Q2195.36 1356.87 2191.56 1355.66 Q2187.76 1354.42 2185.19 1356.99 M2182.57 1354.37 Q2186.68 1350.26 2192.1 1351.35 Q2197.52 1352.42 2203.7 1358.61 Q2209.87 1364.78 2210.95 1370.21 Q2212.03 1375.61 2207.93 1379.72 Q2203.82 1383.83 2198.4 1382.77 Q2192.98 1381.67 2186.81 1375.5 Q2180.62 1369.31 2179.54 1363.91 Q2178.46 1358.47 2182.57 1354.37 Z\" fill=\"#000000\" fill-rule=\"evenodd\" fill-opacity=\"1\" /><path clip-path=\"url(#clip080)\" d=\"M 0 0 M2194.21 1343.61 L2209.92 1327.9 L2211.33 1329.31 L2225.49 1361.21 L2222.04 1364.66 L2208.73 1334.66 L2196.99 1346.4 L2194.21 1343.61 Z\" fill=\"#000000\" fill-rule=\"evenodd\" fill-opacity=\"1\" /><path clip-path=\"url(#clip080)\" d=\"M 0 0 M2225.47 1340.18 L2234.3 1331.35 L2236.98 1334.04 L2228.16 1342.86 L2225.47 1340.18 Z\" fill=\"#000000\" fill-rule=\"evenodd\" fill-opacity=\"1\" /><path clip-path=\"url(#clip080)\" d=\"M 0 0 M2248.47 1332.66 L2260.01 1321.12 L2262.79 1323.91 L2247.28 1339.42 L2244.49 1336.64 Q2244.43 1332.81 2244.39 1326.3 Q2244.36 1319.75 2244.25 1317.96 Q2244.05 1314.59 2243.45 1312.74 Q2242.84 1310.86 2241.64 1309.67 Q2239.7 1307.72 2237.09 1307.86 Q2234.51 1308 2232.31 1310.19 Q2230.76 1311.74 2229.57 1314.02 Q2228.39 1316.28 2227.52 1319.34 L2224.18 1316 Q2225.37 1313.2 2226.7 1311.06 Q2228.03 1308.91 2229.47 1307.47 Q2233.26 1303.67 2237.42 1303.31 Q2241.58 1302.95 2244.75 1306.13 Q2246.26 1307.64 2247.05 1309.57 Q2247.83 1311.47 2248.18 1314.79 Q2248.24 1315.67 2248.32 1320.14 Q2248.39 1324.59 2248.47 1332.66 Z\" fill=\"#000000\" fill-rule=\"evenodd\" fill-opacity=\"1\" /><path clip-path=\"url(#clip080)\" d=\"M 0 0 M2263.22 1297.13 Q2266.1 1295.26 2269.03 1295.54 Q2271.97 1295.8 2274.33 1298.16 Q2277.95 1301.78 2277.44 1306.24 Q2276.93 1310.71 2272.35 1315.3 Q2270.81 1316.83 2268.87 1318.16 Q2266.95 1319.49 2264.61 1320.62 L2261.42 1317.42 Q2263.59 1316.85 2265.64 1315.62 Q2267.69 1314.4 2269.47 1312.61 Q2272.58 1309.5 2272.97 1306.65 Q2273.38 1303.79 2271.04 1301.45 Q2268.88 1299.29 2266.15 1299.6 Q2263.41 1299.88 2260.71 1302.58 L2257.87 1305.43 L2255.15 1302.71 L2258.13 1299.73 Q2260.57 1297.29 2260.89 1295.03 Q2261.2 1292.76 2259.37 1290.92 Q2257.49 1289.04 2255.15 1289.38 Q2252.81 1289.7 2250.32 1292.18 Q2248.96 1293.54 2247.7 1295.39 Q2246.44 1297.24 2245.2 1299.73 L2242.25 1296.78 Q2243.61 1294.38 2244.98 1292.48 Q2246.38 1290.56 2247.83 1289.11 Q2251.6 1285.34 2255.51 1284.87 Q2259.4 1284.38 2262.32 1287.29 Q2264.35 1289.32 2264.59 1291.89 Q2264.82 1294.44 2263.22 1297.13 Z\" fill=\"#000000\" fill-rule=\"evenodd\" fill-opacity=\"1\" /><path clip-path=\"url(#clip080)\" d=\"M 0 0 M169.721 1251.45 L177.359 1251.45 L177.359 1225.09 L169.049 1226.75 L169.049 1222.49 L177.313 1220.83 L181.989 1220.83 L181.989 1251.45 L189.628 1251.45 L189.628 1255.39 L169.721 1255.39 L169.721 1251.45 Z\" fill=\"#000000\" fill-rule=\"evenodd\" fill-opacity=\"1\" /><path clip-path=\"url(#clip080)\" d=\"M 0 0 M204.697 1223.91 Q201.086 1223.91 199.257 1227.47 Q197.452 1231.01 197.452 1238.14 Q197.452 1245.25 199.257 1248.81 Q201.086 1252.35 204.697 1252.35 Q208.331 1252.35 210.137 1248.81 Q211.966 1245.25 211.966 1238.14 Q211.966 1231.01 210.137 1227.47 Q208.331 1223.91 204.697 1223.91 M204.697 1220.2 Q210.507 1220.2 213.563 1224.81 Q216.642 1229.39 216.642 1238.14 Q216.642 1246.87 213.563 1251.48 Q210.507 1256.06 204.697 1256.06 Q198.887 1256.06 195.808 1251.48 Q192.753 1246.87 192.753 1238.14 Q192.753 1229.39 195.808 1224.81 Q198.887 1220.2 204.697 1220.2 Z\" fill=\"#000000\" fill-rule=\"evenodd\" fill-opacity=\"1\" /><path clip-path=\"url(#clip080)\" d=\"M 0 0 M226.346 1202.4 Q223.412 1202.4 221.927 1205.29 Q220.46 1208.17 220.46 1213.96 Q220.46 1219.74 221.927 1222.64 Q223.412 1225.51 226.346 1225.51 Q229.299 1225.51 230.766 1222.64 Q232.252 1219.74 232.252 1213.96 Q232.252 1208.17 230.766 1205.29 Q229.299 1202.4 226.346 1202.4 M226.346 1199.39 Q231.067 1199.39 233.55 1203.13 Q236.051 1206.86 236.051 1213.96 Q236.051 1221.06 233.55 1224.8 Q231.067 1228.52 226.346 1228.52 Q221.626 1228.52 219.124 1224.8 Q216.642 1221.06 216.642 1213.96 Q216.642 1206.86 219.124 1203.13 Q221.626 1199.39 226.346 1199.39 Z\" fill=\"#000000\" fill-rule=\"evenodd\" fill-opacity=\"1\" /><path clip-path=\"url(#clip080)\" d=\"M 0 0 M172.41 1060.98 L180.049 1060.98 L180.049 1034.62 L171.739 1036.29 L171.739 1032.03 L180.003 1030.36 L184.679 1030.36 L184.679 1060.98 L192.317 1060.98 L192.317 1064.92 L172.41 1064.92 L172.41 1060.98 Z\" fill=\"#000000\" fill-rule=\"evenodd\" fill-opacity=\"1\" /><path clip-path=\"url(#clip080)\" d=\"M 0 0 M207.387 1033.44 Q203.776 1033.44 201.947 1037 Q200.141 1040.54 200.141 1047.67 Q200.141 1054.78 201.947 1058.35 Q203.776 1061.89 207.387 1061.89 Q211.021 1061.89 212.827 1058.35 Q214.655 1054.78 214.655 1047.67 Q214.655 1040.54 212.827 1037 Q211.021 1033.44 207.387 1033.44 M207.387 1029.73 Q213.197 1029.73 216.252 1034.34 Q219.331 1038.92 219.331 1047.67 Q219.331 1056.4 216.252 1061.01 Q213.197 1065.59 207.387 1065.59 Q201.577 1065.59 198.498 1061.01 Q195.442 1056.4 195.442 1047.67 Q195.442 1038.92 198.498 1034.34 Q201.577 1029.73 207.387 1029.73 Z\" fill=\"#000000\" fill-rule=\"evenodd\" fill-opacity=\"1\" /><path clip-path=\"url(#clip080)\" d=\"M 0 0 M219.877 1034.31 L226.083 1034.31 L226.083 1012.89 L219.331 1014.24 L219.331 1010.78 L226.046 1009.43 L229.845 1009.43 L229.845 1034.31 L236.051 1034.31 L236.051 1037.51 L219.877 1037.51 L219.877 1034.31 Z\" fill=\"#000000\" fill-rule=\"evenodd\" fill-opacity=\"1\" /><path clip-path=\"url(#clip080)\" d=\"M 0 0 M171.3 870.517 L178.939 870.517 L178.939 844.151 L170.629 845.818 L170.629 841.559 L178.893 839.892 L183.569 839.892 L183.569 870.517 L191.208 870.517 L191.208 874.452 L171.3 874.452 L171.3 870.517 Z\" fill=\"#000000\" fill-rule=\"evenodd\" fill-opacity=\"1\" /><path clip-path=\"url(#clip080)\" d=\"M 0 0 M206.277 842.971 Q202.666 842.971 200.837 846.535 Q199.032 850.077 199.032 857.207 Q199.032 864.313 200.837 867.878 Q202.666 871.42 206.277 871.42 Q209.911 871.42 211.717 867.878 Q213.546 864.313 213.546 857.207 Q213.546 850.077 211.717 846.535 Q209.911 842.971 206.277 842.971 M206.277 839.267 Q212.087 839.267 215.143 843.873 Q218.221 848.457 218.221 857.207 Q218.221 865.933 215.143 870.54 Q212.087 875.123 206.277 875.123 Q200.467 875.123 197.388 870.54 Q194.333 865.933 194.333 857.207 Q194.333 848.457 197.388 843.873 Q200.467 839.267 206.277 839.267 Z\" fill=\"#000000\" fill-rule=\"evenodd\" fill-opacity=\"1\" /><path clip-path=\"url(#clip080)\" d=\"M 0 0 M222.792 843.844 L236.051 843.844 L236.051 847.042 L218.221 847.042 L218.221 843.844 Q220.384 841.606 224.108 837.845 Q227.851 834.064 228.81 832.973 Q230.635 830.923 231.349 829.513 Q232.083 828.083 232.083 826.71 Q232.083 824.472 230.503 823.062 Q228.942 821.651 226.422 821.651 Q224.635 821.651 222.641 822.272 Q220.666 822.892 218.41 824.152 L218.41 820.316 Q220.704 819.394 222.698 818.924 Q224.691 818.454 226.346 818.454 Q230.71 818.454 233.305 820.635 Q235.901 822.817 235.901 826.466 Q235.901 828.196 235.243 829.757 Q234.603 831.299 232.892 833.406 Q232.421 833.951 229.901 836.566 Q227.381 839.161 222.792 843.844 Z\" fill=\"#000000\" fill-rule=\"evenodd\" fill-opacity=\"1\" /><path clip-path=\"url(#clip080)\" d=\"M 0 0 M170.642 680.049 L178.281 680.049 L178.281 653.684 L169.971 655.35 L169.971 651.091 L178.235 649.424 L182.911 649.424 L182.911 680.049 L190.549 680.049 L190.549 683.984 L170.642 683.984 L170.642 680.049 Z\" fill=\"#000000\" fill-rule=\"evenodd\" fill-opacity=\"1\" /><path clip-path=\"url(#clip080)\" d=\"M 0 0 M205.619 652.503 Q202.008 652.503 200.179 656.068 Q198.373 659.609 198.373 666.739 Q198.373 673.845 200.179 677.41 Q202.008 680.952 205.619 680.952 Q209.253 680.952 211.059 677.41 Q212.887 673.845 212.887 666.739 Q212.887 659.609 211.059 656.068 Q209.253 652.503 205.619 652.503 M205.619 648.799 Q211.429 648.799 214.485 653.406 Q217.563 657.989 217.563 666.739 Q217.563 675.466 214.485 680.072 Q211.429 684.656 205.619 684.656 Q199.809 684.656 196.73 680.072 Q193.674 675.466 193.674 666.739 Q193.674 657.989 196.73 653.406 Q199.809 648.799 205.619 648.799 Z\" fill=\"#000000\" fill-rule=\"evenodd\" fill-opacity=\"1\" /><path clip-path=\"url(#clip080)\" d=\"M 0 0 M230.258 641.434 Q232.986 642.017 234.509 643.86 Q236.051 645.703 236.051 648.411 Q236.051 652.568 233.192 654.844 Q230.334 657.119 225.067 657.119 Q223.3 657.119 221.419 656.762 Q219.557 656.423 217.563 655.728 L217.563 652.06 Q219.143 652.982 221.024 653.452 Q222.905 653.922 224.955 653.922 Q228.528 653.922 230.39 652.511 Q232.271 651.101 232.271 648.411 Q232.271 645.929 230.522 644.537 Q228.791 643.126 225.688 643.126 L222.416 643.126 L222.416 640.004 L225.839 640.004 Q228.641 640.004 230.127 638.895 Q231.613 637.766 231.613 635.66 Q231.613 633.497 230.07 632.349 Q228.547 631.183 225.688 631.183 Q224.127 631.183 222.34 631.522 Q220.554 631.86 218.41 632.575 L218.41 629.19 Q220.572 628.588 222.453 628.287 Q224.353 627.986 226.027 627.986 Q230.352 627.986 232.873 629.961 Q235.393 631.917 235.393 635.265 Q235.393 637.597 234.058 639.214 Q232.722 640.813 230.258 641.434 Z\" fill=\"#000000\" fill-rule=\"evenodd\" fill-opacity=\"1\" /><path clip-path=\"url(#clip080)\" d=\"M 0 0 M168.667 489.582 L176.306 489.582 L176.306 463.216 L167.996 464.883 L167.996 460.623 L176.26 458.957 L180.936 458.957 L180.936 489.582 L188.575 489.582 L188.575 493.517 L168.667 493.517 L168.667 489.582 Z\" fill=\"#000000\" fill-rule=\"evenodd\" fill-opacity=\"1\" /><path clip-path=\"url(#clip080)\" d=\"M 0 0 M203.644 462.035 Q200.033 462.035 198.204 465.6 Q196.399 469.142 196.399 476.271 Q196.399 483.378 198.204 486.943 Q200.033 490.484 203.644 490.484 Q207.278 490.484 209.084 486.943 Q210.912 483.378 210.912 476.271 Q210.912 469.142 209.084 465.6 Q207.278 462.035 203.644 462.035 M203.644 458.332 Q209.454 458.332 212.51 462.938 Q215.588 467.521 215.588 476.271 Q215.588 484.998 212.51 489.605 Q209.454 494.188 203.644 494.188 Q197.834 494.188 194.755 489.605 Q191.7 484.998 191.7 476.271 Q191.7 467.521 194.755 462.938 Q197.834 458.332 203.644 458.332 Z\" fill=\"#000000\" fill-rule=\"evenodd\" fill-opacity=\"1\" /><path clip-path=\"url(#clip080)\" d=\"M 0 0 M228.265 441.336 L218.673 456.326 L228.265 456.326 L228.265 441.336 M227.268 438.026 L232.045 438.026 L232.045 456.326 L236.051 456.326 L236.051 459.486 L232.045 459.486 L232.045 466.106 L228.265 466.106 L228.265 459.486 L215.588 459.486 L215.588 455.818 L227.268 438.026 Z\" fill=\"#000000\" fill-rule=\"evenodd\" fill-opacity=\"1\" /><path clip-path=\"url(#clip080)\" d=\"M 0 0 M170.962 299.114 L178.601 299.114 L178.601 272.748 L170.291 274.415 L170.291 270.156 L178.554 268.489 L183.23 268.489 L183.23 299.114 L190.869 299.114 L190.869 303.049 L170.962 303.049 L170.962 299.114 Z\" fill=\"#000000\" fill-rule=\"evenodd\" fill-opacity=\"1\" /><path clip-path=\"url(#clip080)\" d=\"M 0 0 M205.939 271.568 Q202.327 271.568 200.499 275.133 Q198.693 278.674 198.693 285.804 Q198.693 292.91 200.499 296.475 Q202.327 300.017 205.939 300.017 Q209.573 300.017 211.378 296.475 Q213.207 292.91 213.207 285.804 Q213.207 278.674 211.378 275.133 Q209.573 271.568 205.939 271.568 M205.939 267.864 Q211.749 267.864 214.804 272.471 Q217.883 277.054 217.883 285.804 Q217.883 294.531 214.804 299.137 Q211.749 303.72 205.939 303.72 Q200.128 303.72 197.05 299.137 Q193.994 294.531 193.994 285.804 Q193.994 277.054 197.05 272.471 Q200.128 267.864 205.939 267.864 Z\" fill=\"#000000\" fill-rule=\"evenodd\" fill-opacity=\"1\" /><path clip-path=\"url(#clip080)\" d=\"M 0 0 M219.068 247.559 L233.982 247.559 L233.982 250.756 L222.547 250.756 L222.547 257.64 Q223.375 257.358 224.202 257.226 Q225.03 257.075 225.857 257.075 Q230.559 257.075 233.305 259.652 Q236.051 262.229 236.051 266.63 Q236.051 271.162 233.23 273.683 Q230.409 276.184 225.274 276.184 Q223.506 276.184 221.663 275.883 Q219.839 275.582 217.883 274.98 L217.883 271.162 Q219.576 272.084 221.381 272.535 Q223.187 272.987 225.199 272.987 Q228.453 272.987 230.352 271.275 Q232.252 269.564 232.252 266.63 Q232.252 263.696 230.352 261.984 Q228.453 260.273 225.199 260.273 Q223.676 260.273 222.152 260.611 Q220.648 260.95 219.068 261.664 L219.068 247.559 Z\" fill=\"#000000\" fill-rule=\"evenodd\" fill-opacity=\"1\" /><path clip-path=\"url(#clip080)\" d=\"M 0 0 M1176.53 16.7545 L1176.53 25.383 Q1172.4 21.5346 1167.7 19.6307 Q1163.04 17.7268 1157.78 17.7268 Q1147.41 17.7268 1141.9 24.0867 Q1136.39 30.4061 1136.39 42.3968 Q1136.39 54.3469 1141.9 60.7069 Q1147.41 67.0263 1157.78 67.0263 Q1163.04 67.0263 1167.7 65.1223 Q1172.4 63.2184 1176.53 59.3701 L1176.53 67.9175 Q1172.24 70.8341 1167.42 72.2924 Q1162.64 73.7508 1157.29 73.7508 Q1143.56 73.7508 1135.66 65.3654 Q1127.76 56.9395 1127.76 42.3968 Q1127.76 27.8135 1135.66 19.4281 Q1143.56 11.0023 1157.29 11.0023 Q1162.72 11.0023 1167.5 12.4606 Q1172.32 13.8784 1176.53 16.7545 Z\" fill=\"#000000\" fill-rule=\"evenodd\" fill-opacity=\"1\" /><path clip-path=\"url(#clip080)\" d=\"M 0 0 M1209.22 17.6457 Q1200.31 17.6457 1195.04 24.2892 Q1189.82 30.9327 1189.82 42.3968 Q1189.82 53.8203 1195.04 60.4638 Q1200.31 67.1073 1209.22 67.1073 Q1218.13 67.1073 1223.32 60.4638 Q1228.55 53.8203 1228.55 42.3968 Q1228.55 30.9327 1223.32 24.2892 Q1218.13 17.6457 1209.22 17.6457 M1209.22 11.0023 Q1221.94 11.0023 1229.56 19.5497 Q1237.17 28.0566 1237.17 42.3968 Q1237.17 56.6965 1229.56 65.2439 Q1221.94 73.7508 1209.22 73.7508 Q1196.46 73.7508 1188.81 65.2439 Q1181.19 56.737 1181.19 42.3968 Q1181.19 28.0566 1188.81 19.5497 Q1196.46 11.0023 1209.22 11.0023 Z\" fill=\"#000000\" fill-rule=\"evenodd\" fill-opacity=\"1\" /><path clip-path=\"url(#clip080)\" d=\"M 0 0 M1259.45 72.576 L1236.36 12.096 L1244.91 12.096 L1264.07 63.0159 L1283.27 12.096 L1291.78 12.096 L1268.73 72.576 L1259.45 72.576 Z\" fill=\"#000000\" fill-rule=\"evenodd\" fill-opacity=\"1\" /><path clip-path=\"url(#clip080)\" d=\"M 0 0 M1299.92 12.096 L1308.1 12.096 L1308.1 72.576 L1299.92 72.576 L1299.92 12.096 Z\" fill=\"#000000\" fill-rule=\"evenodd\" fill-opacity=\"1\" /><path clip-path=\"url(#clip080)\" d=\"M 0 0 M1324.43 18.8205 L1324.43 65.8515 L1334.31 65.8515 Q1346.83 65.8515 1352.62 60.1802 Q1358.46 54.509 1358.46 42.2752 Q1358.46 30.1225 1352.62 24.4918 Q1346.83 18.8205 1334.31 18.8205 L1324.43 18.8205 M1316.25 12.096 L1333.06 12.096 Q1350.64 12.096 1358.86 19.4281 Q1367.09 26.7198 1367.09 42.2752 Q1367.09 57.9117 1358.82 65.2439 Q1350.56 72.576 1333.06 72.576 L1316.25 72.576 L1316.25 12.096 Z\" fill=\"#000000\" fill-rule=\"evenodd\" fill-opacity=\"1\" /><path clip-path=\"url(#clip080)\" d=\"M 0 0 M1371.14 46.5287 L1392.97 46.5287 L1392.97 53.1722 L1371.14 53.1722 L1371.14 46.5287 Z\" fill=\"#000000\" fill-rule=\"evenodd\" fill-opacity=\"1\" /><path clip-path=\"url(#clip080)\" d=\"M 0 0 M1403.26 65.6895 L1416.63 65.6895 L1416.63 19.5497 L1402.09 22.4663 L1402.09 15.0127 L1416.55 12.096 L1424.73 12.096 L1424.73 65.6895 L1438.1 65.6895 L1438.1 72.576 L1403.26 72.576 L1403.26 65.6895 Z\" fill=\"#000000\" fill-rule=\"evenodd\" fill-opacity=\"1\" /><path clip-path=\"url(#clip080)\" d=\"M 0 0 M1447.21 71.3202 L1447.21 63.8666 Q1450.29 65.3249 1453.45 66.0946 Q1456.61 66.8642 1459.65 66.8642 Q1467.75 66.8642 1472 61.436 Q1476.3 55.9673 1476.91 44.8678 Q1474.56 48.3516 1470.95 50.215 Q1467.35 52.0784 1462.97 52.0784 Q1453.9 52.0784 1448.59 46.6097 Q1443.32 41.1005 1443.32 31.5808 Q1443.32 22.2638 1448.83 16.633 Q1454.34 11.0023 1463.5 11.0023 Q1473.99 11.0023 1479.5 19.0636 Q1485.05 27.0843 1485.05 42.3968 Q1485.05 56.6965 1478.24 65.2439 Q1471.48 73.7508 1460.01 73.7508 Q1456.94 73.7508 1453.78 73.1431 Q1450.62 72.5355 1447.21 71.3202 M1463.5 45.678 Q1469.01 45.678 1472.21 41.9107 Q1475.45 38.1433 1475.45 31.5808 Q1475.45 25.0589 1472.21 21.2916 Q1469.01 17.4837 1463.5 17.4837 Q1457.99 17.4837 1454.75 21.2916 Q1451.55 25.0589 1451.55 31.5808 Q1451.55 38.1433 1454.75 41.9107 Q1457.99 45.678 1463.5 45.678 Z\" fill=\"#000000\" fill-rule=\"evenodd\" fill-opacity=\"1\" /><path clip-path=\"url(#clip080)\" d=\"M 0 0 M878.373 1506.66 L878.373 1513.44 Q875.127 1510.42 871.435 1508.92 Q867.775 1507.42 863.637 1507.42 Q855.489 1507.42 851.16 1512.42 Q846.831 1517.39 846.831 1526.81 Q846.831 1536.2 851.16 1541.19 Q855.489 1546.16 863.637 1546.16 Q867.775 1546.16 871.435 1544.66 Q875.127 1543.17 878.373 1540.14 L878.373 1546.86 Q875 1549.15 871.212 1550.3 Q867.456 1551.44 863.255 1551.44 Q852.465 1551.44 846.258 1544.85 Q840.052 1538.23 840.052 1526.81 Q840.052 1515.35 846.258 1508.76 Q852.465 1502.14 863.255 1502.14 Q867.52 1502.14 871.276 1503.29 Q875.063 1504.4 878.373 1506.66 Z\" fill=\"#000000\" fill-rule=\"evenodd\" fill-opacity=\"1\" /><path clip-path=\"url(#clip080)\" d=\"M 0 0 M898.33 1518.98 Q893.619 1518.98 890.882 1522.67 Q888.145 1526.33 888.145 1532.73 Q888.145 1539.13 890.85 1542.82 Q893.587 1546.48 898.33 1546.48 Q903.009 1546.48 905.746 1542.79 Q908.483 1539.09 908.483 1532.73 Q908.483 1526.39 905.746 1522.7 Q903.009 1518.98 898.33 1518.98 M898.33 1514.01 Q905.969 1514.01 910.329 1518.98 Q914.69 1523.94 914.69 1532.73 Q914.69 1541.48 910.329 1546.48 Q905.969 1551.44 898.33 1551.44 Q890.659 1551.44 886.299 1546.48 Q881.97 1541.48 881.97 1532.73 Q881.97 1523.94 886.299 1518.98 Q890.659 1514.01 898.33 1514.01 Z\" fill=\"#000000\" fill-rule=\"evenodd\" fill-opacity=\"1\" /><path clip-path=\"url(#clip080)\" d=\"M 0 0 M950.465 1529 L950.465 1550.52 L944.609 1550.52 L944.609 1529.19 Q944.609 1524.13 942.635 1521.62 Q940.662 1519.11 936.715 1519.11 Q931.973 1519.11 929.235 1522.13 Q926.498 1525.15 926.498 1530.37 L926.498 1550.52 L920.61 1550.52 L920.61 1514.87 L926.498 1514.87 L926.498 1520.41 Q928.599 1517.2 931.432 1515.6 Q934.296 1514.01 938.02 1514.01 Q944.163 1514.01 947.314 1517.83 Q950.465 1521.62 950.465 1529 Z\" fill=\"#000000\" fill-rule=\"evenodd\" fill-opacity=\"1\" /><path clip-path=\"url(#clip080)\" d=\"M 0 0 M974.655 1500.99 L974.655 1505.86 L969.053 1505.86 Q965.902 1505.86 964.661 1507.14 Q963.451 1508.41 963.451 1511.72 L963.451 1514.87 L973.095 1514.87 L973.095 1519.42 L963.451 1519.42 L963.451 1550.52 L957.563 1550.52 L957.563 1519.42 L951.961 1519.42 L951.961 1514.87 L957.563 1514.87 L957.563 1512.39 Q957.563 1506.44 960.332 1503.73 Q963.101 1500.99 969.117 1500.99 L974.655 1500.99 Z\" fill=\"#000000\" fill-rule=\"evenodd\" fill-opacity=\"1\" /><path clip-path=\"url(#clip080)\" d=\"M 0 0 M980.798 1514.87 L986.654 1514.87 L986.654 1550.52 L980.798 1550.52 L980.798 1514.87 M980.798 1500.99 L986.654 1500.99 L986.654 1508.41 L980.798 1508.41 L980.798 1500.99 Z\" fill=\"#000000\" fill-rule=\"evenodd\" fill-opacity=\"1\" /><path clip-path=\"url(#clip080)\" d=\"M 0 0 M1013.45 1520.35 Q1012.47 1519.77 1011.29 1519.52 Q1010.14 1519.23 1008.74 1519.23 Q1003.78 1519.23 1001.1 1522.48 Q998.463 1525.69 998.463 1531.74 L998.463 1550.52 L992.574 1550.52 L992.574 1514.87 L998.463 1514.87 L998.463 1520.41 Q1000.31 1517.16 1003.27 1515.6 Q1006.23 1514.01 1010.46 1514.01 Q1011.07 1514.01 1011.8 1514.11 Q1012.53 1514.17 1013.42 1514.33 L1013.45 1520.35 Z\" fill=\"#000000\" fill-rule=\"evenodd\" fill-opacity=\"1\" /><path clip-path=\"url(#clip080)\" d=\"M 0 0 M1046.21 1521.72 Q1048.4 1517.77 1051.46 1515.89 Q1054.51 1514.01 1058.65 1514.01 Q1064.22 1514.01 1067.24 1517.93 Q1070.27 1521.81 1070.27 1529 L1070.27 1550.52 L1064.38 1550.52 L1064.38 1529.19 Q1064.38 1524.07 1062.57 1521.59 Q1060.75 1519.11 1057.03 1519.11 Q1052.48 1519.11 1049.83 1522.13 Q1047.19 1525.15 1047.19 1530.37 L1047.19 1550.52 L1041.3 1550.52 L1041.3 1529.19 Q1041.3 1524.04 1039.49 1521.59 Q1037.68 1519.11 1033.89 1519.11 Q1029.4 1519.11 1026.76 1522.16 Q1024.12 1525.18 1024.12 1530.37 L1024.12 1550.52 L1018.23 1550.52 L1018.23 1514.87 L1024.12 1514.87 L1024.12 1520.41 Q1026.12 1517.13 1028.92 1515.57 Q1031.72 1514.01 1035.57 1514.01 Q1039.46 1514.01 1042.16 1515.99 Q1044.9 1517.96 1046.21 1521.72 Z\" fill=\"#000000\" fill-rule=\"evenodd\" fill-opacity=\"1\" /><path clip-path=\"url(#clip080)\" d=\"M 0 0 M1106.9 1531.23 L1106.9 1534.1 L1079.98 1534.1 Q1080.36 1540.14 1083.6 1543.33 Q1086.88 1546.48 1092.71 1546.48 Q1096.08 1546.48 1099.23 1545.65 Q1102.41 1544.82 1105.53 1543.17 L1105.53 1548.71 Q1102.38 1550.04 1099.07 1550.74 Q1095.76 1551.44 1092.36 1551.44 Q1083.83 1551.44 1078.83 1546.48 Q1073.86 1541.51 1073.86 1533.05 Q1073.86 1524.29 1078.57 1519.17 Q1083.32 1514.01 1091.34 1514.01 Q1098.53 1514.01 1102.7 1518.66 Q1106.9 1523.27 1106.9 1531.23 M1101.05 1529.51 Q1100.98 1524.71 1098.34 1521.84 Q1095.73 1518.98 1091.4 1518.98 Q1086.5 1518.98 1083.54 1521.75 Q1080.61 1524.52 1080.17 1529.54 L1101.05 1529.51 Z\" fill=\"#000000\" fill-rule=\"evenodd\" fill-opacity=\"1\" /><path clip-path=\"url(#clip080)\" d=\"M 0 0 M1136.5 1520.28 L1136.5 1500.99 L1142.36 1500.99 L1142.36 1550.52 L1136.5 1550.52 L1136.5 1545.17 Q1134.66 1548.36 1131.82 1549.92 Q1129.02 1551.44 1125.08 1551.44 Q1118.62 1551.44 1114.54 1546.29 Q1110.5 1541.13 1110.5 1532.73 Q1110.5 1524.33 1114.54 1519.17 Q1118.62 1514.01 1125.08 1514.01 Q1129.02 1514.01 1131.82 1515.57 Q1134.66 1517.1 1136.5 1520.28 M1116.55 1532.73 Q1116.55 1539.19 1119.19 1542.88 Q1121.86 1546.54 1126.51 1546.54 Q1131.16 1546.54 1133.83 1542.88 Q1136.5 1539.19 1136.5 1532.73 Q1136.5 1526.27 1133.83 1522.61 Q1131.16 1518.91 1126.51 1518.91 Q1121.86 1518.91 1119.19 1522.61 Q1116.55 1526.27 1116.55 1532.73 Z\" fill=\"#000000\" fill-rule=\"evenodd\" fill-opacity=\"1\" /><path clip-path=\"url(#clip080)\" d=\"M 0 0 M1194.88 1516.24 L1194.88 1521.72 Q1192.39 1520.35 1189.88 1519.68 Q1187.4 1518.98 1184.85 1518.98 Q1179.15 1518.98 1176 1522.61 Q1172.85 1526.2 1172.85 1532.73 Q1172.85 1539.25 1176 1542.88 Q1179.15 1546.48 1184.85 1546.48 Q1187.4 1546.48 1189.88 1545.81 Q1192.39 1545.11 1194.88 1543.74 L1194.88 1549.15 Q1192.43 1550.3 1189.78 1550.87 Q1187.17 1551.44 1184.21 1551.44 Q1176.16 1551.44 1171.42 1546.38 Q1166.68 1541.32 1166.68 1532.73 Q1166.68 1524.01 1171.45 1519.01 Q1176.26 1514.01 1184.6 1514.01 Q1187.3 1514.01 1189.88 1514.59 Q1192.46 1515.13 1194.88 1516.24 Z\" fill=\"#000000\" fill-rule=\"evenodd\" fill-opacity=\"1\" /><path clip-path=\"url(#clip080)\" d=\"M 0 0 M1217.22 1532.6 Q1210.12 1532.6 1207.39 1534.22 Q1204.65 1535.85 1204.65 1539.76 Q1204.65 1542.88 1206.68 1544.73 Q1208.75 1546.54 1212.29 1546.54 Q1217.16 1546.54 1220.08 1543.1 Q1223.04 1539.63 1223.04 1533.91 L1223.04 1532.6 L1217.22 1532.6 M1228.9 1530.18 L1228.9 1550.52 L1223.04 1550.52 L1223.04 1545.11 Q1221.04 1548.36 1218.05 1549.92 Q1215.06 1551.44 1210.73 1551.44 Q1205.25 1551.44 1202.01 1548.39 Q1198.79 1545.3 1198.79 1540.14 Q1198.79 1534.13 1202.8 1531.07 Q1206.84 1528.02 1214.83 1528.02 L1223.04 1528.02 L1223.04 1527.44 Q1223.04 1523.4 1220.37 1521.21 Q1217.73 1518.98 1212.92 1518.98 Q1209.87 1518.98 1206.97 1519.71 Q1204.07 1520.44 1201.4 1521.91 L1201.4 1516.5 Q1204.62 1515.25 1207.64 1514.65 Q1210.66 1514.01 1213.53 1514.01 Q1221.26 1514.01 1225.08 1518.02 Q1228.9 1522.03 1228.9 1530.18 Z\" fill=\"#000000\" fill-rule=\"evenodd\" fill-opacity=\"1\" /><path clip-path=\"url(#clip080)\" d=\"M 0 0 M1257.77 1515.92 L1257.77 1521.46 Q1255.29 1520.19 1252.61 1519.55 Q1249.94 1518.91 1247.08 1518.91 Q1242.71 1518.91 1240.52 1520.25 Q1238.35 1521.59 1238.35 1524.26 Q1238.35 1526.3 1239.91 1527.48 Q1241.47 1528.62 1246.18 1529.67 L1248.19 1530.12 Q1254.43 1531.45 1257.04 1533.91 Q1259.68 1536.32 1259.68 1540.68 Q1259.68 1545.65 1255.73 1548.55 Q1251.82 1551.44 1244.94 1551.44 Q1242.08 1551.44 1238.96 1550.87 Q1235.87 1550.33 1232.43 1549.21 L1232.43 1543.17 Q1235.68 1544.85 1238.83 1545.71 Q1241.98 1546.54 1245.07 1546.54 Q1249.21 1546.54 1251.44 1545.14 Q1253.66 1543.71 1253.66 1541.13 Q1253.66 1538.74 1252.04 1537.47 Q1250.45 1536.2 1245.01 1535.02 L1242.97 1534.54 Q1237.53 1533.4 1235.11 1531.04 Q1232.69 1528.65 1232.69 1524.52 Q1232.69 1519.49 1236.25 1516.75 Q1239.82 1514.01 1246.37 1514.01 Q1249.62 1514.01 1252.49 1514.49 Q1255.35 1514.97 1257.77 1515.92 Z\" fill=\"#000000\" fill-rule=\"evenodd\" fill-opacity=\"1\" /><path clip-path=\"url(#clip080)\" d=\"M 0 0 M1296.31 1531.23 L1296.31 1534.1 L1269.39 1534.1 Q1269.77 1540.14 1273.02 1543.33 Q1276.29 1546.48 1282.12 1546.48 Q1285.49 1546.48 1288.64 1545.65 Q1291.83 1544.82 1294.95 1543.17 L1294.95 1548.71 Q1291.79 1550.04 1288.48 1550.74 Q1285.17 1551.44 1281.77 1551.44 Q1273.24 1551.44 1268.24 1546.48 Q1263.28 1541.51 1263.28 1533.05 Q1263.28 1524.29 1267.99 1519.17 Q1272.73 1514.01 1280.75 1514.01 Q1287.94 1514.01 1292.11 1518.66 Q1296.31 1523.27 1296.31 1531.23 M1290.46 1529.51 Q1290.39 1524.71 1287.75 1521.84 Q1285.14 1518.98 1280.81 1518.98 Q1275.91 1518.98 1272.95 1521.75 Q1270.02 1524.52 1269.58 1529.54 L1290.46 1529.51 Z\" fill=\"#000000\" fill-rule=\"evenodd\" fill-opacity=\"1\" /><path clip-path=\"url(#clip080)\" d=\"M 0 0 M1325.18 1515.92 L1325.18 1521.46 Q1322.7 1520.19 1320.03 1519.55 Q1317.35 1518.91 1314.49 1518.91 Q1310.13 1518.91 1307.93 1520.25 Q1305.77 1521.59 1305.77 1524.26 Q1305.77 1526.3 1307.33 1527.48 Q1308.89 1528.62 1313.6 1529.67 L1315.6 1530.12 Q1321.84 1531.45 1324.45 1533.91 Q1327.09 1536.32 1327.09 1540.68 Q1327.09 1545.65 1323.15 1548.55 Q1319.23 1551.44 1312.36 1551.44 Q1309.49 1551.44 1306.37 1550.87 Q1303.28 1550.33 1299.85 1549.21 L1299.85 1543.17 Q1303.09 1544.85 1306.24 1545.71 Q1309.4 1546.54 1312.48 1546.54 Q1316.62 1546.54 1318.85 1545.14 Q1321.08 1543.71 1321.08 1541.13 Q1321.08 1538.74 1319.45 1537.47 Q1317.86 1536.2 1312.42 1535.02 L1310.38 1534.54 Q1304.94 1533.4 1302.52 1531.04 Q1300.1 1528.65 1300.1 1524.52 Q1300.1 1519.49 1303.67 1516.75 Q1307.23 1514.01 1313.79 1514.01 Q1317.03 1514.01 1319.9 1514.49 Q1322.76 1514.97 1325.18 1515.92 Z\" fill=\"#000000\" fill-rule=\"evenodd\" fill-opacity=\"1\" /><path clip-path=\"url(#clip080)\" d=\"M 0 0 M1384.45 1531.23 L1384.45 1534.1 L1357.52 1534.1 Q1357.9 1540.14 1361.15 1543.33 Q1364.43 1546.48 1370.25 1546.48 Q1373.63 1546.48 1376.78 1545.65 Q1379.96 1544.82 1383.08 1543.17 L1383.08 1548.71 Q1379.93 1550.04 1376.62 1550.74 Q1373.31 1551.44 1369.9 1551.44 Q1361.37 1551.44 1356.37 1546.48 Q1351.41 1541.51 1351.41 1533.05 Q1351.41 1524.29 1356.12 1519.17 Q1360.86 1514.01 1368.88 1514.01 Q1376.08 1514.01 1380.25 1518.66 Q1384.45 1523.27 1384.45 1531.23 M1378.59 1529.51 Q1378.53 1524.71 1375.89 1521.84 Q1373.28 1518.98 1368.95 1518.98 Q1364.05 1518.98 1361.08 1521.75 Q1358.16 1524.52 1357.71 1529.54 L1378.59 1529.51 Z\" fill=\"#000000\" fill-rule=\"evenodd\" fill-opacity=\"1\" /><path clip-path=\"url(#clip080)\" d=\"M 0 0 M1386.39 1514.87 L1392.6 1514.87 L1403.74 1544.79 L1414.88 1514.87 L1421.08 1514.87 L1407.71 1550.52 L1399.76 1550.52 L1386.39 1514.87 Z\" fill=\"#000000\" fill-rule=\"evenodd\" fill-opacity=\"1\" /><path clip-path=\"url(#clip080)\" d=\"M 0 0 M1457.72 1531.23 L1457.72 1534.1 L1430.79 1534.1 Q1431.17 1540.14 1434.42 1543.33 Q1437.7 1546.48 1443.52 1546.48 Q1446.89 1546.48 1450.05 1545.65 Q1453.23 1544.82 1456.35 1543.17 L1456.35 1548.71 Q1453.2 1550.04 1449.89 1550.74 Q1446.58 1551.44 1443.17 1551.44 Q1434.64 1551.44 1429.64 1546.48 Q1424.68 1541.51 1424.68 1533.05 Q1424.68 1524.29 1429.39 1519.17 Q1434.13 1514.01 1442.15 1514.01 Q1449.35 1514.01 1453.52 1518.66 Q1457.72 1523.27 1457.72 1531.23 M1451.86 1529.51 Q1451.8 1524.71 1449.15 1521.84 Q1446.54 1518.98 1442.22 1518.98 Q1437.31 1518.98 1434.35 1521.75 Q1431.43 1524.52 1430.98 1529.54 L1451.86 1529.51 Z\" fill=\"#000000\" fill-rule=\"evenodd\" fill-opacity=\"1\" /><path clip-path=\"url(#clip080)\" d=\"M 0 0 M1484.52 1520.35 Q1483.53 1519.77 1482.35 1519.52 Q1481.21 1519.23 1479.81 1519.23 Q1474.84 1519.23 1472.17 1522.48 Q1469.52 1525.69 1469.52 1531.74 L1469.52 1550.52 L1463.64 1550.52 L1463.64 1514.87 L1469.52 1514.87 L1469.52 1520.41 Q1471.37 1517.16 1474.33 1515.6 Q1477.29 1514.01 1481.52 1514.01 Q1482.13 1514.01 1482.86 1514.11 Q1483.59 1514.17 1484.48 1514.33 L1484.52 1520.35 Z\" fill=\"#000000\" fill-rule=\"evenodd\" fill-opacity=\"1\" /><path clip-path=\"url(#clip080)\" d=\"M 0 0 M1505.49 1553.83 Q1503.01 1560.2 1500.65 1562.14 Q1498.3 1564.08 1494.35 1564.08 L1489.67 1564.08 L1489.67 1559.18 L1493.11 1559.18 Q1495.53 1559.18 1496.87 1558.03 Q1498.2 1556.89 1499.83 1552.62 L1500.88 1549.95 L1486.46 1514.87 L1492.66 1514.87 L1503.8 1542.75 L1514.94 1514.87 L1521.15 1514.87 L1505.49 1553.83 Z\" fill=\"#000000\" fill-rule=\"evenodd\" fill-opacity=\"1\" /><path clip-path=\"url(#clip080)\" d=\"M 0 0 M1549.96 1545.11 L1560.46 1545.11 L1560.46 1508.86 L1549.03 1511.15 L1549.03 1505.29 L1560.4 1503 L1566.82 1503 L1566.82 1545.11 L1577.33 1545.11 L1577.33 1550.52 L1549.96 1550.52 L1549.96 1545.11 Z\" fill=\"#000000\" fill-rule=\"evenodd\" fill-opacity=\"1\" /><path clip-path=\"url(#clip080)\" d=\"M 0 0 M1601.96 1508.6 L1585.73 1533.97 L1601.96 1533.97 L1601.96 1508.6 M1600.28 1503 L1608.36 1503 L1608.36 1533.97 L1615.14 1533.97 L1615.14 1539.32 L1608.36 1539.32 L1608.36 1550.52 L1601.96 1550.52 L1601.96 1539.32 L1580.51 1539.32 L1580.51 1533.11 L1600.28 1503 Z\" fill=\"#000000\" fill-rule=\"evenodd\" fill-opacity=\"1\" /><path clip-path=\"url(#clip080)\" d=\"M 0 0 M1665.46 1520.28 L1665.46 1500.99 L1671.32 1500.99 L1671.32 1550.52 L1665.46 1550.52 L1665.46 1545.17 Q1663.62 1548.36 1660.78 1549.92 Q1657.98 1551.44 1654.03 1551.44 Q1647.57 1551.44 1643.5 1546.29 Q1639.46 1541.13 1639.46 1532.73 Q1639.46 1524.33 1643.5 1519.17 Q1647.57 1514.01 1654.03 1514.01 Q1657.98 1514.01 1660.78 1515.57 Q1663.62 1517.1 1665.46 1520.28 M1645.5 1532.73 Q1645.5 1539.19 1648.15 1542.88 Q1650.82 1546.54 1655.47 1546.54 Q1660.11 1546.54 1662.79 1542.88 Q1665.46 1539.19 1665.46 1532.73 Q1665.46 1526.27 1662.79 1522.61 Q1660.11 1518.91 1655.47 1518.91 Q1650.82 1518.91 1648.15 1522.61 Q1645.5 1526.27 1645.5 1532.73 Z\" fill=\"#000000\" fill-rule=\"evenodd\" fill-opacity=\"1\" /><path clip-path=\"url(#clip080)\" d=\"M 0 0 M1693.66 1532.6 Q1686.56 1532.6 1683.83 1534.22 Q1681.09 1535.85 1681.09 1539.76 Q1681.09 1542.88 1683.13 1544.73 Q1685.19 1546.54 1688.73 1546.54 Q1693.6 1546.54 1696.53 1543.1 Q1699.49 1539.63 1699.49 1533.91 L1699.49 1532.6 L1693.66 1532.6 M1705.34 1530.18 L1705.34 1550.52 L1699.49 1550.52 L1699.49 1545.11 Q1697.48 1548.36 1694.49 1549.92 Q1691.5 1551.44 1687.17 1551.44 Q1681.69 1551.44 1678.45 1548.39 Q1675.23 1545.3 1675.23 1540.14 Q1675.23 1534.13 1679.24 1531.07 Q1683.29 1528.02 1691.27 1528.02 L1699.49 1528.02 L1699.49 1527.44 Q1699.49 1523.4 1696.81 1521.21 Q1694.17 1518.98 1689.36 1518.98 Q1686.31 1518.98 1683.41 1519.71 Q1680.52 1520.44 1677.84 1521.91 L1677.84 1516.5 Q1681.06 1515.25 1684.08 1514.65 Q1687.1 1514.01 1689.97 1514.01 Q1697.7 1514.01 1701.52 1518.02 Q1705.34 1522.03 1705.34 1530.18 Z\" fill=\"#000000\" fill-rule=\"evenodd\" fill-opacity=\"1\" /><path clip-path=\"url(#clip080)\" d=\"M 0 0 M1726.32 1553.83 Q1723.83 1560.2 1721.48 1562.14 Q1719.12 1564.08 1715.18 1564.08 L1710.5 1564.08 L1710.5 1559.18 L1713.94 1559.18 Q1716.36 1559.18 1717.69 1558.03 Q1719.03 1556.89 1720.65 1552.62 L1721.7 1549.95 L1707.28 1514.87 L1713.49 1514.87 L1724.63 1542.75 L1735.77 1514.87 L1741.98 1514.87 L1726.32 1553.83 Z\" fill=\"#000000\" fill-rule=\"evenodd\" fill-opacity=\"1\" /><path clip-path=\"url(#clip080)\" d=\"M 0 0 M1770.85 1515.92 L1770.85 1521.46 Q1768.36 1520.19 1765.69 1519.55 Q1763.02 1518.91 1760.15 1518.91 Q1755.79 1518.91 1753.59 1520.25 Q1751.43 1521.59 1751.43 1524.26 Q1751.43 1526.3 1752.99 1527.48 Q1754.55 1528.62 1759.26 1529.67 L1761.27 1530.12 Q1767.5 1531.45 1770.11 1533.91 Q1772.76 1536.32 1772.76 1540.68 Q1772.76 1545.65 1768.81 1548.55 Q1764.89 1551.44 1758.02 1551.44 Q1755.15 1551.44 1752.03 1550.87 Q1748.95 1550.33 1745.51 1549.21 L1745.51 1543.17 Q1748.76 1544.85 1751.91 1545.71 Q1755.06 1546.54 1758.15 1546.54 Q1762.28 1546.54 1764.51 1545.14 Q1766.74 1543.71 1766.74 1541.13 Q1766.74 1538.74 1765.12 1537.47 Q1763.52 1536.2 1758.08 1535.02 L1756.05 1534.54 Q1750.6 1533.4 1748.18 1531.04 Q1745.76 1528.65 1745.76 1524.52 Q1745.76 1519.49 1749.33 1516.75 Q1752.89 1514.01 1759.45 1514.01 Q1762.7 1514.01 1765.56 1514.49 Q1768.43 1514.97 1770.85 1515.92 Z\" fill=\"#000000\" fill-rule=\"evenodd\" fill-opacity=\"1\" /><path clip-path=\"url(#clip080)\" d=\"M 0 0 M40.4842 1012.05 L40.4842 971.854 L45.895 971.854 L45.895 988.723 L88.0042 988.723 L88.0042 995.184 L45.895 995.184 L45.895 1012.05 L40.4842 1012.05 Z\" fill=\"#000000\" fill-rule=\"evenodd\" fill-opacity=\"1\" /><path clip-path=\"url(#clip080)\" d=\"M 0 0 M56.4621 962.974 Q56.4621 967.685 60.1542 970.422 Q63.8145 973.159 70.212 973.159 Q76.6095 973.159 80.3017 970.454 Q83.9619 967.716 83.9619 962.974 Q83.9619 958.295 80.2698 955.558 Q76.5777 952.821 70.212 952.821 Q63.8781 952.821 60.186 955.558 Q56.4621 958.295 56.4621 962.974 M51.4968 962.974 Q51.4968 955.335 56.4621 950.975 Q61.4273 946.614 70.212 946.614 Q78.9649 946.614 83.9619 950.975 Q88.9272 955.335 88.9272 962.974 Q88.9272 970.645 83.9619 975.005 Q78.9649 979.334 70.212 979.334 Q61.4273 979.334 56.4621 975.005 Q51.4968 970.645 51.4968 962.974 Z\" fill=\"#000000\" fill-rule=\"evenodd\" fill-opacity=\"1\" /><path clip-path=\"url(#clip080)\" d=\"M 0 0 M42.2347 934.678 L52.3562 934.678 L52.3562 922.615 L56.9077 922.615 L56.9077 934.678 L76.2594 934.678 Q80.6199 934.678 81.8613 933.501 Q83.1026 932.291 83.1026 928.631 L83.1026 922.615 L88.0042 922.615 L88.0042 928.631 Q88.0042 935.41 85.4897 937.988 Q82.9434 940.567 76.2594 940.567 L56.9077 940.567 L56.9077 944.863 L52.3562 944.863 L52.3562 940.567 L42.2347 940.567 L42.2347 934.678 Z\" fill=\"#000000\" fill-rule=\"evenodd\" fill-opacity=\"1\" /><path clip-path=\"url(#clip080)\" d=\"M 0 0 M70.0847 900.272 Q70.0847 907.369 71.7079 910.107 Q73.3312 912.844 77.2461 912.844 Q80.3653 912.844 82.2114 910.807 Q84.0256 908.738 84.0256 905.205 Q84.0256 900.335 80.5881 897.407 Q77.1188 894.447 71.3897 894.447 L70.0847 894.447 L70.0847 900.272 M67.6657 888.591 L88.0042 888.591 L88.0042 894.447 L82.5933 894.447 Q85.8398 896.452 87.3994 899.444 Q88.9272 902.436 88.9272 906.765 Q88.9272 912.239 85.8716 915.486 Q82.7843 918.7 77.6281 918.7 Q71.6125 918.7 68.5569 914.69 Q65.5014 910.648 65.5014 902.659 L65.5014 894.447 L64.9285 894.447 Q60.8862 894.447 58.6901 897.121 Q56.4621 899.762 56.4621 904.569 Q56.4621 907.624 57.1941 910.52 Q57.9262 913.417 59.3903 916.09 L53.9795 916.09 Q52.7381 912.876 52.1334 909.852 Q51.4968 906.828 51.4968 903.964 Q51.4968 896.229 55.5072 892.41 Q59.5176 888.591 67.6657 888.591 Z\" fill=\"#000000\" fill-rule=\"evenodd\" fill-opacity=\"1\" /><path clip-path=\"url(#clip080)\" d=\"M 0 0 M38.479 882.448 L38.479 876.591 L88.0042 876.591 L88.0042 882.448 L38.479 882.448 Z\" fill=\"#000000\" fill-rule=\"evenodd\" fill-opacity=\"1\" /><path clip-path=\"url(#clip080)\" d=\"M 0 0 M53.7248 824.074 L59.1993 824.074 Q57.8307 826.557 57.1623 829.071 Q56.4621 831.554 56.4621 834.1 Q56.4621 839.797 60.0905 842.948 Q63.6872 846.1 70.212 846.1 Q76.7369 846.1 80.3653 842.948 Q83.9619 839.797 83.9619 834.1 Q83.9619 831.554 83.2935 829.071 Q82.5933 826.557 81.2247 824.074 L86.6355 824.074 Q87.7814 826.525 88.3543 829.167 Q88.9272 831.777 88.9272 834.737 Q88.9272 842.789 83.8664 847.532 Q78.8057 852.274 70.212 852.274 Q61.491 852.274 56.4939 847.5 Q51.4968 842.694 51.4968 834.355 Q51.4968 831.649 52.0697 829.071 Q52.6108 826.493 53.7248 824.074 Z\" fill=\"#000000\" fill-rule=\"evenodd\" fill-opacity=\"1\" /><path clip-path=\"url(#clip080)\" d=\"M 0 0 M56.4621 804.118 Q56.4621 808.828 60.1542 811.566 Q63.8145 814.303 70.212 814.303 Q76.6095 814.303 80.3017 811.597 Q83.9619 808.86 83.9619 804.118 Q83.9619 799.439 80.2698 796.702 Q76.5777 793.964 70.212 793.964 Q63.8781 793.964 60.186 796.702 Q56.4621 799.439 56.4621 804.118 M51.4968 804.118 Q51.4968 796.479 56.4621 792.118 Q61.4273 787.758 70.212 787.758 Q78.9649 787.758 83.9619 792.118 Q88.9272 796.479 88.9272 804.118 Q88.9272 811.788 83.9619 816.149 Q78.9649 820.478 70.212 820.478 Q61.4273 820.478 56.4621 816.149 Q51.4968 811.788 51.4968 804.118 Z\" fill=\"#000000\" fill-rule=\"evenodd\" fill-opacity=\"1\" /><path clip-path=\"url(#clip080)\" d=\"M 0 0 M66.4881 751.983 L88.0042 751.983 L88.0042 757.839 L66.679 757.839 Q61.6183 757.839 59.1038 759.812 Q56.5894 761.786 56.5894 765.732 Q56.5894 770.475 59.6131 773.212 Q62.6368 775.949 67.8567 775.949 L88.0042 775.949 L88.0042 781.838 L52.3562 781.838 L52.3562 775.949 L57.8944 775.949 Q54.6797 773.849 53.0883 771.016 Q51.4968 768.151 51.4968 764.427 Q51.4968 758.285 55.3163 755.134 Q59.1038 751.983 66.4881 751.983 Z\" fill=\"#000000\" fill-rule=\"evenodd\" fill-opacity=\"1\" /><path clip-path=\"url(#clip080)\" d=\"M 0 0 M38.479 727.793 L43.3487 727.793 L43.3487 733.395 Q43.3487 736.546 44.6219 737.787 Q45.895 738.996 49.2052 738.996 L52.3562 738.996 L52.3562 729.352 L56.9077 729.352 L56.9077 738.996 L88.0042 738.996 L88.0042 744.885 L56.9077 744.885 L56.9077 750.487 L52.3562 750.487 L52.3562 744.885 L49.8736 744.885 Q43.9216 744.885 41.2162 742.116 Q38.479 739.347 38.479 733.331 L38.479 727.793 Z\" fill=\"#000000\" fill-rule=\"evenodd\" fill-opacity=\"1\" /><path clip-path=\"url(#clip080)\" d=\"M 0 0 M52.3562 721.65 L52.3562 715.793 L88.0042 715.793 L88.0042 721.65 L52.3562 721.65 M38.479 721.65 L38.479 715.793 L45.895 715.793 L45.895 721.65 L38.479 721.65 Z\" fill=\"#000000\" fill-rule=\"evenodd\" fill-opacity=\"1\" /><path clip-path=\"url(#clip080)\" d=\"M 0 0 M57.8307 688.994 Q57.2578 689.981 57.0032 691.158 Q56.7167 692.304 56.7167 693.704 Q56.7167 698.67 59.9632 701.343 Q63.1779 703.985 69.2253 703.985 L88.0042 703.985 L88.0042 709.873 L52.3562 709.873 L52.3562 703.985 L57.8944 703.985 Q54.6479 702.139 53.0883 699.179 Q51.4968 696.219 51.4968 691.986 Q51.4968 691.381 51.5923 690.649 Q51.656 689.917 51.8151 689.026 L57.8307 688.994 Z\" fill=\"#000000\" fill-rule=\"evenodd\" fill-opacity=\"1\" /><path clip-path=\"url(#clip080)\" d=\"M 0 0 M59.1993 656.242 Q55.2526 654.046 53.3747 650.991 Q51.4968 647.935 51.4968 643.797 Q51.4968 638.227 55.4117 635.204 Q59.2948 632.18 66.4881 632.18 L88.0042 632.18 L88.0042 638.068 L66.679 638.068 Q61.5546 638.068 59.072 639.882 Q56.5894 641.697 56.5894 645.421 Q56.5894 649.972 59.6131 652.614 Q62.6368 655.256 67.8567 655.256 L88.0042 655.256 L88.0042 661.144 L66.679 661.144 Q61.5228 661.144 59.072 662.958 Q56.5894 664.772 56.5894 668.56 Q56.5894 673.048 59.6449 675.69 Q62.6686 678.331 67.8567 678.331 L88.0042 678.331 L88.0042 684.22 L52.3562 684.22 L52.3562 678.331 L57.8944 678.331 Q54.616 676.326 53.0564 673.525 Q51.4968 670.724 51.4968 666.873 Q51.4968 662.99 53.4702 660.285 Q55.4436 657.547 59.1993 656.242 Z\" fill=\"#000000\" fill-rule=\"evenodd\" fill-opacity=\"1\" /><path clip-path=\"url(#clip080)\" d=\"M 0 0 M68.7161 595.545 L71.5806 595.545 L71.5806 622.472 Q77.6281 622.09 80.8109 618.844 Q83.9619 615.565 83.9619 609.741 Q83.9619 606.367 83.1344 603.216 Q82.3069 600.033 80.6518 596.914 L86.1899 596.914 Q87.5267 600.065 88.227 603.375 Q88.9272 606.685 88.9272 610.091 Q88.9272 618.621 83.9619 623.618 Q78.9967 628.583 70.5303 628.583 Q61.7774 628.583 56.6531 623.873 Q51.4968 619.13 51.4968 611.109 Q51.4968 603.916 56.1438 599.747 Q60.7589 595.545 68.7161 595.545 M66.9973 601.402 Q62.1912 601.465 59.3266 604.107 Q56.4621 606.717 56.4621 611.046 Q56.4621 615.947 59.2312 618.907 Q62.0002 621.836 67.0292 622.281 L66.9973 601.402 Z\" fill=\"#000000\" fill-rule=\"evenodd\" fill-opacity=\"1\" /><path clip-path=\"url(#clip080)\" d=\"M 0 0 M57.7671 565.945 L38.479 565.945 L38.479 560.088 L88.0042 560.088 L88.0042 565.945 L82.657 565.945 Q85.8398 567.791 87.3994 570.624 Q88.9272 573.424 88.9272 577.371 Q88.9272 583.832 83.771 587.906 Q78.6147 591.949 70.212 591.949 Q61.8093 591.949 56.6531 587.906 Q51.4968 583.832 51.4968 577.371 Q51.4968 573.424 53.0564 570.624 Q54.5842 567.791 57.7671 565.945 M70.212 585.901 Q76.6732 585.901 80.3653 583.259 Q84.0256 580.586 84.0256 575.939 Q84.0256 571.292 80.3653 568.618 Q76.6732 565.945 70.212 565.945 Q63.7508 565.945 60.0905 568.618 Q56.3984 571.292 56.3984 575.939 Q56.3984 580.586 60.0905 583.259 Q63.7508 585.901 70.212 585.901 Z\" fill=\"#000000\" fill-rule=\"evenodd\" fill-opacity=\"1\" /><path clip-path=\"url(#clip080)\" d=\"M 0 0 M53.7248 507.571 L59.1993 507.571 Q57.8307 510.054 57.1623 512.568 Q56.4621 515.051 56.4621 517.597 Q56.4621 523.295 60.0905 526.446 Q63.6872 529.597 70.212 529.597 Q76.7369 529.597 80.3653 526.446 Q83.9619 523.295 83.9619 517.597 Q83.9619 515.051 83.2935 512.568 Q82.5933 510.054 81.2247 507.571 L86.6355 507.571 Q87.7814 510.022 88.3543 512.664 Q88.9272 515.274 88.9272 518.234 Q88.9272 526.286 83.8664 531.029 Q78.8057 535.771 70.212 535.771 Q61.491 535.771 56.4939 530.997 Q51.4968 526.191 51.4968 517.852 Q51.4968 515.146 52.0697 512.568 Q52.6108 509.99 53.7248 507.571 Z\" fill=\"#000000\" fill-rule=\"evenodd\" fill-opacity=\"1\" /><path clip-path=\"url(#clip080)\" d=\"M 0 0 M70.0847 485.228 Q70.0847 492.325 71.7079 495.063 Q73.3312 497.8 77.2461 497.8 Q80.3653 497.8 82.2114 495.763 Q84.0256 493.694 84.0256 490.161 Q84.0256 485.291 80.5881 482.363 Q77.1188 479.403 71.3897 479.403 L70.0847 479.403 L70.0847 485.228 M67.6657 473.547 L88.0042 473.547 L88.0042 479.403 L82.5933 479.403 Q85.8398 481.408 87.3994 484.4 Q88.9272 487.392 88.9272 491.721 Q88.9272 497.195 85.8716 500.442 Q82.7843 503.656 77.6281 503.656 Q71.6125 503.656 68.5569 499.646 Q65.5014 495.604 65.5014 487.615 L65.5014 479.403 L64.9285 479.403 Q60.8862 479.403 58.6901 482.077 Q56.4621 484.718 56.4621 489.524 Q56.4621 492.58 57.1941 495.476 Q57.9262 498.373 59.3903 501.046 L53.9795 501.046 Q52.7381 497.832 52.1334 494.808 Q51.4968 491.784 51.4968 488.92 Q51.4968 481.185 55.5072 477.366 Q59.5176 473.547 67.6657 473.547 Z\" fill=\"#000000\" fill-rule=\"evenodd\" fill-opacity=\"1\" /><path clip-path=\"url(#clip080)\" d=\"M 0 0 M53.4065 444.678 L58.9447 444.678 Q57.6716 447.161 57.035 449.834 Q56.3984 452.508 56.3984 455.372 Q56.3984 459.733 57.7352 461.929 Q59.072 464.093 61.7456 464.093 Q63.7826 464.093 64.9603 462.534 Q66.1061 460.974 67.1565 456.264 L67.6021 454.258 Q68.9389 448.02 71.3897 445.41 Q73.8086 442.768 78.1691 442.768 Q83.1344 442.768 86.0308 446.715 Q88.9272 450.63 88.9272 457.505 Q88.9272 460.37 88.3543 463.489 Q87.8132 466.576 86.6992 470.014 L80.6518 470.014 Q82.3387 466.767 83.198 463.616 Q84.0256 460.465 84.0256 457.378 Q84.0256 453.24 82.6251 451.012 Q81.1929 448.784 78.6147 448.784 Q76.2276 448.784 74.9545 450.407 Q73.6813 451.999 72.5037 457.441 L72.0262 459.478 Q70.8804 464.921 68.5251 467.34 Q66.138 469.759 62.0002 469.759 Q56.9713 469.759 54.2341 466.194 Q51.4968 462.629 51.4968 456.073 Q51.4968 452.826 51.9743 449.962 Q52.4517 447.097 53.4065 444.678 Z\" fill=\"#000000\" fill-rule=\"evenodd\" fill-opacity=\"1\" /><path clip-path=\"url(#clip080)\" d=\"M 0 0 M68.7161 406.134 L71.5806 406.134 L71.5806 433.061 Q77.6281 432.679 80.8109 429.432 Q83.9619 426.154 83.9619 420.329 Q83.9619 416.955 83.1344 413.804 Q82.3069 410.622 80.6518 407.502 L86.1899 407.502 Q87.5267 410.653 88.227 413.964 Q88.9272 417.274 88.9272 420.679 Q88.9272 429.209 83.9619 434.206 Q78.9967 439.172 70.5303 439.172 Q61.7774 439.172 56.6531 434.461 Q51.4968 429.719 51.4968 421.698 Q51.4968 414.505 56.1438 410.335 Q60.7589 406.134 68.7161 406.134 M66.9973 411.99 Q62.1912 412.054 59.3266 414.696 Q56.4621 417.306 56.4621 421.634 Q56.4621 426.536 59.2312 429.496 Q62.0002 432.424 67.0292 432.87 L66.9973 411.99 Z\" fill=\"#000000\" fill-rule=\"evenodd\" fill-opacity=\"1\" /><path clip-path=\"url(#clip080)\" d=\"M 0 0 M53.4065 377.265 L58.9447 377.265 Q57.6716 379.748 57.035 382.421 Q56.3984 385.095 56.3984 387.96 Q56.3984 392.32 57.7352 394.516 Q59.072 396.681 61.7456 396.681 Q63.7826 396.681 64.9603 395.121 Q66.1061 393.561 67.1565 388.851 L67.6021 386.846 Q68.9389 380.607 71.3897 377.997 Q73.8086 375.356 78.1691 375.356 Q83.1344 375.356 86.0308 379.302 Q88.9272 383.217 88.9272 390.092 Q88.9272 392.957 88.3543 396.076 Q87.8132 399.163 86.6992 402.601 L80.6518 402.601 Q82.3387 399.354 83.198 396.203 Q84.0256 393.052 84.0256 389.965 Q84.0256 385.827 82.6251 383.599 Q81.1929 381.371 78.6147 381.371 Q76.2276 381.371 74.9545 382.994 Q73.6813 384.586 72.5037 390.028 L72.0262 392.065 Q70.8804 397.508 68.5251 399.927 Q66.138 402.346 62.0002 402.346 Q56.9713 402.346 54.2341 398.781 Q51.4968 395.217 51.4968 388.66 Q51.4968 385.413 51.9743 382.549 Q52.4517 379.684 53.4065 377.265 Z\" fill=\"#000000\" fill-rule=\"evenodd\" fill-opacity=\"1\" /><polyline clip-path=\"url(#clip082)\" style=\"stroke:#009af9; stroke-width:4; stroke-opacity:1; fill:none\" points=\"\n",
       "  319.279,1231.66 333.085,1231.66 346.891,1231.66 360.697,1140.78 374.502,1140.78 388.308,1070.7 402.114,1019.49 415.92,997.299 429.726,968.774 443.532,930.762 \n",
       "  457.338,906.423 471.144,890.267 484.95,890.267 498.756,838.447 512.562,817.185 526.368,792.565 540.174,778.306 553.98,767.347 567.786,735.639 581.592,709.11 \n",
       "  595.398,688.704 609.204,666.527 623.009,647.27 636.815,646.076 650.621,639.837 664.427,636.916 678.233,635.249 692.039,633.614 705.845,628.84 719.651,626.442 \n",
       "  733.457,622.158 747.263,618.583 761.069,617.048 774.875,614.013 788.681,609.593 802.487,605.696 816.293,602.796 830.099,601.77 843.905,596.058 857.71,592.372 \n",
       "  871.516,587.323 885.322,584.264 899.128,581.059 912.934,575.591 926.74,568.448 940.546,565.135 954.352,561.497 968.158,557.461 981.964,553.499 995.77,546.561 \n",
       "  1009.58,541.155 1023.38,538.436 1037.19,535 1050.99,530.623 1064.8,527.192 1078.61,521.529 1092.41,517.06 1106.22,512.722 1120.02,507.537 1133.83,501.898 \n",
       "  1147.64,496.733 1161.44,492.796 1175.25,490.257 1189.05,485.883 1202.86,479.475 1216.66,474.732 1230.47,469.665 1244.28,464.564 1258.08,459.314 1271.89,454.199 \n",
       "  1285.69,449.764 1299.5,444.818 1313.31,439.885 1327.11,433.457 1340.92,428.702 1354.72,424.929 1368.53,421.154 1382.34,416.101 1396.14,411.937 1409.95,407.077 \n",
       "  1423.75,402.405 1437.56,398.709 1451.37,396.466 1465.17,390.951 1478.98,386.403 1492.78,381.035 1506.59,376.289 1520.4,371.827 1534.2,367.696 1548.01,364.265 \n",
       "  1561.81,360.4 1575.62,353.494 1589.43,348.303 1603.23,343.604 1617.04,339.545 1630.84,335.216 1644.65,331.852 1658.46,328.143 1672.26,323.575 1686.07,318.962 \n",
       "  1699.87,314.024 1713.68,308.78 1727.48,304.752 1741.29,301.66 1755.1,297.355 1768.9,293.852 1782.71,290.164 1796.51,285.609 1810.32,281.584 1824.13,278.017 \n",
       "  1837.93,274.417 1851.74,270.098 1865.54,265.368 1879.35,261.135 1893.16,256.481 1906.96,252.599 1920.77,249.007 1934.57,245.118 1948.38,240.789 1962.19,236.377 \n",
       "  1975.99,232.033 1989.8,227.113 2003.6,223.34 2017.41,219.652 2031.22,215.674 2045.02,212.365 2058.83,207.478 2072.63,203.3 2086.44,198.962 2100.25,195.27 \n",
       "  2114.05,191.881 2127.86,188.918 2141.66,185.454 2155.47,182.023 2169.27,178.679 2183.08,175.487 2196.89,172.375 2210.69,170.29 2224.5,168.501 2238.3,165.7 \n",
       "  2252.11,163 2265.92,160.22 2279.72,157.862 2293.53,155.749 \n",
       "  \"/>\n",
       "<circle clip-path=\"url(#clip082)\" cx=\"319.279\" cy=\"1231.66\" r=\"14\" fill=\"#e26f46\" fill-rule=\"evenodd\" fill-opacity=\"1\" stroke=\"#000000\" stroke-opacity=\"1\" stroke-width=\"3.2\"/>\n",
       "<circle clip-path=\"url(#clip082)\" cx=\"333.085\" cy=\"1231.66\" r=\"14\" fill=\"#e26f46\" fill-rule=\"evenodd\" fill-opacity=\"1\" stroke=\"#000000\" stroke-opacity=\"1\" stroke-width=\"3.2\"/>\n",
       "<circle clip-path=\"url(#clip082)\" cx=\"346.891\" cy=\"1231.66\" r=\"14\" fill=\"#e26f46\" fill-rule=\"evenodd\" fill-opacity=\"1\" stroke=\"#000000\" stroke-opacity=\"1\" stroke-width=\"3.2\"/>\n",
       "<circle clip-path=\"url(#clip082)\" cx=\"360.697\" cy=\"1140.78\" r=\"14\" fill=\"#e26f46\" fill-rule=\"evenodd\" fill-opacity=\"1\" stroke=\"#000000\" stroke-opacity=\"1\" stroke-width=\"3.2\"/>\n",
       "<circle clip-path=\"url(#clip082)\" cx=\"374.502\" cy=\"1140.78\" r=\"14\" fill=\"#e26f46\" fill-rule=\"evenodd\" fill-opacity=\"1\" stroke=\"#000000\" stroke-opacity=\"1\" stroke-width=\"3.2\"/>\n",
       "<circle clip-path=\"url(#clip082)\" cx=\"388.308\" cy=\"1070.7\" r=\"14\" fill=\"#e26f46\" fill-rule=\"evenodd\" fill-opacity=\"1\" stroke=\"#000000\" stroke-opacity=\"1\" stroke-width=\"3.2\"/>\n",
       "<circle clip-path=\"url(#clip082)\" cx=\"402.114\" cy=\"1019.49\" r=\"14\" fill=\"#e26f46\" fill-rule=\"evenodd\" fill-opacity=\"1\" stroke=\"#000000\" stroke-opacity=\"1\" stroke-width=\"3.2\"/>\n",
       "<circle clip-path=\"url(#clip082)\" cx=\"415.92\" cy=\"997.299\" r=\"14\" fill=\"#e26f46\" fill-rule=\"evenodd\" fill-opacity=\"1\" stroke=\"#000000\" stroke-opacity=\"1\" stroke-width=\"3.2\"/>\n",
       "<circle clip-path=\"url(#clip082)\" cx=\"429.726\" cy=\"968.774\" r=\"14\" fill=\"#e26f46\" fill-rule=\"evenodd\" fill-opacity=\"1\" stroke=\"#000000\" stroke-opacity=\"1\" stroke-width=\"3.2\"/>\n",
       "<circle clip-path=\"url(#clip082)\" cx=\"443.532\" cy=\"930.762\" r=\"14\" fill=\"#e26f46\" fill-rule=\"evenodd\" fill-opacity=\"1\" stroke=\"#000000\" stroke-opacity=\"1\" stroke-width=\"3.2\"/>\n",
       "<circle clip-path=\"url(#clip082)\" cx=\"457.338\" cy=\"906.423\" r=\"14\" fill=\"#e26f46\" fill-rule=\"evenodd\" fill-opacity=\"1\" stroke=\"#000000\" stroke-opacity=\"1\" stroke-width=\"3.2\"/>\n",
       "<circle clip-path=\"url(#clip082)\" cx=\"471.144\" cy=\"890.267\" r=\"14\" fill=\"#e26f46\" fill-rule=\"evenodd\" fill-opacity=\"1\" stroke=\"#000000\" stroke-opacity=\"1\" stroke-width=\"3.2\"/>\n",
       "<circle clip-path=\"url(#clip082)\" cx=\"484.95\" cy=\"890.267\" r=\"14\" fill=\"#e26f46\" fill-rule=\"evenodd\" fill-opacity=\"1\" stroke=\"#000000\" stroke-opacity=\"1\" stroke-width=\"3.2\"/>\n",
       "<circle clip-path=\"url(#clip082)\" cx=\"498.756\" cy=\"838.447\" r=\"14\" fill=\"#e26f46\" fill-rule=\"evenodd\" fill-opacity=\"1\" stroke=\"#000000\" stroke-opacity=\"1\" stroke-width=\"3.2\"/>\n",
       "<circle clip-path=\"url(#clip082)\" cx=\"512.562\" cy=\"817.185\" r=\"14\" fill=\"#e26f46\" fill-rule=\"evenodd\" fill-opacity=\"1\" stroke=\"#000000\" stroke-opacity=\"1\" stroke-width=\"3.2\"/>\n",
       "<circle clip-path=\"url(#clip082)\" cx=\"526.368\" cy=\"792.565\" r=\"14\" fill=\"#e26f46\" fill-rule=\"evenodd\" fill-opacity=\"1\" stroke=\"#000000\" stroke-opacity=\"1\" stroke-width=\"3.2\"/>\n",
       "<circle clip-path=\"url(#clip082)\" cx=\"540.174\" cy=\"778.306\" r=\"14\" fill=\"#e26f46\" fill-rule=\"evenodd\" fill-opacity=\"1\" stroke=\"#000000\" stroke-opacity=\"1\" stroke-width=\"3.2\"/>\n",
       "<circle clip-path=\"url(#clip082)\" cx=\"553.98\" cy=\"767.347\" r=\"14\" fill=\"#e26f46\" fill-rule=\"evenodd\" fill-opacity=\"1\" stroke=\"#000000\" stroke-opacity=\"1\" stroke-width=\"3.2\"/>\n",
       "<circle clip-path=\"url(#clip082)\" cx=\"567.786\" cy=\"735.639\" r=\"14\" fill=\"#e26f46\" fill-rule=\"evenodd\" fill-opacity=\"1\" stroke=\"#000000\" stroke-opacity=\"1\" stroke-width=\"3.2\"/>\n",
       "<circle clip-path=\"url(#clip082)\" cx=\"581.592\" cy=\"709.11\" r=\"14\" fill=\"#e26f46\" fill-rule=\"evenodd\" fill-opacity=\"1\" stroke=\"#000000\" stroke-opacity=\"1\" stroke-width=\"3.2\"/>\n",
       "<circle clip-path=\"url(#clip082)\" cx=\"595.398\" cy=\"688.704\" r=\"14\" fill=\"#e26f46\" fill-rule=\"evenodd\" fill-opacity=\"1\" stroke=\"#000000\" stroke-opacity=\"1\" stroke-width=\"3.2\"/>\n",
       "<circle clip-path=\"url(#clip082)\" cx=\"609.204\" cy=\"666.527\" r=\"14\" fill=\"#e26f46\" fill-rule=\"evenodd\" fill-opacity=\"1\" stroke=\"#000000\" stroke-opacity=\"1\" stroke-width=\"3.2\"/>\n",
       "<circle clip-path=\"url(#clip082)\" cx=\"623.009\" cy=\"647.27\" r=\"14\" fill=\"#e26f46\" fill-rule=\"evenodd\" fill-opacity=\"1\" stroke=\"#000000\" stroke-opacity=\"1\" stroke-width=\"3.2\"/>\n",
       "<circle clip-path=\"url(#clip082)\" cx=\"636.815\" cy=\"646.076\" r=\"14\" fill=\"#e26f46\" fill-rule=\"evenodd\" fill-opacity=\"1\" stroke=\"#000000\" stroke-opacity=\"1\" stroke-width=\"3.2\"/>\n",
       "<circle clip-path=\"url(#clip082)\" cx=\"650.621\" cy=\"639.837\" r=\"14\" fill=\"#e26f46\" fill-rule=\"evenodd\" fill-opacity=\"1\" stroke=\"#000000\" stroke-opacity=\"1\" stroke-width=\"3.2\"/>\n",
       "<circle clip-path=\"url(#clip082)\" cx=\"664.427\" cy=\"636.916\" r=\"14\" fill=\"#e26f46\" fill-rule=\"evenodd\" fill-opacity=\"1\" stroke=\"#000000\" stroke-opacity=\"1\" stroke-width=\"3.2\"/>\n",
       "<circle clip-path=\"url(#clip082)\" cx=\"678.233\" cy=\"635.249\" r=\"14\" fill=\"#e26f46\" fill-rule=\"evenodd\" fill-opacity=\"1\" stroke=\"#000000\" stroke-opacity=\"1\" stroke-width=\"3.2\"/>\n",
       "<circle clip-path=\"url(#clip082)\" cx=\"692.039\" cy=\"633.614\" r=\"14\" fill=\"#e26f46\" fill-rule=\"evenodd\" fill-opacity=\"1\" stroke=\"#000000\" stroke-opacity=\"1\" stroke-width=\"3.2\"/>\n",
       "<circle clip-path=\"url(#clip082)\" cx=\"705.845\" cy=\"628.84\" r=\"14\" fill=\"#e26f46\" fill-rule=\"evenodd\" fill-opacity=\"1\" stroke=\"#000000\" stroke-opacity=\"1\" stroke-width=\"3.2\"/>\n",
       "<circle clip-path=\"url(#clip082)\" cx=\"719.651\" cy=\"626.442\" r=\"14\" fill=\"#e26f46\" fill-rule=\"evenodd\" fill-opacity=\"1\" stroke=\"#000000\" stroke-opacity=\"1\" stroke-width=\"3.2\"/>\n",
       "<circle clip-path=\"url(#clip082)\" cx=\"733.457\" cy=\"622.158\" r=\"14\" fill=\"#e26f46\" fill-rule=\"evenodd\" fill-opacity=\"1\" stroke=\"#000000\" stroke-opacity=\"1\" stroke-width=\"3.2\"/>\n",
       "<circle clip-path=\"url(#clip082)\" cx=\"747.263\" cy=\"618.583\" r=\"14\" fill=\"#e26f46\" fill-rule=\"evenodd\" fill-opacity=\"1\" stroke=\"#000000\" stroke-opacity=\"1\" stroke-width=\"3.2\"/>\n",
       "<circle clip-path=\"url(#clip082)\" cx=\"761.069\" cy=\"617.048\" r=\"14\" fill=\"#e26f46\" fill-rule=\"evenodd\" fill-opacity=\"1\" stroke=\"#000000\" stroke-opacity=\"1\" stroke-width=\"3.2\"/>\n",
       "<circle clip-path=\"url(#clip082)\" cx=\"774.875\" cy=\"614.013\" r=\"14\" fill=\"#e26f46\" fill-rule=\"evenodd\" fill-opacity=\"1\" stroke=\"#000000\" stroke-opacity=\"1\" stroke-width=\"3.2\"/>\n",
       "<circle clip-path=\"url(#clip082)\" cx=\"788.681\" cy=\"609.593\" r=\"14\" fill=\"#e26f46\" fill-rule=\"evenodd\" fill-opacity=\"1\" stroke=\"#000000\" stroke-opacity=\"1\" stroke-width=\"3.2\"/>\n",
       "<circle clip-path=\"url(#clip082)\" cx=\"802.487\" cy=\"605.696\" r=\"14\" fill=\"#e26f46\" fill-rule=\"evenodd\" fill-opacity=\"1\" stroke=\"#000000\" stroke-opacity=\"1\" stroke-width=\"3.2\"/>\n",
       "<circle clip-path=\"url(#clip082)\" cx=\"816.293\" cy=\"602.796\" r=\"14\" fill=\"#e26f46\" fill-rule=\"evenodd\" fill-opacity=\"1\" stroke=\"#000000\" stroke-opacity=\"1\" stroke-width=\"3.2\"/>\n",
       "<circle clip-path=\"url(#clip082)\" cx=\"830.099\" cy=\"601.77\" r=\"14\" fill=\"#e26f46\" fill-rule=\"evenodd\" fill-opacity=\"1\" stroke=\"#000000\" stroke-opacity=\"1\" stroke-width=\"3.2\"/>\n",
       "<circle clip-path=\"url(#clip082)\" cx=\"843.905\" cy=\"596.058\" r=\"14\" fill=\"#e26f46\" fill-rule=\"evenodd\" fill-opacity=\"1\" stroke=\"#000000\" stroke-opacity=\"1\" stroke-width=\"3.2\"/>\n",
       "<circle clip-path=\"url(#clip082)\" cx=\"857.71\" cy=\"592.372\" r=\"14\" fill=\"#e26f46\" fill-rule=\"evenodd\" fill-opacity=\"1\" stroke=\"#000000\" stroke-opacity=\"1\" stroke-width=\"3.2\"/>\n",
       "<circle clip-path=\"url(#clip082)\" cx=\"871.516\" cy=\"587.323\" r=\"14\" fill=\"#e26f46\" fill-rule=\"evenodd\" fill-opacity=\"1\" stroke=\"#000000\" stroke-opacity=\"1\" stroke-width=\"3.2\"/>\n",
       "<circle clip-path=\"url(#clip082)\" cx=\"885.322\" cy=\"584.264\" r=\"14\" fill=\"#e26f46\" fill-rule=\"evenodd\" fill-opacity=\"1\" stroke=\"#000000\" stroke-opacity=\"1\" stroke-width=\"3.2\"/>\n",
       "<circle clip-path=\"url(#clip082)\" cx=\"899.128\" cy=\"581.059\" r=\"14\" fill=\"#e26f46\" fill-rule=\"evenodd\" fill-opacity=\"1\" stroke=\"#000000\" stroke-opacity=\"1\" stroke-width=\"3.2\"/>\n",
       "<circle clip-path=\"url(#clip082)\" cx=\"912.934\" cy=\"575.591\" r=\"14\" fill=\"#e26f46\" fill-rule=\"evenodd\" fill-opacity=\"1\" stroke=\"#000000\" stroke-opacity=\"1\" stroke-width=\"3.2\"/>\n",
       "<circle clip-path=\"url(#clip082)\" cx=\"926.74\" cy=\"568.448\" r=\"14\" fill=\"#e26f46\" fill-rule=\"evenodd\" fill-opacity=\"1\" stroke=\"#000000\" stroke-opacity=\"1\" stroke-width=\"3.2\"/>\n",
       "<circle clip-path=\"url(#clip082)\" cx=\"940.546\" cy=\"565.135\" r=\"14\" fill=\"#e26f46\" fill-rule=\"evenodd\" fill-opacity=\"1\" stroke=\"#000000\" stroke-opacity=\"1\" stroke-width=\"3.2\"/>\n",
       "<circle clip-path=\"url(#clip082)\" cx=\"954.352\" cy=\"561.497\" r=\"14\" fill=\"#e26f46\" fill-rule=\"evenodd\" fill-opacity=\"1\" stroke=\"#000000\" stroke-opacity=\"1\" stroke-width=\"3.2\"/>\n",
       "<circle clip-path=\"url(#clip082)\" cx=\"968.158\" cy=\"557.461\" r=\"14\" fill=\"#e26f46\" fill-rule=\"evenodd\" fill-opacity=\"1\" stroke=\"#000000\" stroke-opacity=\"1\" stroke-width=\"3.2\"/>\n",
       "<circle clip-path=\"url(#clip082)\" cx=\"981.964\" cy=\"553.499\" r=\"14\" fill=\"#e26f46\" fill-rule=\"evenodd\" fill-opacity=\"1\" stroke=\"#000000\" stroke-opacity=\"1\" stroke-width=\"3.2\"/>\n",
       "<circle clip-path=\"url(#clip082)\" cx=\"995.77\" cy=\"546.561\" r=\"14\" fill=\"#e26f46\" fill-rule=\"evenodd\" fill-opacity=\"1\" stroke=\"#000000\" stroke-opacity=\"1\" stroke-width=\"3.2\"/>\n",
       "<circle clip-path=\"url(#clip082)\" cx=\"1009.58\" cy=\"541.155\" r=\"14\" fill=\"#e26f46\" fill-rule=\"evenodd\" fill-opacity=\"1\" stroke=\"#000000\" stroke-opacity=\"1\" stroke-width=\"3.2\"/>\n",
       "<circle clip-path=\"url(#clip082)\" cx=\"1023.38\" cy=\"538.436\" r=\"14\" fill=\"#e26f46\" fill-rule=\"evenodd\" fill-opacity=\"1\" stroke=\"#000000\" stroke-opacity=\"1\" stroke-width=\"3.2\"/>\n",
       "<circle clip-path=\"url(#clip082)\" cx=\"1037.19\" cy=\"535\" r=\"14\" fill=\"#e26f46\" fill-rule=\"evenodd\" fill-opacity=\"1\" stroke=\"#000000\" stroke-opacity=\"1\" stroke-width=\"3.2\"/>\n",
       "<circle clip-path=\"url(#clip082)\" cx=\"1050.99\" cy=\"530.623\" r=\"14\" fill=\"#e26f46\" fill-rule=\"evenodd\" fill-opacity=\"1\" stroke=\"#000000\" stroke-opacity=\"1\" stroke-width=\"3.2\"/>\n",
       "<circle clip-path=\"url(#clip082)\" cx=\"1064.8\" cy=\"527.192\" r=\"14\" fill=\"#e26f46\" fill-rule=\"evenodd\" fill-opacity=\"1\" stroke=\"#000000\" stroke-opacity=\"1\" stroke-width=\"3.2\"/>\n",
       "<circle clip-path=\"url(#clip082)\" cx=\"1078.61\" cy=\"521.529\" r=\"14\" fill=\"#e26f46\" fill-rule=\"evenodd\" fill-opacity=\"1\" stroke=\"#000000\" stroke-opacity=\"1\" stroke-width=\"3.2\"/>\n",
       "<circle clip-path=\"url(#clip082)\" cx=\"1092.41\" cy=\"517.06\" r=\"14\" fill=\"#e26f46\" fill-rule=\"evenodd\" fill-opacity=\"1\" stroke=\"#000000\" stroke-opacity=\"1\" stroke-width=\"3.2\"/>\n",
       "<circle clip-path=\"url(#clip082)\" cx=\"1106.22\" cy=\"512.722\" r=\"14\" fill=\"#e26f46\" fill-rule=\"evenodd\" fill-opacity=\"1\" stroke=\"#000000\" stroke-opacity=\"1\" stroke-width=\"3.2\"/>\n",
       "<circle clip-path=\"url(#clip082)\" cx=\"1120.02\" cy=\"507.537\" r=\"14\" fill=\"#e26f46\" fill-rule=\"evenodd\" fill-opacity=\"1\" stroke=\"#000000\" stroke-opacity=\"1\" stroke-width=\"3.2\"/>\n",
       "<circle clip-path=\"url(#clip082)\" cx=\"1133.83\" cy=\"501.898\" r=\"14\" fill=\"#e26f46\" fill-rule=\"evenodd\" fill-opacity=\"1\" stroke=\"#000000\" stroke-opacity=\"1\" stroke-width=\"3.2\"/>\n",
       "<circle clip-path=\"url(#clip082)\" cx=\"1147.64\" cy=\"496.733\" r=\"14\" fill=\"#e26f46\" fill-rule=\"evenodd\" fill-opacity=\"1\" stroke=\"#000000\" stroke-opacity=\"1\" stroke-width=\"3.2\"/>\n",
       "<circle clip-path=\"url(#clip082)\" cx=\"1161.44\" cy=\"492.796\" r=\"14\" fill=\"#e26f46\" fill-rule=\"evenodd\" fill-opacity=\"1\" stroke=\"#000000\" stroke-opacity=\"1\" stroke-width=\"3.2\"/>\n",
       "<circle clip-path=\"url(#clip082)\" cx=\"1175.25\" cy=\"490.257\" r=\"14\" fill=\"#e26f46\" fill-rule=\"evenodd\" fill-opacity=\"1\" stroke=\"#000000\" stroke-opacity=\"1\" stroke-width=\"3.2\"/>\n",
       "<circle clip-path=\"url(#clip082)\" cx=\"1189.05\" cy=\"485.883\" r=\"14\" fill=\"#e26f46\" fill-rule=\"evenodd\" fill-opacity=\"1\" stroke=\"#000000\" stroke-opacity=\"1\" stroke-width=\"3.2\"/>\n",
       "<circle clip-path=\"url(#clip082)\" cx=\"1202.86\" cy=\"479.475\" r=\"14\" fill=\"#e26f46\" fill-rule=\"evenodd\" fill-opacity=\"1\" stroke=\"#000000\" stroke-opacity=\"1\" stroke-width=\"3.2\"/>\n",
       "<circle clip-path=\"url(#clip082)\" cx=\"1216.66\" cy=\"474.732\" r=\"14\" fill=\"#e26f46\" fill-rule=\"evenodd\" fill-opacity=\"1\" stroke=\"#000000\" stroke-opacity=\"1\" stroke-width=\"3.2\"/>\n",
       "<circle clip-path=\"url(#clip082)\" cx=\"1230.47\" cy=\"469.665\" r=\"14\" fill=\"#e26f46\" fill-rule=\"evenodd\" fill-opacity=\"1\" stroke=\"#000000\" stroke-opacity=\"1\" stroke-width=\"3.2\"/>\n",
       "<circle clip-path=\"url(#clip082)\" cx=\"1244.28\" cy=\"464.564\" r=\"14\" fill=\"#e26f46\" fill-rule=\"evenodd\" fill-opacity=\"1\" stroke=\"#000000\" stroke-opacity=\"1\" stroke-width=\"3.2\"/>\n",
       "<circle clip-path=\"url(#clip082)\" cx=\"1258.08\" cy=\"459.314\" r=\"14\" fill=\"#e26f46\" fill-rule=\"evenodd\" fill-opacity=\"1\" stroke=\"#000000\" stroke-opacity=\"1\" stroke-width=\"3.2\"/>\n",
       "<circle clip-path=\"url(#clip082)\" cx=\"1271.89\" cy=\"454.199\" r=\"14\" fill=\"#e26f46\" fill-rule=\"evenodd\" fill-opacity=\"1\" stroke=\"#000000\" stroke-opacity=\"1\" stroke-width=\"3.2\"/>\n",
       "<circle clip-path=\"url(#clip082)\" cx=\"1285.69\" cy=\"449.764\" r=\"14\" fill=\"#e26f46\" fill-rule=\"evenodd\" fill-opacity=\"1\" stroke=\"#000000\" stroke-opacity=\"1\" stroke-width=\"3.2\"/>\n",
       "<circle clip-path=\"url(#clip082)\" cx=\"1299.5\" cy=\"444.818\" r=\"14\" fill=\"#e26f46\" fill-rule=\"evenodd\" fill-opacity=\"1\" stroke=\"#000000\" stroke-opacity=\"1\" stroke-width=\"3.2\"/>\n",
       "<circle clip-path=\"url(#clip082)\" cx=\"1313.31\" cy=\"439.885\" r=\"14\" fill=\"#e26f46\" fill-rule=\"evenodd\" fill-opacity=\"1\" stroke=\"#000000\" stroke-opacity=\"1\" stroke-width=\"3.2\"/>\n",
       "<circle clip-path=\"url(#clip082)\" cx=\"1327.11\" cy=\"433.457\" r=\"14\" fill=\"#e26f46\" fill-rule=\"evenodd\" fill-opacity=\"1\" stroke=\"#000000\" stroke-opacity=\"1\" stroke-width=\"3.2\"/>\n",
       "<circle clip-path=\"url(#clip082)\" cx=\"1340.92\" cy=\"428.702\" r=\"14\" fill=\"#e26f46\" fill-rule=\"evenodd\" fill-opacity=\"1\" stroke=\"#000000\" stroke-opacity=\"1\" stroke-width=\"3.2\"/>\n",
       "<circle clip-path=\"url(#clip082)\" cx=\"1354.72\" cy=\"424.929\" r=\"14\" fill=\"#e26f46\" fill-rule=\"evenodd\" fill-opacity=\"1\" stroke=\"#000000\" stroke-opacity=\"1\" stroke-width=\"3.2\"/>\n",
       "<circle clip-path=\"url(#clip082)\" cx=\"1368.53\" cy=\"421.154\" r=\"14\" fill=\"#e26f46\" fill-rule=\"evenodd\" fill-opacity=\"1\" stroke=\"#000000\" stroke-opacity=\"1\" stroke-width=\"3.2\"/>\n",
       "<circle clip-path=\"url(#clip082)\" cx=\"1382.34\" cy=\"416.101\" r=\"14\" fill=\"#e26f46\" fill-rule=\"evenodd\" fill-opacity=\"1\" stroke=\"#000000\" stroke-opacity=\"1\" stroke-width=\"3.2\"/>\n",
       "<circle clip-path=\"url(#clip082)\" cx=\"1396.14\" cy=\"411.937\" r=\"14\" fill=\"#e26f46\" fill-rule=\"evenodd\" fill-opacity=\"1\" stroke=\"#000000\" stroke-opacity=\"1\" stroke-width=\"3.2\"/>\n",
       "<circle clip-path=\"url(#clip082)\" cx=\"1409.95\" cy=\"407.077\" r=\"14\" fill=\"#e26f46\" fill-rule=\"evenodd\" fill-opacity=\"1\" stroke=\"#000000\" stroke-opacity=\"1\" stroke-width=\"3.2\"/>\n",
       "<circle clip-path=\"url(#clip082)\" cx=\"1423.75\" cy=\"402.405\" r=\"14\" fill=\"#e26f46\" fill-rule=\"evenodd\" fill-opacity=\"1\" stroke=\"#000000\" stroke-opacity=\"1\" stroke-width=\"3.2\"/>\n",
       "<circle clip-path=\"url(#clip082)\" cx=\"1437.56\" cy=\"398.709\" r=\"14\" fill=\"#e26f46\" fill-rule=\"evenodd\" fill-opacity=\"1\" stroke=\"#000000\" stroke-opacity=\"1\" stroke-width=\"3.2\"/>\n",
       "<circle clip-path=\"url(#clip082)\" cx=\"1451.37\" cy=\"396.466\" r=\"14\" fill=\"#e26f46\" fill-rule=\"evenodd\" fill-opacity=\"1\" stroke=\"#000000\" stroke-opacity=\"1\" stroke-width=\"3.2\"/>\n",
       "<circle clip-path=\"url(#clip082)\" cx=\"1465.17\" cy=\"390.951\" r=\"14\" fill=\"#e26f46\" fill-rule=\"evenodd\" fill-opacity=\"1\" stroke=\"#000000\" stroke-opacity=\"1\" stroke-width=\"3.2\"/>\n",
       "<circle clip-path=\"url(#clip082)\" cx=\"1478.98\" cy=\"386.403\" r=\"14\" fill=\"#e26f46\" fill-rule=\"evenodd\" fill-opacity=\"1\" stroke=\"#000000\" stroke-opacity=\"1\" stroke-width=\"3.2\"/>\n",
       "<circle clip-path=\"url(#clip082)\" cx=\"1492.78\" cy=\"381.035\" r=\"14\" fill=\"#e26f46\" fill-rule=\"evenodd\" fill-opacity=\"1\" stroke=\"#000000\" stroke-opacity=\"1\" stroke-width=\"3.2\"/>\n",
       "<circle clip-path=\"url(#clip082)\" cx=\"1506.59\" cy=\"376.289\" r=\"14\" fill=\"#e26f46\" fill-rule=\"evenodd\" fill-opacity=\"1\" stroke=\"#000000\" stroke-opacity=\"1\" stroke-width=\"3.2\"/>\n",
       "<circle clip-path=\"url(#clip082)\" cx=\"1520.4\" cy=\"371.827\" r=\"14\" fill=\"#e26f46\" fill-rule=\"evenodd\" fill-opacity=\"1\" stroke=\"#000000\" stroke-opacity=\"1\" stroke-width=\"3.2\"/>\n",
       "<circle clip-path=\"url(#clip082)\" cx=\"1534.2\" cy=\"367.696\" r=\"14\" fill=\"#e26f46\" fill-rule=\"evenodd\" fill-opacity=\"1\" stroke=\"#000000\" stroke-opacity=\"1\" stroke-width=\"3.2\"/>\n",
       "<circle clip-path=\"url(#clip082)\" cx=\"1548.01\" cy=\"364.265\" r=\"14\" fill=\"#e26f46\" fill-rule=\"evenodd\" fill-opacity=\"1\" stroke=\"#000000\" stroke-opacity=\"1\" stroke-width=\"3.2\"/>\n",
       "<circle clip-path=\"url(#clip082)\" cx=\"1561.81\" cy=\"360.4\" r=\"14\" fill=\"#e26f46\" fill-rule=\"evenodd\" fill-opacity=\"1\" stroke=\"#000000\" stroke-opacity=\"1\" stroke-width=\"3.2\"/>\n",
       "<circle clip-path=\"url(#clip082)\" cx=\"1575.62\" cy=\"353.494\" r=\"14\" fill=\"#e26f46\" fill-rule=\"evenodd\" fill-opacity=\"1\" stroke=\"#000000\" stroke-opacity=\"1\" stroke-width=\"3.2\"/>\n",
       "<circle clip-path=\"url(#clip082)\" cx=\"1589.43\" cy=\"348.303\" r=\"14\" fill=\"#e26f46\" fill-rule=\"evenodd\" fill-opacity=\"1\" stroke=\"#000000\" stroke-opacity=\"1\" stroke-width=\"3.2\"/>\n",
       "<circle clip-path=\"url(#clip082)\" cx=\"1603.23\" cy=\"343.604\" r=\"14\" fill=\"#e26f46\" fill-rule=\"evenodd\" fill-opacity=\"1\" stroke=\"#000000\" stroke-opacity=\"1\" stroke-width=\"3.2\"/>\n",
       "<circle clip-path=\"url(#clip082)\" cx=\"1617.04\" cy=\"339.545\" r=\"14\" fill=\"#e26f46\" fill-rule=\"evenodd\" fill-opacity=\"1\" stroke=\"#000000\" stroke-opacity=\"1\" stroke-width=\"3.2\"/>\n",
       "<circle clip-path=\"url(#clip082)\" cx=\"1630.84\" cy=\"335.216\" r=\"14\" fill=\"#e26f46\" fill-rule=\"evenodd\" fill-opacity=\"1\" stroke=\"#000000\" stroke-opacity=\"1\" stroke-width=\"3.2\"/>\n",
       "<circle clip-path=\"url(#clip082)\" cx=\"1644.65\" cy=\"331.852\" r=\"14\" fill=\"#e26f46\" fill-rule=\"evenodd\" fill-opacity=\"1\" stroke=\"#000000\" stroke-opacity=\"1\" stroke-width=\"3.2\"/>\n",
       "<circle clip-path=\"url(#clip082)\" cx=\"1658.46\" cy=\"328.143\" r=\"14\" fill=\"#e26f46\" fill-rule=\"evenodd\" fill-opacity=\"1\" stroke=\"#000000\" stroke-opacity=\"1\" stroke-width=\"3.2\"/>\n",
       "<circle clip-path=\"url(#clip082)\" cx=\"1672.26\" cy=\"323.575\" r=\"14\" fill=\"#e26f46\" fill-rule=\"evenodd\" fill-opacity=\"1\" stroke=\"#000000\" stroke-opacity=\"1\" stroke-width=\"3.2\"/>\n",
       "<circle clip-path=\"url(#clip082)\" cx=\"1686.07\" cy=\"318.962\" r=\"14\" fill=\"#e26f46\" fill-rule=\"evenodd\" fill-opacity=\"1\" stroke=\"#000000\" stroke-opacity=\"1\" stroke-width=\"3.2\"/>\n",
       "<circle clip-path=\"url(#clip082)\" cx=\"1699.87\" cy=\"314.024\" r=\"14\" fill=\"#e26f46\" fill-rule=\"evenodd\" fill-opacity=\"1\" stroke=\"#000000\" stroke-opacity=\"1\" stroke-width=\"3.2\"/>\n",
       "<circle clip-path=\"url(#clip082)\" cx=\"1713.68\" cy=\"308.78\" r=\"14\" fill=\"#e26f46\" fill-rule=\"evenodd\" fill-opacity=\"1\" stroke=\"#000000\" stroke-opacity=\"1\" stroke-width=\"3.2\"/>\n",
       "<circle clip-path=\"url(#clip082)\" cx=\"1727.48\" cy=\"304.752\" r=\"14\" fill=\"#e26f46\" fill-rule=\"evenodd\" fill-opacity=\"1\" stroke=\"#000000\" stroke-opacity=\"1\" stroke-width=\"3.2\"/>\n",
       "<circle clip-path=\"url(#clip082)\" cx=\"1741.29\" cy=\"301.66\" r=\"14\" fill=\"#e26f46\" fill-rule=\"evenodd\" fill-opacity=\"1\" stroke=\"#000000\" stroke-opacity=\"1\" stroke-width=\"3.2\"/>\n",
       "<circle clip-path=\"url(#clip082)\" cx=\"1755.1\" cy=\"297.355\" r=\"14\" fill=\"#e26f46\" fill-rule=\"evenodd\" fill-opacity=\"1\" stroke=\"#000000\" stroke-opacity=\"1\" stroke-width=\"3.2\"/>\n",
       "<circle clip-path=\"url(#clip082)\" cx=\"1768.9\" cy=\"293.852\" r=\"14\" fill=\"#e26f46\" fill-rule=\"evenodd\" fill-opacity=\"1\" stroke=\"#000000\" stroke-opacity=\"1\" stroke-width=\"3.2\"/>\n",
       "<circle clip-path=\"url(#clip082)\" cx=\"1782.71\" cy=\"290.164\" r=\"14\" fill=\"#e26f46\" fill-rule=\"evenodd\" fill-opacity=\"1\" stroke=\"#000000\" stroke-opacity=\"1\" stroke-width=\"3.2\"/>\n",
       "<circle clip-path=\"url(#clip082)\" cx=\"1796.51\" cy=\"285.609\" r=\"14\" fill=\"#e26f46\" fill-rule=\"evenodd\" fill-opacity=\"1\" stroke=\"#000000\" stroke-opacity=\"1\" stroke-width=\"3.2\"/>\n",
       "<circle clip-path=\"url(#clip082)\" cx=\"1810.32\" cy=\"281.584\" r=\"14\" fill=\"#e26f46\" fill-rule=\"evenodd\" fill-opacity=\"1\" stroke=\"#000000\" stroke-opacity=\"1\" stroke-width=\"3.2\"/>\n",
       "<circle clip-path=\"url(#clip082)\" cx=\"1824.13\" cy=\"278.017\" r=\"14\" fill=\"#e26f46\" fill-rule=\"evenodd\" fill-opacity=\"1\" stroke=\"#000000\" stroke-opacity=\"1\" stroke-width=\"3.2\"/>\n",
       "<circle clip-path=\"url(#clip082)\" cx=\"1837.93\" cy=\"274.417\" r=\"14\" fill=\"#e26f46\" fill-rule=\"evenodd\" fill-opacity=\"1\" stroke=\"#000000\" stroke-opacity=\"1\" stroke-width=\"3.2\"/>\n",
       "<circle clip-path=\"url(#clip082)\" cx=\"1851.74\" cy=\"270.098\" r=\"14\" fill=\"#e26f46\" fill-rule=\"evenodd\" fill-opacity=\"1\" stroke=\"#000000\" stroke-opacity=\"1\" stroke-width=\"3.2\"/>\n",
       "<circle clip-path=\"url(#clip082)\" cx=\"1865.54\" cy=\"265.368\" r=\"14\" fill=\"#e26f46\" fill-rule=\"evenodd\" fill-opacity=\"1\" stroke=\"#000000\" stroke-opacity=\"1\" stroke-width=\"3.2\"/>\n",
       "<circle clip-path=\"url(#clip082)\" cx=\"1879.35\" cy=\"261.135\" r=\"14\" fill=\"#e26f46\" fill-rule=\"evenodd\" fill-opacity=\"1\" stroke=\"#000000\" stroke-opacity=\"1\" stroke-width=\"3.2\"/>\n",
       "<circle clip-path=\"url(#clip082)\" cx=\"1893.16\" cy=\"256.481\" r=\"14\" fill=\"#e26f46\" fill-rule=\"evenodd\" fill-opacity=\"1\" stroke=\"#000000\" stroke-opacity=\"1\" stroke-width=\"3.2\"/>\n",
       "<circle clip-path=\"url(#clip082)\" cx=\"1906.96\" cy=\"252.599\" r=\"14\" fill=\"#e26f46\" fill-rule=\"evenodd\" fill-opacity=\"1\" stroke=\"#000000\" stroke-opacity=\"1\" stroke-width=\"3.2\"/>\n",
       "<circle clip-path=\"url(#clip082)\" cx=\"1920.77\" cy=\"249.007\" r=\"14\" fill=\"#e26f46\" fill-rule=\"evenodd\" fill-opacity=\"1\" stroke=\"#000000\" stroke-opacity=\"1\" stroke-width=\"3.2\"/>\n",
       "<circle clip-path=\"url(#clip082)\" cx=\"1934.57\" cy=\"245.118\" r=\"14\" fill=\"#e26f46\" fill-rule=\"evenodd\" fill-opacity=\"1\" stroke=\"#000000\" stroke-opacity=\"1\" stroke-width=\"3.2\"/>\n",
       "<circle clip-path=\"url(#clip082)\" cx=\"1948.38\" cy=\"240.789\" r=\"14\" fill=\"#e26f46\" fill-rule=\"evenodd\" fill-opacity=\"1\" stroke=\"#000000\" stroke-opacity=\"1\" stroke-width=\"3.2\"/>\n",
       "<circle clip-path=\"url(#clip082)\" cx=\"1962.19\" cy=\"236.377\" r=\"14\" fill=\"#e26f46\" fill-rule=\"evenodd\" fill-opacity=\"1\" stroke=\"#000000\" stroke-opacity=\"1\" stroke-width=\"3.2\"/>\n",
       "<circle clip-path=\"url(#clip082)\" cx=\"1975.99\" cy=\"232.033\" r=\"14\" fill=\"#e26f46\" fill-rule=\"evenodd\" fill-opacity=\"1\" stroke=\"#000000\" stroke-opacity=\"1\" stroke-width=\"3.2\"/>\n",
       "<circle clip-path=\"url(#clip082)\" cx=\"1989.8\" cy=\"227.113\" r=\"14\" fill=\"#e26f46\" fill-rule=\"evenodd\" fill-opacity=\"1\" stroke=\"#000000\" stroke-opacity=\"1\" stroke-width=\"3.2\"/>\n",
       "<circle clip-path=\"url(#clip082)\" cx=\"2003.6\" cy=\"223.34\" r=\"14\" fill=\"#e26f46\" fill-rule=\"evenodd\" fill-opacity=\"1\" stroke=\"#000000\" stroke-opacity=\"1\" stroke-width=\"3.2\"/>\n",
       "<circle clip-path=\"url(#clip082)\" cx=\"2017.41\" cy=\"219.652\" r=\"14\" fill=\"#e26f46\" fill-rule=\"evenodd\" fill-opacity=\"1\" stroke=\"#000000\" stroke-opacity=\"1\" stroke-width=\"3.2\"/>\n",
       "<circle clip-path=\"url(#clip082)\" cx=\"2031.22\" cy=\"215.674\" r=\"14\" fill=\"#e26f46\" fill-rule=\"evenodd\" fill-opacity=\"1\" stroke=\"#000000\" stroke-opacity=\"1\" stroke-width=\"3.2\"/>\n",
       "<circle clip-path=\"url(#clip082)\" cx=\"2045.02\" cy=\"212.365\" r=\"14\" fill=\"#e26f46\" fill-rule=\"evenodd\" fill-opacity=\"1\" stroke=\"#000000\" stroke-opacity=\"1\" stroke-width=\"3.2\"/>\n",
       "<circle clip-path=\"url(#clip082)\" cx=\"2058.83\" cy=\"207.478\" r=\"14\" fill=\"#e26f46\" fill-rule=\"evenodd\" fill-opacity=\"1\" stroke=\"#000000\" stroke-opacity=\"1\" stroke-width=\"3.2\"/>\n",
       "<circle clip-path=\"url(#clip082)\" cx=\"2072.63\" cy=\"203.3\" r=\"14\" fill=\"#e26f46\" fill-rule=\"evenodd\" fill-opacity=\"1\" stroke=\"#000000\" stroke-opacity=\"1\" stroke-width=\"3.2\"/>\n",
       "<circle clip-path=\"url(#clip082)\" cx=\"2086.44\" cy=\"198.962\" r=\"14\" fill=\"#e26f46\" fill-rule=\"evenodd\" fill-opacity=\"1\" stroke=\"#000000\" stroke-opacity=\"1\" stroke-width=\"3.2\"/>\n",
       "<circle clip-path=\"url(#clip082)\" cx=\"2100.25\" cy=\"195.27\" r=\"14\" fill=\"#e26f46\" fill-rule=\"evenodd\" fill-opacity=\"1\" stroke=\"#000000\" stroke-opacity=\"1\" stroke-width=\"3.2\"/>\n",
       "<circle clip-path=\"url(#clip082)\" cx=\"2114.05\" cy=\"191.881\" r=\"14\" fill=\"#e26f46\" fill-rule=\"evenodd\" fill-opacity=\"1\" stroke=\"#000000\" stroke-opacity=\"1\" stroke-width=\"3.2\"/>\n",
       "<circle clip-path=\"url(#clip082)\" cx=\"2127.86\" cy=\"188.918\" r=\"14\" fill=\"#e26f46\" fill-rule=\"evenodd\" fill-opacity=\"1\" stroke=\"#000000\" stroke-opacity=\"1\" stroke-width=\"3.2\"/>\n",
       "<circle clip-path=\"url(#clip082)\" cx=\"2141.66\" cy=\"185.454\" r=\"14\" fill=\"#e26f46\" fill-rule=\"evenodd\" fill-opacity=\"1\" stroke=\"#000000\" stroke-opacity=\"1\" stroke-width=\"3.2\"/>\n",
       "<circle clip-path=\"url(#clip082)\" cx=\"2155.47\" cy=\"182.023\" r=\"14\" fill=\"#e26f46\" fill-rule=\"evenodd\" fill-opacity=\"1\" stroke=\"#000000\" stroke-opacity=\"1\" stroke-width=\"3.2\"/>\n",
       "<circle clip-path=\"url(#clip082)\" cx=\"2169.27\" cy=\"178.679\" r=\"14\" fill=\"#e26f46\" fill-rule=\"evenodd\" fill-opacity=\"1\" stroke=\"#000000\" stroke-opacity=\"1\" stroke-width=\"3.2\"/>\n",
       "<circle clip-path=\"url(#clip082)\" cx=\"2183.08\" cy=\"175.487\" r=\"14\" fill=\"#e26f46\" fill-rule=\"evenodd\" fill-opacity=\"1\" stroke=\"#000000\" stroke-opacity=\"1\" stroke-width=\"3.2\"/>\n",
       "<circle clip-path=\"url(#clip082)\" cx=\"2196.89\" cy=\"172.375\" r=\"14\" fill=\"#e26f46\" fill-rule=\"evenodd\" fill-opacity=\"1\" stroke=\"#000000\" stroke-opacity=\"1\" stroke-width=\"3.2\"/>\n",
       "<circle clip-path=\"url(#clip082)\" cx=\"2210.69\" cy=\"170.29\" r=\"14\" fill=\"#e26f46\" fill-rule=\"evenodd\" fill-opacity=\"1\" stroke=\"#000000\" stroke-opacity=\"1\" stroke-width=\"3.2\"/>\n",
       "<circle clip-path=\"url(#clip082)\" cx=\"2224.5\" cy=\"168.501\" r=\"14\" fill=\"#e26f46\" fill-rule=\"evenodd\" fill-opacity=\"1\" stroke=\"#000000\" stroke-opacity=\"1\" stroke-width=\"3.2\"/>\n",
       "<circle clip-path=\"url(#clip082)\" cx=\"2238.3\" cy=\"165.7\" r=\"14\" fill=\"#e26f46\" fill-rule=\"evenodd\" fill-opacity=\"1\" stroke=\"#000000\" stroke-opacity=\"1\" stroke-width=\"3.2\"/>\n",
       "<circle clip-path=\"url(#clip082)\" cx=\"2252.11\" cy=\"163\" r=\"14\" fill=\"#e26f46\" fill-rule=\"evenodd\" fill-opacity=\"1\" stroke=\"#000000\" stroke-opacity=\"1\" stroke-width=\"3.2\"/>\n",
       "<circle clip-path=\"url(#clip082)\" cx=\"2265.92\" cy=\"160.22\" r=\"14\" fill=\"#e26f46\" fill-rule=\"evenodd\" fill-opacity=\"1\" stroke=\"#000000\" stroke-opacity=\"1\" stroke-width=\"3.2\"/>\n",
       "<circle clip-path=\"url(#clip082)\" cx=\"2279.72\" cy=\"157.862\" r=\"14\" fill=\"#e26f46\" fill-rule=\"evenodd\" fill-opacity=\"1\" stroke=\"#000000\" stroke-opacity=\"1\" stroke-width=\"3.2\"/>\n",
       "<circle clip-path=\"url(#clip082)\" cx=\"2293.53\" cy=\"155.749\" r=\"14\" fill=\"#e26f46\" fill-rule=\"evenodd\" fill-opacity=\"1\" stroke=\"#000000\" stroke-opacity=\"1\" stroke-width=\"3.2\"/>\n",
       "<path clip-path=\"url(#clip080)\" d=\"\n",
       "M332.051 388.432 L918.901 388.432 L918.901 206.992 L332.051 206.992  Z\n",
       "  \" fill=\"#ffffff\" fill-rule=\"evenodd\" fill-opacity=\"1\"/>\n",
       "<polyline clip-path=\"url(#clip080)\" style=\"stroke:#000000; stroke-width:4; stroke-opacity:1; fill:none\" points=\"\n",
       "  332.051,388.432 918.901,388.432 918.901,206.992 332.051,206.992 332.051,388.432 \n",
       "  \"/>\n",
       "<polyline clip-path=\"url(#clip080)\" style=\"stroke:#009af9; stroke-width:4; stroke-opacity:1; fill:none\" points=\"\n",
       "  356.051,267.472 500.051,267.472 \n",
       "  \"/>\n",
       "<path clip-path=\"url(#clip080)\" d=\"M 0 0 M531.459 251.465 L531.459 258.826 L540.232 258.826 L540.232 262.137 L531.459 262.137 L531.459 276.211 Q531.459 279.382 532.315 280.285 Q533.195 281.187 535.857 281.187 L540.232 281.187 L540.232 284.752 L535.857 284.752 Q530.926 284.752 529.051 282.923 Q527.176 281.072 527.176 276.211 L527.176 262.137 L524.051 262.137 L524.051 258.826 L527.176 258.826 L527.176 251.465 L531.459 251.465 Z\" fill=\"#000000\" fill-rule=\"evenodd\" fill-opacity=\"1\" /><path clip-path=\"url(#clip080)\" d=\"M 0 0 M544.699 258.826 L548.959 258.826 L548.959 284.752 L544.699 284.752 L544.699 258.826 M544.699 248.734 L548.959 248.734 L548.959 254.127 L544.699 254.127 L544.699 248.734 Z\" fill=\"#000000\" fill-rule=\"evenodd\" fill-opacity=\"1\" /><path clip-path=\"url(#clip080)\" d=\"M 0 0 M573.611 263.803 Q575.208 260.933 577.431 259.567 Q579.653 258.201 582.662 258.201 Q586.713 258.201 588.912 261.049 Q591.111 263.873 591.111 269.104 L591.111 284.752 L586.829 284.752 L586.829 269.243 Q586.829 265.516 585.509 263.711 Q584.19 261.905 581.481 261.905 Q578.171 261.905 576.25 264.104 Q574.329 266.303 574.329 270.099 L574.329 284.752 L570.046 284.752 L570.046 269.243 Q570.046 265.493 568.727 263.711 Q567.407 261.905 564.653 261.905 Q561.389 261.905 559.468 264.127 Q557.546 266.326 557.546 270.099 L557.546 284.752 L553.264 284.752 L553.264 258.826 L557.546 258.826 L557.546 262.854 Q559.005 260.47 561.042 259.336 Q563.079 258.201 565.88 258.201 Q568.704 258.201 570.671 259.637 Q572.662 261.072 573.611 263.803 Z\" fill=\"#000000\" fill-rule=\"evenodd\" fill-opacity=\"1\" /><path clip-path=\"url(#clip080)\" d=\"M 0 0 M617.754 270.724 L617.754 272.808 L598.171 272.808 Q598.449 277.206 600.81 279.521 Q603.194 281.812 607.43 281.812 Q609.884 281.812 612.176 281.21 Q614.491 280.609 616.759 279.405 L616.759 283.433 Q614.467 284.405 612.06 284.914 Q609.653 285.423 607.176 285.423 Q600.972 285.423 597.338 281.812 Q593.727 278.201 593.727 272.044 Q593.727 265.678 597.153 261.951 Q600.602 258.201 606.435 258.201 Q611.667 258.201 614.699 261.581 Q617.754 264.937 617.754 270.724 M613.495 269.474 Q613.449 265.979 611.528 263.896 Q609.629 261.812 606.481 261.812 Q602.917 261.812 600.764 263.826 Q598.634 265.84 598.31 269.498 L613.495 269.474 Z\" fill=\"#000000\" fill-rule=\"evenodd\" fill-opacity=\"1\" /><path clip-path=\"url(#clip080)\" d=\"M 0 0 M637.291 248.734 L641.551 248.734 L641.551 284.752 L637.291 284.752 L637.291 248.734 Z\" fill=\"#000000\" fill-rule=\"evenodd\" fill-opacity=\"1\" /><path clip-path=\"url(#clip080)\" d=\"M 0 0 M646.018 258.826 L650.277 258.826 L650.277 284.752 L646.018 284.752 L646.018 258.826 M646.018 248.734 L650.277 248.734 L650.277 254.127 L646.018 254.127 L646.018 248.734 Z\" fill=\"#000000\" fill-rule=\"evenodd\" fill-opacity=\"1\" /><path clip-path=\"url(#clip080)\" d=\"M 0 0 M676.296 269.104 L676.296 284.752 L672.037 284.752 L672.037 269.243 Q672.037 265.562 670.601 263.734 Q669.166 261.905 666.296 261.905 Q662.847 261.905 660.856 264.104 Q658.865 266.303 658.865 270.099 L658.865 284.752 L654.583 284.752 L654.583 258.826 L658.865 258.826 L658.865 262.854 Q660.393 260.516 662.453 259.359 Q664.537 258.201 667.245 258.201 Q671.712 258.201 674.004 260.979 Q676.296 263.734 676.296 269.104 Z\" fill=\"#000000\" fill-rule=\"evenodd\" fill-opacity=\"1\" /><path clip-path=\"url(#clip080)\" d=\"M 0 0 M702.939 270.724 L702.939 272.808 L683.356 272.808 Q683.634 277.206 685.995 279.521 Q688.379 281.812 692.615 281.812 Q695.069 281.812 697.36 281.21 Q699.675 280.609 701.944 279.405 L701.944 283.433 Q699.652 284.405 697.245 284.914 Q694.837 285.423 692.361 285.423 Q686.157 285.423 682.523 281.812 Q678.912 278.201 678.912 272.044 Q678.912 265.678 682.337 261.951 Q685.786 258.201 691.62 258.201 Q696.851 258.201 699.884 261.581 Q702.939 264.937 702.939 270.724 M698.68 269.474 Q698.634 265.979 696.712 263.896 Q694.814 261.812 691.666 261.812 Q688.101 261.812 685.949 263.826 Q683.819 265.84 683.495 269.498 L698.68 269.474 Z\" fill=\"#000000\" fill-rule=\"evenodd\" fill-opacity=\"1\" /><circle clip-path=\"url(#clip080)\" cx=\"440.051\" cy=\"327.952\" r=\"23\" fill=\"#e26f46\" fill-rule=\"evenodd\" fill-opacity=\"1\" stroke=\"#000000\" stroke-opacity=\"1\" stroke-width=\"5.12\"/>\n",
       "<path clip-path=\"url(#clip080)\" d=\"M 0 0 M544.56 320.302 L544.56 324.283 Q542.755 323.288 540.926 322.802 Q539.121 322.292 537.269 322.292 Q533.125 322.292 530.834 324.931 Q528.542 327.547 528.542 332.292 Q528.542 337.038 530.834 339.677 Q533.125 342.292 537.269 342.292 Q539.121 342.292 540.926 341.806 Q542.755 341.297 544.56 340.302 L544.56 344.237 Q542.778 345.07 540.857 345.487 Q538.959 345.903 536.806 345.903 Q530.949 345.903 527.5 342.223 Q524.051 338.542 524.051 332.292 Q524.051 325.95 527.523 322.316 Q531.019 318.681 537.084 318.681 Q539.051 318.681 540.926 319.098 Q542.801 319.492 544.56 320.302 Z\" fill=\"#000000\" fill-rule=\"evenodd\" fill-opacity=\"1\" /><path clip-path=\"url(#clip080)\" d=\"M 0 0 M559.074 322.292 Q555.648 322.292 553.658 324.978 Q551.667 327.64 551.667 332.292 Q551.667 336.945 553.634 339.63 Q555.625 342.292 559.074 342.292 Q562.477 342.292 564.468 339.607 Q566.458 336.922 566.458 332.292 Q566.458 327.686 564.468 325.001 Q562.477 322.292 559.074 322.292 M559.074 318.681 Q564.63 318.681 567.801 322.292 Q570.972 325.904 570.972 332.292 Q570.972 338.658 567.801 342.292 Q564.63 345.903 559.074 345.903 Q553.496 345.903 550.324 342.292 Q547.176 338.658 547.176 332.292 Q547.176 325.904 550.324 322.292 Q553.496 318.681 559.074 318.681 Z\" fill=\"#000000\" fill-rule=\"evenodd\" fill-opacity=\"1\" /><path clip-path=\"url(#clip080)\" d=\"M 0 0 M596.991 329.584 L596.991 345.232 L592.731 345.232 L592.731 329.723 Q592.731 326.042 591.296 324.214 Q589.861 322.385 586.991 322.385 Q583.542 322.385 581.551 324.584 Q579.56 326.783 579.56 330.579 L579.56 345.232 L575.278 345.232 L575.278 319.306 L579.56 319.306 L579.56 323.334 Q581.088 320.996 583.148 319.839 Q585.231 318.681 587.94 318.681 Q592.407 318.681 594.699 321.459 Q596.991 324.214 596.991 329.584 Z\" fill=\"#000000\" fill-rule=\"evenodd\" fill-opacity=\"1\" /><path clip-path=\"url(#clip080)\" d=\"M 0 0 M614.583 309.214 L614.583 312.755 L610.509 312.755 Q608.217 312.755 607.315 313.681 Q606.435 314.607 606.435 317.015 L606.435 319.306 L613.449 319.306 L613.449 322.617 L606.435 322.617 L606.435 345.232 L602.153 345.232 L602.153 322.617 L598.079 322.617 L598.079 319.306 L602.153 319.306 L602.153 317.501 Q602.153 313.172 604.167 311.205 Q606.18 309.214 610.555 309.214 L614.583 309.214 Z\" fill=\"#000000\" fill-rule=\"evenodd\" fill-opacity=\"1\" /><path clip-path=\"url(#clip080)\" d=\"M 0 0 M619.051 319.306 L623.31 319.306 L623.31 345.232 L619.051 345.232 L619.051 319.306 M619.051 309.214 L623.31 309.214 L623.31 314.607 L619.051 314.607 L619.051 309.214 Z\" fill=\"#000000\" fill-rule=\"evenodd\" fill-opacity=\"1\" /><path clip-path=\"url(#clip080)\" d=\"M 0 0 M642.801 323.288 Q642.083 322.871 641.227 322.686 Q640.393 322.478 639.375 322.478 Q635.764 322.478 633.819 324.839 Q631.898 327.177 631.898 331.575 L631.898 345.232 L627.615 345.232 L627.615 319.306 L631.898 319.306 L631.898 323.334 Q633.24 320.973 635.393 319.839 Q637.546 318.681 640.625 318.681 Q641.064 318.681 641.597 318.751 Q642.129 318.797 642.777 318.913 L642.801 323.288 Z\" fill=\"#000000\" fill-rule=\"evenodd\" fill-opacity=\"1\" /><path clip-path=\"url(#clip080)\" d=\"M 0 0 M666.62 324.283 Q668.217 321.413 670.439 320.047 Q672.662 318.681 675.671 318.681 Q679.722 318.681 681.921 321.529 Q684.12 324.353 684.12 329.584 L684.12 345.232 L679.837 345.232 L679.837 329.723 Q679.837 325.996 678.518 324.191 Q677.199 322.385 674.49 322.385 Q671.18 322.385 669.259 324.584 Q667.338 326.783 667.338 330.579 L667.338 345.232 L663.055 345.232 L663.055 329.723 Q663.055 325.973 661.736 324.191 Q660.416 322.385 657.662 322.385 Q654.398 322.385 652.476 324.607 Q650.555 326.806 650.555 330.579 L650.555 345.232 L646.273 345.232 L646.273 319.306 L650.555 319.306 L650.555 323.334 Q652.014 320.95 654.051 319.816 Q656.088 318.681 658.888 318.681 Q661.713 318.681 663.68 320.117 Q665.671 321.552 666.62 324.283 Z\" fill=\"#000000\" fill-rule=\"evenodd\" fill-opacity=\"1\" /><path clip-path=\"url(#clip080)\" d=\"M 0 0 M710.763 331.204 L710.763 333.288 L691.18 333.288 Q691.458 337.686 693.819 340.001 Q696.203 342.292 700.439 342.292 Q702.893 342.292 705.185 341.69 Q707.499 341.089 709.768 339.885 L709.768 343.913 Q707.476 344.885 705.069 345.394 Q702.661 345.903 700.185 345.903 Q693.981 345.903 690.347 342.292 Q686.736 338.681 686.736 332.524 Q686.736 326.158 690.161 322.431 Q693.611 318.681 699.444 318.681 Q704.675 318.681 707.708 322.061 Q710.763 325.417 710.763 331.204 M706.504 329.954 Q706.458 326.459 704.536 324.376 Q702.638 322.292 699.49 322.292 Q695.925 322.292 693.773 324.306 Q691.643 326.32 691.319 329.978 L706.504 329.954 Z\" fill=\"#000000\" fill-rule=\"evenodd\" fill-opacity=\"1\" /><path clip-path=\"url(#clip080)\" d=\"M 0 0 M732.291 323.242 L732.291 309.214 L736.55 309.214 L736.55 345.232 L732.291 345.232 L732.291 341.343 Q730.948 343.658 728.888 344.792 Q726.851 345.903 723.981 345.903 Q719.282 345.903 716.319 342.153 Q713.379 338.403 713.379 332.292 Q713.379 326.181 716.319 322.431 Q719.282 318.681 723.981 318.681 Q726.851 318.681 728.888 319.816 Q730.948 320.927 732.291 323.242 M717.777 332.292 Q717.777 336.991 719.698 339.677 Q721.643 342.339 725.022 342.339 Q728.402 342.339 730.346 339.677 Q732.291 336.991 732.291 332.292 Q732.291 327.593 730.346 324.931 Q728.402 322.246 725.022 322.246 Q721.643 322.246 719.698 324.931 Q717.777 327.593 717.777 332.292 Z\" fill=\"#000000\" fill-rule=\"evenodd\" fill-opacity=\"1\" /><path clip-path=\"url(#clip080)\" d=\"M 0 0 M774.744 320.302 L774.744 324.283 Q772.939 323.288 771.11 322.802 Q769.305 322.292 767.453 322.292 Q763.309 322.292 761.018 324.931 Q758.726 327.547 758.726 332.292 Q758.726 337.038 761.018 339.677 Q763.309 342.292 767.453 342.292 Q769.305 342.292 771.11 341.806 Q772.939 341.297 774.744 340.302 L774.744 344.237 Q772.962 345.07 771.041 345.487 Q769.143 345.903 766.99 345.903 Q761.133 345.903 757.684 342.223 Q754.235 338.542 754.235 332.292 Q754.235 325.95 757.707 322.316 Q761.203 318.681 767.268 318.681 Q769.235 318.681 771.11 319.098 Q772.985 319.492 774.744 320.302 Z\" fill=\"#000000\" fill-rule=\"evenodd\" fill-opacity=\"1\" /><path clip-path=\"url(#clip080)\" d=\"M 0 0 M790.994 332.2 Q785.832 332.2 783.842 333.38 Q781.851 334.561 781.851 337.408 Q781.851 339.677 783.332 341.019 Q784.837 342.339 787.406 342.339 Q790.948 342.339 793.078 339.839 Q795.23 337.316 795.23 333.149 L795.23 332.2 L790.994 332.2 M799.49 330.441 L799.49 345.232 L795.23 345.232 L795.23 341.297 Q793.772 343.658 791.596 344.792 Q789.42 345.903 786.272 345.903 Q782.291 345.903 779.929 343.681 Q777.592 341.436 777.592 337.686 Q777.592 333.311 780.508 331.089 Q783.448 328.866 789.258 328.866 L795.23 328.866 L795.23 328.45 Q795.23 325.51 793.286 323.913 Q791.365 322.292 787.869 322.292 Q785.647 322.292 783.541 322.825 Q781.434 323.357 779.49 324.422 L779.49 320.487 Q781.828 319.584 784.027 319.144 Q786.226 318.681 788.309 318.681 Q793.934 318.681 796.712 321.598 Q799.49 324.515 799.49 330.441 Z\" fill=\"#000000\" fill-rule=\"evenodd\" fill-opacity=\"1\" /><path clip-path=\"url(#clip080)\" d=\"M 0 0 M820.485 320.07 L820.485 324.098 Q818.679 323.172 816.735 322.709 Q814.79 322.246 812.707 322.246 Q809.536 322.246 807.939 323.218 Q806.365 324.191 806.365 326.135 Q806.365 327.616 807.499 328.473 Q808.633 329.306 812.059 330.07 L813.517 330.394 Q818.054 331.366 819.952 333.149 Q821.874 334.908 821.874 338.079 Q821.874 341.69 819.003 343.797 Q816.156 345.903 811.156 345.903 Q809.073 345.903 806.804 345.487 Q804.559 345.093 802.059 344.283 L802.059 339.885 Q804.42 341.112 806.712 341.737 Q809.003 342.339 811.249 342.339 Q814.258 342.339 815.878 341.32 Q817.499 340.278 817.499 338.403 Q817.499 336.667 816.318 335.741 Q815.161 334.816 811.202 333.959 L809.721 333.612 Q805.763 332.778 804.003 331.066 Q802.244 329.329 802.244 326.32 Q802.244 322.663 804.837 320.672 Q807.429 318.681 812.198 318.681 Q814.559 318.681 816.642 319.029 Q818.726 319.376 820.485 320.07 Z\" fill=\"#000000\" fill-rule=\"evenodd\" fill-opacity=\"1\" /><path clip-path=\"url(#clip080)\" d=\"M 0 0 M848.517 331.204 L848.517 333.288 L828.934 333.288 Q829.212 337.686 831.573 340.001 Q833.957 342.292 838.193 342.292 Q840.647 342.292 842.938 341.69 Q845.253 341.089 847.522 339.885 L847.522 343.913 Q845.23 344.885 842.823 345.394 Q840.415 345.903 837.938 345.903 Q831.735 345.903 828.101 342.292 Q824.489 338.681 824.489 332.524 Q824.489 326.158 827.915 322.431 Q831.364 318.681 837.198 318.681 Q842.429 318.681 845.462 322.061 Q848.517 325.417 848.517 331.204 M844.258 329.954 Q844.212 326.459 842.29 324.376 Q840.392 322.292 837.244 322.292 Q833.679 322.292 831.526 324.306 Q829.397 326.32 829.073 329.978 L844.258 329.954 Z\" fill=\"#000000\" fill-rule=\"evenodd\" fill-opacity=\"1\" /><path clip-path=\"url(#clip080)\" d=\"M 0 0 M869.512 320.07 L869.512 324.098 Q867.707 323.172 865.762 322.709 Q863.818 322.246 861.735 322.246 Q858.563 322.246 856.966 323.218 Q855.392 324.191 855.392 326.135 Q855.392 327.616 856.526 328.473 Q857.661 329.306 861.086 330.07 L862.545 330.394 Q867.082 331.366 868.98 333.149 Q870.901 334.908 870.901 338.079 Q870.901 341.69 868.031 343.797 Q865.184 345.903 860.184 345.903 Q858.1 345.903 855.832 345.487 Q853.587 345.093 851.087 344.283 L851.087 339.885 Q853.448 341.112 855.739 341.737 Q858.031 342.339 860.276 342.339 Q863.286 342.339 864.906 341.32 Q866.526 340.278 866.526 338.403 Q866.526 336.667 865.346 335.741 Q864.188 334.816 860.23 333.959 L858.749 333.612 Q854.79 332.778 853.031 331.066 Q851.272 329.329 851.272 326.32 Q851.272 322.663 853.864 320.672 Q856.457 318.681 861.225 318.681 Q863.586 318.681 865.67 319.029 Q867.753 319.376 869.512 320.07 Z\" fill=\"#000000\" fill-rule=\"evenodd\" fill-opacity=\"1\" /></svg>\n"
      ]
     },
     "execution_count": 34,
     "metadata": {},
     "output_type": "execute_result"
    }
   ],
   "source": [
    "# Notes\n",
    "# confirmeddays = x\n",
    "# sadata = y.\n",
    "# xticks=confirmed_days[1:14:end] : Every 14 days\n",
    "\n",
    "covid19confirmedcases = plot(confirmeddays, label=\"time line\", sadata,\n",
    "                                xticks=confirmeddays[1:14:end], \n",
    "                                xrotation=45, \n",
    "                                leg=:topleft, \n",
    "                                yscale=:log10)\n",
    "\n",
    "    scatter!(confirmeddays, sadata, \n",
    "            linewidths=1, \n",
    "            label = \"confirmed cases\")\n",
    "\n",
    "xlabel!(\"Confirmed cases every 14 days\")\n",
    "ylabel!(\"Total confirmed cases\")\n",
    "title!(\"COVID-19\")\n",
    "\n"
   ]
  },
  {
   "cell_type": "code",
   "execution_count": 35,
   "metadata": {},
   "outputs": [
    {
     "data": {
      "text/plain": [
       "Plots.GRBackend()"
      ]
     },
     "execution_count": 35,
     "metadata": {},
     "output_type": "execute_result"
    }
   ],
   "source": [
    "gr()"
   ]
  },
  {
   "cell_type": "code",
   "execution_count": 45,
   "metadata": {},
   "outputs": [
    {
     "data": {
      "text/plain": [
       "Plots.PlotlyJSBackend()"
      ]
     },
     "execution_count": 45,
     "metadata": {},
     "output_type": "execute_result"
    }
   ],
   "source": [
    "plotlyjs()"
   ]
  },
  {
   "cell_type": "code",
   "execution_count": 82,
   "metadata": {
    "scrolled": false
   },
   "outputs": [
    {
     "data": {
      "application/vnd.plotly.v1+json": {
       "data": [
        {
         "colorbar": {
          "title": ""
         },
         "legendgroup": "time line",
         "line": {
          "color": "rgba(0, 154, 250, 1.000)",
          "dash": "solid",
          "shape": "linear",
          "width": 1
         },
         "mode": "lines",
         "name": "time line",
         "showlegend": true,
         "type": "scatter",
         "x": [
          737489,
          737490,
          737491,
          737492,
          737493,
          737494,
          737495,
          737496,
          737497,
          737498,
          737499,
          737500,
          737501,
          737502,
          737503,
          737504,
          737505,
          737506,
          737507,
          737508,
          737509,
          737510,
          737511,
          737512,
          737513,
          737514,
          737515,
          737516,
          737517,
          737518,
          737519,
          737520,
          737521,
          737522,
          737523,
          737524,
          737525,
          737526,
          737527,
          737528,
          737529,
          737530,
          737531,
          737532,
          737533,
          737534,
          737535,
          737536,
          737537,
          737538,
          737539,
          737540,
          737541,
          737542,
          737543,
          737544,
          737545,
          737546,
          737547,
          737548,
          737549,
          737550,
          737551,
          737552,
          737553,
          737554,
          737555,
          737556,
          737557,
          737558,
          737559,
          737560,
          737561,
          737562,
          737563,
          737564,
          737565,
          737566,
          737567,
          737568,
          737569,
          737570,
          737571,
          737572,
          737573,
          737574,
          737575,
          737576,
          737577,
          737578,
          737579,
          737580,
          737581,
          737582,
          737583,
          737584,
          737585,
          737586,
          737587,
          737588,
          737589,
          737590,
          737591,
          737592,
          737593,
          737594,
          737595,
          737596,
          737597,
          737598,
          737599,
          737600,
          737601,
          737602,
          737603,
          737604,
          737605,
          737606,
          737607,
          737608,
          737609,
          737610,
          737611,
          737612,
          737613,
          737614,
          737615,
          737616,
          737617,
          737618,
          737619,
          737620,
          737621,
          737622,
          737623,
          737624,
          737625,
          737626,
          737627,
          737628,
          737629,
          737630,
          737631,
          737632
         ],
         "xaxis": "x1",
         "y": [
          1,
          1,
          1,
          3,
          3,
          7,
          13,
          17,
          24,
          38,
          51,
          62,
          62,
          116,
          150,
          202,
          240,
          274,
          402,
          554,
          709,
          927,
          1170,
          1187,
          1280,
          1326,
          1353,
          1380,
          1462,
          1505,
          1585,
          1655,
          1686,
          1749,
          1845,
          1934,
          2003,
          2028,
          2173,
          2272,
          2415,
          2506,
          2605,
          2783,
          3034,
          3158,
          3300,
          3465,
          3635,
          3953,
          4220,
          4361,
          4546,
          4793,
          4996,
          5350,
          5647,
          5951,
          6336,
          6783,
          7220,
          7572,
          7808,
          8232,
          8895,
          9420,
          10015,
          10652,
          11350,
          12074,
          12739,
          13524,
          14355,
          15515,
          16433,
          17200,
          18003,
          19137,
          20125,
          21343,
          22583,
          23615,
          24264,
          25937,
          27403,
          29240,
          30967,
          32683,
          34357,
          35812,
          37525,
          40792,
          43434,
          45973,
          48285,
          50879,
          52991,
          55421,
          58568,
          61927,
          65736,
          70038,
          73533,
          76334,
          80412,
          83890,
          87715,
          92681,
          97302,
          101590,
          106108,
          111796,
          118375,
          124590,
          131800,
          138134,
          144264,
          151209,
          159333,
          168061,
          177124,
          187977,
          196750,
          205721,
          215855,
          224665,
          238339,
          250687,
          264184,
          276242,
          287796,
          298292,
          311049,
          324221,
          337594,
          350879,
          364328,
          373628,
          381798,
          394948,
          408052,
          421996,
          434200,
          445433
         ],
         "yaxis": "y1",
         "zmax": null,
         "zmin": null
        },
        {
         "colorbar": {
          "title": ""
         },
         "hoverinfo": "text",
         "legendgroup": "confirmed cases",
         "marker": {
          "color": "rgba(227, 111, 71, 1.000)",
          "line": {
           "color": "rgba(0, 0, 0, 1.000)",
           "width": 1
          },
          "size": 8,
          "symbol": "circle"
         },
         "mode": "markers",
         "name": "confirmed cases",
         "showlegend": true,
         "text": [
          1,
          1,
          1,
          3,
          3,
          7,
          13,
          17,
          24,
          38,
          51,
          62,
          62,
          116,
          150,
          202,
          240,
          274,
          402,
          554,
          709,
          927,
          1170,
          1187,
          1280,
          1326,
          1353,
          1380,
          1462,
          1505,
          1585,
          1655,
          1686,
          1749,
          1845,
          1934,
          2003,
          2028,
          2173,
          2272,
          2415,
          2506,
          2605,
          2783,
          3034,
          3158,
          3300,
          3465,
          3635,
          3953,
          4220,
          4361,
          4546,
          4793,
          4996,
          5350,
          5647,
          5951,
          6336,
          6783,
          7220,
          7572,
          7808,
          8232,
          8895,
          9420,
          10015,
          10652,
          11350,
          12074,
          12739,
          13524,
          14355,
          15515,
          16433,
          17200,
          18003,
          19137,
          20125,
          21343,
          22583,
          23615,
          24264,
          25937,
          27403,
          29240,
          30967,
          32683,
          34357,
          35812,
          37525,
          40792,
          43434,
          45973,
          48285,
          50879,
          52991,
          55421,
          58568,
          61927,
          65736,
          70038,
          73533,
          76334,
          80412,
          83890,
          87715,
          92681,
          97302,
          101590,
          106108,
          111796,
          118375,
          124590,
          131800,
          138134,
          144264,
          151209,
          159333,
          168061,
          177124,
          187977,
          196750,
          205721,
          215855,
          224665,
          238339,
          250687,
          264184,
          276242,
          287796,
          298292,
          311049,
          324221,
          337594,
          350879,
          364328,
          373628,
          381798,
          394948,
          408052,
          421996,
          434200,
          445433
         ],
         "type": "scatter",
         "x": [
          737489,
          737490,
          737491,
          737492,
          737493,
          737494,
          737495,
          737496,
          737497,
          737498,
          737499,
          737500,
          737501,
          737502,
          737503,
          737504,
          737505,
          737506,
          737507,
          737508,
          737509,
          737510,
          737511,
          737512,
          737513,
          737514,
          737515,
          737516,
          737517,
          737518,
          737519,
          737520,
          737521,
          737522,
          737523,
          737524,
          737525,
          737526,
          737527,
          737528,
          737529,
          737530,
          737531,
          737532,
          737533,
          737534,
          737535,
          737536,
          737537,
          737538,
          737539,
          737540,
          737541,
          737542,
          737543,
          737544,
          737545,
          737546,
          737547,
          737548,
          737549,
          737550,
          737551,
          737552,
          737553,
          737554,
          737555,
          737556,
          737557,
          737558,
          737559,
          737560,
          737561,
          737562,
          737563,
          737564,
          737565,
          737566,
          737567,
          737568,
          737569,
          737570,
          737571,
          737572,
          737573,
          737574,
          737575,
          737576,
          737577,
          737578,
          737579,
          737580,
          737581,
          737582,
          737583,
          737584,
          737585,
          737586,
          737587,
          737588,
          737589,
          737590,
          737591,
          737592,
          737593,
          737594,
          737595,
          737596,
          737597,
          737598,
          737599,
          737600,
          737601,
          737602,
          737603,
          737604,
          737605,
          737606,
          737607,
          737608,
          737609,
          737610,
          737611,
          737612,
          737613,
          737614,
          737615,
          737616,
          737617,
          737618,
          737619,
          737620,
          737621,
          737622,
          737623,
          737624,
          737625,
          737626,
          737627,
          737628,
          737629,
          737630,
          737631,
          737632
         ],
         "xaxis": "x1",
         "y": [
          1,
          1,
          1,
          3,
          3,
          7,
          13,
          17,
          24,
          38,
          51,
          62,
          62,
          116,
          150,
          202,
          240,
          274,
          402,
          554,
          709,
          927,
          1170,
          1187,
          1280,
          1326,
          1353,
          1380,
          1462,
          1505,
          1585,
          1655,
          1686,
          1749,
          1845,
          1934,
          2003,
          2028,
          2173,
          2272,
          2415,
          2506,
          2605,
          2783,
          3034,
          3158,
          3300,
          3465,
          3635,
          3953,
          4220,
          4361,
          4546,
          4793,
          4996,
          5350,
          5647,
          5951,
          6336,
          6783,
          7220,
          7572,
          7808,
          8232,
          8895,
          9420,
          10015,
          10652,
          11350,
          12074,
          12739,
          13524,
          14355,
          15515,
          16433,
          17200,
          18003,
          19137,
          20125,
          21343,
          22583,
          23615,
          24264,
          25937,
          27403,
          29240,
          30967,
          32683,
          34357,
          35812,
          37525,
          40792,
          43434,
          45973,
          48285,
          50879,
          52991,
          55421,
          58568,
          61927,
          65736,
          70038,
          73533,
          76334,
          80412,
          83890,
          87715,
          92681,
          97302,
          101590,
          106108,
          111796,
          118375,
          124590,
          131800,
          138134,
          144264,
          151209,
          159333,
          168061,
          177124,
          187977,
          196750,
          205721,
          215855,
          224665,
          238339,
          250687,
          264184,
          276242,
          287796,
          298292,
          311049,
          324221,
          337594,
          350879,
          364328,
          373628,
          381798,
          394948,
          408052,
          421996,
          434200,
          445433
         ],
         "yaxis": "y1",
         "zmax": null,
         "zmin": null
        }
       ],
       "layout": {
        "annotations": [
         {
          "font": {
           "color": "rgba(0, 0, 0, 1.000)",
           "family": "sans-serif",
           "size": 20
          },
          "rotation": 0,
          "showarrow": false,
          "text": "COVID-19",
          "x": 0.5423611111111111,
          "xanchor": "center",
          "xref": "paper",
          "y": 1,
          "yanchor": "top",
          "yref": "paper"
         }
        ],
        "height": 400,
        "legend": {
         "bgcolor": "rgba(255, 255, 255, 1.000)",
         "bordercolor": "rgba(0, 0, 0, 1.000)",
         "borderwidth": 1,
         "font": {
          "color": "rgba(0, 0, 0, 1.000)",
          "family": "sans-serif",
          "size": 11
         },
         "tracegroupgap": 0,
         "traceorder": "normal",
         "x": 1,
         "xanchor": "right",
         "y": 0.52,
         "yanchor": "middle"
        },
        "margin": {
         "b": 20,
         "l": 0,
         "r": 0,
         "t": 20
        },
        "paper_bgcolor": "rgba(255, 255, 255, 1.000)",
        "plot_bgcolor": "rgba(255, 255, 255, 1.000)",
        "showlegend": true,
        "width": 600,
        "xaxis": {
         "anchor": "y1",
         "domain": [
          0.09128390201224845,
          0.9934383202099738
         ],
         "gridcolor": "rgba(0, 0, 0, 0.100)",
         "gridwidth": 0.5,
         "linecolor": "rgba(0, 0, 0, 1.000)",
         "mirror": false,
         "range": [
          737484.71,
          737636.29
         ],
         "showgrid": false,
         "showline": true,
         "showticklabels": true,
         "tickangle": -45,
         "tickcolor": "rgb(0, 0, 0)",
         "tickfont": {
          "color": "rgba(0, 0, 0, 1.000)",
          "family": "sans-serif",
          "size": 11
         },
         "tickmode": "array",
         "ticks": "inside",
         "ticktext": [
          "2020-03-05",
          "2020-03-19",
          "2020-04-02",
          "2020-04-16",
          "2020-04-30",
          "2020-05-14",
          "2020-05-28",
          "2020-06-11",
          "2020-06-25",
          "2020-07-09",
          "2020-07-23"
         ],
         "tickvals": [
          737489,
          737503,
          737517,
          737531,
          737545,
          737559,
          737573,
          737587,
          737601,
          737615,
          737629
         ],
         "title": "Confirmed cases every 14 days",
         "titlefont": {
          "color": "rgba(0, 0, 0, 1.000)",
          "family": "sans-serif",
          "size": 15
         },
         "type": "-",
         "visible": true,
         "zeroline": false,
         "zerolinecolor": "rgba(0, 0, 0, 1.000)"
        },
        "yaxis": {
         "anchor": "x1",
         "domain": [
          0.22481365942612075,
          0.9415463692038496
         ],
         "gridcolor": "rgba(0, 0, 0, 0.100)",
         "gridwidth": 0.5,
         "linecolor": "rgba(0, 0, 0, 1.000)",
         "mirror": false,
         "range": [
          -0.1694634716607119,
          5.81824586035111
         ],
         "showgrid": false,
         "showline": true,
         "showticklabels": true,
         "tickangle": 0,
         "tickcolor": "rgb(0, 0, 0)",
         "tickfont": {
          "color": "rgba(0, 0, 0, 1.000)",
          "family": "sans-serif",
          "size": 11
         },
         "tickmode": "array",
         "ticks": "inside",
         "ticktext": [
          "10^0",
          "10^1",
          "10^2",
          "10^3",
          "10^4",
          "10^5"
         ],
         "tickvals": [
          1,
          10,
          100,
          1000,
          10000,
          100000
         ],
         "title": "Total confirmed cases",
         "titlefont": {
          "color": "rgba(0, 0, 0, 1.000)",
          "family": "sans-serif",
          "size": 15
         },
         "type": "log",
         "visible": true,
         "zeroline": false,
         "zerolinecolor": "rgba(0, 0, 0, 1.000)"
        }
       }
      },
      "text/html": [
       "<!DOCTYPE html>\n",
       "<html>\n",
       "    <head>\n",
       "        <title>Plots.jl</title>\n",
       "        <meta http-equiv=\"content-type\" content=\"text/html; charset=UTF-8\">\n",
       "        <script src=\"https://cdn.plot.ly/plotly-latest.min.js\"></script>\n",
       "    </head>\n",
       "    <body>\n",
       "            <div id=\"048c1098-cef4-4c22-9c03-1007372a488a\" style=\"width:600px;height:400px;\"></div>\n",
       "    <script>\n",
       "    PLOT = document.getElementById('048c1098-cef4-4c22-9c03-1007372a488a');\n",
       "    Plotly.plot(PLOT, [\n",
       "    {\n",
       "        \"xaxis\": \"x1\",\n",
       "        \"colorbar\": {\n",
       "            \"title\": \"\"\n",
       "        },\n",
       "        \"yaxis\": \"y1\",\n",
       "        \"x\": [\n",
       "            737489.0,\n",
       "            737490.0,\n",
       "            737491.0,\n",
       "            737492.0,\n",
       "            737493.0,\n",
       "            737494.0,\n",
       "            737495.0,\n",
       "            737496.0,\n",
       "            737497.0,\n",
       "            737498.0,\n",
       "            737499.0,\n",
       "            737500.0,\n",
       "            737501.0,\n",
       "            737502.0,\n",
       "            737503.0,\n",
       "            737504.0,\n",
       "            737505.0,\n",
       "            737506.0,\n",
       "            737507.0,\n",
       "            737508.0,\n",
       "            737509.0,\n",
       "            737510.0,\n",
       "            737511.0,\n",
       "            737512.0,\n",
       "            737513.0,\n",
       "            737514.0,\n",
       "            737515.0,\n",
       "            737516.0,\n",
       "            737517.0,\n",
       "            737518.0,\n",
       "            737519.0,\n",
       "            737520.0,\n",
       "            737521.0,\n",
       "            737522.0,\n",
       "            737523.0,\n",
       "            737524.0,\n",
       "            737525.0,\n",
       "            737526.0,\n",
       "            737527.0,\n",
       "            737528.0,\n",
       "            737529.0,\n",
       "            737530.0,\n",
       "            737531.0,\n",
       "            737532.0,\n",
       "            737533.0,\n",
       "            737534.0,\n",
       "            737535.0,\n",
       "            737536.0,\n",
       "            737537.0,\n",
       "            737538.0,\n",
       "            737539.0,\n",
       "            737540.0,\n",
       "            737541.0,\n",
       "            737542.0,\n",
       "            737543.0,\n",
       "            737544.0,\n",
       "            737545.0,\n",
       "            737546.0,\n",
       "            737547.0,\n",
       "            737548.0,\n",
       "            737549.0,\n",
       "            737550.0,\n",
       "            737551.0,\n",
       "            737552.0,\n",
       "            737553.0,\n",
       "            737554.0,\n",
       "            737555.0,\n",
       "            737556.0,\n",
       "            737557.0,\n",
       "            737558.0,\n",
       "            737559.0,\n",
       "            737560.0,\n",
       "            737561.0,\n",
       "            737562.0,\n",
       "            737563.0,\n",
       "            737564.0,\n",
       "            737565.0,\n",
       "            737566.0,\n",
       "            737567.0,\n",
       "            737568.0,\n",
       "            737569.0,\n",
       "            737570.0,\n",
       "            737571.0,\n",
       "            737572.0,\n",
       "            737573.0,\n",
       "            737574.0,\n",
       "            737575.0,\n",
       "            737576.0,\n",
       "            737577.0,\n",
       "            737578.0,\n",
       "            737579.0,\n",
       "            737580.0,\n",
       "            737581.0,\n",
       "            737582.0,\n",
       "            737583.0,\n",
       "            737584.0,\n",
       "            737585.0,\n",
       "            737586.0,\n",
       "            737587.0,\n",
       "            737588.0,\n",
       "            737589.0,\n",
       "            737590.0,\n",
       "            737591.0,\n",
       "            737592.0,\n",
       "            737593.0,\n",
       "            737594.0,\n",
       "            737595.0,\n",
       "            737596.0,\n",
       "            737597.0,\n",
       "            737598.0,\n",
       "            737599.0,\n",
       "            737600.0,\n",
       "            737601.0,\n",
       "            737602.0,\n",
       "            737603.0,\n",
       "            737604.0,\n",
       "            737605.0,\n",
       "            737606.0,\n",
       "            737607.0,\n",
       "            737608.0,\n",
       "            737609.0,\n",
       "            737610.0,\n",
       "            737611.0,\n",
       "            737612.0,\n",
       "            737613.0,\n",
       "            737614.0,\n",
       "            737615.0,\n",
       "            737616.0,\n",
       "            737617.0,\n",
       "            737618.0,\n",
       "            737619.0,\n",
       "            737620.0,\n",
       "            737621.0,\n",
       "            737622.0,\n",
       "            737623.0,\n",
       "            737624.0,\n",
       "            737625.0,\n",
       "            737626.0,\n",
       "            737627.0,\n",
       "            737628.0,\n",
       "            737629.0,\n",
       "            737630.0,\n",
       "            737631.0,\n",
       "            737632.0\n",
       "        ],\n",
       "        \"showlegend\": true,\n",
       "        \"mode\": \"lines\",\n",
       "        \"name\": \"time line\",\n",
       "        \"zmin\": null,\n",
       "        \"legendgroup\": \"time line\",\n",
       "        \"zmax\": null,\n",
       "        \"line\": {\n",
       "            \"color\": \"rgba(0, 154, 250, 1.000)\",\n",
       "            \"shape\": \"linear\",\n",
       "            \"dash\": \"solid\",\n",
       "            \"width\": 1\n",
       "        },\n",
       "        \"y\": [\n",
       "            1.0,\n",
       "            1.0,\n",
       "            1.0,\n",
       "            3.0,\n",
       "            3.0,\n",
       "            7.0,\n",
       "            13.0,\n",
       "            17.0,\n",
       "            24.0,\n",
       "            38.0,\n",
       "            51.0,\n",
       "            62.0,\n",
       "            62.0,\n",
       "            116.0,\n",
       "            150.0,\n",
       "            202.0,\n",
       "            240.0,\n",
       "            274.0,\n",
       "            402.0,\n",
       "            554.0,\n",
       "            709.0,\n",
       "            927.0,\n",
       "            1170.0,\n",
       "            1187.0,\n",
       "            1280.0,\n",
       "            1326.0,\n",
       "            1353.0,\n",
       "            1380.0,\n",
       "            1462.0,\n",
       "            1505.0,\n",
       "            1585.0,\n",
       "            1655.0,\n",
       "            1686.0,\n",
       "            1749.0,\n",
       "            1845.0,\n",
       "            1934.0,\n",
       "            2003.0,\n",
       "            2028.0,\n",
       "            2173.0,\n",
       "            2272.0,\n",
       "            2415.0,\n",
       "            2506.0,\n",
       "            2605.0,\n",
       "            2783.0,\n",
       "            3034.0,\n",
       "            3158.0,\n",
       "            3300.0,\n",
       "            3465.0,\n",
       "            3635.0,\n",
       "            3953.0,\n",
       "            4220.0,\n",
       "            4361.0,\n",
       "            4546.0,\n",
       "            4793.0,\n",
       "            4996.0,\n",
       "            5350.0,\n",
       "            5647.0,\n",
       "            5951.0,\n",
       "            6336.0,\n",
       "            6783.0,\n",
       "            7220.0,\n",
       "            7572.0,\n",
       "            7808.0,\n",
       "            8232.0,\n",
       "            8895.0,\n",
       "            9420.0,\n",
       "            10015.0,\n",
       "            10652.0,\n",
       "            11350.0,\n",
       "            12074.0,\n",
       "            12739.0,\n",
       "            13524.0,\n",
       "            14355.0,\n",
       "            15515.0,\n",
       "            16433.0,\n",
       "            17200.0,\n",
       "            18003.0,\n",
       "            19137.0,\n",
       "            20125.0,\n",
       "            21343.0,\n",
       "            22583.0,\n",
       "            23615.0,\n",
       "            24264.0,\n",
       "            25937.0,\n",
       "            27403.0,\n",
       "            29240.0,\n",
       "            30967.0,\n",
       "            32683.0,\n",
       "            34357.0,\n",
       "            35812.0,\n",
       "            37525.0,\n",
       "            40792.0,\n",
       "            43434.0,\n",
       "            45973.0,\n",
       "            48285.0,\n",
       "            50879.0,\n",
       "            52991.0,\n",
       "            55421.0,\n",
       "            58568.0,\n",
       "            61927.0,\n",
       "            65736.0,\n",
       "            70038.0,\n",
       "            73533.0,\n",
       "            76334.0,\n",
       "            80412.0,\n",
       "            83890.0,\n",
       "            87715.0,\n",
       "            92681.0,\n",
       "            97302.0,\n",
       "            101590.0,\n",
       "            106108.0,\n",
       "            111796.0,\n",
       "            118375.0,\n",
       "            124590.0,\n",
       "            131800.0,\n",
       "            138134.0,\n",
       "            144264.0,\n",
       "            151209.0,\n",
       "            159333.0,\n",
       "            168061.0,\n",
       "            177124.0,\n",
       "            187977.0,\n",
       "            196750.0,\n",
       "            205721.0,\n",
       "            215855.0,\n",
       "            224665.0,\n",
       "            238339.0,\n",
       "            250687.0,\n",
       "            264184.0,\n",
       "            276242.0,\n",
       "            287796.0,\n",
       "            298292.0,\n",
       "            311049.0,\n",
       "            324221.0,\n",
       "            337594.0,\n",
       "            350879.0,\n",
       "            364328.0,\n",
       "            373628.0,\n",
       "            381798.0,\n",
       "            394948.0,\n",
       "            408052.0,\n",
       "            421996.0,\n",
       "            434200.0,\n",
       "            445433.0\n",
       "        ],\n",
       "        \"type\": \"scatter\"\n",
       "    },\n",
       "    {\n",
       "        \"xaxis\": \"x1\",\n",
       "        \"colorbar\": {\n",
       "            \"title\": \"\"\n",
       "        },\n",
       "        \"yaxis\": \"y1\",\n",
       "        \"text\": [\n",
       "            1,\n",
       "            1,\n",
       "            1,\n",
       "            3,\n",
       "            3,\n",
       "            7,\n",
       "            13,\n",
       "            17,\n",
       "            24,\n",
       "            38,\n",
       "            51,\n",
       "            62,\n",
       "            62,\n",
       "            116,\n",
       "            150,\n",
       "            202,\n",
       "            240,\n",
       "            274,\n",
       "            402,\n",
       "            554,\n",
       "            709,\n",
       "            927,\n",
       "            1170,\n",
       "            1187,\n",
       "            1280,\n",
       "            1326,\n",
       "            1353,\n",
       "            1380,\n",
       "            1462,\n",
       "            1505,\n",
       "            1585,\n",
       "            1655,\n",
       "            1686,\n",
       "            1749,\n",
       "            1845,\n",
       "            1934,\n",
       "            2003,\n",
       "            2028,\n",
       "            2173,\n",
       "            2272,\n",
       "            2415,\n",
       "            2506,\n",
       "            2605,\n",
       "            2783,\n",
       "            3034,\n",
       "            3158,\n",
       "            3300,\n",
       "            3465,\n",
       "            3635,\n",
       "            3953,\n",
       "            4220,\n",
       "            4361,\n",
       "            4546,\n",
       "            4793,\n",
       "            4996,\n",
       "            5350,\n",
       "            5647,\n",
       "            5951,\n",
       "            6336,\n",
       "            6783,\n",
       "            7220,\n",
       "            7572,\n",
       "            7808,\n",
       "            8232,\n",
       "            8895,\n",
       "            9420,\n",
       "            10015,\n",
       "            10652,\n",
       "            11350,\n",
       "            12074,\n",
       "            12739,\n",
       "            13524,\n",
       "            14355,\n",
       "            15515,\n",
       "            16433,\n",
       "            17200,\n",
       "            18003,\n",
       "            19137,\n",
       "            20125,\n",
       "            21343,\n",
       "            22583,\n",
       "            23615,\n",
       "            24264,\n",
       "            25937,\n",
       "            27403,\n",
       "            29240,\n",
       "            30967,\n",
       "            32683,\n",
       "            34357,\n",
       "            35812,\n",
       "            37525,\n",
       "            40792,\n",
       "            43434,\n",
       "            45973,\n",
       "            48285,\n",
       "            50879,\n",
       "            52991,\n",
       "            55421,\n",
       "            58568,\n",
       "            61927,\n",
       "            65736,\n",
       "            70038,\n",
       "            73533,\n",
       "            76334,\n",
       "            80412,\n",
       "            83890,\n",
       "            87715,\n",
       "            92681,\n",
       "            97302,\n",
       "            101590,\n",
       "            106108,\n",
       "            111796,\n",
       "            118375,\n",
       "            124590,\n",
       "            131800,\n",
       "            138134,\n",
       "            144264,\n",
       "            151209,\n",
       "            159333,\n",
       "            168061,\n",
       "            177124,\n",
       "            187977,\n",
       "            196750,\n",
       "            205721,\n",
       "            215855,\n",
       "            224665,\n",
       "            238339,\n",
       "            250687,\n",
       "            264184,\n",
       "            276242,\n",
       "            287796,\n",
       "            298292,\n",
       "            311049,\n",
       "            324221,\n",
       "            337594,\n",
       "            350879,\n",
       "            364328,\n",
       "            373628,\n",
       "            381798,\n",
       "            394948,\n",
       "            408052,\n",
       "            421996,\n",
       "            434200,\n",
       "            445433\n",
       "        ],\n",
       "        \"x\": [\n",
       "            737489.0,\n",
       "            737490.0,\n",
       "            737491.0,\n",
       "            737492.0,\n",
       "            737493.0,\n",
       "            737494.0,\n",
       "            737495.0,\n",
       "            737496.0,\n",
       "            737497.0,\n",
       "            737498.0,\n",
       "            737499.0,\n",
       "            737500.0,\n",
       "            737501.0,\n",
       "            737502.0,\n",
       "            737503.0,\n",
       "            737504.0,\n",
       "            737505.0,\n",
       "            737506.0,\n",
       "            737507.0,\n",
       "            737508.0,\n",
       "            737509.0,\n",
       "            737510.0,\n",
       "            737511.0,\n",
       "            737512.0,\n",
       "            737513.0,\n",
       "            737514.0,\n",
       "            737515.0,\n",
       "            737516.0,\n",
       "            737517.0,\n",
       "            737518.0,\n",
       "            737519.0,\n",
       "            737520.0,\n",
       "            737521.0,\n",
       "            737522.0,\n",
       "            737523.0,\n",
       "            737524.0,\n",
       "            737525.0,\n",
       "            737526.0,\n",
       "            737527.0,\n",
       "            737528.0,\n",
       "            737529.0,\n",
       "            737530.0,\n",
       "            737531.0,\n",
       "            737532.0,\n",
       "            737533.0,\n",
       "            737534.0,\n",
       "            737535.0,\n",
       "            737536.0,\n",
       "            737537.0,\n",
       "            737538.0,\n",
       "            737539.0,\n",
       "            737540.0,\n",
       "            737541.0,\n",
       "            737542.0,\n",
       "            737543.0,\n",
       "            737544.0,\n",
       "            737545.0,\n",
       "            737546.0,\n",
       "            737547.0,\n",
       "            737548.0,\n",
       "            737549.0,\n",
       "            737550.0,\n",
       "            737551.0,\n",
       "            737552.0,\n",
       "            737553.0,\n",
       "            737554.0,\n",
       "            737555.0,\n",
       "            737556.0,\n",
       "            737557.0,\n",
       "            737558.0,\n",
       "            737559.0,\n",
       "            737560.0,\n",
       "            737561.0,\n",
       "            737562.0,\n",
       "            737563.0,\n",
       "            737564.0,\n",
       "            737565.0,\n",
       "            737566.0,\n",
       "            737567.0,\n",
       "            737568.0,\n",
       "            737569.0,\n",
       "            737570.0,\n",
       "            737571.0,\n",
       "            737572.0,\n",
       "            737573.0,\n",
       "            737574.0,\n",
       "            737575.0,\n",
       "            737576.0,\n",
       "            737577.0,\n",
       "            737578.0,\n",
       "            737579.0,\n",
       "            737580.0,\n",
       "            737581.0,\n",
       "            737582.0,\n",
       "            737583.0,\n",
       "            737584.0,\n",
       "            737585.0,\n",
       "            737586.0,\n",
       "            737587.0,\n",
       "            737588.0,\n",
       "            737589.0,\n",
       "            737590.0,\n",
       "            737591.0,\n",
       "            737592.0,\n",
       "            737593.0,\n",
       "            737594.0,\n",
       "            737595.0,\n",
       "            737596.0,\n",
       "            737597.0,\n",
       "            737598.0,\n",
       "            737599.0,\n",
       "            737600.0,\n",
       "            737601.0,\n",
       "            737602.0,\n",
       "            737603.0,\n",
       "            737604.0,\n",
       "            737605.0,\n",
       "            737606.0,\n",
       "            737607.0,\n",
       "            737608.0,\n",
       "            737609.0,\n",
       "            737610.0,\n",
       "            737611.0,\n",
       "            737612.0,\n",
       "            737613.0,\n",
       "            737614.0,\n",
       "            737615.0,\n",
       "            737616.0,\n",
       "            737617.0,\n",
       "            737618.0,\n",
       "            737619.0,\n",
       "            737620.0,\n",
       "            737621.0,\n",
       "            737622.0,\n",
       "            737623.0,\n",
       "            737624.0,\n",
       "            737625.0,\n",
       "            737626.0,\n",
       "            737627.0,\n",
       "            737628.0,\n",
       "            737629.0,\n",
       "            737630.0,\n",
       "            737631.0,\n",
       "            737632.0\n",
       "        ],\n",
       "        \"showlegend\": true,\n",
       "        \"mode\": \"markers\",\n",
       "        \"name\": \"confirmed cases\",\n",
       "        \"zmin\": null,\n",
       "        \"legendgroup\": \"confirmed cases\",\n",
       "        \"marker\": {\n",
       "            \"symbol\": \"circle\",\n",
       "            \"color\": \"rgba(227, 111, 71, 1.000)\",\n",
       "            \"line\": {\n",
       "                \"color\": \"rgba(0, 0, 0, 1.000)\",\n",
       "                \"width\": 1\n",
       "            },\n",
       "            \"size\": 8\n",
       "        },\n",
       "        \"zmax\": null,\n",
       "        \"y\": [\n",
       "            1.0,\n",
       "            1.0,\n",
       "            1.0,\n",
       "            3.0,\n",
       "            3.0,\n",
       "            7.0,\n",
       "            13.0,\n",
       "            17.0,\n",
       "            24.0,\n",
       "            38.0,\n",
       "            51.0,\n",
       "            62.0,\n",
       "            62.0,\n",
       "            116.0,\n",
       "            150.0,\n",
       "            202.0,\n",
       "            240.0,\n",
       "            274.0,\n",
       "            402.0,\n",
       "            554.0,\n",
       "            709.0,\n",
       "            927.0,\n",
       "            1170.0,\n",
       "            1187.0,\n",
       "            1280.0,\n",
       "            1326.0,\n",
       "            1353.0,\n",
       "            1380.0,\n",
       "            1462.0,\n",
       "            1505.0,\n",
       "            1585.0,\n",
       "            1655.0,\n",
       "            1686.0,\n",
       "            1749.0,\n",
       "            1845.0,\n",
       "            1934.0,\n",
       "            2003.0,\n",
       "            2028.0,\n",
       "            2173.0,\n",
       "            2272.0,\n",
       "            2415.0,\n",
       "            2506.0,\n",
       "            2605.0,\n",
       "            2783.0,\n",
       "            3034.0,\n",
       "            3158.0,\n",
       "            3300.0,\n",
       "            3465.0,\n",
       "            3635.0,\n",
       "            3953.0,\n",
       "            4220.0,\n",
       "            4361.0,\n",
       "            4546.0,\n",
       "            4793.0,\n",
       "            4996.0,\n",
       "            5350.0,\n",
       "            5647.0,\n",
       "            5951.0,\n",
       "            6336.0,\n",
       "            6783.0,\n",
       "            7220.0,\n",
       "            7572.0,\n",
       "            7808.0,\n",
       "            8232.0,\n",
       "            8895.0,\n",
       "            9420.0,\n",
       "            10015.0,\n",
       "            10652.0,\n",
       "            11350.0,\n",
       "            12074.0,\n",
       "            12739.0,\n",
       "            13524.0,\n",
       "            14355.0,\n",
       "            15515.0,\n",
       "            16433.0,\n",
       "            17200.0,\n",
       "            18003.0,\n",
       "            19137.0,\n",
       "            20125.0,\n",
       "            21343.0,\n",
       "            22583.0,\n",
       "            23615.0,\n",
       "            24264.0,\n",
       "            25937.0,\n",
       "            27403.0,\n",
       "            29240.0,\n",
       "            30967.0,\n",
       "            32683.0,\n",
       "            34357.0,\n",
       "            35812.0,\n",
       "            37525.0,\n",
       "            40792.0,\n",
       "            43434.0,\n",
       "            45973.0,\n",
       "            48285.0,\n",
       "            50879.0,\n",
       "            52991.0,\n",
       "            55421.0,\n",
       "            58568.0,\n",
       "            61927.0,\n",
       "            65736.0,\n",
       "            70038.0,\n",
       "            73533.0,\n",
       "            76334.0,\n",
       "            80412.0,\n",
       "            83890.0,\n",
       "            87715.0,\n",
       "            92681.0,\n",
       "            97302.0,\n",
       "            101590.0,\n",
       "            106108.0,\n",
       "            111796.0,\n",
       "            118375.0,\n",
       "            124590.0,\n",
       "            131800.0,\n",
       "            138134.0,\n",
       "            144264.0,\n",
       "            151209.0,\n",
       "            159333.0,\n",
       "            168061.0,\n",
       "            177124.0,\n",
       "            187977.0,\n",
       "            196750.0,\n",
       "            205721.0,\n",
       "            215855.0,\n",
       "            224665.0,\n",
       "            238339.0,\n",
       "            250687.0,\n",
       "            264184.0,\n",
       "            276242.0,\n",
       "            287796.0,\n",
       "            298292.0,\n",
       "            311049.0,\n",
       "            324221.0,\n",
       "            337594.0,\n",
       "            350879.0,\n",
       "            364328.0,\n",
       "            373628.0,\n",
       "            381798.0,\n",
       "            394948.0,\n",
       "            408052.0,\n",
       "            421996.0,\n",
       "            434200.0,\n",
       "            445433.0\n",
       "        ],\n",
       "        \"type\": \"scatter\",\n",
       "        \"hoverinfo\": \"text\"\n",
       "    }\n",
       "]\n",
       ", {\n",
       "    \"showlegend\": true,\n",
       "    \"xaxis\": {\n",
       "        \"showticklabels\": true,\n",
       "        \"gridwidth\": 0.5,\n",
       "        \"tickvals\": [\n",
       "            737489.0,\n",
       "            737503.0,\n",
       "            737517.0,\n",
       "            737531.0,\n",
       "            737545.0,\n",
       "            737559.0,\n",
       "            737573.0,\n",
       "            737587.0,\n",
       "            737601.0,\n",
       "            737615.0,\n",
       "            737629.0\n",
       "        ],\n",
       "        \"visible\": true,\n",
       "        \"ticks\": \"inside\",\n",
       "        \"range\": [\n",
       "            737484.71,\n",
       "            737636.29\n",
       "        ],\n",
       "        \"domain\": [\n",
       "            0.09128390201224845,\n",
       "            0.9934383202099738\n",
       "        ],\n",
       "        \"tickmode\": \"array\",\n",
       "        \"linecolor\": \"rgba(0, 0, 0, 1.000)\",\n",
       "        \"showgrid\": false,\n",
       "        \"title\": \"Confirmed cases every 14 days\",\n",
       "        \"mirror\": false,\n",
       "        \"tickangle\": -45,\n",
       "        \"showline\": true,\n",
       "        \"gridcolor\": \"rgba(0, 0, 0, 0.100)\",\n",
       "        \"titlefont\": {\n",
       "            \"color\": \"rgba(0, 0, 0, 1.000)\",\n",
       "            \"family\": \"sans-serif\",\n",
       "            \"size\": 15\n",
       "        },\n",
       "        \"tickcolor\": \"rgb(0, 0, 0)\",\n",
       "        \"ticktext\": [\n",
       "            \"2020-03-05\",\n",
       "            \"2020-03-19\",\n",
       "            \"2020-04-02\",\n",
       "            \"2020-04-16\",\n",
       "            \"2020-04-30\",\n",
       "            \"2020-05-14\",\n",
       "            \"2020-05-28\",\n",
       "            \"2020-06-11\",\n",
       "            \"2020-06-25\",\n",
       "            \"2020-07-09\",\n",
       "            \"2020-07-23\"\n",
       "        ],\n",
       "        \"zeroline\": false,\n",
       "        \"type\": \"-\",\n",
       "        \"tickfont\": {\n",
       "            \"color\": \"rgba(0, 0, 0, 1.000)\",\n",
       "            \"family\": \"sans-serif\",\n",
       "            \"size\": 11\n",
       "        },\n",
       "        \"zerolinecolor\": \"rgba(0, 0, 0, 1.000)\",\n",
       "        \"anchor\": \"y1\"\n",
       "    },\n",
       "    \"paper_bgcolor\": \"rgba(255, 255, 255, 1.000)\",\n",
       "    \"annotations\": [\n",
       "        {\n",
       "            \"yanchor\": \"top\",\n",
       "            \"xanchor\": \"center\",\n",
       "            \"rotation\": -0.0,\n",
       "            \"y\": 1.0,\n",
       "            \"font\": {\n",
       "                \"color\": \"rgba(0, 0, 0, 1.000)\",\n",
       "                \"family\": \"sans-serif\",\n",
       "                \"size\": 20\n",
       "            },\n",
       "            \"yref\": \"paper\",\n",
       "            \"showarrow\": false,\n",
       "            \"text\": \"COVID-19\",\n",
       "            \"xref\": \"paper\",\n",
       "            \"x\": 0.5423611111111111\n",
       "        }\n",
       "    ],\n",
       "    \"height\": 400,\n",
       "    \"margin\": {\n",
       "        \"l\": 0,\n",
       "        \"b\": 20,\n",
       "        \"r\": 0,\n",
       "        \"t\": 20\n",
       "    },\n",
       "    \"plot_bgcolor\": \"rgba(255, 255, 255, 1.000)\",\n",
       "    \"yaxis\": {\n",
       "        \"showticklabels\": true,\n",
       "        \"gridwidth\": 0.5,\n",
       "        \"tickvals\": [\n",
       "            1.0,\n",
       "            10.0,\n",
       "            100.0,\n",
       "            1000.0,\n",
       "            10000.0,\n",
       "            100000.0\n",
       "        ],\n",
       "        \"visible\": true,\n",
       "        \"ticks\": \"inside\",\n",
       "        \"range\": [\n",
       "            -0.1694634716607119,\n",
       "            5.81824586035111\n",
       "        ],\n",
       "        \"domain\": [\n",
       "            0.22481365942612075,\n",
       "            0.9415463692038496\n",
       "        ],\n",
       "        \"tickmode\": \"array\",\n",
       "        \"linecolor\": \"rgba(0, 0, 0, 1.000)\",\n",
       "        \"showgrid\": false,\n",
       "        \"title\": \"Total confirmed cases\",\n",
       "        \"mirror\": false,\n",
       "        \"tickangle\": 0,\n",
       "        \"showline\": true,\n",
       "        \"gridcolor\": \"rgba(0, 0, 0, 0.100)\",\n",
       "        \"titlefont\": {\n",
       "            \"color\": \"rgba(0, 0, 0, 1.000)\",\n",
       "            \"family\": \"sans-serif\",\n",
       "            \"size\": 15\n",
       "        },\n",
       "        \"tickcolor\": \"rgb(0, 0, 0)\",\n",
       "        \"ticktext\": [\n",
       "            \"10^0\",\n",
       "            \"10^1\",\n",
       "            \"10^2\",\n",
       "            \"10^3\",\n",
       "            \"10^4\",\n",
       "            \"10^5\"\n",
       "        ],\n",
       "        \"zeroline\": false,\n",
       "        \"type\": \"log\",\n",
       "        \"tickfont\": {\n",
       "            \"color\": \"rgba(0, 0, 0, 1.000)\",\n",
       "            \"family\": \"sans-serif\",\n",
       "            \"size\": 11\n",
       "        },\n",
       "        \"zerolinecolor\": \"rgba(0, 0, 0, 1.000)\",\n",
       "        \"anchor\": \"x1\"\n",
       "    },\n",
       "    \"legend\": {\n",
       "        \"yanchor\": \"middle\",\n",
       "        \"xanchor\": \"right\",\n",
       "        \"bordercolor\": \"rgba(0, 0, 0, 1.000)\",\n",
       "        \"bgcolor\": \"rgba(255, 255, 255, 1.000)\",\n",
       "        \"font\": {\n",
       "            \"color\": \"rgba(0, 0, 0, 1.000)\",\n",
       "            \"family\": \"sans-serif\",\n",
       "            \"size\": 11\n",
       "        },\n",
       "        \"tracegroupgap\": 0,\n",
       "        \"y\": 0.52,\n",
       "        \"borderwidth\": 1,\n",
       "        \"traceorder\": \"normal\",\n",
       "        \"x\": 1.0\n",
       "    },\n",
       "    \"width\": 600\n",
       "}\n",
       ");\n",
       "    </script>\n",
       "\n",
       "    </body>\n",
       "</html>\n"
      ]
     },
     "execution_count": 82,
     "metadata": {},
     "output_type": "execute_result"
    }
   ],
   "source": [
    "#Notes:\n",
    "#Added scatter!()\n",
    "#confirmeddays = x\n",
    "#sadata = y.\n",
    "#xticks=confirmeddays[1:14:end] : Every 14 days\n",
    "#optional label=\"time line\" m=:o  The letter o form the point in the graph\n",
    "\n",
    "covid19confirmedcases = plot(confirmeddays, label=\"time line\", sadata,\n",
    "                                xticks=confirmeddays[1:14:end], \n",
    "                                xrotation=45, \n",
    "                                leg=:right, \n",
    "                                yscale=:log10,\n",
    "                                grid=false)\n",
    "    scatter!(confirmeddays, sadata, \n",
    "            linewidths=1, \n",
    "            hover=sadata,\n",
    "            label = \"confirmed cases\")\n",
    "\n",
    "theme(:dark)\n",
    "xlabel!(\"Confirmed cases every 14 days\")\n",
    "ylabel!(\"Total confirmed cases\")\n",
    "title!(\"COVID-19\")\n",
    " \n"
   ]
  }
 ],
 "metadata": {
  "@webio": {
   "lastCommId": "5a64c5ba47fb44b1be7186546bb71059",
   "lastKernelId": "b9c76d26-75a8-4e66-99f0-535227d6feb4"
  },
  "kernelspec": {
   "display_name": "Julia 1.4.2",
   "language": "julia",
   "name": "julia-1.4"
  },
  "language_info": {
   "file_extension": ".jl",
   "mimetype": "application/julia",
   "name": "julia",
   "version": "1.4.2"
  }
 },
 "nbformat": 4,
 "nbformat_minor": 4
}

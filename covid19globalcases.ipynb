{
 "cells": [
  {
   "cell_type": "markdown",
   "metadata": {},
   "source": [
    "***Exploring data on COVID-19***"
   ]
  },
  {
   "cell_type": "code",
   "execution_count": 1,
   "metadata": {},
   "outputs": [
    {
     "data": {
      "text/html": [
       "<script>\n",
       "// Immediately-invoked-function-expression to avoid global variables.\n",
       "(function() {\n",
       "    var warning_div = document.getElementById(\"webio-warning-17746801748247525954\");\n",
       "    var hide = function () {\n",
       "        var script = document.getElementById(\"webio-setup-12202355560904268088\");\n",
       "        var parent = script && script.parentElement;\n",
       "        var grandparent = parent && parent.parentElement;\n",
       "        if (grandparent) {\n",
       "            grandparent.style.display = \"none\";\n",
       "        }\n",
       "        warning_div.style.display = \"none\";\n",
       "    };\n",
       "    if (typeof Jupyter !== \"undefined\") {\n",
       "        console.log(\"WebIO detected Jupyter notebook environment.\");\n",
       "        // Jupyter notebook.\n",
       "        var extensions = (\n",
       "            Jupyter\n",
       "            && Jupyter.notebook.config.data\n",
       "            && Jupyter.notebook.config.data.load_extensions\n",
       "        );\n",
       "        if (extensions && extensions[\"webio-jupyter-notebook\"]) {\n",
       "            // Extension already loaded.\n",
       "            console.log(\"Jupyter WebIO nbextension detected; not loading ad-hoc.\");\n",
       "            hide();\n",
       "            return;\n",
       "        }\n",
       "    } else if (window.location.pathname.includes(\"/lab\")) {\n",
       "        // Guessing JupyterLa\n",
       "        console.log(\"Jupyter Lab detected; make sure the @webio/jupyter-lab-provider labextension is installed.\");\n",
       "        hide();\n",
       "        return;\n",
       "    }\n",
       "})();\n",
       "\n",
       "</script>\n",
       "<p\n",
       "    id=\"webio-warning-17746801748247525954\"\n",
       "    class=\"output_text output_stderr\"\n",
       "    style=\"padding: 1em; font-weight: bold;\"\n",
       ">\n",
       "    Unable to load WebIO. Please make sure WebIO works for your Jupyter client.\n",
       "    For troubleshooting, please see <a href=\"https://juliagizmos.github.io/WebIO.jl/latest/providers/ijulia/\">\n",
       "    the WebIO/IJulia documentation</a>.\n",
       "    <!-- TODO: link to installation docs. -->\n",
       "</p>\n"
      ],
      "text/plain": [
       "HTML{String}(\"<script>\\n// Immediately-invoked-function-expression to avoid global variables.\\n(function() {\\n    var warning_div = document.getElementById(\\\"webio-warning-17746801748247525954\\\");\\n    var hide = function () {\\n        var script = document.getElementById(\\\"webio-setup-12202355560904268088\\\");\\n        var parent = script && script.parentElement;\\n        var grandparent = parent && parent.parentElement;\\n        if (grandparent) {\\n            grandparent.style.display = \\\"none\\\";\\n        }\\n        warning_div.style.display = \\\"none\\\";\\n    };\\n    if (typeof Jupyter !== \\\"undefined\\\") {\\n        console.log(\\\"WebIO detected Jupyter notebook environment.\\\");\\n        // Jupyter notebook.\\n        var extensions = (\\n            Jupyter\\n            && Jupyter.notebook.config.data\\n            && Jupyter.notebook.config.data.load_extensions\\n        );\\n        if (extensions && extensions[\\\"webio-jupyter-notebook\\\"]) {\\n            // Extension already loaded.\\n            console.log(\\\"Jupyter WebIO nbextension detected; not loading ad-hoc.\\\");\\n            hide();\\n            return;\\n        }\\n    } else if (window.location.pathname.includes(\\\"/lab\\\")) {\\n        // Guessing JupyterLa\\n        console.log(\\\"Jupyter Lab detected; make sure the @webio/jupyter-lab-provider labextension is installed.\\\");\\n        hide();\\n        return;\\n    }\\n})();\\n\\n</script>\\n<p\\n    id=\\\"webio-warning-17746801748247525954\\\"\\n    class=\\\"output_text output_stderr\\\"\\n    style=\\\"padding: 1em; font-weight: bold;\\\"\\n>\\n    Unable to load WebIO. Please make sure WebIO works for your Jupyter client.\\n    For troubleshooting, please see <a href=\\\"https://juliagizmos.github.io/WebIO.jl/latest/providers/ijulia/\\\">\\n    the WebIO/IJulia documentation</a>.\\n    <!-- TODO: link to installation docs. -->\\n</p>\\n\")"
      ]
     },
     "metadata": {},
     "output_type": "display_data"
    }
   ],
   "source": [
    "using Interact\n",
    "using CSV\n",
    "using DataFrames\n",
    "using Dates\n",
    "using PlotThemes\n",
    "using WebIO"
   ]
  },
  {
   "cell_type": "code",
   "execution_count": 2,
   "metadata": {},
   "outputs": [
    {
     "data": {
      "text/plain": [
       "\"https://raw.githubusercontent.com/CSSEGISandData/COVID-19/master/csse_covid_19_data/csse_covid_19_time_series/time_series_covid19_confirmed_global.csv\""
      ]
     },
     "execution_count": 2,
     "metadata": {},
     "output_type": "execute_result"
    }
   ],
   "source": [
    "# Open your web browser and search for johns hopkins coronavirus data github -> CSSEGISandData/COVID-19->COVID-19\n",
    "# ->csse_covid_19_data->csse covid 19 timer series. Select the time series covid19 confirmed global.csv file and on the top\n",
    "# right corner of the page click on raw. You will be presented with the actual csv file and proceed into copying the whole link\n",
    "# in the web browser search bar.\n",
    "\n",
    "url = \"https://raw.githubusercontent.com/CSSEGISandData/COVID-19/master/csse_covid_19_data/csse_covid_19_time_series/time_series_covid19_confirmed_global.csv\""
   ]
  },
  {
   "cell_type": "code",
   "execution_count": 3,
   "metadata": {},
   "outputs": [
    {
     "data": {
      "text/plain": [
       "\"https://raw.githubusercontent.com/CSSEGISandData/COVID-19/master/csse_covid_19_data/csse_covid_19_time_series/time_series_covid19_confirmed_global.csv\""
      ]
     },
     "execution_count": 3,
     "metadata": {},
     "output_type": "execute_result"
    }
   ],
   "source": [
    "url"
   ]
  },
  {
   "cell_type": "markdown",
   "metadata": {},
   "source": [
    "download() retrievs the data. Note the arguments in parentheses"
   ]
  },
  {
   "cell_type": "code",
   "execution_count": 4,
   "metadata": {},
   "outputs": [
    {
     "data": {
      "text/plain": [
       "\"covid_19_confirmed_global.csv\""
      ]
     },
     "execution_count": 4,
     "metadata": {},
     "output_type": "execute_result"
    }
   ],
   "source": [
    "#File will be downloaded in the same directory(folder) where the .ipynb file is located\n",
    "download(url, \"covid_19_confirmed_global.csv\") "
   ]
  },
  {
   "cell_type": "code",
   "execution_count": 5,
   "metadata": {},
   "outputs": [
    {
     "data": {
      "text/html": [
       "<table class=\"data-frame\"><thead><tr><th></th><th>Province/State</th><th>Country/Region</th><th>Lat</th><th>Long</th><th>1/22/20</th></tr><tr><th></th><th>String?</th><th>String</th><th>Float64</th><th>Float64</th><th>Int64</th></tr></thead><tbody><p>266 rows × 194 columns (omitted printing of 189 columns)</p><tr><th>1</th><td><em>missing</em></td><td>Afghanistan</td><td>33.9391</td><td>67.71</td><td>0</td></tr><tr><th>2</th><td><em>missing</em></td><td>Albania</td><td>41.1533</td><td>20.1683</td><td>0</td></tr><tr><th>3</th><td><em>missing</em></td><td>Algeria</td><td>28.0339</td><td>1.6596</td><td>0</td></tr><tr><th>4</th><td><em>missing</em></td><td>Andorra</td><td>42.5063</td><td>1.5218</td><td>0</td></tr><tr><th>5</th><td><em>missing</em></td><td>Angola</td><td>-11.2027</td><td>17.8739</td><td>0</td></tr><tr><th>6</th><td><em>missing</em></td><td>Antigua and Barbuda</td><td>17.0608</td><td>-61.7964</td><td>0</td></tr><tr><th>7</th><td><em>missing</em></td><td>Argentina</td><td>-38.4161</td><td>-63.6167</td><td>0</td></tr><tr><th>8</th><td><em>missing</em></td><td>Armenia</td><td>40.0691</td><td>45.0382</td><td>0</td></tr><tr><th>9</th><td>Australian Capital Territory</td><td>Australia</td><td>-35.4735</td><td>149.012</td><td>0</td></tr><tr><th>10</th><td>New South Wales</td><td>Australia</td><td>-33.8688</td><td>151.209</td><td>0</td></tr><tr><th>11</th><td>Northern Territory</td><td>Australia</td><td>-12.4634</td><td>130.846</td><td>0</td></tr><tr><th>12</th><td>Queensland</td><td>Australia</td><td>-27.4698</td><td>153.025</td><td>0</td></tr><tr><th>13</th><td>South Australia</td><td>Australia</td><td>-34.9285</td><td>138.601</td><td>0</td></tr><tr><th>14</th><td>Tasmania</td><td>Australia</td><td>-42.8821</td><td>147.327</td><td>0</td></tr><tr><th>15</th><td>Victoria</td><td>Australia</td><td>-37.8136</td><td>144.963</td><td>0</td></tr><tr><th>16</th><td>Western Australia</td><td>Australia</td><td>-31.9505</td><td>115.861</td><td>0</td></tr><tr><th>17</th><td><em>missing</em></td><td>Austria</td><td>47.5162</td><td>14.5501</td><td>0</td></tr><tr><th>18</th><td><em>missing</em></td><td>Azerbaijan</td><td>40.1431</td><td>47.5769</td><td>0</td></tr><tr><th>19</th><td><em>missing</em></td><td>Bahamas</td><td>25.0259</td><td>-78.0359</td><td>0</td></tr><tr><th>20</th><td><em>missing</em></td><td>Bahrain</td><td>26.0275</td><td>50.55</td><td>0</td></tr><tr><th>21</th><td><em>missing</em></td><td>Bangladesh</td><td>23.685</td><td>90.3563</td><td>0</td></tr><tr><th>22</th><td><em>missing</em></td><td>Barbados</td><td>13.1939</td><td>-59.5432</td><td>0</td></tr><tr><th>23</th><td><em>missing</em></td><td>Belarus</td><td>53.7098</td><td>27.9534</td><td>0</td></tr><tr><th>24</th><td><em>missing</em></td><td>Belgium</td><td>50.8333</td><td>4.46994</td><td>0</td></tr><tr><th>25</th><td><em>missing</em></td><td>Benin</td><td>9.3077</td><td>2.3158</td><td>0</td></tr><tr><th>26</th><td><em>missing</em></td><td>Bhutan</td><td>27.5142</td><td>90.4336</td><td>0</td></tr><tr><th>27</th><td><em>missing</em></td><td>Bolivia</td><td>-16.2902</td><td>-63.5887</td><td>0</td></tr><tr><th>28</th><td><em>missing</em></td><td>Bosnia and Herzegovina</td><td>43.9159</td><td>17.6791</td><td>0</td></tr><tr><th>29</th><td><em>missing</em></td><td>Brazil</td><td>-14.235</td><td>-51.9253</td><td>0</td></tr><tr><th>30</th><td><em>missing</em></td><td>Brunei</td><td>4.5353</td><td>114.728</td><td>0</td></tr><tr><th>&vellip;</th><td>&vellip;</td><td>&vellip;</td><td>&vellip;</td><td>&vellip;</td><td>&vellip;</td></tr></tbody></table>"
      ],
      "text/latex": [
       "\\begin{tabular}{r|cccccc}\n",
       "\t& Province/State & Country/Region & Lat & Long & 1/22/20 & \\\\\n",
       "\t\\hline\n",
       "\t& String? & String & Float64 & Float64 & Int64 & \\\\\n",
       "\t\\hline\n",
       "\t1 & \\emph{missing} & Afghanistan & 33.9391 & 67.71 & 0 & $\\dots$ \\\\\n",
       "\t2 & \\emph{missing} & Albania & 41.1533 & 20.1683 & 0 & $\\dots$ \\\\\n",
       "\t3 & \\emph{missing} & Algeria & 28.0339 & 1.6596 & 0 & $\\dots$ \\\\\n",
       "\t4 & \\emph{missing} & Andorra & 42.5063 & 1.5218 & 0 & $\\dots$ \\\\\n",
       "\t5 & \\emph{missing} & Angola & -11.2027 & 17.8739 & 0 & $\\dots$ \\\\\n",
       "\t6 & \\emph{missing} & Antigua and Barbuda & 17.0608 & -61.7964 & 0 & $\\dots$ \\\\\n",
       "\t7 & \\emph{missing} & Argentina & -38.4161 & -63.6167 & 0 & $\\dots$ \\\\\n",
       "\t8 & \\emph{missing} & Armenia & 40.0691 & 45.0382 & 0 & $\\dots$ \\\\\n",
       "\t9 & Australian Capital Territory & Australia & -35.4735 & 149.012 & 0 & $\\dots$ \\\\\n",
       "\t10 & New South Wales & Australia & -33.8688 & 151.209 & 0 & $\\dots$ \\\\\n",
       "\t11 & Northern Territory & Australia & -12.4634 & 130.846 & 0 & $\\dots$ \\\\\n",
       "\t12 & Queensland & Australia & -27.4698 & 153.025 & 0 & $\\dots$ \\\\\n",
       "\t13 & South Australia & Australia & -34.9285 & 138.601 & 0 & $\\dots$ \\\\\n",
       "\t14 & Tasmania & Australia & -42.8821 & 147.327 & 0 & $\\dots$ \\\\\n",
       "\t15 & Victoria & Australia & -37.8136 & 144.963 & 0 & $\\dots$ \\\\\n",
       "\t16 & Western Australia & Australia & -31.9505 & 115.861 & 0 & $\\dots$ \\\\\n",
       "\t17 & \\emph{missing} & Austria & 47.5162 & 14.5501 & 0 & $\\dots$ \\\\\n",
       "\t18 & \\emph{missing} & Azerbaijan & 40.1431 & 47.5769 & 0 & $\\dots$ \\\\\n",
       "\t19 & \\emph{missing} & Bahamas & 25.0259 & -78.0359 & 0 & $\\dots$ \\\\\n",
       "\t20 & \\emph{missing} & Bahrain & 26.0275 & 50.55 & 0 & $\\dots$ \\\\\n",
       "\t21 & \\emph{missing} & Bangladesh & 23.685 & 90.3563 & 0 & $\\dots$ \\\\\n",
       "\t22 & \\emph{missing} & Barbados & 13.1939 & -59.5432 & 0 & $\\dots$ \\\\\n",
       "\t23 & \\emph{missing} & Belarus & 53.7098 & 27.9534 & 0 & $\\dots$ \\\\\n",
       "\t24 & \\emph{missing} & Belgium & 50.8333 & 4.46994 & 0 & $\\dots$ \\\\\n",
       "\t25 & \\emph{missing} & Benin & 9.3077 & 2.3158 & 0 & $\\dots$ \\\\\n",
       "\t26 & \\emph{missing} & Bhutan & 27.5142 & 90.4336 & 0 & $\\dots$ \\\\\n",
       "\t27 & \\emph{missing} & Bolivia & -16.2902 & -63.5887 & 0 & $\\dots$ \\\\\n",
       "\t28 & \\emph{missing} & Bosnia and Herzegovina & 43.9159 & 17.6791 & 0 & $\\dots$ \\\\\n",
       "\t29 & \\emph{missing} & Brazil & -14.235 & -51.9253 & 0 & $\\dots$ \\\\\n",
       "\t30 & \\emph{missing} & Brunei & 4.5353 & 114.728 & 0 & $\\dots$ \\\\\n",
       "\t$\\dots$ & $\\dots$ & $\\dots$ & $\\dots$ & $\\dots$ & $\\dots$ &  \\\\\n",
       "\\end{tabular}\n"
      ],
      "text/plain": [
       "266×194 DataFrame. Omitted printing of 191 columns\n",
       "│ Row │ Province/State                   │ Country/Region        │ Lat      │\n",
       "│     │ \u001b[90mUnion{Missing, String}\u001b[39m           │ \u001b[90mString\u001b[39m                │ \u001b[90mFloat64\u001b[39m  │\n",
       "├─────┼──────────────────────────────────┼───────────────────────┼──────────┤\n",
       "│ 1   │ \u001b[90mmissing\u001b[39m                          │ Afghanistan           │ 33.9391  │\n",
       "│ 2   │ \u001b[90mmissing\u001b[39m                          │ Albania               │ 41.1533  │\n",
       "│ 3   │ \u001b[90mmissing\u001b[39m                          │ Algeria               │ 28.0339  │\n",
       "│ 4   │ \u001b[90mmissing\u001b[39m                          │ Andorra               │ 42.5063  │\n",
       "│ 5   │ \u001b[90mmissing\u001b[39m                          │ Angola                │ -11.2027 │\n",
       "│ 6   │ \u001b[90mmissing\u001b[39m                          │ Antigua and Barbuda   │ 17.0608  │\n",
       "│ 7   │ \u001b[90mmissing\u001b[39m                          │ Argentina             │ -38.4161 │\n",
       "│ 8   │ \u001b[90mmissing\u001b[39m                          │ Armenia               │ 40.0691  │\n",
       "│ 9   │ Australian Capital Territory     │ Australia             │ -35.4735 │\n",
       "│ 10  │ New South Wales                  │ Australia             │ -33.8688 │\n",
       "⋮\n",
       "│ 256 │ Bonaire, Sint Eustatius and Saba │ Netherlands           │ 12.1784  │\n",
       "│ 257 │ \u001b[90mmissing\u001b[39m                          │ Malawi                │ -13.2543 │\n",
       "│ 258 │ Falkland Islands (Malvinas)      │ United Kingdom        │ -51.7963 │\n",
       "│ 259 │ Saint Pierre and Miquelon        │ France                │ 46.8852  │\n",
       "│ 260 │ \u001b[90mmissing\u001b[39m                          │ South Sudan           │ 6.877    │\n",
       "│ 261 │ \u001b[90mmissing\u001b[39m                          │ Western Sahara        │ 24.2155  │\n",
       "│ 262 │ \u001b[90mmissing\u001b[39m                          │ Sao Tome and Principe │ 0.1864   │\n",
       "│ 263 │ \u001b[90mmissing\u001b[39m                          │ Yemen                 │ 15.5527  │\n",
       "│ 264 │ \u001b[90mmissing\u001b[39m                          │ Comoros               │ -11.6455 │\n",
       "│ 265 │ \u001b[90mmissing\u001b[39m                          │ Tajikistan            │ 38.861   │\n",
       "│ 266 │ \u001b[90mmissing\u001b[39m                          │ Lesotho               │ -29.61   │"
      ]
     },
     "execution_count": 5,
     "metadata": {},
     "output_type": "execute_result"
    }
   ],
   "source": [
    "CSV.read(\"covid_19_confirmed_global.csv\") #run the function 'read' from the package CSV"
   ]
  },
  {
   "cell_type": "code",
   "execution_count": 6,
   "metadata": {},
   "outputs": [],
   "source": [
    "data = CSV.read(\"covid_19_confirmed_global.csv\"); # semi-colon supresses the display of the output"
   ]
  },
  {
   "cell_type": "code",
   "execution_count": 7,
   "metadata": {},
   "outputs": [
    {
     "data": {
      "text/plain": [
       "DataFrame"
      ]
     },
     "execution_count": 7,
     "metadata": {},
     "output_type": "execute_result"
    }
   ],
   "source": [
    "typeof(data)"
   ]
  },
  {
   "cell_type": "code",
   "execution_count": 8,
   "metadata": {},
   "outputs": [
    {
     "data": {
      "text/html": [
       "<table class=\"data-frame\"><thead><tr><th></th><th>Province/State</th><th>Country/Region</th><th>Lat</th><th>Long</th><th>1/22/20</th></tr><tr><th></th><th>String?</th><th>String</th><th>Float64</th><th>Float64</th><th>Int64</th></tr></thead><tbody><p>266 rows × 194 columns (omitted printing of 189 columns)</p><tr><th>1</th><td><em>missing</em></td><td>Afghanistan</td><td>33.9391</td><td>67.71</td><td>0</td></tr><tr><th>2</th><td><em>missing</em></td><td>Albania</td><td>41.1533</td><td>20.1683</td><td>0</td></tr><tr><th>3</th><td><em>missing</em></td><td>Algeria</td><td>28.0339</td><td>1.6596</td><td>0</td></tr><tr><th>4</th><td><em>missing</em></td><td>Andorra</td><td>42.5063</td><td>1.5218</td><td>0</td></tr><tr><th>5</th><td><em>missing</em></td><td>Angola</td><td>-11.2027</td><td>17.8739</td><td>0</td></tr><tr><th>6</th><td><em>missing</em></td><td>Antigua and Barbuda</td><td>17.0608</td><td>-61.7964</td><td>0</td></tr><tr><th>7</th><td><em>missing</em></td><td>Argentina</td><td>-38.4161</td><td>-63.6167</td><td>0</td></tr><tr><th>8</th><td><em>missing</em></td><td>Armenia</td><td>40.0691</td><td>45.0382</td><td>0</td></tr><tr><th>9</th><td>Australian Capital Territory</td><td>Australia</td><td>-35.4735</td><td>149.012</td><td>0</td></tr><tr><th>10</th><td>New South Wales</td><td>Australia</td><td>-33.8688</td><td>151.209</td><td>0</td></tr><tr><th>11</th><td>Northern Territory</td><td>Australia</td><td>-12.4634</td><td>130.846</td><td>0</td></tr><tr><th>12</th><td>Queensland</td><td>Australia</td><td>-27.4698</td><td>153.025</td><td>0</td></tr><tr><th>13</th><td>South Australia</td><td>Australia</td><td>-34.9285</td><td>138.601</td><td>0</td></tr><tr><th>14</th><td>Tasmania</td><td>Australia</td><td>-42.8821</td><td>147.327</td><td>0</td></tr><tr><th>15</th><td>Victoria</td><td>Australia</td><td>-37.8136</td><td>144.963</td><td>0</td></tr><tr><th>16</th><td>Western Australia</td><td>Australia</td><td>-31.9505</td><td>115.861</td><td>0</td></tr><tr><th>17</th><td><em>missing</em></td><td>Austria</td><td>47.5162</td><td>14.5501</td><td>0</td></tr><tr><th>18</th><td><em>missing</em></td><td>Azerbaijan</td><td>40.1431</td><td>47.5769</td><td>0</td></tr><tr><th>19</th><td><em>missing</em></td><td>Bahamas</td><td>25.0259</td><td>-78.0359</td><td>0</td></tr><tr><th>20</th><td><em>missing</em></td><td>Bahrain</td><td>26.0275</td><td>50.55</td><td>0</td></tr><tr><th>21</th><td><em>missing</em></td><td>Bangladesh</td><td>23.685</td><td>90.3563</td><td>0</td></tr><tr><th>22</th><td><em>missing</em></td><td>Barbados</td><td>13.1939</td><td>-59.5432</td><td>0</td></tr><tr><th>23</th><td><em>missing</em></td><td>Belarus</td><td>53.7098</td><td>27.9534</td><td>0</td></tr><tr><th>24</th><td><em>missing</em></td><td>Belgium</td><td>50.8333</td><td>4.46994</td><td>0</td></tr><tr><th>25</th><td><em>missing</em></td><td>Benin</td><td>9.3077</td><td>2.3158</td><td>0</td></tr><tr><th>26</th><td><em>missing</em></td><td>Bhutan</td><td>27.5142</td><td>90.4336</td><td>0</td></tr><tr><th>27</th><td><em>missing</em></td><td>Bolivia</td><td>-16.2902</td><td>-63.5887</td><td>0</td></tr><tr><th>28</th><td><em>missing</em></td><td>Bosnia and Herzegovina</td><td>43.9159</td><td>17.6791</td><td>0</td></tr><tr><th>29</th><td><em>missing</em></td><td>Brazil</td><td>-14.235</td><td>-51.9253</td><td>0</td></tr><tr><th>30</th><td><em>missing</em></td><td>Brunei</td><td>4.5353</td><td>114.728</td><td>0</td></tr><tr><th>&vellip;</th><td>&vellip;</td><td>&vellip;</td><td>&vellip;</td><td>&vellip;</td><td>&vellip;</td></tr></tbody></table>"
      ],
      "text/latex": [
       "\\begin{tabular}{r|cccccc}\n",
       "\t& Province/State & Country/Region & Lat & Long & 1/22/20 & \\\\\n",
       "\t\\hline\n",
       "\t& String? & String & Float64 & Float64 & Int64 & \\\\\n",
       "\t\\hline\n",
       "\t1 & \\emph{missing} & Afghanistan & 33.9391 & 67.71 & 0 & $\\dots$ \\\\\n",
       "\t2 & \\emph{missing} & Albania & 41.1533 & 20.1683 & 0 & $\\dots$ \\\\\n",
       "\t3 & \\emph{missing} & Algeria & 28.0339 & 1.6596 & 0 & $\\dots$ \\\\\n",
       "\t4 & \\emph{missing} & Andorra & 42.5063 & 1.5218 & 0 & $\\dots$ \\\\\n",
       "\t5 & \\emph{missing} & Angola & -11.2027 & 17.8739 & 0 & $\\dots$ \\\\\n",
       "\t6 & \\emph{missing} & Antigua and Barbuda & 17.0608 & -61.7964 & 0 & $\\dots$ \\\\\n",
       "\t7 & \\emph{missing} & Argentina & -38.4161 & -63.6167 & 0 & $\\dots$ \\\\\n",
       "\t8 & \\emph{missing} & Armenia & 40.0691 & 45.0382 & 0 & $\\dots$ \\\\\n",
       "\t9 & Australian Capital Territory & Australia & -35.4735 & 149.012 & 0 & $\\dots$ \\\\\n",
       "\t10 & New South Wales & Australia & -33.8688 & 151.209 & 0 & $\\dots$ \\\\\n",
       "\t11 & Northern Territory & Australia & -12.4634 & 130.846 & 0 & $\\dots$ \\\\\n",
       "\t12 & Queensland & Australia & -27.4698 & 153.025 & 0 & $\\dots$ \\\\\n",
       "\t13 & South Australia & Australia & -34.9285 & 138.601 & 0 & $\\dots$ \\\\\n",
       "\t14 & Tasmania & Australia & -42.8821 & 147.327 & 0 & $\\dots$ \\\\\n",
       "\t15 & Victoria & Australia & -37.8136 & 144.963 & 0 & $\\dots$ \\\\\n",
       "\t16 & Western Australia & Australia & -31.9505 & 115.861 & 0 & $\\dots$ \\\\\n",
       "\t17 & \\emph{missing} & Austria & 47.5162 & 14.5501 & 0 & $\\dots$ \\\\\n",
       "\t18 & \\emph{missing} & Azerbaijan & 40.1431 & 47.5769 & 0 & $\\dots$ \\\\\n",
       "\t19 & \\emph{missing} & Bahamas & 25.0259 & -78.0359 & 0 & $\\dots$ \\\\\n",
       "\t20 & \\emph{missing} & Bahrain & 26.0275 & 50.55 & 0 & $\\dots$ \\\\\n",
       "\t21 & \\emph{missing} & Bangladesh & 23.685 & 90.3563 & 0 & $\\dots$ \\\\\n",
       "\t22 & \\emph{missing} & Barbados & 13.1939 & -59.5432 & 0 & $\\dots$ \\\\\n",
       "\t23 & \\emph{missing} & Belarus & 53.7098 & 27.9534 & 0 & $\\dots$ \\\\\n",
       "\t24 & \\emph{missing} & Belgium & 50.8333 & 4.46994 & 0 & $\\dots$ \\\\\n",
       "\t25 & \\emph{missing} & Benin & 9.3077 & 2.3158 & 0 & $\\dots$ \\\\\n",
       "\t26 & \\emph{missing} & Bhutan & 27.5142 & 90.4336 & 0 & $\\dots$ \\\\\n",
       "\t27 & \\emph{missing} & Bolivia & -16.2902 & -63.5887 & 0 & $\\dots$ \\\\\n",
       "\t28 & \\emph{missing} & Bosnia and Herzegovina & 43.9159 & 17.6791 & 0 & $\\dots$ \\\\\n",
       "\t29 & \\emph{missing} & Brazil & -14.235 & -51.9253 & 0 & $\\dots$ \\\\\n",
       "\t30 & \\emph{missing} & Brunei & 4.5353 & 114.728 & 0 & $\\dots$ \\\\\n",
       "\t$\\dots$ & $\\dots$ & $\\dots$ & $\\dots$ & $\\dots$ & $\\dots$ &  \\\\\n",
       "\\end{tabular}\n"
      ],
      "text/plain": [
       "266×194 DataFrame. Omitted printing of 191 columns\n",
       "│ Row │ Province/State                   │ Country/Region        │ Lat      │\n",
       "│     │ \u001b[90mUnion{Missing, String}\u001b[39m           │ \u001b[90mString\u001b[39m                │ \u001b[90mFloat64\u001b[39m  │\n",
       "├─────┼──────────────────────────────────┼───────────────────────┼──────────┤\n",
       "│ 1   │ \u001b[90mmissing\u001b[39m                          │ Afghanistan           │ 33.9391  │\n",
       "│ 2   │ \u001b[90mmissing\u001b[39m                          │ Albania               │ 41.1533  │\n",
       "│ 3   │ \u001b[90mmissing\u001b[39m                          │ Algeria               │ 28.0339  │\n",
       "│ 4   │ \u001b[90mmissing\u001b[39m                          │ Andorra               │ 42.5063  │\n",
       "│ 5   │ \u001b[90mmissing\u001b[39m                          │ Angola                │ -11.2027 │\n",
       "│ 6   │ \u001b[90mmissing\u001b[39m                          │ Antigua and Barbuda   │ 17.0608  │\n",
       "│ 7   │ \u001b[90mmissing\u001b[39m                          │ Argentina             │ -38.4161 │\n",
       "│ 8   │ \u001b[90mmissing\u001b[39m                          │ Armenia               │ 40.0691  │\n",
       "│ 9   │ Australian Capital Territory     │ Australia             │ -35.4735 │\n",
       "│ 10  │ New South Wales                  │ Australia             │ -33.8688 │\n",
       "⋮\n",
       "│ 256 │ Bonaire, Sint Eustatius and Saba │ Netherlands           │ 12.1784  │\n",
       "│ 257 │ \u001b[90mmissing\u001b[39m                          │ Malawi                │ -13.2543 │\n",
       "│ 258 │ Falkland Islands (Malvinas)      │ United Kingdom        │ -51.7963 │\n",
       "│ 259 │ Saint Pierre and Miquelon        │ France                │ 46.8852  │\n",
       "│ 260 │ \u001b[90mmissing\u001b[39m                          │ South Sudan           │ 6.877    │\n",
       "│ 261 │ \u001b[90mmissing\u001b[39m                          │ Western Sahara        │ 24.2155  │\n",
       "│ 262 │ \u001b[90mmissing\u001b[39m                          │ Sao Tome and Principe │ 0.1864   │\n",
       "│ 263 │ \u001b[90mmissing\u001b[39m                          │ Yemen                 │ 15.5527  │\n",
       "│ 264 │ \u001b[90mmissing\u001b[39m                          │ Comoros               │ -11.6455 │\n",
       "│ 265 │ \u001b[90mmissing\u001b[39m                          │ Tajikistan            │ 38.861   │\n",
       "│ 266 │ \u001b[90mmissing\u001b[39m                          │ Lesotho               │ -29.61   │"
      ]
     },
     "execution_count": 8,
     "metadata": {},
     "output_type": "execute_result"
    }
   ],
   "source": [
    "data"
   ]
  },
  {
   "cell_type": "code",
   "execution_count": 9,
   "metadata": {},
   "outputs": [
    {
     "data": {
      "text/html": [
       "<table class=\"data-frame\"><thead><tr><th></th><th>province</th><th>country</th><th>Lat</th><th>Long</th><th>1/22/20</th></tr><tr><th></th><th>String?</th><th>String</th><th>Float64</th><th>Float64</th><th>Int64</th></tr></thead><tbody><p>266 rows × 194 columns (omitted printing of 189 columns)</p><tr><th>1</th><td><em>missing</em></td><td>Afghanistan</td><td>33.9391</td><td>67.71</td><td>0</td></tr><tr><th>2</th><td><em>missing</em></td><td>Albania</td><td>41.1533</td><td>20.1683</td><td>0</td></tr><tr><th>3</th><td><em>missing</em></td><td>Algeria</td><td>28.0339</td><td>1.6596</td><td>0</td></tr><tr><th>4</th><td><em>missing</em></td><td>Andorra</td><td>42.5063</td><td>1.5218</td><td>0</td></tr><tr><th>5</th><td><em>missing</em></td><td>Angola</td><td>-11.2027</td><td>17.8739</td><td>0</td></tr><tr><th>6</th><td><em>missing</em></td><td>Antigua and Barbuda</td><td>17.0608</td><td>-61.7964</td><td>0</td></tr><tr><th>7</th><td><em>missing</em></td><td>Argentina</td><td>-38.4161</td><td>-63.6167</td><td>0</td></tr><tr><th>8</th><td><em>missing</em></td><td>Armenia</td><td>40.0691</td><td>45.0382</td><td>0</td></tr><tr><th>9</th><td>Australian Capital Territory</td><td>Australia</td><td>-35.4735</td><td>149.012</td><td>0</td></tr><tr><th>10</th><td>New South Wales</td><td>Australia</td><td>-33.8688</td><td>151.209</td><td>0</td></tr><tr><th>11</th><td>Northern Territory</td><td>Australia</td><td>-12.4634</td><td>130.846</td><td>0</td></tr><tr><th>12</th><td>Queensland</td><td>Australia</td><td>-27.4698</td><td>153.025</td><td>0</td></tr><tr><th>13</th><td>South Australia</td><td>Australia</td><td>-34.9285</td><td>138.601</td><td>0</td></tr><tr><th>14</th><td>Tasmania</td><td>Australia</td><td>-42.8821</td><td>147.327</td><td>0</td></tr><tr><th>15</th><td>Victoria</td><td>Australia</td><td>-37.8136</td><td>144.963</td><td>0</td></tr><tr><th>16</th><td>Western Australia</td><td>Australia</td><td>-31.9505</td><td>115.861</td><td>0</td></tr><tr><th>17</th><td><em>missing</em></td><td>Austria</td><td>47.5162</td><td>14.5501</td><td>0</td></tr><tr><th>18</th><td><em>missing</em></td><td>Azerbaijan</td><td>40.1431</td><td>47.5769</td><td>0</td></tr><tr><th>19</th><td><em>missing</em></td><td>Bahamas</td><td>25.0259</td><td>-78.0359</td><td>0</td></tr><tr><th>20</th><td><em>missing</em></td><td>Bahrain</td><td>26.0275</td><td>50.55</td><td>0</td></tr><tr><th>21</th><td><em>missing</em></td><td>Bangladesh</td><td>23.685</td><td>90.3563</td><td>0</td></tr><tr><th>22</th><td><em>missing</em></td><td>Barbados</td><td>13.1939</td><td>-59.5432</td><td>0</td></tr><tr><th>23</th><td><em>missing</em></td><td>Belarus</td><td>53.7098</td><td>27.9534</td><td>0</td></tr><tr><th>24</th><td><em>missing</em></td><td>Belgium</td><td>50.8333</td><td>4.46994</td><td>0</td></tr><tr><th>25</th><td><em>missing</em></td><td>Benin</td><td>9.3077</td><td>2.3158</td><td>0</td></tr><tr><th>26</th><td><em>missing</em></td><td>Bhutan</td><td>27.5142</td><td>90.4336</td><td>0</td></tr><tr><th>27</th><td><em>missing</em></td><td>Bolivia</td><td>-16.2902</td><td>-63.5887</td><td>0</td></tr><tr><th>28</th><td><em>missing</em></td><td>Bosnia and Herzegovina</td><td>43.9159</td><td>17.6791</td><td>0</td></tr><tr><th>29</th><td><em>missing</em></td><td>Brazil</td><td>-14.235</td><td>-51.9253</td><td>0</td></tr><tr><th>30</th><td><em>missing</em></td><td>Brunei</td><td>4.5353</td><td>114.728</td><td>0</td></tr><tr><th>&vellip;</th><td>&vellip;</td><td>&vellip;</td><td>&vellip;</td><td>&vellip;</td><td>&vellip;</td></tr></tbody></table>"
      ],
      "text/latex": [
       "\\begin{tabular}{r|cccccc}\n",
       "\t& province & country & Lat & Long & 1/22/20 & \\\\\n",
       "\t\\hline\n",
       "\t& String? & String & Float64 & Float64 & Int64 & \\\\\n",
       "\t\\hline\n",
       "\t1 & \\emph{missing} & Afghanistan & 33.9391 & 67.71 & 0 & $\\dots$ \\\\\n",
       "\t2 & \\emph{missing} & Albania & 41.1533 & 20.1683 & 0 & $\\dots$ \\\\\n",
       "\t3 & \\emph{missing} & Algeria & 28.0339 & 1.6596 & 0 & $\\dots$ \\\\\n",
       "\t4 & \\emph{missing} & Andorra & 42.5063 & 1.5218 & 0 & $\\dots$ \\\\\n",
       "\t5 & \\emph{missing} & Angola & -11.2027 & 17.8739 & 0 & $\\dots$ \\\\\n",
       "\t6 & \\emph{missing} & Antigua and Barbuda & 17.0608 & -61.7964 & 0 & $\\dots$ \\\\\n",
       "\t7 & \\emph{missing} & Argentina & -38.4161 & -63.6167 & 0 & $\\dots$ \\\\\n",
       "\t8 & \\emph{missing} & Armenia & 40.0691 & 45.0382 & 0 & $\\dots$ \\\\\n",
       "\t9 & Australian Capital Territory & Australia & -35.4735 & 149.012 & 0 & $\\dots$ \\\\\n",
       "\t10 & New South Wales & Australia & -33.8688 & 151.209 & 0 & $\\dots$ \\\\\n",
       "\t11 & Northern Territory & Australia & -12.4634 & 130.846 & 0 & $\\dots$ \\\\\n",
       "\t12 & Queensland & Australia & -27.4698 & 153.025 & 0 & $\\dots$ \\\\\n",
       "\t13 & South Australia & Australia & -34.9285 & 138.601 & 0 & $\\dots$ \\\\\n",
       "\t14 & Tasmania & Australia & -42.8821 & 147.327 & 0 & $\\dots$ \\\\\n",
       "\t15 & Victoria & Australia & -37.8136 & 144.963 & 0 & $\\dots$ \\\\\n",
       "\t16 & Western Australia & Australia & -31.9505 & 115.861 & 0 & $\\dots$ \\\\\n",
       "\t17 & \\emph{missing} & Austria & 47.5162 & 14.5501 & 0 & $\\dots$ \\\\\n",
       "\t18 & \\emph{missing} & Azerbaijan & 40.1431 & 47.5769 & 0 & $\\dots$ \\\\\n",
       "\t19 & \\emph{missing} & Bahamas & 25.0259 & -78.0359 & 0 & $\\dots$ \\\\\n",
       "\t20 & \\emph{missing} & Bahrain & 26.0275 & 50.55 & 0 & $\\dots$ \\\\\n",
       "\t21 & \\emph{missing} & Bangladesh & 23.685 & 90.3563 & 0 & $\\dots$ \\\\\n",
       "\t22 & \\emph{missing} & Barbados & 13.1939 & -59.5432 & 0 & $\\dots$ \\\\\n",
       "\t23 & \\emph{missing} & Belarus & 53.7098 & 27.9534 & 0 & $\\dots$ \\\\\n",
       "\t24 & \\emph{missing} & Belgium & 50.8333 & 4.46994 & 0 & $\\dots$ \\\\\n",
       "\t25 & \\emph{missing} & Benin & 9.3077 & 2.3158 & 0 & $\\dots$ \\\\\n",
       "\t26 & \\emph{missing} & Bhutan & 27.5142 & 90.4336 & 0 & $\\dots$ \\\\\n",
       "\t27 & \\emph{missing} & Bolivia & -16.2902 & -63.5887 & 0 & $\\dots$ \\\\\n",
       "\t28 & \\emph{missing} & Bosnia and Herzegovina & 43.9159 & 17.6791 & 0 & $\\dots$ \\\\\n",
       "\t29 & \\emph{missing} & Brazil & -14.235 & -51.9253 & 0 & $\\dots$ \\\\\n",
       "\t30 & \\emph{missing} & Brunei & 4.5353 & 114.728 & 0 & $\\dots$ \\\\\n",
       "\t$\\dots$ & $\\dots$ & $\\dots$ & $\\dots$ & $\\dots$ & $\\dots$ &  \\\\\n",
       "\\end{tabular}\n"
      ],
      "text/plain": [
       "266×194 DataFrame. Omitted printing of 191 columns\n",
       "│ Row │ province                         │ country               │ Lat      │\n",
       "│     │ \u001b[90mUnion{Missing, String}\u001b[39m           │ \u001b[90mString\u001b[39m                │ \u001b[90mFloat64\u001b[39m  │\n",
       "├─────┼──────────────────────────────────┼───────────────────────┼──────────┤\n",
       "│ 1   │ \u001b[90mmissing\u001b[39m                          │ Afghanistan           │ 33.9391  │\n",
       "│ 2   │ \u001b[90mmissing\u001b[39m                          │ Albania               │ 41.1533  │\n",
       "│ 3   │ \u001b[90mmissing\u001b[39m                          │ Algeria               │ 28.0339  │\n",
       "│ 4   │ \u001b[90mmissing\u001b[39m                          │ Andorra               │ 42.5063  │\n",
       "│ 5   │ \u001b[90mmissing\u001b[39m                          │ Angola                │ -11.2027 │\n",
       "│ 6   │ \u001b[90mmissing\u001b[39m                          │ Antigua and Barbuda   │ 17.0608  │\n",
       "│ 7   │ \u001b[90mmissing\u001b[39m                          │ Argentina             │ -38.4161 │\n",
       "│ 8   │ \u001b[90mmissing\u001b[39m                          │ Armenia               │ 40.0691  │\n",
       "│ 9   │ Australian Capital Territory     │ Australia             │ -35.4735 │\n",
       "│ 10  │ New South Wales                  │ Australia             │ -33.8688 │\n",
       "⋮\n",
       "│ 256 │ Bonaire, Sint Eustatius and Saba │ Netherlands           │ 12.1784  │\n",
       "│ 257 │ \u001b[90mmissing\u001b[39m                          │ Malawi                │ -13.2543 │\n",
       "│ 258 │ Falkland Islands (Malvinas)      │ United Kingdom        │ -51.7963 │\n",
       "│ 259 │ Saint Pierre and Miquelon        │ France                │ 46.8852  │\n",
       "│ 260 │ \u001b[90mmissing\u001b[39m                          │ South Sudan           │ 6.877    │\n",
       "│ 261 │ \u001b[90mmissing\u001b[39m                          │ Western Sahara        │ 24.2155  │\n",
       "│ 262 │ \u001b[90mmissing\u001b[39m                          │ Sao Tome and Principe │ 0.1864   │\n",
       "│ 263 │ \u001b[90mmissing\u001b[39m                          │ Yemen                 │ 15.5527  │\n",
       "│ 264 │ \u001b[90mmissing\u001b[39m                          │ Comoros               │ -11.6455 │\n",
       "│ 265 │ \u001b[90mmissing\u001b[39m                          │ Tajikistan            │ 38.861   │\n",
       "│ 266 │ \u001b[90mmissing\u001b[39m                          │ Lesotho               │ -29.61   │"
      ]
     },
     "execution_count": 9,
     "metadata": {},
     "output_type": "execute_result"
    }
   ],
   "source": [
    "datacopy = rename!(data, 1 => \"province\", 2 => \"country\") \n",
    "# !, bang, is a convention: function that \"modifies\" its argument in place"
   ]
  },
  {
   "cell_type": "code",
   "execution_count": 10,
   "metadata": {},
   "outputs": [
    {
     "data": {
      "text/html": [
       "<table class=\"data-frame\"><thead><tr><th></th><th>province</th><th>country</th><th>Lat</th><th>Long</th><th>1/22/20</th></tr><tr><th></th><th>String?</th><th>String</th><th>Float64</th><th>Float64</th><th>Int64</th></tr></thead><tbody><p>266 rows × 194 columns (omitted printing of 189 columns)</p><tr><th>1</th><td><em>missing</em></td><td>Afghanistan</td><td>33.9391</td><td>67.71</td><td>0</td></tr><tr><th>2</th><td><em>missing</em></td><td>Albania</td><td>41.1533</td><td>20.1683</td><td>0</td></tr><tr><th>3</th><td><em>missing</em></td><td>Algeria</td><td>28.0339</td><td>1.6596</td><td>0</td></tr><tr><th>4</th><td><em>missing</em></td><td>Andorra</td><td>42.5063</td><td>1.5218</td><td>0</td></tr><tr><th>5</th><td><em>missing</em></td><td>Angola</td><td>-11.2027</td><td>17.8739</td><td>0</td></tr><tr><th>6</th><td><em>missing</em></td><td>Antigua and Barbuda</td><td>17.0608</td><td>-61.7964</td><td>0</td></tr><tr><th>7</th><td><em>missing</em></td><td>Argentina</td><td>-38.4161</td><td>-63.6167</td><td>0</td></tr><tr><th>8</th><td><em>missing</em></td><td>Armenia</td><td>40.0691</td><td>45.0382</td><td>0</td></tr><tr><th>9</th><td>Australian Capital Territory</td><td>Australia</td><td>-35.4735</td><td>149.012</td><td>0</td></tr><tr><th>10</th><td>New South Wales</td><td>Australia</td><td>-33.8688</td><td>151.209</td><td>0</td></tr><tr><th>11</th><td>Northern Territory</td><td>Australia</td><td>-12.4634</td><td>130.846</td><td>0</td></tr><tr><th>12</th><td>Queensland</td><td>Australia</td><td>-27.4698</td><td>153.025</td><td>0</td></tr><tr><th>13</th><td>South Australia</td><td>Australia</td><td>-34.9285</td><td>138.601</td><td>0</td></tr><tr><th>14</th><td>Tasmania</td><td>Australia</td><td>-42.8821</td><td>147.327</td><td>0</td></tr><tr><th>15</th><td>Victoria</td><td>Australia</td><td>-37.8136</td><td>144.963</td><td>0</td></tr><tr><th>16</th><td>Western Australia</td><td>Australia</td><td>-31.9505</td><td>115.861</td><td>0</td></tr><tr><th>17</th><td><em>missing</em></td><td>Austria</td><td>47.5162</td><td>14.5501</td><td>0</td></tr><tr><th>18</th><td><em>missing</em></td><td>Azerbaijan</td><td>40.1431</td><td>47.5769</td><td>0</td></tr><tr><th>19</th><td><em>missing</em></td><td>Bahamas</td><td>25.0259</td><td>-78.0359</td><td>0</td></tr><tr><th>20</th><td><em>missing</em></td><td>Bahrain</td><td>26.0275</td><td>50.55</td><td>0</td></tr><tr><th>21</th><td><em>missing</em></td><td>Bangladesh</td><td>23.685</td><td>90.3563</td><td>0</td></tr><tr><th>22</th><td><em>missing</em></td><td>Barbados</td><td>13.1939</td><td>-59.5432</td><td>0</td></tr><tr><th>23</th><td><em>missing</em></td><td>Belarus</td><td>53.7098</td><td>27.9534</td><td>0</td></tr><tr><th>24</th><td><em>missing</em></td><td>Belgium</td><td>50.8333</td><td>4.46994</td><td>0</td></tr><tr><th>25</th><td><em>missing</em></td><td>Benin</td><td>9.3077</td><td>2.3158</td><td>0</td></tr><tr><th>26</th><td><em>missing</em></td><td>Bhutan</td><td>27.5142</td><td>90.4336</td><td>0</td></tr><tr><th>27</th><td><em>missing</em></td><td>Bolivia</td><td>-16.2902</td><td>-63.5887</td><td>0</td></tr><tr><th>28</th><td><em>missing</em></td><td>Bosnia and Herzegovina</td><td>43.9159</td><td>17.6791</td><td>0</td></tr><tr><th>29</th><td><em>missing</em></td><td>Brazil</td><td>-14.235</td><td>-51.9253</td><td>0</td></tr><tr><th>30</th><td><em>missing</em></td><td>Brunei</td><td>4.5353</td><td>114.728</td><td>0</td></tr><tr><th>&vellip;</th><td>&vellip;</td><td>&vellip;</td><td>&vellip;</td><td>&vellip;</td><td>&vellip;</td></tr></tbody></table>"
      ],
      "text/latex": [
       "\\begin{tabular}{r|cccccc}\n",
       "\t& province & country & Lat & Long & 1/22/20 & \\\\\n",
       "\t\\hline\n",
       "\t& String? & String & Float64 & Float64 & Int64 & \\\\\n",
       "\t\\hline\n",
       "\t1 & \\emph{missing} & Afghanistan & 33.9391 & 67.71 & 0 & $\\dots$ \\\\\n",
       "\t2 & \\emph{missing} & Albania & 41.1533 & 20.1683 & 0 & $\\dots$ \\\\\n",
       "\t3 & \\emph{missing} & Algeria & 28.0339 & 1.6596 & 0 & $\\dots$ \\\\\n",
       "\t4 & \\emph{missing} & Andorra & 42.5063 & 1.5218 & 0 & $\\dots$ \\\\\n",
       "\t5 & \\emph{missing} & Angola & -11.2027 & 17.8739 & 0 & $\\dots$ \\\\\n",
       "\t6 & \\emph{missing} & Antigua and Barbuda & 17.0608 & -61.7964 & 0 & $\\dots$ \\\\\n",
       "\t7 & \\emph{missing} & Argentina & -38.4161 & -63.6167 & 0 & $\\dots$ \\\\\n",
       "\t8 & \\emph{missing} & Armenia & 40.0691 & 45.0382 & 0 & $\\dots$ \\\\\n",
       "\t9 & Australian Capital Territory & Australia & -35.4735 & 149.012 & 0 & $\\dots$ \\\\\n",
       "\t10 & New South Wales & Australia & -33.8688 & 151.209 & 0 & $\\dots$ \\\\\n",
       "\t11 & Northern Territory & Australia & -12.4634 & 130.846 & 0 & $\\dots$ \\\\\n",
       "\t12 & Queensland & Australia & -27.4698 & 153.025 & 0 & $\\dots$ \\\\\n",
       "\t13 & South Australia & Australia & -34.9285 & 138.601 & 0 & $\\dots$ \\\\\n",
       "\t14 & Tasmania & Australia & -42.8821 & 147.327 & 0 & $\\dots$ \\\\\n",
       "\t15 & Victoria & Australia & -37.8136 & 144.963 & 0 & $\\dots$ \\\\\n",
       "\t16 & Western Australia & Australia & -31.9505 & 115.861 & 0 & $\\dots$ \\\\\n",
       "\t17 & \\emph{missing} & Austria & 47.5162 & 14.5501 & 0 & $\\dots$ \\\\\n",
       "\t18 & \\emph{missing} & Azerbaijan & 40.1431 & 47.5769 & 0 & $\\dots$ \\\\\n",
       "\t19 & \\emph{missing} & Bahamas & 25.0259 & -78.0359 & 0 & $\\dots$ \\\\\n",
       "\t20 & \\emph{missing} & Bahrain & 26.0275 & 50.55 & 0 & $\\dots$ \\\\\n",
       "\t21 & \\emph{missing} & Bangladesh & 23.685 & 90.3563 & 0 & $\\dots$ \\\\\n",
       "\t22 & \\emph{missing} & Barbados & 13.1939 & -59.5432 & 0 & $\\dots$ \\\\\n",
       "\t23 & \\emph{missing} & Belarus & 53.7098 & 27.9534 & 0 & $\\dots$ \\\\\n",
       "\t24 & \\emph{missing} & Belgium & 50.8333 & 4.46994 & 0 & $\\dots$ \\\\\n",
       "\t25 & \\emph{missing} & Benin & 9.3077 & 2.3158 & 0 & $\\dots$ \\\\\n",
       "\t26 & \\emph{missing} & Bhutan & 27.5142 & 90.4336 & 0 & $\\dots$ \\\\\n",
       "\t27 & \\emph{missing} & Bolivia & -16.2902 & -63.5887 & 0 & $\\dots$ \\\\\n",
       "\t28 & \\emph{missing} & Bosnia and Herzegovina & 43.9159 & 17.6791 & 0 & $\\dots$ \\\\\n",
       "\t29 & \\emph{missing} & Brazil & -14.235 & -51.9253 & 0 & $\\dots$ \\\\\n",
       "\t30 & \\emph{missing} & Brunei & 4.5353 & 114.728 & 0 & $\\dots$ \\\\\n",
       "\t$\\dots$ & $\\dots$ & $\\dots$ & $\\dots$ & $\\dots$ & $\\dots$ &  \\\\\n",
       "\\end{tabular}\n"
      ],
      "text/plain": [
       "266×194 DataFrame. Omitted printing of 191 columns\n",
       "│ Row │ province                         │ country               │ Lat      │\n",
       "│     │ \u001b[90mUnion{Missing, String}\u001b[39m           │ \u001b[90mString\u001b[39m                │ \u001b[90mFloat64\u001b[39m  │\n",
       "├─────┼──────────────────────────────────┼───────────────────────┼──────────┤\n",
       "│ 1   │ \u001b[90mmissing\u001b[39m                          │ Afghanistan           │ 33.9391  │\n",
       "│ 2   │ \u001b[90mmissing\u001b[39m                          │ Albania               │ 41.1533  │\n",
       "│ 3   │ \u001b[90mmissing\u001b[39m                          │ Algeria               │ 28.0339  │\n",
       "│ 4   │ \u001b[90mmissing\u001b[39m                          │ Andorra               │ 42.5063  │\n",
       "│ 5   │ \u001b[90mmissing\u001b[39m                          │ Angola                │ -11.2027 │\n",
       "│ 6   │ \u001b[90mmissing\u001b[39m                          │ Antigua and Barbuda   │ 17.0608  │\n",
       "│ 7   │ \u001b[90mmissing\u001b[39m                          │ Argentina             │ -38.4161 │\n",
       "│ 8   │ \u001b[90mmissing\u001b[39m                          │ Armenia               │ 40.0691  │\n",
       "│ 9   │ Australian Capital Territory     │ Australia             │ -35.4735 │\n",
       "│ 10  │ New South Wales                  │ Australia             │ -33.8688 │\n",
       "⋮\n",
       "│ 256 │ Bonaire, Sint Eustatius and Saba │ Netherlands           │ 12.1784  │\n",
       "│ 257 │ \u001b[90mmissing\u001b[39m                          │ Malawi                │ -13.2543 │\n",
       "│ 258 │ Falkland Islands (Malvinas)      │ United Kingdom        │ -51.7963 │\n",
       "│ 259 │ Saint Pierre and Miquelon        │ France                │ 46.8852  │\n",
       "│ 260 │ \u001b[90mmissing\u001b[39m                          │ South Sudan           │ 6.877    │\n",
       "│ 261 │ \u001b[90mmissing\u001b[39m                          │ Western Sahara        │ 24.2155  │\n",
       "│ 262 │ \u001b[90mmissing\u001b[39m                          │ Sao Tome and Principe │ 0.1864   │\n",
       "│ 263 │ \u001b[90mmissing\u001b[39m                          │ Yemen                 │ 15.5527  │\n",
       "│ 264 │ \u001b[90mmissing\u001b[39m                          │ Comoros               │ -11.6455 │\n",
       "│ 265 │ \u001b[90mmissing\u001b[39m                          │ Tajikistan            │ 38.861   │\n",
       "│ 266 │ \u001b[90mmissing\u001b[39m                          │ Lesotho               │ -29.61   │"
      ]
     },
     "execution_count": 10,
     "metadata": {},
     "output_type": "execute_result"
    }
   ],
   "source": [
    "datacopy"
   ]
  },
  {
   "cell_type": "markdown",
   "metadata": {},
   "source": [
    "Whe are using Interact here with @manipulate for testing purposes. Feel free to play around with it"
   ]
  },
  {
   "cell_type": "code",
   "execution_count": 11,
   "metadata": {},
   "outputs": [
    {
     "data": {
      "application/vnd.webio.node+json": {
       "children": [
        {
         "children": [
          {
           "children": [
            {
             "children": [
              {
               "children": [
                {
                 "children": [
                  "i"
                 ],
                 "instanceArgs": {
                  "namespace": "html",
                  "tag": "label"
                 },
                 "nodeType": "DOM",
                 "props": {
                  "className": "interact ",
                  "style": {
                   "padding": "5px 10px 0px 10px"
                  }
                 },
                 "type": "node"
                }
               ],
               "instanceArgs": {
                "namespace": "html",
                "tag": "div"
               },
               "nodeType": "DOM",
               "props": {
                "className": "interact-flex-row-left"
               },
               "type": "node"
              },
              {
               "children": [
                {
                 "children": [],
                 "instanceArgs": {
                  "namespace": "html",
                  "tag": "input"
                 },
                 "nodeType": "DOM",
                 "props": {
                  "attributes": {
                   "data-bind": "numericValue: index, valueUpdate: 'input', event: {change: function (){this.changes(this.changes()+1)}}",
                   "orient": "horizontal",
                   "type": "range"
                  },
                  "className": "slider slider is-fullwidth",
                  "max": 10,
                  "min": 1,
                  "step": 1,
                  "style": {}
                 },
                 "type": "node"
                }
               ],
               "instanceArgs": {
                "namespace": "html",
                "tag": "div"
               },
               "nodeType": "DOM",
               "props": {
                "className": "interact-flex-row-center"
               },
               "type": "node"
              },
              {
               "children": [
                {
                 "children": [],
                 "instanceArgs": {
                  "namespace": "html",
                  "tag": "p"
                 },
                 "nodeType": "DOM",
                 "props": {
                  "attributes": {
                   "data-bind": "text: formatted_val"
                  }
                 },
                 "type": "node"
                }
               ],
               "instanceArgs": {
                "namespace": "html",
                "tag": "div"
               },
               "nodeType": "DOM",
               "props": {
                "className": "interact-flex-row-right"
               },
               "type": "node"
              }
             ],
             "instanceArgs": {
              "namespace": "html",
              "tag": "div"
             },
             "nodeType": "DOM",
             "props": {
              "className": "interact-flex-row interact-widget"
             },
             "type": "node"
            }
           ],
           "instanceArgs": {
            "handlers": {
             "changes": [
              "(function (val){return (val!=this.model[\"changes\"]()) ? (this.valueFromJulia[\"changes\"]=true, this.model[\"changes\"](val)) : undefined})"
             ],
             "index": [
              "(function (val){return (val!=this.model[\"index\"]()) ? (this.valueFromJulia[\"index\"]=true, this.model[\"index\"](val)) : undefined})"
             ]
            },
            "id": "1360276800049304306",
            "imports": {
             "data": [
              {
               "name": "knockout",
               "type": "js",
               "url": "/assetserver/0f7dc91fc8596176c20edab2c146f643e18cfcdc-knockout.js"
              },
              {
               "name": "knockout_punches",
               "type": "js",
               "url": "/assetserver/8b17f7ded5914701597f16e37bf062d2d0b7e5d4-knockout_punches.js"
              },
              {
               "name": null,
               "type": "js",
               "url": "/assetserver/3eb5394c830347574f9413a8950b99793509cdb5-all.js"
              },
              {
               "name": null,
               "type": "css",
               "url": "/assetserver/c5073d62b91d019cd326a1073112f715fe0e3502-style.css"
              },
              {
               "name": null,
               "type": "css",
               "url": "/assetserver/44da6c918b69f064a105db1af391674e3a320ff8-bulma_confined.min.css"
              }
             ],
             "type": "async_block"
            },
            "mount_callbacks": [
             "function () {\n    var handler = (function (ko, koPunches) {\n    ko.punches.enableAll();\n    ko.bindingHandlers.numericValue = {\n        init: function(element, valueAccessor, allBindings, data, context) {\n            var stringified = ko.observable(ko.unwrap(valueAccessor()));\n            stringified.subscribe(function(value) {\n                var val = parseFloat(value);\n                if (!isNaN(val)) {\n                    valueAccessor()(val);\n                }\n            });\n            valueAccessor().subscribe(function(value) {\n                var str = JSON.stringify(value);\n                if ((str == \"0\") && ([\"-0\", \"-0.\"].indexOf(stringified()) >= 0))\n                     return;\n                 if ([\"null\", \"\"].indexOf(str) >= 0)\n                     return;\n                stringified(str);\n            });\n            ko.applyBindingsToNode(\n                element,\n                {\n                    value: stringified,\n                    valueUpdate: allBindings.get('valueUpdate'),\n                },\n                context,\n            );\n        }\n    };\n    var json_data = {\"formatted_vals\":[\"1\",\"2\",\"3\",\"4\",\"5\",\"6\",\"7\",\"8\",\"9\",\"10\"],\"changes\":WebIO.getval({\"name\":\"changes\",\"scope\":\"1360276800049304306\",\"id\":\"17874388887943804848\",\"type\":\"observable\"}),\"index\":WebIO.getval({\"name\":\"index\",\"scope\":\"1360276800049304306\",\"id\":\"7405537308172275619\",\"type\":\"observable\"})};\n    var self = this;\n    function AppViewModel() {\n        for (var key in json_data) {\n            var el = json_data[key];\n            this[key] = Array.isArray(el) ? ko.observableArray(el) : ko.observable(el);\n        }\n        \n        [this[\"formatted_val\"]=ko.computed(    function(){\n        return this.formatted_vals()[parseInt(this.index())-(1)];\n    }\n,this)]\n        [this[\"changes\"].subscribe((function (val){!(this.valueFromJulia[\"changes\"]) ? (WebIO.setval({\"name\":\"changes\",\"scope\":\"1360276800049304306\",\"id\":\"17874388887943804848\",\"type\":\"observable\"},val)) : undefined; return this.valueFromJulia[\"changes\"]=false}),self),this[\"index\"].subscribe((function (val){!(this.valueFromJulia[\"index\"]) ? (WebIO.setval({\"name\":\"index\",\"scope\":\"1360276800049304306\",\"id\":\"7405537308172275619\",\"type\":\"observable\"},val)) : undefined; return this.valueFromJulia[\"index\"]=false}),self)]\n        \n    }\n    self.model = new AppViewModel();\n    self.valueFromJulia = {};\n    for (var key in json_data) {\n        self.valueFromJulia[key] = false;\n    }\n    ko.applyBindings(self.model, self.dom);\n}\n);\n    (WebIO.importBlock({\"data\":[{\"name\":\"knockout\",\"type\":\"js\",\"url\":\"/assetserver/0f7dc91fc8596176c20edab2c146f643e18cfcdc-knockout.js\"},{\"name\":\"knockout_punches\",\"type\":\"js\",\"url\":\"/assetserver/8b17f7ded5914701597f16e37bf062d2d0b7e5d4-knockout_punches.js\"}],\"type\":\"async_block\"})).then((imports) => handler.apply(this, imports));\n}\n"
            ],
            "observables": {
             "changes": {
              "id": "17874388887943804848",
              "sync": false,
              "value": 0
             },
             "index": {
              "id": "7405537308172275619",
              "sync": true,
              "value": 5
             }
            },
            "systemjs_options": null
           },
           "nodeType": "Scope",
           "props": {},
           "type": "node"
          }
         ],
         "instanceArgs": {
          "namespace": "html",
          "tag": "div"
         },
         "nodeType": "DOM",
         "props": {
          "className": "field interact-widget"
         },
         "type": "node"
        },
        {
         "children": [
          {
           "children": [],
           "instanceArgs": {
            "id": "2433514845878348655",
            "name": "obs-node"
           },
           "nodeType": "ObservableNode",
           "props": {},
           "type": "node"
          }
         ],
         "instanceArgs": {
          "handlers": {},
          "id": "16461928615086602703",
          "imports": {
           "data": [],
           "type": "async_block"
          },
          "mount_callbacks": [],
          "observables": {
           "obs-node": {
            "id": "2433514845878348655",
            "sync": false,
            "value": {
             "children": [
              {
               "children": [],
               "instanceArgs": {
                "namespace": "html",
                "tag": "div"
               },
               "nodeType": "DOM",
               "props": {
                "setInnerHtml": "5"
               },
               "type": "node"
              }
             ],
             "instanceArgs": {
              "namespace": "html",
              "tag": "div"
             },
             "nodeType": "DOM",
             "props": {
              "className": "interact-flex-row interact-widget"
             },
             "type": "node"
            }
           }
          },
          "systemjs_options": null
         },
         "nodeType": "Scope",
         "props": {},
         "type": "node"
        }
       ],
       "instanceArgs": {
        "namespace": "html",
        "tag": "div"
       },
       "nodeType": "DOM",
       "props": {},
       "type": "node"
      },
      "text/html": [
       "<div\n",
       "    class=\"webio-mountpoint\"\n",
       "    data-webio-mountpoint=\"12529419823499431312\"\n",
       ">\n",
       "    <script>\n",
       "    if (window.require && require.defined && require.defined(\"nbextensions/webio-jupyter-notebook\")) {\n",
       "        console.log(\"Jupyter WebIO extension detected, not mounting.\");\n",
       "    } else if (window.WebIO) {\n",
       "        WebIO.mount(\n",
       "            document.querySelector('[data-webio-mountpoint=\"12529419823499431312\"]'),\n",
       "            {\"props\":{},\"nodeType\":\"DOM\",\"type\":\"node\",\"instanceArgs\":{\"namespace\":\"html\",\"tag\":\"div\"},\"children\":[{\"props\":{\"className\":\"field interact-widget\"},\"nodeType\":\"DOM\",\"type\":\"node\",\"instanceArgs\":{\"namespace\":\"html\",\"tag\":\"div\"},\"children\":[{\"props\":{},\"nodeType\":\"Scope\",\"type\":\"node\",\"instanceArgs\":{\"imports\":{\"data\":[{\"name\":\"knockout\",\"type\":\"js\",\"url\":\"\\/assetserver\\/0f7dc91fc8596176c20edab2c146f643e18cfcdc-knockout.js\"},{\"name\":\"knockout_punches\",\"type\":\"js\",\"url\":\"\\/assetserver\\/8b17f7ded5914701597f16e37bf062d2d0b7e5d4-knockout_punches.js\"},{\"name\":null,\"type\":\"js\",\"url\":\"\\/assetserver\\/3eb5394c830347574f9413a8950b99793509cdb5-all.js\"},{\"name\":null,\"type\":\"css\",\"url\":\"\\/assetserver\\/c5073d62b91d019cd326a1073112f715fe0e3502-style.css\"},{\"name\":null,\"type\":\"css\",\"url\":\"\\/assetserver\\/44da6c918b69f064a105db1af391674e3a320ff8-bulma_confined.min.css\"}],\"type\":\"async_block\"},\"id\":\"1360276800049304306\",\"handlers\":{\"changes\":[\"(function (val){return (val!=this.model[\\\"changes\\\"]()) ? (this.valueFromJulia[\\\"changes\\\"]=true, this.model[\\\"changes\\\"](val)) : undefined})\"],\"index\":[\"(function (val){return (val!=this.model[\\\"index\\\"]()) ? (this.valueFromJulia[\\\"index\\\"]=true, this.model[\\\"index\\\"](val)) : undefined})\"]},\"systemjs_options\":null,\"mount_callbacks\":[\"function () {\\n    var handler = (function (ko, koPunches) {\\n    ko.punches.enableAll();\\n    ko.bindingHandlers.numericValue = {\\n        init: function(element, valueAccessor, allBindings, data, context) {\\n            var stringified = ko.observable(ko.unwrap(valueAccessor()));\\n            stringified.subscribe(function(value) {\\n                var val = parseFloat(value);\\n                if (!isNaN(val)) {\\n                    valueAccessor()(val);\\n                }\\n            });\\n            valueAccessor().subscribe(function(value) {\\n                var str = JSON.stringify(value);\\n                if ((str == \\\"0\\\") && ([\\\"-0\\\", \\\"-0.\\\"].indexOf(stringified()) >= 0))\\n                     return;\\n                 if ([\\\"null\\\", \\\"\\\"].indexOf(str) >= 0)\\n                     return;\\n                stringified(str);\\n            });\\n            ko.applyBindingsToNode(\\n                element,\\n                {\\n                    value: stringified,\\n                    valueUpdate: allBindings.get('valueUpdate'),\\n                },\\n                context,\\n            );\\n        }\\n    };\\n    var json_data = {\\\"formatted_vals\\\":[\\\"1\\\",\\\"2\\\",\\\"3\\\",\\\"4\\\",\\\"5\\\",\\\"6\\\",\\\"7\\\",\\\"8\\\",\\\"9\\\",\\\"10\\\"],\\\"changes\\\":WebIO.getval({\\\"name\\\":\\\"changes\\\",\\\"scope\\\":\\\"1360276800049304306\\\",\\\"id\\\":\\\"17874388887943804848\\\",\\\"type\\\":\\\"observable\\\"}),\\\"index\\\":WebIO.getval({\\\"name\\\":\\\"index\\\",\\\"scope\\\":\\\"1360276800049304306\\\",\\\"id\\\":\\\"7405537308172275619\\\",\\\"type\\\":\\\"observable\\\"})};\\n    var self = this;\\n    function AppViewModel() {\\n        for (var key in json_data) {\\n            var el = json_data[key];\\n            this[key] = Array.isArray(el) ? ko.observableArray(el) : ko.observable(el);\\n        }\\n        \\n        [this[\\\"formatted_val\\\"]=ko.computed(    function(){\\n        return this.formatted_vals()[parseInt(this.index())-(1)];\\n    }\\n,this)]\\n        [this[\\\"changes\\\"].subscribe((function (val){!(this.valueFromJulia[\\\"changes\\\"]) ? (WebIO.setval({\\\"name\\\":\\\"changes\\\",\\\"scope\\\":\\\"1360276800049304306\\\",\\\"id\\\":\\\"17874388887943804848\\\",\\\"type\\\":\\\"observable\\\"},val)) : undefined; return this.valueFromJulia[\\\"changes\\\"]=false}),self),this[\\\"index\\\"].subscribe((function (val){!(this.valueFromJulia[\\\"index\\\"]) ? (WebIO.setval({\\\"name\\\":\\\"index\\\",\\\"scope\\\":\\\"1360276800049304306\\\",\\\"id\\\":\\\"7405537308172275619\\\",\\\"type\\\":\\\"observable\\\"},val)) : undefined; return this.valueFromJulia[\\\"index\\\"]=false}),self)]\\n        \\n    }\\n    self.model = new AppViewModel();\\n    self.valueFromJulia = {};\\n    for (var key in json_data) {\\n        self.valueFromJulia[key] = false;\\n    }\\n    ko.applyBindings(self.model, self.dom);\\n}\\n);\\n    (WebIO.importBlock({\\\"data\\\":[{\\\"name\\\":\\\"knockout\\\",\\\"type\\\":\\\"js\\\",\\\"url\\\":\\\"\\/assetserver\\/0f7dc91fc8596176c20edab2c146f643e18cfcdc-knockout.js\\\"},{\\\"name\\\":\\\"knockout_punches\\\",\\\"type\\\":\\\"js\\\",\\\"url\\\":\\\"\\/assetserver\\/8b17f7ded5914701597f16e37bf062d2d0b7e5d4-knockout_punches.js\\\"}],\\\"type\\\":\\\"async_block\\\"})).then((imports) => handler.apply(this, imports));\\n}\\n\"],\"observables\":{\"changes\":{\"sync\":false,\"id\":\"17874388887943804848\",\"value\":0},\"index\":{\"sync\":true,\"id\":\"7405537308172275619\",\"value\":5}}},\"children\":[{\"props\":{\"className\":\"interact-flex-row interact-widget\"},\"nodeType\":\"DOM\",\"type\":\"node\",\"instanceArgs\":{\"namespace\":\"html\",\"tag\":\"div\"},\"children\":[{\"props\":{\"className\":\"interact-flex-row-left\"},\"nodeType\":\"DOM\",\"type\":\"node\",\"instanceArgs\":{\"namespace\":\"html\",\"tag\":\"div\"},\"children\":[{\"props\":{\"className\":\"interact \",\"style\":{\"padding\":\"5px 10px 0px 10px\"}},\"nodeType\":\"DOM\",\"type\":\"node\",\"instanceArgs\":{\"namespace\":\"html\",\"tag\":\"label\"},\"children\":[\"i\"]}]},{\"props\":{\"className\":\"interact-flex-row-center\"},\"nodeType\":\"DOM\",\"type\":\"node\",\"instanceArgs\":{\"namespace\":\"html\",\"tag\":\"div\"},\"children\":[{\"props\":{\"max\":10,\"min\":1,\"attributes\":{\"type\":\"range\",\"data-bind\":\"numericValue: index, valueUpdate: 'input', event: {change: function (){this.changes(this.changes()+1)}}\",\"orient\":\"horizontal\"},\"step\":1,\"className\":\"slider slider is-fullwidth\",\"style\":{}},\"nodeType\":\"DOM\",\"type\":\"node\",\"instanceArgs\":{\"namespace\":\"html\",\"tag\":\"input\"},\"children\":[]}]},{\"props\":{\"className\":\"interact-flex-row-right\"},\"nodeType\":\"DOM\",\"type\":\"node\",\"instanceArgs\":{\"namespace\":\"html\",\"tag\":\"div\"},\"children\":[{\"props\":{\"attributes\":{\"data-bind\":\"text: formatted_val\"}},\"nodeType\":\"DOM\",\"type\":\"node\",\"instanceArgs\":{\"namespace\":\"html\",\"tag\":\"p\"},\"children\":[]}]}]}]}]},{\"props\":{},\"nodeType\":\"Scope\",\"type\":\"node\",\"instanceArgs\":{\"imports\":{\"data\":[],\"type\":\"async_block\"},\"id\":\"12502797452252644106\",\"handlers\":{},\"systemjs_options\":null,\"mount_callbacks\":[],\"observables\":{\"obs-node\":{\"sync\":false,\"id\":\"12320426992410878647\",\"value\":{\"props\":{\"className\":\"interact-flex-row interact-widget\"},\"nodeType\":\"DOM\",\"type\":\"node\",\"instanceArgs\":{\"namespace\":\"html\",\"tag\":\"div\"},\"children\":[{\"props\":{\"setInnerHtml\":\"5\"},\"nodeType\":\"DOM\",\"type\":\"node\",\"instanceArgs\":{\"namespace\":\"html\",\"tag\":\"div\"},\"children\":[]}]}}}},\"children\":[{\"props\":{},\"nodeType\":\"ObservableNode\",\"type\":\"node\",\"instanceArgs\":{\"id\":\"12320426992410878647\",\"name\":\"obs-node\"},\"children\":[]}]}]},\n",
       "            window,\n",
       "        );\n",
       "    } else {\n",
       "        document\n",
       "            .querySelector('[data-webio-mountpoint=\"12529419823499431312\"]')\n",
       "            .innerHTML = (\n",
       "                '<div style=\"padding: 1em; background-color: #f8d6da; border: 1px solid #f5c6cb\">' +\n",
       "                '<p><strong>WebIO not detected.</strong></p>' +\n",
       "                '<p>Please read ' +\n",
       "                '<a href=\"https://juliagizmos.github.io/WebIO.jl/latest/troubleshooting/not-detected/\" target=\"_blank\">the troubleshooting guide</a> ' +\n",
       "                'for more information on how to resolve this issue.</p>' +\n",
       "                '<p><a href=\"https://juliagizmos.github.io/WebIO.jl/latest/troubleshooting/not-detected/\" target=\"_blank\">https://juliagizmos.github.io/WebIO.jl/latest/troubleshooting/not-detected/</a></p>' +\n",
       "                '</div>'\n",
       "            );\n",
       "    }\n",
       "    </script>\n",
       "</div>\n"
      ],
      "text/plain": [
       "Node{WebIO.DOM}(WebIO.DOM(:html, :div), Any[Node{WebIO.DOM}(WebIO.DOM(:html, :div), Any[Scope(Node{WebIO.DOM}(WebIO.DOM(:html, :div), Any[Node{WebIO.DOM}(WebIO.DOM(:html, :div), Any[Node{WebIO.DOM}(WebIO.DOM(:html, :label), Any[\"i\"], Dict{Symbol,Any}(:className => \"interact \",:style => Dict{Any,Any}(:padding => \"5px 10px 0px 10px\")))], Dict{Symbol,Any}(:className => \"interact-flex-row-left\")), Node{WebIO.DOM}(WebIO.DOM(:html, :div), Any[Node{WebIO.DOM}(WebIO.DOM(:html, :input), Any[], Dict{Symbol,Any}(:max => 10,:min => 1,:attributes => Dict{Any,Any}(:type => \"range\",Symbol(\"data-bind\") => \"numericValue: index, valueUpdate: 'input', event: {change: function (){this.changes(this.changes()+1)}}\",\"orient\" => \"horizontal\"),:step => 1,:className => \"slider slider is-fullwidth\",:style => Dict{Any,Any}()))], Dict{Symbol,Any}(:className => \"interact-flex-row-center\")), Node{WebIO.DOM}(WebIO.DOM(:html, :div), Any[Node{WebIO.DOM}(WebIO.DOM(:html, :p), Any[], Dict{Symbol,Any}(:attributes => Dict(\"data-bind\" => \"text: formatted_val\")))], Dict{Symbol,Any}(:className => \"interact-flex-row-right\"))], Dict{Symbol,Any}(:className => \"interact-flex-row interact-widget\")), Dict{String,Tuple{Observables.AbstractObservable,Union{Nothing, Bool}}}(\"changes\" => (Observable{Int64} with 1 listeners. Value:\n",
       "0, nothing),\"index\" => (Observable{Int64} with 2 listeners. Value:\n",
       "5, nothing)), Set(String[]), nothing, Asset[Asset(\"js\", \"knockout\", \"/Users/pinas/.julia/packages/Knockout/IP1uR/src/../assets/knockout.js\"), Asset(\"js\", \"knockout_punches\", \"/Users/pinas/.julia/packages/Knockout/IP1uR/src/../assets/knockout_punches.js\"), Asset(\"js\", nothing, \"/Users/pinas/.julia/packages/InteractBase/sOe2Z/src/../assets/all.js\"), Asset(\"css\", nothing, \"/Users/pinas/.julia/packages/InteractBase/sOe2Z/src/../assets/style.css\"), Asset(\"css\", nothing, \"/Users/pinas/.julia/packages/Interact/SbgIk/src/../assets/bulma_confined.min.css\")], Dict{Any,Any}(\"changes\" => Any[WebIO.JSString(\"(function (val){return (val!=this.model[\\\"changes\\\"]()) ? (this.valueFromJulia[\\\"changes\\\"]=true, this.model[\\\"changes\\\"](val)) : undefined})\")],\"index\" => Any[WebIO.JSString(\"(function (val){return (val!=this.model[\\\"index\\\"]()) ? (this.valueFromJulia[\\\"index\\\"]=true, this.model[\\\"index\\\"](val)) : undefined})\")]), WebIO.ConnectionPool(Channel{Any}(sz_max:32,sz_curr:0), Set(AbstractConnection[]), Base.GenericCondition{Base.AlwaysLockedST}(Base.InvasiveLinkedList{Task}(Task (runnable) @0x00000001252e5450, Task (runnable) @0x00000001252e5450), Base.AlwaysLockedST(1))), WebIO.JSString[WebIO.JSString(\"function () {\\n    var handler = (function (ko, koPunches) {\\n    ko.punches.enableAll();\\n    ko.bindingHandlers.numericValue = {\\n        init: function(element, valueAccessor, allBindings, data, context) {\\n            var stringified = ko.observable(ko.unwrap(valueAccessor()));\\n            stringified.subscribe(function(value) {\\n                var val = parseFloat(value);\\n                if (!isNaN(val)) {\\n                    valueAccessor()(val);\\n                }\\n            });\\n            valueAccessor().subscribe(function(value) {\\n                var str = JSON.stringify(value);\\n                if ((str == \\\"0\\\") && ([\\\"-0\\\", \\\"-0.\\\"].indexOf(stringified()) >= 0))\\n                     return;\\n                 if ([\\\"null\\\", \\\"\\\"].indexOf(str) >= 0)\\n                     return;\\n                stringified(str);\\n            });\\n            ko.applyBindingsToNode(\\n                element,\\n                {\\n                    value: stringified,\\n                    valueUpdate: allBindings.get('valueUpdate'),\\n                },\\n                context,\\n            );\\n        }\\n    };\\n    var json_data = {\\\"formatted_vals\\\":[\\\"1\\\",\\\"2\\\",\\\"3\\\",\\\"4\\\",\\\"5\\\",\\\"6\\\",\\\"7\\\",\\\"8\\\",\\\"9\\\",\\\"10\\\"],\\\"changes\\\":WebIO.getval({\\\"name\\\":\\\"changes\\\",\\\"scope\\\":\\\"1360276800049304306\\\",\\\"id\\\":\\\"17874388887943804848\\\",\\\"type\\\":\\\"observable\\\"}),\\\"index\\\":WebIO.getval({\\\"name\\\":\\\"index\\\",\\\"scope\\\":\\\"1360276800049304306\\\",\\\"id\\\":\\\"7405537308172275619\\\",\\\"type\\\":\\\"observable\\\"})};\\n    var self = this;\\n    function AppViewModel() {\\n        for (var key in json_data) {\\n            var el = json_data[key];\\n            this[key] = Array.isArray(el) ? ko.observableArray(el) : ko.observable(el);\\n        }\\n        \\n        [this[\\\"formatted_val\\\"]=ko.computed(    function(){\\n        return this.formatted_vals()[parseInt(this.index())-(1)];\\n    }\\n,this)]\\n        [this[\\\"changes\\\"].subscribe((function (val){!(this.valueFromJulia[\\\"changes\\\"]) ? (WebIO.setval({\\\"name\\\":\\\"changes\\\",\\\"scope\\\":\\\"1360276800049304306\\\",\\\"id\\\":\\\"17874388887943804848\\\",\\\"type\\\":\\\"observable\\\"},val)) : undefined; return this.valueFromJulia[\\\"changes\\\"]=false}),self),this[\\\"index\\\"].subscribe((function (val){!(this.valueFromJulia[\\\"index\\\"]) ? (WebIO.setval({\\\"name\\\":\\\"index\\\",\\\"scope\\\":\\\"1360276800049304306\\\",\\\"id\\\":\\\"7405537308172275619\\\",\\\"type\\\":\\\"observable\\\"},val)) : undefined; return this.valueFromJulia[\\\"index\\\"]=false}),self)]\\n        \\n    }\\n    self.model = new AppViewModel();\\n    self.valueFromJulia = {};\\n    for (var key in json_data) {\\n        self.valueFromJulia[key] = false;\\n    }\\n    ko.applyBindings(self.model, self.dom);\\n}\\n);\\n    (WebIO.importBlock({\\\"data\\\":[{\\\"name\\\":\\\"knockout\\\",\\\"type\\\":\\\"js\\\",\\\"url\\\":\\\"/assetserver/0f7dc91fc8596176c20edab2c146f643e18cfcdc-knockout.js\\\"},{\\\"name\\\":\\\"knockout_punches\\\",\\\"type\\\":\\\"js\\\",\\\"url\\\":\\\"/assetserver/8b17f7ded5914701597f16e37bf062d2d0b7e5d4-knockout_punches.js\\\"}],\\\"type\\\":\\\"async_block\\\"})).then((imports) => handler.apply(this, imports));\\n}\\n\")])], Dict{Symbol,Any}(:className => \"field interact-widget\")), Observable{Any} with 0 listeners. Value:\n",
       "Node{WebIO.DOM}(WebIO.DOM(:html, :div), Any[HTML{Int64}(5)], Dict{Symbol,Any}(:className => \"interact-flex-row interact-widget\"))], Dict{Symbol,Any}())"
      ]
     },
     "execution_count": 11,
     "metadata": {
      "application/vnd.webio.node+json": {
       "kernelId": "ef4624e9-3b3e-4b0a-98d2-430ad96dc488"
      }
     },
     "output_type": "execute_result"
    }
   ],
   "source": [
    "@manipulate for i in 1:10\n",
    "    HTML(i)\n",
    "end"
   ]
  },
  {
   "cell_type": "code",
   "execution_count": 12,
   "metadata": {},
   "outputs": [
    {
     "data": {
      "text/plain": [
       "266-element WeakRefStrings.StringArray{String,1}:\n",
       " \"Afghanistan\"\n",
       " \"Albania\"\n",
       " \"Algeria\"\n",
       " \"Andorra\"\n",
       " \"Angola\"\n",
       " \"Antigua and Barbuda\"\n",
       " \"Argentina\"\n",
       " \"Armenia\"\n",
       " \"Australia\"\n",
       " \"Australia\"\n",
       " \"Australia\"\n",
       " \"Australia\"\n",
       " \"Australia\"\n",
       " ⋮\n",
       " \"Sierra Leone\"\n",
       " \"Netherlands\"\n",
       " \"Malawi\"\n",
       " \"United Kingdom\"\n",
       " \"France\"\n",
       " \"South Sudan\"\n",
       " \"Western Sahara\"\n",
       " \"Sao Tome and Principe\"\n",
       " \"Yemen\"\n",
       " \"Comoros\"\n",
       " \"Tajikistan\"\n",
       " \"Lesotho\""
      ]
     },
     "execution_count": 12,
     "metadata": {},
     "output_type": "execute_result"
    }
   ],
   "source": [
    "countries = datacopy[:, 2] # A shorter way to extract all the data from column 2"
   ]
  },
  {
   "cell_type": "code",
   "execution_count": 13,
   "metadata": {},
   "outputs": [
    {
     "data": {
      "text/plain": [
       "266-element Array{String,1}:\n",
       " \"Afghanistan\"\n",
       " \"Albania\"\n",
       " \"Algeria\"\n",
       " \"Andorra\"\n",
       " \"Angola\"\n",
       " \"Antigua and Barbuda\"\n",
       " \"Argentina\"\n",
       " \"Armenia\"\n",
       " \"Australia\"\n",
       " \"Australia\"\n",
       " \"Australia\"\n",
       " \"Australia\"\n",
       " \"Australia\"\n",
       " ⋮\n",
       " \"Sierra Leone\"\n",
       " \"Netherlands\"\n",
       " \"Malawi\"\n",
       " \"United Kingdom\"\n",
       " \"France\"\n",
       " \"South Sudan\"\n",
       " \"Western Sahara\"\n",
       " \"Sao Tome and Principe\"\n",
       " \"Yemen\"\n",
       " \"Comoros\"\n",
       " \"Tajikistan\"\n",
       " \"Lesotho\""
      ]
     },
     "execution_count": 13,
     "metadata": {},
     "output_type": "execute_result"
    }
   ],
   "source": [
    "countries = collect(datacopy[:, 2])"
   ]
  },
  {
   "cell_type": "code",
   "execution_count": 14,
   "metadata": {},
   "outputs": [
    {
     "data": {
      "text/plain": [
       "188-element Array{String,1}:\n",
       " \"Afghanistan\"\n",
       " \"Albania\"\n",
       " \"Algeria\"\n",
       " \"Andorra\"\n",
       " \"Angola\"\n",
       " \"Antigua and Barbuda\"\n",
       " \"Argentina\"\n",
       " \"Armenia\"\n",
       " \"Australia\"\n",
       " \"Austria\"\n",
       " \"Azerbaijan\"\n",
       " \"Bahamas\"\n",
       " \"Bahrain\"\n",
       " ⋮\n",
       " \"MS Zaandam\"\n",
       " \"Botswana\"\n",
       " \"Burundi\"\n",
       " \"Sierra Leone\"\n",
       " \"Malawi\"\n",
       " \"South Sudan\"\n",
       " \"Western Sahara\"\n",
       " \"Sao Tome and Principe\"\n",
       " \"Yemen\"\n",
       " \"Comoros\"\n",
       " \"Tajikistan\"\n",
       " \"Lesotho\""
      ]
     },
     "execution_count": 14,
     "metadata": {},
     "output_type": "execute_result"
    }
   ],
   "source": [
    "uniquecountries = unique(countries)"
   ]
  },
  {
   "cell_type": "code",
   "execution_count": 15,
   "metadata": {},
   "outputs": [
    {
     "data": {
      "application/vnd.webio.node+json": {
       "children": [
        {
         "children": [
          {
           "children": [
            {
             "children": [
              {
               "children": [
                {
                 "children": [
                  "i"
                 ],
                 "instanceArgs": {
                  "namespace": "html",
                  "tag": "label"
                 },
                 "nodeType": "DOM",
                 "props": {
                  "className": "interact ",
                  "style": {
                   "padding": "5px 10px 0px 10px"
                  }
                 },
                 "type": "node"
                }
               ],
               "instanceArgs": {
                "namespace": "html",
                "tag": "div"
               },
               "nodeType": "DOM",
               "props": {
                "className": "interact-flex-row-left"
               },
               "type": "node"
              },
              {
               "children": [
                {
                 "children": [],
                 "instanceArgs": {
                  "namespace": "html",
                  "tag": "input"
                 },
                 "nodeType": "DOM",
                 "props": {
                  "attributes": {
                   "data-bind": "numericValue: index, valueUpdate: 'input', event: {change: function (){this.changes(this.changes()+1)}}",
                   "orient": "horizontal",
                   "type": "range"
                  },
                  "className": "slider slider is-fullwidth",
                  "max": 266,
                  "min": 1,
                  "step": 1,
                  "style": {}
                 },
                 "type": "node"
                }
               ],
               "instanceArgs": {
                "namespace": "html",
                "tag": "div"
               },
               "nodeType": "DOM",
               "props": {
                "className": "interact-flex-row-center"
               },
               "type": "node"
              },
              {
               "children": [
                {
                 "children": [],
                 "instanceArgs": {
                  "namespace": "html",
                  "tag": "p"
                 },
                 "nodeType": "DOM",
                 "props": {
                  "attributes": {
                   "data-bind": "text: formatted_val"
                  }
                 },
                 "type": "node"
                }
               ],
               "instanceArgs": {
                "namespace": "html",
                "tag": "div"
               },
               "nodeType": "DOM",
               "props": {
                "className": "interact-flex-row-right"
               },
               "type": "node"
              }
             ],
             "instanceArgs": {
              "namespace": "html",
              "tag": "div"
             },
             "nodeType": "DOM",
             "props": {
              "className": "interact-flex-row interact-widget"
             },
             "type": "node"
            }
           ],
           "instanceArgs": {
            "handlers": {
             "changes": [
              "(function (val){return (val!=this.model[\"changes\"]()) ? (this.valueFromJulia[\"changes\"]=true, this.model[\"changes\"](val)) : undefined})"
             ],
             "index": [
              "(function (val){return (val!=this.model[\"index\"]()) ? (this.valueFromJulia[\"index\"]=true, this.model[\"index\"](val)) : undefined})"
             ]
            },
            "id": "18366206718277840499",
            "imports": {
             "data": [
              {
               "name": "knockout",
               "type": "js",
               "url": "/assetserver/0f7dc91fc8596176c20edab2c146f643e18cfcdc-knockout.js"
              },
              {
               "name": "knockout_punches",
               "type": "js",
               "url": "/assetserver/8b17f7ded5914701597f16e37bf062d2d0b7e5d4-knockout_punches.js"
              },
              {
               "name": null,
               "type": "js",
               "url": "/assetserver/3eb5394c830347574f9413a8950b99793509cdb5-all.js"
              },
              {
               "name": null,
               "type": "css",
               "url": "/assetserver/c5073d62b91d019cd326a1073112f715fe0e3502-style.css"
              },
              {
               "name": null,
               "type": "css",
               "url": "/assetserver/44da6c918b69f064a105db1af391674e3a320ff8-bulma_confined.min.css"
              }
             ],
             "type": "async_block"
            },
            "mount_callbacks": [
             "function () {\n    var handler = (function (ko, koPunches) {\n    ko.punches.enableAll();\n    ko.bindingHandlers.numericValue = {\n        init: function(element, valueAccessor, allBindings, data, context) {\n            var stringified = ko.observable(ko.unwrap(valueAccessor()));\n            stringified.subscribe(function(value) {\n                var val = parseFloat(value);\n                if (!isNaN(val)) {\n                    valueAccessor()(val);\n                }\n            });\n            valueAccessor().subscribe(function(value) {\n                var str = JSON.stringify(value);\n                if ((str == \"0\") && ([\"-0\", \"-0.\"].indexOf(stringified()) >= 0))\n                     return;\n                 if ([\"null\", \"\"].indexOf(str) >= 0)\n                     return;\n                stringified(str);\n            });\n            ko.applyBindingsToNode(\n                element,\n                {\n                    value: stringified,\n                    valueUpdate: allBindings.get('valueUpdate'),\n                },\n                context,\n            );\n        }\n    };\n    var json_data = {\"formatted_vals\":[\"1\",\"2\",\"3\",\"4\",\"5\",\"6\",\"7\",\"8\",\"9\",\"10\",\"11\",\"12\",\"13\",\"14\",\"15\",\"16\",\"17\",\"18\",\"19\",\"20\",\"21\",\"22\",\"23\",\"24\",\"25\",\"26\",\"27\",\"28\",\"29\",\"30\",\"31\",\"32\",\"33\",\"34\",\"35\",\"36\",\"37\",\"38\",\"39\",\"40\",\"41\",\"42\",\"43\",\"44\",\"45\",\"46\",\"47\",\"48\",\"49\",\"50\",\"51\",\"52\",\"53\",\"54\",\"55\",\"56\",\"57\",\"58\",\"59\",\"60\",\"61\",\"62\",\"63\",\"64\",\"65\",\"66\",\"67\",\"68\",\"69\",\"70\",\"71\",\"72\",\"73\",\"74\",\"75\",\"76\",\"77\",\"78\",\"79\",\"80\",\"81\",\"82\",\"83\",\"84\",\"85\",\"86\",\"87\",\"88\",\"89\",\"90\",\"91\",\"92\",\"93\",\"94\",\"95\",\"96\",\"97\",\"98\",\"99\",\"100\",\"101\",\"102\",\"103\",\"104\",\"105\",\"106\",\"107\",\"108\",\"109\",\"110\",\"111\",\"112\",\"113\",\"114\",\"115\",\"116\",\"117\",\"118\",\"119\",\"120\",\"121\",\"122\",\"123\",\"124\",\"125\",\"126\",\"127\",\"128\",\"129\",\"130\",\"131\",\"132\",\"133\",\"134\",\"135\",\"136\",\"137\",\"138\",\"139\",\"140\",\"141\",\"142\",\"143\",\"144\",\"145\",\"146\",\"147\",\"148\",\"149\",\"150\",\"151\",\"152\",\"153\",\"154\",\"155\",\"156\",\"157\",\"158\",\"159\",\"160\",\"161\",\"162\",\"163\",\"164\",\"165\",\"166\",\"167\",\"168\",\"169\",\"170\",\"171\",\"172\",\"173\",\"174\",\"175\",\"176\",\"177\",\"178\",\"179\",\"180\",\"181\",\"182\",\"183\",\"184\",\"185\",\"186\",\"187\",\"188\",\"189\",\"190\",\"191\",\"192\",\"193\",\"194\",\"195\",\"196\",\"197\",\"198\",\"199\",\"200\",\"201\",\"202\",\"203\",\"204\",\"205\",\"206\",\"207\",\"208\",\"209\",\"210\",\"211\",\"212\",\"213\",\"214\",\"215\",\"216\",\"217\",\"218\",\"219\",\"220\",\"221\",\"222\",\"223\",\"224\",\"225\",\"226\",\"227\",\"228\",\"229\",\"230\",\"231\",\"232\",\"233\",\"234\",\"235\",\"236\",\"237\",\"238\",\"239\",\"240\",\"241\",\"242\",\"243\",\"244\",\"245\",\"246\",\"247\",\"248\",\"249\",\"250\",\"251\",\"252\",\"253\",\"254\",\"255\",\"256\",\"257\",\"258\",\"259\",\"260\",\"261\",\"262\",\"263\",\"264\",\"265\",\"266\"],\"changes\":WebIO.getval({\"name\":\"changes\",\"scope\":\"18366206718277840499\",\"id\":\"6014037791091943710\",\"type\":\"observable\"}),\"index\":WebIO.getval({\"name\":\"index\",\"scope\":\"18366206718277840499\",\"id\":\"14541936875872044686\",\"type\":\"observable\"})};\n    var self = this;\n    function AppViewModel() {\n        for (var key in json_data) {\n            var el = json_data[key];\n            this[key] = Array.isArray(el) ? ko.observableArray(el) : ko.observable(el);\n        }\n        \n        [this[\"formatted_val\"]=ko.computed(    function(){\n        return this.formatted_vals()[parseInt(this.index())-(1)];\n    }\n,this)]\n        [this[\"changes\"].subscribe((function (val){!(this.valueFromJulia[\"changes\"]) ? (WebIO.setval({\"name\":\"changes\",\"scope\":\"18366206718277840499\",\"id\":\"6014037791091943710\",\"type\":\"observable\"},val)) : undefined; return this.valueFromJulia[\"changes\"]=false}),self),this[\"index\"].subscribe((function (val){!(this.valueFromJulia[\"index\"]) ? (WebIO.setval({\"name\":\"index\",\"scope\":\"18366206718277840499\",\"id\":\"14541936875872044686\",\"type\":\"observable\"},val)) : undefined; return this.valueFromJulia[\"index\"]=false}),self)]\n        \n    }\n    self.model = new AppViewModel();\n    self.valueFromJulia = {};\n    for (var key in json_data) {\n        self.valueFromJulia[key] = false;\n    }\n    ko.applyBindings(self.model, self.dom);\n}\n);\n    (WebIO.importBlock({\"data\":[{\"name\":\"knockout\",\"type\":\"js\",\"url\":\"/assetserver/0f7dc91fc8596176c20edab2c146f643e18cfcdc-knockout.js\"},{\"name\":\"knockout_punches\",\"type\":\"js\",\"url\":\"/assetserver/8b17f7ded5914701597f16e37bf062d2d0b7e5d4-knockout_punches.js\"}],\"type\":\"async_block\"})).then((imports) => handler.apply(this, imports));\n}\n"
            ],
            "observables": {
             "changes": {
              "id": "6014037791091943710",
              "sync": false,
              "value": 0
             },
             "index": {
              "id": "14541936875872044686",
              "sync": true,
              "value": 133
             }
            },
            "systemjs_options": null
           },
           "nodeType": "Scope",
           "props": {},
           "type": "node"
          }
         ],
         "instanceArgs": {
          "namespace": "html",
          "tag": "div"
         },
         "nodeType": "DOM",
         "props": {
          "className": "field interact-widget"
         },
         "type": "node"
        },
        {
         "children": [
          {
           "children": [],
           "instanceArgs": {
            "id": "12379272329914318238",
            "name": "obs-node"
           },
           "nodeType": "ObservableNode",
           "props": {},
           "type": "node"
          }
         ],
         "instanceArgs": {
          "handlers": {},
          "id": "4631495849392083314",
          "imports": {
           "data": [],
           "type": "async_block"
          },
          "mount_callbacks": [],
          "observables": {
           "obs-node": {
            "id": "12379272329914318238",
            "sync": false,
            "value": {
             "children": [
              "Indonesia"
             ],
             "instanceArgs": {
              "namespace": "html",
              "tag": "div"
             },
             "nodeType": "DOM",
             "props": {
              "className": "interact-flex-row interact-widget"
             },
             "type": "node"
            }
           }
          },
          "systemjs_options": null
         },
         "nodeType": "Scope",
         "props": {},
         "type": "node"
        }
       ],
       "instanceArgs": {
        "namespace": "html",
        "tag": "div"
       },
       "nodeType": "DOM",
       "props": {},
       "type": "node"
      },
      "text/html": [
       "<div\n",
       "    class=\"webio-mountpoint\"\n",
       "    data-webio-mountpoint=\"5452991735983095458\"\n",
       ">\n",
       "    <script>\n",
       "    if (window.require && require.defined && require.defined(\"nbextensions/webio-jupyter-notebook\")) {\n",
       "        console.log(\"Jupyter WebIO extension detected, not mounting.\");\n",
       "    } else if (window.WebIO) {\n",
       "        WebIO.mount(\n",
       "            document.querySelector('[data-webio-mountpoint=\"5452991735983095458\"]'),\n",
       "            {\"props\":{},\"nodeType\":\"DOM\",\"type\":\"node\",\"instanceArgs\":{\"namespace\":\"html\",\"tag\":\"div\"},\"children\":[{\"props\":{\"className\":\"field interact-widget\"},\"nodeType\":\"DOM\",\"type\":\"node\",\"instanceArgs\":{\"namespace\":\"html\",\"tag\":\"div\"},\"children\":[{\"props\":{},\"nodeType\":\"Scope\",\"type\":\"node\",\"instanceArgs\":{\"imports\":{\"data\":[{\"name\":\"knockout\",\"type\":\"js\",\"url\":\"\\/assetserver\\/0f7dc91fc8596176c20edab2c146f643e18cfcdc-knockout.js\"},{\"name\":\"knockout_punches\",\"type\":\"js\",\"url\":\"\\/assetserver\\/8b17f7ded5914701597f16e37bf062d2d0b7e5d4-knockout_punches.js\"},{\"name\":null,\"type\":\"js\",\"url\":\"\\/assetserver\\/3eb5394c830347574f9413a8950b99793509cdb5-all.js\"},{\"name\":null,\"type\":\"css\",\"url\":\"\\/assetserver\\/c5073d62b91d019cd326a1073112f715fe0e3502-style.css\"},{\"name\":null,\"type\":\"css\",\"url\":\"\\/assetserver\\/44da6c918b69f064a105db1af391674e3a320ff8-bulma_confined.min.css\"}],\"type\":\"async_block\"},\"id\":\"18366206718277840499\",\"handlers\":{\"changes\":[\"(function (val){return (val!=this.model[\\\"changes\\\"]()) ? (this.valueFromJulia[\\\"changes\\\"]=true, this.model[\\\"changes\\\"](val)) : undefined})\"],\"index\":[\"(function (val){return (val!=this.model[\\\"index\\\"]()) ? (this.valueFromJulia[\\\"index\\\"]=true, this.model[\\\"index\\\"](val)) : undefined})\"]},\"systemjs_options\":null,\"mount_callbacks\":[\"function () {\\n    var handler = (function (ko, koPunches) {\\n    ko.punches.enableAll();\\n    ko.bindingHandlers.numericValue = {\\n        init: function(element, valueAccessor, allBindings, data, context) {\\n            var stringified = ko.observable(ko.unwrap(valueAccessor()));\\n            stringified.subscribe(function(value) {\\n                var val = parseFloat(value);\\n                if (!isNaN(val)) {\\n                    valueAccessor()(val);\\n                }\\n            });\\n            valueAccessor().subscribe(function(value) {\\n                var str = JSON.stringify(value);\\n                if ((str == \\\"0\\\") && ([\\\"-0\\\", \\\"-0.\\\"].indexOf(stringified()) >= 0))\\n                     return;\\n                 if ([\\\"null\\\", \\\"\\\"].indexOf(str) >= 0)\\n                     return;\\n                stringified(str);\\n            });\\n            ko.applyBindingsToNode(\\n                element,\\n                {\\n                    value: stringified,\\n                    valueUpdate: allBindings.get('valueUpdate'),\\n                },\\n                context,\\n            );\\n        }\\n    };\\n    var json_data = {\\\"formatted_vals\\\":[\\\"1\\\",\\\"2\\\",\\\"3\\\",\\\"4\\\",\\\"5\\\",\\\"6\\\",\\\"7\\\",\\\"8\\\",\\\"9\\\",\\\"10\\\",\\\"11\\\",\\\"12\\\",\\\"13\\\",\\\"14\\\",\\\"15\\\",\\\"16\\\",\\\"17\\\",\\\"18\\\",\\\"19\\\",\\\"20\\\",\\\"21\\\",\\\"22\\\",\\\"23\\\",\\\"24\\\",\\\"25\\\",\\\"26\\\",\\\"27\\\",\\\"28\\\",\\\"29\\\",\\\"30\\\",\\\"31\\\",\\\"32\\\",\\\"33\\\",\\\"34\\\",\\\"35\\\",\\\"36\\\",\\\"37\\\",\\\"38\\\",\\\"39\\\",\\\"40\\\",\\\"41\\\",\\\"42\\\",\\\"43\\\",\\\"44\\\",\\\"45\\\",\\\"46\\\",\\\"47\\\",\\\"48\\\",\\\"49\\\",\\\"50\\\",\\\"51\\\",\\\"52\\\",\\\"53\\\",\\\"54\\\",\\\"55\\\",\\\"56\\\",\\\"57\\\",\\\"58\\\",\\\"59\\\",\\\"60\\\",\\\"61\\\",\\\"62\\\",\\\"63\\\",\\\"64\\\",\\\"65\\\",\\\"66\\\",\\\"67\\\",\\\"68\\\",\\\"69\\\",\\\"70\\\",\\\"71\\\",\\\"72\\\",\\\"73\\\",\\\"74\\\",\\\"75\\\",\\\"76\\\",\\\"77\\\",\\\"78\\\",\\\"79\\\",\\\"80\\\",\\\"81\\\",\\\"82\\\",\\\"83\\\",\\\"84\\\",\\\"85\\\",\\\"86\\\",\\\"87\\\",\\\"88\\\",\\\"89\\\",\\\"90\\\",\\\"91\\\",\\\"92\\\",\\\"93\\\",\\\"94\\\",\\\"95\\\",\\\"96\\\",\\\"97\\\",\\\"98\\\",\\\"99\\\",\\\"100\\\",\\\"101\\\",\\\"102\\\",\\\"103\\\",\\\"104\\\",\\\"105\\\",\\\"106\\\",\\\"107\\\",\\\"108\\\",\\\"109\\\",\\\"110\\\",\\\"111\\\",\\\"112\\\",\\\"113\\\",\\\"114\\\",\\\"115\\\",\\\"116\\\",\\\"117\\\",\\\"118\\\",\\\"119\\\",\\\"120\\\",\\\"121\\\",\\\"122\\\",\\\"123\\\",\\\"124\\\",\\\"125\\\",\\\"126\\\",\\\"127\\\",\\\"128\\\",\\\"129\\\",\\\"130\\\",\\\"131\\\",\\\"132\\\",\\\"133\\\",\\\"134\\\",\\\"135\\\",\\\"136\\\",\\\"137\\\",\\\"138\\\",\\\"139\\\",\\\"140\\\",\\\"141\\\",\\\"142\\\",\\\"143\\\",\\\"144\\\",\\\"145\\\",\\\"146\\\",\\\"147\\\",\\\"148\\\",\\\"149\\\",\\\"150\\\",\\\"151\\\",\\\"152\\\",\\\"153\\\",\\\"154\\\",\\\"155\\\",\\\"156\\\",\\\"157\\\",\\\"158\\\",\\\"159\\\",\\\"160\\\",\\\"161\\\",\\\"162\\\",\\\"163\\\",\\\"164\\\",\\\"165\\\",\\\"166\\\",\\\"167\\\",\\\"168\\\",\\\"169\\\",\\\"170\\\",\\\"171\\\",\\\"172\\\",\\\"173\\\",\\\"174\\\",\\\"175\\\",\\\"176\\\",\\\"177\\\",\\\"178\\\",\\\"179\\\",\\\"180\\\",\\\"181\\\",\\\"182\\\",\\\"183\\\",\\\"184\\\",\\\"185\\\",\\\"186\\\",\\\"187\\\",\\\"188\\\",\\\"189\\\",\\\"190\\\",\\\"191\\\",\\\"192\\\",\\\"193\\\",\\\"194\\\",\\\"195\\\",\\\"196\\\",\\\"197\\\",\\\"198\\\",\\\"199\\\",\\\"200\\\",\\\"201\\\",\\\"202\\\",\\\"203\\\",\\\"204\\\",\\\"205\\\",\\\"206\\\",\\\"207\\\",\\\"208\\\",\\\"209\\\",\\\"210\\\",\\\"211\\\",\\\"212\\\",\\\"213\\\",\\\"214\\\",\\\"215\\\",\\\"216\\\",\\\"217\\\",\\\"218\\\",\\\"219\\\",\\\"220\\\",\\\"221\\\",\\\"222\\\",\\\"223\\\",\\\"224\\\",\\\"225\\\",\\\"226\\\",\\\"227\\\",\\\"228\\\",\\\"229\\\",\\\"230\\\",\\\"231\\\",\\\"232\\\",\\\"233\\\",\\\"234\\\",\\\"235\\\",\\\"236\\\",\\\"237\\\",\\\"238\\\",\\\"239\\\",\\\"240\\\",\\\"241\\\",\\\"242\\\",\\\"243\\\",\\\"244\\\",\\\"245\\\",\\\"246\\\",\\\"247\\\",\\\"248\\\",\\\"249\\\",\\\"250\\\",\\\"251\\\",\\\"252\\\",\\\"253\\\",\\\"254\\\",\\\"255\\\",\\\"256\\\",\\\"257\\\",\\\"258\\\",\\\"259\\\",\\\"260\\\",\\\"261\\\",\\\"262\\\",\\\"263\\\",\\\"264\\\",\\\"265\\\",\\\"266\\\"],\\\"changes\\\":WebIO.getval({\\\"name\\\":\\\"changes\\\",\\\"scope\\\":\\\"18366206718277840499\\\",\\\"id\\\":\\\"6014037791091943710\\\",\\\"type\\\":\\\"observable\\\"}),\\\"index\\\":WebIO.getval({\\\"name\\\":\\\"index\\\",\\\"scope\\\":\\\"18366206718277840499\\\",\\\"id\\\":\\\"14541936875872044686\\\",\\\"type\\\":\\\"observable\\\"})};\\n    var self = this;\\n    function AppViewModel() {\\n        for (var key in json_data) {\\n            var el = json_data[key];\\n            this[key] = Array.isArray(el) ? ko.observableArray(el) : ko.observable(el);\\n        }\\n        \\n        [this[\\\"formatted_val\\\"]=ko.computed(    function(){\\n        return this.formatted_vals()[parseInt(this.index())-(1)];\\n    }\\n,this)]\\n        [this[\\\"changes\\\"].subscribe((function (val){!(this.valueFromJulia[\\\"changes\\\"]) ? (WebIO.setval({\\\"name\\\":\\\"changes\\\",\\\"scope\\\":\\\"18366206718277840499\\\",\\\"id\\\":\\\"6014037791091943710\\\",\\\"type\\\":\\\"observable\\\"},val)) : undefined; return this.valueFromJulia[\\\"changes\\\"]=false}),self),this[\\\"index\\\"].subscribe((function (val){!(this.valueFromJulia[\\\"index\\\"]) ? (WebIO.setval({\\\"name\\\":\\\"index\\\",\\\"scope\\\":\\\"18366206718277840499\\\",\\\"id\\\":\\\"14541936875872044686\\\",\\\"type\\\":\\\"observable\\\"},val)) : undefined; return this.valueFromJulia[\\\"index\\\"]=false}),self)]\\n        \\n    }\\n    self.model = new AppViewModel();\\n    self.valueFromJulia = {};\\n    for (var key in json_data) {\\n        self.valueFromJulia[key] = false;\\n    }\\n    ko.applyBindings(self.model, self.dom);\\n}\\n);\\n    (WebIO.importBlock({\\\"data\\\":[{\\\"name\\\":\\\"knockout\\\",\\\"type\\\":\\\"js\\\",\\\"url\\\":\\\"\\/assetserver\\/0f7dc91fc8596176c20edab2c146f643e18cfcdc-knockout.js\\\"},{\\\"name\\\":\\\"knockout_punches\\\",\\\"type\\\":\\\"js\\\",\\\"url\\\":\\\"\\/assetserver\\/8b17f7ded5914701597f16e37bf062d2d0b7e5d4-knockout_punches.js\\\"}],\\\"type\\\":\\\"async_block\\\"})).then((imports) => handler.apply(this, imports));\\n}\\n\"],\"observables\":{\"changes\":{\"sync\":false,\"id\":\"6014037791091943710\",\"value\":0},\"index\":{\"sync\":true,\"id\":\"14541936875872044686\",\"value\":133}}},\"children\":[{\"props\":{\"className\":\"interact-flex-row interact-widget\"},\"nodeType\":\"DOM\",\"type\":\"node\",\"instanceArgs\":{\"namespace\":\"html\",\"tag\":\"div\"},\"children\":[{\"props\":{\"className\":\"interact-flex-row-left\"},\"nodeType\":\"DOM\",\"type\":\"node\",\"instanceArgs\":{\"namespace\":\"html\",\"tag\":\"div\"},\"children\":[{\"props\":{\"className\":\"interact \",\"style\":{\"padding\":\"5px 10px 0px 10px\"}},\"nodeType\":\"DOM\",\"type\":\"node\",\"instanceArgs\":{\"namespace\":\"html\",\"tag\":\"label\"},\"children\":[\"i\"]}]},{\"props\":{\"className\":\"interact-flex-row-center\"},\"nodeType\":\"DOM\",\"type\":\"node\",\"instanceArgs\":{\"namespace\":\"html\",\"tag\":\"div\"},\"children\":[{\"props\":{\"max\":266,\"min\":1,\"attributes\":{\"type\":\"range\",\"data-bind\":\"numericValue: index, valueUpdate: 'input', event: {change: function (){this.changes(this.changes()+1)}}\",\"orient\":\"horizontal\"},\"step\":1,\"className\":\"slider slider is-fullwidth\",\"style\":{}},\"nodeType\":\"DOM\",\"type\":\"node\",\"instanceArgs\":{\"namespace\":\"html\",\"tag\":\"input\"},\"children\":[]}]},{\"props\":{\"className\":\"interact-flex-row-right\"},\"nodeType\":\"DOM\",\"type\":\"node\",\"instanceArgs\":{\"namespace\":\"html\",\"tag\":\"div\"},\"children\":[{\"props\":{\"attributes\":{\"data-bind\":\"text: formatted_val\"}},\"nodeType\":\"DOM\",\"type\":\"node\",\"instanceArgs\":{\"namespace\":\"html\",\"tag\":\"p\"},\"children\":[]}]}]}]}]},{\"props\":{},\"nodeType\":\"Scope\",\"type\":\"node\",\"instanceArgs\":{\"imports\":{\"data\":[],\"type\":\"async_block\"},\"id\":\"9235872855692585005\",\"handlers\":{},\"systemjs_options\":null,\"mount_callbacks\":[],\"observables\":{\"obs-node\":{\"sync\":false,\"id\":\"14886943715485118719\",\"value\":{\"props\":{\"className\":\"interact-flex-row interact-widget\"},\"nodeType\":\"DOM\",\"type\":\"node\",\"instanceArgs\":{\"namespace\":\"html\",\"tag\":\"div\"},\"children\":[\"Indonesia\"]}}}},\"children\":[{\"props\":{},\"nodeType\":\"ObservableNode\",\"type\":\"node\",\"instanceArgs\":{\"id\":\"14886943715485118719\",\"name\":\"obs-node\"},\"children\":[]}]}]},\n",
       "            window,\n",
       "        );\n",
       "    } else {\n",
       "        document\n",
       "            .querySelector('[data-webio-mountpoint=\"5452991735983095458\"]')\n",
       "            .innerHTML = (\n",
       "                '<div style=\"padding: 1em; background-color: #f8d6da; border: 1px solid #f5c6cb\">' +\n",
       "                '<p><strong>WebIO not detected.</strong></p>' +\n",
       "                '<p>Please read ' +\n",
       "                '<a href=\"https://juliagizmos.github.io/WebIO.jl/latest/troubleshooting/not-detected/\" target=\"_blank\">the troubleshooting guide</a> ' +\n",
       "                'for more information on how to resolve this issue.</p>' +\n",
       "                '<p><a href=\"https://juliagizmos.github.io/WebIO.jl/latest/troubleshooting/not-detected/\" target=\"_blank\">https://juliagizmos.github.io/WebIO.jl/latest/troubleshooting/not-detected/</a></p>' +\n",
       "                '</div>'\n",
       "            );\n",
       "    }\n",
       "    </script>\n",
       "</div>\n"
      ],
      "text/plain": [
       "Node{WebIO.DOM}(WebIO.DOM(:html, :div), Any[Node{WebIO.DOM}(WebIO.DOM(:html, :div), Any[Scope(Node{WebIO.DOM}(WebIO.DOM(:html, :div), Any[Node{WebIO.DOM}(WebIO.DOM(:html, :div), Any[Node{WebIO.DOM}(WebIO.DOM(:html, :label), Any[\"i\"], Dict{Symbol,Any}(:className => \"interact \",:style => Dict{Any,Any}(:padding => \"5px 10px 0px 10px\")))], Dict{Symbol,Any}(:className => \"interact-flex-row-left\")), Node{WebIO.DOM}(WebIO.DOM(:html, :div), Any[Node{WebIO.DOM}(WebIO.DOM(:html, :input), Any[], Dict{Symbol,Any}(:max => 266,:min => 1,:attributes => Dict{Any,Any}(:type => \"range\",Symbol(\"data-bind\") => \"numericValue: index, valueUpdate: 'input', event: {change: function (){this.changes(this.changes()+1)}}\",\"orient\" => \"horizontal\"),:step => 1,:className => \"slider slider is-fullwidth\",:style => Dict{Any,Any}()))], Dict{Symbol,Any}(:className => \"interact-flex-row-center\")), Node{WebIO.DOM}(WebIO.DOM(:html, :div), Any[Node{WebIO.DOM}(WebIO.DOM(:html, :p), Any[], Dict{Symbol,Any}(:attributes => Dict(\"data-bind\" => \"text: formatted_val\")))], Dict{Symbol,Any}(:className => \"interact-flex-row-right\"))], Dict{Symbol,Any}(:className => \"interact-flex-row interact-widget\")), Dict{String,Tuple{Observables.AbstractObservable,Union{Nothing, Bool}}}(\"changes\" => (Observable{Int64} with 1 listeners. Value:\n",
       "0, nothing),\"index\" => (Observable{Int64} with 2 listeners. Value:\n",
       "133, nothing)), Set(String[]), nothing, Asset[Asset(\"js\", \"knockout\", \"/Users/pinas/.julia/packages/Knockout/IP1uR/src/../assets/knockout.js\"), Asset(\"js\", \"knockout_punches\", \"/Users/pinas/.julia/packages/Knockout/IP1uR/src/../assets/knockout_punches.js\"), Asset(\"js\", nothing, \"/Users/pinas/.julia/packages/InteractBase/sOe2Z/src/../assets/all.js\"), Asset(\"css\", nothing, \"/Users/pinas/.julia/packages/InteractBase/sOe2Z/src/../assets/style.css\"), Asset(\"css\", nothing, \"/Users/pinas/.julia/packages/Interact/SbgIk/src/../assets/bulma_confined.min.css\")], Dict{Any,Any}(\"changes\" => Any[WebIO.JSString(\"(function (val){return (val!=this.model[\\\"changes\\\"]()) ? (this.valueFromJulia[\\\"changes\\\"]=true, this.model[\\\"changes\\\"](val)) : undefined})\")],\"index\" => Any[WebIO.JSString(\"(function (val){return (val!=this.model[\\\"index\\\"]()) ? (this.valueFromJulia[\\\"index\\\"]=true, this.model[\\\"index\\\"](val)) : undefined})\")]), WebIO.ConnectionPool(Channel{Any}(sz_max:32,sz_curr:0), Set(AbstractConnection[]), Base.GenericCondition{Base.AlwaysLockedST}(Base.InvasiveLinkedList{Task}(Task (runnable) @0x000000011098d450, Task (runnable) @0x000000011098d450), Base.AlwaysLockedST(1))), WebIO.JSString[WebIO.JSString(\"function () {\\n    var handler = (function (ko, koPunches) {\\n    ko.punches.enableAll();\\n    ko.bindingHandlers.numericValue = {\\n        init: function(element, valueAccessor, allBindings, data, context) {\\n            var stringified = ko.observable(ko.unwrap(valueAccessor()));\\n            stringified.subscribe(function(value) {\\n                var val = parseFloat(value);\\n                if (!isNaN(val)) {\\n                    valueAccessor()(val);\\n                }\\n            });\\n            valueAccessor().subscribe(function(value) {\\n                var str = JSON.stringify(value);\\n                if ((str == \\\"0\\\") && ([\\\"-0\\\", \\\"-0.\\\"].indexOf(stringified()) >= 0))\\n                     return;\\n                 if ([\\\"null\\\", \\\"\\\"].indexOf(str) >= 0)\\n                     return;\\n                stringified(str);\\n            });\\n            ko.applyBindingsToNode(\\n                element,\\n                {\\n                    value: stringified,\\n                    valueUpdate: allBindings.get('valueUpdate'),\\n                },\\n                context,\\n            );\\n        }\\n    };\\n    var json_data = {\\\"formatted_vals\\\":[\\\"1\\\",\\\"2\\\",\\\"3\\\",\\\"4\\\",\\\"5\\\",\\\"6\\\",\\\"7\\\",\\\"8\\\",\\\"9\\\",\\\"10\\\",\\\"11\\\",\\\"12\\\",\\\"13\\\",\\\"14\\\",\\\"15\\\",\\\"16\\\",\\\"17\\\",\\\"18\\\",\\\"19\\\",\\\"20\\\",\\\"21\\\",\\\"22\\\",\\\"23\\\",\\\"24\\\",\\\"25\\\",\\\"26\\\",\\\"27\\\",\\\"28\\\",\\\"29\\\",\\\"30\\\",\\\"31\\\",\\\"32\\\",\\\"33\\\",\\\"34\\\",\\\"35\\\",\\\"36\\\",\\\"37\\\",\\\"38\\\",\\\"39\\\",\\\"40\\\",\\\"41\\\",\\\"42\\\",\\\"43\\\",\\\"44\\\",\\\"45\\\",\\\"46\\\",\\\"47\\\",\\\"48\\\",\\\"49\\\",\\\"50\\\",\\\"51\\\",\\\"52\\\",\\\"53\\\",\\\"54\\\",\\\"55\\\",\\\"56\\\",\\\"57\\\",\\\"58\\\",\\\"59\\\",\\\"60\\\",\\\"61\\\",\\\"62\\\",\\\"63\\\",\\\"64\\\",\\\"65\\\",\\\"66\\\",\\\"67\\\",\\\"68\\\",\\\"69\\\",\\\"70\\\",\\\"71\\\",\\\"72\\\",\\\"73\\\",\\\"74\\\",\\\"75\\\",\\\"76\\\",\\\"77\\\",\\\"78\\\",\\\"79\\\",\\\"80\\\",\\\"81\\\",\\\"82\\\",\\\"83\\\",\\\"84\\\",\\\"85\\\",\\\"86\\\",\\\"87\\\",\\\"88\\\",\\\"89\\\",\\\"90\\\",\\\"91\\\",\\\"92\\\",\\\"93\\\",\\\"94\\\",\\\"95\\\",\\\"96\\\",\\\"97\\\",\\\"98\\\",\\\"99\\\",\\\"100\\\",\\\"101\\\",\\\"102\\\",\\\"103\\\",\\\"104\\\",\\\"105\\\",\\\"106\\\",\\\"107\\\",\\\"108\\\",\\\"109\\\",\\\"110\\\",\\\"111\\\",\\\"112\\\",\\\"113\\\",\\\"114\\\",\\\"115\\\",\\\"116\\\",\\\"117\\\",\\\"118\\\",\\\"119\\\",\\\"120\\\",\\\"121\\\",\\\"122\\\",\\\"123\\\",\\\"124\\\",\\\"125\\\",\\\"126\\\",\\\"127\\\",\\\"128\\\",\\\"129\\\",\\\"130\\\",\\\"131\\\",\\\"132\\\",\\\"133\\\",\\\"134\\\",\\\"135\\\",\\\"136\\\",\\\"137\\\",\\\"138\\\",\\\"139\\\",\\\"140\\\",\\\"141\\\",\\\"142\\\",\\\"143\\\",\\\"144\\\",\\\"145\\\",\\\"146\\\",\\\"147\\\",\\\"148\\\",\\\"149\\\",\\\"150\\\",\\\"151\\\",\\\"152\\\",\\\"153\\\",\\\"154\\\",\\\"155\\\",\\\"156\\\",\\\"157\\\",\\\"158\\\",\\\"159\\\",\\\"160\\\",\\\"161\\\",\\\"162\\\",\\\"163\\\",\\\"164\\\",\\\"165\\\",\\\"166\\\",\\\"167\\\",\\\"168\\\",\\\"169\\\",\\\"170\\\",\\\"171\\\",\\\"172\\\",\\\"173\\\",\\\"174\\\",\\\"175\\\",\\\"176\\\",\\\"177\\\",\\\"178\\\",\\\"179\\\",\\\"180\\\",\\\"181\\\",\\\"182\\\",\\\"183\\\",\\\"184\\\",\\\"185\\\",\\\"186\\\",\\\"187\\\",\\\"188\\\",\\\"189\\\",\\\"190\\\",\\\"191\\\",\\\"192\\\",\\\"193\\\",\\\"194\\\",\\\"195\\\",\\\"196\\\",\\\"197\\\",\\\"198\\\",\\\"199\\\",\\\"200\\\",\\\"201\\\",\\\"202\\\",\\\"203\\\",\\\"204\\\",\\\"205\\\",\\\"206\\\",\\\"207\\\",\\\"208\\\",\\\"209\\\",\\\"210\\\",\\\"211\\\",\\\"212\\\",\\\"213\\\",\\\"214\\\",\\\"215\\\",\\\"216\\\",\\\"217\\\",\\\"218\\\",\\\"219\\\",\\\"220\\\",\\\"221\\\",\\\"222\\\",\\\"223\\\",\\\"224\\\",\\\"225\\\",\\\"226\\\",\\\"227\\\",\\\"228\\\",\\\"229\\\",\\\"230\\\",\\\"231\\\",\\\"232\\\",\\\"233\\\",\\\"234\\\",\\\"235\\\",\\\"236\\\",\\\"237\\\",\\\"238\\\",\\\"239\\\",\\\"240\\\",\\\"241\\\",\\\"242\\\",\\\"243\\\",\\\"244\\\",\\\"245\\\",\\\"246\\\",\\\"247\\\",\\\"248\\\",\\\"249\\\",\\\"250\\\",\\\"251\\\",\\\"252\\\",\\\"253\\\",\\\"254\\\",\\\"255\\\",\\\"256\\\",\\\"257\\\",\\\"258\\\",\\\"259\\\",\\\"260\\\",\\\"261\\\",\\\"262\\\",\\\"263\\\",\\\"264\\\",\\\"265\\\",\\\"266\\\"],\\\"changes\\\":WebIO.getval({\\\"name\\\":\\\"changes\\\",\\\"scope\\\":\\\"18366206718277840499\\\",\\\"id\\\":\\\"6014037791091943710\\\",\\\"type\\\":\\\"observable\\\"}),\\\"index\\\":WebIO.getval({\\\"name\\\":\\\"index\\\",\\\"scope\\\":\\\"18366206718277840499\\\",\\\"id\\\":\\\"14541936875872044686\\\",\\\"type\\\":\\\"observable\\\"})};\\n    var self = this;\\n    function AppViewModel() {\\n        for (var key in json_data) {\\n            var el = json_data[key];\\n            this[key] = Array.isArray(el) ? ko.observableArray(el) : ko.observable(el);\\n        }\\n        \\n        [this[\\\"formatted_val\\\"]=ko.computed(    function(){\\n        return this.formatted_vals()[parseInt(this.index())-(1)];\\n    }\\n,this)]\\n        [this[\\\"changes\\\"].subscribe((function (val){!(this.valueFromJulia[\\\"changes\\\"]) ? (WebIO.setval({\\\"name\\\":\\\"changes\\\",\\\"scope\\\":\\\"18366206718277840499\\\",\\\"id\\\":\\\"6014037791091943710\\\",\\\"type\\\":\\\"observable\\\"},val)) : undefined; return this.valueFromJulia[\\\"changes\\\"]=false}),self),this[\\\"index\\\"].subscribe((function (val){!(this.valueFromJulia[\\\"index\\\"]) ? (WebIO.setval({\\\"name\\\":\\\"index\\\",\\\"scope\\\":\\\"18366206718277840499\\\",\\\"id\\\":\\\"14541936875872044686\\\",\\\"type\\\":\\\"observable\\\"},val)) : undefined; return this.valueFromJulia[\\\"index\\\"]=false}),self)]\\n        \\n    }\\n    self.model = new AppViewModel();\\n    self.valueFromJulia = {};\\n    for (var key in json_data) {\\n        self.valueFromJulia[key] = false;\\n    }\\n    ko.applyBindings(self.model, self.dom);\\n}\\n);\\n    (WebIO.importBlock({\\\"data\\\":[{\\\"name\\\":\\\"knockout\\\",\\\"type\\\":\\\"js\\\",\\\"url\\\":\\\"/assetserver/0f7dc91fc8596176c20edab2c146f643e18cfcdc-knockout.js\\\"},{\\\"name\\\":\\\"knockout_punches\\\",\\\"type\\\":\\\"js\\\",\\\"url\\\":\\\"/assetserver/8b17f7ded5914701597f16e37bf062d2d0b7e5d4-knockout_punches.js\\\"}],\\\"type\\\":\\\"async_block\\\"})).then((imports) => handler.apply(this, imports));\\n}\\n\")])], Dict{Symbol,Any}(:className => \"field interact-widget\")), Observable{Any} with 0 listeners. Value:\n",
       "Node{WebIO.DOM}(WebIO.DOM(:html, :div), Any[\"Indonesia\"], Dict{Symbol,Any}(:className => \"interact-flex-row interact-widget\"))], Dict{Symbol,Any}())"
      ]
     },
     "execution_count": 15,
     "metadata": {
      "application/vnd.webio.node+json": {
       "kernelId": "ef4624e9-3b3e-4b0a-98d2-430ad96dc488"
      }
     },
     "output_type": "execute_result"
    }
   ],
   "source": [
    "@manipulate for i in 1:length(countries) # in the column of countries, start from row 1 and the whole length\n",
    "    countries[i] # starting from row 1; display country names with their corresponding number\n",
    "end"
   ]
  },
  {
   "cell_type": "markdown",
   "metadata": {},
   "source": [
    "Extract data and plot"
   ]
  },
  {
   "cell_type": "code",
   "execution_count": 16,
   "metadata": {},
   "outputs": [
    {
     "data": {
      "application/vnd.webio.node+json": {
       "children": [
        {
         "children": [
          {
           "children": [
            {
             "children": [
              {
               "children": [
                {
                 "children": [
                  "i"
                 ],
                 "instanceArgs": {
                  "namespace": "html",
                  "tag": "label"
                 },
                 "nodeType": "DOM",
                 "props": {
                  "className": "interact ",
                  "style": {
                   "padding": "5px 10px 0px 10px"
                  }
                 },
                 "type": "node"
                }
               ],
               "instanceArgs": {
                "namespace": "html",
                "tag": "div"
               },
               "nodeType": "DOM",
               "props": {
                "className": "interact-flex-row-left"
               },
               "type": "node"
              },
              {
               "children": [
                {
                 "children": [],
                 "instanceArgs": {
                  "namespace": "html",
                  "tag": "input"
                 },
                 "nodeType": "DOM",
                 "props": {
                  "attributes": {
                   "data-bind": "numericValue: index, valueUpdate: 'input', event: {change: function (){this.changes(this.changes()+1)}}",
                   "orient": "horizontal",
                   "type": "range"
                  },
                  "className": "slider slider is-fullwidth",
                  "max": 266,
                  "min": 1,
                  "step": 1,
                  "style": {}
                 },
                 "type": "node"
                }
               ],
               "instanceArgs": {
                "namespace": "html",
                "tag": "div"
               },
               "nodeType": "DOM",
               "props": {
                "className": "interact-flex-row-center"
               },
               "type": "node"
              },
              {
               "children": [
                {
                 "children": [],
                 "instanceArgs": {
                  "namespace": "html",
                  "tag": "p"
                 },
                 "nodeType": "DOM",
                 "props": {
                  "attributes": {
                   "data-bind": "text: formatted_val"
                  }
                 },
                 "type": "node"
                }
               ],
               "instanceArgs": {
                "namespace": "html",
                "tag": "div"
               },
               "nodeType": "DOM",
               "props": {
                "className": "interact-flex-row-right"
               },
               "type": "node"
              }
             ],
             "instanceArgs": {
              "namespace": "html",
              "tag": "div"
             },
             "nodeType": "DOM",
             "props": {
              "className": "interact-flex-row interact-widget"
             },
             "type": "node"
            }
           ],
           "instanceArgs": {
            "handlers": {
             "changes": [
              "(function (val){return (val!=this.model[\"changes\"]()) ? (this.valueFromJulia[\"changes\"]=true, this.model[\"changes\"](val)) : undefined})"
             ],
             "index": [
              "(function (val){return (val!=this.model[\"index\"]()) ? (this.valueFromJulia[\"index\"]=true, this.model[\"index\"](val)) : undefined})"
             ]
            },
            "id": "12911685124060793441",
            "imports": {
             "data": [
              {
               "name": "knockout",
               "type": "js",
               "url": "/assetserver/0f7dc91fc8596176c20edab2c146f643e18cfcdc-knockout.js"
              },
              {
               "name": "knockout_punches",
               "type": "js",
               "url": "/assetserver/8b17f7ded5914701597f16e37bf062d2d0b7e5d4-knockout_punches.js"
              },
              {
               "name": null,
               "type": "js",
               "url": "/assetserver/3eb5394c830347574f9413a8950b99793509cdb5-all.js"
              },
              {
               "name": null,
               "type": "css",
               "url": "/assetserver/c5073d62b91d019cd326a1073112f715fe0e3502-style.css"
              },
              {
               "name": null,
               "type": "css",
               "url": "/assetserver/44da6c918b69f064a105db1af391674e3a320ff8-bulma_confined.min.css"
              }
             ],
             "type": "async_block"
            },
            "mount_callbacks": [
             "function () {\n    var handler = (function (ko, koPunches) {\n    ko.punches.enableAll();\n    ko.bindingHandlers.numericValue = {\n        init: function(element, valueAccessor, allBindings, data, context) {\n            var stringified = ko.observable(ko.unwrap(valueAccessor()));\n            stringified.subscribe(function(value) {\n                var val = parseFloat(value);\n                if (!isNaN(val)) {\n                    valueAccessor()(val);\n                }\n            });\n            valueAccessor().subscribe(function(value) {\n                var str = JSON.stringify(value);\n                if ((str == \"0\") && ([\"-0\", \"-0.\"].indexOf(stringified()) >= 0))\n                     return;\n                 if ([\"null\", \"\"].indexOf(str) >= 0)\n                     return;\n                stringified(str);\n            });\n            ko.applyBindingsToNode(\n                element,\n                {\n                    value: stringified,\n                    valueUpdate: allBindings.get('valueUpdate'),\n                },\n                context,\n            );\n        }\n    };\n    var json_data = {\"formatted_vals\":[\"1\",\"2\",\"3\",\"4\",\"5\",\"6\",\"7\",\"8\",\"9\",\"10\",\"11\",\"12\",\"13\",\"14\",\"15\",\"16\",\"17\",\"18\",\"19\",\"20\",\"21\",\"22\",\"23\",\"24\",\"25\",\"26\",\"27\",\"28\",\"29\",\"30\",\"31\",\"32\",\"33\",\"34\",\"35\",\"36\",\"37\",\"38\",\"39\",\"40\",\"41\",\"42\",\"43\",\"44\",\"45\",\"46\",\"47\",\"48\",\"49\",\"50\",\"51\",\"52\",\"53\",\"54\",\"55\",\"56\",\"57\",\"58\",\"59\",\"60\",\"61\",\"62\",\"63\",\"64\",\"65\",\"66\",\"67\",\"68\",\"69\",\"70\",\"71\",\"72\",\"73\",\"74\",\"75\",\"76\",\"77\",\"78\",\"79\",\"80\",\"81\",\"82\",\"83\",\"84\",\"85\",\"86\",\"87\",\"88\",\"89\",\"90\",\"91\",\"92\",\"93\",\"94\",\"95\",\"96\",\"97\",\"98\",\"99\",\"100\",\"101\",\"102\",\"103\",\"104\",\"105\",\"106\",\"107\",\"108\",\"109\",\"110\",\"111\",\"112\",\"113\",\"114\",\"115\",\"116\",\"117\",\"118\",\"119\",\"120\",\"121\",\"122\",\"123\",\"124\",\"125\",\"126\",\"127\",\"128\",\"129\",\"130\",\"131\",\"132\",\"133\",\"134\",\"135\",\"136\",\"137\",\"138\",\"139\",\"140\",\"141\",\"142\",\"143\",\"144\",\"145\",\"146\",\"147\",\"148\",\"149\",\"150\",\"151\",\"152\",\"153\",\"154\",\"155\",\"156\",\"157\",\"158\",\"159\",\"160\",\"161\",\"162\",\"163\",\"164\",\"165\",\"166\",\"167\",\"168\",\"169\",\"170\",\"171\",\"172\",\"173\",\"174\",\"175\",\"176\",\"177\",\"178\",\"179\",\"180\",\"181\",\"182\",\"183\",\"184\",\"185\",\"186\",\"187\",\"188\",\"189\",\"190\",\"191\",\"192\",\"193\",\"194\",\"195\",\"196\",\"197\",\"198\",\"199\",\"200\",\"201\",\"202\",\"203\",\"204\",\"205\",\"206\",\"207\",\"208\",\"209\",\"210\",\"211\",\"212\",\"213\",\"214\",\"215\",\"216\",\"217\",\"218\",\"219\",\"220\",\"221\",\"222\",\"223\",\"224\",\"225\",\"226\",\"227\",\"228\",\"229\",\"230\",\"231\",\"232\",\"233\",\"234\",\"235\",\"236\",\"237\",\"238\",\"239\",\"240\",\"241\",\"242\",\"243\",\"244\",\"245\",\"246\",\"247\",\"248\",\"249\",\"250\",\"251\",\"252\",\"253\",\"254\",\"255\",\"256\",\"257\",\"258\",\"259\",\"260\",\"261\",\"262\",\"263\",\"264\",\"265\",\"266\"],\"changes\":WebIO.getval({\"name\":\"changes\",\"scope\":\"12911685124060793441\",\"id\":\"7068373314771585035\",\"type\":\"observable\"}),\"index\":WebIO.getval({\"name\":\"index\",\"scope\":\"12911685124060793441\",\"id\":\"4820115215971037659\",\"type\":\"observable\"})};\n    var self = this;\n    function AppViewModel() {\n        for (var key in json_data) {\n            var el = json_data[key];\n            this[key] = Array.isArray(el) ? ko.observableArray(el) : ko.observable(el);\n        }\n        \n        [this[\"formatted_val\"]=ko.computed(    function(){\n        return this.formatted_vals()[parseInt(this.index())-(1)];\n    }\n,this)]\n        [this[\"changes\"].subscribe((function (val){!(this.valueFromJulia[\"changes\"]) ? (WebIO.setval({\"name\":\"changes\",\"scope\":\"12911685124060793441\",\"id\":\"7068373314771585035\",\"type\":\"observable\"},val)) : undefined; return this.valueFromJulia[\"changes\"]=false}),self),this[\"index\"].subscribe((function (val){!(this.valueFromJulia[\"index\"]) ? (WebIO.setval({\"name\":\"index\",\"scope\":\"12911685124060793441\",\"id\":\"4820115215971037659\",\"type\":\"observable\"},val)) : undefined; return this.valueFromJulia[\"index\"]=false}),self)]\n        \n    }\n    self.model = new AppViewModel();\n    self.valueFromJulia = {};\n    for (var key in json_data) {\n        self.valueFromJulia[key] = false;\n    }\n    ko.applyBindings(self.model, self.dom);\n}\n);\n    (WebIO.importBlock({\"data\":[{\"name\":\"knockout\",\"type\":\"js\",\"url\":\"/assetserver/0f7dc91fc8596176c20edab2c146f643e18cfcdc-knockout.js\"},{\"name\":\"knockout_punches\",\"type\":\"js\",\"url\":\"/assetserver/8b17f7ded5914701597f16e37bf062d2d0b7e5d4-knockout_punches.js\"}],\"type\":\"async_block\"})).then((imports) => handler.apply(this, imports));\n}\n"
            ],
            "observables": {
             "changes": {
              "id": "7068373314771585035",
              "sync": false,
              "value": 0
             },
             "index": {
              "id": "4820115215971037659",
              "sync": true,
              "value": 133
             }
            },
            "systemjs_options": null
           },
           "nodeType": "Scope",
           "props": {},
           "type": "node"
          }
         ],
         "instanceArgs": {
          "namespace": "html",
          "tag": "div"
         },
         "nodeType": "DOM",
         "props": {
          "className": "field interact-widget"
         },
         "type": "node"
        },
        {
         "children": [
          {
           "children": [],
           "instanceArgs": {
            "id": "9254637268134701166",
            "name": "obs-node"
           },
           "nodeType": "ObservableNode",
           "props": {},
           "type": "node"
          }
         ],
         "instanceArgs": {
          "handlers": {},
          "id": "12855065355117838891",
          "imports": {
           "data": [],
           "type": "async_block"
          },
          "mount_callbacks": [],
          "observables": {
           "obs-node": {
            "id": "9254637268134701166",
            "sync": false,
            "value": {
             "children": [
              {
               "children": [],
               "instanceArgs": {
                "namespace": "html",
                "tag": "div"
               },
               "nodeType": "DOM",
               "props": {
                "setInnerHtml": "<p>DataFrameRow (10 columns)</p><table class=\"data-frame\"><thead><tr><th></th><th>province</th><th>country</th><th>Lat</th><th>Long</th><th>1/22/20</th><th>1/23/20</th><th>1/24/20</th><th>1/25/20</th><th>1/26/20</th><th>1/27/20</th></tr><tr><th></th><th>String?</th><th>String</th><th>Float64</th><th>Float64</th><th>Int64</th><th>Int64</th><th>Int64</th><th>Int64</th><th>Int64</th><th>Int64</th></tr></thead><tbody><tr><th>133</th><td><em>missing</em></td><td>Indonesia</td><td>-0.7893</td><td>113.921</td><td>0</td><td>0</td><td>0</td><td>0</td><td>0</td><td>0</td></tr></tbody></table>"
               },
               "type": "node"
              }
             ],
             "instanceArgs": {
              "namespace": "html",
              "tag": "div"
             },
             "nodeType": "DOM",
             "props": {
              "className": "interact-flex-row interact-widget"
             },
             "type": "node"
            }
           }
          },
          "systemjs_options": null
         },
         "nodeType": "Scope",
         "props": {},
         "type": "node"
        }
       ],
       "instanceArgs": {
        "namespace": "html",
        "tag": "div"
       },
       "nodeType": "DOM",
       "props": {},
       "type": "node"
      },
      "text/html": [
       "<div\n",
       "    class=\"webio-mountpoint\"\n",
       "    data-webio-mountpoint=\"8518490588573681443\"\n",
       ">\n",
       "    <script>\n",
       "    if (window.require && require.defined && require.defined(\"nbextensions/webio-jupyter-notebook\")) {\n",
       "        console.log(\"Jupyter WebIO extension detected, not mounting.\");\n",
       "    } else if (window.WebIO) {\n",
       "        WebIO.mount(\n",
       "            document.querySelector('[data-webio-mountpoint=\"8518490588573681443\"]'),\n",
       "            {\"props\":{},\"nodeType\":\"DOM\",\"type\":\"node\",\"instanceArgs\":{\"namespace\":\"html\",\"tag\":\"div\"},\"children\":[{\"props\":{\"className\":\"field interact-widget\"},\"nodeType\":\"DOM\",\"type\":\"node\",\"instanceArgs\":{\"namespace\":\"html\",\"tag\":\"div\"},\"children\":[{\"props\":{},\"nodeType\":\"Scope\",\"type\":\"node\",\"instanceArgs\":{\"imports\":{\"data\":[{\"name\":\"knockout\",\"type\":\"js\",\"url\":\"\\/assetserver\\/0f7dc91fc8596176c20edab2c146f643e18cfcdc-knockout.js\"},{\"name\":\"knockout_punches\",\"type\":\"js\",\"url\":\"\\/assetserver\\/8b17f7ded5914701597f16e37bf062d2d0b7e5d4-knockout_punches.js\"},{\"name\":null,\"type\":\"js\",\"url\":\"\\/assetserver\\/3eb5394c830347574f9413a8950b99793509cdb5-all.js\"},{\"name\":null,\"type\":\"css\",\"url\":\"\\/assetserver\\/c5073d62b91d019cd326a1073112f715fe0e3502-style.css\"},{\"name\":null,\"type\":\"css\",\"url\":\"\\/assetserver\\/44da6c918b69f064a105db1af391674e3a320ff8-bulma_confined.min.css\"}],\"type\":\"async_block\"},\"id\":\"12911685124060793441\",\"handlers\":{\"changes\":[\"(function (val){return (val!=this.model[\\\"changes\\\"]()) ? (this.valueFromJulia[\\\"changes\\\"]=true, this.model[\\\"changes\\\"](val)) : undefined})\"],\"index\":[\"(function (val){return (val!=this.model[\\\"index\\\"]()) ? (this.valueFromJulia[\\\"index\\\"]=true, this.model[\\\"index\\\"](val)) : undefined})\"]},\"systemjs_options\":null,\"mount_callbacks\":[\"function () {\\n    var handler = (function (ko, koPunches) {\\n    ko.punches.enableAll();\\n    ko.bindingHandlers.numericValue = {\\n        init: function(element, valueAccessor, allBindings, data, context) {\\n            var stringified = ko.observable(ko.unwrap(valueAccessor()));\\n            stringified.subscribe(function(value) {\\n                var val = parseFloat(value);\\n                if (!isNaN(val)) {\\n                    valueAccessor()(val);\\n                }\\n            });\\n            valueAccessor().subscribe(function(value) {\\n                var str = JSON.stringify(value);\\n                if ((str == \\\"0\\\") && ([\\\"-0\\\", \\\"-0.\\\"].indexOf(stringified()) >= 0))\\n                     return;\\n                 if ([\\\"null\\\", \\\"\\\"].indexOf(str) >= 0)\\n                     return;\\n                stringified(str);\\n            });\\n            ko.applyBindingsToNode(\\n                element,\\n                {\\n                    value: stringified,\\n                    valueUpdate: allBindings.get('valueUpdate'),\\n                },\\n                context,\\n            );\\n        }\\n    };\\n    var json_data = {\\\"formatted_vals\\\":[\\\"1\\\",\\\"2\\\",\\\"3\\\",\\\"4\\\",\\\"5\\\",\\\"6\\\",\\\"7\\\",\\\"8\\\",\\\"9\\\",\\\"10\\\",\\\"11\\\",\\\"12\\\",\\\"13\\\",\\\"14\\\",\\\"15\\\",\\\"16\\\",\\\"17\\\",\\\"18\\\",\\\"19\\\",\\\"20\\\",\\\"21\\\",\\\"22\\\",\\\"23\\\",\\\"24\\\",\\\"25\\\",\\\"26\\\",\\\"27\\\",\\\"28\\\",\\\"29\\\",\\\"30\\\",\\\"31\\\",\\\"32\\\",\\\"33\\\",\\\"34\\\",\\\"35\\\",\\\"36\\\",\\\"37\\\",\\\"38\\\",\\\"39\\\",\\\"40\\\",\\\"41\\\",\\\"42\\\",\\\"43\\\",\\\"44\\\",\\\"45\\\",\\\"46\\\",\\\"47\\\",\\\"48\\\",\\\"49\\\",\\\"50\\\",\\\"51\\\",\\\"52\\\",\\\"53\\\",\\\"54\\\",\\\"55\\\",\\\"56\\\",\\\"57\\\",\\\"58\\\",\\\"59\\\",\\\"60\\\",\\\"61\\\",\\\"62\\\",\\\"63\\\",\\\"64\\\",\\\"65\\\",\\\"66\\\",\\\"67\\\",\\\"68\\\",\\\"69\\\",\\\"70\\\",\\\"71\\\",\\\"72\\\",\\\"73\\\",\\\"74\\\",\\\"75\\\",\\\"76\\\",\\\"77\\\",\\\"78\\\",\\\"79\\\",\\\"80\\\",\\\"81\\\",\\\"82\\\",\\\"83\\\",\\\"84\\\",\\\"85\\\",\\\"86\\\",\\\"87\\\",\\\"88\\\",\\\"89\\\",\\\"90\\\",\\\"91\\\",\\\"92\\\",\\\"93\\\",\\\"94\\\",\\\"95\\\",\\\"96\\\",\\\"97\\\",\\\"98\\\",\\\"99\\\",\\\"100\\\",\\\"101\\\",\\\"102\\\",\\\"103\\\",\\\"104\\\",\\\"105\\\",\\\"106\\\",\\\"107\\\",\\\"108\\\",\\\"109\\\",\\\"110\\\",\\\"111\\\",\\\"112\\\",\\\"113\\\",\\\"114\\\",\\\"115\\\",\\\"116\\\",\\\"117\\\",\\\"118\\\",\\\"119\\\",\\\"120\\\",\\\"121\\\",\\\"122\\\",\\\"123\\\",\\\"124\\\",\\\"125\\\",\\\"126\\\",\\\"127\\\",\\\"128\\\",\\\"129\\\",\\\"130\\\",\\\"131\\\",\\\"132\\\",\\\"133\\\",\\\"134\\\",\\\"135\\\",\\\"136\\\",\\\"137\\\",\\\"138\\\",\\\"139\\\",\\\"140\\\",\\\"141\\\",\\\"142\\\",\\\"143\\\",\\\"144\\\",\\\"145\\\",\\\"146\\\",\\\"147\\\",\\\"148\\\",\\\"149\\\",\\\"150\\\",\\\"151\\\",\\\"152\\\",\\\"153\\\",\\\"154\\\",\\\"155\\\",\\\"156\\\",\\\"157\\\",\\\"158\\\",\\\"159\\\",\\\"160\\\",\\\"161\\\",\\\"162\\\",\\\"163\\\",\\\"164\\\",\\\"165\\\",\\\"166\\\",\\\"167\\\",\\\"168\\\",\\\"169\\\",\\\"170\\\",\\\"171\\\",\\\"172\\\",\\\"173\\\",\\\"174\\\",\\\"175\\\",\\\"176\\\",\\\"177\\\",\\\"178\\\",\\\"179\\\",\\\"180\\\",\\\"181\\\",\\\"182\\\",\\\"183\\\",\\\"184\\\",\\\"185\\\",\\\"186\\\",\\\"187\\\",\\\"188\\\",\\\"189\\\",\\\"190\\\",\\\"191\\\",\\\"192\\\",\\\"193\\\",\\\"194\\\",\\\"195\\\",\\\"196\\\",\\\"197\\\",\\\"198\\\",\\\"199\\\",\\\"200\\\",\\\"201\\\",\\\"202\\\",\\\"203\\\",\\\"204\\\",\\\"205\\\",\\\"206\\\",\\\"207\\\",\\\"208\\\",\\\"209\\\",\\\"210\\\",\\\"211\\\",\\\"212\\\",\\\"213\\\",\\\"214\\\",\\\"215\\\",\\\"216\\\",\\\"217\\\",\\\"218\\\",\\\"219\\\",\\\"220\\\",\\\"221\\\",\\\"222\\\",\\\"223\\\",\\\"224\\\",\\\"225\\\",\\\"226\\\",\\\"227\\\",\\\"228\\\",\\\"229\\\",\\\"230\\\",\\\"231\\\",\\\"232\\\",\\\"233\\\",\\\"234\\\",\\\"235\\\",\\\"236\\\",\\\"237\\\",\\\"238\\\",\\\"239\\\",\\\"240\\\",\\\"241\\\",\\\"242\\\",\\\"243\\\",\\\"244\\\",\\\"245\\\",\\\"246\\\",\\\"247\\\",\\\"248\\\",\\\"249\\\",\\\"250\\\",\\\"251\\\",\\\"252\\\",\\\"253\\\",\\\"254\\\",\\\"255\\\",\\\"256\\\",\\\"257\\\",\\\"258\\\",\\\"259\\\",\\\"260\\\",\\\"261\\\",\\\"262\\\",\\\"263\\\",\\\"264\\\",\\\"265\\\",\\\"266\\\"],\\\"changes\\\":WebIO.getval({\\\"name\\\":\\\"changes\\\",\\\"scope\\\":\\\"12911685124060793441\\\",\\\"id\\\":\\\"7068373314771585035\\\",\\\"type\\\":\\\"observable\\\"}),\\\"index\\\":WebIO.getval({\\\"name\\\":\\\"index\\\",\\\"scope\\\":\\\"12911685124060793441\\\",\\\"id\\\":\\\"4820115215971037659\\\",\\\"type\\\":\\\"observable\\\"})};\\n    var self = this;\\n    function AppViewModel() {\\n        for (var key in json_data) {\\n            var el = json_data[key];\\n            this[key] = Array.isArray(el) ? ko.observableArray(el) : ko.observable(el);\\n        }\\n        \\n        [this[\\\"formatted_val\\\"]=ko.computed(    function(){\\n        return this.formatted_vals()[parseInt(this.index())-(1)];\\n    }\\n,this)]\\n        [this[\\\"changes\\\"].subscribe((function (val){!(this.valueFromJulia[\\\"changes\\\"]) ? (WebIO.setval({\\\"name\\\":\\\"changes\\\",\\\"scope\\\":\\\"12911685124060793441\\\",\\\"id\\\":\\\"7068373314771585035\\\",\\\"type\\\":\\\"observable\\\"},val)) : undefined; return this.valueFromJulia[\\\"changes\\\"]=false}),self),this[\\\"index\\\"].subscribe((function (val){!(this.valueFromJulia[\\\"index\\\"]) ? (WebIO.setval({\\\"name\\\":\\\"index\\\",\\\"scope\\\":\\\"12911685124060793441\\\",\\\"id\\\":\\\"4820115215971037659\\\",\\\"type\\\":\\\"observable\\\"},val)) : undefined; return this.valueFromJulia[\\\"index\\\"]=false}),self)]\\n        \\n    }\\n    self.model = new AppViewModel();\\n    self.valueFromJulia = {};\\n    for (var key in json_data) {\\n        self.valueFromJulia[key] = false;\\n    }\\n    ko.applyBindings(self.model, self.dom);\\n}\\n);\\n    (WebIO.importBlock({\\\"data\\\":[{\\\"name\\\":\\\"knockout\\\",\\\"type\\\":\\\"js\\\",\\\"url\\\":\\\"\\/assetserver\\/0f7dc91fc8596176c20edab2c146f643e18cfcdc-knockout.js\\\"},{\\\"name\\\":\\\"knockout_punches\\\",\\\"type\\\":\\\"js\\\",\\\"url\\\":\\\"\\/assetserver\\/8b17f7ded5914701597f16e37bf062d2d0b7e5d4-knockout_punches.js\\\"}],\\\"type\\\":\\\"async_block\\\"})).then((imports) => handler.apply(this, imports));\\n}\\n\"],\"observables\":{\"changes\":{\"sync\":false,\"id\":\"7068373314771585035\",\"value\":0},\"index\":{\"sync\":true,\"id\":\"4820115215971037659\",\"value\":133}}},\"children\":[{\"props\":{\"className\":\"interact-flex-row interact-widget\"},\"nodeType\":\"DOM\",\"type\":\"node\",\"instanceArgs\":{\"namespace\":\"html\",\"tag\":\"div\"},\"children\":[{\"props\":{\"className\":\"interact-flex-row-left\"},\"nodeType\":\"DOM\",\"type\":\"node\",\"instanceArgs\":{\"namespace\":\"html\",\"tag\":\"div\"},\"children\":[{\"props\":{\"className\":\"interact \",\"style\":{\"padding\":\"5px 10px 0px 10px\"}},\"nodeType\":\"DOM\",\"type\":\"node\",\"instanceArgs\":{\"namespace\":\"html\",\"tag\":\"label\"},\"children\":[\"i\"]}]},{\"props\":{\"className\":\"interact-flex-row-center\"},\"nodeType\":\"DOM\",\"type\":\"node\",\"instanceArgs\":{\"namespace\":\"html\",\"tag\":\"div\"},\"children\":[{\"props\":{\"max\":266,\"min\":1,\"attributes\":{\"type\":\"range\",\"data-bind\":\"numericValue: index, valueUpdate: 'input', event: {change: function (){this.changes(this.changes()+1)}}\",\"orient\":\"horizontal\"},\"step\":1,\"className\":\"slider slider is-fullwidth\",\"style\":{}},\"nodeType\":\"DOM\",\"type\":\"node\",\"instanceArgs\":{\"namespace\":\"html\",\"tag\":\"input\"},\"children\":[]}]},{\"props\":{\"className\":\"interact-flex-row-right\"},\"nodeType\":\"DOM\",\"type\":\"node\",\"instanceArgs\":{\"namespace\":\"html\",\"tag\":\"div\"},\"children\":[{\"props\":{\"attributes\":{\"data-bind\":\"text: formatted_val\"}},\"nodeType\":\"DOM\",\"type\":\"node\",\"instanceArgs\":{\"namespace\":\"html\",\"tag\":\"p\"},\"children\":[]}]}]}]}]},{\"props\":{},\"nodeType\":\"Scope\",\"type\":\"node\",\"instanceArgs\":{\"imports\":{\"data\":[],\"type\":\"async_block\"},\"id\":\"8649411460691045409\",\"handlers\":{},\"systemjs_options\":null,\"mount_callbacks\":[],\"observables\":{\"obs-node\":{\"sync\":false,\"id\":\"840060336177577157\",\"value\":{\"props\":{\"className\":\"interact-flex-row interact-widget\"},\"nodeType\":\"DOM\",\"type\":\"node\",\"instanceArgs\":{\"namespace\":\"html\",\"tag\":\"div\"},\"children\":[{\"props\":{\"setInnerHtml\":\"<p>DataFrameRow (10 columns)<\\/p><table class=\\\"data-frame\\\"><thead><tr><th><\\/th><th>province<\\/th><th>country<\\/th><th>Lat<\\/th><th>Long<\\/th><th>1\\/22\\/20<\\/th><th>1\\/23\\/20<\\/th><th>1\\/24\\/20<\\/th><th>1\\/25\\/20<\\/th><th>1\\/26\\/20<\\/th><th>1\\/27\\/20<\\/th><\\/tr><tr><th><\\/th><th>String?<\\/th><th>String<\\/th><th>Float64<\\/th><th>Float64<\\/th><th>Int64<\\/th><th>Int64<\\/th><th>Int64<\\/th><th>Int64<\\/th><th>Int64<\\/th><th>Int64<\\/th><\\/tr><\\/thead><tbody><tr><th>133<\\/th><td><em>missing<\\/em><\\/td><td>Indonesia<\\/td><td>-0.7893<\\/td><td>113.921<\\/td><td>0<\\/td><td>0<\\/td><td>0<\\/td><td>0<\\/td><td>0<\\/td><td>0<\\/td><\\/tr><\\/tbody><\\/table>\"},\"nodeType\":\"DOM\",\"type\":\"node\",\"instanceArgs\":{\"namespace\":\"html\",\"tag\":\"div\"},\"children\":[]}]}}}},\"children\":[{\"props\":{},\"nodeType\":\"ObservableNode\",\"type\":\"node\",\"instanceArgs\":{\"id\":\"840060336177577157\",\"name\":\"obs-node\"},\"children\":[]}]}]},\n",
       "            window,\n",
       "        );\n",
       "    } else {\n",
       "        document\n",
       "            .querySelector('[data-webio-mountpoint=\"8518490588573681443\"]')\n",
       "            .innerHTML = (\n",
       "                '<div style=\"padding: 1em; background-color: #f8d6da; border: 1px solid #f5c6cb\">' +\n",
       "                '<p><strong>WebIO not detected.</strong></p>' +\n",
       "                '<p>Please read ' +\n",
       "                '<a href=\"https://juliagizmos.github.io/WebIO.jl/latest/troubleshooting/not-detected/\" target=\"_blank\">the troubleshooting guide</a> ' +\n",
       "                'for more information on how to resolve this issue.</p>' +\n",
       "                '<p><a href=\"https://juliagizmos.github.io/WebIO.jl/latest/troubleshooting/not-detected/\" target=\"_blank\">https://juliagizmos.github.io/WebIO.jl/latest/troubleshooting/not-detected/</a></p>' +\n",
       "                '</div>'\n",
       "            );\n",
       "    }\n",
       "    </script>\n",
       "</div>\n"
      ],
      "text/plain": [
       "Node{WebIO.DOM}(WebIO.DOM(:html, :div), Any[Node{WebIO.DOM}(WebIO.DOM(:html, :div), Any[Scope(Node{WebIO.DOM}(WebIO.DOM(:html, :div), Any[Node{WebIO.DOM}(WebIO.DOM(:html, :div), Any[Node{WebIO.DOM}(WebIO.DOM(:html, :label), Any[\"i\"], Dict{Symbol,Any}(:className => \"interact \",:style => Dict{Any,Any}(:padding => \"5px 10px 0px 10px\")))], Dict{Symbol,Any}(:className => \"interact-flex-row-left\")), Node{WebIO.DOM}(WebIO.DOM(:html, :div), Any[Node{WebIO.DOM}(WebIO.DOM(:html, :input), Any[], Dict{Symbol,Any}(:max => 266,:min => 1,:attributes => Dict{Any,Any}(:type => \"range\",Symbol(\"data-bind\") => \"numericValue: index, valueUpdate: 'input', event: {change: function (){this.changes(this.changes()+1)}}\",\"orient\" => \"horizontal\"),:step => 1,:className => \"slider slider is-fullwidth\",:style => Dict{Any,Any}()))], Dict{Symbol,Any}(:className => \"interact-flex-row-center\")), Node{WebIO.DOM}(WebIO.DOM(:html, :div), Any[Node{WebIO.DOM}(WebIO.DOM(:html, :p), Any[], Dict{Symbol,Any}(:attributes => Dict(\"data-bind\" => \"text: formatted_val\")))], Dict{Symbol,Any}(:className => \"interact-flex-row-right\"))], Dict{Symbol,Any}(:className => \"interact-flex-row interact-widget\")), Dict{String,Tuple{Observables.AbstractObservable,Union{Nothing, Bool}}}(\"changes\" => (Observable{Int64} with 1 listeners. Value:\n",
       "0, nothing),\"index\" => (Observable{Int64} with 2 listeners. Value:\n",
       "133, nothing)), Set(String[]), nothing, Asset[Asset(\"js\", \"knockout\", \"/Users/pinas/.julia/packages/Knockout/IP1uR/src/../assets/knockout.js\"), Asset(\"js\", \"knockout_punches\", \"/Users/pinas/.julia/packages/Knockout/IP1uR/src/../assets/knockout_punches.js\"), Asset(\"js\", nothing, \"/Users/pinas/.julia/packages/InteractBase/sOe2Z/src/../assets/all.js\"), Asset(\"css\", nothing, \"/Users/pinas/.julia/packages/InteractBase/sOe2Z/src/../assets/style.css\"), Asset(\"css\", nothing, \"/Users/pinas/.julia/packages/Interact/SbgIk/src/../assets/bulma_confined.min.css\")], Dict{Any,Any}(\"changes\" => Any[WebIO.JSString(\"(function (val){return (val!=this.model[\\\"changes\\\"]()) ? (this.valueFromJulia[\\\"changes\\\"]=true, this.model[\\\"changes\\\"](val)) : undefined})\")],\"index\" => Any[WebIO.JSString(\"(function (val){return (val!=this.model[\\\"index\\\"]()) ? (this.valueFromJulia[\\\"index\\\"]=true, this.model[\\\"index\\\"](val)) : undefined})\")]), WebIO.ConnectionPool(Channel{Any}(sz_max:32,sz_curr:0), Set(AbstractConnection[]), Base.GenericCondition{Base.AlwaysLockedST}(Base.InvasiveLinkedList{Task}(Task (runnable) @0x0000000110d561d0, Task (runnable) @0x0000000110d561d0), Base.AlwaysLockedST(1))), WebIO.JSString[WebIO.JSString(\"function () {\\n    var handler = (function (ko, koPunches) {\\n    ko.punches.enableAll();\\n    ko.bindingHandlers.numericValue = {\\n        init: function(element, valueAccessor, allBindings, data, context) {\\n            var stringified = ko.observable(ko.unwrap(valueAccessor()));\\n            stringified.subscribe(function(value) {\\n                var val = parseFloat(value);\\n                if (!isNaN(val)) {\\n                    valueAccessor()(val);\\n                }\\n            });\\n            valueAccessor().subscribe(function(value) {\\n                var str = JSON.stringify(value);\\n                if ((str == \\\"0\\\") && ([\\\"-0\\\", \\\"-0.\\\"].indexOf(stringified()) >= 0))\\n                     return;\\n                 if ([\\\"null\\\", \\\"\\\"].indexOf(str) >= 0)\\n                     return;\\n                stringified(str);\\n            });\\n            ko.applyBindingsToNode(\\n                element,\\n                {\\n                    value: stringified,\\n                    valueUpdate: allBindings.get('valueUpdate'),\\n                },\\n                context,\\n            );\\n        }\\n    };\\n    var json_data = {\\\"formatted_vals\\\":[\\\"1\\\",\\\"2\\\",\\\"3\\\",\\\"4\\\",\\\"5\\\",\\\"6\\\",\\\"7\\\",\\\"8\\\",\\\"9\\\",\\\"10\\\",\\\"11\\\",\\\"12\\\",\\\"13\\\",\\\"14\\\",\\\"15\\\",\\\"16\\\",\\\"17\\\",\\\"18\\\",\\\"19\\\",\\\"20\\\",\\\"21\\\",\\\"22\\\",\\\"23\\\",\\\"24\\\",\\\"25\\\",\\\"26\\\",\\\"27\\\",\\\"28\\\",\\\"29\\\",\\\"30\\\",\\\"31\\\",\\\"32\\\",\\\"33\\\",\\\"34\\\",\\\"35\\\",\\\"36\\\",\\\"37\\\",\\\"38\\\",\\\"39\\\",\\\"40\\\",\\\"41\\\",\\\"42\\\",\\\"43\\\",\\\"44\\\",\\\"45\\\",\\\"46\\\",\\\"47\\\",\\\"48\\\",\\\"49\\\",\\\"50\\\",\\\"51\\\",\\\"52\\\",\\\"53\\\",\\\"54\\\",\\\"55\\\",\\\"56\\\",\\\"57\\\",\\\"58\\\",\\\"59\\\",\\\"60\\\",\\\"61\\\",\\\"62\\\",\\\"63\\\",\\\"64\\\",\\\"65\\\",\\\"66\\\",\\\"67\\\",\\\"68\\\",\\\"69\\\",\\\"70\\\",\\\"71\\\",\\\"72\\\",\\\"73\\\",\\\"74\\\",\\\"75\\\",\\\"76\\\",\\\"77\\\",\\\"78\\\",\\\"79\\\",\\\"80\\\",\\\"81\\\",\\\"82\\\",\\\"83\\\",\\\"84\\\",\\\"85\\\",\\\"86\\\",\\\"87\\\",\\\"88\\\",\\\"89\\\",\\\"90\\\",\\\"91\\\",\\\"92\\\",\\\"93\\\",\\\"94\\\",\\\"95\\\",\\\"96\\\",\\\"97\\\",\\\"98\\\",\\\"99\\\",\\\"100\\\",\\\"101\\\",\\\"102\\\",\\\"103\\\",\\\"104\\\",\\\"105\\\",\\\"106\\\",\\\"107\\\",\\\"108\\\",\\\"109\\\",\\\"110\\\",\\\"111\\\",\\\"112\\\",\\\"113\\\",\\\"114\\\",\\\"115\\\",\\\"116\\\",\\\"117\\\",\\\"118\\\",\\\"119\\\",\\\"120\\\",\\\"121\\\",\\\"122\\\",\\\"123\\\",\\\"124\\\",\\\"125\\\",\\\"126\\\",\\\"127\\\",\\\"128\\\",\\\"129\\\",\\\"130\\\",\\\"131\\\",\\\"132\\\",\\\"133\\\",\\\"134\\\",\\\"135\\\",\\\"136\\\",\\\"137\\\",\\\"138\\\",\\\"139\\\",\\\"140\\\",\\\"141\\\",\\\"142\\\",\\\"143\\\",\\\"144\\\",\\\"145\\\",\\\"146\\\",\\\"147\\\",\\\"148\\\",\\\"149\\\",\\\"150\\\",\\\"151\\\",\\\"152\\\",\\\"153\\\",\\\"154\\\",\\\"155\\\",\\\"156\\\",\\\"157\\\",\\\"158\\\",\\\"159\\\",\\\"160\\\",\\\"161\\\",\\\"162\\\",\\\"163\\\",\\\"164\\\",\\\"165\\\",\\\"166\\\",\\\"167\\\",\\\"168\\\",\\\"169\\\",\\\"170\\\",\\\"171\\\",\\\"172\\\",\\\"173\\\",\\\"174\\\",\\\"175\\\",\\\"176\\\",\\\"177\\\",\\\"178\\\",\\\"179\\\",\\\"180\\\",\\\"181\\\",\\\"182\\\",\\\"183\\\",\\\"184\\\",\\\"185\\\",\\\"186\\\",\\\"187\\\",\\\"188\\\",\\\"189\\\",\\\"190\\\",\\\"191\\\",\\\"192\\\",\\\"193\\\",\\\"194\\\",\\\"195\\\",\\\"196\\\",\\\"197\\\",\\\"198\\\",\\\"199\\\",\\\"200\\\",\\\"201\\\",\\\"202\\\",\\\"203\\\",\\\"204\\\",\\\"205\\\",\\\"206\\\",\\\"207\\\",\\\"208\\\",\\\"209\\\",\\\"210\\\",\\\"211\\\",\\\"212\\\",\\\"213\\\",\\\"214\\\",\\\"215\\\",\\\"216\\\",\\\"217\\\",\\\"218\\\",\\\"219\\\",\\\"220\\\",\\\"221\\\",\\\"222\\\",\\\"223\\\",\\\"224\\\",\\\"225\\\",\\\"226\\\",\\\"227\\\",\\\"228\\\",\\\"229\\\",\\\"230\\\",\\\"231\\\",\\\"232\\\",\\\"233\\\",\\\"234\\\",\\\"235\\\",\\\"236\\\",\\\"237\\\",\\\"238\\\",\\\"239\\\",\\\"240\\\",\\\"241\\\",\\\"242\\\",\\\"243\\\",\\\"244\\\",\\\"245\\\",\\\"246\\\",\\\"247\\\",\\\"248\\\",\\\"249\\\",\\\"250\\\",\\\"251\\\",\\\"252\\\",\\\"253\\\",\\\"254\\\",\\\"255\\\",\\\"256\\\",\\\"257\\\",\\\"258\\\",\\\"259\\\",\\\"260\\\",\\\"261\\\",\\\"262\\\",\\\"263\\\",\\\"264\\\",\\\"265\\\",\\\"266\\\"],\\\"changes\\\":WebIO.getval({\\\"name\\\":\\\"changes\\\",\\\"scope\\\":\\\"12911685124060793441\\\",\\\"id\\\":\\\"7068373314771585035\\\",\\\"type\\\":\\\"observable\\\"}),\\\"index\\\":WebIO.getval({\\\"name\\\":\\\"index\\\",\\\"scope\\\":\\\"12911685124060793441\\\",\\\"id\\\":\\\"4820115215971037659\\\",\\\"type\\\":\\\"observable\\\"})};\\n    var self = this;\\n    function AppViewModel() {\\n        for (var key in json_data) {\\n            var el = json_data[key];\\n            this[key] = Array.isArray(el) ? ko.observableArray(el) : ko.observable(el);\\n        }\\n        \\n        [this[\\\"formatted_val\\\"]=ko.computed(    function(){\\n        return this.formatted_vals()[parseInt(this.index())-(1)];\\n    }\\n,this)]\\n        [this[\\\"changes\\\"].subscribe((function (val){!(this.valueFromJulia[\\\"changes\\\"]) ? (WebIO.setval({\\\"name\\\":\\\"changes\\\",\\\"scope\\\":\\\"12911685124060793441\\\",\\\"id\\\":\\\"7068373314771585035\\\",\\\"type\\\":\\\"observable\\\"},val)) : undefined; return this.valueFromJulia[\\\"changes\\\"]=false}),self),this[\\\"index\\\"].subscribe((function (val){!(this.valueFromJulia[\\\"index\\\"]) ? (WebIO.setval({\\\"name\\\":\\\"index\\\",\\\"scope\\\":\\\"12911685124060793441\\\",\\\"id\\\":\\\"4820115215971037659\\\",\\\"type\\\":\\\"observable\\\"},val)) : undefined; return this.valueFromJulia[\\\"index\\\"]=false}),self)]\\n        \\n    }\\n    self.model = new AppViewModel();\\n    self.valueFromJulia = {};\\n    for (var key in json_data) {\\n        self.valueFromJulia[key] = false;\\n    }\\n    ko.applyBindings(self.model, self.dom);\\n}\\n);\\n    (WebIO.importBlock({\\\"data\\\":[{\\\"name\\\":\\\"knockout\\\",\\\"type\\\":\\\"js\\\",\\\"url\\\":\\\"/assetserver/0f7dc91fc8596176c20edab2c146f643e18cfcdc-knockout.js\\\"},{\\\"name\\\":\\\"knockout_punches\\\",\\\"type\\\":\\\"js\\\",\\\"url\\\":\\\"/assetserver/8b17f7ded5914701597f16e37bf062d2d0b7e5d4-knockout_punches.js\\\"}],\\\"type\\\":\\\"async_block\\\"})).then((imports) => handler.apply(this, imports));\\n}\\n\")])], Dict{Symbol,Any}(:className => \"field interact-widget\")), Observable{Any} with 0 listeners. Value:\n",
       "Node{WebIO.DOM}(WebIO.DOM(:html, :div), Any[DataFrameRow. Omitted printing of 3 columns\n",
       "│ Row │ province │ country   │ Lat     │ Long    │ 1/22/20 │ 1/23/20 │ 1/24/20 │\n",
       "│     │ \u001b[90mString?\u001b[39m  │ \u001b[90mString\u001b[39m    │ \u001b[90mFloat64\u001b[39m │ \u001b[90mFloat64\u001b[39m │ \u001b[90mInt64\u001b[39m   │ \u001b[90mInt64\u001b[39m   │ \u001b[90mInt64\u001b[39m   │\n",
       "├─────┼──────────┼───────────┼─────────┼─────────┼─────────┼─────────┼─────────┤\n",
       "│ 133 │ \u001b[90mmissing\u001b[39m  │ Indonesia │ -0.7893 │ 113.921 │ 0       │ 0       │ 0       │], Dict{Symbol,Any}(:className => \"interact-flex-row interact-widget\"))], Dict{Symbol,Any}())"
      ]
     },
     "execution_count": 16,
     "metadata": {
      "application/vnd.webio.node+json": {
       "kernelId": "ef4624e9-3b3e-4b0a-98d2-430ad96dc488"
      }
     },
     "output_type": "execute_result"
    }
   ],
   "source": [
    "@manipulate for i in 1:length(countries)\n",
    "    datacopy[i, 1:10] # column 1 through 10\n",
    "end"
   ]
  },
  {
   "cell_type": "code",
   "execution_count": 17,
   "metadata": {},
   "outputs": [
    {
     "data": {
      "text/plain": [
       "true"
      ]
     },
     "execution_count": 17,
     "metadata": {},
     "output_type": "execute_result"
    }
   ],
   "source": [
    "startswith(\"South\", \"S\")"
   ]
  },
  {
   "cell_type": "markdown",
   "metadata": {},
   "source": [
    "Array comprehension"
   ]
  },
  {
   "cell_type": "code",
   "execution_count": 18,
   "metadata": {},
   "outputs": [
    {
     "data": {
      "text/plain": [
       "266-element Array{Bool,1}:\n",
       " 0\n",
       " 0\n",
       " 0\n",
       " 0\n",
       " 0\n",
       " 0\n",
       " 0\n",
       " 0\n",
       " 0\n",
       " 0\n",
       " 0\n",
       " 0\n",
       " 0\n",
       " ⋮\n",
       " 0\n",
       " 0\n",
       " 0\n",
       " 0\n",
       " 0\n",
       " 1\n",
       " 0\n",
       " 0\n",
       " 0\n",
       " 0\n",
       " 0\n",
       " 0"
      ]
     },
     "execution_count": 18,
     "metadata": {},
     "output_type": "execute_result"
    }
   ],
   "source": [
    "scountries = [startswith(country, \"South\") for country in countries]"
   ]
  },
  {
   "cell_type": "code",
   "execution_count": 19,
   "metadata": {},
   "outputs": [
    {
     "data": {
      "text/html": [
       "<table class=\"data-frame\"><thead><tr><th></th><th>province</th><th>country</th><th>Lat</th><th>Long</th><th>1/22/20</th><th>1/23/20</th><th>1/24/20</th><th>1/25/20</th><th>1/26/20</th></tr><tr><th></th><th>String?</th><th>String</th><th>Float64</th><th>Float64</th><th>Int64</th><th>Int64</th><th>Int64</th><th>Int64</th><th>Int64</th></tr></thead><tbody><p>2 rows × 194 columns (omitted printing of 185 columns)</p><tr><th>1</th><td><em>missing</em></td><td>South Africa</td><td>-30.5595</td><td>22.9375</td><td>0</td><td>0</td><td>0</td><td>0</td><td>0</td></tr><tr><th>2</th><td><em>missing</em></td><td>South Sudan</td><td>6.877</td><td>31.307</td><td>0</td><td>0</td><td>0</td><td>0</td><td>0</td></tr></tbody></table>"
      ],
      "text/latex": [
       "\\begin{tabular}{r|cccccccccc}\n",
       "\t& province & country & Lat & Long & 1/22/20 & 1/23/20 & 1/24/20 & 1/25/20 & 1/26/20 & \\\\\n",
       "\t\\hline\n",
       "\t& String? & String & Float64 & Float64 & Int64 & Int64 & Int64 & Int64 & Int64 & \\\\\n",
       "\t\\hline\n",
       "\t1 & \\emph{missing} & South Africa & -30.5595 & 22.9375 & 0 & 0 & 0 & 0 & 0 & $\\dots$ \\\\\n",
       "\t2 & \\emph{missing} & South Sudan & 6.877 & 31.307 & 0 & 0 & 0 & 0 & 0 & $\\dots$ \\\\\n",
       "\\end{tabular}\n"
      ],
      "text/plain": [
       "2×194 DataFrame. Omitted printing of 188 columns\n",
       "│ Row │ province │ country      │ Lat      │ Long    │ 1/22/20 │ 1/23/20 │\n",
       "│     │ \u001b[90mString?\u001b[39m  │ \u001b[90mString\u001b[39m       │ \u001b[90mFloat64\u001b[39m  │ \u001b[90mFloat64\u001b[39m │ \u001b[90mInt64\u001b[39m   │ \u001b[90mInt64\u001b[39m   │\n",
       "├─────┼──────────┼──────────────┼──────────┼─────────┼─────────┼─────────┤\n",
       "│ 1   │ \u001b[90mmissing\u001b[39m  │ South Africa │ -30.5595 │ 22.9375 │ 0       │ 0       │\n",
       "│ 2   │ \u001b[90mmissing\u001b[39m  │ South Sudan  │ 6.877    │ 31.307  │ 0       │ 0       │"
      ]
     },
     "execution_count": 19,
     "metadata": {},
     "output_type": "execute_result"
    }
   ],
   "source": [
    "datacopy[scountries, :]"
   ]
  },
  {
   "cell_type": "code",
   "execution_count": 20,
   "metadata": {},
   "outputs": [
    {
     "data": {
      "text/plain": [
       "266-element BitArray{1}:\n",
       " 0\n",
       " 0\n",
       " 0\n",
       " 0\n",
       " 0\n",
       " 0\n",
       " 0\n",
       " 0\n",
       " 0\n",
       " 0\n",
       " 0\n",
       " 0\n",
       " 0\n",
       " ⋮\n",
       " 0\n",
       " 0\n",
       " 0\n",
       " 0\n",
       " 0\n",
       " 0\n",
       " 0\n",
       " 0\n",
       " 0\n",
       " 0\n",
       " 0\n",
       " 0"
      ]
     },
     "execution_count": 20,
     "metadata": {},
     "output_type": "execute_result"
    }
   ],
   "source": [
    "countries .== \"South Africa\" \n",
    "# period before == is \"broadcasting\": apply operation to each element of a vector"
   ]
  },
  {
   "cell_type": "code",
   "execution_count": 21,
   "metadata": {},
   "outputs": [
    {
     "data": {
      "text/plain": [
       "266-element Array{Bool,1}:\n",
       " 0\n",
       " 0\n",
       " 0\n",
       " 0\n",
       " 0\n",
       " 0\n",
       " 0\n",
       " 0\n",
       " 0\n",
       " 0\n",
       " 0\n",
       " 0\n",
       " 0\n",
       " ⋮\n",
       " 0\n",
       " 0\n",
       " 0\n",
       " 0\n",
       " 0\n",
       " 0\n",
       " 0\n",
       " 0\n",
       " 0\n",
       " 0\n",
       " 0\n",
       " 0"
      ]
     },
     "execution_count": 21,
     "metadata": {},
     "output_type": "execute_result"
    }
   ],
   "source": [
    "sa = [startswith(country, \"South Africa\") for country in countries]"
   ]
  },
  {
   "cell_type": "code",
   "execution_count": 22,
   "metadata": {},
   "outputs": [
    {
     "data": {
      "text/plain": [
       "2-element Array{Any,1}:\n",
       " Bool[0, 0, 0, 0, 0, 0, 0, 0, 0, 0  …  0, 0, 0, 0, 0, 0, 0, 0, 0, 0]\n",
       " Colon()"
      ]
     },
     "execution_count": 22,
     "metadata": {},
     "output_type": "execute_result"
    }
   ],
   "source": [
    "datarow =[sa, :]"
   ]
  },
  {
   "cell_type": "code",
   "execution_count": 23,
   "metadata": {},
   "outputs": [
    {
     "data": {
      "text/plain": [
       "201"
      ]
     },
     "execution_count": 23,
     "metadata": {},
     "output_type": "execute_result"
    }
   ],
   "source": [
    "soutafricarow = findfirst(countries .== \"South Africa\")"
   ]
  },
  {
   "cell_type": "code",
   "execution_count": 24,
   "metadata": {},
   "outputs": [
    {
     "data": {
      "text/html": [
       "<p>DataFrameRow (194 columns)</p><table class=\"data-frame\"><thead><tr><th></th><th>province</th><th>country</th><th>Lat</th><th>Long</th><th>1/22/20</th><th>1/23/20</th><th>1/24/20</th><th>1/25/20</th><th>1/26/20</th></tr><tr><th></th><th>String?</th><th>String</th><th>Float64</th><th>Float64</th><th>Int64</th><th>Int64</th><th>Int64</th><th>Int64</th><th>Int64</th></tr></thead><tbody><tr><th>201</th><td><em>missing</em></td><td>South Africa</td><td>-30.5595</td><td>22.9375</td><td>0</td><td>0</td><td>0</td><td>0</td><td>0</td></tr></tbody></table>"
      ],
      "text/latex": [
       "\\begin{tabular}{r|cccccccccc}\n",
       "\t& province & country & Lat & Long & 1/22/20 & 1/23/20 & 1/24/20 & 1/25/20 & 1/26/20 & \\\\\n",
       "\t\\hline\n",
       "\t& String? & String & Float64 & Float64 & Int64 & Int64 & Int64 & Int64 & Int64 & \\\\\n",
       "\t\\hline\n",
       "\t201 & \\emph{missing} & South Africa & -30.5595 & 22.9375 & 0 & 0 & 0 & 0 & 0 & $\\dots$ \\\\\n",
       "\\end{tabular}\n"
      ],
      "text/plain": [
       "DataFrameRow. Omitted printing of 188 columns\n",
       "│ Row │ province │ country      │ Lat      │ Long    │ 1/22/20 │ 1/23/20 │\n",
       "│     │ \u001b[90mString?\u001b[39m  │ \u001b[90mString\u001b[39m       │ \u001b[90mFloat64\u001b[39m  │ \u001b[90mFloat64\u001b[39m │ \u001b[90mInt64\u001b[39m   │ \u001b[90mInt64\u001b[39m   │\n",
       "├─────┼──────────┼──────────────┼──────────┼─────────┼─────────┼─────────┤\n",
       "│ 201 │ \u001b[90mmissing\u001b[39m  │ South Africa │ -30.5595 │ 22.9375 │ 0       │ 0       │"
      ]
     },
     "execution_count": 24,
     "metadata": {},
     "output_type": "execute_result"
    }
   ],
   "source": [
    "sadatarow = datacopy[soutafricarow, :]"
   ]
  },
  {
   "cell_type": "code",
   "execution_count": 25,
   "metadata": {},
   "outputs": [
    {
     "data": {
      "text/plain": [
       "147-element Array{Int64,1}:\n",
       "      1\n",
       "      1\n",
       "      1\n",
       "      3\n",
       "      3\n",
       "      7\n",
       "     13\n",
       "     17\n",
       "     24\n",
       "     38\n",
       "     51\n",
       "     62\n",
       "     62\n",
       "      ⋮\n",
       " 350879\n",
       " 364328\n",
       " 373628\n",
       " 381798\n",
       " 394948\n",
       " 408052\n",
       " 421996\n",
       " 434200\n",
       " 445433\n",
       " 452529\n",
       " 459761\n",
       " 471123"
      ]
     },
     "execution_count": 25,
     "metadata": {},
     "output_type": "execute_result"
    }
   ],
   "source": [
    "sadata = convert(Vector, sadatarow[48:end])"
   ]
  },
  {
   "cell_type": "code",
   "execution_count": 26,
   "metadata": {},
   "outputs": [],
   "source": [
    "using Plots"
   ]
  },
  {
   "cell_type": "code",
   "execution_count": 27,
   "metadata": {},
   "outputs": [
    {
     "data": {
      "text/plain": [
       "194-element Array{String,1}:\n",
       " \"province\"\n",
       " \"country\"\n",
       " \"Lat\"\n",
       " \"Long\"\n",
       " \"1/22/20\"\n",
       " \"1/23/20\"\n",
       " \"1/24/20\"\n",
       " \"1/25/20\"\n",
       " \"1/26/20\"\n",
       " \"1/27/20\"\n",
       " \"1/28/20\"\n",
       " \"1/29/20\"\n",
       " \"1/30/20\"\n",
       " ⋮\n",
       " \"7/18/20\"\n",
       " \"7/19/20\"\n",
       " \"7/20/20\"\n",
       " \"7/21/20\"\n",
       " \"7/22/20\"\n",
       " \"7/23/20\"\n",
       " \"7/24/20\"\n",
       " \"7/25/20\"\n",
       " \"7/26/20\"\n",
       " \"7/27/20\"\n",
       " \"7/28/20\"\n",
       " \"7/29/20\""
      ]
     },
     "execution_count": 27,
     "metadata": {},
     "output_type": "execute_result"
    }
   ],
   "source": [
    "coldate = names(datacopy)"
   ]
  },
  {
   "cell_type": "code",
   "execution_count": 28,
   "metadata": {},
   "outputs": [
    {
     "data": {
      "image/svg+xml": [
       "<?xml version=\"1.0\" encoding=\"utf-8\"?>\n",
       "<svg xmlns=\"http://www.w3.org/2000/svg\" xmlns:xlink=\"http://www.w3.org/1999/xlink\" width=\"600\" height=\"400\" viewBox=\"0 0 2400 1600\">\n",
       "<defs>\n",
       "  <clipPath id=\"clip660\">\n",
       "    <rect x=\"0\" y=\"0\" width=\"2400\" height=\"1600\"/>\n",
       "  </clipPath>\n",
       "</defs>\n",
       "<path clip-path=\"url(#clip660)\" d=\"\n",
       "M0 1600 L2400 1600 L2400 0 L0 0  Z\n",
       "  \" fill=\"#ffffff\" fill-rule=\"evenodd\" fill-opacity=\"1\"/>\n",
       "<defs>\n",
       "  <clipPath id=\"clip661\">\n",
       "    <rect x=\"480\" y=\"0\" width=\"1681\" height=\"1600\"/>\n",
       "  </clipPath>\n",
       "</defs>\n",
       "<path clip-path=\"url(#clip660)\" d=\"\n",
       "M214.954 1486.45 L2352.76 1486.45 L2352.76 47.2441 L214.954 47.2441  Z\n",
       "  \" fill=\"#ffffff\" fill-rule=\"evenodd\" fill-opacity=\"1\"/>\n",
       "<defs>\n",
       "  <clipPath id=\"clip662\">\n",
       "    <rect x=\"214\" y=\"47\" width=\"2139\" height=\"1440\"/>\n",
       "  </clipPath>\n",
       "</defs>\n",
       "<polyline clip-path=\"url(#clip662)\" style=\"stroke:#000000; stroke-width:2; stroke-opacity:0.1; fill:none\" points=\"\n",
       "  261.645,1486.45 261.645,47.2441 \n",
       "  \"/>\n",
       "<polyline clip-path=\"url(#clip662)\" style=\"stroke:#000000; stroke-width:2; stroke-opacity:0.1; fill:none\" points=\"\n",
       "  952.327,1486.45 952.327,47.2441 \n",
       "  \"/>\n",
       "<polyline clip-path=\"url(#clip662)\" style=\"stroke:#000000; stroke-width:2; stroke-opacity:0.1; fill:none\" points=\"\n",
       "  1643.01,1486.45 1643.01,47.2441 \n",
       "  \"/>\n",
       "<polyline clip-path=\"url(#clip662)\" style=\"stroke:#000000; stroke-width:2; stroke-opacity:0.1; fill:none\" points=\"\n",
       "  2333.69,1486.45 2333.69,47.2441 \n",
       "  \"/>\n",
       "<polyline clip-path=\"url(#clip662)\" style=\"stroke:#000000; stroke-width:2; stroke-opacity:0.1; fill:none\" points=\"\n",
       "  214.954,1445.72 2352.76,1445.72 \n",
       "  \"/>\n",
       "<polyline clip-path=\"url(#clip662)\" style=\"stroke:#000000; stroke-width:2; stroke-opacity:0.1; fill:none\" points=\"\n",
       "  214.954,1157.53 2352.76,1157.53 \n",
       "  \"/>\n",
       "<polyline clip-path=\"url(#clip662)\" style=\"stroke:#000000; stroke-width:2; stroke-opacity:0.1; fill:none\" points=\"\n",
       "  214.954,869.333 2352.76,869.333 \n",
       "  \"/>\n",
       "<polyline clip-path=\"url(#clip662)\" style=\"stroke:#000000; stroke-width:2; stroke-opacity:0.1; fill:none\" points=\"\n",
       "  214.954,581.14 2352.76,581.14 \n",
       "  \"/>\n",
       "<polyline clip-path=\"url(#clip662)\" style=\"stroke:#000000; stroke-width:2; stroke-opacity:0.1; fill:none\" points=\"\n",
       "  214.954,292.948 2352.76,292.948 \n",
       "  \"/>\n",
       "<polyline clip-path=\"url(#clip660)\" style=\"stroke:#000000; stroke-width:4; stroke-opacity:1; fill:none\" points=\"\n",
       "  214.954,1486.45 2352.76,1486.45 \n",
       "  \"/>\n",
       "<polyline clip-path=\"url(#clip660)\" style=\"stroke:#000000; stroke-width:4; stroke-opacity:1; fill:none\" points=\"\n",
       "  214.954,1486.45 214.954,47.2441 \n",
       "  \"/>\n",
       "<polyline clip-path=\"url(#clip660)\" style=\"stroke:#000000; stroke-width:4; stroke-opacity:1; fill:none\" points=\"\n",
       "  261.645,1486.45 261.645,1469.18 \n",
       "  \"/>\n",
       "<polyline clip-path=\"url(#clip660)\" style=\"stroke:#000000; stroke-width:4; stroke-opacity:1; fill:none\" points=\"\n",
       "  952.327,1486.45 952.327,1469.18 \n",
       "  \"/>\n",
       "<polyline clip-path=\"url(#clip660)\" style=\"stroke:#000000; stroke-width:4; stroke-opacity:1; fill:none\" points=\"\n",
       "  1643.01,1486.45 1643.01,1469.18 \n",
       "  \"/>\n",
       "<polyline clip-path=\"url(#clip660)\" style=\"stroke:#000000; stroke-width:4; stroke-opacity:1; fill:none\" points=\"\n",
       "  2333.69,1486.45 2333.69,1469.18 \n",
       "  \"/>\n",
       "<polyline clip-path=\"url(#clip660)\" style=\"stroke:#000000; stroke-width:4; stroke-opacity:1; fill:none\" points=\"\n",
       "  214.954,1445.72 240.608,1445.72 \n",
       "  \"/>\n",
       "<polyline clip-path=\"url(#clip660)\" style=\"stroke:#000000; stroke-width:4; stroke-opacity:1; fill:none\" points=\"\n",
       "  214.954,1157.53 240.608,1157.53 \n",
       "  \"/>\n",
       "<polyline clip-path=\"url(#clip660)\" style=\"stroke:#000000; stroke-width:4; stroke-opacity:1; fill:none\" points=\"\n",
       "  214.954,869.333 240.608,869.333 \n",
       "  \"/>\n",
       "<polyline clip-path=\"url(#clip660)\" style=\"stroke:#000000; stroke-width:4; stroke-opacity:1; fill:none\" points=\"\n",
       "  214.954,581.14 240.608,581.14 \n",
       "  \"/>\n",
       "<polyline clip-path=\"url(#clip660)\" style=\"stroke:#000000; stroke-width:4; stroke-opacity:1; fill:none\" points=\"\n",
       "  214.954,292.948 240.608,292.948 \n",
       "  \"/>\n",
       "<path clip-path=\"url(#clip660)\" d=\"M 0 0 M261.645 1508.44 Q258.033 1508.44 256.205 1512 Q254.399 1515.55 254.399 1522.67 Q254.399 1529.78 256.205 1533.35 Q258.033 1536.89 261.645 1536.89 Q265.279 1536.89 267.084 1533.35 Q268.913 1529.78 268.913 1522.67 Q268.913 1515.55 267.084 1512 Q265.279 1508.44 261.645 1508.44 M261.645 1504.73 Q267.455 1504.73 270.51 1509.34 Q273.589 1513.92 273.589 1522.67 Q273.589 1531.4 270.51 1536.01 Q267.455 1540.59 261.645 1540.59 Q255.834 1540.59 252.756 1536.01 Q249.7 1531.4 249.7 1522.67 Q249.7 1513.92 252.756 1509.34 Q255.834 1504.73 261.645 1504.73 Z\" fill=\"#000000\" fill-rule=\"evenodd\" fill-opacity=\"1\" /><path clip-path=\"url(#clip660)\" d=\"M 0 0 M929.098 1505.36 L947.455 1505.36 L947.455 1509.3 L933.381 1509.3 L933.381 1517.77 Q934.399 1517.42 935.418 1517.26 Q936.436 1517.07 937.455 1517.07 Q943.242 1517.07 946.621 1520.24 Q950.001 1523.42 950.001 1528.83 Q950.001 1534.41 946.529 1537.51 Q943.057 1540.59 936.737 1540.59 Q934.561 1540.59 932.293 1540.22 Q930.047 1539.85 927.64 1539.11 L927.64 1534.41 Q929.723 1535.54 931.946 1536.1 Q934.168 1536.66 936.645 1536.66 Q940.649 1536.66 942.987 1534.55 Q945.325 1532.44 945.325 1528.83 Q945.325 1525.22 942.987 1523.11 Q940.649 1521.01 936.645 1521.01 Q934.77 1521.01 932.895 1521.42 Q931.043 1521.84 929.098 1522.72 L929.098 1505.36 Z\" fill=\"#000000\" fill-rule=\"evenodd\" fill-opacity=\"1\" /><path clip-path=\"url(#clip660)\" d=\"M 0 0 M965.07 1508.44 Q961.459 1508.44 959.631 1512 Q957.825 1515.55 957.825 1522.67 Q957.825 1529.78 959.631 1533.35 Q961.459 1536.89 965.07 1536.89 Q968.705 1536.89 970.51 1533.35 Q972.339 1529.78 972.339 1522.67 Q972.339 1515.55 970.51 1512 Q968.705 1508.44 965.07 1508.44 M965.07 1504.73 Q970.881 1504.73 973.936 1509.34 Q977.015 1513.92 977.015 1522.67 Q977.015 1531.4 973.936 1536.01 Q970.881 1540.59 965.07 1540.59 Q959.26 1540.59 956.182 1536.01 Q953.126 1531.4 953.126 1522.67 Q953.126 1513.92 956.182 1509.34 Q959.26 1504.73 965.07 1504.73 Z\" fill=\"#000000\" fill-rule=\"evenodd\" fill-opacity=\"1\" /><path clip-path=\"url(#clip660)\" d=\"M 0 0 M1606.38 1535.98 L1614.02 1535.98 L1614.02 1509.62 L1605.71 1511.29 L1605.71 1507.03 L1613.97 1505.36 L1618.65 1505.36 L1618.65 1535.98 L1626.29 1535.98 L1626.29 1539.92 L1606.38 1539.92 L1606.38 1535.98 Z\" fill=\"#000000\" fill-rule=\"evenodd\" fill-opacity=\"1\" /><path clip-path=\"url(#clip660)\" d=\"M 0 0 M1641.36 1508.44 Q1637.74 1508.44 1635.92 1512 Q1634.11 1515.55 1634.11 1522.67 Q1634.11 1529.78 1635.92 1533.35 Q1637.74 1536.89 1641.36 1536.89 Q1644.99 1536.89 1646.79 1533.35 Q1648.62 1529.78 1648.62 1522.67 Q1648.62 1515.55 1646.79 1512 Q1644.99 1508.44 1641.36 1508.44 M1641.36 1504.73 Q1647.17 1504.73 1650.22 1509.34 Q1653.3 1513.92 1653.3 1522.67 Q1653.3 1531.4 1650.22 1536.01 Q1647.17 1540.59 1641.36 1540.59 Q1635.54 1540.59 1632.47 1536.01 Q1629.41 1531.4 1629.41 1522.67 Q1629.41 1513.92 1632.47 1509.34 Q1635.54 1504.73 1641.36 1504.73 Z\" fill=\"#000000\" fill-rule=\"evenodd\" fill-opacity=\"1\" /><path clip-path=\"url(#clip660)\" d=\"M 0 0 M1668.37 1508.44 Q1664.76 1508.44 1662.93 1512 Q1661.12 1515.55 1661.12 1522.67 Q1661.12 1529.78 1662.93 1533.35 Q1664.76 1536.89 1668.37 1536.89 Q1672 1536.89 1673.81 1533.35 Q1675.64 1529.78 1675.64 1522.67 Q1675.64 1515.55 1673.81 1512 Q1672 1508.44 1668.37 1508.44 M1668.37 1504.73 Q1674.18 1504.73 1677.23 1509.34 Q1680.31 1513.92 1680.31 1522.67 Q1680.31 1531.4 1677.23 1536.01 Q1674.18 1540.59 1668.37 1540.59 Q1662.56 1540.59 1659.48 1536.01 Q1656.42 1531.4 1656.42 1522.67 Q1656.42 1513.92 1659.48 1509.34 Q1662.56 1504.73 1668.37 1504.73 Z\" fill=\"#000000\" fill-rule=\"evenodd\" fill-opacity=\"1\" /><path clip-path=\"url(#clip660)\" d=\"M 0 0 M2297.56 1535.98 L2305.2 1535.98 L2305.2 1509.62 L2296.89 1511.29 L2296.89 1507.03 L2305.15 1505.36 L2309.83 1505.36 L2309.83 1535.98 L2317.47 1535.98 L2317.47 1539.92 L2297.56 1539.92 L2297.56 1535.98 Z\" fill=\"#000000\" fill-rule=\"evenodd\" fill-opacity=\"1\" /><path clip-path=\"url(#clip660)\" d=\"M 0 0 M2322.58 1505.36 L2340.94 1505.36 L2340.94 1509.3 L2326.86 1509.3 L2326.86 1517.77 Q2327.88 1517.42 2328.9 1517.26 Q2329.92 1517.07 2330.94 1517.07 Q2336.73 1517.07 2340.11 1520.24 Q2343.48 1523.42 2343.48 1528.83 Q2343.48 1534.41 2340.01 1537.51 Q2336.54 1540.59 2330.22 1540.59 Q2328.04 1540.59 2325.78 1540.22 Q2323.53 1539.85 2321.12 1539.11 L2321.12 1534.41 Q2323.21 1535.54 2325.43 1536.1 Q2327.65 1536.66 2330.13 1536.66 Q2334.13 1536.66 2336.47 1534.55 Q2338.81 1532.44 2338.81 1528.83 Q2338.81 1525.22 2336.47 1523.11 Q2334.13 1521.01 2330.13 1521.01 Q2328.25 1521.01 2326.38 1521.42 Q2324.53 1521.84 2322.58 1522.72 L2322.58 1505.36 Z\" fill=\"#000000\" fill-rule=\"evenodd\" fill-opacity=\"1\" /><path clip-path=\"url(#clip660)\" d=\"M 0 0 M2358.55 1508.44 Q2354.94 1508.44 2353.11 1512 Q2351.31 1515.55 2351.31 1522.67 Q2351.31 1529.78 2353.11 1533.35 Q2354.94 1536.89 2358.55 1536.89 Q2362.19 1536.89 2363.99 1533.35 Q2365.82 1529.78 2365.82 1522.67 Q2365.82 1515.55 2363.99 1512 Q2362.19 1508.44 2358.55 1508.44 M2358.55 1504.73 Q2364.36 1504.73 2367.42 1509.34 Q2370.5 1513.92 2370.5 1522.67 Q2370.5 1531.4 2367.42 1536.01 Q2364.36 1540.59 2358.55 1540.59 Q2352.74 1540.59 2349.67 1536.01 Q2346.61 1531.4 2346.61 1522.67 Q2346.61 1513.92 2349.67 1509.34 Q2352.74 1504.73 2358.55 1504.73 Z\" fill=\"#000000\" fill-rule=\"evenodd\" fill-opacity=\"1\" /><path clip-path=\"url(#clip660)\" d=\"M 0 0 M179.01 1431.52 Q175.399 1431.52 173.57 1435.08 Q171.765 1438.62 171.765 1445.75 Q171.765 1452.86 173.57 1456.42 Q175.399 1459.97 179.01 1459.97 Q182.644 1459.97 184.45 1456.42 Q186.279 1452.86 186.279 1445.75 Q186.279 1438.62 184.45 1435.08 Q182.644 1431.52 179.01 1431.52 M179.01 1427.81 Q184.82 1427.81 187.876 1432.42 Q190.954 1437 190.954 1445.75 Q190.954 1454.48 187.876 1459.09 Q184.82 1463.67 179.01 1463.67 Q173.2 1463.67 170.121 1459.09 Q167.066 1454.48 167.066 1445.75 Q167.066 1437 170.121 1432.42 Q173.2 1427.81 179.01 1427.81 Z\" fill=\"#000000\" fill-rule=\"evenodd\" fill-opacity=\"1\" /><path clip-path=\"url(#clip660)\" d=\"M 0 0 M66.8376 1177.32 L74.4764 1177.32 L74.4764 1150.95 L66.1663 1152.62 L66.1663 1148.36 L74.4301 1146.69 L79.106 1146.69 L79.106 1177.32 L86.7449 1177.32 L86.7449 1181.25 L66.8376 1181.25 L66.8376 1177.32 Z\" fill=\"#000000\" fill-rule=\"evenodd\" fill-opacity=\"1\" /><path clip-path=\"url(#clip660)\" d=\"M 0 0 M119.985 1155.79 L109.407 1166.42 L119.985 1176.99 L117.231 1179.8 L106.606 1169.17 L95.981 1179.8 L93.2495 1176.99 L103.805 1166.42 L93.2495 1155.79 L95.981 1152.99 L106.606 1163.61 L117.231 1152.99 L119.985 1155.79 Z\" fill=\"#000000\" fill-rule=\"evenodd\" fill-opacity=\"1\" /><path clip-path=\"url(#clip660)\" d=\"M 0 0 M125.865 1177.32 L133.504 1177.32 L133.504 1150.95 L125.194 1152.62 L125.194 1148.36 L133.458 1146.69 L138.134 1146.69 L138.134 1177.32 L145.772 1177.32 L145.772 1181.25 L125.865 1181.25 L125.865 1177.32 Z\" fill=\"#000000\" fill-rule=\"evenodd\" fill-opacity=\"1\" /><path clip-path=\"url(#clip660)\" d=\"M 0 0 M160.842 1149.77 Q157.231 1149.77 155.402 1153.34 Q153.596 1156.88 153.596 1164.01 Q153.596 1171.11 155.402 1174.68 Q157.231 1178.22 160.842 1178.22 Q164.476 1178.22 166.282 1174.68 Q168.11 1171.11 168.11 1164.01 Q168.11 1156.88 166.282 1153.34 Q164.476 1149.77 160.842 1149.77 M160.842 1146.07 Q166.652 1146.07 169.707 1150.67 Q172.786 1155.26 172.786 1164.01 Q172.786 1172.73 169.707 1177.34 Q166.652 1181.92 160.842 1181.92 Q155.032 1181.92 151.953 1177.34 Q148.897 1172.73 148.897 1164.01 Q148.897 1155.26 151.953 1150.67 Q155.032 1146.07 160.842 1146.07 Z\" fill=\"#000000\" fill-rule=\"evenodd\" fill-opacity=\"1\" /><path clip-path=\"url(#clip660)\" d=\"M 0 0 M173.971 1125.76 L188.886 1125.76 L188.886 1128.96 L177.45 1128.96 L177.45 1135.84 Q178.278 1135.56 179.106 1135.43 Q179.933 1135.28 180.761 1135.28 Q185.463 1135.28 188.208 1137.86 Q190.954 1140.43 190.954 1144.83 Q190.954 1149.37 188.133 1151.89 Q185.312 1154.39 180.178 1154.39 Q178.41 1154.39 176.566 1154.09 Q174.742 1153.79 172.786 1153.18 L172.786 1149.37 Q174.479 1150.29 176.284 1150.74 Q178.09 1151.19 180.102 1151.19 Q183.356 1151.19 185.256 1149.48 Q187.155 1147.77 187.155 1144.83 Q187.155 1141.9 185.256 1140.19 Q183.356 1138.48 180.102 1138.48 Q178.579 1138.48 177.055 1138.82 Q175.551 1139.15 173.971 1139.87 L173.971 1125.76 Z\" fill=\"#000000\" fill-rule=\"evenodd\" fill-opacity=\"1\" /><path clip-path=\"url(#clip660)\" d=\"M 0 0 M70.4255 889.126 L86.7449 889.126 L86.7449 893.061 L64.8006 893.061 L64.8006 889.126 Q67.4626 886.371 72.0459 881.741 Q76.6524 877.089 77.8329 875.746 Q80.0783 873.223 80.9579 871.487 Q81.8607 869.727 81.8607 868.038 Q81.8607 865.283 79.9162 863.547 Q77.9949 861.811 74.8931 861.811 Q72.694 861.811 70.2404 862.575 Q67.8098 863.339 65.032 864.89 L65.032 860.167 Q67.8561 859.033 70.3098 858.454 Q72.7635 857.876 74.8005 857.876 Q80.1709 857.876 83.3653 860.561 Q86.5597 863.246 86.5597 867.737 Q86.5597 869.866 85.7495 871.788 Q84.9625 873.686 82.856 876.278 Q82.2773 876.95 79.1755 880.167 Q76.0737 883.362 70.4255 889.126 Z\" fill=\"#000000\" fill-rule=\"evenodd\" fill-opacity=\"1\" /><path clip-path=\"url(#clip660)\" d=\"M 0 0 M119.985 867.598 L109.407 878.223 L119.985 888.801 L117.231 891.602 L106.606 880.977 L95.981 891.602 L93.2495 888.801 L103.805 878.223 L93.2495 867.598 L95.981 864.797 L106.606 875.422 L117.231 864.797 L119.985 867.598 Z\" fill=\"#000000\" fill-rule=\"evenodd\" fill-opacity=\"1\" /><path clip-path=\"url(#clip660)\" d=\"M 0 0 M125.865 889.126 L133.504 889.126 L133.504 862.76 L125.194 864.427 L125.194 860.167 L133.458 858.501 L138.134 858.501 L138.134 889.126 L145.772 889.126 L145.772 893.061 L125.865 893.061 L125.865 889.126 Z\" fill=\"#000000\" fill-rule=\"evenodd\" fill-opacity=\"1\" /><path clip-path=\"url(#clip660)\" d=\"M 0 0 M160.842 861.579 Q157.231 861.579 155.402 865.144 Q153.596 868.686 153.596 875.815 Q153.596 882.922 155.402 886.487 Q157.231 890.028 160.842 890.028 Q164.476 890.028 166.282 886.487 Q168.11 882.922 168.11 875.815 Q168.11 868.686 166.282 865.144 Q164.476 861.579 160.842 861.579 M160.842 857.876 Q166.652 857.876 169.707 862.482 Q172.786 867.065 172.786 875.815 Q172.786 884.542 169.707 889.149 Q166.652 893.732 160.842 893.732 Q155.032 893.732 151.953 889.149 Q148.897 884.542 148.897 875.815 Q148.897 867.065 151.953 862.482 Q155.032 857.876 160.842 857.876 Z\" fill=\"#000000\" fill-rule=\"evenodd\" fill-opacity=\"1\" /><path clip-path=\"url(#clip660)\" d=\"M 0 0 M173.971 837.57 L188.886 837.57 L188.886 840.768 L177.45 840.768 L177.45 847.651 Q178.278 847.369 179.106 847.237 Q179.933 847.087 180.761 847.087 Q185.463 847.087 188.208 849.664 Q190.954 852.24 190.954 856.641 Q190.954 861.174 188.133 863.694 Q185.312 866.196 180.178 866.196 Q178.41 866.196 176.566 865.895 Q174.742 865.594 172.786 864.992 L172.786 861.174 Q174.479 862.096 176.284 862.547 Q178.09 862.998 180.102 862.998 Q183.356 862.998 185.256 861.287 Q187.155 859.575 187.155 856.641 Q187.155 853.707 185.256 851.996 Q183.356 850.284 180.102 850.284 Q178.579 850.284 177.055 850.623 Q175.551 850.961 173.971 851.676 L173.971 837.57 Z\" fill=\"#000000\" fill-rule=\"evenodd\" fill-opacity=\"1\" /><path clip-path=\"url(#clip660)\" d=\"M 0 0 M79.6153 586.234 Q82.9718 586.951 84.8468 589.22 Q86.7449 591.488 86.7449 594.822 Q86.7449 599.937 83.2264 602.738 Q79.7079 605.539 73.2264 605.539 Q71.0505 605.539 68.7357 605.099 Q66.4441 604.683 63.9904 603.826 L63.9904 599.312 Q65.9348 600.447 68.2496 601.025 Q70.5644 601.604 73.0876 601.604 Q77.4857 601.604 79.7773 599.868 Q82.0921 598.132 82.0921 594.822 Q82.0921 591.766 79.9394 590.053 Q77.8098 588.317 73.9903 588.317 L69.9626 588.317 L69.9626 584.475 L74.1755 584.475 Q77.6246 584.475 79.4533 583.109 Q81.282 581.72 81.282 579.127 Q81.282 576.465 79.3838 575.053 Q77.5088 573.618 73.9903 573.618 Q72.069 573.618 69.87 574.035 Q67.6709 574.451 65.032 575.331 L65.032 571.164 Q67.6941 570.424 70.0089 570.053 Q72.3468 569.683 74.407 569.683 Q79.731 569.683 82.8329 572.113 Q85.9347 574.521 85.9347 578.641 Q85.9347 581.512 84.2912 583.502 Q82.6477 585.47 79.6153 586.234 Z\" fill=\"#000000\" fill-rule=\"evenodd\" fill-opacity=\"1\" /><path clip-path=\"url(#clip660)\" d=\"M 0 0 M119.985 579.405 L109.407 590.03 L119.985 600.609 L117.231 603.41 L106.606 592.785 L95.981 603.41 L93.2495 600.609 L103.805 590.03 L93.2495 579.405 L95.981 576.604 L106.606 587.229 L117.231 576.604 L119.985 579.405 Z\" fill=\"#000000\" fill-rule=\"evenodd\" fill-opacity=\"1\" /><path clip-path=\"url(#clip660)\" d=\"M 0 0 M125.865 600.933 L133.504 600.933 L133.504 574.567 L125.194 576.234 L125.194 571.975 L133.458 570.308 L138.134 570.308 L138.134 600.933 L145.772 600.933 L145.772 604.868 L125.865 604.868 L125.865 600.933 Z\" fill=\"#000000\" fill-rule=\"evenodd\" fill-opacity=\"1\" /><path clip-path=\"url(#clip660)\" d=\"M 0 0 M160.842 573.387 Q157.231 573.387 155.402 576.951 Q153.596 580.493 153.596 587.623 Q153.596 594.729 155.402 598.294 Q157.231 601.836 160.842 601.836 Q164.476 601.836 166.282 598.294 Q168.11 594.729 168.11 587.623 Q168.11 580.493 166.282 576.951 Q164.476 573.387 160.842 573.387 M160.842 569.683 Q166.652 569.683 169.707 574.289 Q172.786 578.873 172.786 587.623 Q172.786 596.349 169.707 600.956 Q166.652 605.539 160.842 605.539 Q155.032 605.539 151.953 600.956 Q148.897 596.349 148.897 587.623 Q148.897 578.873 151.953 574.289 Q155.032 569.683 160.842 569.683 Z\" fill=\"#000000\" fill-rule=\"evenodd\" fill-opacity=\"1\" /><path clip-path=\"url(#clip660)\" d=\"M 0 0 M173.971 549.378 L188.886 549.378 L188.886 552.575 L177.45 552.575 L177.45 559.459 Q178.278 559.176 179.106 559.045 Q179.933 558.894 180.761 558.894 Q185.463 558.894 188.208 561.471 Q190.954 564.048 190.954 568.449 Q190.954 572.981 188.133 575.502 Q185.312 578.003 180.178 578.003 Q178.41 578.003 176.566 577.702 Q174.742 577.401 172.786 576.799 L172.786 572.981 Q174.479 573.903 176.284 574.354 Q178.09 574.806 180.102 574.806 Q183.356 574.806 185.256 573.094 Q187.155 571.383 187.155 568.449 Q187.155 565.515 185.256 563.803 Q183.356 562.092 180.102 562.092 Q178.579 562.092 177.055 562.43 Q175.551 562.769 173.971 563.483 L173.971 549.378 Z\" fill=\"#000000\" fill-rule=\"evenodd\" fill-opacity=\"1\" /><path clip-path=\"url(#clip660)\" d=\"M 0 0 M77.1616 286.189 L65.3561 304.638 L77.1616 304.638 L77.1616 286.189 M75.9348 282.115 L81.8144 282.115 L81.8144 304.638 L86.7449 304.638 L86.7449 308.527 L81.8144 308.527 L81.8144 316.675 L77.1616 316.675 L77.1616 308.527 L61.5598 308.527 L61.5598 304.013 L75.9348 282.115 Z\" fill=\"#000000\" fill-rule=\"evenodd\" fill-opacity=\"1\" /><path clip-path=\"url(#clip660)\" d=\"M 0 0 M119.985 291.212 L109.407 301.837 L119.985 312.416 L117.231 315.217 L106.606 304.592 L95.981 315.217 L93.2495 312.416 L103.805 301.837 L93.2495 291.212 L95.981 288.411 L106.606 299.036 L117.231 288.411 L119.985 291.212 Z\" fill=\"#000000\" fill-rule=\"evenodd\" fill-opacity=\"1\" /><path clip-path=\"url(#clip660)\" d=\"M 0 0 M125.865 312.74 L133.504 312.74 L133.504 286.374 L125.194 288.041 L125.194 283.782 L133.458 282.115 L138.134 282.115 L138.134 312.74 L145.772 312.74 L145.772 316.675 L125.865 316.675 L125.865 312.74 Z\" fill=\"#000000\" fill-rule=\"evenodd\" fill-opacity=\"1\" /><path clip-path=\"url(#clip660)\" d=\"M 0 0 M160.842 285.194 Q157.231 285.194 155.402 288.759 Q153.596 292.3 153.596 299.43 Q153.596 306.536 155.402 310.101 Q157.231 313.643 160.842 313.643 Q164.476 313.643 166.282 310.101 Q168.11 306.536 168.11 299.43 Q168.11 292.3 166.282 288.759 Q164.476 285.194 160.842 285.194 M160.842 281.49 Q166.652 281.49 169.707 286.097 Q172.786 290.68 172.786 299.43 Q172.786 308.157 169.707 312.763 Q166.652 317.346 160.842 317.346 Q155.032 317.346 151.953 312.763 Q148.897 308.157 148.897 299.43 Q148.897 290.68 151.953 286.097 Q155.032 281.49 160.842 281.49 Z\" fill=\"#000000\" fill-rule=\"evenodd\" fill-opacity=\"1\" /><path clip-path=\"url(#clip660)\" d=\"M 0 0 M173.971 261.185 L188.886 261.185 L188.886 264.382 L177.45 264.382 L177.45 271.266 Q178.278 270.984 179.106 270.852 Q179.933 270.702 180.761 270.702 Q185.463 270.702 188.208 273.278 Q190.954 275.855 190.954 280.256 Q190.954 284.789 188.133 287.309 Q185.312 289.81 180.178 289.81 Q178.41 289.81 176.566 289.509 Q174.742 289.208 172.786 288.607 L172.786 284.789 Q174.479 285.71 176.284 286.162 Q178.09 286.613 180.102 286.613 Q183.356 286.613 185.256 284.901 Q187.155 283.19 187.155 280.256 Q187.155 277.322 185.256 275.61 Q183.356 273.899 180.102 273.899 Q178.579 273.899 177.055 274.237 Q175.551 274.576 173.971 275.291 L173.971 261.185 Z\" fill=\"#000000\" fill-rule=\"evenodd\" fill-opacity=\"1\" /><polyline clip-path=\"url(#clip662)\" style=\"stroke:#009af9; stroke-width:4; stroke-opacity:1; fill:none\" points=\"\n",
       "  275.458,1445.72 289.272,1445.72 303.086,1445.72 316.899,1445.71 330.713,1445.71 344.527,1445.7 358.34,1445.68 372.154,1445.67 385.967,1445.65 399.781,1445.61 \n",
       "  413.595,1445.57 427.408,1445.54 441.222,1445.54 455.036,1445.38 468.849,1445.29 482.663,1445.14 496.477,1445.03 510.29,1444.93 524.104,1444.56 537.918,1444.12 \n",
       "  551.731,1443.68 565.545,1443.05 579.359,1442.35 593.172,1442.3 606.986,1442.03 620.8,1441.9 634.613,1441.82 648.427,1441.74 662.241,1441.51 676.054,1441.38 \n",
       "  689.868,1441.15 703.682,1440.95 717.495,1440.86 731.309,1440.68 745.123,1440.4 758.936,1440.14 772.75,1439.95 786.564,1439.87 800.377,1439.46 814.191,1439.17 \n",
       "  828.004,1438.76 841.818,1438.5 855.632,1438.21 869.445,1437.7 883.259,1436.97 897.073,1436.62 910.886,1436.21 924.7,1435.73 938.514,1435.24 952.327,1434.33 \n",
       "  966.141,1433.56 979.955,1433.15 993.768,1432.62 1007.58,1431.91 1021.4,1431.32 1035.21,1430.3 1049.02,1429.44 1062.84,1428.57 1076.65,1427.46 1090.46,1426.17 \n",
       "  1104.28,1424.91 1118.09,1423.9 1131.9,1423.22 1145.72,1421.99 1159.53,1420.08 1173.35,1418.57 1187.16,1416.86 1200.97,1415.02 1214.79,1413.01 1228.6,1410.92 \n",
       "  1242.41,1409.01 1256.23,1406.74 1270.04,1404.35 1283.86,1401.01 1297.67,1398.36 1311.48,1396.15 1325.3,1393.84 1339.11,1390.57 1352.92,1387.72 1366.74,1384.21 \n",
       "  1380.55,1380.64 1394.36,1377.66 1408.18,1375.79 1421.99,1370.97 1435.81,1366.75 1449.62,1361.45 1463.43,1356.47 1477.25,1351.53 1491.06,1346.7 1504.87,1342.51 \n",
       "  1518.69,1337.57 1532.5,1328.16 1546.31,1320.54 1560.13,1313.23 1573.94,1306.56 1587.76,1299.09 1601.57,1293 1615.38,1286 1629.2,1276.93 1643.01,1267.25 \n",
       "  1656.82,1256.27 1670.64,1243.87 1684.45,1233.8 1698.26,1225.73 1712.08,1213.98 1725.89,1203.95 1739.71,1192.93 1753.52,1178.62 1767.33,1165.3 1781.15,1152.94 \n",
       "  1794.96,1139.92 1808.77,1123.53 1822.59,1104.57 1836.4,1086.66 1850.22,1065.88 1864.03,1047.63 1877.84,1029.96 1891.66,1009.95 1905.47,986.532 1919.28,961.379 \n",
       "  1933.1,935.26 1946.91,903.983 1960.72,878.699 1974.54,852.846 1988.35,823.64 2002.17,798.25 2015.98,758.843 2029.79,723.257 2043.61,684.359 2057.42,649.609 \n",
       "  2071.23,616.311 2085.05,586.063 2098.86,549.298 2112.67,511.337 2126.49,472.797 2140.3,434.511 2154.12,395.752 2167.93,368.95 2181.74,345.404 2195.56,307.507 \n",
       "  2209.37,269.742 2223.18,229.557 2237,194.386 2250.81,162.013 2264.62,141.563 2278.44,120.721 2292.25,87.9763 \n",
       "  \"/>\n",
       "<path clip-path=\"url(#clip660)\" d=\"\n",
       "M1989.74 251.724 L2280.76 251.724 L2280.76 130.764 L1989.74 130.764  Z\n",
       "  \" fill=\"#ffffff\" fill-rule=\"evenodd\" fill-opacity=\"1\"/>\n",
       "<polyline clip-path=\"url(#clip660)\" style=\"stroke:#000000; stroke-width:4; stroke-opacity:1; fill:none\" points=\"\n",
       "  1989.74,251.724 2280.76,251.724 2280.76,130.764 1989.74,130.764 1989.74,251.724 \n",
       "  \"/>\n",
       "<polyline clip-path=\"url(#clip660)\" style=\"stroke:#009af9; stroke-width:4; stroke-opacity:1; fill:none\" points=\"\n",
       "  2013.74,191.244 2157.74,191.244 \n",
       "  \"/>\n",
       "<path clip-path=\"url(#clip660)\" d=\"M 0 0 M2195.58 210.931 Q2193.77 215.561 2192.06 216.973 Q2190.35 218.385 2187.48 218.385 L2184.08 218.385 L2184.08 214.82 L2186.58 214.82 Q2188.33 214.82 2189.31 213.987 Q2190.28 213.154 2191.46 210.052 L2192.22 208.107 L2181.74 182.598 L2186.25 182.598 L2194.35 202.876 L2202.46 182.598 L2206.97 182.598 L2195.58 210.931 Z\" fill=\"#000000\" fill-rule=\"evenodd\" fill-opacity=\"1\" /><path clip-path=\"url(#clip660)\" d=\"M 0 0 M2212.85 204.589 L2220.49 204.589 L2220.49 178.223 L2212.18 179.89 L2212.18 175.631 L2220.44 173.964 L2225.12 173.964 L2225.12 204.589 L2232.76 204.589 L2232.76 208.524 L2212.85 208.524 L2212.85 204.589 Z\" fill=\"#000000\" fill-rule=\"evenodd\" fill-opacity=\"1\" /></svg>\n"
      ]
     },
     "execution_count": 28,
     "metadata": {},
     "output_type": "execute_result"
    }
   ],
   "source": [
    "plot(sadata)"
   ]
  },
  {
   "cell_type": "code",
   "execution_count": 29,
   "metadata": {},
   "outputs": [
    {
     "data": {
      "text/plain": [
       "147-element Array{String,1}:\n",
       " \"3/5/20\"\n",
       " \"3/6/20\"\n",
       " \"3/7/20\"\n",
       " \"3/8/20\"\n",
       " \"3/9/20\"\n",
       " \"3/10/20\"\n",
       " \"3/11/20\"\n",
       " \"3/12/20\"\n",
       " \"3/13/20\"\n",
       " \"3/14/20\"\n",
       " \"3/15/20\"\n",
       " \"3/16/20\"\n",
       " \"3/17/20\"\n",
       " ⋮\n",
       " \"7/18/20\"\n",
       " \"7/19/20\"\n",
       " \"7/20/20\"\n",
       " \"7/21/20\"\n",
       " \"7/22/20\"\n",
       " \"7/23/20\"\n",
       " \"7/24/20\"\n",
       " \"7/25/20\"\n",
       " \"7/26/20\"\n",
       " \"7/27/20\"\n",
       " \"7/28/20\"\n",
       " \"7/29/20\""
      ]
     },
     "execution_count": 29,
     "metadata": {},
     "output_type": "execute_result"
    }
   ],
   "source": [
    "confirmeddate = String.(names(datacopy))[48:end] # apply STring function to each element"
   ]
  },
  {
   "cell_type": "markdown",
   "metadata": {},
   "source": [
    "Parse: convert string representation into a Julia object:"
   ]
  },
  {
   "cell_type": "code",
   "execution_count": 30,
   "metadata": {},
   "outputs": [
    {
     "data": {
      "text/plain": [
       "\"3/5/20\""
      ]
     },
     "execution_count": 30,
     "metadata": {},
     "output_type": "execute_result"
    }
   ],
   "source": [
    "confirmeddate[1]"
   ]
  },
  {
   "cell_type": "markdown",
   "metadata": {},
   "source": [
    "using Dates which comes with Julia"
   ]
  },
  {
   "cell_type": "code",
   "execution_count": 31,
   "metadata": {},
   "outputs": [
    {
     "data": {
      "text/plain": [
       "dateformat\"m/d/y\""
      ]
     },
     "execution_count": 31,
     "metadata": {},
     "output_type": "execute_result"
    }
   ],
   "source": [
    "format = Dates.DateFormat(\"m/d/y\") #Month, Date, Year"
   ]
  },
  {
   "cell_type": "code",
   "execution_count": 32,
   "metadata": {},
   "outputs": [
    {
     "data": {
      "text/plain": [
       "2020-03-05"
      ]
     },
     "execution_count": 32,
     "metadata": {},
     "output_type": "execute_result"
    }
   ],
   "source": [
    "parse(Date, confirmeddate[1], format) + Year(2000)"
   ]
  },
  {
   "cell_type": "code",
   "execution_count": 33,
   "metadata": {},
   "outputs": [
    {
     "data": {
      "text/plain": [
       "147-element Array{Date,1}:\n",
       " 2020-03-05\n",
       " 2020-03-06\n",
       " 2020-03-07\n",
       " 2020-03-08\n",
       " 2020-03-09\n",
       " 2020-03-10\n",
       " 2020-03-11\n",
       " 2020-03-12\n",
       " 2020-03-13\n",
       " 2020-03-14\n",
       " 2020-03-15\n",
       " 2020-03-16\n",
       " 2020-03-17\n",
       " ⋮\n",
       " 2020-07-18\n",
       " 2020-07-19\n",
       " 2020-07-20\n",
       " 2020-07-21\n",
       " 2020-07-22\n",
       " 2020-07-23\n",
       " 2020-07-24\n",
       " 2020-07-25\n",
       " 2020-07-26\n",
       " 2020-07-27\n",
       " 2020-07-28\n",
       " 2020-07-29"
      ]
     },
     "execution_count": 33,
     "metadata": {},
     "output_type": "execute_result"
    }
   ],
   "source": [
    "confirmeddays = parse.(Date, confirmeddate, format) .+ Year(2000)"
   ]
  },
  {
   "cell_type": "markdown",
   "metadata": {},
   "source": [
    "Testing subjects:\n",
    "\n",
    "***plot(confirmeddays, sadata, label=\"time line\", #xticks=confirmed_days[1:14:end], xrotation=45, leg=:topleft)***\n",
    "\n",
    "***scatter!(confirmeddays, sadata, label=\"confirmed days\")***"
   ]
  },
  {
   "cell_type": "markdown",
   "metadata": {},
   "source": [
    "Straight line on semi-log means ***exponential growth***"
   ]
  },
  {
   "cell_type": "code",
   "execution_count": 34,
   "metadata": {},
   "outputs": [
    {
     "data": {
      "image/svg+xml": [
       "<?xml version=\"1.0\" encoding=\"utf-8\"?>\n",
       "<svg xmlns=\"http://www.w3.org/2000/svg\" xmlns:xlink=\"http://www.w3.org/1999/xlink\" width=\"600\" height=\"400\" viewBox=\"0 0 2400 1600\">\n",
       "<defs>\n",
       "  <clipPath id=\"clip700\">\n",
       "    <rect x=\"0\" y=\"0\" width=\"2400\" height=\"1600\"/>\n",
       "  </clipPath>\n",
       "</defs>\n",
       "<path clip-path=\"url(#clip700)\" d=\"\n",
       "M0 1600 L2400 1600 L2400 0 L0 0  Z\n",
       "  \" fill=\"#ffffff\" fill-rule=\"evenodd\" fill-opacity=\"1\"/>\n",
       "<defs>\n",
       "  <clipPath id=\"clip701\">\n",
       "    <rect x=\"480\" y=\"0\" width=\"1681\" height=\"1600\"/>\n",
       "  </clipPath>\n",
       "</defs>\n",
       "<path clip-path=\"url(#clip700)\" d=\"\n",
       "M260.051 1263.94 L2352.76 1263.94 L2352.76 123.472 L260.051 123.472  Z\n",
       "  \" fill=\"#ffffff\" fill-rule=\"evenodd\" fill-opacity=\"1\"/>\n",
       "<defs>\n",
       "  <clipPath id=\"clip702\">\n",
       "    <rect x=\"260\" y=\"123\" width=\"2094\" height=\"1141\"/>\n",
       "  </clipPath>\n",
       "</defs>\n",
       "<polyline clip-path=\"url(#clip702)\" style=\"stroke:#000000; stroke-width:2; stroke-opacity:0.1; fill:none\" points=\"\n",
       "  319.279,1263.94 319.279,123.472 \n",
       "  \"/>\n",
       "<polyline clip-path=\"url(#clip702)\" style=\"stroke:#000000; stroke-width:2; stroke-opacity:0.1; fill:none\" points=\"\n",
       "  508.59,1263.94 508.59,123.472 \n",
       "  \"/>\n",
       "<polyline clip-path=\"url(#clip702)\" style=\"stroke:#000000; stroke-width:2; stroke-opacity:0.1; fill:none\" points=\"\n",
       "  697.902,1263.94 697.902,123.472 \n",
       "  \"/>\n",
       "<polyline clip-path=\"url(#clip702)\" style=\"stroke:#000000; stroke-width:2; stroke-opacity:0.1; fill:none\" points=\"\n",
       "  887.214,1263.94 887.214,123.472 \n",
       "  \"/>\n",
       "<polyline clip-path=\"url(#clip702)\" style=\"stroke:#000000; stroke-width:2; stroke-opacity:0.1; fill:none\" points=\"\n",
       "  1076.53,1263.94 1076.53,123.472 \n",
       "  \"/>\n",
       "<polyline clip-path=\"url(#clip702)\" style=\"stroke:#000000; stroke-width:2; stroke-opacity:0.1; fill:none\" points=\"\n",
       "  1265.84,1263.94 1265.84,123.472 \n",
       "  \"/>\n",
       "<polyline clip-path=\"url(#clip702)\" style=\"stroke:#000000; stroke-width:2; stroke-opacity:0.1; fill:none\" points=\"\n",
       "  1455.15,1263.94 1455.15,123.472 \n",
       "  \"/>\n",
       "<polyline clip-path=\"url(#clip702)\" style=\"stroke:#000000; stroke-width:2; stroke-opacity:0.1; fill:none\" points=\"\n",
       "  1644.46,1263.94 1644.46,123.472 \n",
       "  \"/>\n",
       "<polyline clip-path=\"url(#clip702)\" style=\"stroke:#000000; stroke-width:2; stroke-opacity:0.1; fill:none\" points=\"\n",
       "  1833.77,1263.94 1833.77,123.472 \n",
       "  \"/>\n",
       "<polyline clip-path=\"url(#clip702)\" style=\"stroke:#000000; stroke-width:2; stroke-opacity:0.1; fill:none\" points=\"\n",
       "  2023.08,1263.94 2023.08,123.472 \n",
       "  \"/>\n",
       "<polyline clip-path=\"url(#clip702)\" style=\"stroke:#000000; stroke-width:2; stroke-opacity:0.1; fill:none\" points=\"\n",
       "  2212.39,1263.94 2212.39,123.472 \n",
       "  \"/>\n",
       "<polyline clip-path=\"url(#clip702)\" style=\"stroke:#000000; stroke-width:2; stroke-opacity:0.1; fill:none\" points=\"\n",
       "  260.051,1231.66 2352.76,1231.66 \n",
       "  \"/>\n",
       "<polyline clip-path=\"url(#clip702)\" style=\"stroke:#000000; stroke-width:2; stroke-opacity:0.1; fill:none\" points=\"\n",
       "  260.051,1042.01 2352.76,1042.01 \n",
       "  \"/>\n",
       "<polyline clip-path=\"url(#clip702)\" style=\"stroke:#000000; stroke-width:2; stroke-opacity:0.1; fill:none\" points=\"\n",
       "  260.051,852.359 2352.76,852.359 \n",
       "  \"/>\n",
       "<polyline clip-path=\"url(#clip702)\" style=\"stroke:#000000; stroke-width:2; stroke-opacity:0.1; fill:none\" points=\"\n",
       "  260.051,662.709 2352.76,662.709 \n",
       "  \"/>\n",
       "<polyline clip-path=\"url(#clip702)\" style=\"stroke:#000000; stroke-width:2; stroke-opacity:0.1; fill:none\" points=\"\n",
       "  260.051,473.059 2352.76,473.059 \n",
       "  \"/>\n",
       "<polyline clip-path=\"url(#clip702)\" style=\"stroke:#000000; stroke-width:2; stroke-opacity:0.1; fill:none\" points=\"\n",
       "  260.051,283.409 2352.76,283.409 \n",
       "  \"/>\n",
       "<polyline clip-path=\"url(#clip700)\" style=\"stroke:#000000; stroke-width:4; stroke-opacity:1; fill:none\" points=\"\n",
       "  260.051,1263.94 2352.76,1263.94 \n",
       "  \"/>\n",
       "<polyline clip-path=\"url(#clip700)\" style=\"stroke:#000000; stroke-width:4; stroke-opacity:1; fill:none\" points=\"\n",
       "  260.051,1263.94 260.051,123.472 \n",
       "  \"/>\n",
       "<polyline clip-path=\"url(#clip700)\" style=\"stroke:#000000; stroke-width:4; stroke-opacity:1; fill:none\" points=\"\n",
       "  319.279,1263.94 319.279,1250.25 \n",
       "  \"/>\n",
       "<polyline clip-path=\"url(#clip700)\" style=\"stroke:#000000; stroke-width:4; stroke-opacity:1; fill:none\" points=\"\n",
       "  508.59,1263.94 508.59,1250.25 \n",
       "  \"/>\n",
       "<polyline clip-path=\"url(#clip700)\" style=\"stroke:#000000; stroke-width:4; stroke-opacity:1; fill:none\" points=\"\n",
       "  697.902,1263.94 697.902,1250.25 \n",
       "  \"/>\n",
       "<polyline clip-path=\"url(#clip700)\" style=\"stroke:#000000; stroke-width:4; stroke-opacity:1; fill:none\" points=\"\n",
       "  887.214,1263.94 887.214,1250.25 \n",
       "  \"/>\n",
       "<polyline clip-path=\"url(#clip700)\" style=\"stroke:#000000; stroke-width:4; stroke-opacity:1; fill:none\" points=\"\n",
       "  1076.53,1263.94 1076.53,1250.25 \n",
       "  \"/>\n",
       "<polyline clip-path=\"url(#clip700)\" style=\"stroke:#000000; stroke-width:4; stroke-opacity:1; fill:none\" points=\"\n",
       "  1265.84,1263.94 1265.84,1250.25 \n",
       "  \"/>\n",
       "<polyline clip-path=\"url(#clip700)\" style=\"stroke:#000000; stroke-width:4; stroke-opacity:1; fill:none\" points=\"\n",
       "  1455.15,1263.94 1455.15,1250.25 \n",
       "  \"/>\n",
       "<polyline clip-path=\"url(#clip700)\" style=\"stroke:#000000; stroke-width:4; stroke-opacity:1; fill:none\" points=\"\n",
       "  1644.46,1263.94 1644.46,1250.25 \n",
       "  \"/>\n",
       "<polyline clip-path=\"url(#clip700)\" style=\"stroke:#000000; stroke-width:4; stroke-opacity:1; fill:none\" points=\"\n",
       "  1833.77,1263.94 1833.77,1250.25 \n",
       "  \"/>\n",
       "<polyline clip-path=\"url(#clip700)\" style=\"stroke:#000000; stroke-width:4; stroke-opacity:1; fill:none\" points=\"\n",
       "  2023.08,1263.94 2023.08,1250.25 \n",
       "  \"/>\n",
       "<polyline clip-path=\"url(#clip700)\" style=\"stroke:#000000; stroke-width:4; stroke-opacity:1; fill:none\" points=\"\n",
       "  2212.39,1263.94 2212.39,1250.25 \n",
       "  \"/>\n",
       "<polyline clip-path=\"url(#clip700)\" style=\"stroke:#000000; stroke-width:4; stroke-opacity:1; fill:none\" points=\"\n",
       "  260.051,1231.66 285.164,1231.66 \n",
       "  \"/>\n",
       "<polyline clip-path=\"url(#clip700)\" style=\"stroke:#000000; stroke-width:4; stroke-opacity:1; fill:none\" points=\"\n",
       "  260.051,1042.01 285.164,1042.01 \n",
       "  \"/>\n",
       "<polyline clip-path=\"url(#clip700)\" style=\"stroke:#000000; stroke-width:4; stroke-opacity:1; fill:none\" points=\"\n",
       "  260.051,852.359 285.164,852.359 \n",
       "  \"/>\n",
       "<polyline clip-path=\"url(#clip700)\" style=\"stroke:#000000; stroke-width:4; stroke-opacity:1; fill:none\" points=\"\n",
       "  260.051,662.709 285.164,662.709 \n",
       "  \"/>\n",
       "<polyline clip-path=\"url(#clip700)\" style=\"stroke:#000000; stroke-width:4; stroke-opacity:1; fill:none\" points=\"\n",
       "  260.051,473.059 285.164,473.059 \n",
       "  \"/>\n",
       "<polyline clip-path=\"url(#clip700)\" style=\"stroke:#000000; stroke-width:4; stroke-opacity:1; fill:none\" points=\"\n",
       "  260.051,283.409 285.164,283.409 \n",
       "  \"/>\n",
       "<path clip-path=\"url(#clip700)\" d=\"M 0 0 M181.944 1466.36 L193.483 1454.82 L196.266 1457.6 L180.749 1473.12 L177.966 1470.33 Q177.901 1466.5 177.868 1459.99 Q177.835 1453.44 177.721 1451.66 Q177.524 1448.29 176.919 1446.44 Q176.313 1444.55 175.118 1443.36 Q173.17 1441.41 170.568 1441.56 Q167.982 1441.69 165.788 1443.88 Q164.233 1445.44 163.038 1447.71 Q161.86 1449.97 160.992 1453.03 L157.653 1449.69 Q158.848 1446.9 160.174 1444.75 Q161.5 1442.61 162.94 1441.17 Q166.738 1437.37 170.895 1437.01 Q175.053 1436.65 178.228 1439.82 Q179.734 1441.33 180.52 1443.26 Q181.305 1445.16 181.649 1448.48 Q181.714 1449.37 181.796 1453.84 Q181.862 1458.29 181.944 1466.36 Z\" fill=\"#000000\" fill-rule=\"evenodd\" fill-opacity=\"1\" /><path clip-path=\"url(#clip700)\" d=\"M 0 0 M184.661 1424.68 Q182.107 1427.24 183.335 1431.05 Q184.563 1434.83 189.604 1439.87 Q194.629 1444.9 198.426 1446.14 Q202.224 1447.35 204.777 1444.8 Q207.347 1442.23 206.119 1438.45 Q204.892 1434.64 199.867 1429.61 Q194.825 1424.57 191.028 1423.36 Q187.231 1422.11 184.661 1424.68 M182.042 1422.06 Q186.15 1417.96 191.568 1419.05 Q196.986 1420.12 203.173 1426.3 Q209.344 1432.48 210.424 1437.91 Q211.504 1443.31 207.396 1447.42 Q203.288 1451.53 197.87 1450.46 Q192.452 1449.37 186.281 1443.2 Q180.094 1437.01 179.014 1431.61 Q177.933 1426.17 182.042 1422.06 Z\" fill=\"#000000\" fill-rule=\"evenodd\" fill-opacity=\"1\" /><path clip-path=\"url(#clip700)\" d=\"M 0 0 M219.017 1429.28 L230.557 1417.74 L233.34 1420.53 L217.823 1436.04 L215.04 1433.26 Q214.974 1429.43 214.942 1422.92 Q214.909 1416.37 214.794 1414.58 Q214.598 1411.21 213.992 1409.36 Q213.387 1407.48 212.192 1406.29 Q210.244 1404.34 207.642 1404.49 Q205.055 1404.62 202.862 1406.81 Q201.307 1408.36 200.112 1410.64 Q198.934 1412.9 198.066 1415.96 L194.727 1412.62 Q195.922 1409.82 197.248 1407.68 Q198.574 1405.53 200.014 1404.09 Q203.811 1400.3 207.969 1399.94 Q212.126 1399.58 215.302 1402.75 Q216.808 1404.26 217.593 1406.19 Q218.379 1408.09 218.723 1411.41 Q218.788 1412.29 218.87 1416.76 Q218.936 1421.21 219.017 1429.28 Z\" fill=\"#000000\" fill-rule=\"evenodd\" fill-opacity=\"1\" /><path clip-path=\"url(#clip700)\" d=\"M 0 0 M221.735 1387.61 Q219.181 1390.16 220.409 1393.98 Q221.636 1397.76 226.678 1402.8 Q231.703 1407.82 235.5 1409.07 Q239.298 1410.28 241.851 1407.73 Q244.421 1405.16 243.193 1401.38 Q241.966 1397.56 236.941 1392.54 Q231.899 1387.5 228.102 1386.28 Q224.304 1385.04 221.735 1387.61 M219.116 1384.99 Q223.224 1380.88 228.642 1381.98 Q234.06 1383.04 240.247 1389.23 Q246.418 1395.4 247.498 1400.84 Q248.578 1406.24 244.47 1410.35 Q240.361 1414.45 234.944 1413.39 Q229.526 1412.29 223.355 1406.12 Q217.168 1399.94 216.088 1394.53 Q215.007 1389.1 219.116 1384.99 Z\" fill=\"#000000\" fill-rule=\"evenodd\" fill-opacity=\"1\" /><path clip-path=\"url(#clip700)\" d=\"M 0 0 M243.553 1389.26 L252.376 1380.44 L255.06 1383.13 L246.238 1391.95 L243.553 1389.26 Z\" fill=\"#000000\" fill-rule=\"evenodd\" fill-opacity=\"1\" /><path clip-path=\"url(#clip700)\" d=\"M 0 0 M251.295 1358.05 Q248.742 1360.6 249.97 1364.42 Q251.197 1368.2 256.239 1373.24 Q261.264 1378.26 265.061 1379.51 Q268.858 1380.72 271.412 1378.17 Q273.982 1375.6 272.754 1371.81 Q271.526 1368 266.501 1362.98 Q261.46 1357.93 257.663 1356.72 Q253.865 1355.48 251.295 1358.05 M248.676 1355.43 Q252.785 1351.32 258.203 1352.42 Q263.621 1353.48 269.808 1359.67 Q275.978 1365.84 277.059 1371.27 Q278.139 1376.68 274.031 1380.78 Q269.922 1384.89 264.504 1383.83 Q259.087 1382.73 252.916 1376.56 Q246.729 1370.37 245.648 1364.97 Q244.568 1359.54 248.676 1355.43 Z\" fill=\"#000000\" fill-rule=\"evenodd\" fill-opacity=\"1\" /><path clip-path=\"url(#clip700)\" d=\"M 0 0 M282.428 1345.09 Q285.308 1343.22 288.238 1343.5 Q291.184 1343.76 293.541 1346.12 Q297.159 1349.73 296.651 1354.2 Q296.144 1358.67 291.561 1363.25 Q290.022 1364.79 288.075 1366.12 Q286.159 1367.44 283.819 1368.57 L280.627 1365.38 Q282.804 1364.81 284.85 1363.58 Q286.896 1362.35 288.68 1360.57 Q291.79 1357.46 292.183 1354.61 Q292.592 1351.75 290.251 1349.41 Q288.091 1347.25 285.357 1347.56 Q282.624 1347.84 279.923 1350.54 L277.075 1353.38 L274.358 1350.67 L277.337 1347.69 Q279.776 1345.25 280.103 1342.99 Q280.414 1340.72 278.581 1338.88 Q276.699 1337 274.358 1337.34 Q272.017 1337.65 269.529 1340.14 Q268.171 1341.5 266.911 1343.35 Q265.65 1345.2 264.406 1347.69 L261.46 1344.74 Q262.819 1342.34 264.193 1340.44 Q265.585 1338.52 267.041 1337.07 Q270.806 1333.3 274.718 1332.83 Q278.614 1332.33 281.527 1335.25 Q283.557 1337.28 283.802 1339.85 Q284.032 1342.4 282.428 1345.09 Z\" fill=\"#000000\" fill-rule=\"evenodd\" fill-opacity=\"1\" /><path clip-path=\"url(#clip700)\" d=\"M 0 0 M291.757 1341.06 L300.58 1332.24 L303.264 1334.92 L294.442 1343.74 L291.757 1341.06 Z\" fill=\"#000000\" fill-rule=\"evenodd\" fill-opacity=\"1\" /><path clip-path=\"url(#clip700)\" d=\"M 0 0 M299.499 1309.85 Q296.946 1312.4 298.174 1316.21 Q299.401 1319.99 304.443 1325.03 Q309.468 1330.06 313.265 1331.3 Q317.062 1332.51 319.616 1329.96 Q322.186 1327.39 320.958 1323.61 Q319.73 1319.8 314.705 1314.77 Q309.664 1309.73 305.867 1308.52 Q302.069 1307.28 299.499 1309.85 M296.881 1307.23 Q300.989 1303.12 306.407 1304.21 Q311.825 1305.28 318.012 1311.47 Q324.183 1317.64 325.263 1323.07 Q326.343 1328.47 322.235 1332.58 Q318.126 1336.69 312.709 1335.62 Q307.291 1334.53 301.12 1328.36 Q294.933 1322.17 293.852 1316.77 Q292.772 1311.33 296.881 1307.23 Z\" fill=\"#000000\" fill-rule=\"evenodd\" fill-opacity=\"1\" /><path clip-path=\"url(#clip700)\" d=\"M 0 0 M309.386 1295.6 L322.366 1282.62 L325.148 1285.41 L315.197 1295.36 L321.187 1301.35 Q321.662 1300.38 322.268 1299.55 Q322.857 1298.7 323.577 1297.98 Q327.669 1293.89 332.301 1293.74 Q336.933 1293.59 340.764 1297.42 Q344.708 1301.37 344.446 1306.01 Q344.168 1310.65 339.7 1315.12 Q338.161 1316.65 336.295 1318 Q334.445 1319.32 332.219 1320.5 L328.897 1317.18 Q331.172 1316.51 333.136 1315.33 Q335.1 1314.15 336.852 1312.4 Q339.683 1309.57 339.847 1306.42 Q340.011 1303.28 337.457 1300.73 Q334.904 1298.17 331.761 1298.34 Q328.618 1298.5 325.787 1301.33 Q324.461 1302.66 323.43 1304.28 Q322.415 1305.88 321.662 1307.88 L309.386 1295.6 Z\" fill=\"#000000\" fill-rule=\"evenodd\" fill-opacity=\"1\" /><path clip-path=\"url(#clip700)\" d=\"M 0 0 M371.55 1466.06 L383.089 1454.52 L385.872 1457.31 L370.355 1472.82 L367.572 1470.04 Q367.507 1466.21 367.474 1459.7 Q367.441 1453.15 367.327 1451.36 Q367.13 1447.99 366.525 1446.14 Q365.919 1444.26 364.724 1443.07 Q362.777 1441.12 360.174 1441.26 Q357.588 1441.4 355.395 1443.59 Q353.84 1445.14 352.645 1447.42 Q351.466 1449.68 350.599 1452.74 L347.26 1449.4 Q348.454 1446.6 349.78 1444.46 Q351.106 1442.31 352.546 1440.87 Q356.344 1437.07 360.501 1436.71 Q364.659 1436.35 367.834 1439.53 Q369.34 1441.04 370.126 1442.97 Q370.911 1444.87 371.255 1448.19 Q371.321 1449.07 371.403 1453.54 Q371.468 1457.99 371.55 1466.06 Z\" fill=\"#000000\" fill-rule=\"evenodd\" fill-opacity=\"1\" /><path clip-path=\"url(#clip700)\" d=\"M 0 0 M374.267 1424.39 Q371.714 1426.94 372.941 1430.76 Q374.169 1434.54 379.21 1439.58 Q384.235 1444.6 388.033 1445.85 Q391.83 1447.06 394.383 1444.51 Q396.953 1441.94 395.726 1438.15 Q394.498 1434.34 389.473 1429.32 Q384.432 1424.27 380.634 1423.06 Q376.837 1421.82 374.267 1424.39 M371.648 1421.77 Q375.756 1417.66 381.174 1418.76 Q386.592 1419.82 392.779 1426.01 Q398.95 1432.18 400.03 1437.61 Q401.111 1443.02 397.002 1447.12 Q392.894 1451.23 387.476 1450.17 Q382.058 1449.07 375.887 1442.9 Q369.7 1436.71 368.62 1431.31 Q367.54 1425.88 371.648 1421.77 Z\" fill=\"#000000\" fill-rule=\"evenodd\" fill-opacity=\"1\" /><path clip-path=\"url(#clip700)\" d=\"M 0 0 M408.624 1428.99 L420.163 1417.45 L422.946 1420.23 L407.429 1435.75 L404.646 1432.97 Q404.581 1429.14 404.548 1422.62 Q404.515 1416.07 404.401 1414.29 Q404.204 1410.92 403.599 1409.07 Q402.993 1407.19 401.798 1405.99 Q399.85 1404.04 397.248 1404.19 Q394.662 1404.32 392.468 1406.52 Q390.913 1408.07 389.718 1410.35 Q388.54 1412.6 387.672 1415.67 L384.333 1412.33 Q385.528 1409.53 386.854 1407.38 Q388.18 1405.24 389.62 1403.8 Q393.418 1400 397.575 1399.64 Q401.733 1399.28 404.908 1402.46 Q406.414 1403.96 407.2 1405.89 Q407.985 1407.79 408.329 1411.11 Q408.395 1412 408.476 1416.47 Q408.542 1420.92 408.624 1428.99 Z\" fill=\"#000000\" fill-rule=\"evenodd\" fill-opacity=\"1\" /><path clip-path=\"url(#clip700)\" d=\"M 0 0 M411.341 1387.32 Q408.787 1389.87 410.015 1393.68 Q411.243 1397.46 416.284 1402.51 Q421.309 1407.53 425.106 1408.77 Q428.904 1409.99 431.457 1407.43 Q434.027 1404.86 432.799 1401.08 Q431.572 1397.27 426.547 1392.24 Q421.505 1387.2 417.708 1385.99 Q413.911 1384.75 411.341 1387.32 M408.722 1384.7 Q412.83 1380.59 418.248 1381.68 Q423.666 1382.75 429.853 1388.94 Q436.024 1395.11 437.104 1400.54 Q438.184 1405.94 434.076 1410.05 Q429.968 1414.16 424.55 1413.1 Q419.132 1412 412.961 1405.83 Q406.774 1399.64 405.694 1394.24 Q404.613 1388.8 408.722 1384.7 Z\" fill=\"#000000\" fill-rule=\"evenodd\" fill-opacity=\"1\" /><path clip-path=\"url(#clip700)\" d=\"M 0 0 M433.159 1388.97 L441.982 1380.15 L444.666 1382.83 L435.844 1391.65 L433.159 1388.97 Z\" fill=\"#000000\" fill-rule=\"evenodd\" fill-opacity=\"1\" /><path clip-path=\"url(#clip700)\" d=\"M 0 0 M440.902 1357.75 Q438.348 1360.31 439.576 1364.12 Q440.803 1367.9 445.845 1372.94 Q450.87 1377.97 454.667 1379.21 Q458.465 1380.42 461.018 1377.87 Q463.588 1375.3 462.36 1371.52 Q461.133 1367.71 456.108 1362.68 Q451.066 1357.64 447.269 1356.43 Q443.471 1355.18 440.902 1357.75 M438.283 1355.14 Q442.391 1351.03 447.809 1352.12 Q453.227 1353.19 459.414 1359.38 Q465.585 1365.55 466.665 1370.98 Q467.745 1376.38 463.637 1380.49 Q459.529 1384.6 454.111 1383.53 Q448.693 1382.44 442.522 1376.27 Q436.335 1370.08 435.255 1364.68 Q434.174 1359.24 438.283 1355.14 Z\" fill=\"#000000\" fill-rule=\"evenodd\" fill-opacity=\"1\" /><path clip-path=\"url(#clip700)\" d=\"M 0 0 M472.034 1344.79 Q474.915 1342.93 477.844 1343.2 Q480.791 1343.47 483.148 1345.82 Q486.765 1349.44 486.258 1353.91 Q485.75 1358.38 481.167 1362.96 Q479.629 1364.5 477.681 1365.82 Q475.766 1367.15 473.425 1368.28 L470.233 1365.09 Q472.41 1364.51 474.456 1363.29 Q476.502 1362.06 478.286 1360.28 Q481.396 1357.17 481.789 1354.32 Q482.198 1351.45 479.858 1349.11 Q477.697 1346.95 474.964 1347.26 Q472.23 1347.54 469.529 1350.24 L466.681 1353.09 L463.964 1350.37 L466.943 1347.39 Q469.382 1344.95 469.709 1342.7 Q470.02 1340.42 468.187 1338.59 Q466.305 1336.71 463.964 1337.05 Q461.624 1337.36 459.136 1339.85 Q457.777 1341.21 456.517 1343.06 Q455.256 1344.91 454.012 1347.39 L451.066 1344.45 Q452.425 1342.04 453.8 1340.14 Q455.191 1338.23 456.648 1336.77 Q460.412 1333.01 464.324 1332.53 Q468.22 1332.04 471.134 1334.95 Q473.163 1336.98 473.409 1339.55 Q473.638 1342.11 472.034 1344.79 Z\" fill=\"#000000\" fill-rule=\"evenodd\" fill-opacity=\"1\" /><path clip-path=\"url(#clip700)\" d=\"M 0 0 M481.364 1340.76 L490.186 1331.94 L492.87 1334.63 L484.048 1343.45 L481.364 1340.76 Z\" fill=\"#000000\" fill-rule=\"evenodd\" fill-opacity=\"1\" /><path clip-path=\"url(#clip700)\" d=\"M 0 0 M502.086 1335.53 L507.487 1330.13 L488.844 1311.48 L484.146 1318.54 L481.134 1315.52 L485.799 1308.5 L489.106 1305.2 L510.761 1326.85 L516.162 1321.45 L518.945 1324.23 L504.868 1338.31 L502.086 1335.53 Z\" fill=\"#000000\" fill-rule=\"evenodd\" fill-opacity=\"1\" /><path clip-path=\"url(#clip700)\" d=\"M 0 0 M522.12 1320.04 L519.108 1317.03 Q520.942 1316.38 522.529 1315.41 Q524.117 1314.44 525.345 1313.22 Q528.618 1309.94 528.144 1306.03 Q527.669 1302.09 523.43 1297.36 Q523.888 1299.71 523.184 1301.92 Q522.48 1304.13 520.713 1305.9 Q517.046 1309.57 512.692 1309.5 Q508.338 1309.4 504.492 1305.56 Q500.727 1301.79 500.678 1297.29 Q500.629 1292.79 504.328 1289.09 Q508.567 1284.85 514.051 1285.88 Q519.534 1286.88 525.721 1293.07 Q531.499 1298.85 532.203 1305.05 Q532.907 1311.22 528.275 1315.85 Q527.031 1317.1 525.508 1318.13 Q523.986 1319.16 522.12 1320.04 M518.339 1303.1 Q520.565 1300.88 520.336 1298.06 Q520.123 1295.23 517.472 1292.58 Q514.836 1289.94 512.005 1289.73 Q509.173 1289.48 506.947 1291.71 Q504.721 1293.94 504.95 1296.78 Q505.179 1299.6 507.814 1302.23 Q510.466 1304.89 513.281 1305.11 Q516.113 1305.33 518.339 1303.1 Z\" fill=\"#000000\" fill-rule=\"evenodd\" fill-opacity=\"1\" /><path clip-path=\"url(#clip700)\" d=\"M 0 0 M560.19 1466.73 L571.73 1455.19 L574.512 1457.98 L558.995 1473.49 L556.213 1470.71 Q556.147 1466.88 556.115 1460.37 Q556.082 1453.82 555.967 1452.03 Q555.771 1448.66 555.165 1446.81 Q554.56 1444.93 553.365 1443.74 Q551.417 1441.79 548.815 1441.94 Q546.228 1442.07 544.035 1444.26 Q542.48 1445.82 541.285 1448.09 Q540.107 1450.35 539.239 1453.41 L535.9 1450.07 Q537.095 1447.27 538.421 1445.13 Q539.747 1442.98 541.187 1441.54 Q544.984 1437.75 549.142 1437.39 Q553.299 1437.03 556.475 1440.2 Q557.981 1441.71 558.766 1443.64 Q559.552 1445.54 559.896 1448.86 Q559.961 1449.74 560.043 1454.21 Q560.109 1458.66 560.19 1466.73 Z\" fill=\"#000000\" fill-rule=\"evenodd\" fill-opacity=\"1\" /><path clip-path=\"url(#clip700)\" d=\"M 0 0 M562.907 1425.06 Q560.354 1427.61 561.582 1431.43 Q562.809 1435.21 567.851 1440.25 Q572.876 1445.27 576.673 1446.52 Q580.47 1447.73 583.024 1445.18 Q585.594 1442.61 584.366 1438.83 Q583.138 1435.01 578.113 1429.99 Q573.072 1424.95 569.275 1423.73 Q565.477 1422.49 562.907 1425.06 M560.289 1422.44 Q564.397 1418.33 569.815 1419.43 Q575.233 1420.49 581.42 1426.68 Q587.591 1432.85 588.671 1438.29 Q589.751 1443.69 585.643 1447.8 Q581.534 1451.9 576.117 1450.84 Q570.699 1449.74 564.528 1443.57 Q558.341 1437.39 557.26 1431.98 Q556.18 1426.55 560.289 1422.44 Z\" fill=\"#000000\" fill-rule=\"evenodd\" fill-opacity=\"1\" /><path clip-path=\"url(#clip700)\" d=\"M 0 0 M597.264 1429.66 L608.804 1418.12 L611.586 1420.9 L596.069 1436.42 L593.287 1433.64 Q593.221 1429.81 593.189 1423.29 Q593.156 1416.75 593.041 1414.96 Q592.845 1411.59 592.239 1409.74 Q591.634 1407.86 590.439 1406.66 Q588.491 1404.71 585.888 1404.86 Q583.302 1404.99 581.109 1407.19 Q579.554 1408.74 578.359 1411.02 Q577.18 1413.28 576.313 1416.34 L572.974 1413 Q574.169 1410.2 575.495 1408.05 Q576.82 1405.91 578.261 1404.47 Q582.058 1400.67 586.216 1400.31 Q590.373 1399.95 593.549 1403.13 Q595.054 1404.63 595.84 1406.56 Q596.626 1408.46 596.97 1411.79 Q597.035 1412.67 597.117 1417.14 Q597.182 1421.59 597.264 1429.66 Z\" fill=\"#000000\" fill-rule=\"evenodd\" fill-opacity=\"1\" /><path clip-path=\"url(#clip700)\" d=\"M 0 0 M599.981 1387.99 Q597.428 1390.54 598.655 1394.35 Q599.883 1398.13 604.924 1403.18 Q609.949 1408.2 613.747 1409.45 Q617.544 1410.66 620.098 1408.1 Q622.668 1405.53 621.44 1401.75 Q620.212 1397.94 615.187 1392.91 Q610.146 1387.87 606.348 1386.66 Q602.551 1385.42 599.981 1387.99 M597.362 1385.37 Q601.471 1381.26 606.889 1382.36 Q612.306 1383.42 618.494 1389.61 Q624.664 1395.78 625.745 1401.21 Q626.825 1406.61 622.717 1410.72 Q618.608 1414.83 613.19 1413.77 Q607.773 1412.67 601.602 1406.5 Q595.415 1400.31 594.334 1394.91 Q593.254 1389.48 597.362 1385.37 Z\" fill=\"#000000\" fill-rule=\"evenodd\" fill-opacity=\"1\" /><path clip-path=\"url(#clip700)\" d=\"M 0 0 M621.8 1389.64 L630.622 1380.82 L633.307 1383.5 L624.484 1392.32 L621.8 1389.64 Z\" fill=\"#000000\" fill-rule=\"evenodd\" fill-opacity=\"1\" /><path clip-path=\"url(#clip700)\" d=\"M 0 0 M629.542 1358.43 Q626.989 1360.98 628.216 1364.79 Q629.444 1368.57 634.485 1373.62 Q639.51 1378.64 643.308 1379.88 Q647.105 1381.1 649.659 1378.54 Q652.228 1375.97 651.001 1372.19 Q649.773 1368.38 644.748 1363.35 Q639.707 1358.31 635.909 1357.1 Q632.112 1355.86 629.542 1358.43 M626.923 1355.81 Q631.032 1351.7 636.449 1352.8 Q641.867 1353.86 648.054 1360.05 Q654.225 1366.22 655.306 1371.65 Q656.386 1377.05 652.277 1381.16 Q648.169 1385.27 642.751 1384.21 Q637.333 1383.11 631.163 1376.94 Q624.975 1370.75 623.895 1365.35 Q622.815 1359.92 626.923 1355.81 Z\" fill=\"#000000\" fill-rule=\"evenodd\" fill-opacity=\"1\" /><path clip-path=\"url(#clip700)\" d=\"M 0 0 M651.361 1338.01 L656.058 1359.41 L664.406 1351.06 L651.361 1338.01 M647.613 1336 L651.77 1331.84 L667.696 1347.77 L671.183 1344.28 L673.932 1347.03 L670.446 1350.52 L676.208 1356.28 L672.918 1359.57 L667.156 1353.81 L656.124 1364.84 L652.932 1361.65 L647.613 1336 Z\" fill=\"#000000\" fill-rule=\"evenodd\" fill-opacity=\"1\" /><path clip-path=\"url(#clip700)\" d=\"M 0 0 M670.806 1340.63 L679.629 1331.81 L682.313 1334.5 L673.491 1343.32 L670.806 1340.63 Z\" fill=\"#000000\" fill-rule=\"evenodd\" fill-opacity=\"1\" /><path clip-path=\"url(#clip700)\" d=\"M 0 0 M678.548 1309.42 Q675.995 1311.97 677.222 1315.79 Q678.45 1319.57 683.491 1324.61 Q688.516 1329.63 692.314 1330.88 Q696.111 1332.09 698.665 1329.54 Q701.235 1326.97 700.007 1323.19 Q698.779 1319.37 693.754 1314.35 Q688.713 1309.3 684.915 1308.09 Q681.118 1306.85 678.548 1309.42 M675.929 1306.8 Q680.038 1302.69 685.456 1303.79 Q690.873 1304.85 697.061 1311.04 Q703.231 1317.21 704.312 1322.64 Q705.392 1328.05 701.284 1332.15 Q697.175 1336.26 691.757 1335.2 Q686.34 1334.1 680.169 1327.93 Q673.982 1321.74 672.901 1316.34 Q671.821 1310.91 675.929 1306.8 Z\" fill=\"#000000\" fill-rule=\"evenodd\" fill-opacity=\"1\" /><path clip-path=\"url(#clip700)\" d=\"M 0 0 M712.905 1314.02 L724.445 1302.48 L727.227 1305.26 L711.71 1320.78 L708.928 1318 Q708.862 1314.17 708.829 1307.65 Q708.797 1301.1 708.682 1299.32 Q708.486 1295.95 707.88 1294.1 Q707.274 1292.22 706.079 1291.02 Q704.132 1289.07 701.529 1289.22 Q698.943 1289.35 696.75 1291.55 Q695.195 1293.1 694 1295.38 Q692.821 1297.63 691.954 1300.7 L688.615 1297.36 Q689.81 1294.56 691.135 1292.41 Q692.461 1290.27 693.902 1288.83 Q697.699 1285.03 701.856 1284.67 Q706.014 1284.31 709.189 1287.49 Q710.695 1288.99 711.481 1290.92 Q712.267 1292.82 712.61 1296.14 Q712.676 1297.03 712.758 1301.5 Q712.823 1305.95 712.905 1314.02 Z\" fill=\"#000000\" fill-rule=\"evenodd\" fill-opacity=\"1\" /><path clip-path=\"url(#clip700)\" d=\"M 0 0 M749.126 1467.11 L760.665 1455.57 L763.448 1458.35 L747.931 1473.87 L745.148 1471.09 Q745.083 1467.26 745.05 1460.74 Q745.017 1454.2 744.903 1452.41 Q744.706 1449.04 744.101 1447.19 Q743.495 1445.31 742.3 1444.11 Q740.352 1442.16 737.75 1442.31 Q735.164 1442.44 732.97 1444.64 Q731.415 1446.19 730.22 1448.47 Q729.042 1450.73 728.174 1453.79 L724.835 1450.45 Q726.03 1447.65 727.356 1445.5 Q728.682 1443.36 730.122 1441.92 Q733.92 1438.12 738.077 1437.76 Q742.235 1437.4 745.41 1440.58 Q746.916 1442.08 747.701 1444.01 Q748.487 1445.91 748.831 1449.24 Q748.896 1450.12 748.978 1454.59 Q749.044 1459.04 749.126 1467.11 Z\" fill=\"#000000\" fill-rule=\"evenodd\" fill-opacity=\"1\" /><path clip-path=\"url(#clip700)\" d=\"M 0 0 M751.843 1425.44 Q749.289 1427.99 750.517 1431.8 Q751.744 1435.59 756.786 1440.63 Q761.811 1445.65 765.608 1446.9 Q769.406 1448.11 771.959 1445.55 Q774.529 1442.98 773.301 1439.2 Q772.074 1435.39 767.049 1430.36 Q762.007 1425.32 758.21 1424.11 Q754.412 1422.87 751.843 1425.44 M749.224 1422.82 Q753.332 1418.71 758.75 1419.81 Q764.168 1420.87 770.355 1427.06 Q776.526 1433.23 777.606 1438.66 Q778.686 1444.06 774.578 1448.17 Q770.47 1452.28 765.052 1451.22 Q759.634 1450.12 753.463 1443.95 Q747.276 1437.76 746.196 1432.36 Q745.115 1426.93 749.224 1422.82 Z\" fill=\"#000000\" fill-rule=\"evenodd\" fill-opacity=\"1\" /><path clip-path=\"url(#clip700)\" d=\"M 0 0 M786.199 1430.04 L797.739 1418.5 L800.521 1421.28 L785.004 1436.8 L782.222 1434.01 Q782.156 1430.18 782.124 1423.67 Q782.091 1417.12 781.976 1415.34 Q781.78 1411.97 781.174 1410.12 Q780.569 1408.23 779.374 1407.04 Q777.426 1405.09 774.823 1405.24 Q772.237 1405.37 770.044 1407.56 Q768.489 1409.12 767.294 1411.39 Q766.116 1413.65 765.248 1416.71 L761.909 1413.37 Q763.104 1410.57 764.43 1408.43 Q765.756 1406.29 767.196 1404.85 Q770.993 1401.05 775.151 1400.69 Q779.308 1400.33 782.484 1403.5 Q783.99 1405.01 784.775 1406.94 Q785.561 1408.84 785.905 1412.16 Q785.97 1413.05 786.052 1417.51 Q786.117 1421.97 786.199 1430.04 Z\" fill=\"#000000\" fill-rule=\"evenodd\" fill-opacity=\"1\" /><path clip-path=\"url(#clip700)\" d=\"M 0 0 M788.916 1388.36 Q786.363 1390.92 787.591 1394.73 Q788.818 1398.51 793.86 1403.55 Q798.885 1408.58 802.682 1409.82 Q806.479 1411.03 809.033 1408.48 Q811.603 1405.91 810.375 1402.13 Q809.147 1398.31 804.122 1393.29 Q799.081 1388.25 795.284 1387.04 Q791.486 1385.79 788.916 1388.36 M786.298 1385.74 Q790.406 1381.64 795.824 1382.73 Q801.242 1383.8 807.429 1389.98 Q813.6 1396.15 814.68 1401.59 Q815.76 1406.99 811.652 1411.1 Q807.543 1415.21 802.126 1414.14 Q796.708 1413.05 790.537 1406.88 Q784.35 1400.69 783.269 1395.29 Q782.189 1389.85 786.298 1385.74 Z\" fill=\"#000000\" fill-rule=\"evenodd\" fill-opacity=\"1\" /><path clip-path=\"url(#clip700)\" d=\"M 0 0 M810.735 1390.02 L819.558 1381.19 L822.242 1383.88 L813.42 1392.7 L810.735 1390.02 Z\" fill=\"#000000\" fill-rule=\"evenodd\" fill-opacity=\"1\" /><path clip-path=\"url(#clip700)\" d=\"M 0 0 M818.477 1358.8 Q815.924 1361.36 817.151 1365.17 Q818.379 1368.95 823.42 1373.99 Q828.445 1379.02 832.243 1380.26 Q836.04 1381.47 838.594 1378.92 Q841.163 1376.35 839.936 1372.57 Q838.708 1368.75 833.683 1363.73 Q828.642 1358.69 824.844 1357.48 Q821.047 1356.23 818.477 1358.8 M815.858 1356.18 Q819.967 1352.07 825.385 1353.17 Q830.802 1354.24 836.99 1360.42 Q843.16 1366.59 844.241 1372.03 Q845.321 1377.43 841.213 1381.54 Q837.104 1385.65 831.686 1384.58 Q826.268 1383.49 820.098 1377.31 Q813.911 1371.13 812.83 1365.73 Q811.75 1360.29 815.858 1356.18 Z\" fill=\"#000000\" fill-rule=\"evenodd\" fill-opacity=\"1\" /><path clip-path=\"url(#clip700)\" d=\"M 0 0 M840.296 1338.39 L844.994 1359.78 L853.341 1351.44 L840.296 1338.39 M836.548 1336.38 L840.705 1332.22 L856.631 1348.15 L860.118 1344.66 L862.868 1347.41 L859.381 1350.9 L865.143 1356.66 L861.853 1359.95 L856.091 1354.19 L845.059 1365.22 L841.867 1362.03 L836.548 1336.38 Z\" fill=\"#000000\" fill-rule=\"evenodd\" fill-opacity=\"1\" /><path clip-path=\"url(#clip700)\" d=\"M 0 0 M859.741 1341.01 L868.564 1332.19 L871.248 1334.87 L862.426 1343.69 L859.741 1341.01 Z\" fill=\"#000000\" fill-rule=\"evenodd\" fill-opacity=\"1\" /><path clip-path=\"url(#clip700)\" d=\"M 0 0 M880.463 1335.77 L885.865 1330.37 L867.222 1311.73 L862.524 1318.78 L859.512 1315.77 L864.177 1308.75 L867.483 1305.44 L889.138 1327.1 L894.54 1321.7 L897.323 1324.48 L883.246 1338.55 L880.463 1335.77 Z\" fill=\"#000000\" fill-rule=\"evenodd\" fill-opacity=\"1\" /><path clip-path=\"url(#clip700)\" d=\"M 0 0 M894.851 1299.88 Q892.625 1302.1 892.838 1304.93 Q893.067 1307.75 895.718 1310.4 Q898.354 1313.04 901.185 1313.28 Q904.017 1313.5 906.243 1311.27 Q908.469 1309.04 908.24 1306.23 Q908.011 1303.38 905.376 1300.74 Q902.724 1298.09 899.892 1297.88 Q897.077 1297.65 894.851 1299.88 M891.054 1282.95 L894.065 1285.96 Q892.232 1286.62 890.644 1287.58 Q889.073 1288.53 887.829 1289.78 Q884.555 1293.05 885.03 1297 Q885.521 1300.92 889.744 1305.64 Q889.286 1303.25 889.99 1301.04 Q890.677 1298.81 892.428 1297.06 Q896.111 1293.38 900.482 1293.49 Q904.852 1293.58 908.698 1297.42 Q912.463 1301.19 912.512 1305.69 Q912.561 1310.19 908.862 1313.89 Q904.623 1318.13 899.139 1317.13 Q893.64 1316.11 887.469 1309.94 Q881.675 1304.15 880.987 1297.96 Q880.283 1291.76 884.915 1287.13 Q886.159 1285.88 887.665 1284.87 Q889.188 1283.84 891.054 1282.95 Z\" fill=\"#000000\" fill-rule=\"evenodd\" fill-opacity=\"1\" /><path clip-path=\"url(#clip700)\" d=\"M 0 0 M938.143 1467.4 L949.682 1455.87 L952.465 1458.65 L936.948 1474.16 L934.165 1471.38 Q934.1 1467.55 934.067 1461.04 Q934.034 1454.49 933.92 1452.71 Q933.723 1449.33 933.117 1447.48 Q932.512 1445.6 931.317 1444.41 Q929.369 1442.46 926.767 1442.61 Q924.18 1442.74 921.987 1444.93 Q920.432 1446.49 919.237 1448.76 Q918.059 1451.02 917.191 1454.08 L913.852 1450.74 Q915.047 1447.94 916.373 1445.8 Q917.699 1443.65 919.139 1442.21 Q922.937 1438.42 927.094 1438.06 Q931.252 1437.7 934.427 1440.87 Q935.933 1442.38 936.718 1444.31 Q937.504 1446.21 937.848 1449.53 Q937.913 1450.41 937.995 1454.88 Q938.061 1459.34 938.143 1467.4 Z\" fill=\"#000000\" fill-rule=\"evenodd\" fill-opacity=\"1\" /><path clip-path=\"url(#clip700)\" d=\"M 0 0 M940.86 1425.73 Q938.306 1428.28 939.534 1432.1 Q940.761 1435.88 945.803 1440.92 Q950.828 1445.95 954.625 1447.19 Q958.423 1448.4 960.976 1445.85 Q963.546 1443.28 962.318 1439.5 Q961.091 1435.68 956.066 1430.66 Q951.024 1425.62 947.227 1424.41 Q943.429 1423.16 940.86 1425.73 M938.241 1423.11 Q942.349 1419 947.767 1420.1 Q953.185 1421.16 959.372 1427.35 Q965.543 1433.52 966.623 1438.96 Q967.703 1444.36 963.595 1448.47 Q959.487 1452.58 954.069 1451.51 Q948.651 1450.41 942.48 1444.24 Q936.293 1438.06 935.213 1432.66 Q934.132 1427.22 938.241 1423.11 Z\" fill=\"#000000\" fill-rule=\"evenodd\" fill-opacity=\"1\" /><path clip-path=\"url(#clip700)\" d=\"M 0 0 M975.216 1430.33 L986.756 1418.79 L989.538 1421.57 L974.021 1437.09 L971.239 1434.31 Q971.173 1430.48 971.141 1423.96 Q971.108 1417.42 970.993 1415.63 Q970.797 1412.26 970.191 1410.41 Q969.586 1408.53 968.391 1407.33 Q966.443 1405.39 963.84 1405.53 Q961.254 1405.66 959.061 1407.86 Q957.506 1409.41 956.311 1411.69 Q955.133 1413.95 954.265 1417.01 L950.926 1413.67 Q952.121 1410.87 953.447 1408.72 Q954.773 1406.58 956.213 1405.14 Q960.01 1401.34 964.168 1400.98 Q968.325 1400.62 971.501 1403.8 Q973.007 1405.3 973.792 1407.24 Q974.578 1409.13 974.922 1412.46 Q974.987 1413.34 975.069 1417.81 Q975.134 1422.26 975.216 1430.33 Z\" fill=\"#000000\" fill-rule=\"evenodd\" fill-opacity=\"1\" /><path clip-path=\"url(#clip700)\" d=\"M 0 0 M977.933 1388.66 Q975.38 1391.21 976.608 1395.02 Q977.835 1398.81 982.877 1403.85 Q987.902 1408.87 991.699 1410.12 Q995.496 1411.33 998.05 1408.77 Q1000.62 1406.2 999.392 1402.42 Q998.164 1398.61 993.139 1393.58 Q988.098 1388.54 984.301 1387.33 Q980.503 1386.09 977.933 1388.66 M975.315 1386.04 Q979.423 1381.93 984.841 1383.03 Q990.259 1384.09 996.446 1390.28 Q1002.62 1396.45 1003.7 1401.88 Q1004.78 1407.28 1000.67 1411.39 Q996.56 1415.5 991.142 1414.44 Q985.725 1413.34 979.554 1407.17 Q973.367 1400.98 972.286 1395.58 Q971.206 1390.15 975.315 1386.04 Z\" fill=\"#000000\" fill-rule=\"evenodd\" fill-opacity=\"1\" /><path clip-path=\"url(#clip700)\" d=\"M 0 0 M999.752 1390.31 L1008.57 1381.49 L1011.26 1384.17 L1002.44 1393 L999.752 1390.31 Z\" fill=\"#000000\" fill-rule=\"evenodd\" fill-opacity=\"1\" /><path clip-path=\"url(#clip700)\" d=\"M 0 0 M1007.49 1359.1 Q1004.94 1361.65 1006.17 1365.46 Q1007.4 1369.25 1012.44 1374.29 Q1017.46 1379.31 1021.26 1380.56 Q1025.06 1381.77 1027.61 1379.21 Q1030.18 1376.64 1028.95 1372.86 Q1027.73 1369.05 1022.7 1364.02 Q1017.66 1358.98 1013.86 1357.77 Q1010.06 1356.53 1007.49 1359.1 M1004.88 1356.48 Q1008.98 1352.37 1014.4 1353.47 Q1019.82 1354.53 1026.01 1360.72 Q1032.18 1366.89 1033.26 1372.32 Q1034.34 1377.72 1030.23 1381.83 Q1026.12 1385.94 1020.7 1384.88 Q1015.29 1383.78 1009.11 1377.61 Q1002.93 1371.42 1001.85 1366.02 Q1000.77 1360.59 1004.88 1356.48 Z\" fill=\"#000000\" fill-rule=\"evenodd\" fill-opacity=\"1\" /><path clip-path=\"url(#clip700)\" d=\"M 0 0 M1029.31 1338.69 L1034.01 1360.08 L1042.36 1351.73 L1029.31 1338.69 M1025.56 1336.67 L1029.72 1332.51 L1045.65 1348.44 L1049.13 1344.95 L1051.88 1347.7 L1048.4 1351.19 L1054.16 1356.95 L1050.87 1360.24 L1045.11 1354.48 L1034.08 1365.51 L1030.88 1362.32 L1025.56 1336.67 Z\" fill=\"#000000\" fill-rule=\"evenodd\" fill-opacity=\"1\" /><path clip-path=\"url(#clip700)\" d=\"M 0 0 M1048.76 1341.3 L1057.58 1332.48 L1060.27 1335.17 L1051.44 1343.99 L1048.76 1341.3 Z\" fill=\"#000000\" fill-rule=\"evenodd\" fill-opacity=\"1\" /><path clip-path=\"url(#clip700)\" d=\"M 0 0 M1068.53 1316.23 Q1071.41 1314.36 1074.34 1314.64 Q1077.29 1314.9 1079.64 1317.26 Q1083.26 1320.88 1082.75 1325.35 Q1082.25 1329.81 1077.66 1334.4 Q1076.13 1335.94 1074.18 1337.26 Q1072.26 1338.59 1069.92 1339.72 L1066.73 1336.53 Q1068.91 1335.95 1070.95 1334.72 Q1073 1333.5 1074.78 1331.71 Q1077.89 1328.6 1078.29 1325.75 Q1078.7 1322.89 1076.35 1320.55 Q1074.19 1318.39 1071.46 1318.7 Q1068.73 1318.98 1066.03 1321.68 L1063.18 1324.53 L1060.46 1321.81 L1063.44 1318.83 Q1065.88 1316.39 1066.21 1314.13 Q1066.52 1311.86 1064.68 1310.03 Q1062.8 1308.14 1060.46 1308.49 Q1058.12 1308.8 1055.63 1311.29 Q1054.27 1312.64 1053.01 1314.49 Q1051.75 1316.34 1050.51 1318.83 L1047.56 1315.88 Q1048.92 1313.48 1050.3 1311.58 Q1051.69 1309.67 1053.14 1308.21 Q1056.91 1304.44 1060.82 1303.97 Q1064.72 1303.48 1067.63 1306.39 Q1069.66 1308.42 1069.91 1310.99 Q1070.14 1313.54 1068.53 1316.23 Z\" fill=\"#000000\" fill-rule=\"evenodd\" fill-opacity=\"1\" /><path clip-path=\"url(#clip700)\" d=\"M 0 0 M1075.14 1291.45 Q1072.59 1294 1073.82 1297.81 Q1075.05 1301.6 1080.09 1306.64 Q1085.11 1311.66 1088.91 1312.91 Q1092.71 1314.12 1095.26 1311.56 Q1097.83 1308.99 1096.6 1305.21 Q1095.37 1301.4 1090.35 1296.37 Q1085.31 1291.33 1081.51 1290.12 Q1077.71 1288.88 1075.14 1291.45 M1072.52 1288.83 Q1076.63 1284.72 1082.05 1285.82 Q1087.47 1286.88 1093.66 1293.07 Q1099.83 1299.24 1100.91 1304.67 Q1101.99 1310.07 1097.88 1314.18 Q1093.77 1318.29 1088.35 1317.23 Q1082.93 1316.13 1076.76 1309.96 Q1070.58 1303.77 1069.5 1298.37 Q1068.42 1292.94 1072.52 1288.83 Z\" fill=\"#000000\" fill-rule=\"evenodd\" fill-opacity=\"1\" /><path clip-path=\"url(#clip700)\" d=\"M 0 0 M1128.57 1466.29 L1140.11 1454.75 L1142.89 1457.53 L1127.37 1473.05 L1124.59 1470.27 Q1124.52 1466.44 1124.49 1459.92 Q1124.46 1453.38 1124.34 1451.59 Q1124.15 1448.22 1123.54 1446.37 Q1122.94 1444.49 1121.74 1443.29 Q1119.79 1441.35 1117.19 1441.49 Q1114.61 1441.62 1112.41 1443.82 Q1110.86 1445.37 1109.66 1447.65 Q1108.48 1449.91 1107.62 1452.97 L1104.28 1449.63 Q1105.47 1446.83 1106.8 1444.69 Q1108.12 1442.54 1109.56 1441.1 Q1113.36 1437.3 1117.52 1436.94 Q1121.68 1436.58 1124.85 1439.76 Q1126.36 1441.26 1127.14 1443.2 Q1127.93 1445.09 1128.27 1448.42 Q1128.34 1449.3 1128.42 1453.77 Q1128.49 1458.22 1128.57 1466.29 Z\" fill=\"#000000\" fill-rule=\"evenodd\" fill-opacity=\"1\" /><path clip-path=\"url(#clip700)\" d=\"M 0 0 M1131.28 1424.62 Q1128.73 1427.17 1129.96 1430.99 Q1131.19 1434.77 1136.23 1439.81 Q1141.25 1444.83 1145.05 1446.08 Q1148.85 1447.29 1151.4 1444.73 Q1153.97 1442.16 1152.74 1438.38 Q1151.52 1434.57 1146.49 1429.55 Q1141.45 1424.5 1137.65 1423.29 Q1133.85 1422.05 1131.28 1424.62 M1128.67 1422 Q1132.77 1417.89 1138.19 1418.99 Q1143.61 1420.05 1149.8 1426.24 Q1155.97 1432.41 1157.05 1437.84 Q1158.13 1443.25 1154.02 1447.35 Q1149.91 1451.46 1144.49 1450.4 Q1139.08 1449.3 1132.9 1443.13 Q1126.72 1436.94 1125.64 1431.54 Q1124.56 1426.11 1128.67 1422 Z\" fill=\"#000000\" fill-rule=\"evenodd\" fill-opacity=\"1\" /><path clip-path=\"url(#clip700)\" d=\"M 0 0 M1165.64 1429.22 L1177.18 1417.68 L1179.96 1420.46 L1164.45 1435.98 L1161.66 1433.2 Q1161.6 1429.37 1161.57 1422.85 Q1161.53 1416.3 1161.42 1414.52 Q1161.22 1411.15 1160.62 1409.3 Q1160.01 1407.42 1158.82 1406.22 Q1156.87 1404.27 1154.27 1404.42 Q1151.68 1404.55 1149.49 1406.74 Q1147.93 1408.3 1146.74 1410.57 Q1145.56 1412.83 1144.69 1415.89 L1141.35 1412.56 Q1142.55 1409.76 1143.87 1407.61 Q1145.2 1405.47 1146.64 1404.03 Q1150.43 1400.23 1154.59 1399.87 Q1158.75 1399.51 1161.93 1402.69 Q1163.43 1404.19 1164.22 1406.12 Q1165 1408.02 1165.35 1411.34 Q1165.41 1412.23 1165.49 1416.7 Q1165.56 1421.15 1165.64 1429.22 Z\" fill=\"#000000\" fill-rule=\"evenodd\" fill-opacity=\"1\" /><path clip-path=\"url(#clip700)\" d=\"M 0 0 M1168.36 1387.54 Q1165.8 1390.1 1167.03 1393.91 Q1168.26 1397.69 1173.3 1402.73 Q1178.33 1407.76 1182.12 1409 Q1185.92 1410.21 1188.47 1407.66 Q1191.04 1405.09 1189.82 1401.31 Q1188.59 1397.5 1183.56 1392.47 Q1178.52 1387.43 1174.73 1386.22 Q1170.93 1384.97 1168.36 1387.54 M1165.74 1384.93 Q1169.85 1380.82 1175.27 1381.91 Q1180.68 1382.98 1186.87 1389.17 Q1193.04 1395.34 1194.12 1400.77 Q1195.2 1406.17 1191.09 1410.28 Q1186.98 1414.39 1181.57 1413.32 Q1176.15 1412.23 1169.98 1406.06 Q1163.79 1399.87 1162.71 1394.47 Q1161.63 1389.03 1165.74 1384.93 Z\" fill=\"#000000\" fill-rule=\"evenodd\" fill-opacity=\"1\" /><path clip-path=\"url(#clip700)\" d=\"M 0 0 M1190.18 1389.2 L1199 1380.38 L1201.68 1383.06 L1192.86 1391.88 L1190.18 1389.2 Z\" fill=\"#000000\" fill-rule=\"evenodd\" fill-opacity=\"1\" /><path clip-path=\"url(#clip700)\" d=\"M 0 0 M1197.92 1357.98 Q1195.37 1360.54 1196.59 1364.35 Q1197.82 1368.13 1202.86 1373.17 Q1207.89 1378.2 1211.68 1379.44 Q1215.48 1380.65 1218.04 1378.1 Q1220.61 1375.53 1219.38 1371.75 Q1218.15 1367.94 1213.12 1362.91 Q1208.08 1357.87 1204.29 1356.66 Q1200.49 1355.41 1197.92 1357.98 M1195.3 1355.36 Q1199.41 1351.26 1204.83 1352.35 Q1210.24 1353.42 1216.43 1359.6 Q1222.6 1365.77 1223.68 1371.21 Q1224.76 1376.61 1220.65 1380.72 Q1216.55 1384.83 1211.13 1383.76 Q1205.71 1382.67 1199.54 1376.5 Q1193.35 1370.31 1192.27 1364.91 Q1191.19 1359.47 1195.3 1355.36 Z\" fill=\"#000000\" fill-rule=\"evenodd\" fill-opacity=\"1\" /><path clip-path=\"url(#clip700)\" d=\"M 0 0 M1207.81 1343.74 L1220.79 1330.76 L1223.57 1333.55 L1213.62 1343.5 L1219.61 1349.49 Q1220.08 1348.52 1220.69 1347.69 Q1221.28 1346.84 1222 1346.12 Q1226.09 1342.02 1230.72 1341.88 Q1235.35 1341.73 1239.18 1345.56 Q1243.13 1349.51 1242.87 1354.15 Q1242.59 1358.79 1238.12 1363.25 Q1236.58 1364.79 1234.71 1366.14 Q1232.86 1367.46 1230.64 1368.64 L1227.32 1365.32 Q1229.59 1364.65 1231.56 1363.47 Q1233.52 1362.29 1235.27 1360.54 Q1238.1 1357.71 1238.27 1354.56 Q1238.43 1351.42 1235.88 1348.87 Q1233.32 1346.31 1230.18 1346.48 Q1227.04 1346.64 1224.21 1349.47 Q1222.88 1350.8 1221.85 1352.42 Q1220.83 1354.02 1220.08 1356.02 L1207.81 1343.74 Z\" fill=\"#000000\" fill-rule=\"evenodd\" fill-opacity=\"1\" /><path clip-path=\"url(#clip700)\" d=\"M 0 0 M1238.14 1341.24 L1246.96 1332.42 L1249.64 1335.1 L1240.82 1343.92 L1238.14 1341.24 Z\" fill=\"#000000\" fill-rule=\"evenodd\" fill-opacity=\"1\" /><path clip-path=\"url(#clip700)\" d=\"M 0 0 M1258.86 1336 L1264.26 1330.6 L1245.62 1311.96 L1240.92 1319.01 L1237.91 1316 L1242.57 1308.98 L1245.88 1305.67 L1267.53 1327.33 L1272.93 1321.92 L1275.72 1324.71 L1261.64 1338.78 L1258.86 1336 Z\" fill=\"#000000\" fill-rule=\"evenodd\" fill-opacity=\"1\" /><path clip-path=\"url(#clip700)\" d=\"M 0 0 M1266.83 1290.48 L1271.53 1311.87 L1279.87 1303.53 L1266.83 1290.48 M1263.08 1288.47 L1267.24 1284.31 L1283.16 1300.24 L1286.65 1296.75 L1289.4 1299.5 L1285.91 1302.99 L1291.68 1308.75 L1288.39 1312.04 L1282.62 1306.28 L1271.59 1317.31 L1268.4 1314.12 L1263.08 1288.47 Z\" fill=\"#000000\" fill-rule=\"evenodd\" fill-opacity=\"1\" /><path clip-path=\"url(#clip700)\" d=\"M 0 0 M1318.55 1465.62 L1330.09 1454.08 L1332.87 1456.86 L1317.35 1472.38 L1314.57 1469.6 Q1314.51 1465.77 1314.47 1459.25 Q1314.44 1452.71 1314.33 1450.92 Q1314.13 1447.55 1313.52 1445.7 Q1312.92 1443.82 1311.72 1442.62 Q1309.78 1440.68 1307.17 1440.82 Q1304.59 1440.95 1302.39 1443.15 Q1300.84 1444.7 1299.64 1446.98 Q1298.47 1449.24 1297.6 1452.3 L1294.26 1448.96 Q1295.45 1446.16 1296.78 1444.01 Q1298.11 1441.87 1299.55 1440.43 Q1303.34 1436.63 1307.5 1436.27 Q1311.66 1435.91 1314.83 1439.09 Q1316.34 1440.59 1317.13 1442.53 Q1317.91 1444.42 1318.26 1447.75 Q1318.32 1448.63 1318.4 1453.1 Q1318.47 1457.55 1318.55 1465.62 Z\" fill=\"#000000\" fill-rule=\"evenodd\" fill-opacity=\"1\" /><path clip-path=\"url(#clip700)\" d=\"M 0 0 M1321.27 1423.95 Q1318.71 1426.5 1319.94 1430.31 Q1321.17 1434.1 1326.21 1439.14 Q1331.24 1444.16 1335.03 1445.41 Q1338.83 1446.62 1341.38 1444.06 Q1343.95 1441.49 1342.73 1437.71 Q1341.5 1433.9 1336.47 1428.87 Q1331.43 1423.83 1327.63 1422.62 Q1323.84 1421.38 1321.27 1423.95 M1318.65 1421.33 Q1322.76 1417.22 1328.17 1418.32 Q1333.59 1419.38 1339.78 1425.57 Q1345.95 1431.74 1347.03 1437.17 Q1348.11 1442.57 1344 1446.68 Q1339.89 1450.79 1334.48 1449.73 Q1329.06 1448.63 1322.89 1442.46 Q1316.7 1436.27 1315.62 1430.87 Q1314.54 1425.44 1318.65 1421.33 Z\" fill=\"#000000\" fill-rule=\"evenodd\" fill-opacity=\"1\" /><path clip-path=\"url(#clip700)\" d=\"M 0 0 M1355.62 1428.55 L1367.16 1417.01 L1369.95 1419.79 L1354.43 1435.31 L1351.65 1432.52 Q1351.58 1428.69 1351.55 1422.18 Q1351.52 1415.63 1351.4 1413.85 Q1351.2 1410.48 1350.6 1408.63 Q1349.99 1406.74 1348.8 1405.55 Q1346.85 1403.6 1344.25 1403.75 Q1341.66 1403.88 1339.47 1406.07 Q1337.91 1407.63 1336.72 1409.9 Q1335.54 1412.16 1334.67 1415.22 L1331.33 1411.88 Q1332.53 1409.09 1333.85 1406.94 Q1335.18 1404.8 1336.62 1403.36 Q1340.42 1399.56 1344.58 1399.2 Q1348.73 1398.84 1351.91 1402.01 Q1353.41 1403.52 1354.2 1405.45 Q1354.99 1407.35 1355.33 1410.67 Q1355.39 1411.56 1355.48 1416.03 Q1355.54 1420.48 1355.62 1428.55 Z\" fill=\"#000000\" fill-rule=\"evenodd\" fill-opacity=\"1\" /><path clip-path=\"url(#clip700)\" d=\"M 0 0 M1358.34 1386.87 Q1355.79 1389.43 1357.01 1393.24 Q1358.24 1397.02 1363.28 1402.06 Q1368.31 1407.09 1372.11 1408.33 Q1375.9 1409.54 1378.46 1406.99 Q1381.03 1404.42 1379.8 1400.64 Q1378.57 1396.83 1373.55 1391.8 Q1368.51 1386.76 1364.71 1385.55 Q1360.91 1384.3 1358.34 1386.87 M1355.72 1384.25 Q1359.83 1380.15 1365.25 1381.24 Q1370.67 1382.31 1376.85 1388.49 Q1383.02 1394.66 1384.1 1400.1 Q1385.18 1405.5 1381.08 1409.61 Q1376.97 1413.72 1371.55 1412.65 Q1366.13 1411.56 1359.96 1405.39 Q1353.77 1399.2 1352.69 1393.8 Q1351.61 1388.36 1355.72 1384.25 Z\" fill=\"#000000\" fill-rule=\"evenodd\" fill-opacity=\"1\" /><path clip-path=\"url(#clip700)\" d=\"M 0 0 M1380.16 1388.53 L1388.98 1379.7 L1391.67 1382.39 L1382.84 1391.21 L1380.16 1388.53 Z\" fill=\"#000000\" fill-rule=\"evenodd\" fill-opacity=\"1\" /><path clip-path=\"url(#clip700)\" d=\"M 0 0 M1387.9 1357.31 Q1385.35 1359.87 1386.58 1363.68 Q1387.8 1367.46 1392.84 1372.5 Q1397.87 1377.53 1401.67 1378.77 Q1405.46 1379.98 1408.02 1377.43 Q1410.59 1374.86 1409.36 1371.08 Q1408.13 1367.26 1403.11 1362.24 Q1398.07 1357.2 1394.27 1355.99 Q1390.47 1354.74 1387.9 1357.31 M1385.28 1354.69 Q1389.39 1350.59 1394.81 1351.68 Q1400.23 1352.75 1406.41 1358.93 Q1412.58 1365.1 1413.67 1370.54 Q1414.75 1375.94 1410.64 1380.05 Q1406.53 1384.16 1401.11 1383.09 Q1395.69 1382 1389.52 1375.82 Q1383.33 1369.64 1382.25 1364.24 Q1381.17 1358.8 1385.28 1354.69 Z\" fill=\"#000000\" fill-rule=\"evenodd\" fill-opacity=\"1\" /><path clip-path=\"url(#clip700)\" d=\"M 0 0 M1397.79 1343.07 L1410.77 1330.09 L1413.55 1332.88 L1403.6 1342.83 L1409.59 1348.82 Q1410.06 1347.85 1410.67 1347.02 Q1411.26 1346.17 1411.98 1345.45 Q1416.07 1341.35 1420.7 1341.21 Q1425.34 1341.06 1429.17 1344.89 Q1433.11 1348.83 1432.85 1353.48 Q1432.57 1358.11 1428.1 1362.58 Q1426.56 1364.12 1424.7 1365.46 Q1422.85 1366.79 1420.62 1367.97 L1417.3 1364.65 Q1419.57 1363.97 1421.54 1362.8 Q1423.5 1361.62 1425.25 1359.87 Q1428.09 1357.03 1428.25 1353.89 Q1428.41 1350.75 1425.86 1348.2 Q1423.31 1345.64 1420.16 1345.81 Q1417.02 1345.97 1414.19 1348.8 Q1412.86 1350.13 1411.83 1351.75 Q1410.82 1353.35 1410.06 1355.35 L1397.79 1343.07 Z\" fill=\"#000000\" fill-rule=\"evenodd\" fill-opacity=\"1\" /><path clip-path=\"url(#clip700)\" d=\"M 0 0 M1428.12 1340.57 L1436.94 1331.75 L1439.62 1334.43 L1430.8 1343.25 L1428.12 1340.57 Z\" fill=\"#000000\" fill-rule=\"evenodd\" fill-opacity=\"1\" /><path clip-path=\"url(#clip700)\" d=\"M 0 0 M1451.12 1333.06 L1462.65 1321.52 L1465.44 1324.3 L1449.92 1339.82 L1447.14 1337.03 Q1447.07 1333.2 1447.04 1326.69 Q1447.01 1320.14 1446.89 1318.36 Q1446.7 1314.98 1446.09 1313.14 Q1445.48 1311.25 1444.29 1310.06 Q1442.34 1308.11 1439.74 1308.26 Q1437.15 1308.39 1434.96 1310.58 Q1433.4 1312.14 1432.21 1314.41 Q1431.03 1316.67 1430.16 1319.73 L1426.83 1316.39 Q1428.02 1313.59 1429.35 1311.45 Q1430.67 1309.3 1432.11 1307.86 Q1435.91 1304.07 1440.07 1303.71 Q1444.22 1303.35 1447.4 1306.52 Q1448.91 1308.03 1449.69 1309.96 Q1450.48 1311.86 1450.82 1315.18 Q1450.89 1316.06 1450.97 1320.53 Q1451.03 1324.99 1451.12 1333.06 Z\" fill=\"#000000\" fill-rule=\"evenodd\" fill-opacity=\"1\" /><path clip-path=\"url(#clip700)\" d=\"M 0 0 M1464.49 1302.04 Q1462.13 1304.39 1462.03 1307.01 Q1461.95 1309.62 1464.16 1311.83 Q1466.37 1314.04 1468.97 1313.95 Q1471.59 1313.86 1473.95 1311.5 Q1476.31 1309.14 1476.4 1306.52 Q1476.49 1303.89 1474.29 1301.69 Q1472.08 1299.48 1469.46 1299.58 Q1466.86 1299.66 1464.49 1302.04 M1459.77 1303.94 Q1457.12 1305.54 1454.47 1305.28 Q1451.84 1305 1449.74 1302.9 Q1446.81 1299.98 1447.19 1296.19 Q1447.58 1292.4 1451.21 1288.76 Q1454.86 1285.11 1458.64 1284.74 Q1462.43 1284.36 1465.36 1287.29 Q1467.45 1289.38 1467.71 1292.04 Q1467.99 1294.67 1466.4 1297.31 Q1469.35 1295.47 1472.3 1295.77 Q1475.26 1296.05 1477.6 1298.39 Q1481.15 1301.94 1480.87 1306.01 Q1480.61 1310.07 1476.57 1314.12 Q1472.52 1318.16 1468.45 1318.44 Q1464.39 1318.7 1460.84 1315.15 Q1458.5 1312.81 1458.22 1309.85 Q1457.94 1306.88 1459.77 1303.94 M1453.34 1299.93 Q1455.24 1301.82 1457.48 1301.71 Q1459.74 1301.58 1461.89 1299.43 Q1464.01 1297.31 1464.14 1295.05 Q1464.29 1292.77 1462.39 1290.87 Q1460.49 1288.98 1458.22 1289.12 Q1455.96 1289.25 1453.83 1291.38 Q1451.69 1293.53 1451.56 1295.78 Q1451.44 1298.03 1453.34 1299.93 Z\" fill=\"#000000\" fill-rule=\"evenodd\" fill-opacity=\"1\" /><path clip-path=\"url(#clip700)\" d=\"M 0 0 M1507.58 1465.9 L1519.12 1454.36 L1521.91 1457.14 L1506.39 1472.66 L1503.61 1469.88 Q1503.54 1466.05 1503.51 1459.53 Q1503.47 1452.98 1503.36 1451.2 Q1503.16 1447.83 1502.56 1445.98 Q1501.95 1444.1 1500.76 1442.9 Q1498.81 1440.95 1496.21 1441.1 Q1493.62 1441.23 1491.43 1443.43 Q1489.87 1444.98 1488.68 1447.26 Q1487.5 1449.51 1486.63 1452.58 L1483.29 1449.24 Q1484.49 1446.44 1485.81 1444.29 Q1487.14 1442.15 1488.58 1440.71 Q1492.38 1436.91 1496.53 1436.55 Q1500.69 1436.19 1503.87 1439.37 Q1505.37 1440.87 1506.16 1442.8 Q1506.94 1444.7 1507.29 1448.02 Q1507.35 1448.91 1507.44 1453.38 Q1507.5 1457.83 1507.58 1465.9 Z\" fill=\"#000000\" fill-rule=\"evenodd\" fill-opacity=\"1\" /><path clip-path=\"url(#clip700)\" d=\"M 0 0 M1510.3 1424.23 Q1507.75 1426.78 1508.97 1430.59 Q1510.2 1434.37 1515.24 1439.42 Q1520.27 1444.44 1524.07 1445.68 Q1527.86 1446.9 1530.42 1444.34 Q1532.99 1441.77 1531.76 1437.99 Q1530.53 1434.18 1525.51 1429.15 Q1520.46 1424.11 1516.67 1422.9 Q1512.87 1421.66 1510.3 1424.23 M1507.68 1421.61 Q1511.79 1417.5 1517.21 1418.59 Q1522.63 1419.66 1528.81 1425.85 Q1534.98 1432.02 1536.06 1437.45 Q1537.14 1442.85 1533.04 1446.96 Q1528.93 1451.07 1523.51 1450.01 Q1518.09 1448.91 1511.92 1442.74 Q1505.73 1436.55 1504.65 1431.15 Q1503.57 1425.72 1507.68 1421.61 Z\" fill=\"#000000\" fill-rule=\"evenodd\" fill-opacity=\"1\" /><path clip-path=\"url(#clip700)\" d=\"M 0 0 M1544.66 1428.82 L1556.2 1417.29 L1558.98 1420.07 L1543.46 1435.59 L1540.68 1432.8 Q1540.61 1428.97 1540.58 1422.46 Q1540.55 1415.91 1540.43 1414.13 Q1540.24 1410.75 1539.63 1408.9 Q1539.03 1407.02 1537.83 1405.83 Q1535.88 1403.88 1533.28 1404.03 Q1530.7 1404.16 1528.5 1406.35 Q1526.95 1407.91 1525.75 1410.18 Q1524.57 1412.44 1523.71 1415.5 L1520.37 1412.16 Q1521.56 1409.36 1522.89 1407.22 Q1524.21 1405.07 1525.65 1403.63 Q1529.45 1399.84 1533.61 1399.48 Q1537.77 1399.12 1540.94 1402.29 Q1542.45 1403.8 1543.23 1405.73 Q1544.02 1407.63 1544.36 1410.95 Q1544.43 1411.83 1544.51 1416.3 Q1544.58 1420.76 1544.66 1428.82 Z\" fill=\"#000000\" fill-rule=\"evenodd\" fill-opacity=\"1\" /><path clip-path=\"url(#clip700)\" d=\"M 0 0 M1547.37 1387.15 Q1544.82 1389.71 1546.05 1393.52 Q1547.28 1397.3 1552.32 1402.34 Q1557.34 1407.37 1561.14 1408.61 Q1564.94 1409.82 1567.49 1407.27 Q1570.06 1404.7 1568.83 1400.92 Q1567.61 1397.1 1562.58 1392.08 Q1557.54 1387.04 1553.74 1385.83 Q1549.94 1384.58 1547.37 1387.15 M1544.76 1384.53 Q1548.86 1380.42 1554.28 1381.52 Q1559.7 1382.59 1565.89 1388.77 Q1572.06 1394.94 1573.14 1400.38 Q1574.22 1405.78 1570.11 1409.89 Q1566 1414 1560.58 1412.93 Q1555.17 1411.83 1548.99 1405.66 Q1542.81 1399.48 1541.73 1394.08 Q1540.65 1388.64 1544.76 1384.53 Z\" fill=\"#000000\" fill-rule=\"evenodd\" fill-opacity=\"1\" /><path clip-path=\"url(#clip700)\" d=\"M 0 0 M1569.19 1388.8 L1578.02 1379.98 L1580.7 1382.67 L1571.88 1391.49 L1569.19 1388.8 Z\" fill=\"#000000\" fill-rule=\"evenodd\" fill-opacity=\"1\" /><path clip-path=\"url(#clip700)\" d=\"M 0 0 M1576.93 1357.59 Q1574.38 1360.14 1575.61 1363.96 Q1576.84 1367.74 1581.88 1372.78 Q1586.9 1377.81 1590.7 1379.05 Q1594.5 1380.26 1597.05 1377.71 Q1599.62 1375.14 1598.39 1371.36 Q1597.17 1367.54 1592.14 1362.52 Q1587.1 1357.48 1583.3 1356.27 Q1579.5 1355.02 1576.93 1357.59 M1574.32 1354.97 Q1578.42 1350.86 1583.84 1351.96 Q1589.26 1353.02 1595.45 1359.21 Q1601.62 1365.38 1602.7 1370.82 Q1603.78 1376.22 1599.67 1380.33 Q1595.56 1384.43 1590.14 1383.37 Q1584.73 1382.27 1578.56 1376.1 Q1572.37 1369.92 1571.29 1364.51 Q1570.21 1359.08 1574.32 1354.97 Z\" fill=\"#000000\" fill-rule=\"evenodd\" fill-opacity=\"1\" /><path clip-path=\"url(#clip700)\" d=\"M 0 0 M1605.17 1346.8 Q1602.94 1349.03 1603.16 1351.86 Q1603.39 1354.68 1606.04 1357.33 Q1608.67 1359.96 1611.5 1360.21 Q1614.34 1360.42 1616.56 1358.2 Q1618.79 1355.97 1618.56 1353.16 Q1618.33 1350.31 1615.69 1347.67 Q1613.04 1345.02 1610.21 1344.81 Q1607.4 1344.58 1605.17 1346.8 M1601.37 1329.88 L1604.38 1332.89 Q1602.55 1333.55 1600.96 1334.51 Q1599.39 1335.46 1598.15 1336.71 Q1594.87 1339.98 1595.35 1343.92 Q1595.84 1347.85 1600.06 1352.57 Q1599.6 1350.18 1600.31 1347.97 Q1601 1345.74 1602.75 1343.99 Q1606.43 1340.31 1610.8 1340.42 Q1615.17 1340.5 1619.02 1344.35 Q1622.78 1348.11 1622.83 1352.61 Q1622.88 1357.12 1619.18 1360.82 Q1614.94 1365.05 1609.46 1364.06 Q1603.96 1363.04 1597.79 1356.87 Q1591.99 1351.08 1591.31 1344.89 Q1590.6 1338.69 1595.23 1334.05 Q1596.48 1332.81 1597.98 1331.79 Q1599.51 1330.76 1601.37 1329.88 Z\" fill=\"#000000\" fill-rule=\"evenodd\" fill-opacity=\"1\" /><path clip-path=\"url(#clip700)\" d=\"M 0 0 M1617.97 1340.03 L1626.79 1331.21 L1629.48 1333.89 L1620.65 1342.71 L1617.97 1340.03 Z\" fill=\"#000000\" fill-rule=\"evenodd\" fill-opacity=\"1\" /><path clip-path=\"url(#clip700)\" d=\"M 0 0 M1638.69 1334.79 L1644.09 1329.39 L1625.45 1310.75 L1620.75 1317.8 L1617.74 1314.79 L1622.41 1307.77 L1625.71 1304.46 L1647.37 1326.11 L1652.77 1320.71 L1655.55 1323.5 L1641.47 1337.57 L1638.69 1334.79 Z\" fill=\"#000000\" fill-rule=\"evenodd\" fill-opacity=\"1\" /><path clip-path=\"url(#clip700)\" d=\"M 0 0 M1656.93 1316.56 L1662.33 1311.15 L1643.68 1292.51 L1638.99 1299.57 L1635.97 1296.55 L1640.64 1289.53 L1643.95 1286.23 L1665.6 1307.88 L1671 1302.48 L1673.79 1305.26 L1659.71 1319.34 L1656.93 1316.56 Z\" fill=\"#000000\" fill-rule=\"evenodd\" fill-opacity=\"1\" /><path clip-path=\"url(#clip700)\" d=\"M 0 0 M1696.99 1465.8 L1708.53 1454.26 L1711.32 1457.04 L1695.8 1472.56 L1693.02 1469.78 Q1692.95 1465.95 1692.92 1459.43 Q1692.88 1452.89 1692.77 1451.1 Q1692.57 1447.73 1691.97 1445.88 Q1691.36 1444 1690.17 1442.8 Q1688.22 1440.86 1685.62 1441 Q1683.03 1441.13 1680.84 1443.33 Q1679.28 1444.88 1678.09 1447.16 Q1676.91 1449.42 1676.04 1452.48 L1672.7 1449.14 Q1673.9 1446.34 1675.22 1444.19 Q1676.55 1442.05 1677.99 1440.61 Q1681.79 1436.81 1685.94 1436.45 Q1690.1 1436.09 1693.28 1439.27 Q1694.78 1440.77 1695.57 1442.71 Q1696.35 1444.6 1696.7 1447.93 Q1696.76 1448.81 1696.85 1453.28 Q1696.91 1457.73 1696.99 1465.8 Z\" fill=\"#000000\" fill-rule=\"evenodd\" fill-opacity=\"1\" /><path clip-path=\"url(#clip700)\" d=\"M 0 0 M1699.71 1424.13 Q1697.16 1426.68 1698.38 1430.49 Q1699.61 1434.28 1704.65 1439.32 Q1709.68 1444.34 1713.48 1445.59 Q1717.27 1446.8 1719.83 1444.24 Q1722.4 1441.67 1721.17 1437.89 Q1719.94 1434.08 1714.92 1429.05 Q1709.87 1424.01 1706.08 1422.8 Q1702.28 1421.56 1699.71 1424.13 M1697.09 1421.51 Q1701.2 1417.4 1706.62 1418.5 Q1712.04 1419.56 1718.22 1425.75 Q1724.39 1431.92 1725.47 1437.35 Q1726.55 1442.75 1722.45 1446.86 Q1718.34 1450.97 1712.92 1449.91 Q1707.5 1448.81 1701.33 1442.64 Q1695.14 1436.45 1694.06 1431.05 Q1692.98 1425.62 1697.09 1421.51 Z\" fill=\"#000000\" fill-rule=\"evenodd\" fill-opacity=\"1\" /><path clip-path=\"url(#clip700)\" d=\"M 0 0 M1734.07 1428.73 L1745.61 1417.19 L1748.39 1419.97 L1732.87 1435.49 L1730.09 1432.7 Q1730.02 1428.87 1729.99 1422.36 Q1729.96 1415.81 1729.84 1414.03 Q1729.65 1410.66 1729.04 1408.81 Q1728.44 1406.92 1727.24 1405.73 Q1725.29 1403.78 1722.69 1403.93 Q1720.1 1404.06 1717.91 1406.25 Q1716.36 1407.81 1715.16 1410.08 Q1713.98 1412.34 1713.12 1415.4 L1709.78 1412.06 Q1710.97 1409.27 1712.3 1407.12 Q1713.62 1404.98 1715.06 1403.54 Q1718.86 1399.74 1723.02 1399.38 Q1727.18 1399.02 1730.35 1402.19 Q1731.86 1403.7 1732.64 1405.63 Q1733.43 1407.53 1733.77 1410.85 Q1733.84 1411.74 1733.92 1416.21 Q1733.99 1420.66 1734.07 1428.73 Z\" fill=\"#000000\" fill-rule=\"evenodd\" fill-opacity=\"1\" /><path clip-path=\"url(#clip700)\" d=\"M 0 0 M1736.78 1387.05 Q1734.23 1389.61 1735.46 1393.42 Q1736.69 1397.2 1741.73 1402.24 Q1746.75 1407.27 1750.55 1408.51 Q1754.35 1409.72 1756.9 1407.17 Q1759.47 1404.6 1758.24 1400.82 Q1757.01 1397.01 1751.99 1391.98 Q1746.95 1386.94 1743.15 1385.73 Q1739.35 1384.48 1736.78 1387.05 M1734.17 1384.43 Q1738.27 1380.33 1743.69 1381.42 Q1749.11 1382.49 1755.3 1388.67 Q1761.47 1394.84 1762.55 1400.28 Q1763.63 1405.68 1759.52 1409.79 Q1755.41 1413.9 1749.99 1412.83 Q1744.58 1411.74 1738.4 1405.57 Q1732.22 1399.38 1731.14 1393.98 Q1730.06 1388.54 1734.17 1384.43 Z\" fill=\"#000000\" fill-rule=\"evenodd\" fill-opacity=\"1\" /><path clip-path=\"url(#clip700)\" d=\"M 0 0 M1758.6 1388.71 L1767.43 1379.88 L1770.11 1382.57 L1761.29 1391.39 L1758.6 1388.71 Z\" fill=\"#000000\" fill-rule=\"evenodd\" fill-opacity=\"1\" /><path clip-path=\"url(#clip700)\" d=\"M 0 0 M1766.34 1357.49 Q1763.79 1360.05 1765.02 1363.86 Q1766.25 1367.64 1771.29 1372.68 Q1776.31 1377.71 1780.11 1378.95 Q1783.91 1380.16 1786.46 1377.61 Q1789.03 1375.04 1787.8 1371.26 Q1786.58 1367.44 1781.55 1362.42 Q1776.51 1357.38 1772.71 1356.17 Q1768.91 1354.92 1766.34 1357.49 M1763.73 1354.87 Q1767.83 1350.77 1773.25 1351.86 Q1778.67 1352.93 1784.86 1359.11 Q1791.03 1365.28 1792.11 1370.72 Q1793.19 1376.12 1789.08 1380.23 Q1784.97 1384.34 1779.55 1383.27 Q1774.14 1382.18 1767.97 1376.01 Q1761.78 1369.82 1760.7 1364.42 Q1759.62 1358.98 1763.73 1354.87 Z\" fill=\"#000000\" fill-rule=\"evenodd\" fill-opacity=\"1\" /><path clip-path=\"url(#clip700)\" d=\"M 0 0 M1794.58 1346.71 Q1792.35 1348.93 1792.57 1351.76 Q1792.8 1354.58 1795.45 1357.23 Q1798.08 1359.87 1800.91 1360.11 Q1803.75 1360.32 1805.97 1358.1 Q1808.2 1355.87 1807.97 1353.06 Q1807.74 1350.21 1805.1 1347.57 Q1802.45 1344.92 1799.62 1344.71 Q1796.81 1344.48 1794.58 1346.71 M1790.78 1329.78 L1793.79 1332.79 Q1791.96 1333.45 1790.37 1334.41 Q1788.8 1335.36 1787.56 1336.61 Q1784.28 1339.88 1784.76 1343.83 Q1785.25 1347.75 1789.47 1352.47 Q1789.01 1350.08 1789.72 1347.87 Q1790.41 1345.64 1792.16 1343.89 Q1795.84 1340.21 1800.21 1340.32 Q1804.58 1340.4 1808.43 1344.25 Q1812.19 1348.02 1812.24 1352.52 Q1812.29 1357.02 1808.59 1360.72 Q1804.35 1364.96 1798.87 1363.96 Q1793.37 1362.94 1787.2 1356.77 Q1781.4 1350.98 1780.72 1344.79 Q1780.01 1338.59 1784.64 1333.96 Q1785.89 1332.71 1787.39 1331.7 Q1788.92 1330.67 1790.78 1329.78 Z\" fill=\"#000000\" fill-rule=\"evenodd\" fill-opacity=\"1\" /><path clip-path=\"url(#clip700)\" d=\"M 0 0 M1807.38 1339.93 L1816.2 1331.11 L1818.89 1333.79 L1810.06 1342.61 L1807.38 1339.93 Z\" fill=\"#000000\" fill-rule=\"evenodd\" fill-opacity=\"1\" /><path clip-path=\"url(#clip700)\" d=\"M 0 0 M1830.38 1332.42 L1841.92 1320.88 L1844.7 1323.66 L1829.18 1339.18 L1826.4 1336.39 Q1826.33 1332.56 1826.3 1326.05 Q1826.27 1319.5 1826.15 1317.72 Q1825.96 1314.35 1825.35 1312.5 Q1824.75 1310.61 1823.55 1309.42 Q1821.6 1307.47 1819 1307.62 Q1816.41 1307.75 1814.22 1309.94 Q1812.67 1311.5 1811.47 1313.77 Q1810.29 1316.03 1809.43 1319.09 L1806.09 1315.75 Q1807.28 1312.96 1808.61 1310.81 Q1809.93 1308.67 1811.37 1307.23 Q1815.17 1303.43 1819.33 1303.07 Q1823.49 1302.71 1826.66 1305.88 Q1828.17 1307.39 1828.95 1309.32 Q1829.74 1311.22 1830.08 1314.54 Q1830.15 1315.43 1830.23 1319.9 Q1830.3 1324.35 1830.38 1332.42 Z\" fill=\"#000000\" fill-rule=\"evenodd\" fill-opacity=\"1\" /><path clip-path=\"url(#clip700)\" d=\"M 0 0 M1823.88 1295.6 L1836.86 1282.62 L1839.64 1285.41 L1829.69 1295.36 L1835.68 1301.35 Q1836.15 1300.38 1836.76 1299.55 Q1837.35 1298.7 1838.07 1297.98 Q1842.16 1293.89 1846.79 1293.74 Q1851.43 1293.59 1855.26 1297.42 Q1859.2 1301.37 1858.94 1306.01 Q1858.66 1310.65 1854.19 1315.12 Q1852.65 1316.65 1850.79 1318 Q1848.94 1319.32 1846.71 1320.5 L1843.39 1317.18 Q1845.66 1316.51 1847.63 1315.33 Q1849.59 1314.15 1851.34 1312.4 Q1854.18 1309.57 1854.34 1306.42 Q1854.5 1303.28 1851.95 1300.73 Q1849.4 1298.17 1846.25 1298.34 Q1843.11 1298.5 1840.28 1301.33 Q1838.95 1302.66 1837.92 1304.28 Q1836.91 1305.88 1836.15 1307.88 L1823.88 1295.6 Z\" fill=\"#000000\" fill-rule=\"evenodd\" fill-opacity=\"1\" /><path clip-path=\"url(#clip700)\" d=\"M 0 0 M1885.36 1466.75 L1896.89 1455.21 L1899.68 1457.99 L1884.16 1473.51 L1881.38 1470.73 Q1881.31 1466.9 1881.28 1460.38 Q1881.25 1453.84 1881.13 1452.05 Q1880.94 1448.68 1880.33 1446.83 Q1879.72 1444.95 1878.53 1443.75 Q1876.58 1441.8 1873.98 1441.95 Q1871.39 1442.08 1869.2 1444.28 Q1867.64 1445.83 1866.45 1448.11 Q1865.27 1450.37 1864.4 1453.43 L1861.07 1450.09 Q1862.26 1447.29 1863.59 1445.14 Q1864.91 1443 1866.35 1441.56 Q1870.15 1437.76 1874.31 1437.4 Q1878.46 1437.04 1881.64 1440.22 Q1883.15 1441.72 1883.93 1443.65 Q1884.72 1445.55 1885.06 1448.88 Q1885.13 1449.76 1885.21 1454.23 Q1885.27 1458.68 1885.36 1466.75 Z\" fill=\"#000000\" fill-rule=\"evenodd\" fill-opacity=\"1\" /><path clip-path=\"url(#clip700)\" d=\"M 0 0 M1888.07 1425.08 Q1885.52 1427.63 1886.75 1431.44 Q1887.97 1435.22 1893.02 1440.27 Q1898.04 1445.29 1901.84 1446.54 Q1905.64 1447.75 1908.19 1445.19 Q1910.76 1442.62 1909.53 1438.84 Q1908.3 1435.03 1903.28 1430 Q1898.24 1424.96 1894.44 1423.75 Q1890.64 1422.51 1888.07 1425.08 M1885.45 1422.46 Q1889.56 1418.35 1894.98 1419.45 Q1900.4 1420.51 1906.58 1426.7 Q1912.76 1432.87 1913.84 1438.3 Q1914.92 1443.7 1910.81 1447.81 Q1906.7 1451.92 1901.28 1450.86 Q1895.86 1449.76 1889.69 1443.59 Q1883.51 1437.4 1882.43 1432 Q1881.35 1426.57 1885.45 1422.46 Z\" fill=\"#000000\" fill-rule=\"evenodd\" fill-opacity=\"1\" /><path clip-path=\"url(#clip700)\" d=\"M 0 0 M1922.43 1429.68 L1933.97 1418.14 L1936.75 1420.92 L1921.23 1436.44 L1918.45 1433.65 Q1918.39 1429.82 1918.35 1423.31 Q1918.32 1416.76 1918.21 1414.98 Q1918.01 1411.61 1917.4 1409.76 Q1916.8 1407.87 1915.6 1406.68 Q1913.66 1404.73 1911.05 1404.88 Q1908.47 1405.01 1906.27 1407.2 Q1904.72 1408.76 1903.52 1411.03 Q1902.35 1413.29 1901.48 1416.35 L1898.14 1413.01 Q1899.33 1410.21 1900.66 1408.07 Q1901.99 1405.93 1903.43 1404.49 Q1907.22 1400.69 1911.38 1400.33 Q1915.54 1399.97 1918.71 1403.14 Q1920.22 1404.65 1921.01 1406.58 Q1921.79 1408.48 1922.13 1411.8 Q1922.2 1412.69 1922.28 1417.15 Q1922.35 1421.61 1922.43 1429.68 Z\" fill=\"#000000\" fill-rule=\"evenodd\" fill-opacity=\"1\" /><path clip-path=\"url(#clip700)\" d=\"M 0 0 M1925.15 1388 Q1922.59 1390.56 1923.82 1394.37 Q1925.05 1398.15 1930.09 1403.19 Q1935.11 1408.22 1938.91 1409.46 Q1942.71 1410.67 1945.26 1408.12 Q1947.83 1405.55 1946.6 1401.77 Q1945.38 1397.95 1940.35 1392.93 Q1935.31 1387.89 1931.51 1386.68 Q1927.72 1385.43 1925.15 1388 M1922.53 1385.38 Q1926.64 1381.28 1932.05 1382.37 Q1937.47 1383.44 1943.66 1389.62 Q1949.83 1395.79 1950.91 1401.23 Q1951.99 1406.63 1947.88 1410.74 Q1943.77 1414.85 1938.36 1413.78 Q1932.94 1412.69 1926.77 1406.52 Q1920.58 1400.33 1919.5 1394.93 Q1918.42 1389.49 1922.53 1385.38 Z\" fill=\"#000000\" fill-rule=\"evenodd\" fill-opacity=\"1\" /><path clip-path=\"url(#clip700)\" d=\"M 0 0 M1946.96 1389.66 L1955.79 1380.83 L1958.47 1383.52 L1949.65 1392.34 L1946.96 1389.66 Z\" fill=\"#000000\" fill-rule=\"evenodd\" fill-opacity=\"1\" /><path clip-path=\"url(#clip700)\" d=\"M 0 0 M1954.71 1358.44 Q1952.15 1361 1953.38 1364.81 Q1954.61 1368.59 1959.65 1373.63 Q1964.68 1378.66 1968.47 1379.9 Q1972.27 1381.11 1974.82 1378.56 Q1977.39 1375.99 1976.17 1372.21 Q1974.94 1368.39 1969.91 1363.37 Q1964.87 1358.33 1961.07 1357.12 Q1957.28 1355.87 1954.71 1358.44 M1952.09 1355.82 Q1956.2 1351.71 1961.61 1352.81 Q1967.03 1353.88 1973.22 1360.06 Q1979.39 1366.23 1980.47 1371.67 Q1981.55 1377.07 1977.44 1381.18 Q1973.33 1385.29 1967.92 1384.22 Q1962.5 1383.13 1956.33 1376.95 Q1950.14 1370.77 1949.06 1365.37 Q1947.98 1359.93 1952.09 1355.82 Z\" fill=\"#000000\" fill-rule=\"evenodd\" fill-opacity=\"1\" /><path clip-path=\"url(#clip700)\" d=\"M 0 0 M1963.73 1345.07 L1979.44 1329.36 L1980.85 1330.76 L1995.01 1362.67 L1991.55 1366.12 L1978.24 1336.12 L1966.51 1347.85 L1963.73 1345.07 Z\" fill=\"#000000\" fill-rule=\"evenodd\" fill-opacity=\"1\" /><path clip-path=\"url(#clip700)\" d=\"M 0 0 M1994.99 1341.63 L2003.81 1332.81 L2006.5 1335.49 L1997.67 1344.32 L1994.99 1341.63 Z\" fill=\"#000000\" fill-rule=\"evenodd\" fill-opacity=\"1\" /><path clip-path=\"url(#clip700)\" d=\"M 0 0 M2002.73 1310.42 Q2000.18 1312.97 2001.41 1316.79 Q2002.63 1320.57 2007.67 1325.61 Q2012.7 1330.63 2016.5 1331.88 Q2020.29 1333.09 2022.85 1330.53 Q2025.42 1327.96 2024.19 1324.18 Q2022.96 1320.37 2017.94 1315.34 Q2012.9 1310.3 2009.1 1309.09 Q2005.3 1307.85 2002.73 1310.42 M2000.11 1307.8 Q2004.22 1303.69 2009.64 1304.79 Q2015.06 1305.85 2021.24 1312.04 Q2027.41 1318.21 2028.49 1323.64 Q2029.57 1329.04 2025.47 1333.15 Q2021.36 1337.26 2015.94 1336.2 Q2010.52 1335.1 2004.35 1328.93 Q1998.16 1322.74 1997.08 1317.34 Q1996 1311.91 2000.11 1307.8 Z\" fill=\"#000000\" fill-rule=\"evenodd\" fill-opacity=\"1\" /><path clip-path=\"url(#clip700)\" d=\"M 0 0 M2036.61 1320.04 L2033.6 1317.03 Q2035.43 1316.38 2037.02 1315.41 Q2038.61 1314.44 2039.84 1313.22 Q2043.11 1309.94 2042.64 1306.03 Q2042.16 1302.09 2037.92 1297.36 Q2038.38 1299.71 2037.68 1301.92 Q2036.97 1304.13 2035.21 1305.9 Q2031.54 1309.57 2027.19 1309.5 Q2022.83 1309.4 2018.98 1305.56 Q2015.22 1301.79 2015.17 1297.29 Q2015.12 1292.79 2018.82 1289.09 Q2023.06 1284.85 2028.54 1285.88 Q2034.03 1286.88 2040.21 1293.07 Q2045.99 1298.85 2046.7 1305.05 Q2047.4 1311.22 2042.77 1315.85 Q2041.52 1317.1 2040 1318.13 Q2038.48 1319.16 2036.61 1320.04 M2032.83 1303.1 Q2035.06 1300.88 2034.83 1298.06 Q2034.62 1295.23 2031.96 1292.58 Q2029.33 1289.94 2026.5 1289.73 Q2023.67 1289.48 2021.44 1291.71 Q2019.21 1293.94 2019.44 1296.78 Q2019.67 1299.6 2022.31 1302.23 Q2024.96 1304.89 2027.77 1305.11 Q2030.61 1305.33 2032.83 1303.1 Z\" fill=\"#000000\" fill-rule=\"evenodd\" fill-opacity=\"1\" /><path clip-path=\"url(#clip700)\" d=\"M 0 0 M2076.12 1465.29 L2087.66 1453.75 L2090.45 1456.54 L2074.93 1472.05 L2072.15 1469.27 Q2072.08 1465.44 2072.05 1458.93 Q2072.02 1452.38 2071.9 1450.59 Q2071.7 1447.22 2071.1 1445.37 Q2070.49 1443.49 2069.3 1442.3 Q2067.35 1440.35 2064.75 1440.5 Q2062.16 1440.63 2059.97 1442.82 Q2058.41 1444.37 2057.22 1446.65 Q2056.04 1448.91 2055.17 1451.97 L2051.83 1448.63 Q2053.03 1445.83 2054.35 1443.69 Q2055.68 1441.54 2057.12 1440.1 Q2060.92 1436.31 2065.08 1435.95 Q2069.23 1435.59 2072.41 1438.76 Q2073.91 1440.27 2074.7 1442.2 Q2075.49 1444.1 2075.83 1447.42 Q2075.89 1448.3 2075.98 1452.77 Q2076.04 1457.22 2076.12 1465.29 Z\" fill=\"#000000\" fill-rule=\"evenodd\" fill-opacity=\"1\" /><path clip-path=\"url(#clip700)\" d=\"M 0 0 M2078.84 1423.62 Q2076.29 1426.17 2077.51 1429.99 Q2078.74 1433.77 2083.78 1438.81 Q2088.81 1443.83 2092.61 1445.08 Q2096.4 1446.29 2098.96 1443.74 Q2101.53 1441.17 2100.3 1437.39 Q2099.07 1433.57 2094.05 1428.55 Q2089.01 1423.51 2085.21 1422.29 Q2081.41 1421.05 2078.84 1423.62 M2076.22 1421 Q2080.33 1416.89 2085.75 1417.99 Q2091.17 1419.05 2097.35 1425.24 Q2103.52 1431.41 2104.6 1436.85 Q2105.68 1442.25 2101.58 1446.36 Q2097.47 1450.46 2092.05 1449.4 Q2086.63 1448.3 2080.46 1442.13 Q2074.27 1435.95 2073.19 1430.54 Q2072.11 1425.11 2076.22 1421 Z\" fill=\"#000000\" fill-rule=\"evenodd\" fill-opacity=\"1\" /><path clip-path=\"url(#clip700)\" d=\"M 0 0 M2113.2 1428.22 L2124.74 1416.68 L2127.52 1419.46 L2112 1434.98 L2109.22 1432.2 Q2109.15 1428.37 2109.12 1421.85 Q2109.09 1415.3 2108.97 1413.52 Q2108.78 1410.15 2108.17 1408.3 Q2107.57 1406.42 2106.37 1405.22 Q2104.42 1403.27 2101.82 1403.42 Q2099.24 1403.55 2097.04 1405.75 Q2095.49 1407.3 2094.29 1409.58 Q2093.11 1411.83 2092.25 1414.9 L2088.91 1411.56 Q2090.1 1408.76 2091.43 1406.61 Q2092.75 1404.47 2094.19 1403.03 Q2097.99 1399.23 2102.15 1398.87 Q2106.31 1398.51 2109.48 1401.69 Q2110.99 1403.19 2111.77 1405.12 Q2112.56 1407.02 2112.9 1410.35 Q2112.97 1411.23 2113.05 1415.7 Q2113.12 1420.15 2113.2 1428.22 Z\" fill=\"#000000\" fill-rule=\"evenodd\" fill-opacity=\"1\" /><path clip-path=\"url(#clip700)\" d=\"M 0 0 M2115.91 1386.55 Q2113.36 1389.1 2114.59 1392.91 Q2115.82 1396.69 2120.86 1401.74 Q2125.88 1406.76 2129.68 1408 Q2133.48 1409.22 2136.03 1406.66 Q2138.6 1404.09 2137.37 1400.31 Q2136.15 1396.5 2131.12 1391.47 Q2126.08 1386.43 2122.28 1385.22 Q2118.48 1383.98 2115.91 1386.55 M2113.3 1383.93 Q2117.4 1379.82 2122.82 1380.92 Q2128.24 1381.98 2134.43 1388.17 Q2140.6 1394.34 2141.68 1399.77 Q2142.76 1405.17 2138.65 1409.28 Q2134.54 1413.39 2129.12 1412.33 Q2123.71 1411.23 2117.54 1405.06 Q2111.35 1398.87 2110.27 1393.47 Q2109.19 1388.04 2113.3 1383.93 Z\" fill=\"#000000\" fill-rule=\"evenodd\" fill-opacity=\"1\" /><path clip-path=\"url(#clip700)\" d=\"M 0 0 M2137.73 1388.2 L2146.56 1379.38 L2149.24 1382.06 L2140.42 1390.88 L2137.73 1388.2 Z\" fill=\"#000000\" fill-rule=\"evenodd\" fill-opacity=\"1\" /><path clip-path=\"url(#clip700)\" d=\"M 0 0 M2145.48 1356.99 Q2142.92 1359.54 2144.15 1363.35 Q2145.38 1367.13 2150.42 1372.17 Q2155.44 1377.2 2159.24 1378.44 Q2163.04 1379.66 2165.59 1377.1 Q2168.16 1374.53 2166.93 1370.75 Q2165.71 1366.94 2160.68 1361.91 Q2155.64 1356.87 2151.84 1355.66 Q2148.05 1354.42 2145.48 1356.99 M2142.86 1354.37 Q2146.96 1350.26 2152.38 1351.35 Q2157.8 1352.42 2163.99 1358.61 Q2170.16 1364.78 2171.24 1370.21 Q2172.32 1375.61 2168.21 1379.72 Q2164.1 1383.83 2158.68 1382.77 Q2153.27 1381.67 2147.1 1375.5 Q2140.91 1369.31 2139.83 1363.91 Q2138.75 1358.47 2142.86 1354.37 Z\" fill=\"#000000\" fill-rule=\"evenodd\" fill-opacity=\"1\" /><path clip-path=\"url(#clip700)\" d=\"M 0 0 M2154.49 1343.61 L2170.21 1327.9 L2171.62 1329.31 L2185.77 1361.21 L2182.32 1364.66 L2169.01 1334.66 L2157.28 1346.4 L2154.49 1343.61 Z\" fill=\"#000000\" fill-rule=\"evenodd\" fill-opacity=\"1\" /><path clip-path=\"url(#clip700)\" d=\"M 0 0 M2185.76 1340.18 L2194.58 1331.35 L2197.26 1334.04 L2188.44 1342.86 L2185.76 1340.18 Z\" fill=\"#000000\" fill-rule=\"evenodd\" fill-opacity=\"1\" /><path clip-path=\"url(#clip700)\" d=\"M 0 0 M2208.75 1332.66 L2220.29 1321.12 L2223.08 1323.91 L2207.56 1339.42 L2204.78 1336.64 Q2204.71 1332.81 2204.68 1326.3 Q2204.65 1319.75 2204.53 1317.96 Q2204.34 1314.59 2203.73 1312.74 Q2203.12 1310.86 2201.93 1309.67 Q2199.98 1307.72 2197.38 1307.86 Q2194.79 1308 2192.6 1310.19 Q2191.04 1311.74 2189.85 1314.02 Q2188.67 1316.28 2187.8 1319.34 L2184.46 1316 Q2185.66 1313.2 2186.98 1311.06 Q2188.31 1308.91 2189.75 1307.47 Q2193.55 1303.67 2197.71 1303.31 Q2201.86 1302.95 2205.04 1306.13 Q2206.54 1307.64 2207.33 1309.57 Q2208.12 1311.47 2208.46 1314.79 Q2208.53 1315.67 2208.61 1320.14 Q2208.67 1324.59 2208.75 1332.66 Z\" fill=\"#000000\" fill-rule=\"evenodd\" fill-opacity=\"1\" /><path clip-path=\"url(#clip700)\" d=\"M 0 0 M2223.5 1297.13 Q2226.38 1295.26 2229.31 1295.54 Q2232.26 1295.8 2234.62 1298.16 Q2238.23 1301.78 2237.73 1306.24 Q2237.22 1310.71 2232.64 1315.3 Q2231.1 1316.83 2229.15 1318.16 Q2227.23 1319.49 2224.89 1320.62 L2221.7 1317.42 Q2223.88 1316.85 2225.92 1315.62 Q2227.97 1314.4 2229.75 1312.61 Q2232.86 1309.5 2233.26 1306.65 Q2233.67 1303.79 2231.33 1301.45 Q2229.17 1299.29 2226.43 1299.6 Q2223.7 1299.88 2221 1302.58 L2218.15 1305.43 L2215.43 1302.71 L2218.41 1299.73 Q2220.85 1297.29 2221.18 1295.03 Q2221.49 1292.76 2219.66 1290.92 Q2217.77 1289.04 2215.43 1289.38 Q2213.09 1289.7 2210.6 1292.18 Q2209.25 1293.54 2207.99 1295.39 Q2206.72 1297.24 2205.48 1299.73 L2202.53 1296.78 Q2203.89 1294.38 2205.27 1292.48 Q2206.66 1290.56 2208.12 1289.11 Q2211.88 1285.34 2215.79 1284.87 Q2219.69 1284.38 2222.6 1287.29 Q2224.63 1289.32 2224.88 1291.89 Q2225.11 1294.44 2223.5 1297.13 Z\" fill=\"#000000\" fill-rule=\"evenodd\" fill-opacity=\"1\" /><path clip-path=\"url(#clip700)\" d=\"M 0 0 M169.721 1251.45 L177.359 1251.45 L177.359 1225.09 L169.049 1226.75 L169.049 1222.49 L177.313 1220.83 L181.989 1220.83 L181.989 1251.45 L189.628 1251.45 L189.628 1255.39 L169.721 1255.39 L169.721 1251.45 Z\" fill=\"#000000\" fill-rule=\"evenodd\" fill-opacity=\"1\" /><path clip-path=\"url(#clip700)\" d=\"M 0 0 M204.697 1223.91 Q201.086 1223.91 199.257 1227.47 Q197.452 1231.01 197.452 1238.14 Q197.452 1245.25 199.257 1248.81 Q201.086 1252.35 204.697 1252.35 Q208.331 1252.35 210.137 1248.81 Q211.966 1245.25 211.966 1238.14 Q211.966 1231.01 210.137 1227.47 Q208.331 1223.91 204.697 1223.91 M204.697 1220.2 Q210.507 1220.2 213.563 1224.81 Q216.642 1229.39 216.642 1238.14 Q216.642 1246.87 213.563 1251.48 Q210.507 1256.06 204.697 1256.06 Q198.887 1256.06 195.808 1251.48 Q192.753 1246.87 192.753 1238.14 Q192.753 1229.39 195.808 1224.81 Q198.887 1220.2 204.697 1220.2 Z\" fill=\"#000000\" fill-rule=\"evenodd\" fill-opacity=\"1\" /><path clip-path=\"url(#clip700)\" d=\"M 0 0 M226.346 1202.4 Q223.412 1202.4 221.927 1205.29 Q220.46 1208.17 220.46 1213.96 Q220.46 1219.74 221.927 1222.64 Q223.412 1225.51 226.346 1225.51 Q229.299 1225.51 230.766 1222.64 Q232.252 1219.74 232.252 1213.96 Q232.252 1208.17 230.766 1205.29 Q229.299 1202.4 226.346 1202.4 M226.346 1199.39 Q231.067 1199.39 233.55 1203.13 Q236.051 1206.86 236.051 1213.96 Q236.051 1221.06 233.55 1224.8 Q231.067 1228.52 226.346 1228.52 Q221.626 1228.52 219.124 1224.8 Q216.642 1221.06 216.642 1213.96 Q216.642 1206.86 219.124 1203.13 Q221.626 1199.39 226.346 1199.39 Z\" fill=\"#000000\" fill-rule=\"evenodd\" fill-opacity=\"1\" /><path clip-path=\"url(#clip700)\" d=\"M 0 0 M172.41 1061.8 L180.049 1061.8 L180.049 1035.44 L171.739 1037.1 L171.739 1032.84 L180.003 1031.18 L184.679 1031.18 L184.679 1061.8 L192.317 1061.8 L192.317 1065.74 L172.41 1065.74 L172.41 1061.8 Z\" fill=\"#000000\" fill-rule=\"evenodd\" fill-opacity=\"1\" /><path clip-path=\"url(#clip700)\" d=\"M 0 0 M207.387 1034.26 Q203.776 1034.26 201.947 1037.82 Q200.141 1041.36 200.141 1048.49 Q200.141 1055.6 201.947 1059.16 Q203.776 1062.7 207.387 1062.7 Q211.021 1062.7 212.827 1059.16 Q214.655 1055.6 214.655 1048.49 Q214.655 1041.36 212.827 1037.82 Q211.021 1034.26 207.387 1034.26 M207.387 1030.55 Q213.197 1030.55 216.252 1035.16 Q219.331 1039.74 219.331 1048.49 Q219.331 1057.22 216.252 1061.83 Q213.197 1066.41 207.387 1066.41 Q201.577 1066.41 198.498 1061.83 Q195.442 1057.22 195.442 1048.49 Q195.442 1039.74 198.498 1035.16 Q201.577 1030.55 207.387 1030.55 Z\" fill=\"#000000\" fill-rule=\"evenodd\" fill-opacity=\"1\" /><path clip-path=\"url(#clip700)\" d=\"M 0 0 M219.877 1035.13 L226.083 1035.13 L226.083 1013.71 L219.331 1015.06 L219.331 1011.6 L226.046 1010.25 L229.845 1010.25 L229.845 1035.13 L236.051 1035.13 L236.051 1038.33 L219.877 1038.33 L219.877 1035.13 Z\" fill=\"#000000\" fill-rule=\"evenodd\" fill-opacity=\"1\" /><path clip-path=\"url(#clip700)\" d=\"M 0 0 M171.3 872.152 L178.939 872.152 L178.939 845.786 L170.629 847.453 L170.629 843.194 L178.893 841.527 L183.569 841.527 L183.569 872.152 L191.208 872.152 L191.208 876.087 L171.3 876.087 L171.3 872.152 Z\" fill=\"#000000\" fill-rule=\"evenodd\" fill-opacity=\"1\" /><path clip-path=\"url(#clip700)\" d=\"M 0 0 M206.277 844.606 Q202.666 844.606 200.837 848.171 Q199.032 851.712 199.032 858.842 Q199.032 865.948 200.837 869.513 Q202.666 873.055 206.277 873.055 Q209.911 873.055 211.717 869.513 Q213.546 865.948 213.546 858.842 Q213.546 851.712 211.717 848.171 Q209.911 844.606 206.277 844.606 M206.277 840.902 Q212.087 840.902 215.143 845.509 Q218.221 850.092 218.221 858.842 Q218.221 867.569 215.143 872.175 Q212.087 876.758 206.277 876.758 Q200.467 876.758 197.388 872.175 Q194.333 867.569 194.333 858.842 Q194.333 850.092 197.388 845.509 Q200.467 840.902 206.277 840.902 Z\" fill=\"#000000\" fill-rule=\"evenodd\" fill-opacity=\"1\" /><path clip-path=\"url(#clip700)\" d=\"M 0 0 M222.792 845.479 L236.051 845.479 L236.051 848.677 L218.221 848.677 L218.221 845.479 Q220.384 843.241 224.108 839.48 Q227.851 835.699 228.81 834.608 Q230.635 832.558 231.349 831.148 Q232.083 829.718 232.083 828.345 Q232.083 826.107 230.503 824.697 Q228.942 823.286 226.422 823.286 Q224.635 823.286 222.641 823.907 Q220.666 824.528 218.41 825.788 L218.41 821.951 Q220.704 821.029 222.698 820.559 Q224.691 820.089 226.346 820.089 Q230.71 820.089 233.305 822.271 Q235.901 824.452 235.901 828.101 Q235.901 829.831 235.243 831.392 Q234.603 832.935 232.892 835.041 Q232.421 835.586 229.901 838.201 Q227.381 840.796 222.792 845.479 Z\" fill=\"#000000\" fill-rule=\"evenodd\" fill-opacity=\"1\" /><path clip-path=\"url(#clip700)\" d=\"M 0 0 M170.642 682.502 L178.281 682.502 L178.281 656.136 L169.971 657.803 L169.971 653.544 L178.235 651.877 L182.911 651.877 L182.911 682.502 L190.549 682.502 L190.549 686.437 L170.642 686.437 L170.642 682.502 Z\" fill=\"#000000\" fill-rule=\"evenodd\" fill-opacity=\"1\" /><path clip-path=\"url(#clip700)\" d=\"M 0 0 M205.619 654.956 Q202.008 654.956 200.179 658.521 Q198.373 662.062 198.373 669.192 Q198.373 676.298 200.179 679.863 Q202.008 683.405 205.619 683.405 Q209.253 683.405 211.059 679.863 Q212.887 676.298 212.887 669.192 Q212.887 662.062 211.059 658.521 Q209.253 654.956 205.619 654.956 M205.619 651.252 Q211.429 651.252 214.485 655.859 Q217.563 660.442 217.563 669.192 Q217.563 677.919 214.485 682.525 Q211.429 687.108 205.619 687.108 Q199.809 687.108 196.73 682.525 Q193.674 677.919 193.674 669.192 Q193.674 660.442 196.73 655.859 Q199.809 651.252 205.619 651.252 Z\" fill=\"#000000\" fill-rule=\"evenodd\" fill-opacity=\"1\" /><path clip-path=\"url(#clip700)\" d=\"M 0 0 M230.258 643.886 Q232.986 644.469 234.509 646.313 Q236.051 648.156 236.051 650.864 Q236.051 655.021 233.192 657.296 Q230.334 659.572 225.067 659.572 Q223.3 659.572 221.419 659.215 Q219.557 658.876 217.563 658.18 L217.563 654.513 Q219.143 655.434 221.024 655.905 Q222.905 656.375 224.955 656.375 Q228.528 656.375 230.39 654.964 Q232.271 653.554 232.271 650.864 Q232.271 648.381 230.522 646.99 Q228.791 645.579 225.688 645.579 L222.416 645.579 L222.416 642.457 L225.839 642.457 Q228.641 642.457 230.127 641.347 Q231.613 640.219 231.613 638.112 Q231.613 635.95 230.07 634.802 Q228.547 633.636 225.688 633.636 Q224.127 633.636 222.34 633.975 Q220.554 634.313 218.41 635.028 L218.41 631.643 Q220.572 631.041 222.453 630.74 Q224.353 630.439 226.027 630.439 Q230.352 630.439 232.873 632.414 Q235.393 634.37 235.393 637.717 Q235.393 640.05 234.058 641.667 Q232.722 643.266 230.258 643.886 Z\" fill=\"#000000\" fill-rule=\"evenodd\" fill-opacity=\"1\" /><path clip-path=\"url(#clip700)\" d=\"M 0 0 M168.667 492.852 L176.306 492.852 L176.306 466.486 L167.996 468.153 L167.996 463.894 L176.26 462.227 L180.936 462.227 L180.936 492.852 L188.575 492.852 L188.575 496.787 L168.667 496.787 L168.667 492.852 Z\" fill=\"#000000\" fill-rule=\"evenodd\" fill-opacity=\"1\" /><path clip-path=\"url(#clip700)\" d=\"M 0 0 M203.644 465.306 Q200.033 465.306 198.204 468.87 Q196.399 472.412 196.399 479.542 Q196.399 486.648 198.204 490.213 Q200.033 493.755 203.644 493.755 Q207.278 493.755 209.084 490.213 Q210.912 486.648 210.912 479.542 Q210.912 472.412 209.084 468.87 Q207.278 465.306 203.644 465.306 M203.644 461.602 Q209.454 461.602 212.51 466.208 Q215.588 470.792 215.588 479.542 Q215.588 488.269 212.51 492.875 Q209.454 497.458 203.644 497.458 Q197.834 497.458 194.755 492.875 Q191.7 488.269 191.7 479.542 Q191.7 470.792 194.755 466.208 Q197.834 461.602 203.644 461.602 Z\" fill=\"#000000\" fill-rule=\"evenodd\" fill-opacity=\"1\" /><path clip-path=\"url(#clip700)\" d=\"M 0 0 M228.265 444.607 L218.673 459.597 L228.265 459.597 L228.265 444.607 M227.268 441.297 L232.045 441.297 L232.045 459.597 L236.051 459.597 L236.051 462.756 L232.045 462.756 L232.045 469.377 L228.265 469.377 L228.265 462.756 L215.588 462.756 L215.588 459.089 L227.268 441.297 Z\" fill=\"#000000\" fill-rule=\"evenodd\" fill-opacity=\"1\" /><path clip-path=\"url(#clip700)\" d=\"M 0 0 M170.962 303.202 L178.601 303.202 L178.601 276.836 L170.291 278.503 L170.291 274.244 L178.554 272.577 L183.23 272.577 L183.23 303.202 L190.869 303.202 L190.869 307.137 L170.962 307.137 L170.962 303.202 Z\" fill=\"#000000\" fill-rule=\"evenodd\" fill-opacity=\"1\" /><path clip-path=\"url(#clip700)\" d=\"M 0 0 M205.939 275.656 Q202.327 275.656 200.499 279.22 Q198.693 282.762 198.693 289.892 Q198.693 296.998 200.499 300.563 Q202.327 304.105 205.939 304.105 Q209.573 304.105 211.378 300.563 Q213.207 296.998 213.207 289.892 Q213.207 282.762 211.378 279.22 Q209.573 275.656 205.939 275.656 M205.939 271.952 Q211.749 271.952 214.804 276.558 Q217.883 281.142 217.883 289.892 Q217.883 298.619 214.804 303.225 Q211.749 307.808 205.939 307.808 Q200.128 307.808 197.05 303.225 Q193.994 298.619 193.994 289.892 Q193.994 281.142 197.05 276.558 Q200.128 271.952 205.939 271.952 Z\" fill=\"#000000\" fill-rule=\"evenodd\" fill-opacity=\"1\" /><path clip-path=\"url(#clip700)\" d=\"M 0 0 M219.068 251.647 L233.982 251.647 L233.982 254.844 L222.547 254.844 L222.547 261.728 Q223.375 261.445 224.202 261.314 Q225.03 261.163 225.857 261.163 Q230.559 261.163 233.305 263.74 Q236.051 266.317 236.051 270.718 Q236.051 275.25 233.23 277.771 Q230.409 280.272 225.274 280.272 Q223.506 280.272 221.663 279.971 Q219.839 279.67 217.883 279.068 L217.883 275.25 Q219.576 276.172 221.381 276.623 Q223.187 277.075 225.199 277.075 Q228.453 277.075 230.352 275.363 Q232.252 273.652 232.252 270.718 Q232.252 267.784 230.352 266.072 Q228.453 264.361 225.199 264.361 Q223.676 264.361 222.152 264.699 Q220.648 265.038 219.068 265.752 L219.068 251.647 Z\" fill=\"#000000\" fill-rule=\"evenodd\" fill-opacity=\"1\" /><path clip-path=\"url(#clip700)\" d=\"M 0 0 M1176.53 16.7545 L1176.53 25.383 Q1172.4 21.5346 1167.7 19.6307 Q1163.04 17.7268 1157.78 17.7268 Q1147.41 17.7268 1141.9 24.0867 Q1136.39 30.4061 1136.39 42.3968 Q1136.39 54.3469 1141.9 60.7069 Q1147.41 67.0263 1157.78 67.0263 Q1163.04 67.0263 1167.7 65.1223 Q1172.4 63.2184 1176.53 59.3701 L1176.53 67.9175 Q1172.24 70.8341 1167.42 72.2924 Q1162.64 73.7508 1157.29 73.7508 Q1143.56 73.7508 1135.66 65.3654 Q1127.76 56.9395 1127.76 42.3968 Q1127.76 27.8135 1135.66 19.4281 Q1143.56 11.0023 1157.29 11.0023 Q1162.72 11.0023 1167.5 12.4606 Q1172.32 13.8784 1176.53 16.7545 Z\" fill=\"#000000\" fill-rule=\"evenodd\" fill-opacity=\"1\" /><path clip-path=\"url(#clip700)\" d=\"M 0 0 M1209.22 17.6457 Q1200.31 17.6457 1195.04 24.2892 Q1189.82 30.9327 1189.82 42.3968 Q1189.82 53.8203 1195.04 60.4638 Q1200.31 67.1073 1209.22 67.1073 Q1218.13 67.1073 1223.32 60.4638 Q1228.55 53.8203 1228.55 42.3968 Q1228.55 30.9327 1223.32 24.2892 Q1218.13 17.6457 1209.22 17.6457 M1209.22 11.0023 Q1221.94 11.0023 1229.56 19.5497 Q1237.17 28.0566 1237.17 42.3968 Q1237.17 56.6965 1229.56 65.2439 Q1221.94 73.7508 1209.22 73.7508 Q1196.46 73.7508 1188.81 65.2439 Q1181.19 56.737 1181.19 42.3968 Q1181.19 28.0566 1188.81 19.5497 Q1196.46 11.0023 1209.22 11.0023 Z\" fill=\"#000000\" fill-rule=\"evenodd\" fill-opacity=\"1\" /><path clip-path=\"url(#clip700)\" d=\"M 0 0 M1259.45 72.576 L1236.36 12.096 L1244.91 12.096 L1264.07 63.0159 L1283.27 12.096 L1291.78 12.096 L1268.73 72.576 L1259.45 72.576 Z\" fill=\"#000000\" fill-rule=\"evenodd\" fill-opacity=\"1\" /><path clip-path=\"url(#clip700)\" d=\"M 0 0 M1299.92 12.096 L1308.1 12.096 L1308.1 72.576 L1299.92 72.576 L1299.92 12.096 Z\" fill=\"#000000\" fill-rule=\"evenodd\" fill-opacity=\"1\" /><path clip-path=\"url(#clip700)\" d=\"M 0 0 M1324.43 18.8205 L1324.43 65.8515 L1334.31 65.8515 Q1346.83 65.8515 1352.62 60.1802 Q1358.46 54.509 1358.46 42.2752 Q1358.46 30.1225 1352.62 24.4918 Q1346.83 18.8205 1334.31 18.8205 L1324.43 18.8205 M1316.25 12.096 L1333.06 12.096 Q1350.64 12.096 1358.86 19.4281 Q1367.09 26.7198 1367.09 42.2752 Q1367.09 57.9117 1358.82 65.2439 Q1350.56 72.576 1333.06 72.576 L1316.25 72.576 L1316.25 12.096 Z\" fill=\"#000000\" fill-rule=\"evenodd\" fill-opacity=\"1\" /><path clip-path=\"url(#clip700)\" d=\"M 0 0 M1371.14 46.5287 L1392.97 46.5287 L1392.97 53.1722 L1371.14 53.1722 L1371.14 46.5287 Z\" fill=\"#000000\" fill-rule=\"evenodd\" fill-opacity=\"1\" /><path clip-path=\"url(#clip700)\" d=\"M 0 0 M1403.26 65.6895 L1416.63 65.6895 L1416.63 19.5497 L1402.09 22.4663 L1402.09 15.0127 L1416.55 12.096 L1424.73 12.096 L1424.73 65.6895 L1438.1 65.6895 L1438.1 72.576 L1403.26 72.576 L1403.26 65.6895 Z\" fill=\"#000000\" fill-rule=\"evenodd\" fill-opacity=\"1\" /><path clip-path=\"url(#clip700)\" d=\"M 0 0 M1447.21 71.3202 L1447.21 63.8666 Q1450.29 65.3249 1453.45 66.0946 Q1456.61 66.8642 1459.65 66.8642 Q1467.75 66.8642 1472 61.436 Q1476.3 55.9673 1476.91 44.8678 Q1474.56 48.3516 1470.95 50.215 Q1467.35 52.0784 1462.97 52.0784 Q1453.9 52.0784 1448.59 46.6097 Q1443.32 41.1005 1443.32 31.5808 Q1443.32 22.2638 1448.83 16.633 Q1454.34 11.0023 1463.5 11.0023 Q1473.99 11.0023 1479.5 19.0636 Q1485.05 27.0843 1485.05 42.3968 Q1485.05 56.6965 1478.24 65.2439 Q1471.48 73.7508 1460.01 73.7508 Q1456.94 73.7508 1453.78 73.1431 Q1450.62 72.5355 1447.21 71.3202 M1463.5 45.678 Q1469.01 45.678 1472.21 41.9107 Q1475.45 38.1433 1475.45 31.5808 Q1475.45 25.0589 1472.21 21.2916 Q1469.01 17.4837 1463.5 17.4837 Q1457.99 17.4837 1454.75 21.2916 Q1451.55 25.0589 1451.55 31.5808 Q1451.55 38.1433 1454.75 41.9107 Q1457.99 45.678 1463.5 45.678 Z\" fill=\"#000000\" fill-rule=\"evenodd\" fill-opacity=\"1\" /><path clip-path=\"url(#clip700)\" d=\"M 0 0 M878.373 1506.66 L878.373 1513.44 Q875.127 1510.42 871.435 1508.92 Q867.775 1507.42 863.637 1507.42 Q855.489 1507.42 851.16 1512.42 Q846.831 1517.39 846.831 1526.81 Q846.831 1536.2 851.16 1541.19 Q855.489 1546.16 863.637 1546.16 Q867.775 1546.16 871.435 1544.66 Q875.127 1543.17 878.373 1540.14 L878.373 1546.86 Q875 1549.15 871.212 1550.3 Q867.456 1551.44 863.255 1551.44 Q852.465 1551.44 846.258 1544.85 Q840.052 1538.23 840.052 1526.81 Q840.052 1515.35 846.258 1508.76 Q852.465 1502.14 863.255 1502.14 Q867.52 1502.14 871.276 1503.29 Q875.063 1504.4 878.373 1506.66 Z\" fill=\"#000000\" fill-rule=\"evenodd\" fill-opacity=\"1\" /><path clip-path=\"url(#clip700)\" d=\"M 0 0 M898.33 1518.98 Q893.619 1518.98 890.882 1522.67 Q888.145 1526.33 888.145 1532.73 Q888.145 1539.13 890.85 1542.82 Q893.587 1546.48 898.33 1546.48 Q903.009 1546.48 905.746 1542.79 Q908.483 1539.09 908.483 1532.73 Q908.483 1526.39 905.746 1522.7 Q903.009 1518.98 898.33 1518.98 M898.33 1514.01 Q905.969 1514.01 910.329 1518.98 Q914.69 1523.94 914.69 1532.73 Q914.69 1541.48 910.329 1546.48 Q905.969 1551.44 898.33 1551.44 Q890.659 1551.44 886.299 1546.48 Q881.97 1541.48 881.97 1532.73 Q881.97 1523.94 886.299 1518.98 Q890.659 1514.01 898.33 1514.01 Z\" fill=\"#000000\" fill-rule=\"evenodd\" fill-opacity=\"1\" /><path clip-path=\"url(#clip700)\" d=\"M 0 0 M950.465 1529 L950.465 1550.52 L944.609 1550.52 L944.609 1529.19 Q944.609 1524.13 942.635 1521.62 Q940.662 1519.11 936.715 1519.11 Q931.973 1519.11 929.235 1522.13 Q926.498 1525.15 926.498 1530.37 L926.498 1550.52 L920.61 1550.52 L920.61 1514.87 L926.498 1514.87 L926.498 1520.41 Q928.599 1517.2 931.432 1515.6 Q934.296 1514.01 938.02 1514.01 Q944.163 1514.01 947.314 1517.83 Q950.465 1521.62 950.465 1529 Z\" fill=\"#000000\" fill-rule=\"evenodd\" fill-opacity=\"1\" /><path clip-path=\"url(#clip700)\" d=\"M 0 0 M974.655 1500.99 L974.655 1505.86 L969.053 1505.86 Q965.902 1505.86 964.661 1507.14 Q963.451 1508.41 963.451 1511.72 L963.451 1514.87 L973.095 1514.87 L973.095 1519.42 L963.451 1519.42 L963.451 1550.52 L957.563 1550.52 L957.563 1519.42 L951.961 1519.42 L951.961 1514.87 L957.563 1514.87 L957.563 1512.39 Q957.563 1506.44 960.332 1503.73 Q963.101 1500.99 969.117 1500.99 L974.655 1500.99 Z\" fill=\"#000000\" fill-rule=\"evenodd\" fill-opacity=\"1\" /><path clip-path=\"url(#clip700)\" d=\"M 0 0 M980.798 1514.87 L986.654 1514.87 L986.654 1550.52 L980.798 1550.52 L980.798 1514.87 M980.798 1500.99 L986.654 1500.99 L986.654 1508.41 L980.798 1508.41 L980.798 1500.99 Z\" fill=\"#000000\" fill-rule=\"evenodd\" fill-opacity=\"1\" /><path clip-path=\"url(#clip700)\" d=\"M 0 0 M1013.45 1520.35 Q1012.47 1519.77 1011.29 1519.52 Q1010.14 1519.23 1008.74 1519.23 Q1003.78 1519.23 1001.1 1522.48 Q998.463 1525.69 998.463 1531.74 L998.463 1550.52 L992.574 1550.52 L992.574 1514.87 L998.463 1514.87 L998.463 1520.41 Q1000.31 1517.16 1003.27 1515.6 Q1006.23 1514.01 1010.46 1514.01 Q1011.07 1514.01 1011.8 1514.11 Q1012.53 1514.17 1013.42 1514.33 L1013.45 1520.35 Z\" fill=\"#000000\" fill-rule=\"evenodd\" fill-opacity=\"1\" /><path clip-path=\"url(#clip700)\" d=\"M 0 0 M1046.21 1521.72 Q1048.4 1517.77 1051.46 1515.89 Q1054.51 1514.01 1058.65 1514.01 Q1064.22 1514.01 1067.24 1517.93 Q1070.27 1521.81 1070.27 1529 L1070.27 1550.52 L1064.38 1550.52 L1064.38 1529.19 Q1064.38 1524.07 1062.57 1521.59 Q1060.75 1519.11 1057.03 1519.11 Q1052.48 1519.11 1049.83 1522.13 Q1047.19 1525.15 1047.19 1530.37 L1047.19 1550.52 L1041.3 1550.52 L1041.3 1529.19 Q1041.3 1524.04 1039.49 1521.59 Q1037.68 1519.11 1033.89 1519.11 Q1029.4 1519.11 1026.76 1522.16 Q1024.12 1525.18 1024.12 1530.37 L1024.12 1550.52 L1018.23 1550.52 L1018.23 1514.87 L1024.12 1514.87 L1024.12 1520.41 Q1026.12 1517.13 1028.92 1515.57 Q1031.72 1514.01 1035.57 1514.01 Q1039.46 1514.01 1042.16 1515.99 Q1044.9 1517.96 1046.21 1521.72 Z\" fill=\"#000000\" fill-rule=\"evenodd\" fill-opacity=\"1\" /><path clip-path=\"url(#clip700)\" d=\"M 0 0 M1106.9 1531.23 L1106.9 1534.1 L1079.98 1534.1 Q1080.36 1540.14 1083.6 1543.33 Q1086.88 1546.48 1092.71 1546.48 Q1096.08 1546.48 1099.23 1545.65 Q1102.41 1544.82 1105.53 1543.17 L1105.53 1548.71 Q1102.38 1550.04 1099.07 1550.74 Q1095.76 1551.44 1092.36 1551.44 Q1083.83 1551.44 1078.83 1546.48 Q1073.86 1541.51 1073.86 1533.05 Q1073.86 1524.29 1078.57 1519.17 Q1083.32 1514.01 1091.34 1514.01 Q1098.53 1514.01 1102.7 1518.66 Q1106.9 1523.27 1106.9 1531.23 M1101.05 1529.51 Q1100.98 1524.71 1098.34 1521.84 Q1095.73 1518.98 1091.4 1518.98 Q1086.5 1518.98 1083.54 1521.75 Q1080.61 1524.52 1080.17 1529.54 L1101.05 1529.51 Z\" fill=\"#000000\" fill-rule=\"evenodd\" fill-opacity=\"1\" /><path clip-path=\"url(#clip700)\" d=\"M 0 0 M1136.5 1520.28 L1136.5 1500.99 L1142.36 1500.99 L1142.36 1550.52 L1136.5 1550.52 L1136.5 1545.17 Q1134.66 1548.36 1131.82 1549.92 Q1129.02 1551.44 1125.08 1551.44 Q1118.62 1551.44 1114.54 1546.29 Q1110.5 1541.13 1110.5 1532.73 Q1110.5 1524.33 1114.54 1519.17 Q1118.62 1514.01 1125.08 1514.01 Q1129.02 1514.01 1131.82 1515.57 Q1134.66 1517.1 1136.5 1520.28 M1116.55 1532.73 Q1116.55 1539.19 1119.19 1542.88 Q1121.86 1546.54 1126.51 1546.54 Q1131.16 1546.54 1133.83 1542.88 Q1136.5 1539.19 1136.5 1532.73 Q1136.5 1526.27 1133.83 1522.61 Q1131.16 1518.91 1126.51 1518.91 Q1121.86 1518.91 1119.19 1522.61 Q1116.55 1526.27 1116.55 1532.73 Z\" fill=\"#000000\" fill-rule=\"evenodd\" fill-opacity=\"1\" /><path clip-path=\"url(#clip700)\" d=\"M 0 0 M1194.88 1516.24 L1194.88 1521.72 Q1192.39 1520.35 1189.88 1519.68 Q1187.4 1518.98 1184.85 1518.98 Q1179.15 1518.98 1176 1522.61 Q1172.85 1526.2 1172.85 1532.73 Q1172.85 1539.25 1176 1542.88 Q1179.15 1546.48 1184.85 1546.48 Q1187.4 1546.48 1189.88 1545.81 Q1192.39 1545.11 1194.88 1543.74 L1194.88 1549.15 Q1192.43 1550.3 1189.78 1550.87 Q1187.17 1551.44 1184.21 1551.44 Q1176.16 1551.44 1171.42 1546.38 Q1166.68 1541.32 1166.68 1532.73 Q1166.68 1524.01 1171.45 1519.01 Q1176.26 1514.01 1184.6 1514.01 Q1187.3 1514.01 1189.88 1514.59 Q1192.46 1515.13 1194.88 1516.24 Z\" fill=\"#000000\" fill-rule=\"evenodd\" fill-opacity=\"1\" /><path clip-path=\"url(#clip700)\" d=\"M 0 0 M1217.22 1532.6 Q1210.12 1532.6 1207.39 1534.22 Q1204.65 1535.85 1204.65 1539.76 Q1204.65 1542.88 1206.68 1544.73 Q1208.75 1546.54 1212.29 1546.54 Q1217.16 1546.54 1220.08 1543.1 Q1223.04 1539.63 1223.04 1533.91 L1223.04 1532.6 L1217.22 1532.6 M1228.9 1530.18 L1228.9 1550.52 L1223.04 1550.52 L1223.04 1545.11 Q1221.04 1548.36 1218.05 1549.92 Q1215.06 1551.44 1210.73 1551.44 Q1205.25 1551.44 1202.01 1548.39 Q1198.79 1545.3 1198.79 1540.14 Q1198.79 1534.13 1202.8 1531.07 Q1206.84 1528.02 1214.83 1528.02 L1223.04 1528.02 L1223.04 1527.44 Q1223.04 1523.4 1220.37 1521.21 Q1217.73 1518.98 1212.92 1518.98 Q1209.87 1518.98 1206.97 1519.71 Q1204.07 1520.44 1201.4 1521.91 L1201.4 1516.5 Q1204.62 1515.25 1207.64 1514.65 Q1210.66 1514.01 1213.53 1514.01 Q1221.26 1514.01 1225.08 1518.02 Q1228.9 1522.03 1228.9 1530.18 Z\" fill=\"#000000\" fill-rule=\"evenodd\" fill-opacity=\"1\" /><path clip-path=\"url(#clip700)\" d=\"M 0 0 M1257.77 1515.92 L1257.77 1521.46 Q1255.29 1520.19 1252.61 1519.55 Q1249.94 1518.91 1247.08 1518.91 Q1242.71 1518.91 1240.52 1520.25 Q1238.35 1521.59 1238.35 1524.26 Q1238.35 1526.3 1239.91 1527.48 Q1241.47 1528.62 1246.18 1529.67 L1248.19 1530.12 Q1254.43 1531.45 1257.04 1533.91 Q1259.68 1536.32 1259.68 1540.68 Q1259.68 1545.65 1255.73 1548.55 Q1251.82 1551.44 1244.94 1551.44 Q1242.08 1551.44 1238.96 1550.87 Q1235.87 1550.33 1232.43 1549.21 L1232.43 1543.17 Q1235.68 1544.85 1238.83 1545.71 Q1241.98 1546.54 1245.07 1546.54 Q1249.21 1546.54 1251.44 1545.14 Q1253.66 1543.71 1253.66 1541.13 Q1253.66 1538.74 1252.04 1537.47 Q1250.45 1536.2 1245.01 1535.02 L1242.97 1534.54 Q1237.53 1533.4 1235.11 1531.04 Q1232.69 1528.65 1232.69 1524.52 Q1232.69 1519.49 1236.25 1516.75 Q1239.82 1514.01 1246.37 1514.01 Q1249.62 1514.01 1252.49 1514.49 Q1255.35 1514.97 1257.77 1515.92 Z\" fill=\"#000000\" fill-rule=\"evenodd\" fill-opacity=\"1\" /><path clip-path=\"url(#clip700)\" d=\"M 0 0 M1296.31 1531.23 L1296.31 1534.1 L1269.39 1534.1 Q1269.77 1540.14 1273.02 1543.33 Q1276.29 1546.48 1282.12 1546.48 Q1285.49 1546.48 1288.64 1545.65 Q1291.83 1544.82 1294.95 1543.17 L1294.95 1548.71 Q1291.79 1550.04 1288.48 1550.74 Q1285.17 1551.44 1281.77 1551.44 Q1273.24 1551.44 1268.24 1546.48 Q1263.28 1541.51 1263.28 1533.05 Q1263.28 1524.29 1267.99 1519.17 Q1272.73 1514.01 1280.75 1514.01 Q1287.94 1514.01 1292.11 1518.66 Q1296.31 1523.27 1296.31 1531.23 M1290.46 1529.51 Q1290.39 1524.71 1287.75 1521.84 Q1285.14 1518.98 1280.81 1518.98 Q1275.91 1518.98 1272.95 1521.75 Q1270.02 1524.52 1269.58 1529.54 L1290.46 1529.51 Z\" fill=\"#000000\" fill-rule=\"evenodd\" fill-opacity=\"1\" /><path clip-path=\"url(#clip700)\" d=\"M 0 0 M1325.18 1515.92 L1325.18 1521.46 Q1322.7 1520.19 1320.03 1519.55 Q1317.35 1518.91 1314.49 1518.91 Q1310.13 1518.91 1307.93 1520.25 Q1305.77 1521.59 1305.77 1524.26 Q1305.77 1526.3 1307.33 1527.48 Q1308.89 1528.62 1313.6 1529.67 L1315.6 1530.12 Q1321.84 1531.45 1324.45 1533.91 Q1327.09 1536.32 1327.09 1540.68 Q1327.09 1545.65 1323.15 1548.55 Q1319.23 1551.44 1312.36 1551.44 Q1309.49 1551.44 1306.37 1550.87 Q1303.28 1550.33 1299.85 1549.21 L1299.85 1543.17 Q1303.09 1544.85 1306.24 1545.71 Q1309.4 1546.54 1312.48 1546.54 Q1316.62 1546.54 1318.85 1545.14 Q1321.08 1543.71 1321.08 1541.13 Q1321.08 1538.74 1319.45 1537.47 Q1317.86 1536.2 1312.42 1535.02 L1310.38 1534.54 Q1304.94 1533.4 1302.52 1531.04 Q1300.1 1528.65 1300.1 1524.52 Q1300.1 1519.49 1303.67 1516.75 Q1307.23 1514.01 1313.79 1514.01 Q1317.03 1514.01 1319.9 1514.49 Q1322.76 1514.97 1325.18 1515.92 Z\" fill=\"#000000\" fill-rule=\"evenodd\" fill-opacity=\"1\" /><path clip-path=\"url(#clip700)\" d=\"M 0 0 M1384.45 1531.23 L1384.45 1534.1 L1357.52 1534.1 Q1357.9 1540.14 1361.15 1543.33 Q1364.43 1546.48 1370.25 1546.48 Q1373.63 1546.48 1376.78 1545.65 Q1379.96 1544.82 1383.08 1543.17 L1383.08 1548.71 Q1379.93 1550.04 1376.62 1550.74 Q1373.31 1551.44 1369.9 1551.44 Q1361.37 1551.44 1356.37 1546.48 Q1351.41 1541.51 1351.41 1533.05 Q1351.41 1524.29 1356.12 1519.17 Q1360.86 1514.01 1368.88 1514.01 Q1376.08 1514.01 1380.25 1518.66 Q1384.45 1523.27 1384.45 1531.23 M1378.59 1529.51 Q1378.53 1524.71 1375.89 1521.84 Q1373.28 1518.98 1368.95 1518.98 Q1364.05 1518.98 1361.08 1521.75 Q1358.16 1524.52 1357.71 1529.54 L1378.59 1529.51 Z\" fill=\"#000000\" fill-rule=\"evenodd\" fill-opacity=\"1\" /><path clip-path=\"url(#clip700)\" d=\"M 0 0 M1386.39 1514.87 L1392.6 1514.87 L1403.74 1544.79 L1414.88 1514.87 L1421.08 1514.87 L1407.71 1550.52 L1399.76 1550.52 L1386.39 1514.87 Z\" fill=\"#000000\" fill-rule=\"evenodd\" fill-opacity=\"1\" /><path clip-path=\"url(#clip700)\" d=\"M 0 0 M1457.72 1531.23 L1457.72 1534.1 L1430.79 1534.1 Q1431.17 1540.14 1434.42 1543.33 Q1437.7 1546.48 1443.52 1546.48 Q1446.89 1546.48 1450.05 1545.65 Q1453.23 1544.82 1456.35 1543.17 L1456.35 1548.71 Q1453.2 1550.04 1449.89 1550.74 Q1446.58 1551.44 1443.17 1551.44 Q1434.64 1551.44 1429.64 1546.48 Q1424.68 1541.51 1424.68 1533.05 Q1424.68 1524.29 1429.39 1519.17 Q1434.13 1514.01 1442.15 1514.01 Q1449.35 1514.01 1453.52 1518.66 Q1457.72 1523.27 1457.72 1531.23 M1451.86 1529.51 Q1451.8 1524.71 1449.15 1521.84 Q1446.54 1518.98 1442.22 1518.98 Q1437.31 1518.98 1434.35 1521.75 Q1431.43 1524.52 1430.98 1529.54 L1451.86 1529.51 Z\" fill=\"#000000\" fill-rule=\"evenodd\" fill-opacity=\"1\" /><path clip-path=\"url(#clip700)\" d=\"M 0 0 M1484.52 1520.35 Q1483.53 1519.77 1482.35 1519.52 Q1481.21 1519.23 1479.81 1519.23 Q1474.84 1519.23 1472.17 1522.48 Q1469.52 1525.69 1469.52 1531.74 L1469.52 1550.52 L1463.64 1550.52 L1463.64 1514.87 L1469.52 1514.87 L1469.52 1520.41 Q1471.37 1517.16 1474.33 1515.6 Q1477.29 1514.01 1481.52 1514.01 Q1482.13 1514.01 1482.86 1514.11 Q1483.59 1514.17 1484.48 1514.33 L1484.52 1520.35 Z\" fill=\"#000000\" fill-rule=\"evenodd\" fill-opacity=\"1\" /><path clip-path=\"url(#clip700)\" d=\"M 0 0 M1505.49 1553.83 Q1503.01 1560.2 1500.65 1562.14 Q1498.3 1564.08 1494.35 1564.08 L1489.67 1564.08 L1489.67 1559.18 L1493.11 1559.18 Q1495.53 1559.18 1496.87 1558.03 Q1498.2 1556.89 1499.83 1552.62 L1500.88 1549.95 L1486.46 1514.87 L1492.66 1514.87 L1503.8 1542.75 L1514.94 1514.87 L1521.15 1514.87 L1505.49 1553.83 Z\" fill=\"#000000\" fill-rule=\"evenodd\" fill-opacity=\"1\" /><path clip-path=\"url(#clip700)\" d=\"M 0 0 M1549.96 1545.11 L1560.46 1545.11 L1560.46 1508.86 L1549.03 1511.15 L1549.03 1505.29 L1560.4 1503 L1566.82 1503 L1566.82 1545.11 L1577.33 1545.11 L1577.33 1550.52 L1549.96 1550.52 L1549.96 1545.11 Z\" fill=\"#000000\" fill-rule=\"evenodd\" fill-opacity=\"1\" /><path clip-path=\"url(#clip700)\" d=\"M 0 0 M1601.96 1508.6 L1585.73 1533.97 L1601.96 1533.97 L1601.96 1508.6 M1600.28 1503 L1608.36 1503 L1608.36 1533.97 L1615.14 1533.97 L1615.14 1539.32 L1608.36 1539.32 L1608.36 1550.52 L1601.96 1550.52 L1601.96 1539.32 L1580.51 1539.32 L1580.51 1533.11 L1600.28 1503 Z\" fill=\"#000000\" fill-rule=\"evenodd\" fill-opacity=\"1\" /><path clip-path=\"url(#clip700)\" d=\"M 0 0 M1665.46 1520.28 L1665.46 1500.99 L1671.32 1500.99 L1671.32 1550.52 L1665.46 1550.52 L1665.46 1545.17 Q1663.62 1548.36 1660.78 1549.92 Q1657.98 1551.44 1654.03 1551.44 Q1647.57 1551.44 1643.5 1546.29 Q1639.46 1541.13 1639.46 1532.73 Q1639.46 1524.33 1643.5 1519.17 Q1647.57 1514.01 1654.03 1514.01 Q1657.98 1514.01 1660.78 1515.57 Q1663.62 1517.1 1665.46 1520.28 M1645.5 1532.73 Q1645.5 1539.19 1648.15 1542.88 Q1650.82 1546.54 1655.47 1546.54 Q1660.11 1546.54 1662.79 1542.88 Q1665.46 1539.19 1665.46 1532.73 Q1665.46 1526.27 1662.79 1522.61 Q1660.11 1518.91 1655.47 1518.91 Q1650.82 1518.91 1648.15 1522.61 Q1645.5 1526.27 1645.5 1532.73 Z\" fill=\"#000000\" fill-rule=\"evenodd\" fill-opacity=\"1\" /><path clip-path=\"url(#clip700)\" d=\"M 0 0 M1693.66 1532.6 Q1686.56 1532.6 1683.83 1534.22 Q1681.09 1535.85 1681.09 1539.76 Q1681.09 1542.88 1683.13 1544.73 Q1685.19 1546.54 1688.73 1546.54 Q1693.6 1546.54 1696.53 1543.1 Q1699.49 1539.63 1699.49 1533.91 L1699.49 1532.6 L1693.66 1532.6 M1705.34 1530.18 L1705.34 1550.52 L1699.49 1550.52 L1699.49 1545.11 Q1697.48 1548.36 1694.49 1549.92 Q1691.5 1551.44 1687.17 1551.44 Q1681.69 1551.44 1678.45 1548.39 Q1675.23 1545.3 1675.23 1540.14 Q1675.23 1534.13 1679.24 1531.07 Q1683.29 1528.02 1691.27 1528.02 L1699.49 1528.02 L1699.49 1527.44 Q1699.49 1523.4 1696.81 1521.21 Q1694.17 1518.98 1689.36 1518.98 Q1686.31 1518.98 1683.41 1519.71 Q1680.52 1520.44 1677.84 1521.91 L1677.84 1516.5 Q1681.06 1515.25 1684.08 1514.65 Q1687.1 1514.01 1689.97 1514.01 Q1697.7 1514.01 1701.52 1518.02 Q1705.34 1522.03 1705.34 1530.18 Z\" fill=\"#000000\" fill-rule=\"evenodd\" fill-opacity=\"1\" /><path clip-path=\"url(#clip700)\" d=\"M 0 0 M1726.32 1553.83 Q1723.83 1560.2 1721.48 1562.14 Q1719.12 1564.08 1715.18 1564.08 L1710.5 1564.08 L1710.5 1559.18 L1713.94 1559.18 Q1716.36 1559.18 1717.69 1558.03 Q1719.03 1556.89 1720.65 1552.62 L1721.7 1549.95 L1707.28 1514.87 L1713.49 1514.87 L1724.63 1542.75 L1735.77 1514.87 L1741.98 1514.87 L1726.32 1553.83 Z\" fill=\"#000000\" fill-rule=\"evenodd\" fill-opacity=\"1\" /><path clip-path=\"url(#clip700)\" d=\"M 0 0 M1770.85 1515.92 L1770.85 1521.46 Q1768.36 1520.19 1765.69 1519.55 Q1763.02 1518.91 1760.15 1518.91 Q1755.79 1518.91 1753.59 1520.25 Q1751.43 1521.59 1751.43 1524.26 Q1751.43 1526.3 1752.99 1527.48 Q1754.55 1528.62 1759.26 1529.67 L1761.27 1530.12 Q1767.5 1531.45 1770.11 1533.91 Q1772.76 1536.32 1772.76 1540.68 Q1772.76 1545.65 1768.81 1548.55 Q1764.89 1551.44 1758.02 1551.44 Q1755.15 1551.44 1752.03 1550.87 Q1748.95 1550.33 1745.51 1549.21 L1745.51 1543.17 Q1748.76 1544.85 1751.91 1545.71 Q1755.06 1546.54 1758.15 1546.54 Q1762.28 1546.54 1764.51 1545.14 Q1766.74 1543.71 1766.74 1541.13 Q1766.74 1538.74 1765.12 1537.47 Q1763.52 1536.2 1758.08 1535.02 L1756.05 1534.54 Q1750.6 1533.4 1748.18 1531.04 Q1745.76 1528.65 1745.76 1524.52 Q1745.76 1519.49 1749.33 1516.75 Q1752.89 1514.01 1759.45 1514.01 Q1762.7 1514.01 1765.56 1514.49 Q1768.43 1514.97 1770.85 1515.92 Z\" fill=\"#000000\" fill-rule=\"evenodd\" fill-opacity=\"1\" /><path clip-path=\"url(#clip700)\" d=\"M 0 0 M40.4842 1012.05 L40.4842 971.854 L45.895 971.854 L45.895 988.723 L88.0042 988.723 L88.0042 995.184 L45.895 995.184 L45.895 1012.05 L40.4842 1012.05 Z\" fill=\"#000000\" fill-rule=\"evenodd\" fill-opacity=\"1\" /><path clip-path=\"url(#clip700)\" d=\"M 0 0 M56.4621 962.974 Q56.4621 967.685 60.1542 970.422 Q63.8145 973.159 70.212 973.159 Q76.6095 973.159 80.3017 970.454 Q83.9619 967.716 83.9619 962.974 Q83.9619 958.295 80.2698 955.558 Q76.5777 952.821 70.212 952.821 Q63.8781 952.821 60.186 955.558 Q56.4621 958.295 56.4621 962.974 M51.4968 962.974 Q51.4968 955.335 56.4621 950.975 Q61.4273 946.614 70.212 946.614 Q78.9649 946.614 83.9619 950.975 Q88.9272 955.335 88.9272 962.974 Q88.9272 970.645 83.9619 975.005 Q78.9649 979.334 70.212 979.334 Q61.4273 979.334 56.4621 975.005 Q51.4968 970.645 51.4968 962.974 Z\" fill=\"#000000\" fill-rule=\"evenodd\" fill-opacity=\"1\" /><path clip-path=\"url(#clip700)\" d=\"M 0 0 M42.2347 934.678 L52.3562 934.678 L52.3562 922.615 L56.9077 922.615 L56.9077 934.678 L76.2594 934.678 Q80.6199 934.678 81.8613 933.501 Q83.1026 932.291 83.1026 928.631 L83.1026 922.615 L88.0042 922.615 L88.0042 928.631 Q88.0042 935.41 85.4897 937.988 Q82.9434 940.567 76.2594 940.567 L56.9077 940.567 L56.9077 944.863 L52.3562 944.863 L52.3562 940.567 L42.2347 940.567 L42.2347 934.678 Z\" fill=\"#000000\" fill-rule=\"evenodd\" fill-opacity=\"1\" /><path clip-path=\"url(#clip700)\" d=\"M 0 0 M70.0847 900.272 Q70.0847 907.369 71.7079 910.107 Q73.3312 912.844 77.2461 912.844 Q80.3653 912.844 82.2114 910.807 Q84.0256 908.738 84.0256 905.205 Q84.0256 900.335 80.5881 897.407 Q77.1188 894.447 71.3897 894.447 L70.0847 894.447 L70.0847 900.272 M67.6657 888.591 L88.0042 888.591 L88.0042 894.447 L82.5933 894.447 Q85.8398 896.452 87.3994 899.444 Q88.9272 902.436 88.9272 906.765 Q88.9272 912.239 85.8716 915.486 Q82.7843 918.7 77.6281 918.7 Q71.6125 918.7 68.5569 914.69 Q65.5014 910.648 65.5014 902.659 L65.5014 894.447 L64.9285 894.447 Q60.8862 894.447 58.6901 897.121 Q56.4621 899.762 56.4621 904.569 Q56.4621 907.624 57.1941 910.52 Q57.9262 913.417 59.3903 916.09 L53.9795 916.09 Q52.7381 912.876 52.1334 909.852 Q51.4968 906.828 51.4968 903.964 Q51.4968 896.229 55.5072 892.41 Q59.5176 888.591 67.6657 888.591 Z\" fill=\"#000000\" fill-rule=\"evenodd\" fill-opacity=\"1\" /><path clip-path=\"url(#clip700)\" d=\"M 0 0 M38.479 882.448 L38.479 876.591 L88.0042 876.591 L88.0042 882.448 L38.479 882.448 Z\" fill=\"#000000\" fill-rule=\"evenodd\" fill-opacity=\"1\" /><path clip-path=\"url(#clip700)\" d=\"M 0 0 M53.7248 824.074 L59.1993 824.074 Q57.8307 826.557 57.1623 829.071 Q56.4621 831.554 56.4621 834.1 Q56.4621 839.797 60.0905 842.948 Q63.6872 846.1 70.212 846.1 Q76.7369 846.1 80.3653 842.948 Q83.9619 839.797 83.9619 834.1 Q83.9619 831.554 83.2935 829.071 Q82.5933 826.557 81.2247 824.074 L86.6355 824.074 Q87.7814 826.525 88.3543 829.167 Q88.9272 831.777 88.9272 834.737 Q88.9272 842.789 83.8664 847.532 Q78.8057 852.274 70.212 852.274 Q61.491 852.274 56.4939 847.5 Q51.4968 842.694 51.4968 834.355 Q51.4968 831.649 52.0697 829.071 Q52.6108 826.493 53.7248 824.074 Z\" fill=\"#000000\" fill-rule=\"evenodd\" fill-opacity=\"1\" /><path clip-path=\"url(#clip700)\" d=\"M 0 0 M56.4621 804.118 Q56.4621 808.828 60.1542 811.566 Q63.8145 814.303 70.212 814.303 Q76.6095 814.303 80.3017 811.597 Q83.9619 808.86 83.9619 804.118 Q83.9619 799.439 80.2698 796.702 Q76.5777 793.964 70.212 793.964 Q63.8781 793.964 60.186 796.702 Q56.4621 799.439 56.4621 804.118 M51.4968 804.118 Q51.4968 796.479 56.4621 792.118 Q61.4273 787.758 70.212 787.758 Q78.9649 787.758 83.9619 792.118 Q88.9272 796.479 88.9272 804.118 Q88.9272 811.788 83.9619 816.149 Q78.9649 820.478 70.212 820.478 Q61.4273 820.478 56.4621 816.149 Q51.4968 811.788 51.4968 804.118 Z\" fill=\"#000000\" fill-rule=\"evenodd\" fill-opacity=\"1\" /><path clip-path=\"url(#clip700)\" d=\"M 0 0 M66.4881 751.983 L88.0042 751.983 L88.0042 757.839 L66.679 757.839 Q61.6183 757.839 59.1038 759.812 Q56.5894 761.786 56.5894 765.732 Q56.5894 770.475 59.6131 773.212 Q62.6368 775.949 67.8567 775.949 L88.0042 775.949 L88.0042 781.838 L52.3562 781.838 L52.3562 775.949 L57.8944 775.949 Q54.6797 773.849 53.0883 771.016 Q51.4968 768.151 51.4968 764.427 Q51.4968 758.285 55.3163 755.134 Q59.1038 751.983 66.4881 751.983 Z\" fill=\"#000000\" fill-rule=\"evenodd\" fill-opacity=\"1\" /><path clip-path=\"url(#clip700)\" d=\"M 0 0 M38.479 727.793 L43.3487 727.793 L43.3487 733.395 Q43.3487 736.546 44.6219 737.787 Q45.895 738.996 49.2052 738.996 L52.3562 738.996 L52.3562 729.352 L56.9077 729.352 L56.9077 738.996 L88.0042 738.996 L88.0042 744.885 L56.9077 744.885 L56.9077 750.487 L52.3562 750.487 L52.3562 744.885 L49.8736 744.885 Q43.9216 744.885 41.2162 742.116 Q38.479 739.347 38.479 733.331 L38.479 727.793 Z\" fill=\"#000000\" fill-rule=\"evenodd\" fill-opacity=\"1\" /><path clip-path=\"url(#clip700)\" d=\"M 0 0 M52.3562 721.65 L52.3562 715.793 L88.0042 715.793 L88.0042 721.65 L52.3562 721.65 M38.479 721.65 L38.479 715.793 L45.895 715.793 L45.895 721.65 L38.479 721.65 Z\" fill=\"#000000\" fill-rule=\"evenodd\" fill-opacity=\"1\" /><path clip-path=\"url(#clip700)\" d=\"M 0 0 M57.8307 688.994 Q57.2578 689.981 57.0032 691.158 Q56.7167 692.304 56.7167 693.704 Q56.7167 698.67 59.9632 701.343 Q63.1779 703.985 69.2253 703.985 L88.0042 703.985 L88.0042 709.873 L52.3562 709.873 L52.3562 703.985 L57.8944 703.985 Q54.6479 702.139 53.0883 699.179 Q51.4968 696.219 51.4968 691.986 Q51.4968 691.381 51.5923 690.649 Q51.656 689.917 51.8151 689.026 L57.8307 688.994 Z\" fill=\"#000000\" fill-rule=\"evenodd\" fill-opacity=\"1\" /><path clip-path=\"url(#clip700)\" d=\"M 0 0 M59.1993 656.242 Q55.2526 654.046 53.3747 650.991 Q51.4968 647.935 51.4968 643.797 Q51.4968 638.227 55.4117 635.204 Q59.2948 632.18 66.4881 632.18 L88.0042 632.18 L88.0042 638.068 L66.679 638.068 Q61.5546 638.068 59.072 639.882 Q56.5894 641.697 56.5894 645.421 Q56.5894 649.972 59.6131 652.614 Q62.6368 655.256 67.8567 655.256 L88.0042 655.256 L88.0042 661.144 L66.679 661.144 Q61.5228 661.144 59.072 662.958 Q56.5894 664.772 56.5894 668.56 Q56.5894 673.048 59.6449 675.69 Q62.6686 678.331 67.8567 678.331 L88.0042 678.331 L88.0042 684.22 L52.3562 684.22 L52.3562 678.331 L57.8944 678.331 Q54.616 676.326 53.0564 673.525 Q51.4968 670.724 51.4968 666.873 Q51.4968 662.99 53.4702 660.285 Q55.4436 657.547 59.1993 656.242 Z\" fill=\"#000000\" fill-rule=\"evenodd\" fill-opacity=\"1\" /><path clip-path=\"url(#clip700)\" d=\"M 0 0 M68.7161 595.545 L71.5806 595.545 L71.5806 622.472 Q77.6281 622.09 80.8109 618.844 Q83.9619 615.565 83.9619 609.741 Q83.9619 606.367 83.1344 603.216 Q82.3069 600.033 80.6518 596.914 L86.1899 596.914 Q87.5267 600.065 88.227 603.375 Q88.9272 606.685 88.9272 610.091 Q88.9272 618.621 83.9619 623.618 Q78.9967 628.583 70.5303 628.583 Q61.7774 628.583 56.6531 623.873 Q51.4968 619.13 51.4968 611.109 Q51.4968 603.916 56.1438 599.747 Q60.7589 595.545 68.7161 595.545 M66.9973 601.402 Q62.1912 601.465 59.3266 604.107 Q56.4621 606.717 56.4621 611.046 Q56.4621 615.947 59.2312 618.907 Q62.0002 621.836 67.0292 622.281 L66.9973 601.402 Z\" fill=\"#000000\" fill-rule=\"evenodd\" fill-opacity=\"1\" /><path clip-path=\"url(#clip700)\" d=\"M 0 0 M57.7671 565.945 L38.479 565.945 L38.479 560.088 L88.0042 560.088 L88.0042 565.945 L82.657 565.945 Q85.8398 567.791 87.3994 570.624 Q88.9272 573.424 88.9272 577.371 Q88.9272 583.832 83.771 587.906 Q78.6147 591.949 70.212 591.949 Q61.8093 591.949 56.6531 587.906 Q51.4968 583.832 51.4968 577.371 Q51.4968 573.424 53.0564 570.624 Q54.5842 567.791 57.7671 565.945 M70.212 585.901 Q76.6732 585.901 80.3653 583.259 Q84.0256 580.586 84.0256 575.939 Q84.0256 571.292 80.3653 568.618 Q76.6732 565.945 70.212 565.945 Q63.7508 565.945 60.0905 568.618 Q56.3984 571.292 56.3984 575.939 Q56.3984 580.586 60.0905 583.259 Q63.7508 585.901 70.212 585.901 Z\" fill=\"#000000\" fill-rule=\"evenodd\" fill-opacity=\"1\" /><path clip-path=\"url(#clip700)\" d=\"M 0 0 M53.7248 507.571 L59.1993 507.571 Q57.8307 510.054 57.1623 512.568 Q56.4621 515.051 56.4621 517.597 Q56.4621 523.295 60.0905 526.446 Q63.6872 529.597 70.212 529.597 Q76.7369 529.597 80.3653 526.446 Q83.9619 523.295 83.9619 517.597 Q83.9619 515.051 83.2935 512.568 Q82.5933 510.054 81.2247 507.571 L86.6355 507.571 Q87.7814 510.022 88.3543 512.664 Q88.9272 515.274 88.9272 518.234 Q88.9272 526.286 83.8664 531.029 Q78.8057 535.771 70.212 535.771 Q61.491 535.771 56.4939 530.997 Q51.4968 526.191 51.4968 517.852 Q51.4968 515.146 52.0697 512.568 Q52.6108 509.99 53.7248 507.571 Z\" fill=\"#000000\" fill-rule=\"evenodd\" fill-opacity=\"1\" /><path clip-path=\"url(#clip700)\" d=\"M 0 0 M70.0847 485.228 Q70.0847 492.325 71.7079 495.063 Q73.3312 497.8 77.2461 497.8 Q80.3653 497.8 82.2114 495.763 Q84.0256 493.694 84.0256 490.161 Q84.0256 485.291 80.5881 482.363 Q77.1188 479.403 71.3897 479.403 L70.0847 479.403 L70.0847 485.228 M67.6657 473.547 L88.0042 473.547 L88.0042 479.403 L82.5933 479.403 Q85.8398 481.408 87.3994 484.4 Q88.9272 487.392 88.9272 491.721 Q88.9272 497.195 85.8716 500.442 Q82.7843 503.656 77.6281 503.656 Q71.6125 503.656 68.5569 499.646 Q65.5014 495.604 65.5014 487.615 L65.5014 479.403 L64.9285 479.403 Q60.8862 479.403 58.6901 482.077 Q56.4621 484.718 56.4621 489.524 Q56.4621 492.58 57.1941 495.476 Q57.9262 498.373 59.3903 501.046 L53.9795 501.046 Q52.7381 497.832 52.1334 494.808 Q51.4968 491.784 51.4968 488.92 Q51.4968 481.185 55.5072 477.366 Q59.5176 473.547 67.6657 473.547 Z\" fill=\"#000000\" fill-rule=\"evenodd\" fill-opacity=\"1\" /><path clip-path=\"url(#clip700)\" d=\"M 0 0 M53.4065 444.678 L58.9447 444.678 Q57.6716 447.161 57.035 449.834 Q56.3984 452.508 56.3984 455.372 Q56.3984 459.733 57.7352 461.929 Q59.072 464.093 61.7456 464.093 Q63.7826 464.093 64.9603 462.534 Q66.1061 460.974 67.1565 456.264 L67.6021 454.258 Q68.9389 448.02 71.3897 445.41 Q73.8086 442.768 78.1691 442.768 Q83.1344 442.768 86.0308 446.715 Q88.9272 450.63 88.9272 457.505 Q88.9272 460.37 88.3543 463.489 Q87.8132 466.576 86.6992 470.014 L80.6518 470.014 Q82.3387 466.767 83.198 463.616 Q84.0256 460.465 84.0256 457.378 Q84.0256 453.24 82.6251 451.012 Q81.1929 448.784 78.6147 448.784 Q76.2276 448.784 74.9545 450.407 Q73.6813 451.999 72.5037 457.441 L72.0262 459.478 Q70.8804 464.921 68.5251 467.34 Q66.138 469.759 62.0002 469.759 Q56.9713 469.759 54.2341 466.194 Q51.4968 462.629 51.4968 456.073 Q51.4968 452.826 51.9743 449.962 Q52.4517 447.097 53.4065 444.678 Z\" fill=\"#000000\" fill-rule=\"evenodd\" fill-opacity=\"1\" /><path clip-path=\"url(#clip700)\" d=\"M 0 0 M68.7161 406.134 L71.5806 406.134 L71.5806 433.061 Q77.6281 432.679 80.8109 429.432 Q83.9619 426.154 83.9619 420.329 Q83.9619 416.955 83.1344 413.804 Q82.3069 410.622 80.6518 407.502 L86.1899 407.502 Q87.5267 410.653 88.227 413.964 Q88.9272 417.274 88.9272 420.679 Q88.9272 429.209 83.9619 434.206 Q78.9967 439.172 70.5303 439.172 Q61.7774 439.172 56.6531 434.461 Q51.4968 429.719 51.4968 421.698 Q51.4968 414.505 56.1438 410.335 Q60.7589 406.134 68.7161 406.134 M66.9973 411.99 Q62.1912 412.054 59.3266 414.696 Q56.4621 417.306 56.4621 421.634 Q56.4621 426.536 59.2312 429.496 Q62.0002 432.424 67.0292 432.87 L66.9973 411.99 Z\" fill=\"#000000\" fill-rule=\"evenodd\" fill-opacity=\"1\" /><path clip-path=\"url(#clip700)\" d=\"M 0 0 M53.4065 377.265 L58.9447 377.265 Q57.6716 379.748 57.035 382.421 Q56.3984 385.095 56.3984 387.96 Q56.3984 392.32 57.7352 394.516 Q59.072 396.681 61.7456 396.681 Q63.7826 396.681 64.9603 395.121 Q66.1061 393.561 67.1565 388.851 L67.6021 386.846 Q68.9389 380.607 71.3897 377.997 Q73.8086 375.356 78.1691 375.356 Q83.1344 375.356 86.0308 379.302 Q88.9272 383.217 88.9272 390.092 Q88.9272 392.957 88.3543 396.076 Q87.8132 399.163 86.6992 402.601 L80.6518 402.601 Q82.3387 399.354 83.198 396.203 Q84.0256 393.052 84.0256 389.965 Q84.0256 385.827 82.6251 383.599 Q81.1929 381.371 78.6147 381.371 Q76.2276 381.371 74.9545 382.994 Q73.6813 384.586 72.5037 390.028 L72.0262 392.065 Q70.8804 397.508 68.5251 399.927 Q66.138 402.346 62.0002 402.346 Q56.9713 402.346 54.2341 398.781 Q51.4968 395.217 51.4968 388.66 Q51.4968 385.413 51.9743 382.549 Q52.4517 379.684 53.4065 377.265 Z\" fill=\"#000000\" fill-rule=\"evenodd\" fill-opacity=\"1\" /><polyline clip-path=\"url(#clip702)\" style=\"stroke:#009af9; stroke-width:4; stroke-opacity:1; fill:none\" points=\"\n",
       "  319.279,1231.66 332.801,1231.66 346.323,1231.66 359.846,1141.17 373.368,1141.17 386.89,1071.39 400.412,1020.4 413.935,998.305 427.457,969.902 440.979,932.054 \n",
       "  454.501,907.819 468.024,891.732 481.546,891.732 495.068,840.135 508.59,818.964 522.113,794.45 535.635,780.252 549.157,769.34 562.679,737.768 576.202,711.353 \n",
       "  589.724,691.034 603.246,668.953 616.768,649.778 630.291,648.59 643.813,642.377 657.335,639.469 670.857,637.809 684.38,636.181 697.902,631.427 711.424,629.04 \n",
       "  724.946,624.774 738.469,621.214 751.991,619.686 765.513,616.664 779.036,612.263 792.558,608.383 806.08,605.496 819.602,604.474 833.125,598.786 846.647,595.117 \n",
       "  860.169,590.089 873.691,587.043 887.214,583.852 900.736,578.408 914.258,571.295 927.78,567.996 941.303,564.373 954.825,560.355 968.347,556.41 981.869,549.502 \n",
       "  995.392,544.119 1008.91,541.412 1022.44,537.99 1035.96,533.632 1049.48,530.216 1063,524.577 1076.53,520.127 1090.05,515.808 1103.57,510.645 1117.09,505.03 \n",
       "  1130.61,499.888 1144.14,495.967 1157.66,493.439 1171.18,489.084 1184.7,482.704 1198.23,477.981 1211.75,472.936 1225.27,467.857 1238.79,462.629 1252.31,457.536 \n",
       "  1265.84,453.12 1279.36,448.195 1292.88,443.284 1306.4,436.883 1319.93,432.149 1333.45,428.391 1346.97,424.633 1360.49,419.602 1374.01,415.456 1387.54,410.616 \n",
       "  1401.06,405.965 1414.58,402.284 1428.1,400.051 1441.63,394.56 1455.15,390.031 1468.67,384.687 1482.19,379.96 1495.72,375.518 1509.24,371.404 1522.76,367.988 \n",
       "  1536.28,364.139 1549.8,357.264 1563.33,352.095 1576.85,347.416 1590.37,343.374 1603.89,339.064 1617.42,335.714 1630.94,332.022 1644.46,327.473 1657.98,322.879 \n",
       "  1671.5,317.963 1685.03,312.742 1698.55,308.731 1712.07,305.652 1725.59,301.365 1739.12,297.878 1752.64,294.205 1766.16,289.67 1779.68,285.662 1793.2,282.11 \n",
       "  1806.73,278.526 1820.25,274.225 1833.77,269.516 1847.29,265.301 1860.82,260.667 1874.34,256.801 1887.86,253.225 1901.38,249.352 1914.91,245.042 1928.43,240.65 \n",
       "  1941.95,236.324 1955.47,231.425 1968.99,227.668 1982.52,223.996 1996.04,220.036 2009.56,216.741 2023.08,211.874 2036.61,207.714 2050.13,203.395 2063.65,199.719 \n",
       "  2077.17,196.344 2090.69,193.394 2104.22,189.944 2117.74,186.528 2131.26,183.199 2144.78,180.02 2158.31,176.922 2171.83,174.846 2185.35,173.065 2198.87,170.276 \n",
       "  2212.39,167.587 2225.92,164.82 2239.44,162.471 2252.96,160.368 2266.48,159.066 2280.01,157.76 2293.53,155.749 \n",
       "  \"/>\n",
       "<circle clip-path=\"url(#clip702)\" cx=\"319.279\" cy=\"1231.66\" r=\"14\" fill=\"#e26f46\" fill-rule=\"evenodd\" fill-opacity=\"1\" stroke=\"#000000\" stroke-opacity=\"1\" stroke-width=\"3.2\"/>\n",
       "<circle clip-path=\"url(#clip702)\" cx=\"332.801\" cy=\"1231.66\" r=\"14\" fill=\"#e26f46\" fill-rule=\"evenodd\" fill-opacity=\"1\" stroke=\"#000000\" stroke-opacity=\"1\" stroke-width=\"3.2\"/>\n",
       "<circle clip-path=\"url(#clip702)\" cx=\"346.323\" cy=\"1231.66\" r=\"14\" fill=\"#e26f46\" fill-rule=\"evenodd\" fill-opacity=\"1\" stroke=\"#000000\" stroke-opacity=\"1\" stroke-width=\"3.2\"/>\n",
       "<circle clip-path=\"url(#clip702)\" cx=\"359.846\" cy=\"1141.17\" r=\"14\" fill=\"#e26f46\" fill-rule=\"evenodd\" fill-opacity=\"1\" stroke=\"#000000\" stroke-opacity=\"1\" stroke-width=\"3.2\"/>\n",
       "<circle clip-path=\"url(#clip702)\" cx=\"373.368\" cy=\"1141.17\" r=\"14\" fill=\"#e26f46\" fill-rule=\"evenodd\" fill-opacity=\"1\" stroke=\"#000000\" stroke-opacity=\"1\" stroke-width=\"3.2\"/>\n",
       "<circle clip-path=\"url(#clip702)\" cx=\"386.89\" cy=\"1071.39\" r=\"14\" fill=\"#e26f46\" fill-rule=\"evenodd\" fill-opacity=\"1\" stroke=\"#000000\" stroke-opacity=\"1\" stroke-width=\"3.2\"/>\n",
       "<circle clip-path=\"url(#clip702)\" cx=\"400.412\" cy=\"1020.4\" r=\"14\" fill=\"#e26f46\" fill-rule=\"evenodd\" fill-opacity=\"1\" stroke=\"#000000\" stroke-opacity=\"1\" stroke-width=\"3.2\"/>\n",
       "<circle clip-path=\"url(#clip702)\" cx=\"413.935\" cy=\"998.305\" r=\"14\" fill=\"#e26f46\" fill-rule=\"evenodd\" fill-opacity=\"1\" stroke=\"#000000\" stroke-opacity=\"1\" stroke-width=\"3.2\"/>\n",
       "<circle clip-path=\"url(#clip702)\" cx=\"427.457\" cy=\"969.902\" r=\"14\" fill=\"#e26f46\" fill-rule=\"evenodd\" fill-opacity=\"1\" stroke=\"#000000\" stroke-opacity=\"1\" stroke-width=\"3.2\"/>\n",
       "<circle clip-path=\"url(#clip702)\" cx=\"440.979\" cy=\"932.054\" r=\"14\" fill=\"#e26f46\" fill-rule=\"evenodd\" fill-opacity=\"1\" stroke=\"#000000\" stroke-opacity=\"1\" stroke-width=\"3.2\"/>\n",
       "<circle clip-path=\"url(#clip702)\" cx=\"454.501\" cy=\"907.819\" r=\"14\" fill=\"#e26f46\" fill-rule=\"evenodd\" fill-opacity=\"1\" stroke=\"#000000\" stroke-opacity=\"1\" stroke-width=\"3.2\"/>\n",
       "<circle clip-path=\"url(#clip702)\" cx=\"468.024\" cy=\"891.732\" r=\"14\" fill=\"#e26f46\" fill-rule=\"evenodd\" fill-opacity=\"1\" stroke=\"#000000\" stroke-opacity=\"1\" stroke-width=\"3.2\"/>\n",
       "<circle clip-path=\"url(#clip702)\" cx=\"481.546\" cy=\"891.732\" r=\"14\" fill=\"#e26f46\" fill-rule=\"evenodd\" fill-opacity=\"1\" stroke=\"#000000\" stroke-opacity=\"1\" stroke-width=\"3.2\"/>\n",
       "<circle clip-path=\"url(#clip702)\" cx=\"495.068\" cy=\"840.135\" r=\"14\" fill=\"#e26f46\" fill-rule=\"evenodd\" fill-opacity=\"1\" stroke=\"#000000\" stroke-opacity=\"1\" stroke-width=\"3.2\"/>\n",
       "<circle clip-path=\"url(#clip702)\" cx=\"508.59\" cy=\"818.964\" r=\"14\" fill=\"#e26f46\" fill-rule=\"evenodd\" fill-opacity=\"1\" stroke=\"#000000\" stroke-opacity=\"1\" stroke-width=\"3.2\"/>\n",
       "<circle clip-path=\"url(#clip702)\" cx=\"522.113\" cy=\"794.45\" r=\"14\" fill=\"#e26f46\" fill-rule=\"evenodd\" fill-opacity=\"1\" stroke=\"#000000\" stroke-opacity=\"1\" stroke-width=\"3.2\"/>\n",
       "<circle clip-path=\"url(#clip702)\" cx=\"535.635\" cy=\"780.252\" r=\"14\" fill=\"#e26f46\" fill-rule=\"evenodd\" fill-opacity=\"1\" stroke=\"#000000\" stroke-opacity=\"1\" stroke-width=\"3.2\"/>\n",
       "<circle clip-path=\"url(#clip702)\" cx=\"549.157\" cy=\"769.34\" r=\"14\" fill=\"#e26f46\" fill-rule=\"evenodd\" fill-opacity=\"1\" stroke=\"#000000\" stroke-opacity=\"1\" stroke-width=\"3.2\"/>\n",
       "<circle clip-path=\"url(#clip702)\" cx=\"562.679\" cy=\"737.768\" r=\"14\" fill=\"#e26f46\" fill-rule=\"evenodd\" fill-opacity=\"1\" stroke=\"#000000\" stroke-opacity=\"1\" stroke-width=\"3.2\"/>\n",
       "<circle clip-path=\"url(#clip702)\" cx=\"576.202\" cy=\"711.353\" r=\"14\" fill=\"#e26f46\" fill-rule=\"evenodd\" fill-opacity=\"1\" stroke=\"#000000\" stroke-opacity=\"1\" stroke-width=\"3.2\"/>\n",
       "<circle clip-path=\"url(#clip702)\" cx=\"589.724\" cy=\"691.034\" r=\"14\" fill=\"#e26f46\" fill-rule=\"evenodd\" fill-opacity=\"1\" stroke=\"#000000\" stroke-opacity=\"1\" stroke-width=\"3.2\"/>\n",
       "<circle clip-path=\"url(#clip702)\" cx=\"603.246\" cy=\"668.953\" r=\"14\" fill=\"#e26f46\" fill-rule=\"evenodd\" fill-opacity=\"1\" stroke=\"#000000\" stroke-opacity=\"1\" stroke-width=\"3.2\"/>\n",
       "<circle clip-path=\"url(#clip702)\" cx=\"616.768\" cy=\"649.778\" r=\"14\" fill=\"#e26f46\" fill-rule=\"evenodd\" fill-opacity=\"1\" stroke=\"#000000\" stroke-opacity=\"1\" stroke-width=\"3.2\"/>\n",
       "<circle clip-path=\"url(#clip702)\" cx=\"630.291\" cy=\"648.59\" r=\"14\" fill=\"#e26f46\" fill-rule=\"evenodd\" fill-opacity=\"1\" stroke=\"#000000\" stroke-opacity=\"1\" stroke-width=\"3.2\"/>\n",
       "<circle clip-path=\"url(#clip702)\" cx=\"643.813\" cy=\"642.377\" r=\"14\" fill=\"#e26f46\" fill-rule=\"evenodd\" fill-opacity=\"1\" stroke=\"#000000\" stroke-opacity=\"1\" stroke-width=\"3.2\"/>\n",
       "<circle clip-path=\"url(#clip702)\" cx=\"657.335\" cy=\"639.469\" r=\"14\" fill=\"#e26f46\" fill-rule=\"evenodd\" fill-opacity=\"1\" stroke=\"#000000\" stroke-opacity=\"1\" stroke-width=\"3.2\"/>\n",
       "<circle clip-path=\"url(#clip702)\" cx=\"670.857\" cy=\"637.809\" r=\"14\" fill=\"#e26f46\" fill-rule=\"evenodd\" fill-opacity=\"1\" stroke=\"#000000\" stroke-opacity=\"1\" stroke-width=\"3.2\"/>\n",
       "<circle clip-path=\"url(#clip702)\" cx=\"684.38\" cy=\"636.181\" r=\"14\" fill=\"#e26f46\" fill-rule=\"evenodd\" fill-opacity=\"1\" stroke=\"#000000\" stroke-opacity=\"1\" stroke-width=\"3.2\"/>\n",
       "<circle clip-path=\"url(#clip702)\" cx=\"697.902\" cy=\"631.427\" r=\"14\" fill=\"#e26f46\" fill-rule=\"evenodd\" fill-opacity=\"1\" stroke=\"#000000\" stroke-opacity=\"1\" stroke-width=\"3.2\"/>\n",
       "<circle clip-path=\"url(#clip702)\" cx=\"711.424\" cy=\"629.04\" r=\"14\" fill=\"#e26f46\" fill-rule=\"evenodd\" fill-opacity=\"1\" stroke=\"#000000\" stroke-opacity=\"1\" stroke-width=\"3.2\"/>\n",
       "<circle clip-path=\"url(#clip702)\" cx=\"724.946\" cy=\"624.774\" r=\"14\" fill=\"#e26f46\" fill-rule=\"evenodd\" fill-opacity=\"1\" stroke=\"#000000\" stroke-opacity=\"1\" stroke-width=\"3.2\"/>\n",
       "<circle clip-path=\"url(#clip702)\" cx=\"738.469\" cy=\"621.214\" r=\"14\" fill=\"#e26f46\" fill-rule=\"evenodd\" fill-opacity=\"1\" stroke=\"#000000\" stroke-opacity=\"1\" stroke-width=\"3.2\"/>\n",
       "<circle clip-path=\"url(#clip702)\" cx=\"751.991\" cy=\"619.686\" r=\"14\" fill=\"#e26f46\" fill-rule=\"evenodd\" fill-opacity=\"1\" stroke=\"#000000\" stroke-opacity=\"1\" stroke-width=\"3.2\"/>\n",
       "<circle clip-path=\"url(#clip702)\" cx=\"765.513\" cy=\"616.664\" r=\"14\" fill=\"#e26f46\" fill-rule=\"evenodd\" fill-opacity=\"1\" stroke=\"#000000\" stroke-opacity=\"1\" stroke-width=\"3.2\"/>\n",
       "<circle clip-path=\"url(#clip702)\" cx=\"779.036\" cy=\"612.263\" r=\"14\" fill=\"#e26f46\" fill-rule=\"evenodd\" fill-opacity=\"1\" stroke=\"#000000\" stroke-opacity=\"1\" stroke-width=\"3.2\"/>\n",
       "<circle clip-path=\"url(#clip702)\" cx=\"792.558\" cy=\"608.383\" r=\"14\" fill=\"#e26f46\" fill-rule=\"evenodd\" fill-opacity=\"1\" stroke=\"#000000\" stroke-opacity=\"1\" stroke-width=\"3.2\"/>\n",
       "<circle clip-path=\"url(#clip702)\" cx=\"806.08\" cy=\"605.496\" r=\"14\" fill=\"#e26f46\" fill-rule=\"evenodd\" fill-opacity=\"1\" stroke=\"#000000\" stroke-opacity=\"1\" stroke-width=\"3.2\"/>\n",
       "<circle clip-path=\"url(#clip702)\" cx=\"819.602\" cy=\"604.474\" r=\"14\" fill=\"#e26f46\" fill-rule=\"evenodd\" fill-opacity=\"1\" stroke=\"#000000\" stroke-opacity=\"1\" stroke-width=\"3.2\"/>\n",
       "<circle clip-path=\"url(#clip702)\" cx=\"833.125\" cy=\"598.786\" r=\"14\" fill=\"#e26f46\" fill-rule=\"evenodd\" fill-opacity=\"1\" stroke=\"#000000\" stroke-opacity=\"1\" stroke-width=\"3.2\"/>\n",
       "<circle clip-path=\"url(#clip702)\" cx=\"846.647\" cy=\"595.117\" r=\"14\" fill=\"#e26f46\" fill-rule=\"evenodd\" fill-opacity=\"1\" stroke=\"#000000\" stroke-opacity=\"1\" stroke-width=\"3.2\"/>\n",
       "<circle clip-path=\"url(#clip702)\" cx=\"860.169\" cy=\"590.089\" r=\"14\" fill=\"#e26f46\" fill-rule=\"evenodd\" fill-opacity=\"1\" stroke=\"#000000\" stroke-opacity=\"1\" stroke-width=\"3.2\"/>\n",
       "<circle clip-path=\"url(#clip702)\" cx=\"873.691\" cy=\"587.043\" r=\"14\" fill=\"#e26f46\" fill-rule=\"evenodd\" fill-opacity=\"1\" stroke=\"#000000\" stroke-opacity=\"1\" stroke-width=\"3.2\"/>\n",
       "<circle clip-path=\"url(#clip702)\" cx=\"887.214\" cy=\"583.852\" r=\"14\" fill=\"#e26f46\" fill-rule=\"evenodd\" fill-opacity=\"1\" stroke=\"#000000\" stroke-opacity=\"1\" stroke-width=\"3.2\"/>\n",
       "<circle clip-path=\"url(#clip702)\" cx=\"900.736\" cy=\"578.408\" r=\"14\" fill=\"#e26f46\" fill-rule=\"evenodd\" fill-opacity=\"1\" stroke=\"#000000\" stroke-opacity=\"1\" stroke-width=\"3.2\"/>\n",
       "<circle clip-path=\"url(#clip702)\" cx=\"914.258\" cy=\"571.295\" r=\"14\" fill=\"#e26f46\" fill-rule=\"evenodd\" fill-opacity=\"1\" stroke=\"#000000\" stroke-opacity=\"1\" stroke-width=\"3.2\"/>\n",
       "<circle clip-path=\"url(#clip702)\" cx=\"927.78\" cy=\"567.996\" r=\"14\" fill=\"#e26f46\" fill-rule=\"evenodd\" fill-opacity=\"1\" stroke=\"#000000\" stroke-opacity=\"1\" stroke-width=\"3.2\"/>\n",
       "<circle clip-path=\"url(#clip702)\" cx=\"941.303\" cy=\"564.373\" r=\"14\" fill=\"#e26f46\" fill-rule=\"evenodd\" fill-opacity=\"1\" stroke=\"#000000\" stroke-opacity=\"1\" stroke-width=\"3.2\"/>\n",
       "<circle clip-path=\"url(#clip702)\" cx=\"954.825\" cy=\"560.355\" r=\"14\" fill=\"#e26f46\" fill-rule=\"evenodd\" fill-opacity=\"1\" stroke=\"#000000\" stroke-opacity=\"1\" stroke-width=\"3.2\"/>\n",
       "<circle clip-path=\"url(#clip702)\" cx=\"968.347\" cy=\"556.41\" r=\"14\" fill=\"#e26f46\" fill-rule=\"evenodd\" fill-opacity=\"1\" stroke=\"#000000\" stroke-opacity=\"1\" stroke-width=\"3.2\"/>\n",
       "<circle clip-path=\"url(#clip702)\" cx=\"981.869\" cy=\"549.502\" r=\"14\" fill=\"#e26f46\" fill-rule=\"evenodd\" fill-opacity=\"1\" stroke=\"#000000\" stroke-opacity=\"1\" stroke-width=\"3.2\"/>\n",
       "<circle clip-path=\"url(#clip702)\" cx=\"995.392\" cy=\"544.119\" r=\"14\" fill=\"#e26f46\" fill-rule=\"evenodd\" fill-opacity=\"1\" stroke=\"#000000\" stroke-opacity=\"1\" stroke-width=\"3.2\"/>\n",
       "<circle clip-path=\"url(#clip702)\" cx=\"1008.91\" cy=\"541.412\" r=\"14\" fill=\"#e26f46\" fill-rule=\"evenodd\" fill-opacity=\"1\" stroke=\"#000000\" stroke-opacity=\"1\" stroke-width=\"3.2\"/>\n",
       "<circle clip-path=\"url(#clip702)\" cx=\"1022.44\" cy=\"537.99\" r=\"14\" fill=\"#e26f46\" fill-rule=\"evenodd\" fill-opacity=\"1\" stroke=\"#000000\" stroke-opacity=\"1\" stroke-width=\"3.2\"/>\n",
       "<circle clip-path=\"url(#clip702)\" cx=\"1035.96\" cy=\"533.632\" r=\"14\" fill=\"#e26f46\" fill-rule=\"evenodd\" fill-opacity=\"1\" stroke=\"#000000\" stroke-opacity=\"1\" stroke-width=\"3.2\"/>\n",
       "<circle clip-path=\"url(#clip702)\" cx=\"1049.48\" cy=\"530.216\" r=\"14\" fill=\"#e26f46\" fill-rule=\"evenodd\" fill-opacity=\"1\" stroke=\"#000000\" stroke-opacity=\"1\" stroke-width=\"3.2\"/>\n",
       "<circle clip-path=\"url(#clip702)\" cx=\"1063\" cy=\"524.577\" r=\"14\" fill=\"#e26f46\" fill-rule=\"evenodd\" fill-opacity=\"1\" stroke=\"#000000\" stroke-opacity=\"1\" stroke-width=\"3.2\"/>\n",
       "<circle clip-path=\"url(#clip702)\" cx=\"1076.53\" cy=\"520.127\" r=\"14\" fill=\"#e26f46\" fill-rule=\"evenodd\" fill-opacity=\"1\" stroke=\"#000000\" stroke-opacity=\"1\" stroke-width=\"3.2\"/>\n",
       "<circle clip-path=\"url(#clip702)\" cx=\"1090.05\" cy=\"515.808\" r=\"14\" fill=\"#e26f46\" fill-rule=\"evenodd\" fill-opacity=\"1\" stroke=\"#000000\" stroke-opacity=\"1\" stroke-width=\"3.2\"/>\n",
       "<circle clip-path=\"url(#clip702)\" cx=\"1103.57\" cy=\"510.645\" r=\"14\" fill=\"#e26f46\" fill-rule=\"evenodd\" fill-opacity=\"1\" stroke=\"#000000\" stroke-opacity=\"1\" stroke-width=\"3.2\"/>\n",
       "<circle clip-path=\"url(#clip702)\" cx=\"1117.09\" cy=\"505.03\" r=\"14\" fill=\"#e26f46\" fill-rule=\"evenodd\" fill-opacity=\"1\" stroke=\"#000000\" stroke-opacity=\"1\" stroke-width=\"3.2\"/>\n",
       "<circle clip-path=\"url(#clip702)\" cx=\"1130.61\" cy=\"499.888\" r=\"14\" fill=\"#e26f46\" fill-rule=\"evenodd\" fill-opacity=\"1\" stroke=\"#000000\" stroke-opacity=\"1\" stroke-width=\"3.2\"/>\n",
       "<circle clip-path=\"url(#clip702)\" cx=\"1144.14\" cy=\"495.967\" r=\"14\" fill=\"#e26f46\" fill-rule=\"evenodd\" fill-opacity=\"1\" stroke=\"#000000\" stroke-opacity=\"1\" stroke-width=\"3.2\"/>\n",
       "<circle clip-path=\"url(#clip702)\" cx=\"1157.66\" cy=\"493.439\" r=\"14\" fill=\"#e26f46\" fill-rule=\"evenodd\" fill-opacity=\"1\" stroke=\"#000000\" stroke-opacity=\"1\" stroke-width=\"3.2\"/>\n",
       "<circle clip-path=\"url(#clip702)\" cx=\"1171.18\" cy=\"489.084\" r=\"14\" fill=\"#e26f46\" fill-rule=\"evenodd\" fill-opacity=\"1\" stroke=\"#000000\" stroke-opacity=\"1\" stroke-width=\"3.2\"/>\n",
       "<circle clip-path=\"url(#clip702)\" cx=\"1184.7\" cy=\"482.704\" r=\"14\" fill=\"#e26f46\" fill-rule=\"evenodd\" fill-opacity=\"1\" stroke=\"#000000\" stroke-opacity=\"1\" stroke-width=\"3.2\"/>\n",
       "<circle clip-path=\"url(#clip702)\" cx=\"1198.23\" cy=\"477.981\" r=\"14\" fill=\"#e26f46\" fill-rule=\"evenodd\" fill-opacity=\"1\" stroke=\"#000000\" stroke-opacity=\"1\" stroke-width=\"3.2\"/>\n",
       "<circle clip-path=\"url(#clip702)\" cx=\"1211.75\" cy=\"472.936\" r=\"14\" fill=\"#e26f46\" fill-rule=\"evenodd\" fill-opacity=\"1\" stroke=\"#000000\" stroke-opacity=\"1\" stroke-width=\"3.2\"/>\n",
       "<circle clip-path=\"url(#clip702)\" cx=\"1225.27\" cy=\"467.857\" r=\"14\" fill=\"#e26f46\" fill-rule=\"evenodd\" fill-opacity=\"1\" stroke=\"#000000\" stroke-opacity=\"1\" stroke-width=\"3.2\"/>\n",
       "<circle clip-path=\"url(#clip702)\" cx=\"1238.79\" cy=\"462.629\" r=\"14\" fill=\"#e26f46\" fill-rule=\"evenodd\" fill-opacity=\"1\" stroke=\"#000000\" stroke-opacity=\"1\" stroke-width=\"3.2\"/>\n",
       "<circle clip-path=\"url(#clip702)\" cx=\"1252.31\" cy=\"457.536\" r=\"14\" fill=\"#e26f46\" fill-rule=\"evenodd\" fill-opacity=\"1\" stroke=\"#000000\" stroke-opacity=\"1\" stroke-width=\"3.2\"/>\n",
       "<circle clip-path=\"url(#clip702)\" cx=\"1265.84\" cy=\"453.12\" r=\"14\" fill=\"#e26f46\" fill-rule=\"evenodd\" fill-opacity=\"1\" stroke=\"#000000\" stroke-opacity=\"1\" stroke-width=\"3.2\"/>\n",
       "<circle clip-path=\"url(#clip702)\" cx=\"1279.36\" cy=\"448.195\" r=\"14\" fill=\"#e26f46\" fill-rule=\"evenodd\" fill-opacity=\"1\" stroke=\"#000000\" stroke-opacity=\"1\" stroke-width=\"3.2\"/>\n",
       "<circle clip-path=\"url(#clip702)\" cx=\"1292.88\" cy=\"443.284\" r=\"14\" fill=\"#e26f46\" fill-rule=\"evenodd\" fill-opacity=\"1\" stroke=\"#000000\" stroke-opacity=\"1\" stroke-width=\"3.2\"/>\n",
       "<circle clip-path=\"url(#clip702)\" cx=\"1306.4\" cy=\"436.883\" r=\"14\" fill=\"#e26f46\" fill-rule=\"evenodd\" fill-opacity=\"1\" stroke=\"#000000\" stroke-opacity=\"1\" stroke-width=\"3.2\"/>\n",
       "<circle clip-path=\"url(#clip702)\" cx=\"1319.93\" cy=\"432.149\" r=\"14\" fill=\"#e26f46\" fill-rule=\"evenodd\" fill-opacity=\"1\" stroke=\"#000000\" stroke-opacity=\"1\" stroke-width=\"3.2\"/>\n",
       "<circle clip-path=\"url(#clip702)\" cx=\"1333.45\" cy=\"428.391\" r=\"14\" fill=\"#e26f46\" fill-rule=\"evenodd\" fill-opacity=\"1\" stroke=\"#000000\" stroke-opacity=\"1\" stroke-width=\"3.2\"/>\n",
       "<circle clip-path=\"url(#clip702)\" cx=\"1346.97\" cy=\"424.633\" r=\"14\" fill=\"#e26f46\" fill-rule=\"evenodd\" fill-opacity=\"1\" stroke=\"#000000\" stroke-opacity=\"1\" stroke-width=\"3.2\"/>\n",
       "<circle clip-path=\"url(#clip702)\" cx=\"1360.49\" cy=\"419.602\" r=\"14\" fill=\"#e26f46\" fill-rule=\"evenodd\" fill-opacity=\"1\" stroke=\"#000000\" stroke-opacity=\"1\" stroke-width=\"3.2\"/>\n",
       "<circle clip-path=\"url(#clip702)\" cx=\"1374.01\" cy=\"415.456\" r=\"14\" fill=\"#e26f46\" fill-rule=\"evenodd\" fill-opacity=\"1\" stroke=\"#000000\" stroke-opacity=\"1\" stroke-width=\"3.2\"/>\n",
       "<circle clip-path=\"url(#clip702)\" cx=\"1387.54\" cy=\"410.616\" r=\"14\" fill=\"#e26f46\" fill-rule=\"evenodd\" fill-opacity=\"1\" stroke=\"#000000\" stroke-opacity=\"1\" stroke-width=\"3.2\"/>\n",
       "<circle clip-path=\"url(#clip702)\" cx=\"1401.06\" cy=\"405.965\" r=\"14\" fill=\"#e26f46\" fill-rule=\"evenodd\" fill-opacity=\"1\" stroke=\"#000000\" stroke-opacity=\"1\" stroke-width=\"3.2\"/>\n",
       "<circle clip-path=\"url(#clip702)\" cx=\"1414.58\" cy=\"402.284\" r=\"14\" fill=\"#e26f46\" fill-rule=\"evenodd\" fill-opacity=\"1\" stroke=\"#000000\" stroke-opacity=\"1\" stroke-width=\"3.2\"/>\n",
       "<circle clip-path=\"url(#clip702)\" cx=\"1428.1\" cy=\"400.051\" r=\"14\" fill=\"#e26f46\" fill-rule=\"evenodd\" fill-opacity=\"1\" stroke=\"#000000\" stroke-opacity=\"1\" stroke-width=\"3.2\"/>\n",
       "<circle clip-path=\"url(#clip702)\" cx=\"1441.63\" cy=\"394.56\" r=\"14\" fill=\"#e26f46\" fill-rule=\"evenodd\" fill-opacity=\"1\" stroke=\"#000000\" stroke-opacity=\"1\" stroke-width=\"3.2\"/>\n",
       "<circle clip-path=\"url(#clip702)\" cx=\"1455.15\" cy=\"390.031\" r=\"14\" fill=\"#e26f46\" fill-rule=\"evenodd\" fill-opacity=\"1\" stroke=\"#000000\" stroke-opacity=\"1\" stroke-width=\"3.2\"/>\n",
       "<circle clip-path=\"url(#clip702)\" cx=\"1468.67\" cy=\"384.687\" r=\"14\" fill=\"#e26f46\" fill-rule=\"evenodd\" fill-opacity=\"1\" stroke=\"#000000\" stroke-opacity=\"1\" stroke-width=\"3.2\"/>\n",
       "<circle clip-path=\"url(#clip702)\" cx=\"1482.19\" cy=\"379.96\" r=\"14\" fill=\"#e26f46\" fill-rule=\"evenodd\" fill-opacity=\"1\" stroke=\"#000000\" stroke-opacity=\"1\" stroke-width=\"3.2\"/>\n",
       "<circle clip-path=\"url(#clip702)\" cx=\"1495.72\" cy=\"375.518\" r=\"14\" fill=\"#e26f46\" fill-rule=\"evenodd\" fill-opacity=\"1\" stroke=\"#000000\" stroke-opacity=\"1\" stroke-width=\"3.2\"/>\n",
       "<circle clip-path=\"url(#clip702)\" cx=\"1509.24\" cy=\"371.404\" r=\"14\" fill=\"#e26f46\" fill-rule=\"evenodd\" fill-opacity=\"1\" stroke=\"#000000\" stroke-opacity=\"1\" stroke-width=\"3.2\"/>\n",
       "<circle clip-path=\"url(#clip702)\" cx=\"1522.76\" cy=\"367.988\" r=\"14\" fill=\"#e26f46\" fill-rule=\"evenodd\" fill-opacity=\"1\" stroke=\"#000000\" stroke-opacity=\"1\" stroke-width=\"3.2\"/>\n",
       "<circle clip-path=\"url(#clip702)\" cx=\"1536.28\" cy=\"364.139\" r=\"14\" fill=\"#e26f46\" fill-rule=\"evenodd\" fill-opacity=\"1\" stroke=\"#000000\" stroke-opacity=\"1\" stroke-width=\"3.2\"/>\n",
       "<circle clip-path=\"url(#clip702)\" cx=\"1549.8\" cy=\"357.264\" r=\"14\" fill=\"#e26f46\" fill-rule=\"evenodd\" fill-opacity=\"1\" stroke=\"#000000\" stroke-opacity=\"1\" stroke-width=\"3.2\"/>\n",
       "<circle clip-path=\"url(#clip702)\" cx=\"1563.33\" cy=\"352.095\" r=\"14\" fill=\"#e26f46\" fill-rule=\"evenodd\" fill-opacity=\"1\" stroke=\"#000000\" stroke-opacity=\"1\" stroke-width=\"3.2\"/>\n",
       "<circle clip-path=\"url(#clip702)\" cx=\"1576.85\" cy=\"347.416\" r=\"14\" fill=\"#e26f46\" fill-rule=\"evenodd\" fill-opacity=\"1\" stroke=\"#000000\" stroke-opacity=\"1\" stroke-width=\"3.2\"/>\n",
       "<circle clip-path=\"url(#clip702)\" cx=\"1590.37\" cy=\"343.374\" r=\"14\" fill=\"#e26f46\" fill-rule=\"evenodd\" fill-opacity=\"1\" stroke=\"#000000\" stroke-opacity=\"1\" stroke-width=\"3.2\"/>\n",
       "<circle clip-path=\"url(#clip702)\" cx=\"1603.89\" cy=\"339.064\" r=\"14\" fill=\"#e26f46\" fill-rule=\"evenodd\" fill-opacity=\"1\" stroke=\"#000000\" stroke-opacity=\"1\" stroke-width=\"3.2\"/>\n",
       "<circle clip-path=\"url(#clip702)\" cx=\"1617.42\" cy=\"335.714\" r=\"14\" fill=\"#e26f46\" fill-rule=\"evenodd\" fill-opacity=\"1\" stroke=\"#000000\" stroke-opacity=\"1\" stroke-width=\"3.2\"/>\n",
       "<circle clip-path=\"url(#clip702)\" cx=\"1630.94\" cy=\"332.022\" r=\"14\" fill=\"#e26f46\" fill-rule=\"evenodd\" fill-opacity=\"1\" stroke=\"#000000\" stroke-opacity=\"1\" stroke-width=\"3.2\"/>\n",
       "<circle clip-path=\"url(#clip702)\" cx=\"1644.46\" cy=\"327.473\" r=\"14\" fill=\"#e26f46\" fill-rule=\"evenodd\" fill-opacity=\"1\" stroke=\"#000000\" stroke-opacity=\"1\" stroke-width=\"3.2\"/>\n",
       "<circle clip-path=\"url(#clip702)\" cx=\"1657.98\" cy=\"322.879\" r=\"14\" fill=\"#e26f46\" fill-rule=\"evenodd\" fill-opacity=\"1\" stroke=\"#000000\" stroke-opacity=\"1\" stroke-width=\"3.2\"/>\n",
       "<circle clip-path=\"url(#clip702)\" cx=\"1671.5\" cy=\"317.963\" r=\"14\" fill=\"#e26f46\" fill-rule=\"evenodd\" fill-opacity=\"1\" stroke=\"#000000\" stroke-opacity=\"1\" stroke-width=\"3.2\"/>\n",
       "<circle clip-path=\"url(#clip702)\" cx=\"1685.03\" cy=\"312.742\" r=\"14\" fill=\"#e26f46\" fill-rule=\"evenodd\" fill-opacity=\"1\" stroke=\"#000000\" stroke-opacity=\"1\" stroke-width=\"3.2\"/>\n",
       "<circle clip-path=\"url(#clip702)\" cx=\"1698.55\" cy=\"308.731\" r=\"14\" fill=\"#e26f46\" fill-rule=\"evenodd\" fill-opacity=\"1\" stroke=\"#000000\" stroke-opacity=\"1\" stroke-width=\"3.2\"/>\n",
       "<circle clip-path=\"url(#clip702)\" cx=\"1712.07\" cy=\"305.652\" r=\"14\" fill=\"#e26f46\" fill-rule=\"evenodd\" fill-opacity=\"1\" stroke=\"#000000\" stroke-opacity=\"1\" stroke-width=\"3.2\"/>\n",
       "<circle clip-path=\"url(#clip702)\" cx=\"1725.59\" cy=\"301.365\" r=\"14\" fill=\"#e26f46\" fill-rule=\"evenodd\" fill-opacity=\"1\" stroke=\"#000000\" stroke-opacity=\"1\" stroke-width=\"3.2\"/>\n",
       "<circle clip-path=\"url(#clip702)\" cx=\"1739.12\" cy=\"297.878\" r=\"14\" fill=\"#e26f46\" fill-rule=\"evenodd\" fill-opacity=\"1\" stroke=\"#000000\" stroke-opacity=\"1\" stroke-width=\"3.2\"/>\n",
       "<circle clip-path=\"url(#clip702)\" cx=\"1752.64\" cy=\"294.205\" r=\"14\" fill=\"#e26f46\" fill-rule=\"evenodd\" fill-opacity=\"1\" stroke=\"#000000\" stroke-opacity=\"1\" stroke-width=\"3.2\"/>\n",
       "<circle clip-path=\"url(#clip702)\" cx=\"1766.16\" cy=\"289.67\" r=\"14\" fill=\"#e26f46\" fill-rule=\"evenodd\" fill-opacity=\"1\" stroke=\"#000000\" stroke-opacity=\"1\" stroke-width=\"3.2\"/>\n",
       "<circle clip-path=\"url(#clip702)\" cx=\"1779.68\" cy=\"285.662\" r=\"14\" fill=\"#e26f46\" fill-rule=\"evenodd\" fill-opacity=\"1\" stroke=\"#000000\" stroke-opacity=\"1\" stroke-width=\"3.2\"/>\n",
       "<circle clip-path=\"url(#clip702)\" cx=\"1793.2\" cy=\"282.11\" r=\"14\" fill=\"#e26f46\" fill-rule=\"evenodd\" fill-opacity=\"1\" stroke=\"#000000\" stroke-opacity=\"1\" stroke-width=\"3.2\"/>\n",
       "<circle clip-path=\"url(#clip702)\" cx=\"1806.73\" cy=\"278.526\" r=\"14\" fill=\"#e26f46\" fill-rule=\"evenodd\" fill-opacity=\"1\" stroke=\"#000000\" stroke-opacity=\"1\" stroke-width=\"3.2\"/>\n",
       "<circle clip-path=\"url(#clip702)\" cx=\"1820.25\" cy=\"274.225\" r=\"14\" fill=\"#e26f46\" fill-rule=\"evenodd\" fill-opacity=\"1\" stroke=\"#000000\" stroke-opacity=\"1\" stroke-width=\"3.2\"/>\n",
       "<circle clip-path=\"url(#clip702)\" cx=\"1833.77\" cy=\"269.516\" r=\"14\" fill=\"#e26f46\" fill-rule=\"evenodd\" fill-opacity=\"1\" stroke=\"#000000\" stroke-opacity=\"1\" stroke-width=\"3.2\"/>\n",
       "<circle clip-path=\"url(#clip702)\" cx=\"1847.29\" cy=\"265.301\" r=\"14\" fill=\"#e26f46\" fill-rule=\"evenodd\" fill-opacity=\"1\" stroke=\"#000000\" stroke-opacity=\"1\" stroke-width=\"3.2\"/>\n",
       "<circle clip-path=\"url(#clip702)\" cx=\"1860.82\" cy=\"260.667\" r=\"14\" fill=\"#e26f46\" fill-rule=\"evenodd\" fill-opacity=\"1\" stroke=\"#000000\" stroke-opacity=\"1\" stroke-width=\"3.2\"/>\n",
       "<circle clip-path=\"url(#clip702)\" cx=\"1874.34\" cy=\"256.801\" r=\"14\" fill=\"#e26f46\" fill-rule=\"evenodd\" fill-opacity=\"1\" stroke=\"#000000\" stroke-opacity=\"1\" stroke-width=\"3.2\"/>\n",
       "<circle clip-path=\"url(#clip702)\" cx=\"1887.86\" cy=\"253.225\" r=\"14\" fill=\"#e26f46\" fill-rule=\"evenodd\" fill-opacity=\"1\" stroke=\"#000000\" stroke-opacity=\"1\" stroke-width=\"3.2\"/>\n",
       "<circle clip-path=\"url(#clip702)\" cx=\"1901.38\" cy=\"249.352\" r=\"14\" fill=\"#e26f46\" fill-rule=\"evenodd\" fill-opacity=\"1\" stroke=\"#000000\" stroke-opacity=\"1\" stroke-width=\"3.2\"/>\n",
       "<circle clip-path=\"url(#clip702)\" cx=\"1914.91\" cy=\"245.042\" r=\"14\" fill=\"#e26f46\" fill-rule=\"evenodd\" fill-opacity=\"1\" stroke=\"#000000\" stroke-opacity=\"1\" stroke-width=\"3.2\"/>\n",
       "<circle clip-path=\"url(#clip702)\" cx=\"1928.43\" cy=\"240.65\" r=\"14\" fill=\"#e26f46\" fill-rule=\"evenodd\" fill-opacity=\"1\" stroke=\"#000000\" stroke-opacity=\"1\" stroke-width=\"3.2\"/>\n",
       "<circle clip-path=\"url(#clip702)\" cx=\"1941.95\" cy=\"236.324\" r=\"14\" fill=\"#e26f46\" fill-rule=\"evenodd\" fill-opacity=\"1\" stroke=\"#000000\" stroke-opacity=\"1\" stroke-width=\"3.2\"/>\n",
       "<circle clip-path=\"url(#clip702)\" cx=\"1955.47\" cy=\"231.425\" r=\"14\" fill=\"#e26f46\" fill-rule=\"evenodd\" fill-opacity=\"1\" stroke=\"#000000\" stroke-opacity=\"1\" stroke-width=\"3.2\"/>\n",
       "<circle clip-path=\"url(#clip702)\" cx=\"1968.99\" cy=\"227.668\" r=\"14\" fill=\"#e26f46\" fill-rule=\"evenodd\" fill-opacity=\"1\" stroke=\"#000000\" stroke-opacity=\"1\" stroke-width=\"3.2\"/>\n",
       "<circle clip-path=\"url(#clip702)\" cx=\"1982.52\" cy=\"223.996\" r=\"14\" fill=\"#e26f46\" fill-rule=\"evenodd\" fill-opacity=\"1\" stroke=\"#000000\" stroke-opacity=\"1\" stroke-width=\"3.2\"/>\n",
       "<circle clip-path=\"url(#clip702)\" cx=\"1996.04\" cy=\"220.036\" r=\"14\" fill=\"#e26f46\" fill-rule=\"evenodd\" fill-opacity=\"1\" stroke=\"#000000\" stroke-opacity=\"1\" stroke-width=\"3.2\"/>\n",
       "<circle clip-path=\"url(#clip702)\" cx=\"2009.56\" cy=\"216.741\" r=\"14\" fill=\"#e26f46\" fill-rule=\"evenodd\" fill-opacity=\"1\" stroke=\"#000000\" stroke-opacity=\"1\" stroke-width=\"3.2\"/>\n",
       "<circle clip-path=\"url(#clip702)\" cx=\"2023.08\" cy=\"211.874\" r=\"14\" fill=\"#e26f46\" fill-rule=\"evenodd\" fill-opacity=\"1\" stroke=\"#000000\" stroke-opacity=\"1\" stroke-width=\"3.2\"/>\n",
       "<circle clip-path=\"url(#clip702)\" cx=\"2036.61\" cy=\"207.714\" r=\"14\" fill=\"#e26f46\" fill-rule=\"evenodd\" fill-opacity=\"1\" stroke=\"#000000\" stroke-opacity=\"1\" stroke-width=\"3.2\"/>\n",
       "<circle clip-path=\"url(#clip702)\" cx=\"2050.13\" cy=\"203.395\" r=\"14\" fill=\"#e26f46\" fill-rule=\"evenodd\" fill-opacity=\"1\" stroke=\"#000000\" stroke-opacity=\"1\" stroke-width=\"3.2\"/>\n",
       "<circle clip-path=\"url(#clip702)\" cx=\"2063.65\" cy=\"199.719\" r=\"14\" fill=\"#e26f46\" fill-rule=\"evenodd\" fill-opacity=\"1\" stroke=\"#000000\" stroke-opacity=\"1\" stroke-width=\"3.2\"/>\n",
       "<circle clip-path=\"url(#clip702)\" cx=\"2077.17\" cy=\"196.344\" r=\"14\" fill=\"#e26f46\" fill-rule=\"evenodd\" fill-opacity=\"1\" stroke=\"#000000\" stroke-opacity=\"1\" stroke-width=\"3.2\"/>\n",
       "<circle clip-path=\"url(#clip702)\" cx=\"2090.69\" cy=\"193.394\" r=\"14\" fill=\"#e26f46\" fill-rule=\"evenodd\" fill-opacity=\"1\" stroke=\"#000000\" stroke-opacity=\"1\" stroke-width=\"3.2\"/>\n",
       "<circle clip-path=\"url(#clip702)\" cx=\"2104.22\" cy=\"189.944\" r=\"14\" fill=\"#e26f46\" fill-rule=\"evenodd\" fill-opacity=\"1\" stroke=\"#000000\" stroke-opacity=\"1\" stroke-width=\"3.2\"/>\n",
       "<circle clip-path=\"url(#clip702)\" cx=\"2117.74\" cy=\"186.528\" r=\"14\" fill=\"#e26f46\" fill-rule=\"evenodd\" fill-opacity=\"1\" stroke=\"#000000\" stroke-opacity=\"1\" stroke-width=\"3.2\"/>\n",
       "<circle clip-path=\"url(#clip702)\" cx=\"2131.26\" cy=\"183.199\" r=\"14\" fill=\"#e26f46\" fill-rule=\"evenodd\" fill-opacity=\"1\" stroke=\"#000000\" stroke-opacity=\"1\" stroke-width=\"3.2\"/>\n",
       "<circle clip-path=\"url(#clip702)\" cx=\"2144.78\" cy=\"180.02\" r=\"14\" fill=\"#e26f46\" fill-rule=\"evenodd\" fill-opacity=\"1\" stroke=\"#000000\" stroke-opacity=\"1\" stroke-width=\"3.2\"/>\n",
       "<circle clip-path=\"url(#clip702)\" cx=\"2158.31\" cy=\"176.922\" r=\"14\" fill=\"#e26f46\" fill-rule=\"evenodd\" fill-opacity=\"1\" stroke=\"#000000\" stroke-opacity=\"1\" stroke-width=\"3.2\"/>\n",
       "<circle clip-path=\"url(#clip702)\" cx=\"2171.83\" cy=\"174.846\" r=\"14\" fill=\"#e26f46\" fill-rule=\"evenodd\" fill-opacity=\"1\" stroke=\"#000000\" stroke-opacity=\"1\" stroke-width=\"3.2\"/>\n",
       "<circle clip-path=\"url(#clip702)\" cx=\"2185.35\" cy=\"173.065\" r=\"14\" fill=\"#e26f46\" fill-rule=\"evenodd\" fill-opacity=\"1\" stroke=\"#000000\" stroke-opacity=\"1\" stroke-width=\"3.2\"/>\n",
       "<circle clip-path=\"url(#clip702)\" cx=\"2198.87\" cy=\"170.276\" r=\"14\" fill=\"#e26f46\" fill-rule=\"evenodd\" fill-opacity=\"1\" stroke=\"#000000\" stroke-opacity=\"1\" stroke-width=\"3.2\"/>\n",
       "<circle clip-path=\"url(#clip702)\" cx=\"2212.39\" cy=\"167.587\" r=\"14\" fill=\"#e26f46\" fill-rule=\"evenodd\" fill-opacity=\"1\" stroke=\"#000000\" stroke-opacity=\"1\" stroke-width=\"3.2\"/>\n",
       "<circle clip-path=\"url(#clip702)\" cx=\"2225.92\" cy=\"164.82\" r=\"14\" fill=\"#e26f46\" fill-rule=\"evenodd\" fill-opacity=\"1\" stroke=\"#000000\" stroke-opacity=\"1\" stroke-width=\"3.2\"/>\n",
       "<circle clip-path=\"url(#clip702)\" cx=\"2239.44\" cy=\"162.471\" r=\"14\" fill=\"#e26f46\" fill-rule=\"evenodd\" fill-opacity=\"1\" stroke=\"#000000\" stroke-opacity=\"1\" stroke-width=\"3.2\"/>\n",
       "<circle clip-path=\"url(#clip702)\" cx=\"2252.96\" cy=\"160.368\" r=\"14\" fill=\"#e26f46\" fill-rule=\"evenodd\" fill-opacity=\"1\" stroke=\"#000000\" stroke-opacity=\"1\" stroke-width=\"3.2\"/>\n",
       "<circle clip-path=\"url(#clip702)\" cx=\"2266.48\" cy=\"159.066\" r=\"14\" fill=\"#e26f46\" fill-rule=\"evenodd\" fill-opacity=\"1\" stroke=\"#000000\" stroke-opacity=\"1\" stroke-width=\"3.2\"/>\n",
       "<circle clip-path=\"url(#clip702)\" cx=\"2280.01\" cy=\"157.76\" r=\"14\" fill=\"#e26f46\" fill-rule=\"evenodd\" fill-opacity=\"1\" stroke=\"#000000\" stroke-opacity=\"1\" stroke-width=\"3.2\"/>\n",
       "<circle clip-path=\"url(#clip702)\" cx=\"2293.53\" cy=\"155.749\" r=\"14\" fill=\"#e26f46\" fill-rule=\"evenodd\" fill-opacity=\"1\" stroke=\"#000000\" stroke-opacity=\"1\" stroke-width=\"3.2\"/>\n",
       "<path clip-path=\"url(#clip700)\" d=\"\n",
       "M332.051 388.432 L918.901 388.432 L918.901 206.992 L332.051 206.992  Z\n",
       "  \" fill=\"#ffffff\" fill-rule=\"evenodd\" fill-opacity=\"1\"/>\n",
       "<polyline clip-path=\"url(#clip700)\" style=\"stroke:#000000; stroke-width:4; stroke-opacity:1; fill:none\" points=\"\n",
       "  332.051,388.432 918.901,388.432 918.901,206.992 332.051,206.992 332.051,388.432 \n",
       "  \"/>\n",
       "<polyline clip-path=\"url(#clip700)\" style=\"stroke:#009af9; stroke-width:4; stroke-opacity:1; fill:none\" points=\"\n",
       "  356.051,267.472 500.051,267.472 \n",
       "  \"/>\n",
       "<path clip-path=\"url(#clip700)\" d=\"M 0 0 M531.459 251.465 L531.459 258.826 L540.232 258.826 L540.232 262.137 L531.459 262.137 L531.459 276.211 Q531.459 279.382 532.315 280.285 Q533.195 281.187 535.857 281.187 L540.232 281.187 L540.232 284.752 L535.857 284.752 Q530.926 284.752 529.051 282.923 Q527.176 281.072 527.176 276.211 L527.176 262.137 L524.051 262.137 L524.051 258.826 L527.176 258.826 L527.176 251.465 L531.459 251.465 Z\" fill=\"#000000\" fill-rule=\"evenodd\" fill-opacity=\"1\" /><path clip-path=\"url(#clip700)\" d=\"M 0 0 M544.699 258.826 L548.959 258.826 L548.959 284.752 L544.699 284.752 L544.699 258.826 M544.699 248.734 L548.959 248.734 L548.959 254.127 L544.699 254.127 L544.699 248.734 Z\" fill=\"#000000\" fill-rule=\"evenodd\" fill-opacity=\"1\" /><path clip-path=\"url(#clip700)\" d=\"M 0 0 M573.611 263.803 Q575.208 260.933 577.431 259.567 Q579.653 258.201 582.662 258.201 Q586.713 258.201 588.912 261.049 Q591.111 263.873 591.111 269.104 L591.111 284.752 L586.829 284.752 L586.829 269.243 Q586.829 265.516 585.509 263.711 Q584.19 261.905 581.481 261.905 Q578.171 261.905 576.25 264.104 Q574.329 266.303 574.329 270.099 L574.329 284.752 L570.046 284.752 L570.046 269.243 Q570.046 265.493 568.727 263.711 Q567.407 261.905 564.653 261.905 Q561.389 261.905 559.468 264.127 Q557.546 266.326 557.546 270.099 L557.546 284.752 L553.264 284.752 L553.264 258.826 L557.546 258.826 L557.546 262.854 Q559.005 260.47 561.042 259.336 Q563.079 258.201 565.88 258.201 Q568.704 258.201 570.671 259.637 Q572.662 261.072 573.611 263.803 Z\" fill=\"#000000\" fill-rule=\"evenodd\" fill-opacity=\"1\" /><path clip-path=\"url(#clip700)\" d=\"M 0 0 M617.754 270.724 L617.754 272.808 L598.171 272.808 Q598.449 277.206 600.81 279.521 Q603.194 281.812 607.43 281.812 Q609.884 281.812 612.176 281.21 Q614.491 280.609 616.759 279.405 L616.759 283.433 Q614.467 284.405 612.06 284.914 Q609.653 285.423 607.176 285.423 Q600.972 285.423 597.338 281.812 Q593.727 278.201 593.727 272.044 Q593.727 265.678 597.153 261.951 Q600.602 258.201 606.435 258.201 Q611.667 258.201 614.699 261.581 Q617.754 264.937 617.754 270.724 M613.495 269.474 Q613.449 265.979 611.528 263.896 Q609.629 261.812 606.481 261.812 Q602.917 261.812 600.764 263.826 Q598.634 265.84 598.31 269.498 L613.495 269.474 Z\" fill=\"#000000\" fill-rule=\"evenodd\" fill-opacity=\"1\" /><path clip-path=\"url(#clip700)\" d=\"M 0 0 M637.291 248.734 L641.551 248.734 L641.551 284.752 L637.291 284.752 L637.291 248.734 Z\" fill=\"#000000\" fill-rule=\"evenodd\" fill-opacity=\"1\" /><path clip-path=\"url(#clip700)\" d=\"M 0 0 M646.018 258.826 L650.277 258.826 L650.277 284.752 L646.018 284.752 L646.018 258.826 M646.018 248.734 L650.277 248.734 L650.277 254.127 L646.018 254.127 L646.018 248.734 Z\" fill=\"#000000\" fill-rule=\"evenodd\" fill-opacity=\"1\" /><path clip-path=\"url(#clip700)\" d=\"M 0 0 M676.296 269.104 L676.296 284.752 L672.037 284.752 L672.037 269.243 Q672.037 265.562 670.601 263.734 Q669.166 261.905 666.296 261.905 Q662.847 261.905 660.856 264.104 Q658.865 266.303 658.865 270.099 L658.865 284.752 L654.583 284.752 L654.583 258.826 L658.865 258.826 L658.865 262.854 Q660.393 260.516 662.453 259.359 Q664.537 258.201 667.245 258.201 Q671.712 258.201 674.004 260.979 Q676.296 263.734 676.296 269.104 Z\" fill=\"#000000\" fill-rule=\"evenodd\" fill-opacity=\"1\" /><path clip-path=\"url(#clip700)\" d=\"M 0 0 M702.939 270.724 L702.939 272.808 L683.356 272.808 Q683.634 277.206 685.995 279.521 Q688.379 281.812 692.615 281.812 Q695.069 281.812 697.36 281.21 Q699.675 280.609 701.944 279.405 L701.944 283.433 Q699.652 284.405 697.245 284.914 Q694.837 285.423 692.361 285.423 Q686.157 285.423 682.523 281.812 Q678.912 278.201 678.912 272.044 Q678.912 265.678 682.337 261.951 Q685.786 258.201 691.62 258.201 Q696.851 258.201 699.884 261.581 Q702.939 264.937 702.939 270.724 M698.68 269.474 Q698.634 265.979 696.712 263.896 Q694.814 261.812 691.666 261.812 Q688.101 261.812 685.949 263.826 Q683.819 265.84 683.495 269.498 L698.68 269.474 Z\" fill=\"#000000\" fill-rule=\"evenodd\" fill-opacity=\"1\" /><circle clip-path=\"url(#clip700)\" cx=\"440.051\" cy=\"327.952\" r=\"23\" fill=\"#e26f46\" fill-rule=\"evenodd\" fill-opacity=\"1\" stroke=\"#000000\" stroke-opacity=\"1\" stroke-width=\"5.12\"/>\n",
       "<path clip-path=\"url(#clip700)\" d=\"M 0 0 M544.56 320.302 L544.56 324.283 Q542.755 323.288 540.926 322.802 Q539.121 322.292 537.269 322.292 Q533.125 322.292 530.834 324.931 Q528.542 327.547 528.542 332.292 Q528.542 337.038 530.834 339.677 Q533.125 342.292 537.269 342.292 Q539.121 342.292 540.926 341.806 Q542.755 341.297 544.56 340.302 L544.56 344.237 Q542.778 345.07 540.857 345.487 Q538.959 345.903 536.806 345.903 Q530.949 345.903 527.5 342.223 Q524.051 338.542 524.051 332.292 Q524.051 325.95 527.523 322.316 Q531.019 318.681 537.084 318.681 Q539.051 318.681 540.926 319.098 Q542.801 319.492 544.56 320.302 Z\" fill=\"#000000\" fill-rule=\"evenodd\" fill-opacity=\"1\" /><path clip-path=\"url(#clip700)\" d=\"M 0 0 M559.074 322.292 Q555.648 322.292 553.658 324.978 Q551.667 327.64 551.667 332.292 Q551.667 336.945 553.634 339.63 Q555.625 342.292 559.074 342.292 Q562.477 342.292 564.468 339.607 Q566.458 336.922 566.458 332.292 Q566.458 327.686 564.468 325.001 Q562.477 322.292 559.074 322.292 M559.074 318.681 Q564.63 318.681 567.801 322.292 Q570.972 325.904 570.972 332.292 Q570.972 338.658 567.801 342.292 Q564.63 345.903 559.074 345.903 Q553.496 345.903 550.324 342.292 Q547.176 338.658 547.176 332.292 Q547.176 325.904 550.324 322.292 Q553.496 318.681 559.074 318.681 Z\" fill=\"#000000\" fill-rule=\"evenodd\" fill-opacity=\"1\" /><path clip-path=\"url(#clip700)\" d=\"M 0 0 M596.991 329.584 L596.991 345.232 L592.731 345.232 L592.731 329.723 Q592.731 326.042 591.296 324.214 Q589.861 322.385 586.991 322.385 Q583.542 322.385 581.551 324.584 Q579.56 326.783 579.56 330.579 L579.56 345.232 L575.278 345.232 L575.278 319.306 L579.56 319.306 L579.56 323.334 Q581.088 320.996 583.148 319.839 Q585.231 318.681 587.94 318.681 Q592.407 318.681 594.699 321.459 Q596.991 324.214 596.991 329.584 Z\" fill=\"#000000\" fill-rule=\"evenodd\" fill-opacity=\"1\" /><path clip-path=\"url(#clip700)\" d=\"M 0 0 M614.583 309.214 L614.583 312.755 L610.509 312.755 Q608.217 312.755 607.315 313.681 Q606.435 314.607 606.435 317.015 L606.435 319.306 L613.449 319.306 L613.449 322.617 L606.435 322.617 L606.435 345.232 L602.153 345.232 L602.153 322.617 L598.079 322.617 L598.079 319.306 L602.153 319.306 L602.153 317.501 Q602.153 313.172 604.167 311.205 Q606.18 309.214 610.555 309.214 L614.583 309.214 Z\" fill=\"#000000\" fill-rule=\"evenodd\" fill-opacity=\"1\" /><path clip-path=\"url(#clip700)\" d=\"M 0 0 M619.051 319.306 L623.31 319.306 L623.31 345.232 L619.051 345.232 L619.051 319.306 M619.051 309.214 L623.31 309.214 L623.31 314.607 L619.051 314.607 L619.051 309.214 Z\" fill=\"#000000\" fill-rule=\"evenodd\" fill-opacity=\"1\" /><path clip-path=\"url(#clip700)\" d=\"M 0 0 M642.801 323.288 Q642.083 322.871 641.227 322.686 Q640.393 322.478 639.375 322.478 Q635.764 322.478 633.819 324.839 Q631.898 327.177 631.898 331.575 L631.898 345.232 L627.615 345.232 L627.615 319.306 L631.898 319.306 L631.898 323.334 Q633.24 320.973 635.393 319.839 Q637.546 318.681 640.625 318.681 Q641.064 318.681 641.597 318.751 Q642.129 318.797 642.777 318.913 L642.801 323.288 Z\" fill=\"#000000\" fill-rule=\"evenodd\" fill-opacity=\"1\" /><path clip-path=\"url(#clip700)\" d=\"M 0 0 M666.62 324.283 Q668.217 321.413 670.439 320.047 Q672.662 318.681 675.671 318.681 Q679.722 318.681 681.921 321.529 Q684.12 324.353 684.12 329.584 L684.12 345.232 L679.837 345.232 L679.837 329.723 Q679.837 325.996 678.518 324.191 Q677.199 322.385 674.49 322.385 Q671.18 322.385 669.259 324.584 Q667.338 326.783 667.338 330.579 L667.338 345.232 L663.055 345.232 L663.055 329.723 Q663.055 325.973 661.736 324.191 Q660.416 322.385 657.662 322.385 Q654.398 322.385 652.476 324.607 Q650.555 326.806 650.555 330.579 L650.555 345.232 L646.273 345.232 L646.273 319.306 L650.555 319.306 L650.555 323.334 Q652.014 320.95 654.051 319.816 Q656.088 318.681 658.888 318.681 Q661.713 318.681 663.68 320.117 Q665.671 321.552 666.62 324.283 Z\" fill=\"#000000\" fill-rule=\"evenodd\" fill-opacity=\"1\" /><path clip-path=\"url(#clip700)\" d=\"M 0 0 M710.763 331.204 L710.763 333.288 L691.18 333.288 Q691.458 337.686 693.819 340.001 Q696.203 342.292 700.439 342.292 Q702.893 342.292 705.185 341.69 Q707.499 341.089 709.768 339.885 L709.768 343.913 Q707.476 344.885 705.069 345.394 Q702.661 345.903 700.185 345.903 Q693.981 345.903 690.347 342.292 Q686.736 338.681 686.736 332.524 Q686.736 326.158 690.161 322.431 Q693.611 318.681 699.444 318.681 Q704.675 318.681 707.708 322.061 Q710.763 325.417 710.763 331.204 M706.504 329.954 Q706.458 326.459 704.536 324.376 Q702.638 322.292 699.49 322.292 Q695.925 322.292 693.773 324.306 Q691.643 326.32 691.319 329.978 L706.504 329.954 Z\" fill=\"#000000\" fill-rule=\"evenodd\" fill-opacity=\"1\" /><path clip-path=\"url(#clip700)\" d=\"M 0 0 M732.291 323.242 L732.291 309.214 L736.55 309.214 L736.55 345.232 L732.291 345.232 L732.291 341.343 Q730.948 343.658 728.888 344.792 Q726.851 345.903 723.981 345.903 Q719.282 345.903 716.319 342.153 Q713.379 338.403 713.379 332.292 Q713.379 326.181 716.319 322.431 Q719.282 318.681 723.981 318.681 Q726.851 318.681 728.888 319.816 Q730.948 320.927 732.291 323.242 M717.777 332.292 Q717.777 336.991 719.698 339.677 Q721.643 342.339 725.022 342.339 Q728.402 342.339 730.346 339.677 Q732.291 336.991 732.291 332.292 Q732.291 327.593 730.346 324.931 Q728.402 322.246 725.022 322.246 Q721.643 322.246 719.698 324.931 Q717.777 327.593 717.777 332.292 Z\" fill=\"#000000\" fill-rule=\"evenodd\" fill-opacity=\"1\" /><path clip-path=\"url(#clip700)\" d=\"M 0 0 M774.744 320.302 L774.744 324.283 Q772.939 323.288 771.11 322.802 Q769.305 322.292 767.453 322.292 Q763.309 322.292 761.018 324.931 Q758.726 327.547 758.726 332.292 Q758.726 337.038 761.018 339.677 Q763.309 342.292 767.453 342.292 Q769.305 342.292 771.11 341.806 Q772.939 341.297 774.744 340.302 L774.744 344.237 Q772.962 345.07 771.041 345.487 Q769.143 345.903 766.99 345.903 Q761.133 345.903 757.684 342.223 Q754.235 338.542 754.235 332.292 Q754.235 325.95 757.707 322.316 Q761.203 318.681 767.268 318.681 Q769.235 318.681 771.11 319.098 Q772.985 319.492 774.744 320.302 Z\" fill=\"#000000\" fill-rule=\"evenodd\" fill-opacity=\"1\" /><path clip-path=\"url(#clip700)\" d=\"M 0 0 M790.994 332.2 Q785.832 332.2 783.842 333.38 Q781.851 334.561 781.851 337.408 Q781.851 339.677 783.332 341.019 Q784.837 342.339 787.406 342.339 Q790.948 342.339 793.078 339.839 Q795.23 337.316 795.23 333.149 L795.23 332.2 L790.994 332.2 M799.49 330.441 L799.49 345.232 L795.23 345.232 L795.23 341.297 Q793.772 343.658 791.596 344.792 Q789.42 345.903 786.272 345.903 Q782.291 345.903 779.929 343.681 Q777.592 341.436 777.592 337.686 Q777.592 333.311 780.508 331.089 Q783.448 328.866 789.258 328.866 L795.23 328.866 L795.23 328.45 Q795.23 325.51 793.286 323.913 Q791.365 322.292 787.869 322.292 Q785.647 322.292 783.541 322.825 Q781.434 323.357 779.49 324.422 L779.49 320.487 Q781.828 319.584 784.027 319.144 Q786.226 318.681 788.309 318.681 Q793.934 318.681 796.712 321.598 Q799.49 324.515 799.49 330.441 Z\" fill=\"#000000\" fill-rule=\"evenodd\" fill-opacity=\"1\" /><path clip-path=\"url(#clip700)\" d=\"M 0 0 M820.485 320.07 L820.485 324.098 Q818.679 323.172 816.735 322.709 Q814.79 322.246 812.707 322.246 Q809.536 322.246 807.939 323.218 Q806.365 324.191 806.365 326.135 Q806.365 327.616 807.499 328.473 Q808.633 329.306 812.059 330.07 L813.517 330.394 Q818.054 331.366 819.952 333.149 Q821.874 334.908 821.874 338.079 Q821.874 341.69 819.003 343.797 Q816.156 345.903 811.156 345.903 Q809.073 345.903 806.804 345.487 Q804.559 345.093 802.059 344.283 L802.059 339.885 Q804.42 341.112 806.712 341.737 Q809.003 342.339 811.249 342.339 Q814.258 342.339 815.878 341.32 Q817.499 340.278 817.499 338.403 Q817.499 336.667 816.318 335.741 Q815.161 334.816 811.202 333.959 L809.721 333.612 Q805.763 332.778 804.003 331.066 Q802.244 329.329 802.244 326.32 Q802.244 322.663 804.837 320.672 Q807.429 318.681 812.198 318.681 Q814.559 318.681 816.642 319.029 Q818.726 319.376 820.485 320.07 Z\" fill=\"#000000\" fill-rule=\"evenodd\" fill-opacity=\"1\" /><path clip-path=\"url(#clip700)\" d=\"M 0 0 M848.517 331.204 L848.517 333.288 L828.934 333.288 Q829.212 337.686 831.573 340.001 Q833.957 342.292 838.193 342.292 Q840.647 342.292 842.938 341.69 Q845.253 341.089 847.522 339.885 L847.522 343.913 Q845.23 344.885 842.823 345.394 Q840.415 345.903 837.938 345.903 Q831.735 345.903 828.101 342.292 Q824.489 338.681 824.489 332.524 Q824.489 326.158 827.915 322.431 Q831.364 318.681 837.198 318.681 Q842.429 318.681 845.462 322.061 Q848.517 325.417 848.517 331.204 M844.258 329.954 Q844.212 326.459 842.29 324.376 Q840.392 322.292 837.244 322.292 Q833.679 322.292 831.526 324.306 Q829.397 326.32 829.073 329.978 L844.258 329.954 Z\" fill=\"#000000\" fill-rule=\"evenodd\" fill-opacity=\"1\" /><path clip-path=\"url(#clip700)\" d=\"M 0 0 M869.512 320.07 L869.512 324.098 Q867.707 323.172 865.762 322.709 Q863.818 322.246 861.735 322.246 Q858.563 322.246 856.966 323.218 Q855.392 324.191 855.392 326.135 Q855.392 327.616 856.526 328.473 Q857.661 329.306 861.086 330.07 L862.545 330.394 Q867.082 331.366 868.98 333.149 Q870.901 334.908 870.901 338.079 Q870.901 341.69 868.031 343.797 Q865.184 345.903 860.184 345.903 Q858.1 345.903 855.832 345.487 Q853.587 345.093 851.087 344.283 L851.087 339.885 Q853.448 341.112 855.739 341.737 Q858.031 342.339 860.276 342.339 Q863.286 342.339 864.906 341.32 Q866.526 340.278 866.526 338.403 Q866.526 336.667 865.346 335.741 Q864.188 334.816 860.23 333.959 L858.749 333.612 Q854.79 332.778 853.031 331.066 Q851.272 329.329 851.272 326.32 Q851.272 322.663 853.864 320.672 Q856.457 318.681 861.225 318.681 Q863.586 318.681 865.67 319.029 Q867.753 319.376 869.512 320.07 Z\" fill=\"#000000\" fill-rule=\"evenodd\" fill-opacity=\"1\" /></svg>\n"
      ]
     },
     "execution_count": 34,
     "metadata": {},
     "output_type": "execute_result"
    }
   ],
   "source": [
    "# Notes\n",
    "# confirmeddays = x\n",
    "# sadata = y.\n",
    "# xticks=confirmed_days[1:14:end] : Every 14 days\n",
    "\n",
    "covid19confirmedcases = plot(confirmeddays, label=\"time line\", sadata,\n",
    "                                xticks=confirmeddays[1:14:end], \n",
    "                                xrotation=45, \n",
    "                                leg=:topleft, \n",
    "                                yscale=:log10)\n",
    "\n",
    "    scatter!(confirmeddays, sadata, \n",
    "            linewidths=1, \n",
    "            label = \"confirmed cases\")\n",
    "\n",
    "xlabel!(\"Confirmed cases every 14 days\")\n",
    "ylabel!(\"Total confirmed cases\")\n",
    "title!(\"COVID-19\")\n",
    "\n"
   ]
  },
  {
   "cell_type": "code",
   "execution_count": 35,
   "metadata": {},
   "outputs": [
    {
     "data": {
      "text/plain": [
       "Plots.GRBackend()"
      ]
     },
     "execution_count": 35,
     "metadata": {},
     "output_type": "execute_result"
    }
   ],
   "source": [
    "gr()"
   ]
  },
  {
   "cell_type": "code",
   "execution_count": 36,
   "metadata": {
    "scrolled": true
   },
   "outputs": [
    {
     "data": {
      "text/plain": [
       "Plots.PlotlyJSBackend()"
      ]
     },
     "execution_count": 36,
     "metadata": {},
     "output_type": "execute_result"
    }
   ],
   "source": [
    "plotlyjs()"
   ]
  },
  {
   "cell_type": "code",
   "execution_count": 38,
   "metadata": {
    "scrolled": true
   },
   "outputs": [
    {
     "data": {
      "application/vnd.plotly.v1+json": {
       "data": [
        {
         "colorbar": {
          "title": ""
         },
         "legendgroup": "time line",
         "line": {
          "color": "rgba(254, 67, 101, 1.000)",
          "dash": "solid",
          "shape": "linear",
          "width": 1
         },
         "mode": "lines",
         "name": "time line",
         "showlegend": true,
         "type": "scatter",
         "x": [
          737489,
          737490,
          737491,
          737492,
          737493,
          737494,
          737495,
          737496,
          737497,
          737498,
          737499,
          737500,
          737501,
          737502,
          737503,
          737504,
          737505,
          737506,
          737507,
          737508,
          737509,
          737510,
          737511,
          737512,
          737513,
          737514,
          737515,
          737516,
          737517,
          737518,
          737519,
          737520,
          737521,
          737522,
          737523,
          737524,
          737525,
          737526,
          737527,
          737528,
          737529,
          737530,
          737531,
          737532,
          737533,
          737534,
          737535,
          737536,
          737537,
          737538,
          737539,
          737540,
          737541,
          737542,
          737543,
          737544,
          737545,
          737546,
          737547,
          737548,
          737549,
          737550,
          737551,
          737552,
          737553,
          737554,
          737555,
          737556,
          737557,
          737558,
          737559,
          737560,
          737561,
          737562,
          737563,
          737564,
          737565,
          737566,
          737567,
          737568,
          737569,
          737570,
          737571,
          737572,
          737573,
          737574,
          737575,
          737576,
          737577,
          737578,
          737579,
          737580,
          737581,
          737582,
          737583,
          737584,
          737585,
          737586,
          737587,
          737588,
          737589,
          737590,
          737591,
          737592,
          737593,
          737594,
          737595,
          737596,
          737597,
          737598,
          737599,
          737600,
          737601,
          737602,
          737603,
          737604,
          737605,
          737606,
          737607,
          737608,
          737609,
          737610,
          737611,
          737612,
          737613,
          737614,
          737615,
          737616,
          737617,
          737618,
          737619,
          737620,
          737621,
          737622,
          737623,
          737624,
          737625,
          737626,
          737627,
          737628,
          737629,
          737630,
          737631,
          737632,
          737633,
          737634,
          737635
         ],
         "xaxis": "x1",
         "y": [
          1,
          1,
          1,
          3,
          3,
          7,
          13,
          17,
          24,
          38,
          51,
          62,
          62,
          116,
          150,
          202,
          240,
          274,
          402,
          554,
          709,
          927,
          1170,
          1187,
          1280,
          1326,
          1353,
          1380,
          1462,
          1505,
          1585,
          1655,
          1686,
          1749,
          1845,
          1934,
          2003,
          2028,
          2173,
          2272,
          2415,
          2506,
          2605,
          2783,
          3034,
          3158,
          3300,
          3465,
          3635,
          3953,
          4220,
          4361,
          4546,
          4793,
          4996,
          5350,
          5647,
          5951,
          6336,
          6783,
          7220,
          7572,
          7808,
          8232,
          8895,
          9420,
          10015,
          10652,
          11350,
          12074,
          12739,
          13524,
          14355,
          15515,
          16433,
          17200,
          18003,
          19137,
          20125,
          21343,
          22583,
          23615,
          24264,
          25937,
          27403,
          29240,
          30967,
          32683,
          34357,
          35812,
          37525,
          40792,
          43434,
          45973,
          48285,
          50879,
          52991,
          55421,
          58568,
          61927,
          65736,
          70038,
          73533,
          76334,
          80412,
          83890,
          87715,
          92681,
          97302,
          101590,
          106108,
          111796,
          118375,
          124590,
          131800,
          138134,
          144264,
          151209,
          159333,
          168061,
          177124,
          187977,
          196750,
          205721,
          215855,
          224665,
          238339,
          250687,
          264184,
          276242,
          287796,
          298292,
          311049,
          324221,
          337594,
          350879,
          364328,
          373628,
          381798,
          394948,
          408052,
          421996,
          434200,
          445433,
          452529,
          459761,
          471123
         ],
         "yaxis": "y1",
         "zmax": null,
         "zmin": null
        },
        {
         "colorbar": {
          "title": ""
         },
         "hoverinfo": "text",
         "legendgroup": "confirmed cases",
         "marker": {
          "color": "rgba(236, 162, 92, 1.000)",
          "line": {
           "color": "rgba(173, 178, 183, 1.000)",
           "width": 1
          },
          "size": 8,
          "symbol": "circle"
         },
         "mode": "markers",
         "name": "confirmed cases",
         "showlegend": true,
         "text": [
          1,
          1,
          1,
          3,
          3,
          7,
          13,
          17,
          24,
          38,
          51,
          62,
          62,
          116,
          150,
          202,
          240,
          274,
          402,
          554,
          709,
          927,
          1170,
          1187,
          1280,
          1326,
          1353,
          1380,
          1462,
          1505,
          1585,
          1655,
          1686,
          1749,
          1845,
          1934,
          2003,
          2028,
          2173,
          2272,
          2415,
          2506,
          2605,
          2783,
          3034,
          3158,
          3300,
          3465,
          3635,
          3953,
          4220,
          4361,
          4546,
          4793,
          4996,
          5350,
          5647,
          5951,
          6336,
          6783,
          7220,
          7572,
          7808,
          8232,
          8895,
          9420,
          10015,
          10652,
          11350,
          12074,
          12739,
          13524,
          14355,
          15515,
          16433,
          17200,
          18003,
          19137,
          20125,
          21343,
          22583,
          23615,
          24264,
          25937,
          27403,
          29240,
          30967,
          32683,
          34357,
          35812,
          37525,
          40792,
          43434,
          45973,
          48285,
          50879,
          52991,
          55421,
          58568,
          61927,
          65736,
          70038,
          73533,
          76334,
          80412,
          83890,
          87715,
          92681,
          97302,
          101590,
          106108,
          111796,
          118375,
          124590,
          131800,
          138134,
          144264,
          151209,
          159333,
          168061,
          177124,
          187977,
          196750,
          205721,
          215855,
          224665,
          238339,
          250687,
          264184,
          276242,
          287796,
          298292,
          311049,
          324221,
          337594,
          350879,
          364328,
          373628,
          381798,
          394948,
          408052,
          421996,
          434200,
          445433,
          452529,
          459761,
          471123
         ],
         "type": "scatter",
         "x": [
          737489,
          737490,
          737491,
          737492,
          737493,
          737494,
          737495,
          737496,
          737497,
          737498,
          737499,
          737500,
          737501,
          737502,
          737503,
          737504,
          737505,
          737506,
          737507,
          737508,
          737509,
          737510,
          737511,
          737512,
          737513,
          737514,
          737515,
          737516,
          737517,
          737518,
          737519,
          737520,
          737521,
          737522,
          737523,
          737524,
          737525,
          737526,
          737527,
          737528,
          737529,
          737530,
          737531,
          737532,
          737533,
          737534,
          737535,
          737536,
          737537,
          737538,
          737539,
          737540,
          737541,
          737542,
          737543,
          737544,
          737545,
          737546,
          737547,
          737548,
          737549,
          737550,
          737551,
          737552,
          737553,
          737554,
          737555,
          737556,
          737557,
          737558,
          737559,
          737560,
          737561,
          737562,
          737563,
          737564,
          737565,
          737566,
          737567,
          737568,
          737569,
          737570,
          737571,
          737572,
          737573,
          737574,
          737575,
          737576,
          737577,
          737578,
          737579,
          737580,
          737581,
          737582,
          737583,
          737584,
          737585,
          737586,
          737587,
          737588,
          737589,
          737590,
          737591,
          737592,
          737593,
          737594,
          737595,
          737596,
          737597,
          737598,
          737599,
          737600,
          737601,
          737602,
          737603,
          737604,
          737605,
          737606,
          737607,
          737608,
          737609,
          737610,
          737611,
          737612,
          737613,
          737614,
          737615,
          737616,
          737617,
          737618,
          737619,
          737620,
          737621,
          737622,
          737623,
          737624,
          737625,
          737626,
          737627,
          737628,
          737629,
          737630,
          737631,
          737632,
          737633,
          737634,
          737635
         ],
         "xaxis": "x1",
         "y": [
          1,
          1,
          1,
          3,
          3,
          7,
          13,
          17,
          24,
          38,
          51,
          62,
          62,
          116,
          150,
          202,
          240,
          274,
          402,
          554,
          709,
          927,
          1170,
          1187,
          1280,
          1326,
          1353,
          1380,
          1462,
          1505,
          1585,
          1655,
          1686,
          1749,
          1845,
          1934,
          2003,
          2028,
          2173,
          2272,
          2415,
          2506,
          2605,
          2783,
          3034,
          3158,
          3300,
          3465,
          3635,
          3953,
          4220,
          4361,
          4546,
          4793,
          4996,
          5350,
          5647,
          5951,
          6336,
          6783,
          7220,
          7572,
          7808,
          8232,
          8895,
          9420,
          10015,
          10652,
          11350,
          12074,
          12739,
          13524,
          14355,
          15515,
          16433,
          17200,
          18003,
          19137,
          20125,
          21343,
          22583,
          23615,
          24264,
          25937,
          27403,
          29240,
          30967,
          32683,
          34357,
          35812,
          37525,
          40792,
          43434,
          45973,
          48285,
          50879,
          52991,
          55421,
          58568,
          61927,
          65736,
          70038,
          73533,
          76334,
          80412,
          83890,
          87715,
          92681,
          97302,
          101590,
          106108,
          111796,
          118375,
          124590,
          131800,
          138134,
          144264,
          151209,
          159333,
          168061,
          177124,
          187977,
          196750,
          205721,
          215855,
          224665,
          238339,
          250687,
          264184,
          276242,
          287796,
          298292,
          311049,
          324221,
          337594,
          350879,
          364328,
          373628,
          381798,
          394948,
          408052,
          421996,
          434200,
          445433,
          452529,
          459761,
          471123
         ],
         "yaxis": "y1",
         "zmax": null,
         "zmin": null
        }
       ],
       "layout": {
        "annotations": [
         {
          "font": {
           "color": "rgba(255, 255, 255, 1.000)",
           "family": "sans-serif",
           "size": 20
          },
          "rotation": 0,
          "showarrow": false,
          "text": "COVID-19",
          "x": 0.5423611111111111,
          "xanchor": "center",
          "xref": "paper",
          "y": 1,
          "yanchor": "top",
          "yref": "paper"
         }
        ],
        "height": 400,
        "legend": {
         "bgcolor": "rgba(54, 61, 70, 1.000)",
         "bordercolor": "rgba(255, 255, 255, 1.000)",
         "borderwidth": 1,
         "font": {
          "color": "rgba(255, 255, 255, 1.000)",
          "family": "sans-serif",
          "size": 11
         },
         "tracegroupgap": 0,
         "traceorder": "normal",
         "x": 1,
         "xanchor": "right",
         "y": 0.52,
         "yanchor": "middle"
        },
        "margin": {
         "b": 20,
         "l": 0,
         "r": 0,
         "t": 20
        },
        "paper_bgcolor": "rgba(54, 61, 70, 1.000)",
        "plot_bgcolor": "rgba(48, 52, 59, 1.000)",
        "showlegend": true,
        "width": 600,
        "xaxis": {
         "anchor": "y1",
         "domain": [
          0.09128390201224845,
          0.9934383202099738
         ],
         "gridcolor": "rgba(173, 178, 183, 0.100)",
         "gridwidth": 0.5,
         "linecolor": "rgba(173, 178, 183, 1.000)",
         "mirror": false,
         "range": [
          737484.62,
          737639.38
         ],
         "showgrid": false,
         "showline": true,
         "showticklabels": true,
         "tickangle": -45,
         "tickcolor": "rgb(173, 178, 183)",
         "tickfont": {
          "color": "rgba(255, 255, 255, 1.000)",
          "family": "sans-serif",
          "size": 11
         },
         "tickmode": "array",
         "ticks": "inside",
         "ticktext": [
          "2020-03-05",
          "2020-03-19",
          "2020-04-02",
          "2020-04-16",
          "2020-04-30",
          "2020-05-14",
          "2020-05-28",
          "2020-06-11",
          "2020-06-25",
          "2020-07-09",
          "2020-07-23"
         ],
         "tickvals": [
          737489,
          737503,
          737517,
          737531,
          737545,
          737559,
          737573,
          737587,
          737601,
          737615,
          737629
         ],
         "title": "Confirmed cases every 14 days",
         "titlefont": {
          "color": "rgba(255, 255, 255, 1.000)",
          "family": "sans-serif",
          "size": 15
         },
         "type": "-",
         "visible": true,
         "zeroline": false,
         "zerolinecolor": "rgba(173, 178, 183, 1.000)"
        },
        "yaxis": {
         "anchor": "x1",
         "domain": [
          0.22481365942612075,
          0.9415463692038496
         ],
         "gridcolor": "rgba(173, 178, 183, 0.100)",
         "gridwidth": 0.5,
         "linecolor": "rgba(173, 178, 183, 1.000)",
         "mirror": false,
         "range": [
          -0.17019402920415333,
          5.843328336009265
         ],
         "showgrid": false,
         "showline": true,
         "showticklabels": true,
         "tickangle": 0,
         "tickcolor": "rgb(173, 178, 183)",
         "tickfont": {
          "color": "rgba(255, 255, 255, 1.000)",
          "family": "sans-serif",
          "size": 11
         },
         "tickmode": "array",
         "ticks": "inside",
         "ticktext": [
          "10^0",
          "10^1",
          "10^2",
          "10^3",
          "10^4",
          "10^5"
         ],
         "tickvals": [
          1,
          10,
          100,
          1000,
          10000,
          100000
         ],
         "title": "Total confirmed cases",
         "titlefont": {
          "color": "rgba(255, 255, 255, 1.000)",
          "family": "sans-serif",
          "size": 15
         },
         "type": "log",
         "visible": true,
         "zeroline": false,
         "zerolinecolor": "rgba(173, 178, 183, 1.000)"
        }
       }
      },
      "text/html": [
       "<!DOCTYPE html>\n",
       "<html>\n",
       "    <head>\n",
       "        <title>Plots.jl</title>\n",
       "        <meta http-equiv=\"content-type\" content=\"text/html; charset=UTF-8\">\n",
       "        <script src=\"https://cdn.plot.ly/plotly-1.54.2.min.js\"></script>\n",
       "    </head>\n",
       "    <body>\n",
       "            <div id=\"bf487097-0646-47fe-9a64-6a44b9924b70\" style=\"width:600px;height:400px;\"></div>\n",
       "    <script>\n",
       "    PLOT = document.getElementById('bf487097-0646-47fe-9a64-6a44b9924b70');\n",
       "    Plotly.plot(PLOT, [\n",
       "    {\n",
       "        \"xaxis\": \"x1\",\n",
       "        \"colorbar\": {\n",
       "            \"title\": \"\"\n",
       "        },\n",
       "        \"yaxis\": \"y1\",\n",
       "        \"x\": [\n",
       "            737489.0,\n",
       "            737490.0,\n",
       "            737491.0,\n",
       "            737492.0,\n",
       "            737493.0,\n",
       "            737494.0,\n",
       "            737495.0,\n",
       "            737496.0,\n",
       "            737497.0,\n",
       "            737498.0,\n",
       "            737499.0,\n",
       "            737500.0,\n",
       "            737501.0,\n",
       "            737502.0,\n",
       "            737503.0,\n",
       "            737504.0,\n",
       "            737505.0,\n",
       "            737506.0,\n",
       "            737507.0,\n",
       "            737508.0,\n",
       "            737509.0,\n",
       "            737510.0,\n",
       "            737511.0,\n",
       "            737512.0,\n",
       "            737513.0,\n",
       "            737514.0,\n",
       "            737515.0,\n",
       "            737516.0,\n",
       "            737517.0,\n",
       "            737518.0,\n",
       "            737519.0,\n",
       "            737520.0,\n",
       "            737521.0,\n",
       "            737522.0,\n",
       "            737523.0,\n",
       "            737524.0,\n",
       "            737525.0,\n",
       "            737526.0,\n",
       "            737527.0,\n",
       "            737528.0,\n",
       "            737529.0,\n",
       "            737530.0,\n",
       "            737531.0,\n",
       "            737532.0,\n",
       "            737533.0,\n",
       "            737534.0,\n",
       "            737535.0,\n",
       "            737536.0,\n",
       "            737537.0,\n",
       "            737538.0,\n",
       "            737539.0,\n",
       "            737540.0,\n",
       "            737541.0,\n",
       "            737542.0,\n",
       "            737543.0,\n",
       "            737544.0,\n",
       "            737545.0,\n",
       "            737546.0,\n",
       "            737547.0,\n",
       "            737548.0,\n",
       "            737549.0,\n",
       "            737550.0,\n",
       "            737551.0,\n",
       "            737552.0,\n",
       "            737553.0,\n",
       "            737554.0,\n",
       "            737555.0,\n",
       "            737556.0,\n",
       "            737557.0,\n",
       "            737558.0,\n",
       "            737559.0,\n",
       "            737560.0,\n",
       "            737561.0,\n",
       "            737562.0,\n",
       "            737563.0,\n",
       "            737564.0,\n",
       "            737565.0,\n",
       "            737566.0,\n",
       "            737567.0,\n",
       "            737568.0,\n",
       "            737569.0,\n",
       "            737570.0,\n",
       "            737571.0,\n",
       "            737572.0,\n",
       "            737573.0,\n",
       "            737574.0,\n",
       "            737575.0,\n",
       "            737576.0,\n",
       "            737577.0,\n",
       "            737578.0,\n",
       "            737579.0,\n",
       "            737580.0,\n",
       "            737581.0,\n",
       "            737582.0,\n",
       "            737583.0,\n",
       "            737584.0,\n",
       "            737585.0,\n",
       "            737586.0,\n",
       "            737587.0,\n",
       "            737588.0,\n",
       "            737589.0,\n",
       "            737590.0,\n",
       "            737591.0,\n",
       "            737592.0,\n",
       "            737593.0,\n",
       "            737594.0,\n",
       "            737595.0,\n",
       "            737596.0,\n",
       "            737597.0,\n",
       "            737598.0,\n",
       "            737599.0,\n",
       "            737600.0,\n",
       "            737601.0,\n",
       "            737602.0,\n",
       "            737603.0,\n",
       "            737604.0,\n",
       "            737605.0,\n",
       "            737606.0,\n",
       "            737607.0,\n",
       "            737608.0,\n",
       "            737609.0,\n",
       "            737610.0,\n",
       "            737611.0,\n",
       "            737612.0,\n",
       "            737613.0,\n",
       "            737614.0,\n",
       "            737615.0,\n",
       "            737616.0,\n",
       "            737617.0,\n",
       "            737618.0,\n",
       "            737619.0,\n",
       "            737620.0,\n",
       "            737621.0,\n",
       "            737622.0,\n",
       "            737623.0,\n",
       "            737624.0,\n",
       "            737625.0,\n",
       "            737626.0,\n",
       "            737627.0,\n",
       "            737628.0,\n",
       "            737629.0,\n",
       "            737630.0,\n",
       "            737631.0,\n",
       "            737632.0,\n",
       "            737633.0,\n",
       "            737634.0,\n",
       "            737635.0\n",
       "        ],\n",
       "        \"showlegend\": true,\n",
       "        \"mode\": \"lines\",\n",
       "        \"name\": \"time line\",\n",
       "        \"zmin\": null,\n",
       "        \"legendgroup\": \"time line\",\n",
       "        \"zmax\": null,\n",
       "        \"line\": {\n",
       "            \"color\": \"rgba(254, 67, 101, 1.000)\",\n",
       "            \"shape\": \"linear\",\n",
       "            \"dash\": \"solid\",\n",
       "            \"width\": 1\n",
       "        },\n",
       "        \"y\": [\n",
       "            1.0,\n",
       "            1.0,\n",
       "            1.0,\n",
       "            3.0,\n",
       "            3.0,\n",
       "            7.0,\n",
       "            13.0,\n",
       "            17.0,\n",
       "            24.0,\n",
       "            38.0,\n",
       "            51.0,\n",
       "            62.0,\n",
       "            62.0,\n",
       "            116.0,\n",
       "            150.0,\n",
       "            202.0,\n",
       "            240.0,\n",
       "            274.0,\n",
       "            402.0,\n",
       "            554.0,\n",
       "            709.0,\n",
       "            927.0,\n",
       "            1170.0,\n",
       "            1187.0,\n",
       "            1280.0,\n",
       "            1326.0,\n",
       "            1353.0,\n",
       "            1380.0,\n",
       "            1462.0,\n",
       "            1505.0,\n",
       "            1585.0,\n",
       "            1655.0,\n",
       "            1686.0,\n",
       "            1749.0,\n",
       "            1845.0,\n",
       "            1934.0,\n",
       "            2003.0,\n",
       "            2028.0,\n",
       "            2173.0,\n",
       "            2272.0,\n",
       "            2415.0,\n",
       "            2506.0,\n",
       "            2605.0,\n",
       "            2783.0,\n",
       "            3034.0,\n",
       "            3158.0,\n",
       "            3300.0,\n",
       "            3465.0,\n",
       "            3635.0,\n",
       "            3953.0,\n",
       "            4220.0,\n",
       "            4361.0,\n",
       "            4546.0,\n",
       "            4793.0,\n",
       "            4996.0,\n",
       "            5350.0,\n",
       "            5647.0,\n",
       "            5951.0,\n",
       "            6336.0,\n",
       "            6783.0,\n",
       "            7220.0,\n",
       "            7572.0,\n",
       "            7808.0,\n",
       "            8232.0,\n",
       "            8895.0,\n",
       "            9420.0,\n",
       "            10015.0,\n",
       "            10652.0,\n",
       "            11350.0,\n",
       "            12074.0,\n",
       "            12739.0,\n",
       "            13524.0,\n",
       "            14355.0,\n",
       "            15515.0,\n",
       "            16433.0,\n",
       "            17200.0,\n",
       "            18003.0,\n",
       "            19137.0,\n",
       "            20125.0,\n",
       "            21343.0,\n",
       "            22583.0,\n",
       "            23615.0,\n",
       "            24264.0,\n",
       "            25937.0,\n",
       "            27403.0,\n",
       "            29240.0,\n",
       "            30967.0,\n",
       "            32683.0,\n",
       "            34357.0,\n",
       "            35812.0,\n",
       "            37525.0,\n",
       "            40792.0,\n",
       "            43434.0,\n",
       "            45973.0,\n",
       "            48285.0,\n",
       "            50879.0,\n",
       "            52991.0,\n",
       "            55421.0,\n",
       "            58568.0,\n",
       "            61927.0,\n",
       "            65736.0,\n",
       "            70038.0,\n",
       "            73533.0,\n",
       "            76334.0,\n",
       "            80412.0,\n",
       "            83890.0,\n",
       "            87715.0,\n",
       "            92681.0,\n",
       "            97302.0,\n",
       "            101590.0,\n",
       "            106108.0,\n",
       "            111796.0,\n",
       "            118375.0,\n",
       "            124590.0,\n",
       "            131800.0,\n",
       "            138134.0,\n",
       "            144264.0,\n",
       "            151209.0,\n",
       "            159333.0,\n",
       "            168061.0,\n",
       "            177124.0,\n",
       "            187977.0,\n",
       "            196750.0,\n",
       "            205721.0,\n",
       "            215855.0,\n",
       "            224665.0,\n",
       "            238339.0,\n",
       "            250687.0,\n",
       "            264184.0,\n",
       "            276242.0,\n",
       "            287796.0,\n",
       "            298292.0,\n",
       "            311049.0,\n",
       "            324221.0,\n",
       "            337594.0,\n",
       "            350879.0,\n",
       "            364328.0,\n",
       "            373628.0,\n",
       "            381798.0,\n",
       "            394948.0,\n",
       "            408052.0,\n",
       "            421996.0,\n",
       "            434200.0,\n",
       "            445433.0,\n",
       "            452529.0,\n",
       "            459761.0,\n",
       "            471123.0\n",
       "        ],\n",
       "        \"type\": \"scatter\"\n",
       "    },\n",
       "    {\n",
       "        \"xaxis\": \"x1\",\n",
       "        \"colorbar\": {\n",
       "            \"title\": \"\"\n",
       "        },\n",
       "        \"yaxis\": \"y1\",\n",
       "        \"text\": [\n",
       "            1,\n",
       "            1,\n",
       "            1,\n",
       "            3,\n",
       "            3,\n",
       "            7,\n",
       "            13,\n",
       "            17,\n",
       "            24,\n",
       "            38,\n",
       "            51,\n",
       "            62,\n",
       "            62,\n",
       "            116,\n",
       "            150,\n",
       "            202,\n",
       "            240,\n",
       "            274,\n",
       "            402,\n",
       "            554,\n",
       "            709,\n",
       "            927,\n",
       "            1170,\n",
       "            1187,\n",
       "            1280,\n",
       "            1326,\n",
       "            1353,\n",
       "            1380,\n",
       "            1462,\n",
       "            1505,\n",
       "            1585,\n",
       "            1655,\n",
       "            1686,\n",
       "            1749,\n",
       "            1845,\n",
       "            1934,\n",
       "            2003,\n",
       "            2028,\n",
       "            2173,\n",
       "            2272,\n",
       "            2415,\n",
       "            2506,\n",
       "            2605,\n",
       "            2783,\n",
       "            3034,\n",
       "            3158,\n",
       "            3300,\n",
       "            3465,\n",
       "            3635,\n",
       "            3953,\n",
       "            4220,\n",
       "            4361,\n",
       "            4546,\n",
       "            4793,\n",
       "            4996,\n",
       "            5350,\n",
       "            5647,\n",
       "            5951,\n",
       "            6336,\n",
       "            6783,\n",
       "            7220,\n",
       "            7572,\n",
       "            7808,\n",
       "            8232,\n",
       "            8895,\n",
       "            9420,\n",
       "            10015,\n",
       "            10652,\n",
       "            11350,\n",
       "            12074,\n",
       "            12739,\n",
       "            13524,\n",
       "            14355,\n",
       "            15515,\n",
       "            16433,\n",
       "            17200,\n",
       "            18003,\n",
       "            19137,\n",
       "            20125,\n",
       "            21343,\n",
       "            22583,\n",
       "            23615,\n",
       "            24264,\n",
       "            25937,\n",
       "            27403,\n",
       "            29240,\n",
       "            30967,\n",
       "            32683,\n",
       "            34357,\n",
       "            35812,\n",
       "            37525,\n",
       "            40792,\n",
       "            43434,\n",
       "            45973,\n",
       "            48285,\n",
       "            50879,\n",
       "            52991,\n",
       "            55421,\n",
       "            58568,\n",
       "            61927,\n",
       "            65736,\n",
       "            70038,\n",
       "            73533,\n",
       "            76334,\n",
       "            80412,\n",
       "            83890,\n",
       "            87715,\n",
       "            92681,\n",
       "            97302,\n",
       "            101590,\n",
       "            106108,\n",
       "            111796,\n",
       "            118375,\n",
       "            124590,\n",
       "            131800,\n",
       "            138134,\n",
       "            144264,\n",
       "            151209,\n",
       "            159333,\n",
       "            168061,\n",
       "            177124,\n",
       "            187977,\n",
       "            196750,\n",
       "            205721,\n",
       "            215855,\n",
       "            224665,\n",
       "            238339,\n",
       "            250687,\n",
       "            264184,\n",
       "            276242,\n",
       "            287796,\n",
       "            298292,\n",
       "            311049,\n",
       "            324221,\n",
       "            337594,\n",
       "            350879,\n",
       "            364328,\n",
       "            373628,\n",
       "            381798,\n",
       "            394948,\n",
       "            408052,\n",
       "            421996,\n",
       "            434200,\n",
       "            445433,\n",
       "            452529,\n",
       "            459761,\n",
       "            471123\n",
       "        ],\n",
       "        \"x\": [\n",
       "            737489.0,\n",
       "            737490.0,\n",
       "            737491.0,\n",
       "            737492.0,\n",
       "            737493.0,\n",
       "            737494.0,\n",
       "            737495.0,\n",
       "            737496.0,\n",
       "            737497.0,\n",
       "            737498.0,\n",
       "            737499.0,\n",
       "            737500.0,\n",
       "            737501.0,\n",
       "            737502.0,\n",
       "            737503.0,\n",
       "            737504.0,\n",
       "            737505.0,\n",
       "            737506.0,\n",
       "            737507.0,\n",
       "            737508.0,\n",
       "            737509.0,\n",
       "            737510.0,\n",
       "            737511.0,\n",
       "            737512.0,\n",
       "            737513.0,\n",
       "            737514.0,\n",
       "            737515.0,\n",
       "            737516.0,\n",
       "            737517.0,\n",
       "            737518.0,\n",
       "            737519.0,\n",
       "            737520.0,\n",
       "            737521.0,\n",
       "            737522.0,\n",
       "            737523.0,\n",
       "            737524.0,\n",
       "            737525.0,\n",
       "            737526.0,\n",
       "            737527.0,\n",
       "            737528.0,\n",
       "            737529.0,\n",
       "            737530.0,\n",
       "            737531.0,\n",
       "            737532.0,\n",
       "            737533.0,\n",
       "            737534.0,\n",
       "            737535.0,\n",
       "            737536.0,\n",
       "            737537.0,\n",
       "            737538.0,\n",
       "            737539.0,\n",
       "            737540.0,\n",
       "            737541.0,\n",
       "            737542.0,\n",
       "            737543.0,\n",
       "            737544.0,\n",
       "            737545.0,\n",
       "            737546.0,\n",
       "            737547.0,\n",
       "            737548.0,\n",
       "            737549.0,\n",
       "            737550.0,\n",
       "            737551.0,\n",
       "            737552.0,\n",
       "            737553.0,\n",
       "            737554.0,\n",
       "            737555.0,\n",
       "            737556.0,\n",
       "            737557.0,\n",
       "            737558.0,\n",
       "            737559.0,\n",
       "            737560.0,\n",
       "            737561.0,\n",
       "            737562.0,\n",
       "            737563.0,\n",
       "            737564.0,\n",
       "            737565.0,\n",
       "            737566.0,\n",
       "            737567.0,\n",
       "            737568.0,\n",
       "            737569.0,\n",
       "            737570.0,\n",
       "            737571.0,\n",
       "            737572.0,\n",
       "            737573.0,\n",
       "            737574.0,\n",
       "            737575.0,\n",
       "            737576.0,\n",
       "            737577.0,\n",
       "            737578.0,\n",
       "            737579.0,\n",
       "            737580.0,\n",
       "            737581.0,\n",
       "            737582.0,\n",
       "            737583.0,\n",
       "            737584.0,\n",
       "            737585.0,\n",
       "            737586.0,\n",
       "            737587.0,\n",
       "            737588.0,\n",
       "            737589.0,\n",
       "            737590.0,\n",
       "            737591.0,\n",
       "            737592.0,\n",
       "            737593.0,\n",
       "            737594.0,\n",
       "            737595.0,\n",
       "            737596.0,\n",
       "            737597.0,\n",
       "            737598.0,\n",
       "            737599.0,\n",
       "            737600.0,\n",
       "            737601.0,\n",
       "            737602.0,\n",
       "            737603.0,\n",
       "            737604.0,\n",
       "            737605.0,\n",
       "            737606.0,\n",
       "            737607.0,\n",
       "            737608.0,\n",
       "            737609.0,\n",
       "            737610.0,\n",
       "            737611.0,\n",
       "            737612.0,\n",
       "            737613.0,\n",
       "            737614.0,\n",
       "            737615.0,\n",
       "            737616.0,\n",
       "            737617.0,\n",
       "            737618.0,\n",
       "            737619.0,\n",
       "            737620.0,\n",
       "            737621.0,\n",
       "            737622.0,\n",
       "            737623.0,\n",
       "            737624.0,\n",
       "            737625.0,\n",
       "            737626.0,\n",
       "            737627.0,\n",
       "            737628.0,\n",
       "            737629.0,\n",
       "            737630.0,\n",
       "            737631.0,\n",
       "            737632.0,\n",
       "            737633.0,\n",
       "            737634.0,\n",
       "            737635.0\n",
       "        ],\n",
       "        \"showlegend\": true,\n",
       "        \"mode\": \"markers\",\n",
       "        \"name\": \"confirmed cases\",\n",
       "        \"zmin\": null,\n",
       "        \"legendgroup\": \"confirmed cases\",\n",
       "        \"marker\": {\n",
       "            \"symbol\": \"circle\",\n",
       "            \"color\": \"rgba(236, 162, 92, 1.000)\",\n",
       "            \"line\": {\n",
       "                \"color\": \"rgba(173, 178, 183, 1.000)\",\n",
       "                \"width\": 1\n",
       "            },\n",
       "            \"size\": 8\n",
       "        },\n",
       "        \"zmax\": null,\n",
       "        \"y\": [\n",
       "            1.0,\n",
       "            1.0,\n",
       "            1.0,\n",
       "            3.0,\n",
       "            3.0,\n",
       "            7.0,\n",
       "            13.0,\n",
       "            17.0,\n",
       "            24.0,\n",
       "            38.0,\n",
       "            51.0,\n",
       "            62.0,\n",
       "            62.0,\n",
       "            116.0,\n",
       "            150.0,\n",
       "            202.0,\n",
       "            240.0,\n",
       "            274.0,\n",
       "            402.0,\n",
       "            554.0,\n",
       "            709.0,\n",
       "            927.0,\n",
       "            1170.0,\n",
       "            1187.0,\n",
       "            1280.0,\n",
       "            1326.0,\n",
       "            1353.0,\n",
       "            1380.0,\n",
       "            1462.0,\n",
       "            1505.0,\n",
       "            1585.0,\n",
       "            1655.0,\n",
       "            1686.0,\n",
       "            1749.0,\n",
       "            1845.0,\n",
       "            1934.0,\n",
       "            2003.0,\n",
       "            2028.0,\n",
       "            2173.0,\n",
       "            2272.0,\n",
       "            2415.0,\n",
       "            2506.0,\n",
       "            2605.0,\n",
       "            2783.0,\n",
       "            3034.0,\n",
       "            3158.0,\n",
       "            3300.0,\n",
       "            3465.0,\n",
       "            3635.0,\n",
       "            3953.0,\n",
       "            4220.0,\n",
       "            4361.0,\n",
       "            4546.0,\n",
       "            4793.0,\n",
       "            4996.0,\n",
       "            5350.0,\n",
       "            5647.0,\n",
       "            5951.0,\n",
       "            6336.0,\n",
       "            6783.0,\n",
       "            7220.0,\n",
       "            7572.0,\n",
       "            7808.0,\n",
       "            8232.0,\n",
       "            8895.0,\n",
       "            9420.0,\n",
       "            10015.0,\n",
       "            10652.0,\n",
       "            11350.0,\n",
       "            12074.0,\n",
       "            12739.0,\n",
       "            13524.0,\n",
       "            14355.0,\n",
       "            15515.0,\n",
       "            16433.0,\n",
       "            17200.0,\n",
       "            18003.0,\n",
       "            19137.0,\n",
       "            20125.0,\n",
       "            21343.0,\n",
       "            22583.0,\n",
       "            23615.0,\n",
       "            24264.0,\n",
       "            25937.0,\n",
       "            27403.0,\n",
       "            29240.0,\n",
       "            30967.0,\n",
       "            32683.0,\n",
       "            34357.0,\n",
       "            35812.0,\n",
       "            37525.0,\n",
       "            40792.0,\n",
       "            43434.0,\n",
       "            45973.0,\n",
       "            48285.0,\n",
       "            50879.0,\n",
       "            52991.0,\n",
       "            55421.0,\n",
       "            58568.0,\n",
       "            61927.0,\n",
       "            65736.0,\n",
       "            70038.0,\n",
       "            73533.0,\n",
       "            76334.0,\n",
       "            80412.0,\n",
       "            83890.0,\n",
       "            87715.0,\n",
       "            92681.0,\n",
       "            97302.0,\n",
       "            101590.0,\n",
       "            106108.0,\n",
       "            111796.0,\n",
       "            118375.0,\n",
       "            124590.0,\n",
       "            131800.0,\n",
       "            138134.0,\n",
       "            144264.0,\n",
       "            151209.0,\n",
       "            159333.0,\n",
       "            168061.0,\n",
       "            177124.0,\n",
       "            187977.0,\n",
       "            196750.0,\n",
       "            205721.0,\n",
       "            215855.0,\n",
       "            224665.0,\n",
       "            238339.0,\n",
       "            250687.0,\n",
       "            264184.0,\n",
       "            276242.0,\n",
       "            287796.0,\n",
       "            298292.0,\n",
       "            311049.0,\n",
       "            324221.0,\n",
       "            337594.0,\n",
       "            350879.0,\n",
       "            364328.0,\n",
       "            373628.0,\n",
       "            381798.0,\n",
       "            394948.0,\n",
       "            408052.0,\n",
       "            421996.0,\n",
       "            434200.0,\n",
       "            445433.0,\n",
       "            452529.0,\n",
       "            459761.0,\n",
       "            471123.0\n",
       "        ],\n",
       "        \"type\": \"scatter\",\n",
       "        \"hoverinfo\": \"text\"\n",
       "    }\n",
       "]\n",
       ", {\n",
       "    \"showlegend\": true,\n",
       "    \"xaxis\": {\n",
       "        \"showticklabels\": true,\n",
       "        \"gridwidth\": 0.5,\n",
       "        \"tickvals\": [\n",
       "            737489.0,\n",
       "            737503.0,\n",
       "            737517.0,\n",
       "            737531.0,\n",
       "            737545.0,\n",
       "            737559.0,\n",
       "            737573.0,\n",
       "            737587.0,\n",
       "            737601.0,\n",
       "            737615.0,\n",
       "            737629.0\n",
       "        ],\n",
       "        \"visible\": true,\n",
       "        \"ticks\": \"inside\",\n",
       "        \"range\": [\n",
       "            737484.62,\n",
       "            737639.38\n",
       "        ],\n",
       "        \"domain\": [\n",
       "            0.09128390201224845,\n",
       "            0.9934383202099738\n",
       "        ],\n",
       "        \"tickmode\": \"array\",\n",
       "        \"linecolor\": \"rgba(173, 178, 183, 1.000)\",\n",
       "        \"showgrid\": false,\n",
       "        \"title\": \"Confirmed cases every 14 days\",\n",
       "        \"mirror\": false,\n",
       "        \"tickangle\": -45,\n",
       "        \"showline\": true,\n",
       "        \"gridcolor\": \"rgba(173, 178, 183, 0.100)\",\n",
       "        \"titlefont\": {\n",
       "            \"color\": \"rgba(255, 255, 255, 1.000)\",\n",
       "            \"family\": \"sans-serif\",\n",
       "            \"size\": 15\n",
       "        },\n",
       "        \"tickcolor\": \"rgb(173, 178, 183)\",\n",
       "        \"ticktext\": [\n",
       "            \"2020-03-05\",\n",
       "            \"2020-03-19\",\n",
       "            \"2020-04-02\",\n",
       "            \"2020-04-16\",\n",
       "            \"2020-04-30\",\n",
       "            \"2020-05-14\",\n",
       "            \"2020-05-28\",\n",
       "            \"2020-06-11\",\n",
       "            \"2020-06-25\",\n",
       "            \"2020-07-09\",\n",
       "            \"2020-07-23\"\n",
       "        ],\n",
       "        \"zeroline\": false,\n",
       "        \"type\": \"-\",\n",
       "        \"tickfont\": {\n",
       "            \"color\": \"rgba(255, 255, 255, 1.000)\",\n",
       "            \"family\": \"sans-serif\",\n",
       "            \"size\": 11\n",
       "        },\n",
       "        \"zerolinecolor\": \"rgba(173, 178, 183, 1.000)\",\n",
       "        \"anchor\": \"y1\"\n",
       "    },\n",
       "    \"paper_bgcolor\": \"rgba(54, 61, 70, 1.000)\",\n",
       "    \"annotations\": [\n",
       "        {\n",
       "            \"yanchor\": \"top\",\n",
       "            \"xanchor\": \"center\",\n",
       "            \"rotation\": -0.0,\n",
       "            \"y\": 1.0,\n",
       "            \"font\": {\n",
       "                \"color\": \"rgba(255, 255, 255, 1.000)\",\n",
       "                \"family\": \"sans-serif\",\n",
       "                \"size\": 20\n",
       "            },\n",
       "            \"yref\": \"paper\",\n",
       "            \"showarrow\": false,\n",
       "            \"text\": \"COVID-19\",\n",
       "            \"xref\": \"paper\",\n",
       "            \"x\": 0.5423611111111111\n",
       "        }\n",
       "    ],\n",
       "    \"height\": 400,\n",
       "    \"margin\": {\n",
       "        \"l\": 0,\n",
       "        \"b\": 20,\n",
       "        \"r\": 0,\n",
       "        \"t\": 20\n",
       "    },\n",
       "    \"plot_bgcolor\": \"rgba(48, 52, 59, 1.000)\",\n",
       "    \"yaxis\": {\n",
       "        \"showticklabels\": true,\n",
       "        \"gridwidth\": 0.5,\n",
       "        \"tickvals\": [\n",
       "            1.0,\n",
       "            10.0,\n",
       "            100.0,\n",
       "            1000.0,\n",
       "            10000.0,\n",
       "            100000.0\n",
       "        ],\n",
       "        \"visible\": true,\n",
       "        \"ticks\": \"inside\",\n",
       "        \"range\": [\n",
       "            -0.17019402920415333,\n",
       "            5.843328336009265\n",
       "        ],\n",
       "        \"domain\": [\n",
       "            0.22481365942612075,\n",
       "            0.9415463692038496\n",
       "        ],\n",
       "        \"tickmode\": \"array\",\n",
       "        \"linecolor\": \"rgba(173, 178, 183, 1.000)\",\n",
       "        \"showgrid\": false,\n",
       "        \"title\": \"Total confirmed cases\",\n",
       "        \"mirror\": false,\n",
       "        \"tickangle\": 0,\n",
       "        \"showline\": true,\n",
       "        \"gridcolor\": \"rgba(173, 178, 183, 0.100)\",\n",
       "        \"titlefont\": {\n",
       "            \"color\": \"rgba(255, 255, 255, 1.000)\",\n",
       "            \"family\": \"sans-serif\",\n",
       "            \"size\": 15\n",
       "        },\n",
       "        \"tickcolor\": \"rgb(173, 178, 183)\",\n",
       "        \"ticktext\": [\n",
       "            \"10^0\",\n",
       "            \"10^1\",\n",
       "            \"10^2\",\n",
       "            \"10^3\",\n",
       "            \"10^4\",\n",
       "            \"10^5\"\n",
       "        ],\n",
       "        \"zeroline\": false,\n",
       "        \"type\": \"log\",\n",
       "        \"tickfont\": {\n",
       "            \"color\": \"rgba(255, 255, 255, 1.000)\",\n",
       "            \"family\": \"sans-serif\",\n",
       "            \"size\": 11\n",
       "        },\n",
       "        \"zerolinecolor\": \"rgba(173, 178, 183, 1.000)\",\n",
       "        \"anchor\": \"x1\"\n",
       "    },\n",
       "    \"legend\": {\n",
       "        \"yanchor\": \"middle\",\n",
       "        \"xanchor\": \"right\",\n",
       "        \"bordercolor\": \"rgba(255, 255, 255, 1.000)\",\n",
       "        \"bgcolor\": \"rgba(54, 61, 70, 1.000)\",\n",
       "        \"font\": {\n",
       "            \"color\": \"rgba(255, 255, 255, 1.000)\",\n",
       "            \"family\": \"sans-serif\",\n",
       "            \"size\": 11\n",
       "        },\n",
       "        \"tracegroupgap\": 0,\n",
       "        \"y\": 0.52,\n",
       "        \"borderwidth\": 1,\n",
       "        \"traceorder\": \"normal\",\n",
       "        \"x\": 1.0\n",
       "    },\n",
       "    \"width\": 600\n",
       "}\n",
       ");\n",
       "    </script>\n",
       "\n",
       "    </body>\n",
       "</html>\n"
      ]
     },
     "execution_count": 38,
     "metadata": {},
     "output_type": "execute_result"
    }
   ],
   "source": [
    "#Notes:\n",
    "#Added scatter!()\n",
    "#confirmeddays = x\n",
    "#sadata = y.\n",
    "#xticks=confirmeddays[1:14:end] : Every 14 days\n",
    "#optional label=\"time line\" m=:o  The letter o form the point in the graph\n",
    "\n",
    "covid19confirmedcases = plot(confirmeddays, label=\"time line\", sadata,\n",
    "                                xticks=confirmeddays[1:14:end], \n",
    "                                xrotation=45, \n",
    "                                leg=:right, \n",
    "                                yscale=:log10,\n",
    "                                grid=false)\n",
    "    scatter!(confirmeddays, sadata, \n",
    "            linewidths=1, \n",
    "            hover=sadata,\n",
    "            label = \"confirmed cases\")\n",
    "\n",
    "theme(:dark)\n",
    "xlabel!(\"Confirmed cases every 14 days\")\n",
    "ylabel!(\"Total confirmed cases\")\n",
    "title!(\"COVID-19\")\n",
    " \n"
   ]
  }
 ],
 "metadata": {
  "@webio": {
   "lastCommId": "a8bc8e2ea4334a5ca6f0962711805e47",
   "lastKernelId": "ef4624e9-3b3e-4b0a-98d2-430ad96dc488"
  },
  "kernelspec": {
   "display_name": "Julia 1.4.2",
   "language": "julia",
   "name": "julia-1.4"
  },
  "language_info": {
   "file_extension": ".jl",
   "mimetype": "application/julia",
   "name": "julia",
   "version": "1.4.2"
  }
 },
 "nbformat": 4,
 "nbformat_minor": 4
}

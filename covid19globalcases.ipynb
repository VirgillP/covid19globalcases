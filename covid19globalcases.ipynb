{
 "cells": [
  {
   "cell_type": "markdown",
   "metadata": {},
   "source": [
    "***Exploring data on COVID-19***"
   ]
  },
  {
   "cell_type": "code",
   "execution_count": 12,
   "metadata": {},
   "outputs": [],
   "source": [
    "using Interact\n",
    "using CSV\n",
    "using DataFrames\n",
    "using Dates\n",
    "using PlotThemes\n",
    "using WebIO"
   ]
  },
  {
   "cell_type": "code",
   "execution_count": 2,
   "metadata": {},
   "outputs": [
    {
     "data": {
      "text/plain": [
       "\"https://raw.githubusercontent.com/CSSEGISandData/COVID-19/master/csse_covid_19_data/csse_covid_19_time_series/time_series_covid19_confirmed_global.csv\""
      ]
     },
     "execution_count": 2,
     "metadata": {},
     "output_type": "execute_result"
    }
   ],
   "source": [
    "# Open your web browser and search for johns hopkins coronavirus data github -> CSSEGISandData/COVID-19->COVID-19\n",
    "# ->csse_covid_19_data->csse covid 19 timer series. Select the time series covid19 confirmed global.csv file and on the top\n",
    "# right corner of the page click on raw. You will be presented with the actual csv file and proceed into copying the whole link\n",
    "# in the web browser search bar.\n",
    "\n",
    "url = \"https://raw.githubusercontent.com/CSSEGISandData/COVID-19/master/csse_covid_19_data/csse_covid_19_time_series/time_series_covid19_confirmed_global.csv\""
   ]
  },
  {
   "cell_type": "code",
   "execution_count": 3,
   "metadata": {},
   "outputs": [
    {
     "data": {
      "text/plain": [
       "\"https://raw.githubusercontent.com/CSSEGISandData/COVID-19/master/csse_covid_19_data/csse_covid_19_time_series/time_series_covid19_confirmed_global.csv\""
      ]
     },
     "execution_count": 3,
     "metadata": {},
     "output_type": "execute_result"
    }
   ],
   "source": [
    "url"
   ]
  },
  {
   "cell_type": "markdown",
   "metadata": {},
   "source": [
    "download() retrievs the data. Note the arguments in parentheses"
   ]
  },
  {
   "cell_type": "code",
   "execution_count": 4,
   "metadata": {},
   "outputs": [
    {
     "data": {
      "text/plain": [
       "\"covid_19_confirmed_global.csv\""
      ]
     },
     "execution_count": 4,
     "metadata": {},
     "output_type": "execute_result"
    }
   ],
   "source": [
    "#File will be downloaded in the same directory(folder) where the .ipynb file is located\n",
    "download(url, \"covid_19_confirmed_global.csv\") "
   ]
  },
  {
   "cell_type": "code",
   "execution_count": 5,
   "metadata": {},
   "outputs": [
    {
     "data": {
      "text/html": [
       "<table class=\"data-frame\"><thead><tr><th></th><th>Province/State</th><th>Country/Region</th><th>Lat</th><th>Long</th><th>1/22/20</th></tr><tr><th></th><th>String?</th><th>String</th><th>Float64</th><th>Float64</th><th>Int64</th></tr></thead><tbody><p>266 rows × 193 columns (omitted printing of 188 columns)</p><tr><th>1</th><td><em>missing</em></td><td>Afghanistan</td><td>33.9391</td><td>67.71</td><td>0</td></tr><tr><th>2</th><td><em>missing</em></td><td>Albania</td><td>41.1533</td><td>20.1683</td><td>0</td></tr><tr><th>3</th><td><em>missing</em></td><td>Algeria</td><td>28.0339</td><td>1.6596</td><td>0</td></tr><tr><th>4</th><td><em>missing</em></td><td>Andorra</td><td>42.5063</td><td>1.5218</td><td>0</td></tr><tr><th>5</th><td><em>missing</em></td><td>Angola</td><td>-11.2027</td><td>17.8739</td><td>0</td></tr><tr><th>6</th><td><em>missing</em></td><td>Antigua and Barbuda</td><td>17.0608</td><td>-61.7964</td><td>0</td></tr><tr><th>7</th><td><em>missing</em></td><td>Argentina</td><td>-38.4161</td><td>-63.6167</td><td>0</td></tr><tr><th>8</th><td><em>missing</em></td><td>Armenia</td><td>40.0691</td><td>45.0382</td><td>0</td></tr><tr><th>9</th><td>Australian Capital Territory</td><td>Australia</td><td>-35.4735</td><td>149.012</td><td>0</td></tr><tr><th>10</th><td>New South Wales</td><td>Australia</td><td>-33.8688</td><td>151.209</td><td>0</td></tr><tr><th>11</th><td>Northern Territory</td><td>Australia</td><td>-12.4634</td><td>130.846</td><td>0</td></tr><tr><th>12</th><td>Queensland</td><td>Australia</td><td>-27.4698</td><td>153.025</td><td>0</td></tr><tr><th>13</th><td>South Australia</td><td>Australia</td><td>-34.9285</td><td>138.601</td><td>0</td></tr><tr><th>14</th><td>Tasmania</td><td>Australia</td><td>-42.8821</td><td>147.327</td><td>0</td></tr><tr><th>15</th><td>Victoria</td><td>Australia</td><td>-37.8136</td><td>144.963</td><td>0</td></tr><tr><th>16</th><td>Western Australia</td><td>Australia</td><td>-31.9505</td><td>115.861</td><td>0</td></tr><tr><th>17</th><td><em>missing</em></td><td>Austria</td><td>47.5162</td><td>14.5501</td><td>0</td></tr><tr><th>18</th><td><em>missing</em></td><td>Azerbaijan</td><td>40.1431</td><td>47.5769</td><td>0</td></tr><tr><th>19</th><td><em>missing</em></td><td>Bahamas</td><td>25.0259</td><td>-78.0359</td><td>0</td></tr><tr><th>20</th><td><em>missing</em></td><td>Bahrain</td><td>26.0275</td><td>50.55</td><td>0</td></tr><tr><th>21</th><td><em>missing</em></td><td>Bangladesh</td><td>23.685</td><td>90.3563</td><td>0</td></tr><tr><th>22</th><td><em>missing</em></td><td>Barbados</td><td>13.1939</td><td>-59.5432</td><td>0</td></tr><tr><th>23</th><td><em>missing</em></td><td>Belarus</td><td>53.7098</td><td>27.9534</td><td>0</td></tr><tr><th>24</th><td><em>missing</em></td><td>Belgium</td><td>50.8333</td><td>4.46994</td><td>0</td></tr><tr><th>25</th><td><em>missing</em></td><td>Benin</td><td>9.3077</td><td>2.3158</td><td>0</td></tr><tr><th>26</th><td><em>missing</em></td><td>Bhutan</td><td>27.5142</td><td>90.4336</td><td>0</td></tr><tr><th>27</th><td><em>missing</em></td><td>Bolivia</td><td>-16.2902</td><td>-63.5887</td><td>0</td></tr><tr><th>28</th><td><em>missing</em></td><td>Bosnia and Herzegovina</td><td>43.9159</td><td>17.6791</td><td>0</td></tr><tr><th>29</th><td><em>missing</em></td><td>Brazil</td><td>-14.235</td><td>-51.9253</td><td>0</td></tr><tr><th>30</th><td><em>missing</em></td><td>Brunei</td><td>4.5353</td><td>114.728</td><td>0</td></tr><tr><th>&vellip;</th><td>&vellip;</td><td>&vellip;</td><td>&vellip;</td><td>&vellip;</td><td>&vellip;</td></tr></tbody></table>"
      ],
      "text/latex": [
       "\\begin{tabular}{r|cccccc}\n",
       "\t& Province/State & Country/Region & Lat & Long & 1/22/20 & \\\\\n",
       "\t\\hline\n",
       "\t& String? & String & Float64 & Float64 & Int64 & \\\\\n",
       "\t\\hline\n",
       "\t1 & \\emph{missing} & Afghanistan & 33.9391 & 67.71 & 0 & $\\dots$ \\\\\n",
       "\t2 & \\emph{missing} & Albania & 41.1533 & 20.1683 & 0 & $\\dots$ \\\\\n",
       "\t3 & \\emph{missing} & Algeria & 28.0339 & 1.6596 & 0 & $\\dots$ \\\\\n",
       "\t4 & \\emph{missing} & Andorra & 42.5063 & 1.5218 & 0 & $\\dots$ \\\\\n",
       "\t5 & \\emph{missing} & Angola & -11.2027 & 17.8739 & 0 & $\\dots$ \\\\\n",
       "\t6 & \\emph{missing} & Antigua and Barbuda & 17.0608 & -61.7964 & 0 & $\\dots$ \\\\\n",
       "\t7 & \\emph{missing} & Argentina & -38.4161 & -63.6167 & 0 & $\\dots$ \\\\\n",
       "\t8 & \\emph{missing} & Armenia & 40.0691 & 45.0382 & 0 & $\\dots$ \\\\\n",
       "\t9 & Australian Capital Territory & Australia & -35.4735 & 149.012 & 0 & $\\dots$ \\\\\n",
       "\t10 & New South Wales & Australia & -33.8688 & 151.209 & 0 & $\\dots$ \\\\\n",
       "\t11 & Northern Territory & Australia & -12.4634 & 130.846 & 0 & $\\dots$ \\\\\n",
       "\t12 & Queensland & Australia & -27.4698 & 153.025 & 0 & $\\dots$ \\\\\n",
       "\t13 & South Australia & Australia & -34.9285 & 138.601 & 0 & $\\dots$ \\\\\n",
       "\t14 & Tasmania & Australia & -42.8821 & 147.327 & 0 & $\\dots$ \\\\\n",
       "\t15 & Victoria & Australia & -37.8136 & 144.963 & 0 & $\\dots$ \\\\\n",
       "\t16 & Western Australia & Australia & -31.9505 & 115.861 & 0 & $\\dots$ \\\\\n",
       "\t17 & \\emph{missing} & Austria & 47.5162 & 14.5501 & 0 & $\\dots$ \\\\\n",
       "\t18 & \\emph{missing} & Azerbaijan & 40.1431 & 47.5769 & 0 & $\\dots$ \\\\\n",
       "\t19 & \\emph{missing} & Bahamas & 25.0259 & -78.0359 & 0 & $\\dots$ \\\\\n",
       "\t20 & \\emph{missing} & Bahrain & 26.0275 & 50.55 & 0 & $\\dots$ \\\\\n",
       "\t21 & \\emph{missing} & Bangladesh & 23.685 & 90.3563 & 0 & $\\dots$ \\\\\n",
       "\t22 & \\emph{missing} & Barbados & 13.1939 & -59.5432 & 0 & $\\dots$ \\\\\n",
       "\t23 & \\emph{missing} & Belarus & 53.7098 & 27.9534 & 0 & $\\dots$ \\\\\n",
       "\t24 & \\emph{missing} & Belgium & 50.8333 & 4.46994 & 0 & $\\dots$ \\\\\n",
       "\t25 & \\emph{missing} & Benin & 9.3077 & 2.3158 & 0 & $\\dots$ \\\\\n",
       "\t26 & \\emph{missing} & Bhutan & 27.5142 & 90.4336 & 0 & $\\dots$ \\\\\n",
       "\t27 & \\emph{missing} & Bolivia & -16.2902 & -63.5887 & 0 & $\\dots$ \\\\\n",
       "\t28 & \\emph{missing} & Bosnia and Herzegovina & 43.9159 & 17.6791 & 0 & $\\dots$ \\\\\n",
       "\t29 & \\emph{missing} & Brazil & -14.235 & -51.9253 & 0 & $\\dots$ \\\\\n",
       "\t30 & \\emph{missing} & Brunei & 4.5353 & 114.728 & 0 & $\\dots$ \\\\\n",
       "\t$\\dots$ & $\\dots$ & $\\dots$ & $\\dots$ & $\\dots$ & $\\dots$ &  \\\\\n",
       "\\end{tabular}\n"
      ],
      "text/plain": [
       "266×193 DataFrame. Omitted printing of 190 columns\n",
       "│ Row │ Province/State                   │ Country/Region        │ Lat      │\n",
       "│     │ \u001b[90mUnion{Missing, String}\u001b[39m           │ \u001b[90mString\u001b[39m                │ \u001b[90mFloat64\u001b[39m  │\n",
       "├─────┼──────────────────────────────────┼───────────────────────┼──────────┤\n",
       "│ 1   │ \u001b[90mmissing\u001b[39m                          │ Afghanistan           │ 33.9391  │\n",
       "│ 2   │ \u001b[90mmissing\u001b[39m                          │ Albania               │ 41.1533  │\n",
       "│ 3   │ \u001b[90mmissing\u001b[39m                          │ Algeria               │ 28.0339  │\n",
       "│ 4   │ \u001b[90mmissing\u001b[39m                          │ Andorra               │ 42.5063  │\n",
       "│ 5   │ \u001b[90mmissing\u001b[39m                          │ Angola                │ -11.2027 │\n",
       "│ 6   │ \u001b[90mmissing\u001b[39m                          │ Antigua and Barbuda   │ 17.0608  │\n",
       "│ 7   │ \u001b[90mmissing\u001b[39m                          │ Argentina             │ -38.4161 │\n",
       "│ 8   │ \u001b[90mmissing\u001b[39m                          │ Armenia               │ 40.0691  │\n",
       "│ 9   │ Australian Capital Territory     │ Australia             │ -35.4735 │\n",
       "│ 10  │ New South Wales                  │ Australia             │ -33.8688 │\n",
       "⋮\n",
       "│ 256 │ Bonaire, Sint Eustatius and Saba │ Netherlands           │ 12.1784  │\n",
       "│ 257 │ \u001b[90mmissing\u001b[39m                          │ Malawi                │ -13.2543 │\n",
       "│ 258 │ Falkland Islands (Malvinas)      │ United Kingdom        │ -51.7963 │\n",
       "│ 259 │ Saint Pierre and Miquelon        │ France                │ 46.8852  │\n",
       "│ 260 │ \u001b[90mmissing\u001b[39m                          │ South Sudan           │ 6.877    │\n",
       "│ 261 │ \u001b[90mmissing\u001b[39m                          │ Western Sahara        │ 24.2155  │\n",
       "│ 262 │ \u001b[90mmissing\u001b[39m                          │ Sao Tome and Principe │ 0.1864   │\n",
       "│ 263 │ \u001b[90mmissing\u001b[39m                          │ Yemen                 │ 15.5527  │\n",
       "│ 264 │ \u001b[90mmissing\u001b[39m                          │ Comoros               │ -11.6455 │\n",
       "│ 265 │ \u001b[90mmissing\u001b[39m                          │ Tajikistan            │ 38.861   │\n",
       "│ 266 │ \u001b[90mmissing\u001b[39m                          │ Lesotho               │ -29.61   │"
      ]
     },
     "execution_count": 5,
     "metadata": {},
     "output_type": "execute_result"
    }
   ],
   "source": [
    "CSV.read(\"covid_19_confirmed_global.csv\") #run the function 'read' from the package CSV"
   ]
  },
  {
   "cell_type": "code",
   "execution_count": 6,
   "metadata": {
    "scrolled": true
   },
   "outputs": [],
   "source": [
    "data = CSV.read(\"covid_19_confirmed_global.csv\"); # semi-colon supresses the display of the output"
   ]
  },
  {
   "cell_type": "code",
   "execution_count": 7,
   "metadata": {},
   "outputs": [
    {
     "data": {
      "text/plain": [
       "DataFrame"
      ]
     },
     "execution_count": 7,
     "metadata": {},
     "output_type": "execute_result"
    }
   ],
   "source": [
    "typeof(data)"
   ]
  },
  {
   "cell_type": "code",
   "execution_count": 8,
   "metadata": {},
   "outputs": [
    {
     "data": {
      "text/html": [
       "<table class=\"data-frame\"><thead><tr><th></th><th>Province/State</th><th>Country/Region</th><th>Lat</th><th>Long</th><th>1/22/20</th></tr><tr><th></th><th>String?</th><th>String</th><th>Float64</th><th>Float64</th><th>Int64</th></tr></thead><tbody><p>266 rows × 193 columns (omitted printing of 188 columns)</p><tr><th>1</th><td><em>missing</em></td><td>Afghanistan</td><td>33.9391</td><td>67.71</td><td>0</td></tr><tr><th>2</th><td><em>missing</em></td><td>Albania</td><td>41.1533</td><td>20.1683</td><td>0</td></tr><tr><th>3</th><td><em>missing</em></td><td>Algeria</td><td>28.0339</td><td>1.6596</td><td>0</td></tr><tr><th>4</th><td><em>missing</em></td><td>Andorra</td><td>42.5063</td><td>1.5218</td><td>0</td></tr><tr><th>5</th><td><em>missing</em></td><td>Angola</td><td>-11.2027</td><td>17.8739</td><td>0</td></tr><tr><th>6</th><td><em>missing</em></td><td>Antigua and Barbuda</td><td>17.0608</td><td>-61.7964</td><td>0</td></tr><tr><th>7</th><td><em>missing</em></td><td>Argentina</td><td>-38.4161</td><td>-63.6167</td><td>0</td></tr><tr><th>8</th><td><em>missing</em></td><td>Armenia</td><td>40.0691</td><td>45.0382</td><td>0</td></tr><tr><th>9</th><td>Australian Capital Territory</td><td>Australia</td><td>-35.4735</td><td>149.012</td><td>0</td></tr><tr><th>10</th><td>New South Wales</td><td>Australia</td><td>-33.8688</td><td>151.209</td><td>0</td></tr><tr><th>11</th><td>Northern Territory</td><td>Australia</td><td>-12.4634</td><td>130.846</td><td>0</td></tr><tr><th>12</th><td>Queensland</td><td>Australia</td><td>-27.4698</td><td>153.025</td><td>0</td></tr><tr><th>13</th><td>South Australia</td><td>Australia</td><td>-34.9285</td><td>138.601</td><td>0</td></tr><tr><th>14</th><td>Tasmania</td><td>Australia</td><td>-42.8821</td><td>147.327</td><td>0</td></tr><tr><th>15</th><td>Victoria</td><td>Australia</td><td>-37.8136</td><td>144.963</td><td>0</td></tr><tr><th>16</th><td>Western Australia</td><td>Australia</td><td>-31.9505</td><td>115.861</td><td>0</td></tr><tr><th>17</th><td><em>missing</em></td><td>Austria</td><td>47.5162</td><td>14.5501</td><td>0</td></tr><tr><th>18</th><td><em>missing</em></td><td>Azerbaijan</td><td>40.1431</td><td>47.5769</td><td>0</td></tr><tr><th>19</th><td><em>missing</em></td><td>Bahamas</td><td>25.0259</td><td>-78.0359</td><td>0</td></tr><tr><th>20</th><td><em>missing</em></td><td>Bahrain</td><td>26.0275</td><td>50.55</td><td>0</td></tr><tr><th>21</th><td><em>missing</em></td><td>Bangladesh</td><td>23.685</td><td>90.3563</td><td>0</td></tr><tr><th>22</th><td><em>missing</em></td><td>Barbados</td><td>13.1939</td><td>-59.5432</td><td>0</td></tr><tr><th>23</th><td><em>missing</em></td><td>Belarus</td><td>53.7098</td><td>27.9534</td><td>0</td></tr><tr><th>24</th><td><em>missing</em></td><td>Belgium</td><td>50.8333</td><td>4.46994</td><td>0</td></tr><tr><th>25</th><td><em>missing</em></td><td>Benin</td><td>9.3077</td><td>2.3158</td><td>0</td></tr><tr><th>26</th><td><em>missing</em></td><td>Bhutan</td><td>27.5142</td><td>90.4336</td><td>0</td></tr><tr><th>27</th><td><em>missing</em></td><td>Bolivia</td><td>-16.2902</td><td>-63.5887</td><td>0</td></tr><tr><th>28</th><td><em>missing</em></td><td>Bosnia and Herzegovina</td><td>43.9159</td><td>17.6791</td><td>0</td></tr><tr><th>29</th><td><em>missing</em></td><td>Brazil</td><td>-14.235</td><td>-51.9253</td><td>0</td></tr><tr><th>30</th><td><em>missing</em></td><td>Brunei</td><td>4.5353</td><td>114.728</td><td>0</td></tr><tr><th>&vellip;</th><td>&vellip;</td><td>&vellip;</td><td>&vellip;</td><td>&vellip;</td><td>&vellip;</td></tr></tbody></table>"
      ],
      "text/latex": [
       "\\begin{tabular}{r|cccccc}\n",
       "\t& Province/State & Country/Region & Lat & Long & 1/22/20 & \\\\\n",
       "\t\\hline\n",
       "\t& String? & String & Float64 & Float64 & Int64 & \\\\\n",
       "\t\\hline\n",
       "\t1 & \\emph{missing} & Afghanistan & 33.9391 & 67.71 & 0 & $\\dots$ \\\\\n",
       "\t2 & \\emph{missing} & Albania & 41.1533 & 20.1683 & 0 & $\\dots$ \\\\\n",
       "\t3 & \\emph{missing} & Algeria & 28.0339 & 1.6596 & 0 & $\\dots$ \\\\\n",
       "\t4 & \\emph{missing} & Andorra & 42.5063 & 1.5218 & 0 & $\\dots$ \\\\\n",
       "\t5 & \\emph{missing} & Angola & -11.2027 & 17.8739 & 0 & $\\dots$ \\\\\n",
       "\t6 & \\emph{missing} & Antigua and Barbuda & 17.0608 & -61.7964 & 0 & $\\dots$ \\\\\n",
       "\t7 & \\emph{missing} & Argentina & -38.4161 & -63.6167 & 0 & $\\dots$ \\\\\n",
       "\t8 & \\emph{missing} & Armenia & 40.0691 & 45.0382 & 0 & $\\dots$ \\\\\n",
       "\t9 & Australian Capital Territory & Australia & -35.4735 & 149.012 & 0 & $\\dots$ \\\\\n",
       "\t10 & New South Wales & Australia & -33.8688 & 151.209 & 0 & $\\dots$ \\\\\n",
       "\t11 & Northern Territory & Australia & -12.4634 & 130.846 & 0 & $\\dots$ \\\\\n",
       "\t12 & Queensland & Australia & -27.4698 & 153.025 & 0 & $\\dots$ \\\\\n",
       "\t13 & South Australia & Australia & -34.9285 & 138.601 & 0 & $\\dots$ \\\\\n",
       "\t14 & Tasmania & Australia & -42.8821 & 147.327 & 0 & $\\dots$ \\\\\n",
       "\t15 & Victoria & Australia & -37.8136 & 144.963 & 0 & $\\dots$ \\\\\n",
       "\t16 & Western Australia & Australia & -31.9505 & 115.861 & 0 & $\\dots$ \\\\\n",
       "\t17 & \\emph{missing} & Austria & 47.5162 & 14.5501 & 0 & $\\dots$ \\\\\n",
       "\t18 & \\emph{missing} & Azerbaijan & 40.1431 & 47.5769 & 0 & $\\dots$ \\\\\n",
       "\t19 & \\emph{missing} & Bahamas & 25.0259 & -78.0359 & 0 & $\\dots$ \\\\\n",
       "\t20 & \\emph{missing} & Bahrain & 26.0275 & 50.55 & 0 & $\\dots$ \\\\\n",
       "\t21 & \\emph{missing} & Bangladesh & 23.685 & 90.3563 & 0 & $\\dots$ \\\\\n",
       "\t22 & \\emph{missing} & Barbados & 13.1939 & -59.5432 & 0 & $\\dots$ \\\\\n",
       "\t23 & \\emph{missing} & Belarus & 53.7098 & 27.9534 & 0 & $\\dots$ \\\\\n",
       "\t24 & \\emph{missing} & Belgium & 50.8333 & 4.46994 & 0 & $\\dots$ \\\\\n",
       "\t25 & \\emph{missing} & Benin & 9.3077 & 2.3158 & 0 & $\\dots$ \\\\\n",
       "\t26 & \\emph{missing} & Bhutan & 27.5142 & 90.4336 & 0 & $\\dots$ \\\\\n",
       "\t27 & \\emph{missing} & Bolivia & -16.2902 & -63.5887 & 0 & $\\dots$ \\\\\n",
       "\t28 & \\emph{missing} & Bosnia and Herzegovina & 43.9159 & 17.6791 & 0 & $\\dots$ \\\\\n",
       "\t29 & \\emph{missing} & Brazil & -14.235 & -51.9253 & 0 & $\\dots$ \\\\\n",
       "\t30 & \\emph{missing} & Brunei & 4.5353 & 114.728 & 0 & $\\dots$ \\\\\n",
       "\t$\\dots$ & $\\dots$ & $\\dots$ & $\\dots$ & $\\dots$ & $\\dots$ &  \\\\\n",
       "\\end{tabular}\n"
      ],
      "text/plain": [
       "266×193 DataFrame. Omitted printing of 190 columns\n",
       "│ Row │ Province/State                   │ Country/Region        │ Lat      │\n",
       "│     │ \u001b[90mUnion{Missing, String}\u001b[39m           │ \u001b[90mString\u001b[39m                │ \u001b[90mFloat64\u001b[39m  │\n",
       "├─────┼──────────────────────────────────┼───────────────────────┼──────────┤\n",
       "│ 1   │ \u001b[90mmissing\u001b[39m                          │ Afghanistan           │ 33.9391  │\n",
       "│ 2   │ \u001b[90mmissing\u001b[39m                          │ Albania               │ 41.1533  │\n",
       "│ 3   │ \u001b[90mmissing\u001b[39m                          │ Algeria               │ 28.0339  │\n",
       "│ 4   │ \u001b[90mmissing\u001b[39m                          │ Andorra               │ 42.5063  │\n",
       "│ 5   │ \u001b[90mmissing\u001b[39m                          │ Angola                │ -11.2027 │\n",
       "│ 6   │ \u001b[90mmissing\u001b[39m                          │ Antigua and Barbuda   │ 17.0608  │\n",
       "│ 7   │ \u001b[90mmissing\u001b[39m                          │ Argentina             │ -38.4161 │\n",
       "│ 8   │ \u001b[90mmissing\u001b[39m                          │ Armenia               │ 40.0691  │\n",
       "│ 9   │ Australian Capital Territory     │ Australia             │ -35.4735 │\n",
       "│ 10  │ New South Wales                  │ Australia             │ -33.8688 │\n",
       "⋮\n",
       "│ 256 │ Bonaire, Sint Eustatius and Saba │ Netherlands           │ 12.1784  │\n",
       "│ 257 │ \u001b[90mmissing\u001b[39m                          │ Malawi                │ -13.2543 │\n",
       "│ 258 │ Falkland Islands (Malvinas)      │ United Kingdom        │ -51.7963 │\n",
       "│ 259 │ Saint Pierre and Miquelon        │ France                │ 46.8852  │\n",
       "│ 260 │ \u001b[90mmissing\u001b[39m                          │ South Sudan           │ 6.877    │\n",
       "│ 261 │ \u001b[90mmissing\u001b[39m                          │ Western Sahara        │ 24.2155  │\n",
       "│ 262 │ \u001b[90mmissing\u001b[39m                          │ Sao Tome and Principe │ 0.1864   │\n",
       "│ 263 │ \u001b[90mmissing\u001b[39m                          │ Yemen                 │ 15.5527  │\n",
       "│ 264 │ \u001b[90mmissing\u001b[39m                          │ Comoros               │ -11.6455 │\n",
       "│ 265 │ \u001b[90mmissing\u001b[39m                          │ Tajikistan            │ 38.861   │\n",
       "│ 266 │ \u001b[90mmissing\u001b[39m                          │ Lesotho               │ -29.61   │"
      ]
     },
     "execution_count": 8,
     "metadata": {},
     "output_type": "execute_result"
    }
   ],
   "source": [
    "data"
   ]
  },
  {
   "cell_type": "code",
   "execution_count": 9,
   "metadata": {},
   "outputs": [
    {
     "data": {
      "text/html": [
       "<table class=\"data-frame\"><thead><tr><th></th><th>province</th><th>country</th><th>Lat</th><th>Long</th><th>1/22/20</th></tr><tr><th></th><th>String?</th><th>String</th><th>Float64</th><th>Float64</th><th>Int64</th></tr></thead><tbody><p>266 rows × 193 columns (omitted printing of 188 columns)</p><tr><th>1</th><td><em>missing</em></td><td>Afghanistan</td><td>33.9391</td><td>67.71</td><td>0</td></tr><tr><th>2</th><td><em>missing</em></td><td>Albania</td><td>41.1533</td><td>20.1683</td><td>0</td></tr><tr><th>3</th><td><em>missing</em></td><td>Algeria</td><td>28.0339</td><td>1.6596</td><td>0</td></tr><tr><th>4</th><td><em>missing</em></td><td>Andorra</td><td>42.5063</td><td>1.5218</td><td>0</td></tr><tr><th>5</th><td><em>missing</em></td><td>Angola</td><td>-11.2027</td><td>17.8739</td><td>0</td></tr><tr><th>6</th><td><em>missing</em></td><td>Antigua and Barbuda</td><td>17.0608</td><td>-61.7964</td><td>0</td></tr><tr><th>7</th><td><em>missing</em></td><td>Argentina</td><td>-38.4161</td><td>-63.6167</td><td>0</td></tr><tr><th>8</th><td><em>missing</em></td><td>Armenia</td><td>40.0691</td><td>45.0382</td><td>0</td></tr><tr><th>9</th><td>Australian Capital Territory</td><td>Australia</td><td>-35.4735</td><td>149.012</td><td>0</td></tr><tr><th>10</th><td>New South Wales</td><td>Australia</td><td>-33.8688</td><td>151.209</td><td>0</td></tr><tr><th>11</th><td>Northern Territory</td><td>Australia</td><td>-12.4634</td><td>130.846</td><td>0</td></tr><tr><th>12</th><td>Queensland</td><td>Australia</td><td>-27.4698</td><td>153.025</td><td>0</td></tr><tr><th>13</th><td>South Australia</td><td>Australia</td><td>-34.9285</td><td>138.601</td><td>0</td></tr><tr><th>14</th><td>Tasmania</td><td>Australia</td><td>-42.8821</td><td>147.327</td><td>0</td></tr><tr><th>15</th><td>Victoria</td><td>Australia</td><td>-37.8136</td><td>144.963</td><td>0</td></tr><tr><th>16</th><td>Western Australia</td><td>Australia</td><td>-31.9505</td><td>115.861</td><td>0</td></tr><tr><th>17</th><td><em>missing</em></td><td>Austria</td><td>47.5162</td><td>14.5501</td><td>0</td></tr><tr><th>18</th><td><em>missing</em></td><td>Azerbaijan</td><td>40.1431</td><td>47.5769</td><td>0</td></tr><tr><th>19</th><td><em>missing</em></td><td>Bahamas</td><td>25.0259</td><td>-78.0359</td><td>0</td></tr><tr><th>20</th><td><em>missing</em></td><td>Bahrain</td><td>26.0275</td><td>50.55</td><td>0</td></tr><tr><th>21</th><td><em>missing</em></td><td>Bangladesh</td><td>23.685</td><td>90.3563</td><td>0</td></tr><tr><th>22</th><td><em>missing</em></td><td>Barbados</td><td>13.1939</td><td>-59.5432</td><td>0</td></tr><tr><th>23</th><td><em>missing</em></td><td>Belarus</td><td>53.7098</td><td>27.9534</td><td>0</td></tr><tr><th>24</th><td><em>missing</em></td><td>Belgium</td><td>50.8333</td><td>4.46994</td><td>0</td></tr><tr><th>25</th><td><em>missing</em></td><td>Benin</td><td>9.3077</td><td>2.3158</td><td>0</td></tr><tr><th>26</th><td><em>missing</em></td><td>Bhutan</td><td>27.5142</td><td>90.4336</td><td>0</td></tr><tr><th>27</th><td><em>missing</em></td><td>Bolivia</td><td>-16.2902</td><td>-63.5887</td><td>0</td></tr><tr><th>28</th><td><em>missing</em></td><td>Bosnia and Herzegovina</td><td>43.9159</td><td>17.6791</td><td>0</td></tr><tr><th>29</th><td><em>missing</em></td><td>Brazil</td><td>-14.235</td><td>-51.9253</td><td>0</td></tr><tr><th>30</th><td><em>missing</em></td><td>Brunei</td><td>4.5353</td><td>114.728</td><td>0</td></tr><tr><th>&vellip;</th><td>&vellip;</td><td>&vellip;</td><td>&vellip;</td><td>&vellip;</td><td>&vellip;</td></tr></tbody></table>"
      ],
      "text/latex": [
       "\\begin{tabular}{r|cccccc}\n",
       "\t& province & country & Lat & Long & 1/22/20 & \\\\\n",
       "\t\\hline\n",
       "\t& String? & String & Float64 & Float64 & Int64 & \\\\\n",
       "\t\\hline\n",
       "\t1 & \\emph{missing} & Afghanistan & 33.9391 & 67.71 & 0 & $\\dots$ \\\\\n",
       "\t2 & \\emph{missing} & Albania & 41.1533 & 20.1683 & 0 & $\\dots$ \\\\\n",
       "\t3 & \\emph{missing} & Algeria & 28.0339 & 1.6596 & 0 & $\\dots$ \\\\\n",
       "\t4 & \\emph{missing} & Andorra & 42.5063 & 1.5218 & 0 & $\\dots$ \\\\\n",
       "\t5 & \\emph{missing} & Angola & -11.2027 & 17.8739 & 0 & $\\dots$ \\\\\n",
       "\t6 & \\emph{missing} & Antigua and Barbuda & 17.0608 & -61.7964 & 0 & $\\dots$ \\\\\n",
       "\t7 & \\emph{missing} & Argentina & -38.4161 & -63.6167 & 0 & $\\dots$ \\\\\n",
       "\t8 & \\emph{missing} & Armenia & 40.0691 & 45.0382 & 0 & $\\dots$ \\\\\n",
       "\t9 & Australian Capital Territory & Australia & -35.4735 & 149.012 & 0 & $\\dots$ \\\\\n",
       "\t10 & New South Wales & Australia & -33.8688 & 151.209 & 0 & $\\dots$ \\\\\n",
       "\t11 & Northern Territory & Australia & -12.4634 & 130.846 & 0 & $\\dots$ \\\\\n",
       "\t12 & Queensland & Australia & -27.4698 & 153.025 & 0 & $\\dots$ \\\\\n",
       "\t13 & South Australia & Australia & -34.9285 & 138.601 & 0 & $\\dots$ \\\\\n",
       "\t14 & Tasmania & Australia & -42.8821 & 147.327 & 0 & $\\dots$ \\\\\n",
       "\t15 & Victoria & Australia & -37.8136 & 144.963 & 0 & $\\dots$ \\\\\n",
       "\t16 & Western Australia & Australia & -31.9505 & 115.861 & 0 & $\\dots$ \\\\\n",
       "\t17 & \\emph{missing} & Austria & 47.5162 & 14.5501 & 0 & $\\dots$ \\\\\n",
       "\t18 & \\emph{missing} & Azerbaijan & 40.1431 & 47.5769 & 0 & $\\dots$ \\\\\n",
       "\t19 & \\emph{missing} & Bahamas & 25.0259 & -78.0359 & 0 & $\\dots$ \\\\\n",
       "\t20 & \\emph{missing} & Bahrain & 26.0275 & 50.55 & 0 & $\\dots$ \\\\\n",
       "\t21 & \\emph{missing} & Bangladesh & 23.685 & 90.3563 & 0 & $\\dots$ \\\\\n",
       "\t22 & \\emph{missing} & Barbados & 13.1939 & -59.5432 & 0 & $\\dots$ \\\\\n",
       "\t23 & \\emph{missing} & Belarus & 53.7098 & 27.9534 & 0 & $\\dots$ \\\\\n",
       "\t24 & \\emph{missing} & Belgium & 50.8333 & 4.46994 & 0 & $\\dots$ \\\\\n",
       "\t25 & \\emph{missing} & Benin & 9.3077 & 2.3158 & 0 & $\\dots$ \\\\\n",
       "\t26 & \\emph{missing} & Bhutan & 27.5142 & 90.4336 & 0 & $\\dots$ \\\\\n",
       "\t27 & \\emph{missing} & Bolivia & -16.2902 & -63.5887 & 0 & $\\dots$ \\\\\n",
       "\t28 & \\emph{missing} & Bosnia and Herzegovina & 43.9159 & 17.6791 & 0 & $\\dots$ \\\\\n",
       "\t29 & \\emph{missing} & Brazil & -14.235 & -51.9253 & 0 & $\\dots$ \\\\\n",
       "\t30 & \\emph{missing} & Brunei & 4.5353 & 114.728 & 0 & $\\dots$ \\\\\n",
       "\t$\\dots$ & $\\dots$ & $\\dots$ & $\\dots$ & $\\dots$ & $\\dots$ &  \\\\\n",
       "\\end{tabular}\n"
      ],
      "text/plain": [
       "266×193 DataFrame. Omitted printing of 190 columns\n",
       "│ Row │ province                         │ country               │ Lat      │\n",
       "│     │ \u001b[90mUnion{Missing, String}\u001b[39m           │ \u001b[90mString\u001b[39m                │ \u001b[90mFloat64\u001b[39m  │\n",
       "├─────┼──────────────────────────────────┼───────────────────────┼──────────┤\n",
       "│ 1   │ \u001b[90mmissing\u001b[39m                          │ Afghanistan           │ 33.9391  │\n",
       "│ 2   │ \u001b[90mmissing\u001b[39m                          │ Albania               │ 41.1533  │\n",
       "│ 3   │ \u001b[90mmissing\u001b[39m                          │ Algeria               │ 28.0339  │\n",
       "│ 4   │ \u001b[90mmissing\u001b[39m                          │ Andorra               │ 42.5063  │\n",
       "│ 5   │ \u001b[90mmissing\u001b[39m                          │ Angola                │ -11.2027 │\n",
       "│ 6   │ \u001b[90mmissing\u001b[39m                          │ Antigua and Barbuda   │ 17.0608  │\n",
       "│ 7   │ \u001b[90mmissing\u001b[39m                          │ Argentina             │ -38.4161 │\n",
       "│ 8   │ \u001b[90mmissing\u001b[39m                          │ Armenia               │ 40.0691  │\n",
       "│ 9   │ Australian Capital Territory     │ Australia             │ -35.4735 │\n",
       "│ 10  │ New South Wales                  │ Australia             │ -33.8688 │\n",
       "⋮\n",
       "│ 256 │ Bonaire, Sint Eustatius and Saba │ Netherlands           │ 12.1784  │\n",
       "│ 257 │ \u001b[90mmissing\u001b[39m                          │ Malawi                │ -13.2543 │\n",
       "│ 258 │ Falkland Islands (Malvinas)      │ United Kingdom        │ -51.7963 │\n",
       "│ 259 │ Saint Pierre and Miquelon        │ France                │ 46.8852  │\n",
       "│ 260 │ \u001b[90mmissing\u001b[39m                          │ South Sudan           │ 6.877    │\n",
       "│ 261 │ \u001b[90mmissing\u001b[39m                          │ Western Sahara        │ 24.2155  │\n",
       "│ 262 │ \u001b[90mmissing\u001b[39m                          │ Sao Tome and Principe │ 0.1864   │\n",
       "│ 263 │ \u001b[90mmissing\u001b[39m                          │ Yemen                 │ 15.5527  │\n",
       "│ 264 │ \u001b[90mmissing\u001b[39m                          │ Comoros               │ -11.6455 │\n",
       "│ 265 │ \u001b[90mmissing\u001b[39m                          │ Tajikistan            │ 38.861   │\n",
       "│ 266 │ \u001b[90mmissing\u001b[39m                          │ Lesotho               │ -29.61   │"
      ]
     },
     "execution_count": 9,
     "metadata": {},
     "output_type": "execute_result"
    }
   ],
   "source": [
    "datacopy = rename!(data, 1 => \"province\", 2 => \"country\") \n",
    "# !, bang, is a convention: function that \"modifies\" its argument in place"
   ]
  },
  {
   "cell_type": "code",
   "execution_count": 10,
   "metadata": {},
   "outputs": [
    {
     "data": {
      "text/html": [
       "<table class=\"data-frame\"><thead><tr><th></th><th>province</th><th>country</th><th>Lat</th><th>Long</th><th>1/22/20</th></tr><tr><th></th><th>String?</th><th>String</th><th>Float64</th><th>Float64</th><th>Int64</th></tr></thead><tbody><p>266 rows × 193 columns (omitted printing of 188 columns)</p><tr><th>1</th><td><em>missing</em></td><td>Afghanistan</td><td>33.9391</td><td>67.71</td><td>0</td></tr><tr><th>2</th><td><em>missing</em></td><td>Albania</td><td>41.1533</td><td>20.1683</td><td>0</td></tr><tr><th>3</th><td><em>missing</em></td><td>Algeria</td><td>28.0339</td><td>1.6596</td><td>0</td></tr><tr><th>4</th><td><em>missing</em></td><td>Andorra</td><td>42.5063</td><td>1.5218</td><td>0</td></tr><tr><th>5</th><td><em>missing</em></td><td>Angola</td><td>-11.2027</td><td>17.8739</td><td>0</td></tr><tr><th>6</th><td><em>missing</em></td><td>Antigua and Barbuda</td><td>17.0608</td><td>-61.7964</td><td>0</td></tr><tr><th>7</th><td><em>missing</em></td><td>Argentina</td><td>-38.4161</td><td>-63.6167</td><td>0</td></tr><tr><th>8</th><td><em>missing</em></td><td>Armenia</td><td>40.0691</td><td>45.0382</td><td>0</td></tr><tr><th>9</th><td>Australian Capital Territory</td><td>Australia</td><td>-35.4735</td><td>149.012</td><td>0</td></tr><tr><th>10</th><td>New South Wales</td><td>Australia</td><td>-33.8688</td><td>151.209</td><td>0</td></tr><tr><th>11</th><td>Northern Territory</td><td>Australia</td><td>-12.4634</td><td>130.846</td><td>0</td></tr><tr><th>12</th><td>Queensland</td><td>Australia</td><td>-27.4698</td><td>153.025</td><td>0</td></tr><tr><th>13</th><td>South Australia</td><td>Australia</td><td>-34.9285</td><td>138.601</td><td>0</td></tr><tr><th>14</th><td>Tasmania</td><td>Australia</td><td>-42.8821</td><td>147.327</td><td>0</td></tr><tr><th>15</th><td>Victoria</td><td>Australia</td><td>-37.8136</td><td>144.963</td><td>0</td></tr><tr><th>16</th><td>Western Australia</td><td>Australia</td><td>-31.9505</td><td>115.861</td><td>0</td></tr><tr><th>17</th><td><em>missing</em></td><td>Austria</td><td>47.5162</td><td>14.5501</td><td>0</td></tr><tr><th>18</th><td><em>missing</em></td><td>Azerbaijan</td><td>40.1431</td><td>47.5769</td><td>0</td></tr><tr><th>19</th><td><em>missing</em></td><td>Bahamas</td><td>25.0259</td><td>-78.0359</td><td>0</td></tr><tr><th>20</th><td><em>missing</em></td><td>Bahrain</td><td>26.0275</td><td>50.55</td><td>0</td></tr><tr><th>21</th><td><em>missing</em></td><td>Bangladesh</td><td>23.685</td><td>90.3563</td><td>0</td></tr><tr><th>22</th><td><em>missing</em></td><td>Barbados</td><td>13.1939</td><td>-59.5432</td><td>0</td></tr><tr><th>23</th><td><em>missing</em></td><td>Belarus</td><td>53.7098</td><td>27.9534</td><td>0</td></tr><tr><th>24</th><td><em>missing</em></td><td>Belgium</td><td>50.8333</td><td>4.46994</td><td>0</td></tr><tr><th>25</th><td><em>missing</em></td><td>Benin</td><td>9.3077</td><td>2.3158</td><td>0</td></tr><tr><th>26</th><td><em>missing</em></td><td>Bhutan</td><td>27.5142</td><td>90.4336</td><td>0</td></tr><tr><th>27</th><td><em>missing</em></td><td>Bolivia</td><td>-16.2902</td><td>-63.5887</td><td>0</td></tr><tr><th>28</th><td><em>missing</em></td><td>Bosnia and Herzegovina</td><td>43.9159</td><td>17.6791</td><td>0</td></tr><tr><th>29</th><td><em>missing</em></td><td>Brazil</td><td>-14.235</td><td>-51.9253</td><td>0</td></tr><tr><th>30</th><td><em>missing</em></td><td>Brunei</td><td>4.5353</td><td>114.728</td><td>0</td></tr><tr><th>&vellip;</th><td>&vellip;</td><td>&vellip;</td><td>&vellip;</td><td>&vellip;</td><td>&vellip;</td></tr></tbody></table>"
      ],
      "text/latex": [
       "\\begin{tabular}{r|cccccc}\n",
       "\t& province & country & Lat & Long & 1/22/20 & \\\\\n",
       "\t\\hline\n",
       "\t& String? & String & Float64 & Float64 & Int64 & \\\\\n",
       "\t\\hline\n",
       "\t1 & \\emph{missing} & Afghanistan & 33.9391 & 67.71 & 0 & $\\dots$ \\\\\n",
       "\t2 & \\emph{missing} & Albania & 41.1533 & 20.1683 & 0 & $\\dots$ \\\\\n",
       "\t3 & \\emph{missing} & Algeria & 28.0339 & 1.6596 & 0 & $\\dots$ \\\\\n",
       "\t4 & \\emph{missing} & Andorra & 42.5063 & 1.5218 & 0 & $\\dots$ \\\\\n",
       "\t5 & \\emph{missing} & Angola & -11.2027 & 17.8739 & 0 & $\\dots$ \\\\\n",
       "\t6 & \\emph{missing} & Antigua and Barbuda & 17.0608 & -61.7964 & 0 & $\\dots$ \\\\\n",
       "\t7 & \\emph{missing} & Argentina & -38.4161 & -63.6167 & 0 & $\\dots$ \\\\\n",
       "\t8 & \\emph{missing} & Armenia & 40.0691 & 45.0382 & 0 & $\\dots$ \\\\\n",
       "\t9 & Australian Capital Territory & Australia & -35.4735 & 149.012 & 0 & $\\dots$ \\\\\n",
       "\t10 & New South Wales & Australia & -33.8688 & 151.209 & 0 & $\\dots$ \\\\\n",
       "\t11 & Northern Territory & Australia & -12.4634 & 130.846 & 0 & $\\dots$ \\\\\n",
       "\t12 & Queensland & Australia & -27.4698 & 153.025 & 0 & $\\dots$ \\\\\n",
       "\t13 & South Australia & Australia & -34.9285 & 138.601 & 0 & $\\dots$ \\\\\n",
       "\t14 & Tasmania & Australia & -42.8821 & 147.327 & 0 & $\\dots$ \\\\\n",
       "\t15 & Victoria & Australia & -37.8136 & 144.963 & 0 & $\\dots$ \\\\\n",
       "\t16 & Western Australia & Australia & -31.9505 & 115.861 & 0 & $\\dots$ \\\\\n",
       "\t17 & \\emph{missing} & Austria & 47.5162 & 14.5501 & 0 & $\\dots$ \\\\\n",
       "\t18 & \\emph{missing} & Azerbaijan & 40.1431 & 47.5769 & 0 & $\\dots$ \\\\\n",
       "\t19 & \\emph{missing} & Bahamas & 25.0259 & -78.0359 & 0 & $\\dots$ \\\\\n",
       "\t20 & \\emph{missing} & Bahrain & 26.0275 & 50.55 & 0 & $\\dots$ \\\\\n",
       "\t21 & \\emph{missing} & Bangladesh & 23.685 & 90.3563 & 0 & $\\dots$ \\\\\n",
       "\t22 & \\emph{missing} & Barbados & 13.1939 & -59.5432 & 0 & $\\dots$ \\\\\n",
       "\t23 & \\emph{missing} & Belarus & 53.7098 & 27.9534 & 0 & $\\dots$ \\\\\n",
       "\t24 & \\emph{missing} & Belgium & 50.8333 & 4.46994 & 0 & $\\dots$ \\\\\n",
       "\t25 & \\emph{missing} & Benin & 9.3077 & 2.3158 & 0 & $\\dots$ \\\\\n",
       "\t26 & \\emph{missing} & Bhutan & 27.5142 & 90.4336 & 0 & $\\dots$ \\\\\n",
       "\t27 & \\emph{missing} & Bolivia & -16.2902 & -63.5887 & 0 & $\\dots$ \\\\\n",
       "\t28 & \\emph{missing} & Bosnia and Herzegovina & 43.9159 & 17.6791 & 0 & $\\dots$ \\\\\n",
       "\t29 & \\emph{missing} & Brazil & -14.235 & -51.9253 & 0 & $\\dots$ \\\\\n",
       "\t30 & \\emph{missing} & Brunei & 4.5353 & 114.728 & 0 & $\\dots$ \\\\\n",
       "\t$\\dots$ & $\\dots$ & $\\dots$ & $\\dots$ & $\\dots$ & $\\dots$ &  \\\\\n",
       "\\end{tabular}\n"
      ],
      "text/plain": [
       "266×193 DataFrame. Omitted printing of 190 columns\n",
       "│ Row │ province                         │ country               │ Lat      │\n",
       "│     │ \u001b[90mUnion{Missing, String}\u001b[39m           │ \u001b[90mString\u001b[39m                │ \u001b[90mFloat64\u001b[39m  │\n",
       "├─────┼──────────────────────────────────┼───────────────────────┼──────────┤\n",
       "│ 1   │ \u001b[90mmissing\u001b[39m                          │ Afghanistan           │ 33.9391  │\n",
       "│ 2   │ \u001b[90mmissing\u001b[39m                          │ Albania               │ 41.1533  │\n",
       "│ 3   │ \u001b[90mmissing\u001b[39m                          │ Algeria               │ 28.0339  │\n",
       "│ 4   │ \u001b[90mmissing\u001b[39m                          │ Andorra               │ 42.5063  │\n",
       "│ 5   │ \u001b[90mmissing\u001b[39m                          │ Angola                │ -11.2027 │\n",
       "│ 6   │ \u001b[90mmissing\u001b[39m                          │ Antigua and Barbuda   │ 17.0608  │\n",
       "│ 7   │ \u001b[90mmissing\u001b[39m                          │ Argentina             │ -38.4161 │\n",
       "│ 8   │ \u001b[90mmissing\u001b[39m                          │ Armenia               │ 40.0691  │\n",
       "│ 9   │ Australian Capital Territory     │ Australia             │ -35.4735 │\n",
       "│ 10  │ New South Wales                  │ Australia             │ -33.8688 │\n",
       "⋮\n",
       "│ 256 │ Bonaire, Sint Eustatius and Saba │ Netherlands           │ 12.1784  │\n",
       "│ 257 │ \u001b[90mmissing\u001b[39m                          │ Malawi                │ -13.2543 │\n",
       "│ 258 │ Falkland Islands (Malvinas)      │ United Kingdom        │ -51.7963 │\n",
       "│ 259 │ Saint Pierre and Miquelon        │ France                │ 46.8852  │\n",
       "│ 260 │ \u001b[90mmissing\u001b[39m                          │ South Sudan           │ 6.877    │\n",
       "│ 261 │ \u001b[90mmissing\u001b[39m                          │ Western Sahara        │ 24.2155  │\n",
       "│ 262 │ \u001b[90mmissing\u001b[39m                          │ Sao Tome and Principe │ 0.1864   │\n",
       "│ 263 │ \u001b[90mmissing\u001b[39m                          │ Yemen                 │ 15.5527  │\n",
       "│ 264 │ \u001b[90mmissing\u001b[39m                          │ Comoros               │ -11.6455 │\n",
       "│ 265 │ \u001b[90mmissing\u001b[39m                          │ Tajikistan            │ 38.861   │\n",
       "│ 266 │ \u001b[90mmissing\u001b[39m                          │ Lesotho               │ -29.61   │"
      ]
     },
     "execution_count": 10,
     "metadata": {},
     "output_type": "execute_result"
    }
   ],
   "source": [
    "datacopy"
   ]
  },
  {
   "cell_type": "markdown",
   "metadata": {},
   "source": [
    "Whe are using Interact here with @manipulate for testing purposes. Feel free to play around with it"
   ]
  },
  {
   "cell_type": "code",
   "execution_count": 11,
   "metadata": {
    "scrolled": true
   },
   "outputs": [
    {
     "data": {
      "application/vnd.webio.node+json": {
       "children": [
        {
         "children": [
          {
           "children": [
            {
             "children": [
              {
               "children": [
                {
                 "children": [
                  "i"
                 ],
                 "instanceArgs": {
                  "namespace": "html",
                  "tag": "label"
                 },
                 "nodeType": "DOM",
                 "props": {
                  "className": "interact ",
                  "style": {
                   "padding": "5px 10px 0px 10px"
                  }
                 },
                 "type": "node"
                }
               ],
               "instanceArgs": {
                "namespace": "html",
                "tag": "div"
               },
               "nodeType": "DOM",
               "props": {
                "className": "interact-flex-row-left"
               },
               "type": "node"
              },
              {
               "children": [
                {
                 "children": [],
                 "instanceArgs": {
                  "namespace": "html",
                  "tag": "input"
                 },
                 "nodeType": "DOM",
                 "props": {
                  "attributes": {
                   "data-bind": "numericValue: index, valueUpdate: 'input', event: {change: function (){this.changes(this.changes()+1)}}",
                   "orient": "horizontal",
                   "type": "range"
                  },
                  "className": "slider slider is-fullwidth",
                  "max": 10,
                  "min": 1,
                  "step": 1,
                  "style": {}
                 },
                 "type": "node"
                }
               ],
               "instanceArgs": {
                "namespace": "html",
                "tag": "div"
               },
               "nodeType": "DOM",
               "props": {
                "className": "interact-flex-row-center"
               },
               "type": "node"
              },
              {
               "children": [
                {
                 "children": [],
                 "instanceArgs": {
                  "namespace": "html",
                  "tag": "p"
                 },
                 "nodeType": "DOM",
                 "props": {
                  "attributes": {
                   "data-bind": "text: formatted_val"
                  }
                 },
                 "type": "node"
                }
               ],
               "instanceArgs": {
                "namespace": "html",
                "tag": "div"
               },
               "nodeType": "DOM",
               "props": {
                "className": "interact-flex-row-right"
               },
               "type": "node"
              }
             ],
             "instanceArgs": {
              "namespace": "html",
              "tag": "div"
             },
             "nodeType": "DOM",
             "props": {
              "className": "interact-flex-row interact-widget"
             },
             "type": "node"
            }
           ],
           "instanceArgs": {
            "handlers": {
             "changes": [
              "(function (val){return (val!=this.model[\"changes\"]()) ? (this.valueFromJulia[\"changes\"]=true, this.model[\"changes\"](val)) : undefined})"
             ],
             "index": [
              "(function (val){return (val!=this.model[\"index\"]()) ? (this.valueFromJulia[\"index\"]=true, this.model[\"index\"](val)) : undefined})"
             ]
            },
            "id": "17855635212211131686",
            "imports": {
             "data": [
              {
               "name": "knockout",
               "type": "js",
               "url": "/assetserver/0f7dc91fc8596176c20edab2c146f643e18cfcdc-knockout.js"
              },
              {
               "name": "knockout_punches",
               "type": "js",
               "url": "/assetserver/8b17f7ded5914701597f16e37bf062d2d0b7e5d4-knockout_punches.js"
              },
              {
               "name": null,
               "type": "js",
               "url": "/assetserver/3eb5394c830347574f9413a8950b99793509cdb5-all.js"
              },
              {
               "name": null,
               "type": "css",
               "url": "/assetserver/c5073d62b91d019cd326a1073112f715fe0e3502-style.css"
              },
              {
               "name": null,
               "type": "css",
               "url": "/assetserver/44da6c918b69f064a105db1af391674e3a320ff8-bulma_confined.min.css"
              }
             ],
             "type": "async_block"
            },
            "mount_callbacks": [
             "function () {\n    var handler = (function (ko, koPunches) {\n    ko.punches.enableAll();\n    ko.bindingHandlers.numericValue = {\n        init: function(element, valueAccessor, allBindings, data, context) {\n            var stringified = ko.observable(ko.unwrap(valueAccessor()));\n            stringified.subscribe(function(value) {\n                var val = parseFloat(value);\n                if (!isNaN(val)) {\n                    valueAccessor()(val);\n                }\n            });\n            valueAccessor().subscribe(function(value) {\n                var str = JSON.stringify(value);\n                if ((str == \"0\") && ([\"-0\", \"-0.\"].indexOf(stringified()) >= 0))\n                     return;\n                 if ([\"null\", \"\"].indexOf(str) >= 0)\n                     return;\n                stringified(str);\n            });\n            ko.applyBindingsToNode(\n                element,\n                {\n                    value: stringified,\n                    valueUpdate: allBindings.get('valueUpdate'),\n                },\n                context,\n            );\n        }\n    };\n    var json_data = {\"formatted_vals\":[\"1\",\"2\",\"3\",\"4\",\"5\",\"6\",\"7\",\"8\",\"9\",\"10\"],\"changes\":WebIO.getval({\"name\":\"changes\",\"scope\":\"17855635212211131686\",\"id\":\"17907654522601061973\",\"type\":\"observable\"}),\"index\":WebIO.getval({\"name\":\"index\",\"scope\":\"17855635212211131686\",\"id\":\"3209725865577065437\",\"type\":\"observable\"})};\n    var self = this;\n    function AppViewModel() {\n        for (var key in json_data) {\n            var el = json_data[key];\n            this[key] = Array.isArray(el) ? ko.observableArray(el) : ko.observable(el);\n        }\n        \n        [this[\"formatted_val\"]=ko.computed(    function(){\n        return this.formatted_vals()[parseInt(this.index())-(1)];\n    }\n,this)]\n        [this[\"changes\"].subscribe((function (val){!(this.valueFromJulia[\"changes\"]) ? (WebIO.setval({\"name\":\"changes\",\"scope\":\"17855635212211131686\",\"id\":\"17907654522601061973\",\"type\":\"observable\"},val)) : undefined; return this.valueFromJulia[\"changes\"]=false}),self),this[\"index\"].subscribe((function (val){!(this.valueFromJulia[\"index\"]) ? (WebIO.setval({\"name\":\"index\",\"scope\":\"17855635212211131686\",\"id\":\"3209725865577065437\",\"type\":\"observable\"},val)) : undefined; return this.valueFromJulia[\"index\"]=false}),self)]\n        \n    }\n    self.model = new AppViewModel();\n    self.valueFromJulia = {};\n    for (var key in json_data) {\n        self.valueFromJulia[key] = false;\n    }\n    ko.applyBindings(self.model, self.dom);\n}\n);\n    (WebIO.importBlock({\"data\":[{\"name\":\"knockout\",\"type\":\"js\",\"url\":\"/assetserver/0f7dc91fc8596176c20edab2c146f643e18cfcdc-knockout.js\"},{\"name\":\"knockout_punches\",\"type\":\"js\",\"url\":\"/assetserver/8b17f7ded5914701597f16e37bf062d2d0b7e5d4-knockout_punches.js\"}],\"type\":\"async_block\"})).then((imports) => handler.apply(this, imports));\n}\n"
            ],
            "observables": {
             "changes": {
              "id": "17907654522601061973",
              "sync": false,
              "value": 0
             },
             "index": {
              "id": "3209725865577065437",
              "sync": true,
              "value": 5
             }
            },
            "systemjs_options": null
           },
           "nodeType": "Scope",
           "props": {},
           "type": "node"
          }
         ],
         "instanceArgs": {
          "namespace": "html",
          "tag": "div"
         },
         "nodeType": "DOM",
         "props": {
          "className": "field interact-widget"
         },
         "type": "node"
        },
        {
         "children": [
          {
           "children": [],
           "instanceArgs": {
            "id": "1055877528242796900",
            "name": "obs-node"
           },
           "nodeType": "ObservableNode",
           "props": {},
           "type": "node"
          }
         ],
         "instanceArgs": {
          "handlers": {},
          "id": "13363936028897208783",
          "imports": {
           "data": [],
           "type": "async_block"
          },
          "mount_callbacks": [],
          "observables": {
           "obs-node": {
            "id": "1055877528242796900",
            "sync": false,
            "value": {
             "children": [
              {
               "children": [],
               "instanceArgs": {
                "namespace": "html",
                "tag": "div"
               },
               "nodeType": "DOM",
               "props": {
                "setInnerHtml": "5"
               },
               "type": "node"
              }
             ],
             "instanceArgs": {
              "namespace": "html",
              "tag": "div"
             },
             "nodeType": "DOM",
             "props": {
              "className": "interact-flex-row interact-widget"
             },
             "type": "node"
            }
           }
          },
          "systemjs_options": null
         },
         "nodeType": "Scope",
         "props": {},
         "type": "node"
        }
       ],
       "instanceArgs": {
        "namespace": "html",
        "tag": "div"
       },
       "nodeType": "DOM",
       "props": {},
       "type": "node"
      },
      "text/html": [
       "<div\n",
       "    class=\"webio-mountpoint\"\n",
       "    data-webio-mountpoint=\"9243869722967659801\"\n",
       ">\n",
       "    <script>\n",
       "    if (window.require && require.defined && require.defined(\"nbextensions/webio-jupyter-notebook\")) {\n",
       "        console.log(\"Jupyter WebIO extension detected, not mounting.\");\n",
       "    } else if (window.WebIO) {\n",
       "        WebIO.mount(\n",
       "            document.querySelector('[data-webio-mountpoint=\"9243869722967659801\"]'),\n",
       "            {\"props\":{},\"nodeType\":\"DOM\",\"type\":\"node\",\"instanceArgs\":{\"namespace\":\"html\",\"tag\":\"div\"},\"children\":[{\"props\":{\"className\":\"field interact-widget\"},\"nodeType\":\"DOM\",\"type\":\"node\",\"instanceArgs\":{\"namespace\":\"html\",\"tag\":\"div\"},\"children\":[{\"props\":{},\"nodeType\":\"Scope\",\"type\":\"node\",\"instanceArgs\":{\"imports\":{\"data\":[{\"name\":\"knockout\",\"type\":\"js\",\"url\":\"\\/assetserver\\/0f7dc91fc8596176c20edab2c146f643e18cfcdc-knockout.js\"},{\"name\":\"knockout_punches\",\"type\":\"js\",\"url\":\"\\/assetserver\\/8b17f7ded5914701597f16e37bf062d2d0b7e5d4-knockout_punches.js\"},{\"name\":null,\"type\":\"js\",\"url\":\"\\/assetserver\\/3eb5394c830347574f9413a8950b99793509cdb5-all.js\"},{\"name\":null,\"type\":\"css\",\"url\":\"\\/assetserver\\/c5073d62b91d019cd326a1073112f715fe0e3502-style.css\"},{\"name\":null,\"type\":\"css\",\"url\":\"\\/assetserver\\/44da6c918b69f064a105db1af391674e3a320ff8-bulma_confined.min.css\"}],\"type\":\"async_block\"},\"id\":\"17855635212211131686\",\"handlers\":{\"changes\":[\"(function (val){return (val!=this.model[\\\"changes\\\"]()) ? (this.valueFromJulia[\\\"changes\\\"]=true, this.model[\\\"changes\\\"](val)) : undefined})\"],\"index\":[\"(function (val){return (val!=this.model[\\\"index\\\"]()) ? (this.valueFromJulia[\\\"index\\\"]=true, this.model[\\\"index\\\"](val)) : undefined})\"]},\"systemjs_options\":null,\"mount_callbacks\":[\"function () {\\n    var handler = (function (ko, koPunches) {\\n    ko.punches.enableAll();\\n    ko.bindingHandlers.numericValue = {\\n        init: function(element, valueAccessor, allBindings, data, context) {\\n            var stringified = ko.observable(ko.unwrap(valueAccessor()));\\n            stringified.subscribe(function(value) {\\n                var val = parseFloat(value);\\n                if (!isNaN(val)) {\\n                    valueAccessor()(val);\\n                }\\n            });\\n            valueAccessor().subscribe(function(value) {\\n                var str = JSON.stringify(value);\\n                if ((str == \\\"0\\\") && ([\\\"-0\\\", \\\"-0.\\\"].indexOf(stringified()) >= 0))\\n                     return;\\n                 if ([\\\"null\\\", \\\"\\\"].indexOf(str) >= 0)\\n                     return;\\n                stringified(str);\\n            });\\n            ko.applyBindingsToNode(\\n                element,\\n                {\\n                    value: stringified,\\n                    valueUpdate: allBindings.get('valueUpdate'),\\n                },\\n                context,\\n            );\\n        }\\n    };\\n    var json_data = {\\\"formatted_vals\\\":[\\\"1\\\",\\\"2\\\",\\\"3\\\",\\\"4\\\",\\\"5\\\",\\\"6\\\",\\\"7\\\",\\\"8\\\",\\\"9\\\",\\\"10\\\"],\\\"changes\\\":WebIO.getval({\\\"name\\\":\\\"changes\\\",\\\"scope\\\":\\\"17855635212211131686\\\",\\\"id\\\":\\\"17907654522601061973\\\",\\\"type\\\":\\\"observable\\\"}),\\\"index\\\":WebIO.getval({\\\"name\\\":\\\"index\\\",\\\"scope\\\":\\\"17855635212211131686\\\",\\\"id\\\":\\\"3209725865577065437\\\",\\\"type\\\":\\\"observable\\\"})};\\n    var self = this;\\n    function AppViewModel() {\\n        for (var key in json_data) {\\n            var el = json_data[key];\\n            this[key] = Array.isArray(el) ? ko.observableArray(el) : ko.observable(el);\\n        }\\n        \\n        [this[\\\"formatted_val\\\"]=ko.computed(    function(){\\n        return this.formatted_vals()[parseInt(this.index())-(1)];\\n    }\\n,this)]\\n        [this[\\\"changes\\\"].subscribe((function (val){!(this.valueFromJulia[\\\"changes\\\"]) ? (WebIO.setval({\\\"name\\\":\\\"changes\\\",\\\"scope\\\":\\\"17855635212211131686\\\",\\\"id\\\":\\\"17907654522601061973\\\",\\\"type\\\":\\\"observable\\\"},val)) : undefined; return this.valueFromJulia[\\\"changes\\\"]=false}),self),this[\\\"index\\\"].subscribe((function (val){!(this.valueFromJulia[\\\"index\\\"]) ? (WebIO.setval({\\\"name\\\":\\\"index\\\",\\\"scope\\\":\\\"17855635212211131686\\\",\\\"id\\\":\\\"3209725865577065437\\\",\\\"type\\\":\\\"observable\\\"},val)) : undefined; return this.valueFromJulia[\\\"index\\\"]=false}),self)]\\n        \\n    }\\n    self.model = new AppViewModel();\\n    self.valueFromJulia = {};\\n    for (var key in json_data) {\\n        self.valueFromJulia[key] = false;\\n    }\\n    ko.applyBindings(self.model, self.dom);\\n}\\n);\\n    (WebIO.importBlock({\\\"data\\\":[{\\\"name\\\":\\\"knockout\\\",\\\"type\\\":\\\"js\\\",\\\"url\\\":\\\"\\/assetserver\\/0f7dc91fc8596176c20edab2c146f643e18cfcdc-knockout.js\\\"},{\\\"name\\\":\\\"knockout_punches\\\",\\\"type\\\":\\\"js\\\",\\\"url\\\":\\\"\\/assetserver\\/8b17f7ded5914701597f16e37bf062d2d0b7e5d4-knockout_punches.js\\\"}],\\\"type\\\":\\\"async_block\\\"})).then((imports) => handler.apply(this, imports));\\n}\\n\"],\"observables\":{\"changes\":{\"sync\":false,\"id\":\"17907654522601061973\",\"value\":0},\"index\":{\"sync\":true,\"id\":\"3209725865577065437\",\"value\":5}}},\"children\":[{\"props\":{\"className\":\"interact-flex-row interact-widget\"},\"nodeType\":\"DOM\",\"type\":\"node\",\"instanceArgs\":{\"namespace\":\"html\",\"tag\":\"div\"},\"children\":[{\"props\":{\"className\":\"interact-flex-row-left\"},\"nodeType\":\"DOM\",\"type\":\"node\",\"instanceArgs\":{\"namespace\":\"html\",\"tag\":\"div\"},\"children\":[{\"props\":{\"className\":\"interact \",\"style\":{\"padding\":\"5px 10px 0px 10px\"}},\"nodeType\":\"DOM\",\"type\":\"node\",\"instanceArgs\":{\"namespace\":\"html\",\"tag\":\"label\"},\"children\":[\"i\"]}]},{\"props\":{\"className\":\"interact-flex-row-center\"},\"nodeType\":\"DOM\",\"type\":\"node\",\"instanceArgs\":{\"namespace\":\"html\",\"tag\":\"div\"},\"children\":[{\"props\":{\"max\":10,\"min\":1,\"attributes\":{\"type\":\"range\",\"data-bind\":\"numericValue: index, valueUpdate: 'input', event: {change: function (){this.changes(this.changes()+1)}}\",\"orient\":\"horizontal\"},\"step\":1,\"className\":\"slider slider is-fullwidth\",\"style\":{}},\"nodeType\":\"DOM\",\"type\":\"node\",\"instanceArgs\":{\"namespace\":\"html\",\"tag\":\"input\"},\"children\":[]}]},{\"props\":{\"className\":\"interact-flex-row-right\"},\"nodeType\":\"DOM\",\"type\":\"node\",\"instanceArgs\":{\"namespace\":\"html\",\"tag\":\"div\"},\"children\":[{\"props\":{\"attributes\":{\"data-bind\":\"text: formatted_val\"}},\"nodeType\":\"DOM\",\"type\":\"node\",\"instanceArgs\":{\"namespace\":\"html\",\"tag\":\"p\"},\"children\":[]}]}]}]}]},{\"props\":{},\"nodeType\":\"Scope\",\"type\":\"node\",\"instanceArgs\":{\"imports\":{\"data\":[],\"type\":\"async_block\"},\"id\":\"18315955900045063298\",\"handlers\":{},\"systemjs_options\":null,\"mount_callbacks\":[],\"observables\":{\"obs-node\":{\"sync\":false,\"id\":\"14966596940550940502\",\"value\":{\"props\":{\"className\":\"interact-flex-row interact-widget\"},\"nodeType\":\"DOM\",\"type\":\"node\",\"instanceArgs\":{\"namespace\":\"html\",\"tag\":\"div\"},\"children\":[{\"props\":{\"setInnerHtml\":\"5\"},\"nodeType\":\"DOM\",\"type\":\"node\",\"instanceArgs\":{\"namespace\":\"html\",\"tag\":\"div\"},\"children\":[]}]}}}},\"children\":[{\"props\":{},\"nodeType\":\"ObservableNode\",\"type\":\"node\",\"instanceArgs\":{\"id\":\"14966596940550940502\",\"name\":\"obs-node\"},\"children\":[]}]}]},\n",
       "            window,\n",
       "        );\n",
       "    } else {\n",
       "        document\n",
       "            .querySelector('[data-webio-mountpoint=\"9243869722967659801\"]')\n",
       "            .innerHTML = (\n",
       "                '<div style=\"padding: 1em; background-color: #f8d6da; border: 1px solid #f5c6cb\">' +\n",
       "                '<p><strong>WebIO not detected.</strong></p>' +\n",
       "                '<p>Please read ' +\n",
       "                '<a href=\"https://juliagizmos.github.io/WebIO.jl/latest/troubleshooting/not-detected/\" target=\"_blank\">the troubleshooting guide</a> ' +\n",
       "                'for more information on how to resolve this issue.</p>' +\n",
       "                '<p><a href=\"https://juliagizmos.github.io/WebIO.jl/latest/troubleshooting/not-detected/\" target=\"_blank\">https://juliagizmos.github.io/WebIO.jl/latest/troubleshooting/not-detected/</a></p>' +\n",
       "                '</div>'\n",
       "            );\n",
       "    }\n",
       "    </script>\n",
       "</div>\n"
      ],
      "text/plain": [
       "Node{WebIO.DOM}(WebIO.DOM(:html, :div), Any[Node{WebIO.DOM}(WebIO.DOM(:html, :div), Any[Scope(Node{WebIO.DOM}(WebIO.DOM(:html, :div), Any[Node{WebIO.DOM}(WebIO.DOM(:html, :div), Any[Node{WebIO.DOM}(WebIO.DOM(:html, :label), Any[\"i\"], Dict{Symbol,Any}(:className => \"interact \",:style => Dict{Any,Any}(:padding => \"5px 10px 0px 10px\")))], Dict{Symbol,Any}(:className => \"interact-flex-row-left\")), Node{WebIO.DOM}(WebIO.DOM(:html, :div), Any[Node{WebIO.DOM}(WebIO.DOM(:html, :input), Any[], Dict{Symbol,Any}(:max => 10,:min => 1,:attributes => Dict{Any,Any}(:type => \"range\",Symbol(\"data-bind\") => \"numericValue: index, valueUpdate: 'input', event: {change: function (){this.changes(this.changes()+1)}}\",\"orient\" => \"horizontal\"),:step => 1,:className => \"slider slider is-fullwidth\",:style => Dict{Any,Any}()))], Dict{Symbol,Any}(:className => \"interact-flex-row-center\")), Node{WebIO.DOM}(WebIO.DOM(:html, :div), Any[Node{WebIO.DOM}(WebIO.DOM(:html, :p), Any[], Dict{Symbol,Any}(:attributes => Dict(\"data-bind\" => \"text: formatted_val\")))], Dict{Symbol,Any}(:className => \"interact-flex-row-right\"))], Dict{Symbol,Any}(:className => \"interact-flex-row interact-widget\")), Dict{String,Tuple{Observables.AbstractObservable,Union{Nothing, Bool}}}(\"changes\" => (Observable{Int64} with 1 listeners. Value:\n",
       "0, nothing),\"index\" => (Observable{Int64} with 2 listeners. Value:\n",
       "5, nothing)), Set(String[]), nothing, Asset[Asset(\"js\", \"knockout\", \"/Users/pinas/.julia/packages/Knockout/IP1uR/src/../assets/knockout.js\"), Asset(\"js\", \"knockout_punches\", \"/Users/pinas/.julia/packages/Knockout/IP1uR/src/../assets/knockout_punches.js\"), Asset(\"js\", nothing, \"/Users/pinas/.julia/packages/InteractBase/sOe2Z/src/../assets/all.js\"), Asset(\"css\", nothing, \"/Users/pinas/.julia/packages/InteractBase/sOe2Z/src/../assets/style.css\"), Asset(\"css\", nothing, \"/Users/pinas/.julia/packages/Interact/SbgIk/src/../assets/bulma_confined.min.css\")], Dict{Any,Any}(\"changes\" => Any[WebIO.JSString(\"(function (val){return (val!=this.model[\\\"changes\\\"]()) ? (this.valueFromJulia[\\\"changes\\\"]=true, this.model[\\\"changes\\\"](val)) : undefined})\")],\"index\" => Any[WebIO.JSString(\"(function (val){return (val!=this.model[\\\"index\\\"]()) ? (this.valueFromJulia[\\\"index\\\"]=true, this.model[\\\"index\\\"](val)) : undefined})\")]), WebIO.ConnectionPool(Channel{Any}(sz_max:32,sz_curr:0), Set(AbstractConnection[]), Base.GenericCondition{Base.AlwaysLockedST}(Base.InvasiveLinkedList{Task}(Task (runnable) @0x000000011fa74d90, Task (runnable) @0x000000011fa74d90), Base.AlwaysLockedST(1))), WebIO.JSString[WebIO.JSString(\"function () {\\n    var handler = (function (ko, koPunches) {\\n    ko.punches.enableAll();\\n    ko.bindingHandlers.numericValue = {\\n        init: function(element, valueAccessor, allBindings, data, context) {\\n            var stringified = ko.observable(ko.unwrap(valueAccessor()));\\n            stringified.subscribe(function(value) {\\n                var val = parseFloat(value);\\n                if (!isNaN(val)) {\\n                    valueAccessor()(val);\\n                }\\n            });\\n            valueAccessor().subscribe(function(value) {\\n                var str = JSON.stringify(value);\\n                if ((str == \\\"0\\\") && ([\\\"-0\\\", \\\"-0.\\\"].indexOf(stringified()) >= 0))\\n                     return;\\n                 if ([\\\"null\\\", \\\"\\\"].indexOf(str) >= 0)\\n                     return;\\n                stringified(str);\\n            });\\n            ko.applyBindingsToNode(\\n                element,\\n                {\\n                    value: stringified,\\n                    valueUpdate: allBindings.get('valueUpdate'),\\n                },\\n                context,\\n            );\\n        }\\n    };\\n    var json_data = {\\\"formatted_vals\\\":[\\\"1\\\",\\\"2\\\",\\\"3\\\",\\\"4\\\",\\\"5\\\",\\\"6\\\",\\\"7\\\",\\\"8\\\",\\\"9\\\",\\\"10\\\"],\\\"changes\\\":WebIO.getval({\\\"name\\\":\\\"changes\\\",\\\"scope\\\":\\\"17855635212211131686\\\",\\\"id\\\":\\\"17907654522601061973\\\",\\\"type\\\":\\\"observable\\\"}),\\\"index\\\":WebIO.getval({\\\"name\\\":\\\"index\\\",\\\"scope\\\":\\\"17855635212211131686\\\",\\\"id\\\":\\\"3209725865577065437\\\",\\\"type\\\":\\\"observable\\\"})};\\n    var self = this;\\n    function AppViewModel() {\\n        for (var key in json_data) {\\n            var el = json_data[key];\\n            this[key] = Array.isArray(el) ? ko.observableArray(el) : ko.observable(el);\\n        }\\n        \\n        [this[\\\"formatted_val\\\"]=ko.computed(    function(){\\n        return this.formatted_vals()[parseInt(this.index())-(1)];\\n    }\\n,this)]\\n        [this[\\\"changes\\\"].subscribe((function (val){!(this.valueFromJulia[\\\"changes\\\"]) ? (WebIO.setval({\\\"name\\\":\\\"changes\\\",\\\"scope\\\":\\\"17855635212211131686\\\",\\\"id\\\":\\\"17907654522601061973\\\",\\\"type\\\":\\\"observable\\\"},val)) : undefined; return this.valueFromJulia[\\\"changes\\\"]=false}),self),this[\\\"index\\\"].subscribe((function (val){!(this.valueFromJulia[\\\"index\\\"]) ? (WebIO.setval({\\\"name\\\":\\\"index\\\",\\\"scope\\\":\\\"17855635212211131686\\\",\\\"id\\\":\\\"3209725865577065437\\\",\\\"type\\\":\\\"observable\\\"},val)) : undefined; return this.valueFromJulia[\\\"index\\\"]=false}),self)]\\n        \\n    }\\n    self.model = new AppViewModel();\\n    self.valueFromJulia = {};\\n    for (var key in json_data) {\\n        self.valueFromJulia[key] = false;\\n    }\\n    ko.applyBindings(self.model, self.dom);\\n}\\n);\\n    (WebIO.importBlock({\\\"data\\\":[{\\\"name\\\":\\\"knockout\\\",\\\"type\\\":\\\"js\\\",\\\"url\\\":\\\"/assetserver/0f7dc91fc8596176c20edab2c146f643e18cfcdc-knockout.js\\\"},{\\\"name\\\":\\\"knockout_punches\\\",\\\"type\\\":\\\"js\\\",\\\"url\\\":\\\"/assetserver/8b17f7ded5914701597f16e37bf062d2d0b7e5d4-knockout_punches.js\\\"}],\\\"type\\\":\\\"async_block\\\"})).then((imports) => handler.apply(this, imports));\\n}\\n\")])], Dict{Symbol,Any}(:className => \"field interact-widget\")), Observable{Any} with 0 listeners. Value:\n",
       "Node{WebIO.DOM}(WebIO.DOM(:html, :div), Any[HTML{Int64}(5)], Dict{Symbol,Any}(:className => \"interact-flex-row interact-widget\"))], Dict{Symbol,Any}())"
      ]
     },
     "execution_count": 11,
     "metadata": {
      "application/vnd.webio.node+json": {
       "kernelId": "655a49e5-ce00-4b9e-9d47-1268d83d8ac7"
      }
     },
     "output_type": "execute_result"
    }
   ],
   "source": [
    "@manipulate for i in 1:10\n",
    "    HTML(i)\n",
    "end"
   ]
  },
  {
   "cell_type": "code",
   "execution_count": 12,
   "metadata": {},
   "outputs": [
    {
     "data": {
      "text/plain": [
       "266-element WeakRefStrings.StringArray{String,1}:\n",
       " \"Afghanistan\"\n",
       " \"Albania\"\n",
       " \"Algeria\"\n",
       " \"Andorra\"\n",
       " \"Angola\"\n",
       " \"Antigua and Barbuda\"\n",
       " \"Argentina\"\n",
       " \"Armenia\"\n",
       " \"Australia\"\n",
       " \"Australia\"\n",
       " \"Australia\"\n",
       " \"Australia\"\n",
       " \"Australia\"\n",
       " ⋮\n",
       " \"Sierra Leone\"\n",
       " \"Netherlands\"\n",
       " \"Malawi\"\n",
       " \"United Kingdom\"\n",
       " \"France\"\n",
       " \"South Sudan\"\n",
       " \"Western Sahara\"\n",
       " \"Sao Tome and Principe\"\n",
       " \"Yemen\"\n",
       " \"Comoros\"\n",
       " \"Tajikistan\"\n",
       " \"Lesotho\""
      ]
     },
     "execution_count": 12,
     "metadata": {},
     "output_type": "execute_result"
    }
   ],
   "source": [
    "countries = datacopy[:, 2] # A shorter way to extract all the data from column 2"
   ]
  },
  {
   "cell_type": "code",
   "execution_count": 13,
   "metadata": {},
   "outputs": [
    {
     "data": {
      "text/plain": [
       "266-element Array{String,1}:\n",
       " \"Afghanistan\"\n",
       " \"Albania\"\n",
       " \"Algeria\"\n",
       " \"Andorra\"\n",
       " \"Angola\"\n",
       " \"Antigua and Barbuda\"\n",
       " \"Argentina\"\n",
       " \"Armenia\"\n",
       " \"Australia\"\n",
       " \"Australia\"\n",
       " \"Australia\"\n",
       " \"Australia\"\n",
       " \"Australia\"\n",
       " ⋮\n",
       " \"Sierra Leone\"\n",
       " \"Netherlands\"\n",
       " \"Malawi\"\n",
       " \"United Kingdom\"\n",
       " \"France\"\n",
       " \"South Sudan\"\n",
       " \"Western Sahara\"\n",
       " \"Sao Tome and Principe\"\n",
       " \"Yemen\"\n",
       " \"Comoros\"\n",
       " \"Tajikistan\"\n",
       " \"Lesotho\""
      ]
     },
     "execution_count": 13,
     "metadata": {},
     "output_type": "execute_result"
    }
   ],
   "source": [
    "countries = collect(datacopy[:, 2])"
   ]
  },
  {
   "cell_type": "code",
   "execution_count": 14,
   "metadata": {},
   "outputs": [
    {
     "data": {
      "text/plain": [
       "188-element Array{String,1}:\n",
       " \"Afghanistan\"\n",
       " \"Albania\"\n",
       " \"Algeria\"\n",
       " \"Andorra\"\n",
       " \"Angola\"\n",
       " \"Antigua and Barbuda\"\n",
       " \"Argentina\"\n",
       " \"Armenia\"\n",
       " \"Australia\"\n",
       " \"Austria\"\n",
       " \"Azerbaijan\"\n",
       " \"Bahamas\"\n",
       " \"Bahrain\"\n",
       " ⋮\n",
       " \"MS Zaandam\"\n",
       " \"Botswana\"\n",
       " \"Burundi\"\n",
       " \"Sierra Leone\"\n",
       " \"Malawi\"\n",
       " \"South Sudan\"\n",
       " \"Western Sahara\"\n",
       " \"Sao Tome and Principe\"\n",
       " \"Yemen\"\n",
       " \"Comoros\"\n",
       " \"Tajikistan\"\n",
       " \"Lesotho\""
      ]
     },
     "execution_count": 14,
     "metadata": {},
     "output_type": "execute_result"
    }
   ],
   "source": [
    "uniquecountries = unique(countries)"
   ]
  },
  {
   "cell_type": "code",
   "execution_count": 15,
   "metadata": {},
   "outputs": [
    {
     "data": {
      "application/vnd.webio.node+json": {
       "children": [
        {
         "children": [
          {
           "children": [
            {
             "children": [
              {
               "children": [
                {
                 "children": [
                  "i"
                 ],
                 "instanceArgs": {
                  "namespace": "html",
                  "tag": "label"
                 },
                 "nodeType": "DOM",
                 "props": {
                  "className": "interact ",
                  "style": {
                   "padding": "5px 10px 0px 10px"
                  }
                 },
                 "type": "node"
                }
               ],
               "instanceArgs": {
                "namespace": "html",
                "tag": "div"
               },
               "nodeType": "DOM",
               "props": {
                "className": "interact-flex-row-left"
               },
               "type": "node"
              },
              {
               "children": [
                {
                 "children": [],
                 "instanceArgs": {
                  "namespace": "html",
                  "tag": "input"
                 },
                 "nodeType": "DOM",
                 "props": {
                  "attributes": {
                   "data-bind": "numericValue: index, valueUpdate: 'input', event: {change: function (){this.changes(this.changes()+1)}}",
                   "orient": "horizontal",
                   "type": "range"
                  },
                  "className": "slider slider is-fullwidth",
                  "max": 266,
                  "min": 1,
                  "step": 1,
                  "style": {}
                 },
                 "type": "node"
                }
               ],
               "instanceArgs": {
                "namespace": "html",
                "tag": "div"
               },
               "nodeType": "DOM",
               "props": {
                "className": "interact-flex-row-center"
               },
               "type": "node"
              },
              {
               "children": [
                {
                 "children": [],
                 "instanceArgs": {
                  "namespace": "html",
                  "tag": "p"
                 },
                 "nodeType": "DOM",
                 "props": {
                  "attributes": {
                   "data-bind": "text: formatted_val"
                  }
                 },
                 "type": "node"
                }
               ],
               "instanceArgs": {
                "namespace": "html",
                "tag": "div"
               },
               "nodeType": "DOM",
               "props": {
                "className": "interact-flex-row-right"
               },
               "type": "node"
              }
             ],
             "instanceArgs": {
              "namespace": "html",
              "tag": "div"
             },
             "nodeType": "DOM",
             "props": {
              "className": "interact-flex-row interact-widget"
             },
             "type": "node"
            }
           ],
           "instanceArgs": {
            "handlers": {
             "changes": [
              "(function (val){return (val!=this.model[\"changes\"]()) ? (this.valueFromJulia[\"changes\"]=true, this.model[\"changes\"](val)) : undefined})"
             ],
             "index": [
              "(function (val){return (val!=this.model[\"index\"]()) ? (this.valueFromJulia[\"index\"]=true, this.model[\"index\"](val)) : undefined})"
             ]
            },
            "id": "14537210004871339045",
            "imports": {
             "data": [
              {
               "name": "knockout",
               "type": "js",
               "url": "/assetserver/0f7dc91fc8596176c20edab2c146f643e18cfcdc-knockout.js"
              },
              {
               "name": "knockout_punches",
               "type": "js",
               "url": "/assetserver/8b17f7ded5914701597f16e37bf062d2d0b7e5d4-knockout_punches.js"
              },
              {
               "name": null,
               "type": "js",
               "url": "/assetserver/3eb5394c830347574f9413a8950b99793509cdb5-all.js"
              },
              {
               "name": null,
               "type": "css",
               "url": "/assetserver/c5073d62b91d019cd326a1073112f715fe0e3502-style.css"
              },
              {
               "name": null,
               "type": "css",
               "url": "/assetserver/44da6c918b69f064a105db1af391674e3a320ff8-bulma_confined.min.css"
              }
             ],
             "type": "async_block"
            },
            "mount_callbacks": [
             "function () {\n    var handler = (function (ko, koPunches) {\n    ko.punches.enableAll();\n    ko.bindingHandlers.numericValue = {\n        init: function(element, valueAccessor, allBindings, data, context) {\n            var stringified = ko.observable(ko.unwrap(valueAccessor()));\n            stringified.subscribe(function(value) {\n                var val = parseFloat(value);\n                if (!isNaN(val)) {\n                    valueAccessor()(val);\n                }\n            });\n            valueAccessor().subscribe(function(value) {\n                var str = JSON.stringify(value);\n                if ((str == \"0\") && ([\"-0\", \"-0.\"].indexOf(stringified()) >= 0))\n                     return;\n                 if ([\"null\", \"\"].indexOf(str) >= 0)\n                     return;\n                stringified(str);\n            });\n            ko.applyBindingsToNode(\n                element,\n                {\n                    value: stringified,\n                    valueUpdate: allBindings.get('valueUpdate'),\n                },\n                context,\n            );\n        }\n    };\n    var json_data = {\"formatted_vals\":[\"1\",\"2\",\"3\",\"4\",\"5\",\"6\",\"7\",\"8\",\"9\",\"10\",\"11\",\"12\",\"13\",\"14\",\"15\",\"16\",\"17\",\"18\",\"19\",\"20\",\"21\",\"22\",\"23\",\"24\",\"25\",\"26\",\"27\",\"28\",\"29\",\"30\",\"31\",\"32\",\"33\",\"34\",\"35\",\"36\",\"37\",\"38\",\"39\",\"40\",\"41\",\"42\",\"43\",\"44\",\"45\",\"46\",\"47\",\"48\",\"49\",\"50\",\"51\",\"52\",\"53\",\"54\",\"55\",\"56\",\"57\",\"58\",\"59\",\"60\",\"61\",\"62\",\"63\",\"64\",\"65\",\"66\",\"67\",\"68\",\"69\",\"70\",\"71\",\"72\",\"73\",\"74\",\"75\",\"76\",\"77\",\"78\",\"79\",\"80\",\"81\",\"82\",\"83\",\"84\",\"85\",\"86\",\"87\",\"88\",\"89\",\"90\",\"91\",\"92\",\"93\",\"94\",\"95\",\"96\",\"97\",\"98\",\"99\",\"100\",\"101\",\"102\",\"103\",\"104\",\"105\",\"106\",\"107\",\"108\",\"109\",\"110\",\"111\",\"112\",\"113\",\"114\",\"115\",\"116\",\"117\",\"118\",\"119\",\"120\",\"121\",\"122\",\"123\",\"124\",\"125\",\"126\",\"127\",\"128\",\"129\",\"130\",\"131\",\"132\",\"133\",\"134\",\"135\",\"136\",\"137\",\"138\",\"139\",\"140\",\"141\",\"142\",\"143\",\"144\",\"145\",\"146\",\"147\",\"148\",\"149\",\"150\",\"151\",\"152\",\"153\",\"154\",\"155\",\"156\",\"157\",\"158\",\"159\",\"160\",\"161\",\"162\",\"163\",\"164\",\"165\",\"166\",\"167\",\"168\",\"169\",\"170\",\"171\",\"172\",\"173\",\"174\",\"175\",\"176\",\"177\",\"178\",\"179\",\"180\",\"181\",\"182\",\"183\",\"184\",\"185\",\"186\",\"187\",\"188\",\"189\",\"190\",\"191\",\"192\",\"193\",\"194\",\"195\",\"196\",\"197\",\"198\",\"199\",\"200\",\"201\",\"202\",\"203\",\"204\",\"205\",\"206\",\"207\",\"208\",\"209\",\"210\",\"211\",\"212\",\"213\",\"214\",\"215\",\"216\",\"217\",\"218\",\"219\",\"220\",\"221\",\"222\",\"223\",\"224\",\"225\",\"226\",\"227\",\"228\",\"229\",\"230\",\"231\",\"232\",\"233\",\"234\",\"235\",\"236\",\"237\",\"238\",\"239\",\"240\",\"241\",\"242\",\"243\",\"244\",\"245\",\"246\",\"247\",\"248\",\"249\",\"250\",\"251\",\"252\",\"253\",\"254\",\"255\",\"256\",\"257\",\"258\",\"259\",\"260\",\"261\",\"262\",\"263\",\"264\",\"265\",\"266\"],\"changes\":WebIO.getval({\"name\":\"changes\",\"scope\":\"14537210004871339045\",\"id\":\"12031094486247191599\",\"type\":\"observable\"}),\"index\":WebIO.getval({\"name\":\"index\",\"scope\":\"14537210004871339045\",\"id\":\"1465051161628799677\",\"type\":\"observable\"})};\n    var self = this;\n    function AppViewModel() {\n        for (var key in json_data) {\n            var el = json_data[key];\n            this[key] = Array.isArray(el) ? ko.observableArray(el) : ko.observable(el);\n        }\n        \n        [this[\"formatted_val\"]=ko.computed(    function(){\n        return this.formatted_vals()[parseInt(this.index())-(1)];\n    }\n,this)]\n        [this[\"changes\"].subscribe((function (val){!(this.valueFromJulia[\"changes\"]) ? (WebIO.setval({\"name\":\"changes\",\"scope\":\"14537210004871339045\",\"id\":\"12031094486247191599\",\"type\":\"observable\"},val)) : undefined; return this.valueFromJulia[\"changes\"]=false}),self),this[\"index\"].subscribe((function (val){!(this.valueFromJulia[\"index\"]) ? (WebIO.setval({\"name\":\"index\",\"scope\":\"14537210004871339045\",\"id\":\"1465051161628799677\",\"type\":\"observable\"},val)) : undefined; return this.valueFromJulia[\"index\"]=false}),self)]\n        \n    }\n    self.model = new AppViewModel();\n    self.valueFromJulia = {};\n    for (var key in json_data) {\n        self.valueFromJulia[key] = false;\n    }\n    ko.applyBindings(self.model, self.dom);\n}\n);\n    (WebIO.importBlock({\"data\":[{\"name\":\"knockout\",\"type\":\"js\",\"url\":\"/assetserver/0f7dc91fc8596176c20edab2c146f643e18cfcdc-knockout.js\"},{\"name\":\"knockout_punches\",\"type\":\"js\",\"url\":\"/assetserver/8b17f7ded5914701597f16e37bf062d2d0b7e5d4-knockout_punches.js\"}],\"type\":\"async_block\"})).then((imports) => handler.apply(this, imports));\n}\n"
            ],
            "observables": {
             "changes": {
              "id": "12031094486247191599",
              "sync": false,
              "value": 0
             },
             "index": {
              "id": "1465051161628799677",
              "sync": true,
              "value": 133
             }
            },
            "systemjs_options": null
           },
           "nodeType": "Scope",
           "props": {},
           "type": "node"
          }
         ],
         "instanceArgs": {
          "namespace": "html",
          "tag": "div"
         },
         "nodeType": "DOM",
         "props": {
          "className": "field interact-widget"
         },
         "type": "node"
        },
        {
         "children": [
          {
           "children": [],
           "instanceArgs": {
            "id": "9445985405055165497",
            "name": "obs-node"
           },
           "nodeType": "ObservableNode",
           "props": {},
           "type": "node"
          }
         ],
         "instanceArgs": {
          "handlers": {},
          "id": "8599839756033699577",
          "imports": {
           "data": [],
           "type": "async_block"
          },
          "mount_callbacks": [],
          "observables": {
           "obs-node": {
            "id": "9445985405055165497",
            "sync": false,
            "value": {
             "children": [
              "Indonesia"
             ],
             "instanceArgs": {
              "namespace": "html",
              "tag": "div"
             },
             "nodeType": "DOM",
             "props": {
              "className": "interact-flex-row interact-widget"
             },
             "type": "node"
            }
           }
          },
          "systemjs_options": null
         },
         "nodeType": "Scope",
         "props": {},
         "type": "node"
        }
       ],
       "instanceArgs": {
        "namespace": "html",
        "tag": "div"
       },
       "nodeType": "DOM",
       "props": {},
       "type": "node"
      },
      "text/html": [
       "<div\n",
       "    class=\"webio-mountpoint\"\n",
       "    data-webio-mountpoint=\"10784461496853483419\"\n",
       ">\n",
       "    <script>\n",
       "    if (window.require && require.defined && require.defined(\"nbextensions/webio-jupyter-notebook\")) {\n",
       "        console.log(\"Jupyter WebIO extension detected, not mounting.\");\n",
       "    } else if (window.WebIO) {\n",
       "        WebIO.mount(\n",
       "            document.querySelector('[data-webio-mountpoint=\"10784461496853483419\"]'),\n",
       "            {\"props\":{},\"nodeType\":\"DOM\",\"type\":\"node\",\"instanceArgs\":{\"namespace\":\"html\",\"tag\":\"div\"},\"children\":[{\"props\":{\"className\":\"field interact-widget\"},\"nodeType\":\"DOM\",\"type\":\"node\",\"instanceArgs\":{\"namespace\":\"html\",\"tag\":\"div\"},\"children\":[{\"props\":{},\"nodeType\":\"Scope\",\"type\":\"node\",\"instanceArgs\":{\"imports\":{\"data\":[{\"name\":\"knockout\",\"type\":\"js\",\"url\":\"\\/assetserver\\/0f7dc91fc8596176c20edab2c146f643e18cfcdc-knockout.js\"},{\"name\":\"knockout_punches\",\"type\":\"js\",\"url\":\"\\/assetserver\\/8b17f7ded5914701597f16e37bf062d2d0b7e5d4-knockout_punches.js\"},{\"name\":null,\"type\":\"js\",\"url\":\"\\/assetserver\\/3eb5394c830347574f9413a8950b99793509cdb5-all.js\"},{\"name\":null,\"type\":\"css\",\"url\":\"\\/assetserver\\/c5073d62b91d019cd326a1073112f715fe0e3502-style.css\"},{\"name\":null,\"type\":\"css\",\"url\":\"\\/assetserver\\/44da6c918b69f064a105db1af391674e3a320ff8-bulma_confined.min.css\"}],\"type\":\"async_block\"},\"id\":\"14537210004871339045\",\"handlers\":{\"changes\":[\"(function (val){return (val!=this.model[\\\"changes\\\"]()) ? (this.valueFromJulia[\\\"changes\\\"]=true, this.model[\\\"changes\\\"](val)) : undefined})\"],\"index\":[\"(function (val){return (val!=this.model[\\\"index\\\"]()) ? (this.valueFromJulia[\\\"index\\\"]=true, this.model[\\\"index\\\"](val)) : undefined})\"]},\"systemjs_options\":null,\"mount_callbacks\":[\"function () {\\n    var handler = (function (ko, koPunches) {\\n    ko.punches.enableAll();\\n    ko.bindingHandlers.numericValue = {\\n        init: function(element, valueAccessor, allBindings, data, context) {\\n            var stringified = ko.observable(ko.unwrap(valueAccessor()));\\n            stringified.subscribe(function(value) {\\n                var val = parseFloat(value);\\n                if (!isNaN(val)) {\\n                    valueAccessor()(val);\\n                }\\n            });\\n            valueAccessor().subscribe(function(value) {\\n                var str = JSON.stringify(value);\\n                if ((str == \\\"0\\\") && ([\\\"-0\\\", \\\"-0.\\\"].indexOf(stringified()) >= 0))\\n                     return;\\n                 if ([\\\"null\\\", \\\"\\\"].indexOf(str) >= 0)\\n                     return;\\n                stringified(str);\\n            });\\n            ko.applyBindingsToNode(\\n                element,\\n                {\\n                    value: stringified,\\n                    valueUpdate: allBindings.get('valueUpdate'),\\n                },\\n                context,\\n            );\\n        }\\n    };\\n    var json_data = {\\\"formatted_vals\\\":[\\\"1\\\",\\\"2\\\",\\\"3\\\",\\\"4\\\",\\\"5\\\",\\\"6\\\",\\\"7\\\",\\\"8\\\",\\\"9\\\",\\\"10\\\",\\\"11\\\",\\\"12\\\",\\\"13\\\",\\\"14\\\",\\\"15\\\",\\\"16\\\",\\\"17\\\",\\\"18\\\",\\\"19\\\",\\\"20\\\",\\\"21\\\",\\\"22\\\",\\\"23\\\",\\\"24\\\",\\\"25\\\",\\\"26\\\",\\\"27\\\",\\\"28\\\",\\\"29\\\",\\\"30\\\",\\\"31\\\",\\\"32\\\",\\\"33\\\",\\\"34\\\",\\\"35\\\",\\\"36\\\",\\\"37\\\",\\\"38\\\",\\\"39\\\",\\\"40\\\",\\\"41\\\",\\\"42\\\",\\\"43\\\",\\\"44\\\",\\\"45\\\",\\\"46\\\",\\\"47\\\",\\\"48\\\",\\\"49\\\",\\\"50\\\",\\\"51\\\",\\\"52\\\",\\\"53\\\",\\\"54\\\",\\\"55\\\",\\\"56\\\",\\\"57\\\",\\\"58\\\",\\\"59\\\",\\\"60\\\",\\\"61\\\",\\\"62\\\",\\\"63\\\",\\\"64\\\",\\\"65\\\",\\\"66\\\",\\\"67\\\",\\\"68\\\",\\\"69\\\",\\\"70\\\",\\\"71\\\",\\\"72\\\",\\\"73\\\",\\\"74\\\",\\\"75\\\",\\\"76\\\",\\\"77\\\",\\\"78\\\",\\\"79\\\",\\\"80\\\",\\\"81\\\",\\\"82\\\",\\\"83\\\",\\\"84\\\",\\\"85\\\",\\\"86\\\",\\\"87\\\",\\\"88\\\",\\\"89\\\",\\\"90\\\",\\\"91\\\",\\\"92\\\",\\\"93\\\",\\\"94\\\",\\\"95\\\",\\\"96\\\",\\\"97\\\",\\\"98\\\",\\\"99\\\",\\\"100\\\",\\\"101\\\",\\\"102\\\",\\\"103\\\",\\\"104\\\",\\\"105\\\",\\\"106\\\",\\\"107\\\",\\\"108\\\",\\\"109\\\",\\\"110\\\",\\\"111\\\",\\\"112\\\",\\\"113\\\",\\\"114\\\",\\\"115\\\",\\\"116\\\",\\\"117\\\",\\\"118\\\",\\\"119\\\",\\\"120\\\",\\\"121\\\",\\\"122\\\",\\\"123\\\",\\\"124\\\",\\\"125\\\",\\\"126\\\",\\\"127\\\",\\\"128\\\",\\\"129\\\",\\\"130\\\",\\\"131\\\",\\\"132\\\",\\\"133\\\",\\\"134\\\",\\\"135\\\",\\\"136\\\",\\\"137\\\",\\\"138\\\",\\\"139\\\",\\\"140\\\",\\\"141\\\",\\\"142\\\",\\\"143\\\",\\\"144\\\",\\\"145\\\",\\\"146\\\",\\\"147\\\",\\\"148\\\",\\\"149\\\",\\\"150\\\",\\\"151\\\",\\\"152\\\",\\\"153\\\",\\\"154\\\",\\\"155\\\",\\\"156\\\",\\\"157\\\",\\\"158\\\",\\\"159\\\",\\\"160\\\",\\\"161\\\",\\\"162\\\",\\\"163\\\",\\\"164\\\",\\\"165\\\",\\\"166\\\",\\\"167\\\",\\\"168\\\",\\\"169\\\",\\\"170\\\",\\\"171\\\",\\\"172\\\",\\\"173\\\",\\\"174\\\",\\\"175\\\",\\\"176\\\",\\\"177\\\",\\\"178\\\",\\\"179\\\",\\\"180\\\",\\\"181\\\",\\\"182\\\",\\\"183\\\",\\\"184\\\",\\\"185\\\",\\\"186\\\",\\\"187\\\",\\\"188\\\",\\\"189\\\",\\\"190\\\",\\\"191\\\",\\\"192\\\",\\\"193\\\",\\\"194\\\",\\\"195\\\",\\\"196\\\",\\\"197\\\",\\\"198\\\",\\\"199\\\",\\\"200\\\",\\\"201\\\",\\\"202\\\",\\\"203\\\",\\\"204\\\",\\\"205\\\",\\\"206\\\",\\\"207\\\",\\\"208\\\",\\\"209\\\",\\\"210\\\",\\\"211\\\",\\\"212\\\",\\\"213\\\",\\\"214\\\",\\\"215\\\",\\\"216\\\",\\\"217\\\",\\\"218\\\",\\\"219\\\",\\\"220\\\",\\\"221\\\",\\\"222\\\",\\\"223\\\",\\\"224\\\",\\\"225\\\",\\\"226\\\",\\\"227\\\",\\\"228\\\",\\\"229\\\",\\\"230\\\",\\\"231\\\",\\\"232\\\",\\\"233\\\",\\\"234\\\",\\\"235\\\",\\\"236\\\",\\\"237\\\",\\\"238\\\",\\\"239\\\",\\\"240\\\",\\\"241\\\",\\\"242\\\",\\\"243\\\",\\\"244\\\",\\\"245\\\",\\\"246\\\",\\\"247\\\",\\\"248\\\",\\\"249\\\",\\\"250\\\",\\\"251\\\",\\\"252\\\",\\\"253\\\",\\\"254\\\",\\\"255\\\",\\\"256\\\",\\\"257\\\",\\\"258\\\",\\\"259\\\",\\\"260\\\",\\\"261\\\",\\\"262\\\",\\\"263\\\",\\\"264\\\",\\\"265\\\",\\\"266\\\"],\\\"changes\\\":WebIO.getval({\\\"name\\\":\\\"changes\\\",\\\"scope\\\":\\\"14537210004871339045\\\",\\\"id\\\":\\\"12031094486247191599\\\",\\\"type\\\":\\\"observable\\\"}),\\\"index\\\":WebIO.getval({\\\"name\\\":\\\"index\\\",\\\"scope\\\":\\\"14537210004871339045\\\",\\\"id\\\":\\\"1465051161628799677\\\",\\\"type\\\":\\\"observable\\\"})};\\n    var self = this;\\n    function AppViewModel() {\\n        for (var key in json_data) {\\n            var el = json_data[key];\\n            this[key] = Array.isArray(el) ? ko.observableArray(el) : ko.observable(el);\\n        }\\n        \\n        [this[\\\"formatted_val\\\"]=ko.computed(    function(){\\n        return this.formatted_vals()[parseInt(this.index())-(1)];\\n    }\\n,this)]\\n        [this[\\\"changes\\\"].subscribe((function (val){!(this.valueFromJulia[\\\"changes\\\"]) ? (WebIO.setval({\\\"name\\\":\\\"changes\\\",\\\"scope\\\":\\\"14537210004871339045\\\",\\\"id\\\":\\\"12031094486247191599\\\",\\\"type\\\":\\\"observable\\\"},val)) : undefined; return this.valueFromJulia[\\\"changes\\\"]=false}),self),this[\\\"index\\\"].subscribe((function (val){!(this.valueFromJulia[\\\"index\\\"]) ? (WebIO.setval({\\\"name\\\":\\\"index\\\",\\\"scope\\\":\\\"14537210004871339045\\\",\\\"id\\\":\\\"1465051161628799677\\\",\\\"type\\\":\\\"observable\\\"},val)) : undefined; return this.valueFromJulia[\\\"index\\\"]=false}),self)]\\n        \\n    }\\n    self.model = new AppViewModel();\\n    self.valueFromJulia = {};\\n    for (var key in json_data) {\\n        self.valueFromJulia[key] = false;\\n    }\\n    ko.applyBindings(self.model, self.dom);\\n}\\n);\\n    (WebIO.importBlock({\\\"data\\\":[{\\\"name\\\":\\\"knockout\\\",\\\"type\\\":\\\"js\\\",\\\"url\\\":\\\"\\/assetserver\\/0f7dc91fc8596176c20edab2c146f643e18cfcdc-knockout.js\\\"},{\\\"name\\\":\\\"knockout_punches\\\",\\\"type\\\":\\\"js\\\",\\\"url\\\":\\\"\\/assetserver\\/8b17f7ded5914701597f16e37bf062d2d0b7e5d4-knockout_punches.js\\\"}],\\\"type\\\":\\\"async_block\\\"})).then((imports) => handler.apply(this, imports));\\n}\\n\"],\"observables\":{\"changes\":{\"sync\":false,\"id\":\"12031094486247191599\",\"value\":0},\"index\":{\"sync\":true,\"id\":\"1465051161628799677\",\"value\":133}}},\"children\":[{\"props\":{\"className\":\"interact-flex-row interact-widget\"},\"nodeType\":\"DOM\",\"type\":\"node\",\"instanceArgs\":{\"namespace\":\"html\",\"tag\":\"div\"},\"children\":[{\"props\":{\"className\":\"interact-flex-row-left\"},\"nodeType\":\"DOM\",\"type\":\"node\",\"instanceArgs\":{\"namespace\":\"html\",\"tag\":\"div\"},\"children\":[{\"props\":{\"className\":\"interact \",\"style\":{\"padding\":\"5px 10px 0px 10px\"}},\"nodeType\":\"DOM\",\"type\":\"node\",\"instanceArgs\":{\"namespace\":\"html\",\"tag\":\"label\"},\"children\":[\"i\"]}]},{\"props\":{\"className\":\"interact-flex-row-center\"},\"nodeType\":\"DOM\",\"type\":\"node\",\"instanceArgs\":{\"namespace\":\"html\",\"tag\":\"div\"},\"children\":[{\"props\":{\"max\":266,\"min\":1,\"attributes\":{\"type\":\"range\",\"data-bind\":\"numericValue: index, valueUpdate: 'input', event: {change: function (){this.changes(this.changes()+1)}}\",\"orient\":\"horizontal\"},\"step\":1,\"className\":\"slider slider is-fullwidth\",\"style\":{}},\"nodeType\":\"DOM\",\"type\":\"node\",\"instanceArgs\":{\"namespace\":\"html\",\"tag\":\"input\"},\"children\":[]}]},{\"props\":{\"className\":\"interact-flex-row-right\"},\"nodeType\":\"DOM\",\"type\":\"node\",\"instanceArgs\":{\"namespace\":\"html\",\"tag\":\"div\"},\"children\":[{\"props\":{\"attributes\":{\"data-bind\":\"text: formatted_val\"}},\"nodeType\":\"DOM\",\"type\":\"node\",\"instanceArgs\":{\"namespace\":\"html\",\"tag\":\"p\"},\"children\":[]}]}]}]}]},{\"props\":{},\"nodeType\":\"Scope\",\"type\":\"node\",\"instanceArgs\":{\"imports\":{\"data\":[],\"type\":\"async_block\"},\"id\":\"14404191468165563726\",\"handlers\":{},\"systemjs_options\":null,\"mount_callbacks\":[],\"observables\":{\"obs-node\":{\"sync\":false,\"id\":\"15845313548946131225\",\"value\":{\"props\":{\"className\":\"interact-flex-row interact-widget\"},\"nodeType\":\"DOM\",\"type\":\"node\",\"instanceArgs\":{\"namespace\":\"html\",\"tag\":\"div\"},\"children\":[\"Indonesia\"]}}}},\"children\":[{\"props\":{},\"nodeType\":\"ObservableNode\",\"type\":\"node\",\"instanceArgs\":{\"id\":\"15845313548946131225\",\"name\":\"obs-node\"},\"children\":[]}]}]},\n",
       "            window,\n",
       "        );\n",
       "    } else {\n",
       "        document\n",
       "            .querySelector('[data-webio-mountpoint=\"10784461496853483419\"]')\n",
       "            .innerHTML = (\n",
       "                '<div style=\"padding: 1em; background-color: #f8d6da; border: 1px solid #f5c6cb\">' +\n",
       "                '<p><strong>WebIO not detected.</strong></p>' +\n",
       "                '<p>Please read ' +\n",
       "                '<a href=\"https://juliagizmos.github.io/WebIO.jl/latest/troubleshooting/not-detected/\" target=\"_blank\">the troubleshooting guide</a> ' +\n",
       "                'for more information on how to resolve this issue.</p>' +\n",
       "                '<p><a href=\"https://juliagizmos.github.io/WebIO.jl/latest/troubleshooting/not-detected/\" target=\"_blank\">https://juliagizmos.github.io/WebIO.jl/latest/troubleshooting/not-detected/</a></p>' +\n",
       "                '</div>'\n",
       "            );\n",
       "    }\n",
       "    </script>\n",
       "</div>\n"
      ],
      "text/plain": [
       "Node{WebIO.DOM}(WebIO.DOM(:html, :div), Any[Node{WebIO.DOM}(WebIO.DOM(:html, :div), Any[Scope(Node{WebIO.DOM}(WebIO.DOM(:html, :div), Any[Node{WebIO.DOM}(WebIO.DOM(:html, :div), Any[Node{WebIO.DOM}(WebIO.DOM(:html, :label), Any[\"i\"], Dict{Symbol,Any}(:className => \"interact \",:style => Dict{Any,Any}(:padding => \"5px 10px 0px 10px\")))], Dict{Symbol,Any}(:className => \"interact-flex-row-left\")), Node{WebIO.DOM}(WebIO.DOM(:html, :div), Any[Node{WebIO.DOM}(WebIO.DOM(:html, :input), Any[], Dict{Symbol,Any}(:max => 266,:min => 1,:attributes => Dict{Any,Any}(:type => \"range\",Symbol(\"data-bind\") => \"numericValue: index, valueUpdate: 'input', event: {change: function (){this.changes(this.changes()+1)}}\",\"orient\" => \"horizontal\"),:step => 1,:className => \"slider slider is-fullwidth\",:style => Dict{Any,Any}()))], Dict{Symbol,Any}(:className => \"interact-flex-row-center\")), Node{WebIO.DOM}(WebIO.DOM(:html, :div), Any[Node{WebIO.DOM}(WebIO.DOM(:html, :p), Any[], Dict{Symbol,Any}(:attributes => Dict(\"data-bind\" => \"text: formatted_val\")))], Dict{Symbol,Any}(:className => \"interact-flex-row-right\"))], Dict{Symbol,Any}(:className => \"interact-flex-row interact-widget\")), Dict{String,Tuple{Observables.AbstractObservable,Union{Nothing, Bool}}}(\"changes\" => (Observable{Int64} with 1 listeners. Value:\n",
       "0, nothing),\"index\" => (Observable{Int64} with 2 listeners. Value:\n",
       "133, nothing)), Set(String[]), nothing, Asset[Asset(\"js\", \"knockout\", \"/Users/pinas/.julia/packages/Knockout/IP1uR/src/../assets/knockout.js\"), Asset(\"js\", \"knockout_punches\", \"/Users/pinas/.julia/packages/Knockout/IP1uR/src/../assets/knockout_punches.js\"), Asset(\"js\", nothing, \"/Users/pinas/.julia/packages/InteractBase/sOe2Z/src/../assets/all.js\"), Asset(\"css\", nothing, \"/Users/pinas/.julia/packages/InteractBase/sOe2Z/src/../assets/style.css\"), Asset(\"css\", nothing, \"/Users/pinas/.julia/packages/Interact/SbgIk/src/../assets/bulma_confined.min.css\")], Dict{Any,Any}(\"changes\" => Any[WebIO.JSString(\"(function (val){return (val!=this.model[\\\"changes\\\"]()) ? (this.valueFromJulia[\\\"changes\\\"]=true, this.model[\\\"changes\\\"](val)) : undefined})\")],\"index\" => Any[WebIO.JSString(\"(function (val){return (val!=this.model[\\\"index\\\"]()) ? (this.valueFromJulia[\\\"index\\\"]=true, this.model[\\\"index\\\"](val)) : undefined})\")]), WebIO.ConnectionPool(Channel{Any}(sz_max:32,sz_curr:0), Set(AbstractConnection[]), Base.GenericCondition{Base.AlwaysLockedST}(Base.InvasiveLinkedList{Task}(Task (runnable) @0x000000010cab5450, Task (runnable) @0x000000010cab5450), Base.AlwaysLockedST(1))), WebIO.JSString[WebIO.JSString(\"function () {\\n    var handler = (function (ko, koPunches) {\\n    ko.punches.enableAll();\\n    ko.bindingHandlers.numericValue = {\\n        init: function(element, valueAccessor, allBindings, data, context) {\\n            var stringified = ko.observable(ko.unwrap(valueAccessor()));\\n            stringified.subscribe(function(value) {\\n                var val = parseFloat(value);\\n                if (!isNaN(val)) {\\n                    valueAccessor()(val);\\n                }\\n            });\\n            valueAccessor().subscribe(function(value) {\\n                var str = JSON.stringify(value);\\n                if ((str == \\\"0\\\") && ([\\\"-0\\\", \\\"-0.\\\"].indexOf(stringified()) >= 0))\\n                     return;\\n                 if ([\\\"null\\\", \\\"\\\"].indexOf(str) >= 0)\\n                     return;\\n                stringified(str);\\n            });\\n            ko.applyBindingsToNode(\\n                element,\\n                {\\n                    value: stringified,\\n                    valueUpdate: allBindings.get('valueUpdate'),\\n                },\\n                context,\\n            );\\n        }\\n    };\\n    var json_data = {\\\"formatted_vals\\\":[\\\"1\\\",\\\"2\\\",\\\"3\\\",\\\"4\\\",\\\"5\\\",\\\"6\\\",\\\"7\\\",\\\"8\\\",\\\"9\\\",\\\"10\\\",\\\"11\\\",\\\"12\\\",\\\"13\\\",\\\"14\\\",\\\"15\\\",\\\"16\\\",\\\"17\\\",\\\"18\\\",\\\"19\\\",\\\"20\\\",\\\"21\\\",\\\"22\\\",\\\"23\\\",\\\"24\\\",\\\"25\\\",\\\"26\\\",\\\"27\\\",\\\"28\\\",\\\"29\\\",\\\"30\\\",\\\"31\\\",\\\"32\\\",\\\"33\\\",\\\"34\\\",\\\"35\\\",\\\"36\\\",\\\"37\\\",\\\"38\\\",\\\"39\\\",\\\"40\\\",\\\"41\\\",\\\"42\\\",\\\"43\\\",\\\"44\\\",\\\"45\\\",\\\"46\\\",\\\"47\\\",\\\"48\\\",\\\"49\\\",\\\"50\\\",\\\"51\\\",\\\"52\\\",\\\"53\\\",\\\"54\\\",\\\"55\\\",\\\"56\\\",\\\"57\\\",\\\"58\\\",\\\"59\\\",\\\"60\\\",\\\"61\\\",\\\"62\\\",\\\"63\\\",\\\"64\\\",\\\"65\\\",\\\"66\\\",\\\"67\\\",\\\"68\\\",\\\"69\\\",\\\"70\\\",\\\"71\\\",\\\"72\\\",\\\"73\\\",\\\"74\\\",\\\"75\\\",\\\"76\\\",\\\"77\\\",\\\"78\\\",\\\"79\\\",\\\"80\\\",\\\"81\\\",\\\"82\\\",\\\"83\\\",\\\"84\\\",\\\"85\\\",\\\"86\\\",\\\"87\\\",\\\"88\\\",\\\"89\\\",\\\"90\\\",\\\"91\\\",\\\"92\\\",\\\"93\\\",\\\"94\\\",\\\"95\\\",\\\"96\\\",\\\"97\\\",\\\"98\\\",\\\"99\\\",\\\"100\\\",\\\"101\\\",\\\"102\\\",\\\"103\\\",\\\"104\\\",\\\"105\\\",\\\"106\\\",\\\"107\\\",\\\"108\\\",\\\"109\\\",\\\"110\\\",\\\"111\\\",\\\"112\\\",\\\"113\\\",\\\"114\\\",\\\"115\\\",\\\"116\\\",\\\"117\\\",\\\"118\\\",\\\"119\\\",\\\"120\\\",\\\"121\\\",\\\"122\\\",\\\"123\\\",\\\"124\\\",\\\"125\\\",\\\"126\\\",\\\"127\\\",\\\"128\\\",\\\"129\\\",\\\"130\\\",\\\"131\\\",\\\"132\\\",\\\"133\\\",\\\"134\\\",\\\"135\\\",\\\"136\\\",\\\"137\\\",\\\"138\\\",\\\"139\\\",\\\"140\\\",\\\"141\\\",\\\"142\\\",\\\"143\\\",\\\"144\\\",\\\"145\\\",\\\"146\\\",\\\"147\\\",\\\"148\\\",\\\"149\\\",\\\"150\\\",\\\"151\\\",\\\"152\\\",\\\"153\\\",\\\"154\\\",\\\"155\\\",\\\"156\\\",\\\"157\\\",\\\"158\\\",\\\"159\\\",\\\"160\\\",\\\"161\\\",\\\"162\\\",\\\"163\\\",\\\"164\\\",\\\"165\\\",\\\"166\\\",\\\"167\\\",\\\"168\\\",\\\"169\\\",\\\"170\\\",\\\"171\\\",\\\"172\\\",\\\"173\\\",\\\"174\\\",\\\"175\\\",\\\"176\\\",\\\"177\\\",\\\"178\\\",\\\"179\\\",\\\"180\\\",\\\"181\\\",\\\"182\\\",\\\"183\\\",\\\"184\\\",\\\"185\\\",\\\"186\\\",\\\"187\\\",\\\"188\\\",\\\"189\\\",\\\"190\\\",\\\"191\\\",\\\"192\\\",\\\"193\\\",\\\"194\\\",\\\"195\\\",\\\"196\\\",\\\"197\\\",\\\"198\\\",\\\"199\\\",\\\"200\\\",\\\"201\\\",\\\"202\\\",\\\"203\\\",\\\"204\\\",\\\"205\\\",\\\"206\\\",\\\"207\\\",\\\"208\\\",\\\"209\\\",\\\"210\\\",\\\"211\\\",\\\"212\\\",\\\"213\\\",\\\"214\\\",\\\"215\\\",\\\"216\\\",\\\"217\\\",\\\"218\\\",\\\"219\\\",\\\"220\\\",\\\"221\\\",\\\"222\\\",\\\"223\\\",\\\"224\\\",\\\"225\\\",\\\"226\\\",\\\"227\\\",\\\"228\\\",\\\"229\\\",\\\"230\\\",\\\"231\\\",\\\"232\\\",\\\"233\\\",\\\"234\\\",\\\"235\\\",\\\"236\\\",\\\"237\\\",\\\"238\\\",\\\"239\\\",\\\"240\\\",\\\"241\\\",\\\"242\\\",\\\"243\\\",\\\"244\\\",\\\"245\\\",\\\"246\\\",\\\"247\\\",\\\"248\\\",\\\"249\\\",\\\"250\\\",\\\"251\\\",\\\"252\\\",\\\"253\\\",\\\"254\\\",\\\"255\\\",\\\"256\\\",\\\"257\\\",\\\"258\\\",\\\"259\\\",\\\"260\\\",\\\"261\\\",\\\"262\\\",\\\"263\\\",\\\"264\\\",\\\"265\\\",\\\"266\\\"],\\\"changes\\\":WebIO.getval({\\\"name\\\":\\\"changes\\\",\\\"scope\\\":\\\"14537210004871339045\\\",\\\"id\\\":\\\"12031094486247191599\\\",\\\"type\\\":\\\"observable\\\"}),\\\"index\\\":WebIO.getval({\\\"name\\\":\\\"index\\\",\\\"scope\\\":\\\"14537210004871339045\\\",\\\"id\\\":\\\"1465051161628799677\\\",\\\"type\\\":\\\"observable\\\"})};\\n    var self = this;\\n    function AppViewModel() {\\n        for (var key in json_data) {\\n            var el = json_data[key];\\n            this[key] = Array.isArray(el) ? ko.observableArray(el) : ko.observable(el);\\n        }\\n        \\n        [this[\\\"formatted_val\\\"]=ko.computed(    function(){\\n        return this.formatted_vals()[parseInt(this.index())-(1)];\\n    }\\n,this)]\\n        [this[\\\"changes\\\"].subscribe((function (val){!(this.valueFromJulia[\\\"changes\\\"]) ? (WebIO.setval({\\\"name\\\":\\\"changes\\\",\\\"scope\\\":\\\"14537210004871339045\\\",\\\"id\\\":\\\"12031094486247191599\\\",\\\"type\\\":\\\"observable\\\"},val)) : undefined; return this.valueFromJulia[\\\"changes\\\"]=false}),self),this[\\\"index\\\"].subscribe((function (val){!(this.valueFromJulia[\\\"index\\\"]) ? (WebIO.setval({\\\"name\\\":\\\"index\\\",\\\"scope\\\":\\\"14537210004871339045\\\",\\\"id\\\":\\\"1465051161628799677\\\",\\\"type\\\":\\\"observable\\\"},val)) : undefined; return this.valueFromJulia[\\\"index\\\"]=false}),self)]\\n        \\n    }\\n    self.model = new AppViewModel();\\n    self.valueFromJulia = {};\\n    for (var key in json_data) {\\n        self.valueFromJulia[key] = false;\\n    }\\n    ko.applyBindings(self.model, self.dom);\\n}\\n);\\n    (WebIO.importBlock({\\\"data\\\":[{\\\"name\\\":\\\"knockout\\\",\\\"type\\\":\\\"js\\\",\\\"url\\\":\\\"/assetserver/0f7dc91fc8596176c20edab2c146f643e18cfcdc-knockout.js\\\"},{\\\"name\\\":\\\"knockout_punches\\\",\\\"type\\\":\\\"js\\\",\\\"url\\\":\\\"/assetserver/8b17f7ded5914701597f16e37bf062d2d0b7e5d4-knockout_punches.js\\\"}],\\\"type\\\":\\\"async_block\\\"})).then((imports) => handler.apply(this, imports));\\n}\\n\")])], Dict{Symbol,Any}(:className => \"field interact-widget\")), Observable{Any} with 0 listeners. Value:\n",
       "Node{WebIO.DOM}(WebIO.DOM(:html, :div), Any[\"Indonesia\"], Dict{Symbol,Any}(:className => \"interact-flex-row interact-widget\"))], Dict{Symbol,Any}())"
      ]
     },
     "execution_count": 15,
     "metadata": {
      "application/vnd.webio.node+json": {
       "kernelId": "655a49e5-ce00-4b9e-9d47-1268d83d8ac7"
      }
     },
     "output_type": "execute_result"
    }
   ],
   "source": [
    "@manipulate for i in 1:length(countries) # in the column of countries, start from row 1 and the whole length\n",
    "    countries[i] # starting from row 1; display country names with their corresponding number\n",
    "end"
   ]
  },
  {
   "cell_type": "markdown",
   "metadata": {},
   "source": [
    "Extract data and plot"
   ]
  },
  {
   "cell_type": "code",
   "execution_count": 16,
   "metadata": {},
   "outputs": [
    {
     "data": {
      "application/vnd.webio.node+json": {
       "children": [
        {
         "children": [
          {
           "children": [
            {
             "children": [
              {
               "children": [
                {
                 "children": [
                  "i"
                 ],
                 "instanceArgs": {
                  "namespace": "html",
                  "tag": "label"
                 },
                 "nodeType": "DOM",
                 "props": {
                  "className": "interact ",
                  "style": {
                   "padding": "5px 10px 0px 10px"
                  }
                 },
                 "type": "node"
                }
               ],
               "instanceArgs": {
                "namespace": "html",
                "tag": "div"
               },
               "nodeType": "DOM",
               "props": {
                "className": "interact-flex-row-left"
               },
               "type": "node"
              },
              {
               "children": [
                {
                 "children": [],
                 "instanceArgs": {
                  "namespace": "html",
                  "tag": "input"
                 },
                 "nodeType": "DOM",
                 "props": {
                  "attributes": {
                   "data-bind": "numericValue: index, valueUpdate: 'input', event: {change: function (){this.changes(this.changes()+1)}}",
                   "orient": "horizontal",
                   "type": "range"
                  },
                  "className": "slider slider is-fullwidth",
                  "max": 266,
                  "min": 1,
                  "step": 1,
                  "style": {}
                 },
                 "type": "node"
                }
               ],
               "instanceArgs": {
                "namespace": "html",
                "tag": "div"
               },
               "nodeType": "DOM",
               "props": {
                "className": "interact-flex-row-center"
               },
               "type": "node"
              },
              {
               "children": [
                {
                 "children": [],
                 "instanceArgs": {
                  "namespace": "html",
                  "tag": "p"
                 },
                 "nodeType": "DOM",
                 "props": {
                  "attributes": {
                   "data-bind": "text: formatted_val"
                  }
                 },
                 "type": "node"
                }
               ],
               "instanceArgs": {
                "namespace": "html",
                "tag": "div"
               },
               "nodeType": "DOM",
               "props": {
                "className": "interact-flex-row-right"
               },
               "type": "node"
              }
             ],
             "instanceArgs": {
              "namespace": "html",
              "tag": "div"
             },
             "nodeType": "DOM",
             "props": {
              "className": "interact-flex-row interact-widget"
             },
             "type": "node"
            }
           ],
           "instanceArgs": {
            "handlers": {
             "changes": [
              "(function (val){return (val!=this.model[\"changes\"]()) ? (this.valueFromJulia[\"changes\"]=true, this.model[\"changes\"](val)) : undefined})"
             ],
             "index": [
              "(function (val){return (val!=this.model[\"index\"]()) ? (this.valueFromJulia[\"index\"]=true, this.model[\"index\"](val)) : undefined})"
             ]
            },
            "id": "6776173006096211951",
            "imports": {
             "data": [
              {
               "name": "knockout",
               "type": "js",
               "url": "/assetserver/0f7dc91fc8596176c20edab2c146f643e18cfcdc-knockout.js"
              },
              {
               "name": "knockout_punches",
               "type": "js",
               "url": "/assetserver/8b17f7ded5914701597f16e37bf062d2d0b7e5d4-knockout_punches.js"
              },
              {
               "name": null,
               "type": "js",
               "url": "/assetserver/3eb5394c830347574f9413a8950b99793509cdb5-all.js"
              },
              {
               "name": null,
               "type": "css",
               "url": "/assetserver/c5073d62b91d019cd326a1073112f715fe0e3502-style.css"
              },
              {
               "name": null,
               "type": "css",
               "url": "/assetserver/44da6c918b69f064a105db1af391674e3a320ff8-bulma_confined.min.css"
              }
             ],
             "type": "async_block"
            },
            "mount_callbacks": [
             "function () {\n    var handler = (function (ko, koPunches) {\n    ko.punches.enableAll();\n    ko.bindingHandlers.numericValue = {\n        init: function(element, valueAccessor, allBindings, data, context) {\n            var stringified = ko.observable(ko.unwrap(valueAccessor()));\n            stringified.subscribe(function(value) {\n                var val = parseFloat(value);\n                if (!isNaN(val)) {\n                    valueAccessor()(val);\n                }\n            });\n            valueAccessor().subscribe(function(value) {\n                var str = JSON.stringify(value);\n                if ((str == \"0\") && ([\"-0\", \"-0.\"].indexOf(stringified()) >= 0))\n                     return;\n                 if ([\"null\", \"\"].indexOf(str) >= 0)\n                     return;\n                stringified(str);\n            });\n            ko.applyBindingsToNode(\n                element,\n                {\n                    value: stringified,\n                    valueUpdate: allBindings.get('valueUpdate'),\n                },\n                context,\n            );\n        }\n    };\n    var json_data = {\"formatted_vals\":[\"1\",\"2\",\"3\",\"4\",\"5\",\"6\",\"7\",\"8\",\"9\",\"10\",\"11\",\"12\",\"13\",\"14\",\"15\",\"16\",\"17\",\"18\",\"19\",\"20\",\"21\",\"22\",\"23\",\"24\",\"25\",\"26\",\"27\",\"28\",\"29\",\"30\",\"31\",\"32\",\"33\",\"34\",\"35\",\"36\",\"37\",\"38\",\"39\",\"40\",\"41\",\"42\",\"43\",\"44\",\"45\",\"46\",\"47\",\"48\",\"49\",\"50\",\"51\",\"52\",\"53\",\"54\",\"55\",\"56\",\"57\",\"58\",\"59\",\"60\",\"61\",\"62\",\"63\",\"64\",\"65\",\"66\",\"67\",\"68\",\"69\",\"70\",\"71\",\"72\",\"73\",\"74\",\"75\",\"76\",\"77\",\"78\",\"79\",\"80\",\"81\",\"82\",\"83\",\"84\",\"85\",\"86\",\"87\",\"88\",\"89\",\"90\",\"91\",\"92\",\"93\",\"94\",\"95\",\"96\",\"97\",\"98\",\"99\",\"100\",\"101\",\"102\",\"103\",\"104\",\"105\",\"106\",\"107\",\"108\",\"109\",\"110\",\"111\",\"112\",\"113\",\"114\",\"115\",\"116\",\"117\",\"118\",\"119\",\"120\",\"121\",\"122\",\"123\",\"124\",\"125\",\"126\",\"127\",\"128\",\"129\",\"130\",\"131\",\"132\",\"133\",\"134\",\"135\",\"136\",\"137\",\"138\",\"139\",\"140\",\"141\",\"142\",\"143\",\"144\",\"145\",\"146\",\"147\",\"148\",\"149\",\"150\",\"151\",\"152\",\"153\",\"154\",\"155\",\"156\",\"157\",\"158\",\"159\",\"160\",\"161\",\"162\",\"163\",\"164\",\"165\",\"166\",\"167\",\"168\",\"169\",\"170\",\"171\",\"172\",\"173\",\"174\",\"175\",\"176\",\"177\",\"178\",\"179\",\"180\",\"181\",\"182\",\"183\",\"184\",\"185\",\"186\",\"187\",\"188\",\"189\",\"190\",\"191\",\"192\",\"193\",\"194\",\"195\",\"196\",\"197\",\"198\",\"199\",\"200\",\"201\",\"202\",\"203\",\"204\",\"205\",\"206\",\"207\",\"208\",\"209\",\"210\",\"211\",\"212\",\"213\",\"214\",\"215\",\"216\",\"217\",\"218\",\"219\",\"220\",\"221\",\"222\",\"223\",\"224\",\"225\",\"226\",\"227\",\"228\",\"229\",\"230\",\"231\",\"232\",\"233\",\"234\",\"235\",\"236\",\"237\",\"238\",\"239\",\"240\",\"241\",\"242\",\"243\",\"244\",\"245\",\"246\",\"247\",\"248\",\"249\",\"250\",\"251\",\"252\",\"253\",\"254\",\"255\",\"256\",\"257\",\"258\",\"259\",\"260\",\"261\",\"262\",\"263\",\"264\",\"265\",\"266\"],\"changes\":WebIO.getval({\"name\":\"changes\",\"scope\":\"6776173006096211951\",\"id\":\"2813965491407226932\",\"type\":\"observable\"}),\"index\":WebIO.getval({\"name\":\"index\",\"scope\":\"6776173006096211951\",\"id\":\"857996349780462004\",\"type\":\"observable\"})};\n    var self = this;\n    function AppViewModel() {\n        for (var key in json_data) {\n            var el = json_data[key];\n            this[key] = Array.isArray(el) ? ko.observableArray(el) : ko.observable(el);\n        }\n        \n        [this[\"formatted_val\"]=ko.computed(    function(){\n        return this.formatted_vals()[parseInt(this.index())-(1)];\n    }\n,this)]\n        [this[\"changes\"].subscribe((function (val){!(this.valueFromJulia[\"changes\"]) ? (WebIO.setval({\"name\":\"changes\",\"scope\":\"6776173006096211951\",\"id\":\"2813965491407226932\",\"type\":\"observable\"},val)) : undefined; return this.valueFromJulia[\"changes\"]=false}),self),this[\"index\"].subscribe((function (val){!(this.valueFromJulia[\"index\"]) ? (WebIO.setval({\"name\":\"index\",\"scope\":\"6776173006096211951\",\"id\":\"857996349780462004\",\"type\":\"observable\"},val)) : undefined; return this.valueFromJulia[\"index\"]=false}),self)]\n        \n    }\n    self.model = new AppViewModel();\n    self.valueFromJulia = {};\n    for (var key in json_data) {\n        self.valueFromJulia[key] = false;\n    }\n    ko.applyBindings(self.model, self.dom);\n}\n);\n    (WebIO.importBlock({\"data\":[{\"name\":\"knockout\",\"type\":\"js\",\"url\":\"/assetserver/0f7dc91fc8596176c20edab2c146f643e18cfcdc-knockout.js\"},{\"name\":\"knockout_punches\",\"type\":\"js\",\"url\":\"/assetserver/8b17f7ded5914701597f16e37bf062d2d0b7e5d4-knockout_punches.js\"}],\"type\":\"async_block\"})).then((imports) => handler.apply(this, imports));\n}\n"
            ],
            "observables": {
             "changes": {
              "id": "2813965491407226932",
              "sync": false,
              "value": 0
             },
             "index": {
              "id": "857996349780462004",
              "sync": true,
              "value": 133
             }
            },
            "systemjs_options": null
           },
           "nodeType": "Scope",
           "props": {},
           "type": "node"
          }
         ],
         "instanceArgs": {
          "namespace": "html",
          "tag": "div"
         },
         "nodeType": "DOM",
         "props": {
          "className": "field interact-widget"
         },
         "type": "node"
        },
        {
         "children": [
          {
           "children": [],
           "instanceArgs": {
            "id": "7117801074046932846",
            "name": "obs-node"
           },
           "nodeType": "ObservableNode",
           "props": {},
           "type": "node"
          }
         ],
         "instanceArgs": {
          "handlers": {},
          "id": "17903669427876216421",
          "imports": {
           "data": [],
           "type": "async_block"
          },
          "mount_callbacks": [],
          "observables": {
           "obs-node": {
            "id": "7117801074046932846",
            "sync": false,
            "value": {
             "children": [
              {
               "children": [],
               "instanceArgs": {
                "namespace": "html",
                "tag": "div"
               },
               "nodeType": "DOM",
               "props": {
                "setInnerHtml": "<p>DataFrameRow (10 columns)</p><table class=\"data-frame\"><thead><tr><th></th><th>province</th><th>country</th><th>Lat</th><th>Long</th><th>1/22/20</th><th>1/23/20</th><th>1/24/20</th><th>1/25/20</th><th>1/26/20</th><th>1/27/20</th></tr><tr><th></th><th>String?</th><th>String</th><th>Float64</th><th>Float64</th><th>Int64</th><th>Int64</th><th>Int64</th><th>Int64</th><th>Int64</th><th>Int64</th></tr></thead><tbody><tr><th>133</th><td><em>missing</em></td><td>Indonesia</td><td>-0.7893</td><td>113.921</td><td>0</td><td>0</td><td>0</td><td>0</td><td>0</td><td>0</td></tr></tbody></table>"
               },
               "type": "node"
              }
             ],
             "instanceArgs": {
              "namespace": "html",
              "tag": "div"
             },
             "nodeType": "DOM",
             "props": {
              "className": "interact-flex-row interact-widget"
             },
             "type": "node"
            }
           }
          },
          "systemjs_options": null
         },
         "nodeType": "Scope",
         "props": {},
         "type": "node"
        }
       ],
       "instanceArgs": {
        "namespace": "html",
        "tag": "div"
       },
       "nodeType": "DOM",
       "props": {},
       "type": "node"
      },
      "text/html": [
       "<div\n",
       "    class=\"webio-mountpoint\"\n",
       "    data-webio-mountpoint=\"4178940633077710412\"\n",
       ">\n",
       "    <script>\n",
       "    if (window.require && require.defined && require.defined(\"nbextensions/webio-jupyter-notebook\")) {\n",
       "        console.log(\"Jupyter WebIO extension detected, not mounting.\");\n",
       "    } else if (window.WebIO) {\n",
       "        WebIO.mount(\n",
       "            document.querySelector('[data-webio-mountpoint=\"4178940633077710412\"]'),\n",
       "            {\"props\":{},\"nodeType\":\"DOM\",\"type\":\"node\",\"instanceArgs\":{\"namespace\":\"html\",\"tag\":\"div\"},\"children\":[{\"props\":{\"className\":\"field interact-widget\"},\"nodeType\":\"DOM\",\"type\":\"node\",\"instanceArgs\":{\"namespace\":\"html\",\"tag\":\"div\"},\"children\":[{\"props\":{},\"nodeType\":\"Scope\",\"type\":\"node\",\"instanceArgs\":{\"imports\":{\"data\":[{\"name\":\"knockout\",\"type\":\"js\",\"url\":\"\\/assetserver\\/0f7dc91fc8596176c20edab2c146f643e18cfcdc-knockout.js\"},{\"name\":\"knockout_punches\",\"type\":\"js\",\"url\":\"\\/assetserver\\/8b17f7ded5914701597f16e37bf062d2d0b7e5d4-knockout_punches.js\"},{\"name\":null,\"type\":\"js\",\"url\":\"\\/assetserver\\/3eb5394c830347574f9413a8950b99793509cdb5-all.js\"},{\"name\":null,\"type\":\"css\",\"url\":\"\\/assetserver\\/c5073d62b91d019cd326a1073112f715fe0e3502-style.css\"},{\"name\":null,\"type\":\"css\",\"url\":\"\\/assetserver\\/44da6c918b69f064a105db1af391674e3a320ff8-bulma_confined.min.css\"}],\"type\":\"async_block\"},\"id\":\"6776173006096211951\",\"handlers\":{\"changes\":[\"(function (val){return (val!=this.model[\\\"changes\\\"]()) ? (this.valueFromJulia[\\\"changes\\\"]=true, this.model[\\\"changes\\\"](val)) : undefined})\"],\"index\":[\"(function (val){return (val!=this.model[\\\"index\\\"]()) ? (this.valueFromJulia[\\\"index\\\"]=true, this.model[\\\"index\\\"](val)) : undefined})\"]},\"systemjs_options\":null,\"mount_callbacks\":[\"function () {\\n    var handler = (function (ko, koPunches) {\\n    ko.punches.enableAll();\\n    ko.bindingHandlers.numericValue = {\\n        init: function(element, valueAccessor, allBindings, data, context) {\\n            var stringified = ko.observable(ko.unwrap(valueAccessor()));\\n            stringified.subscribe(function(value) {\\n                var val = parseFloat(value);\\n                if (!isNaN(val)) {\\n                    valueAccessor()(val);\\n                }\\n            });\\n            valueAccessor().subscribe(function(value) {\\n                var str = JSON.stringify(value);\\n                if ((str == \\\"0\\\") && ([\\\"-0\\\", \\\"-0.\\\"].indexOf(stringified()) >= 0))\\n                     return;\\n                 if ([\\\"null\\\", \\\"\\\"].indexOf(str) >= 0)\\n                     return;\\n                stringified(str);\\n            });\\n            ko.applyBindingsToNode(\\n                element,\\n                {\\n                    value: stringified,\\n                    valueUpdate: allBindings.get('valueUpdate'),\\n                },\\n                context,\\n            );\\n        }\\n    };\\n    var json_data = {\\\"formatted_vals\\\":[\\\"1\\\",\\\"2\\\",\\\"3\\\",\\\"4\\\",\\\"5\\\",\\\"6\\\",\\\"7\\\",\\\"8\\\",\\\"9\\\",\\\"10\\\",\\\"11\\\",\\\"12\\\",\\\"13\\\",\\\"14\\\",\\\"15\\\",\\\"16\\\",\\\"17\\\",\\\"18\\\",\\\"19\\\",\\\"20\\\",\\\"21\\\",\\\"22\\\",\\\"23\\\",\\\"24\\\",\\\"25\\\",\\\"26\\\",\\\"27\\\",\\\"28\\\",\\\"29\\\",\\\"30\\\",\\\"31\\\",\\\"32\\\",\\\"33\\\",\\\"34\\\",\\\"35\\\",\\\"36\\\",\\\"37\\\",\\\"38\\\",\\\"39\\\",\\\"40\\\",\\\"41\\\",\\\"42\\\",\\\"43\\\",\\\"44\\\",\\\"45\\\",\\\"46\\\",\\\"47\\\",\\\"48\\\",\\\"49\\\",\\\"50\\\",\\\"51\\\",\\\"52\\\",\\\"53\\\",\\\"54\\\",\\\"55\\\",\\\"56\\\",\\\"57\\\",\\\"58\\\",\\\"59\\\",\\\"60\\\",\\\"61\\\",\\\"62\\\",\\\"63\\\",\\\"64\\\",\\\"65\\\",\\\"66\\\",\\\"67\\\",\\\"68\\\",\\\"69\\\",\\\"70\\\",\\\"71\\\",\\\"72\\\",\\\"73\\\",\\\"74\\\",\\\"75\\\",\\\"76\\\",\\\"77\\\",\\\"78\\\",\\\"79\\\",\\\"80\\\",\\\"81\\\",\\\"82\\\",\\\"83\\\",\\\"84\\\",\\\"85\\\",\\\"86\\\",\\\"87\\\",\\\"88\\\",\\\"89\\\",\\\"90\\\",\\\"91\\\",\\\"92\\\",\\\"93\\\",\\\"94\\\",\\\"95\\\",\\\"96\\\",\\\"97\\\",\\\"98\\\",\\\"99\\\",\\\"100\\\",\\\"101\\\",\\\"102\\\",\\\"103\\\",\\\"104\\\",\\\"105\\\",\\\"106\\\",\\\"107\\\",\\\"108\\\",\\\"109\\\",\\\"110\\\",\\\"111\\\",\\\"112\\\",\\\"113\\\",\\\"114\\\",\\\"115\\\",\\\"116\\\",\\\"117\\\",\\\"118\\\",\\\"119\\\",\\\"120\\\",\\\"121\\\",\\\"122\\\",\\\"123\\\",\\\"124\\\",\\\"125\\\",\\\"126\\\",\\\"127\\\",\\\"128\\\",\\\"129\\\",\\\"130\\\",\\\"131\\\",\\\"132\\\",\\\"133\\\",\\\"134\\\",\\\"135\\\",\\\"136\\\",\\\"137\\\",\\\"138\\\",\\\"139\\\",\\\"140\\\",\\\"141\\\",\\\"142\\\",\\\"143\\\",\\\"144\\\",\\\"145\\\",\\\"146\\\",\\\"147\\\",\\\"148\\\",\\\"149\\\",\\\"150\\\",\\\"151\\\",\\\"152\\\",\\\"153\\\",\\\"154\\\",\\\"155\\\",\\\"156\\\",\\\"157\\\",\\\"158\\\",\\\"159\\\",\\\"160\\\",\\\"161\\\",\\\"162\\\",\\\"163\\\",\\\"164\\\",\\\"165\\\",\\\"166\\\",\\\"167\\\",\\\"168\\\",\\\"169\\\",\\\"170\\\",\\\"171\\\",\\\"172\\\",\\\"173\\\",\\\"174\\\",\\\"175\\\",\\\"176\\\",\\\"177\\\",\\\"178\\\",\\\"179\\\",\\\"180\\\",\\\"181\\\",\\\"182\\\",\\\"183\\\",\\\"184\\\",\\\"185\\\",\\\"186\\\",\\\"187\\\",\\\"188\\\",\\\"189\\\",\\\"190\\\",\\\"191\\\",\\\"192\\\",\\\"193\\\",\\\"194\\\",\\\"195\\\",\\\"196\\\",\\\"197\\\",\\\"198\\\",\\\"199\\\",\\\"200\\\",\\\"201\\\",\\\"202\\\",\\\"203\\\",\\\"204\\\",\\\"205\\\",\\\"206\\\",\\\"207\\\",\\\"208\\\",\\\"209\\\",\\\"210\\\",\\\"211\\\",\\\"212\\\",\\\"213\\\",\\\"214\\\",\\\"215\\\",\\\"216\\\",\\\"217\\\",\\\"218\\\",\\\"219\\\",\\\"220\\\",\\\"221\\\",\\\"222\\\",\\\"223\\\",\\\"224\\\",\\\"225\\\",\\\"226\\\",\\\"227\\\",\\\"228\\\",\\\"229\\\",\\\"230\\\",\\\"231\\\",\\\"232\\\",\\\"233\\\",\\\"234\\\",\\\"235\\\",\\\"236\\\",\\\"237\\\",\\\"238\\\",\\\"239\\\",\\\"240\\\",\\\"241\\\",\\\"242\\\",\\\"243\\\",\\\"244\\\",\\\"245\\\",\\\"246\\\",\\\"247\\\",\\\"248\\\",\\\"249\\\",\\\"250\\\",\\\"251\\\",\\\"252\\\",\\\"253\\\",\\\"254\\\",\\\"255\\\",\\\"256\\\",\\\"257\\\",\\\"258\\\",\\\"259\\\",\\\"260\\\",\\\"261\\\",\\\"262\\\",\\\"263\\\",\\\"264\\\",\\\"265\\\",\\\"266\\\"],\\\"changes\\\":WebIO.getval({\\\"name\\\":\\\"changes\\\",\\\"scope\\\":\\\"6776173006096211951\\\",\\\"id\\\":\\\"2813965491407226932\\\",\\\"type\\\":\\\"observable\\\"}),\\\"index\\\":WebIO.getval({\\\"name\\\":\\\"index\\\",\\\"scope\\\":\\\"6776173006096211951\\\",\\\"id\\\":\\\"857996349780462004\\\",\\\"type\\\":\\\"observable\\\"})};\\n    var self = this;\\n    function AppViewModel() {\\n        for (var key in json_data) {\\n            var el = json_data[key];\\n            this[key] = Array.isArray(el) ? ko.observableArray(el) : ko.observable(el);\\n        }\\n        \\n        [this[\\\"formatted_val\\\"]=ko.computed(    function(){\\n        return this.formatted_vals()[parseInt(this.index())-(1)];\\n    }\\n,this)]\\n        [this[\\\"changes\\\"].subscribe((function (val){!(this.valueFromJulia[\\\"changes\\\"]) ? (WebIO.setval({\\\"name\\\":\\\"changes\\\",\\\"scope\\\":\\\"6776173006096211951\\\",\\\"id\\\":\\\"2813965491407226932\\\",\\\"type\\\":\\\"observable\\\"},val)) : undefined; return this.valueFromJulia[\\\"changes\\\"]=false}),self),this[\\\"index\\\"].subscribe((function (val){!(this.valueFromJulia[\\\"index\\\"]) ? (WebIO.setval({\\\"name\\\":\\\"index\\\",\\\"scope\\\":\\\"6776173006096211951\\\",\\\"id\\\":\\\"857996349780462004\\\",\\\"type\\\":\\\"observable\\\"},val)) : undefined; return this.valueFromJulia[\\\"index\\\"]=false}),self)]\\n        \\n    }\\n    self.model = new AppViewModel();\\n    self.valueFromJulia = {};\\n    for (var key in json_data) {\\n        self.valueFromJulia[key] = false;\\n    }\\n    ko.applyBindings(self.model, self.dom);\\n}\\n);\\n    (WebIO.importBlock({\\\"data\\\":[{\\\"name\\\":\\\"knockout\\\",\\\"type\\\":\\\"js\\\",\\\"url\\\":\\\"\\/assetserver\\/0f7dc91fc8596176c20edab2c146f643e18cfcdc-knockout.js\\\"},{\\\"name\\\":\\\"knockout_punches\\\",\\\"type\\\":\\\"js\\\",\\\"url\\\":\\\"\\/assetserver\\/8b17f7ded5914701597f16e37bf062d2d0b7e5d4-knockout_punches.js\\\"}],\\\"type\\\":\\\"async_block\\\"})).then((imports) => handler.apply(this, imports));\\n}\\n\"],\"observables\":{\"changes\":{\"sync\":false,\"id\":\"2813965491407226932\",\"value\":0},\"index\":{\"sync\":true,\"id\":\"857996349780462004\",\"value\":133}}},\"children\":[{\"props\":{\"className\":\"interact-flex-row interact-widget\"},\"nodeType\":\"DOM\",\"type\":\"node\",\"instanceArgs\":{\"namespace\":\"html\",\"tag\":\"div\"},\"children\":[{\"props\":{\"className\":\"interact-flex-row-left\"},\"nodeType\":\"DOM\",\"type\":\"node\",\"instanceArgs\":{\"namespace\":\"html\",\"tag\":\"div\"},\"children\":[{\"props\":{\"className\":\"interact \",\"style\":{\"padding\":\"5px 10px 0px 10px\"}},\"nodeType\":\"DOM\",\"type\":\"node\",\"instanceArgs\":{\"namespace\":\"html\",\"tag\":\"label\"},\"children\":[\"i\"]}]},{\"props\":{\"className\":\"interact-flex-row-center\"},\"nodeType\":\"DOM\",\"type\":\"node\",\"instanceArgs\":{\"namespace\":\"html\",\"tag\":\"div\"},\"children\":[{\"props\":{\"max\":266,\"min\":1,\"attributes\":{\"type\":\"range\",\"data-bind\":\"numericValue: index, valueUpdate: 'input', event: {change: function (){this.changes(this.changes()+1)}}\",\"orient\":\"horizontal\"},\"step\":1,\"className\":\"slider slider is-fullwidth\",\"style\":{}},\"nodeType\":\"DOM\",\"type\":\"node\",\"instanceArgs\":{\"namespace\":\"html\",\"tag\":\"input\"},\"children\":[]}]},{\"props\":{\"className\":\"interact-flex-row-right\"},\"nodeType\":\"DOM\",\"type\":\"node\",\"instanceArgs\":{\"namespace\":\"html\",\"tag\":\"div\"},\"children\":[{\"props\":{\"attributes\":{\"data-bind\":\"text: formatted_val\"}},\"nodeType\":\"DOM\",\"type\":\"node\",\"instanceArgs\":{\"namespace\":\"html\",\"tag\":\"p\"},\"children\":[]}]}]}]}]},{\"props\":{},\"nodeType\":\"Scope\",\"type\":\"node\",\"instanceArgs\":{\"imports\":{\"data\":[],\"type\":\"async_block\"},\"id\":\"15045117356254206840\",\"handlers\":{},\"systemjs_options\":null,\"mount_callbacks\":[],\"observables\":{\"obs-node\":{\"sync\":false,\"id\":\"11420531287346946010\",\"value\":{\"props\":{\"className\":\"interact-flex-row interact-widget\"},\"nodeType\":\"DOM\",\"type\":\"node\",\"instanceArgs\":{\"namespace\":\"html\",\"tag\":\"div\"},\"children\":[{\"props\":{\"setInnerHtml\":\"<p>DataFrameRow (10 columns)<\\/p><table class=\\\"data-frame\\\"><thead><tr><th><\\/th><th>province<\\/th><th>country<\\/th><th>Lat<\\/th><th>Long<\\/th><th>1\\/22\\/20<\\/th><th>1\\/23\\/20<\\/th><th>1\\/24\\/20<\\/th><th>1\\/25\\/20<\\/th><th>1\\/26\\/20<\\/th><th>1\\/27\\/20<\\/th><\\/tr><tr><th><\\/th><th>String?<\\/th><th>String<\\/th><th>Float64<\\/th><th>Float64<\\/th><th>Int64<\\/th><th>Int64<\\/th><th>Int64<\\/th><th>Int64<\\/th><th>Int64<\\/th><th>Int64<\\/th><\\/tr><\\/thead><tbody><tr><th>133<\\/th><td><em>missing<\\/em><\\/td><td>Indonesia<\\/td><td>-0.7893<\\/td><td>113.921<\\/td><td>0<\\/td><td>0<\\/td><td>0<\\/td><td>0<\\/td><td>0<\\/td><td>0<\\/td><\\/tr><\\/tbody><\\/table>\"},\"nodeType\":\"DOM\",\"type\":\"node\",\"instanceArgs\":{\"namespace\":\"html\",\"tag\":\"div\"},\"children\":[]}]}}}},\"children\":[{\"props\":{},\"nodeType\":\"ObservableNode\",\"type\":\"node\",\"instanceArgs\":{\"id\":\"11420531287346946010\",\"name\":\"obs-node\"},\"children\":[]}]}]},\n",
       "            window,\n",
       "        );\n",
       "    } else {\n",
       "        document\n",
       "            .querySelector('[data-webio-mountpoint=\"4178940633077710412\"]')\n",
       "            .innerHTML = (\n",
       "                '<div style=\"padding: 1em; background-color: #f8d6da; border: 1px solid #f5c6cb\">' +\n",
       "                '<p><strong>WebIO not detected.</strong></p>' +\n",
       "                '<p>Please read ' +\n",
       "                '<a href=\"https://juliagizmos.github.io/WebIO.jl/latest/troubleshooting/not-detected/\" target=\"_blank\">the troubleshooting guide</a> ' +\n",
       "                'for more information on how to resolve this issue.</p>' +\n",
       "                '<p><a href=\"https://juliagizmos.github.io/WebIO.jl/latest/troubleshooting/not-detected/\" target=\"_blank\">https://juliagizmos.github.io/WebIO.jl/latest/troubleshooting/not-detected/</a></p>' +\n",
       "                '</div>'\n",
       "            );\n",
       "    }\n",
       "    </script>\n",
       "</div>\n"
      ],
      "text/plain": [
       "Node{WebIO.DOM}(WebIO.DOM(:html, :div), Any[Node{WebIO.DOM}(WebIO.DOM(:html, :div), Any[Scope(Node{WebIO.DOM}(WebIO.DOM(:html, :div), Any[Node{WebIO.DOM}(WebIO.DOM(:html, :div), Any[Node{WebIO.DOM}(WebIO.DOM(:html, :label), Any[\"i\"], Dict{Symbol,Any}(:className => \"interact \",:style => Dict{Any,Any}(:padding => \"5px 10px 0px 10px\")))], Dict{Symbol,Any}(:className => \"interact-flex-row-left\")), Node{WebIO.DOM}(WebIO.DOM(:html, :div), Any[Node{WebIO.DOM}(WebIO.DOM(:html, :input), Any[], Dict{Symbol,Any}(:max => 266,:min => 1,:attributes => Dict{Any,Any}(:type => \"range\",Symbol(\"data-bind\") => \"numericValue: index, valueUpdate: 'input', event: {change: function (){this.changes(this.changes()+1)}}\",\"orient\" => \"horizontal\"),:step => 1,:className => \"slider slider is-fullwidth\",:style => Dict{Any,Any}()))], Dict{Symbol,Any}(:className => \"interact-flex-row-center\")), Node{WebIO.DOM}(WebIO.DOM(:html, :div), Any[Node{WebIO.DOM}(WebIO.DOM(:html, :p), Any[], Dict{Symbol,Any}(:attributes => Dict(\"data-bind\" => \"text: formatted_val\")))], Dict{Symbol,Any}(:className => \"interact-flex-row-right\"))], Dict{Symbol,Any}(:className => \"interact-flex-row interact-widget\")), Dict{String,Tuple{Observables.AbstractObservable,Union{Nothing, Bool}}}(\"changes\" => (Observable{Int64} with 1 listeners. Value:\n",
       "0, nothing),\"index\" => (Observable{Int64} with 2 listeners. Value:\n",
       "133, nothing)), Set(String[]), nothing, Asset[Asset(\"js\", \"knockout\", \"/Users/pinas/.julia/packages/Knockout/IP1uR/src/../assets/knockout.js\"), Asset(\"js\", \"knockout_punches\", \"/Users/pinas/.julia/packages/Knockout/IP1uR/src/../assets/knockout_punches.js\"), Asset(\"js\", nothing, \"/Users/pinas/.julia/packages/InteractBase/sOe2Z/src/../assets/all.js\"), Asset(\"css\", nothing, \"/Users/pinas/.julia/packages/InteractBase/sOe2Z/src/../assets/style.css\"), Asset(\"css\", nothing, \"/Users/pinas/.julia/packages/Interact/SbgIk/src/../assets/bulma_confined.min.css\")], Dict{Any,Any}(\"changes\" => Any[WebIO.JSString(\"(function (val){return (val!=this.model[\\\"changes\\\"]()) ? (this.valueFromJulia[\\\"changes\\\"]=true, this.model[\\\"changes\\\"](val)) : undefined})\")],\"index\" => Any[WebIO.JSString(\"(function (val){return (val!=this.model[\\\"index\\\"]()) ? (this.valueFromJulia[\\\"index\\\"]=true, this.model[\\\"index\\\"](val)) : undefined})\")]), WebIO.ConnectionPool(Channel{Any}(sz_max:32,sz_curr:0), Set(AbstractConnection[]), Base.GenericCondition{Base.AlwaysLockedST}(Base.InvasiveLinkedList{Task}(Task (runnable) @0x000000010e99d690, Task (runnable) @0x000000010e99d690), Base.AlwaysLockedST(1))), WebIO.JSString[WebIO.JSString(\"function () {\\n    var handler = (function (ko, koPunches) {\\n    ko.punches.enableAll();\\n    ko.bindingHandlers.numericValue = {\\n        init: function(element, valueAccessor, allBindings, data, context) {\\n            var stringified = ko.observable(ko.unwrap(valueAccessor()));\\n            stringified.subscribe(function(value) {\\n                var val = parseFloat(value);\\n                if (!isNaN(val)) {\\n                    valueAccessor()(val);\\n                }\\n            });\\n            valueAccessor().subscribe(function(value) {\\n                var str = JSON.stringify(value);\\n                if ((str == \\\"0\\\") && ([\\\"-0\\\", \\\"-0.\\\"].indexOf(stringified()) >= 0))\\n                     return;\\n                 if ([\\\"null\\\", \\\"\\\"].indexOf(str) >= 0)\\n                     return;\\n                stringified(str);\\n            });\\n            ko.applyBindingsToNode(\\n                element,\\n                {\\n                    value: stringified,\\n                    valueUpdate: allBindings.get('valueUpdate'),\\n                },\\n                context,\\n            );\\n        }\\n    };\\n    var json_data = {\\\"formatted_vals\\\":[\\\"1\\\",\\\"2\\\",\\\"3\\\",\\\"4\\\",\\\"5\\\",\\\"6\\\",\\\"7\\\",\\\"8\\\",\\\"9\\\",\\\"10\\\",\\\"11\\\",\\\"12\\\",\\\"13\\\",\\\"14\\\",\\\"15\\\",\\\"16\\\",\\\"17\\\",\\\"18\\\",\\\"19\\\",\\\"20\\\",\\\"21\\\",\\\"22\\\",\\\"23\\\",\\\"24\\\",\\\"25\\\",\\\"26\\\",\\\"27\\\",\\\"28\\\",\\\"29\\\",\\\"30\\\",\\\"31\\\",\\\"32\\\",\\\"33\\\",\\\"34\\\",\\\"35\\\",\\\"36\\\",\\\"37\\\",\\\"38\\\",\\\"39\\\",\\\"40\\\",\\\"41\\\",\\\"42\\\",\\\"43\\\",\\\"44\\\",\\\"45\\\",\\\"46\\\",\\\"47\\\",\\\"48\\\",\\\"49\\\",\\\"50\\\",\\\"51\\\",\\\"52\\\",\\\"53\\\",\\\"54\\\",\\\"55\\\",\\\"56\\\",\\\"57\\\",\\\"58\\\",\\\"59\\\",\\\"60\\\",\\\"61\\\",\\\"62\\\",\\\"63\\\",\\\"64\\\",\\\"65\\\",\\\"66\\\",\\\"67\\\",\\\"68\\\",\\\"69\\\",\\\"70\\\",\\\"71\\\",\\\"72\\\",\\\"73\\\",\\\"74\\\",\\\"75\\\",\\\"76\\\",\\\"77\\\",\\\"78\\\",\\\"79\\\",\\\"80\\\",\\\"81\\\",\\\"82\\\",\\\"83\\\",\\\"84\\\",\\\"85\\\",\\\"86\\\",\\\"87\\\",\\\"88\\\",\\\"89\\\",\\\"90\\\",\\\"91\\\",\\\"92\\\",\\\"93\\\",\\\"94\\\",\\\"95\\\",\\\"96\\\",\\\"97\\\",\\\"98\\\",\\\"99\\\",\\\"100\\\",\\\"101\\\",\\\"102\\\",\\\"103\\\",\\\"104\\\",\\\"105\\\",\\\"106\\\",\\\"107\\\",\\\"108\\\",\\\"109\\\",\\\"110\\\",\\\"111\\\",\\\"112\\\",\\\"113\\\",\\\"114\\\",\\\"115\\\",\\\"116\\\",\\\"117\\\",\\\"118\\\",\\\"119\\\",\\\"120\\\",\\\"121\\\",\\\"122\\\",\\\"123\\\",\\\"124\\\",\\\"125\\\",\\\"126\\\",\\\"127\\\",\\\"128\\\",\\\"129\\\",\\\"130\\\",\\\"131\\\",\\\"132\\\",\\\"133\\\",\\\"134\\\",\\\"135\\\",\\\"136\\\",\\\"137\\\",\\\"138\\\",\\\"139\\\",\\\"140\\\",\\\"141\\\",\\\"142\\\",\\\"143\\\",\\\"144\\\",\\\"145\\\",\\\"146\\\",\\\"147\\\",\\\"148\\\",\\\"149\\\",\\\"150\\\",\\\"151\\\",\\\"152\\\",\\\"153\\\",\\\"154\\\",\\\"155\\\",\\\"156\\\",\\\"157\\\",\\\"158\\\",\\\"159\\\",\\\"160\\\",\\\"161\\\",\\\"162\\\",\\\"163\\\",\\\"164\\\",\\\"165\\\",\\\"166\\\",\\\"167\\\",\\\"168\\\",\\\"169\\\",\\\"170\\\",\\\"171\\\",\\\"172\\\",\\\"173\\\",\\\"174\\\",\\\"175\\\",\\\"176\\\",\\\"177\\\",\\\"178\\\",\\\"179\\\",\\\"180\\\",\\\"181\\\",\\\"182\\\",\\\"183\\\",\\\"184\\\",\\\"185\\\",\\\"186\\\",\\\"187\\\",\\\"188\\\",\\\"189\\\",\\\"190\\\",\\\"191\\\",\\\"192\\\",\\\"193\\\",\\\"194\\\",\\\"195\\\",\\\"196\\\",\\\"197\\\",\\\"198\\\",\\\"199\\\",\\\"200\\\",\\\"201\\\",\\\"202\\\",\\\"203\\\",\\\"204\\\",\\\"205\\\",\\\"206\\\",\\\"207\\\",\\\"208\\\",\\\"209\\\",\\\"210\\\",\\\"211\\\",\\\"212\\\",\\\"213\\\",\\\"214\\\",\\\"215\\\",\\\"216\\\",\\\"217\\\",\\\"218\\\",\\\"219\\\",\\\"220\\\",\\\"221\\\",\\\"222\\\",\\\"223\\\",\\\"224\\\",\\\"225\\\",\\\"226\\\",\\\"227\\\",\\\"228\\\",\\\"229\\\",\\\"230\\\",\\\"231\\\",\\\"232\\\",\\\"233\\\",\\\"234\\\",\\\"235\\\",\\\"236\\\",\\\"237\\\",\\\"238\\\",\\\"239\\\",\\\"240\\\",\\\"241\\\",\\\"242\\\",\\\"243\\\",\\\"244\\\",\\\"245\\\",\\\"246\\\",\\\"247\\\",\\\"248\\\",\\\"249\\\",\\\"250\\\",\\\"251\\\",\\\"252\\\",\\\"253\\\",\\\"254\\\",\\\"255\\\",\\\"256\\\",\\\"257\\\",\\\"258\\\",\\\"259\\\",\\\"260\\\",\\\"261\\\",\\\"262\\\",\\\"263\\\",\\\"264\\\",\\\"265\\\",\\\"266\\\"],\\\"changes\\\":WebIO.getval({\\\"name\\\":\\\"changes\\\",\\\"scope\\\":\\\"6776173006096211951\\\",\\\"id\\\":\\\"2813965491407226932\\\",\\\"type\\\":\\\"observable\\\"}),\\\"index\\\":WebIO.getval({\\\"name\\\":\\\"index\\\",\\\"scope\\\":\\\"6776173006096211951\\\",\\\"id\\\":\\\"857996349780462004\\\",\\\"type\\\":\\\"observable\\\"})};\\n    var self = this;\\n    function AppViewModel() {\\n        for (var key in json_data) {\\n            var el = json_data[key];\\n            this[key] = Array.isArray(el) ? ko.observableArray(el) : ko.observable(el);\\n        }\\n        \\n        [this[\\\"formatted_val\\\"]=ko.computed(    function(){\\n        return this.formatted_vals()[parseInt(this.index())-(1)];\\n    }\\n,this)]\\n        [this[\\\"changes\\\"].subscribe((function (val){!(this.valueFromJulia[\\\"changes\\\"]) ? (WebIO.setval({\\\"name\\\":\\\"changes\\\",\\\"scope\\\":\\\"6776173006096211951\\\",\\\"id\\\":\\\"2813965491407226932\\\",\\\"type\\\":\\\"observable\\\"},val)) : undefined; return this.valueFromJulia[\\\"changes\\\"]=false}),self),this[\\\"index\\\"].subscribe((function (val){!(this.valueFromJulia[\\\"index\\\"]) ? (WebIO.setval({\\\"name\\\":\\\"index\\\",\\\"scope\\\":\\\"6776173006096211951\\\",\\\"id\\\":\\\"857996349780462004\\\",\\\"type\\\":\\\"observable\\\"},val)) : undefined; return this.valueFromJulia[\\\"index\\\"]=false}),self)]\\n        \\n    }\\n    self.model = new AppViewModel();\\n    self.valueFromJulia = {};\\n    for (var key in json_data) {\\n        self.valueFromJulia[key] = false;\\n    }\\n    ko.applyBindings(self.model, self.dom);\\n}\\n);\\n    (WebIO.importBlock({\\\"data\\\":[{\\\"name\\\":\\\"knockout\\\",\\\"type\\\":\\\"js\\\",\\\"url\\\":\\\"/assetserver/0f7dc91fc8596176c20edab2c146f643e18cfcdc-knockout.js\\\"},{\\\"name\\\":\\\"knockout_punches\\\",\\\"type\\\":\\\"js\\\",\\\"url\\\":\\\"/assetserver/8b17f7ded5914701597f16e37bf062d2d0b7e5d4-knockout_punches.js\\\"}],\\\"type\\\":\\\"async_block\\\"})).then((imports) => handler.apply(this, imports));\\n}\\n\")])], Dict{Symbol,Any}(:className => \"field interact-widget\")), Observable{Any} with 0 listeners. Value:\n",
       "Node{WebIO.DOM}(WebIO.DOM(:html, :div), Any[DataFrameRow. Omitted printing of 3 columns\n",
       "│ Row │ province │ country   │ Lat     │ Long    │ 1/22/20 │ 1/23/20 │ 1/24/20 │\n",
       "│     │ \u001b[90mString?\u001b[39m  │ \u001b[90mString\u001b[39m    │ \u001b[90mFloat64\u001b[39m │ \u001b[90mFloat64\u001b[39m │ \u001b[90mInt64\u001b[39m   │ \u001b[90mInt64\u001b[39m   │ \u001b[90mInt64\u001b[39m   │\n",
       "├─────┼──────────┼───────────┼─────────┼─────────┼─────────┼─────────┼─────────┤\n",
       "│ 133 │ \u001b[90mmissing\u001b[39m  │ Indonesia │ -0.7893 │ 113.921 │ 0       │ 0       │ 0       │], Dict{Symbol,Any}(:className => \"interact-flex-row interact-widget\"))], Dict{Symbol,Any}())"
      ]
     },
     "execution_count": 16,
     "metadata": {
      "application/vnd.webio.node+json": {
       "kernelId": "655a49e5-ce00-4b9e-9d47-1268d83d8ac7"
      }
     },
     "output_type": "execute_result"
    }
   ],
   "source": [
    "@manipulate for i in 1:length(countries)\n",
    "    datacopy[i, 1:10] # column 1 through 10\n",
    "end"
   ]
  },
  {
   "cell_type": "code",
   "execution_count": 17,
   "metadata": {},
   "outputs": [
    {
     "data": {
      "text/plain": [
       "true"
      ]
     },
     "execution_count": 17,
     "metadata": {},
     "output_type": "execute_result"
    }
   ],
   "source": [
    "startswith(\"South\", \"S\")"
   ]
  },
  {
   "cell_type": "markdown",
   "metadata": {},
   "source": [
    "Array comprehension"
   ]
  },
  {
   "cell_type": "code",
   "execution_count": 18,
   "metadata": {},
   "outputs": [
    {
     "data": {
      "text/plain": [
       "266-element Array{Bool,1}:\n",
       " 0\n",
       " 0\n",
       " 0\n",
       " 0\n",
       " 0\n",
       " 0\n",
       " 0\n",
       " 0\n",
       " 0\n",
       " 0\n",
       " 0\n",
       " 0\n",
       " 0\n",
       " ⋮\n",
       " 0\n",
       " 0\n",
       " 0\n",
       " 0\n",
       " 0\n",
       " 1\n",
       " 0\n",
       " 0\n",
       " 0\n",
       " 0\n",
       " 0\n",
       " 0"
      ]
     },
     "execution_count": 18,
     "metadata": {},
     "output_type": "execute_result"
    }
   ],
   "source": [
    "scountries = [startswith(country, \"South\") for country in countries]"
   ]
  },
  {
   "cell_type": "code",
   "execution_count": 19,
   "metadata": {},
   "outputs": [
    {
     "data": {
      "text/html": [
       "<table class=\"data-frame\"><thead><tr><th></th><th>province</th><th>country</th><th>Lat</th><th>Long</th><th>1/22/20</th><th>1/23/20</th><th>1/24/20</th><th>1/25/20</th><th>1/26/20</th></tr><tr><th></th><th>String?</th><th>String</th><th>Float64</th><th>Float64</th><th>Int64</th><th>Int64</th><th>Int64</th><th>Int64</th><th>Int64</th></tr></thead><tbody><p>2 rows × 193 columns (omitted printing of 184 columns)</p><tr><th>1</th><td><em>missing</em></td><td>South Africa</td><td>-30.5595</td><td>22.9375</td><td>0</td><td>0</td><td>0</td><td>0</td><td>0</td></tr><tr><th>2</th><td><em>missing</em></td><td>South Sudan</td><td>6.877</td><td>31.307</td><td>0</td><td>0</td><td>0</td><td>0</td><td>0</td></tr></tbody></table>"
      ],
      "text/latex": [
       "\\begin{tabular}{r|cccccccccc}\n",
       "\t& province & country & Lat & Long & 1/22/20 & 1/23/20 & 1/24/20 & 1/25/20 & 1/26/20 & \\\\\n",
       "\t\\hline\n",
       "\t& String? & String & Float64 & Float64 & Int64 & Int64 & Int64 & Int64 & Int64 & \\\\\n",
       "\t\\hline\n",
       "\t1 & \\emph{missing} & South Africa & -30.5595 & 22.9375 & 0 & 0 & 0 & 0 & 0 & $\\dots$ \\\\\n",
       "\t2 & \\emph{missing} & South Sudan & 6.877 & 31.307 & 0 & 0 & 0 & 0 & 0 & $\\dots$ \\\\\n",
       "\\end{tabular}\n"
      ],
      "text/plain": [
       "2×193 DataFrame. Omitted printing of 187 columns\n",
       "│ Row │ province │ country      │ Lat      │ Long    │ 1/22/20 │ 1/23/20 │\n",
       "│     │ \u001b[90mString?\u001b[39m  │ \u001b[90mString\u001b[39m       │ \u001b[90mFloat64\u001b[39m  │ \u001b[90mFloat64\u001b[39m │ \u001b[90mInt64\u001b[39m   │ \u001b[90mInt64\u001b[39m   │\n",
       "├─────┼──────────┼──────────────┼──────────┼─────────┼─────────┼─────────┤\n",
       "│ 1   │ \u001b[90mmissing\u001b[39m  │ South Africa │ -30.5595 │ 22.9375 │ 0       │ 0       │\n",
       "│ 2   │ \u001b[90mmissing\u001b[39m  │ South Sudan  │ 6.877    │ 31.307  │ 0       │ 0       │"
      ]
     },
     "execution_count": 19,
     "metadata": {},
     "output_type": "execute_result"
    }
   ],
   "source": [
    "datacopy[scountries, :]"
   ]
  },
  {
   "cell_type": "code",
   "execution_count": 20,
   "metadata": {},
   "outputs": [
    {
     "data": {
      "text/plain": [
       "266-element BitArray{1}:\n",
       " 0\n",
       " 0\n",
       " 0\n",
       " 0\n",
       " 0\n",
       " 0\n",
       " 0\n",
       " 0\n",
       " 0\n",
       " 0\n",
       " 0\n",
       " 0\n",
       " 0\n",
       " ⋮\n",
       " 0\n",
       " 0\n",
       " 0\n",
       " 0\n",
       " 0\n",
       " 0\n",
       " 0\n",
       " 0\n",
       " 0\n",
       " 0\n",
       " 0\n",
       " 0"
      ]
     },
     "execution_count": 20,
     "metadata": {},
     "output_type": "execute_result"
    }
   ],
   "source": [
    "countries .== \"South Africa\" \n",
    "# period before == is \"broadcasting\": apply operation to each element of a vector"
   ]
  },
  {
   "cell_type": "code",
   "execution_count": 21,
   "metadata": {},
   "outputs": [
    {
     "data": {
      "text/plain": [
       "266-element Array{Bool,1}:\n",
       " 0\n",
       " 0\n",
       " 0\n",
       " 0\n",
       " 0\n",
       " 0\n",
       " 0\n",
       " 0\n",
       " 0\n",
       " 0\n",
       " 0\n",
       " 0\n",
       " 0\n",
       " ⋮\n",
       " 0\n",
       " 0\n",
       " 0\n",
       " 0\n",
       " 0\n",
       " 0\n",
       " 0\n",
       " 0\n",
       " 0\n",
       " 0\n",
       " 0\n",
       " 0"
      ]
     },
     "execution_count": 21,
     "metadata": {},
     "output_type": "execute_result"
    }
   ],
   "source": [
    "sa = [startswith(country, \"South Africa\") for country in countries]"
   ]
  },
  {
   "cell_type": "code",
   "execution_count": 22,
   "metadata": {},
   "outputs": [
    {
     "data": {
      "text/plain": [
       "2-element Array{Any,1}:\n",
       " Bool[0, 0, 0, 0, 0, 0, 0, 0, 0, 0  …  0, 0, 0, 0, 0, 0, 0, 0, 0, 0]\n",
       " Colon()"
      ]
     },
     "execution_count": 22,
     "metadata": {},
     "output_type": "execute_result"
    }
   ],
   "source": [
    "datarow =[sa, :]"
   ]
  },
  {
   "cell_type": "code",
   "execution_count": 23,
   "metadata": {},
   "outputs": [
    {
     "data": {
      "text/plain": [
       "201"
      ]
     },
     "execution_count": 23,
     "metadata": {},
     "output_type": "execute_result"
    }
   ],
   "source": [
    "soutafricarow = findfirst(countries .== \"South Africa\")"
   ]
  },
  {
   "cell_type": "code",
   "execution_count": 24,
   "metadata": {},
   "outputs": [
    {
     "data": {
      "text/html": [
       "<p>DataFrameRow (193 columns)</p><table class=\"data-frame\"><thead><tr><th></th><th>province</th><th>country</th><th>Lat</th><th>Long</th><th>1/22/20</th><th>1/23/20</th><th>1/24/20</th><th>1/25/20</th><th>1/26/20</th></tr><tr><th></th><th>String?</th><th>String</th><th>Float64</th><th>Float64</th><th>Int64</th><th>Int64</th><th>Int64</th><th>Int64</th><th>Int64</th></tr></thead><tbody><tr><th>201</th><td><em>missing</em></td><td>South Africa</td><td>-30.5595</td><td>22.9375</td><td>0</td><td>0</td><td>0</td><td>0</td><td>0</td></tr></tbody></table>"
      ],
      "text/latex": [
       "\\begin{tabular}{r|cccccccccc}\n",
       "\t& province & country & Lat & Long & 1/22/20 & 1/23/20 & 1/24/20 & 1/25/20 & 1/26/20 & \\\\\n",
       "\t\\hline\n",
       "\t& String? & String & Float64 & Float64 & Int64 & Int64 & Int64 & Int64 & Int64 & \\\\\n",
       "\t\\hline\n",
       "\t201 & \\emph{missing} & South Africa & -30.5595 & 22.9375 & 0 & 0 & 0 & 0 & 0 & $\\dots$ \\\\\n",
       "\\end{tabular}\n"
      ],
      "text/plain": [
       "DataFrameRow. Omitted printing of 187 columns\n",
       "│ Row │ province │ country      │ Lat      │ Long    │ 1/22/20 │ 1/23/20 │\n",
       "│     │ \u001b[90mString?\u001b[39m  │ \u001b[90mString\u001b[39m       │ \u001b[90mFloat64\u001b[39m  │ \u001b[90mFloat64\u001b[39m │ \u001b[90mInt64\u001b[39m   │ \u001b[90mInt64\u001b[39m   │\n",
       "├─────┼──────────┼──────────────┼──────────┼─────────┼─────────┼─────────┤\n",
       "│ 201 │ \u001b[90mmissing\u001b[39m  │ South Africa │ -30.5595 │ 22.9375 │ 0       │ 0       │"
      ]
     },
     "execution_count": 24,
     "metadata": {},
     "output_type": "execute_result"
    }
   ],
   "source": [
    "sadatarow = datacopy[soutafricarow, :]"
   ]
  },
  {
   "cell_type": "code",
   "execution_count": 25,
   "metadata": {},
   "outputs": [
    {
     "data": {
      "text/plain": [
       "146-element Array{Int64,1}:\n",
       "      1\n",
       "      1\n",
       "      1\n",
       "      3\n",
       "      3\n",
       "      7\n",
       "     13\n",
       "     17\n",
       "     24\n",
       "     38\n",
       "     51\n",
       "     62\n",
       "     62\n",
       "      ⋮\n",
       " 337594\n",
       " 350879\n",
       " 364328\n",
       " 373628\n",
       " 381798\n",
       " 394948\n",
       " 408052\n",
       " 421996\n",
       " 434200\n",
       " 445433\n",
       " 452529\n",
       " 459761"
      ]
     },
     "execution_count": 25,
     "metadata": {},
     "output_type": "execute_result"
    }
   ],
   "source": [
    "sadata = convert(Vector, sadatarow[48:end])"
   ]
  },
  {
   "cell_type": "code",
   "execution_count": 26,
   "metadata": {},
   "outputs": [],
   "source": [
    "using Plots"
   ]
  },
  {
   "cell_type": "code",
   "execution_count": 27,
   "metadata": {},
   "outputs": [
    {
     "data": {
      "text/plain": [
       "193-element Array{String,1}:\n",
       " \"province\"\n",
       " \"country\"\n",
       " \"Lat\"\n",
       " \"Long\"\n",
       " \"1/22/20\"\n",
       " \"1/23/20\"\n",
       " \"1/24/20\"\n",
       " \"1/25/20\"\n",
       " \"1/26/20\"\n",
       " \"1/27/20\"\n",
       " \"1/28/20\"\n",
       " \"1/29/20\"\n",
       " \"1/30/20\"\n",
       " ⋮\n",
       " \"7/17/20\"\n",
       " \"7/18/20\"\n",
       " \"7/19/20\"\n",
       " \"7/20/20\"\n",
       " \"7/21/20\"\n",
       " \"7/22/20\"\n",
       " \"7/23/20\"\n",
       " \"7/24/20\"\n",
       " \"7/25/20\"\n",
       " \"7/26/20\"\n",
       " \"7/27/20\"\n",
       " \"7/28/20\""
      ]
     },
     "execution_count": 27,
     "metadata": {},
     "output_type": "execute_result"
    }
   ],
   "source": [
    "coldate = names(datacopy)"
   ]
  },
  {
   "cell_type": "code",
   "execution_count": 28,
   "metadata": {},
   "outputs": [
    {
     "data": {
      "image/svg+xml": [
       "<?xml version=\"1.0\" encoding=\"utf-8\"?>\n",
       "<svg xmlns=\"http://www.w3.org/2000/svg\" xmlns:xlink=\"http://www.w3.org/1999/xlink\" width=\"600\" height=\"400\" viewBox=\"0 0 2400 1600\">\n",
       "<defs>\n",
       "  <clipPath id=\"clip940\">\n",
       "    <rect x=\"0\" y=\"0\" width=\"2400\" height=\"1600\"/>\n",
       "  </clipPath>\n",
       "</defs>\n",
       "<path clip-path=\"url(#clip940)\" d=\"\n",
       "M0 1600 L2400 1600 L2400 0 L0 0  Z\n",
       "  \" fill=\"#ffffff\" fill-rule=\"evenodd\" fill-opacity=\"1\"/>\n",
       "<defs>\n",
       "  <clipPath id=\"clip941\">\n",
       "    <rect x=\"480\" y=\"0\" width=\"1681\" height=\"1600\"/>\n",
       "  </clipPath>\n",
       "</defs>\n",
       "<path clip-path=\"url(#clip940)\" d=\"\n",
       "M214.954 1486.45 L2352.76 1486.45 L2352.76 47.2441 L214.954 47.2441  Z\n",
       "  \" fill=\"#ffffff\" fill-rule=\"evenodd\" fill-opacity=\"1\"/>\n",
       "<defs>\n",
       "  <clipPath id=\"clip942\">\n",
       "    <rect x=\"214\" y=\"47\" width=\"2139\" height=\"1440\"/>\n",
       "  </clipPath>\n",
       "</defs>\n",
       "<polyline clip-path=\"url(#clip942)\" style=\"stroke:#000000; stroke-width:2; stroke-opacity:0.1; fill:none\" points=\"\n",
       "  261.549,1486.45 261.549,47.2441 \n",
       "  \"/>\n",
       "<polyline clip-path=\"url(#clip942)\" style=\"stroke:#000000; stroke-width:2; stroke-opacity:0.1; fill:none\" points=\"\n",
       "  956.995,1486.45 956.995,47.2441 \n",
       "  \"/>\n",
       "<polyline clip-path=\"url(#clip942)\" style=\"stroke:#000000; stroke-width:2; stroke-opacity:0.1; fill:none\" points=\"\n",
       "  1652.44,1486.45 1652.44,47.2441 \n",
       "  \"/>\n",
       "<polyline clip-path=\"url(#clip942)\" style=\"stroke:#000000; stroke-width:2; stroke-opacity:0.1; fill:none\" points=\"\n",
       "  2347.89,1486.45 2347.89,47.2441 \n",
       "  \"/>\n",
       "<polyline clip-path=\"url(#clip942)\" style=\"stroke:#000000; stroke-width:2; stroke-opacity:0.1; fill:none\" points=\"\n",
       "  214.954,1445.72 2352.76,1445.72 \n",
       "  \"/>\n",
       "<polyline clip-path=\"url(#clip942)\" style=\"stroke:#000000; stroke-width:2; stroke-opacity:0.1; fill:none\" points=\"\n",
       "  214.954,1150.4 2352.76,1150.4 \n",
       "  \"/>\n",
       "<polyline clip-path=\"url(#clip942)\" style=\"stroke:#000000; stroke-width:2; stroke-opacity:0.1; fill:none\" points=\"\n",
       "  214.954,855.089 2352.76,855.089 \n",
       "  \"/>\n",
       "<polyline clip-path=\"url(#clip942)\" style=\"stroke:#000000; stroke-width:2; stroke-opacity:0.1; fill:none\" points=\"\n",
       "  214.954,559.774 2352.76,559.774 \n",
       "  \"/>\n",
       "<polyline clip-path=\"url(#clip942)\" style=\"stroke:#000000; stroke-width:2; stroke-opacity:0.1; fill:none\" points=\"\n",
       "  214.954,264.459 2352.76,264.459 \n",
       "  \"/>\n",
       "<polyline clip-path=\"url(#clip940)\" style=\"stroke:#000000; stroke-width:4; stroke-opacity:1; fill:none\" points=\"\n",
       "  214.954,1486.45 2352.76,1486.45 \n",
       "  \"/>\n",
       "<polyline clip-path=\"url(#clip940)\" style=\"stroke:#000000; stroke-width:4; stroke-opacity:1; fill:none\" points=\"\n",
       "  214.954,1486.45 214.954,47.2441 \n",
       "  \"/>\n",
       "<polyline clip-path=\"url(#clip940)\" style=\"stroke:#000000; stroke-width:4; stroke-opacity:1; fill:none\" points=\"\n",
       "  261.549,1486.45 261.549,1469.18 \n",
       "  \"/>\n",
       "<polyline clip-path=\"url(#clip940)\" style=\"stroke:#000000; stroke-width:4; stroke-opacity:1; fill:none\" points=\"\n",
       "  956.995,1486.45 956.995,1469.18 \n",
       "  \"/>\n",
       "<polyline clip-path=\"url(#clip940)\" style=\"stroke:#000000; stroke-width:4; stroke-opacity:1; fill:none\" points=\"\n",
       "  1652.44,1486.45 1652.44,1469.18 \n",
       "  \"/>\n",
       "<polyline clip-path=\"url(#clip940)\" style=\"stroke:#000000; stroke-width:4; stroke-opacity:1; fill:none\" points=\"\n",
       "  2347.89,1486.45 2347.89,1469.18 \n",
       "  \"/>\n",
       "<polyline clip-path=\"url(#clip940)\" style=\"stroke:#000000; stroke-width:4; stroke-opacity:1; fill:none\" points=\"\n",
       "  214.954,1445.72 240.608,1445.72 \n",
       "  \"/>\n",
       "<polyline clip-path=\"url(#clip940)\" style=\"stroke:#000000; stroke-width:4; stroke-opacity:1; fill:none\" points=\"\n",
       "  214.954,1150.4 240.608,1150.4 \n",
       "  \"/>\n",
       "<polyline clip-path=\"url(#clip940)\" style=\"stroke:#000000; stroke-width:4; stroke-opacity:1; fill:none\" points=\"\n",
       "  214.954,855.089 240.608,855.089 \n",
       "  \"/>\n",
       "<polyline clip-path=\"url(#clip940)\" style=\"stroke:#000000; stroke-width:4; stroke-opacity:1; fill:none\" points=\"\n",
       "  214.954,559.774 240.608,559.774 \n",
       "  \"/>\n",
       "<polyline clip-path=\"url(#clip940)\" style=\"stroke:#000000; stroke-width:4; stroke-opacity:1; fill:none\" points=\"\n",
       "  214.954,264.459 240.608,264.459 \n",
       "  \"/>\n",
       "<path clip-path=\"url(#clip940)\" d=\"M 0 0 M261.549 1508.44 Q257.938 1508.44 256.11 1512 Q254.304 1515.55 254.304 1522.67 Q254.304 1529.78 256.11 1533.35 Q257.938 1536.89 261.549 1536.89 Q265.184 1536.89 266.989 1533.35 Q268.818 1529.78 268.818 1522.67 Q268.818 1515.55 266.989 1512 Q265.184 1508.44 261.549 1508.44 M261.549 1504.73 Q267.359 1504.73 270.415 1509.34 Q273.494 1513.92 273.494 1522.67 Q273.494 1531.4 270.415 1536.01 Q267.359 1540.59 261.549 1540.59 Q255.739 1540.59 252.66 1536.01 Q249.605 1531.4 249.605 1522.67 Q249.605 1513.92 252.66 1509.34 Q255.739 1504.73 261.549 1504.73 Z\" fill=\"#000000\" fill-rule=\"evenodd\" fill-opacity=\"1\" /><path clip-path=\"url(#clip940)\" d=\"M 0 0 M933.766 1505.36 L952.123 1505.36 L952.123 1509.3 L938.049 1509.3 L938.049 1517.77 Q939.067 1517.42 940.086 1517.26 Q941.104 1517.07 942.123 1517.07 Q947.91 1517.07 951.289 1520.24 Q954.669 1523.42 954.669 1528.83 Q954.669 1534.41 951.197 1537.51 Q947.725 1540.59 941.405 1540.59 Q939.229 1540.59 936.961 1540.22 Q934.715 1539.85 932.308 1539.11 L932.308 1534.41 Q934.391 1535.54 936.614 1536.1 Q938.836 1536.66 941.313 1536.66 Q945.317 1536.66 947.655 1534.55 Q949.993 1532.44 949.993 1528.83 Q949.993 1525.22 947.655 1523.11 Q945.317 1521.01 941.313 1521.01 Q939.438 1521.01 937.563 1521.42 Q935.711 1521.84 933.766 1522.72 L933.766 1505.36 Z\" fill=\"#000000\" fill-rule=\"evenodd\" fill-opacity=\"1\" /><path clip-path=\"url(#clip940)\" d=\"M 0 0 M969.738 1508.44 Q966.127 1508.44 964.299 1512 Q962.493 1515.55 962.493 1522.67 Q962.493 1529.78 964.299 1533.35 Q966.127 1536.89 969.738 1536.89 Q973.373 1536.89 975.178 1533.35 Q977.007 1529.78 977.007 1522.67 Q977.007 1515.55 975.178 1512 Q973.373 1508.44 969.738 1508.44 M969.738 1504.73 Q975.549 1504.73 978.604 1509.34 Q981.683 1513.92 981.683 1522.67 Q981.683 1531.4 978.604 1536.01 Q975.549 1540.59 969.738 1540.59 Q963.928 1540.59 960.85 1536.01 Q957.794 1531.4 957.794 1522.67 Q957.794 1513.92 960.85 1509.34 Q963.928 1504.73 969.738 1504.73 Z\" fill=\"#000000\" fill-rule=\"evenodd\" fill-opacity=\"1\" /><path clip-path=\"url(#clip940)\" d=\"M 0 0 M1615.81 1535.98 L1623.45 1535.98 L1623.45 1509.62 L1615.14 1511.29 L1615.14 1507.03 L1623.4 1505.36 L1628.08 1505.36 L1628.08 1535.98 L1635.72 1535.98 L1635.72 1539.92 L1615.81 1539.92 L1615.81 1535.98 Z\" fill=\"#000000\" fill-rule=\"evenodd\" fill-opacity=\"1\" /><path clip-path=\"url(#clip940)\" d=\"M 0 0 M1650.79 1508.44 Q1647.18 1508.44 1645.35 1512 Q1643.54 1515.55 1643.54 1522.67 Q1643.54 1529.78 1645.35 1533.35 Q1647.18 1536.89 1650.79 1536.89 Q1654.42 1536.89 1656.23 1533.35 Q1658.06 1529.78 1658.06 1522.67 Q1658.06 1515.55 1656.23 1512 Q1654.42 1508.44 1650.79 1508.44 M1650.79 1504.73 Q1656.6 1504.73 1659.65 1509.34 Q1662.73 1513.92 1662.73 1522.67 Q1662.73 1531.4 1659.65 1536.01 Q1656.6 1540.59 1650.79 1540.59 Q1644.98 1540.59 1641.9 1536.01 Q1638.84 1531.4 1638.84 1522.67 Q1638.84 1513.92 1641.9 1509.34 Q1644.98 1504.73 1650.79 1504.73 Z\" fill=\"#000000\" fill-rule=\"evenodd\" fill-opacity=\"1\" /><path clip-path=\"url(#clip940)\" d=\"M 0 0 M1677.8 1508.44 Q1674.19 1508.44 1672.36 1512 Q1670.55 1515.55 1670.55 1522.67 Q1670.55 1529.78 1672.36 1533.35 Q1674.19 1536.89 1677.8 1536.89 Q1681.43 1536.89 1683.24 1533.35 Q1685.07 1529.78 1685.07 1522.67 Q1685.07 1515.55 1683.24 1512 Q1681.43 1508.44 1677.8 1508.44 M1677.8 1504.73 Q1683.61 1504.73 1686.67 1509.34 Q1689.74 1513.92 1689.74 1522.67 Q1689.74 1531.4 1686.67 1536.01 Q1683.61 1540.59 1677.8 1540.59 Q1671.99 1540.59 1668.91 1536.01 Q1665.86 1531.4 1665.86 1522.67 Q1665.86 1513.92 1668.91 1509.34 Q1671.99 1504.73 1677.8 1504.73 Z\" fill=\"#000000\" fill-rule=\"evenodd\" fill-opacity=\"1\" /><path clip-path=\"url(#clip940)\" d=\"M 0 0 M2311.75 1535.98 L2319.39 1535.98 L2319.39 1509.62 L2311.08 1511.29 L2311.08 1507.03 L2319.35 1505.36 L2324.02 1505.36 L2324.02 1535.98 L2331.66 1535.98 L2331.66 1539.92 L2311.75 1539.92 L2311.75 1535.98 Z\" fill=\"#000000\" fill-rule=\"evenodd\" fill-opacity=\"1\" /><path clip-path=\"url(#clip940)\" d=\"M 0 0 M2336.78 1505.36 L2355.13 1505.36 L2355.13 1509.3 L2341.06 1509.3 L2341.06 1517.77 Q2342.08 1517.42 2343.1 1517.26 Q2344.11 1517.07 2345.13 1517.07 Q2350.92 1517.07 2354.3 1520.24 Q2357.68 1523.42 2357.68 1528.83 Q2357.68 1534.41 2354.21 1537.51 Q2350.73 1540.59 2344.42 1540.59 Q2342.24 1540.59 2339.97 1540.22 Q2337.73 1539.85 2335.32 1539.11 L2335.32 1534.41 Q2337.4 1535.54 2339.62 1536.1 Q2341.85 1536.66 2344.32 1536.66 Q2348.33 1536.66 2350.67 1534.55 Q2353 1532.44 2353 1528.83 Q2353 1525.22 2350.67 1523.11 Q2348.33 1521.01 2344.32 1521.01 Q2342.45 1521.01 2340.57 1521.42 Q2338.72 1521.84 2336.78 1522.72 L2336.78 1505.36 Z\" fill=\"#000000\" fill-rule=\"evenodd\" fill-opacity=\"1\" /><path clip-path=\"url(#clip940)\" d=\"M 0 0 M2372.75 1508.44 Q2369.14 1508.44 2367.31 1512 Q2365.5 1515.55 2365.5 1522.67 Q2365.5 1529.78 2367.31 1533.35 Q2369.14 1536.89 2372.75 1536.89 Q2376.38 1536.89 2378.19 1533.35 Q2380.02 1529.78 2380.02 1522.67 Q2380.02 1515.55 2378.19 1512 Q2376.38 1508.44 2372.75 1508.44 M2372.75 1504.73 Q2378.56 1504.73 2381.61 1509.34 Q2384.69 1513.92 2384.69 1522.67 Q2384.69 1531.4 2381.61 1536.01 Q2378.56 1540.59 2372.75 1540.59 Q2366.94 1540.59 2363.86 1536.01 Q2360.8 1531.4 2360.8 1522.67 Q2360.8 1513.92 2363.86 1509.34 Q2366.94 1504.73 2372.75 1504.73 Z\" fill=\"#000000\" fill-rule=\"evenodd\" fill-opacity=\"1\" /><path clip-path=\"url(#clip940)\" d=\"M 0 0 M179.01 1431.52 Q175.399 1431.52 173.57 1435.08 Q171.765 1438.62 171.765 1445.75 Q171.765 1452.86 173.57 1456.42 Q175.399 1459.97 179.01 1459.97 Q182.644 1459.97 184.45 1456.42 Q186.279 1452.86 186.279 1445.75 Q186.279 1438.62 184.45 1435.08 Q182.644 1431.52 179.01 1431.52 M179.01 1427.81 Q184.82 1427.81 187.876 1432.42 Q190.954 1437 190.954 1445.75 Q190.954 1454.48 187.876 1459.09 Q184.82 1463.67 179.01 1463.67 Q173.2 1463.67 170.121 1459.09 Q167.066 1454.48 167.066 1445.75 Q167.066 1437 170.121 1432.42 Q173.2 1427.81 179.01 1427.81 Z\" fill=\"#000000\" fill-rule=\"evenodd\" fill-opacity=\"1\" /><path clip-path=\"url(#clip940)\" d=\"M 0 0 M66.8376 1170.2 L74.4764 1170.2 L74.4764 1143.83 L66.1663 1145.5 L66.1663 1141.24 L74.4301 1139.57 L79.106 1139.57 L79.106 1170.2 L86.7449 1170.2 L86.7449 1174.13 L66.8376 1174.13 L66.8376 1170.2 Z\" fill=\"#000000\" fill-rule=\"evenodd\" fill-opacity=\"1\" /><path clip-path=\"url(#clip940)\" d=\"M 0 0 M119.985 1148.67 L109.407 1159.29 L119.985 1169.87 L117.231 1172.67 L106.606 1162.05 L95.981 1172.67 L93.2495 1169.87 L103.805 1159.29 L93.2495 1148.67 L95.981 1145.87 L106.606 1156.49 L117.231 1145.87 L119.985 1148.67 Z\" fill=\"#000000\" fill-rule=\"evenodd\" fill-opacity=\"1\" /><path clip-path=\"url(#clip940)\" d=\"M 0 0 M125.865 1170.2 L133.504 1170.2 L133.504 1143.83 L125.194 1145.5 L125.194 1141.24 L133.458 1139.57 L138.134 1139.57 L138.134 1170.2 L145.772 1170.2 L145.772 1174.13 L125.865 1174.13 L125.865 1170.2 Z\" fill=\"#000000\" fill-rule=\"evenodd\" fill-opacity=\"1\" /><path clip-path=\"url(#clip940)\" d=\"M 0 0 M160.842 1142.65 Q157.231 1142.65 155.402 1146.21 Q153.596 1149.76 153.596 1156.89 Q153.596 1163.99 155.402 1167.56 Q157.231 1171.1 160.842 1171.1 Q164.476 1171.1 166.282 1167.56 Q168.11 1163.99 168.11 1156.89 Q168.11 1149.76 166.282 1146.21 Q164.476 1142.65 160.842 1142.65 M160.842 1138.95 Q166.652 1138.95 169.707 1143.55 Q172.786 1148.14 172.786 1156.89 Q172.786 1165.61 169.707 1170.22 Q166.652 1174.8 160.842 1174.8 Q155.032 1174.8 151.953 1170.22 Q148.897 1165.61 148.897 1156.89 Q148.897 1148.14 151.953 1143.55 Q155.032 1138.95 160.842 1138.95 Z\" fill=\"#000000\" fill-rule=\"evenodd\" fill-opacity=\"1\" /><path clip-path=\"url(#clip940)\" d=\"M 0 0 M173.971 1118.64 L188.886 1118.64 L188.886 1121.84 L177.45 1121.84 L177.45 1128.72 Q178.278 1128.44 179.106 1128.31 Q179.933 1128.16 180.761 1128.16 Q185.463 1128.16 188.208 1130.73 Q190.954 1133.31 190.954 1137.71 Q190.954 1142.24 188.133 1144.77 Q185.312 1147.27 180.178 1147.27 Q178.41 1147.27 176.566 1146.97 Q174.742 1146.66 172.786 1146.06 L172.786 1142.24 Q174.479 1143.17 176.284 1143.62 Q178.09 1144.07 180.102 1144.07 Q183.356 1144.07 185.256 1142.36 Q187.155 1140.65 187.155 1137.71 Q187.155 1134.78 185.256 1133.07 Q183.356 1131.36 180.102 1131.36 Q178.579 1131.36 177.055 1131.69 Q175.551 1132.03 173.971 1132.75 L173.971 1118.64 Z\" fill=\"#000000\" fill-rule=\"evenodd\" fill-opacity=\"1\" /><path clip-path=\"url(#clip940)\" d=\"M 0 0 M70.4255 874.881 L86.7449 874.881 L86.7449 878.817 L64.8006 878.817 L64.8006 874.881 Q67.4626 872.127 72.0459 867.497 Q76.6524 862.844 77.8329 861.502 Q80.0783 858.979 80.9579 857.243 Q81.8607 855.483 81.8607 853.794 Q81.8607 851.039 79.9162 849.303 Q77.9949 847.567 74.8931 847.567 Q72.694 847.567 70.2404 848.331 Q67.8098 849.095 65.032 850.645 L65.032 845.923 Q67.8561 844.789 70.3098 844.21 Q72.7635 843.632 74.8005 843.632 Q80.1709 843.632 83.3653 846.317 Q86.5597 849.002 86.5597 853.493 Q86.5597 855.622 85.7495 857.544 Q84.9625 859.442 82.856 862.034 Q82.2773 862.706 79.1755 865.923 Q76.0737 869.118 70.4255 874.881 Z\" fill=\"#000000\" fill-rule=\"evenodd\" fill-opacity=\"1\" /><path clip-path=\"url(#clip940)\" d=\"M 0 0 M119.985 853.354 L109.407 863.979 L119.985 874.557 L117.231 877.358 L106.606 866.733 L95.981 877.358 L93.2495 874.557 L103.805 863.979 L93.2495 853.354 L95.981 850.553 L106.606 861.178 L117.231 850.553 L119.985 853.354 Z\" fill=\"#000000\" fill-rule=\"evenodd\" fill-opacity=\"1\" /><path clip-path=\"url(#clip940)\" d=\"M 0 0 M125.865 874.881 L133.504 874.881 L133.504 848.516 L125.194 850.182 L125.194 845.923 L133.458 844.257 L138.134 844.257 L138.134 874.881 L145.772 874.881 L145.772 878.817 L125.865 878.817 L125.865 874.881 Z\" fill=\"#000000\" fill-rule=\"evenodd\" fill-opacity=\"1\" /><path clip-path=\"url(#clip940)\" d=\"M 0 0 M160.842 847.335 Q157.231 847.335 155.402 850.9 Q153.596 854.442 153.596 861.571 Q153.596 868.678 155.402 872.243 Q157.231 875.784 160.842 875.784 Q164.476 875.784 166.282 872.243 Q168.11 868.678 168.11 861.571 Q168.11 854.442 166.282 850.9 Q164.476 847.335 160.842 847.335 M160.842 843.632 Q166.652 843.632 169.707 848.238 Q172.786 852.821 172.786 861.571 Q172.786 870.298 169.707 874.905 Q166.652 879.488 160.842 879.488 Q155.032 879.488 151.953 874.905 Q148.897 870.298 148.897 861.571 Q148.897 852.821 151.953 848.238 Q155.032 843.632 160.842 843.632 Z\" fill=\"#000000\" fill-rule=\"evenodd\" fill-opacity=\"1\" /><path clip-path=\"url(#clip940)\" d=\"M 0 0 M173.971 823.326 L188.886 823.326 L188.886 826.524 L177.45 826.524 L177.45 833.407 Q178.278 833.125 179.106 832.993 Q179.933 832.843 180.761 832.843 Q185.463 832.843 188.208 835.42 Q190.954 837.996 190.954 842.397 Q190.954 846.93 188.133 849.45 Q185.312 851.952 180.178 851.952 Q178.41 851.952 176.566 851.651 Q174.742 851.35 172.786 850.748 L172.786 846.93 Q174.479 847.852 176.284 848.303 Q178.09 848.754 180.102 848.754 Q183.356 848.754 185.256 847.043 Q187.155 845.331 187.155 842.397 Q187.155 839.463 185.256 837.752 Q183.356 836.04 180.102 836.04 Q178.579 836.04 177.055 836.379 Q175.551 836.717 173.971 837.432 L173.971 823.326 Z\" fill=\"#000000\" fill-rule=\"evenodd\" fill-opacity=\"1\" /><path clip-path=\"url(#clip940)\" d=\"M 0 0 M79.6153 564.868 Q82.9718 565.585 84.8468 567.854 Q86.7449 570.122 86.7449 573.456 Q86.7449 578.571 83.2264 581.372 Q79.7079 584.173 73.2264 584.173 Q71.0505 584.173 68.7357 583.733 Q66.4441 583.317 63.9904 582.46 L63.9904 577.946 Q65.9348 579.081 68.2496 579.659 Q70.5644 580.238 73.0876 580.238 Q77.4857 580.238 79.7773 578.502 Q82.0921 576.766 82.0921 573.456 Q82.0921 570.4 79.9394 568.687 Q77.8098 566.951 73.9903 566.951 L69.9626 566.951 L69.9626 563.108 L74.1755 563.108 Q77.6246 563.108 79.4533 561.743 Q81.282 560.354 81.282 557.761 Q81.282 555.099 79.3838 553.687 Q77.5088 552.252 73.9903 552.252 Q72.069 552.252 69.87 552.669 Q67.6709 553.085 65.032 553.965 L65.032 549.798 Q67.6941 549.058 70.0089 548.687 Q72.3468 548.317 74.407 548.317 Q79.731 548.317 82.8329 550.747 Q85.9347 553.155 85.9347 557.275 Q85.9347 560.145 84.2912 562.136 Q82.6477 564.104 79.6153 564.868 Z\" fill=\"#000000\" fill-rule=\"evenodd\" fill-opacity=\"1\" /><path clip-path=\"url(#clip940)\" d=\"M 0 0 M119.985 558.039 L109.407 568.664 L119.985 579.243 L117.231 582.043 L106.606 571.419 L95.981 582.043 L93.2495 579.243 L103.805 568.664 L93.2495 558.039 L95.981 555.238 L106.606 565.863 L117.231 555.238 L119.985 558.039 Z\" fill=\"#000000\" fill-rule=\"evenodd\" fill-opacity=\"1\" /><path clip-path=\"url(#clip940)\" d=\"M 0 0 M125.865 579.567 L133.504 579.567 L133.504 553.201 L125.194 554.868 L125.194 550.608 L133.458 548.942 L138.134 548.942 L138.134 579.567 L145.772 579.567 L145.772 583.502 L125.865 583.502 L125.865 579.567 Z\" fill=\"#000000\" fill-rule=\"evenodd\" fill-opacity=\"1\" /><path clip-path=\"url(#clip940)\" d=\"M 0 0 M160.842 552.02 Q157.231 552.02 155.402 555.585 Q153.596 559.127 153.596 566.257 Q153.596 573.363 155.402 576.928 Q157.231 580.469 160.842 580.469 Q164.476 580.469 166.282 576.928 Q168.11 573.363 168.11 566.257 Q168.11 559.127 166.282 555.585 Q164.476 552.02 160.842 552.02 M160.842 548.317 Q166.652 548.317 169.707 552.923 Q172.786 557.507 172.786 566.257 Q172.786 574.983 169.707 579.59 Q166.652 584.173 160.842 584.173 Q155.032 584.173 151.953 579.59 Q148.897 574.983 148.897 566.257 Q148.897 557.507 151.953 552.923 Q155.032 548.317 160.842 548.317 Z\" fill=\"#000000\" fill-rule=\"evenodd\" fill-opacity=\"1\" /><path clip-path=\"url(#clip940)\" d=\"M 0 0 M173.971 528.011 L188.886 528.011 L188.886 531.209 L177.45 531.209 L177.45 538.092 Q178.278 537.81 179.106 537.679 Q179.933 537.528 180.761 537.528 Q185.463 537.528 188.208 540.105 Q190.954 542.681 190.954 547.082 Q190.954 551.615 188.133 554.135 Q185.312 556.637 180.178 556.637 Q178.41 556.637 176.566 556.336 Q174.742 556.035 172.786 555.433 L172.786 551.615 Q174.479 552.537 176.284 552.988 Q178.09 553.439 180.102 553.439 Q183.356 553.439 185.256 551.728 Q187.155 550.016 187.155 547.082 Q187.155 544.148 185.256 542.437 Q183.356 540.725 180.102 540.725 Q178.579 540.725 177.055 541.064 Q175.551 541.403 173.971 542.117 L173.971 528.011 Z\" fill=\"#000000\" fill-rule=\"evenodd\" fill-opacity=\"1\" /><path clip-path=\"url(#clip940)\" d=\"M 0 0 M77.1616 257.701 L65.3561 276.15 L77.1616 276.15 L77.1616 257.701 M75.9348 253.627 L81.8144 253.627 L81.8144 276.15 L86.7449 276.15 L86.7449 280.039 L81.8144 280.039 L81.8144 288.187 L77.1616 288.187 L77.1616 280.039 L61.5598 280.039 L61.5598 275.525 L75.9348 253.627 Z\" fill=\"#000000\" fill-rule=\"evenodd\" fill-opacity=\"1\" /><path clip-path=\"url(#clip940)\" d=\"M 0 0 M119.985 262.724 L109.407 273.349 L119.985 283.928 L117.231 286.729 L106.606 276.104 L95.981 286.729 L93.2495 283.928 L103.805 273.349 L93.2495 262.724 L95.981 259.923 L106.606 270.548 L117.231 259.923 L119.985 262.724 Z\" fill=\"#000000\" fill-rule=\"evenodd\" fill-opacity=\"1\" /><path clip-path=\"url(#clip940)\" d=\"M 0 0 M125.865 284.252 L133.504 284.252 L133.504 257.886 L125.194 259.553 L125.194 255.294 L133.458 253.627 L138.134 253.627 L138.134 284.252 L145.772 284.252 L145.772 288.187 L125.865 288.187 L125.865 284.252 Z\" fill=\"#000000\" fill-rule=\"evenodd\" fill-opacity=\"1\" /><path clip-path=\"url(#clip940)\" d=\"M 0 0 M160.842 256.706 Q157.231 256.706 155.402 260.27 Q153.596 263.812 153.596 270.942 Q153.596 278.048 155.402 281.613 Q157.231 285.155 160.842 285.155 Q164.476 285.155 166.282 281.613 Q168.11 278.048 168.11 270.942 Q168.11 263.812 166.282 260.27 Q164.476 256.706 160.842 256.706 M160.842 253.002 Q166.652 253.002 169.707 257.608 Q172.786 262.192 172.786 270.942 Q172.786 279.668 169.707 284.275 Q166.652 288.858 160.842 288.858 Q155.032 288.858 151.953 284.275 Q148.897 279.668 148.897 270.942 Q148.897 262.192 151.953 257.608 Q155.032 253.002 160.842 253.002 Z\" fill=\"#000000\" fill-rule=\"evenodd\" fill-opacity=\"1\" /><path clip-path=\"url(#clip940)\" d=\"M 0 0 M173.971 232.697 L188.886 232.697 L188.886 235.894 L177.45 235.894 L177.45 242.778 Q178.278 242.495 179.106 242.364 Q179.933 242.213 180.761 242.213 Q185.463 242.213 188.208 244.79 Q190.954 247.367 190.954 251.768 Q190.954 256.3 188.133 258.821 Q185.312 261.322 180.178 261.322 Q178.41 261.322 176.566 261.021 Q174.742 260.72 172.786 260.118 L172.786 256.3 Q174.479 257.222 176.284 257.673 Q178.09 258.125 180.102 258.125 Q183.356 258.125 185.256 256.413 Q187.155 254.702 187.155 251.768 Q187.155 248.834 185.256 247.122 Q183.356 245.411 180.102 245.411 Q178.579 245.411 177.055 245.749 Q175.551 246.088 173.971 246.802 L173.971 232.697 Z\" fill=\"#000000\" fill-rule=\"evenodd\" fill-opacity=\"1\" /><polyline clip-path=\"url(#clip942)\" style=\"stroke:#009af9; stroke-width:4; stroke-opacity:1; fill:none\" points=\"\n",
       "  275.458,1445.72 289.367,1445.72 303.276,1445.72 317.185,1445.71 331.094,1445.71 345.003,1445.7 358.912,1445.68 372.821,1445.67 386.73,1445.65 400.639,1445.61 \n",
       "  414.547,1445.57 428.456,1445.54 442.365,1445.54 456.274,1445.38 470.183,1445.28 484.092,1445.12 498.001,1445.01 511.91,1444.91 525.819,1444.53 539.728,1444.08 \n",
       "  553.637,1443.62 567.546,1442.98 581.455,1442.26 595.363,1442.21 609.272,1441.94 623.181,1441.8 637.09,1441.72 650.999,1441.64 664.908,1441.4 678.817,1441.27 \n",
       "  692.726,1441.04 706.635,1440.83 720.544,1440.74 734.453,1440.55 748.362,1440.27 762.271,1440.01 776.179,1439.8 790.088,1439.73 803.997,1439.3 817.906,1439.01 \n",
       "  831.815,1438.59 845.724,1438.32 859.633,1438.03 873.542,1437.5 887.451,1436.76 901.36,1436.39 915.269,1435.97 929.178,1435.49 943.087,1434.98 956.995,1434.04 \n",
       "  970.904,1433.26 984.813,1432.84 998.722,1432.29 1012.63,1431.56 1026.54,1430.96 1040.45,1429.92 1054.36,1429.04 1068.27,1428.14 1082.18,1427.01 1096.08,1425.69 \n",
       "  1109.99,1424.4 1123.9,1423.36 1137.81,1422.66 1151.72,1421.41 1165.63,1419.45 1179.54,1417.9 1193.45,1416.14 1207.36,1414.26 1221.26,1412.2 1235.17,1410.06 \n",
       "  1249.08,1408.1 1262.99,1405.78 1276.9,1403.33 1290.81,1399.9 1304.72,1397.19 1318.63,1394.92 1332.54,1392.55 1346.45,1389.2 1360.35,1386.29 1374.26,1382.69 \n",
       "  1388.17,1379.03 1402.08,1375.98 1415.99,1374.06 1429.9,1369.12 1443.81,1364.79 1457.72,1359.37 1471.63,1354.27 1485.53,1349.2 1499.44,1344.26 1513.35,1339.96 \n",
       "  1527.26,1334.9 1541.17,1325.25 1555.08,1317.45 1568.99,1309.95 1582.9,1303.13 1596.81,1295.47 1610.71,1289.23 1624.62,1282.05 1638.53,1272.76 1652.44,1262.84 \n",
       "  1666.35,1251.59 1680.26,1238.89 1694.17,1228.56 1708.08,1220.29 1721.99,1208.25 1735.9,1197.98 1749.8,1186.68 1763.71,1172.02 1777.62,1158.37 1791.53,1145.71 \n",
       "  1805.44,1132.37 1819.35,1115.57 1833.26,1096.14 1847.17,1077.79 1861.08,1056.49 1874.98,1037.79 1888.89,1019.69 1902.8,999.176 1916.71,975.185 1930.62,949.41 \n",
       "  1944.53,922.645 1958.44,890.595 1972.35,864.687 1986.26,838.194 2000.16,808.267 2014.07,782.25 2027.98,741.868 2041.89,705.403 2055.8,665.544 2069.71,629.935 \n",
       "  2083.62,595.814 2097.53,564.818 2111.44,527.145 2125.35,488.246 2139.25,448.754 2153.16,409.521 2167.07,369.804 2180.98,342.34 2194.89,318.213 2208.8,279.379 \n",
       "  2222.71,240.681 2236.62,199.502 2250.53,163.462 2264.43,130.289 2278.34,109.333 2292.25,87.9763 \n",
       "  \"/>\n",
       "<path clip-path=\"url(#clip940)\" d=\"\n",
       "M1989.74 251.724 L2280.76 251.724 L2280.76 130.764 L1989.74 130.764  Z\n",
       "  \" fill=\"#ffffff\" fill-rule=\"evenodd\" fill-opacity=\"1\"/>\n",
       "<polyline clip-path=\"url(#clip940)\" style=\"stroke:#000000; stroke-width:4; stroke-opacity:1; fill:none\" points=\"\n",
       "  1989.74,251.724 2280.76,251.724 2280.76,130.764 1989.74,130.764 1989.74,251.724 \n",
       "  \"/>\n",
       "<polyline clip-path=\"url(#clip940)\" style=\"stroke:#009af9; stroke-width:4; stroke-opacity:1; fill:none\" points=\"\n",
       "  2013.74,191.244 2157.74,191.244 \n",
       "  \"/>\n",
       "<path clip-path=\"url(#clip940)\" d=\"M 0 0 M2195.58 210.931 Q2193.77 215.561 2192.06 216.973 Q2190.35 218.385 2187.48 218.385 L2184.08 218.385 L2184.08 214.82 L2186.58 214.82 Q2188.33 214.82 2189.31 213.987 Q2190.28 213.154 2191.46 210.052 L2192.22 208.107 L2181.74 182.598 L2186.25 182.598 L2194.35 202.876 L2202.46 182.598 L2206.97 182.598 L2195.58 210.931 Z\" fill=\"#000000\" fill-rule=\"evenodd\" fill-opacity=\"1\" /><path clip-path=\"url(#clip940)\" d=\"M 0 0 M2212.85 204.589 L2220.49 204.589 L2220.49 178.223 L2212.18 179.89 L2212.18 175.631 L2220.44 173.964 L2225.12 173.964 L2225.12 204.589 L2232.76 204.589 L2232.76 208.524 L2212.85 208.524 L2212.85 204.589 Z\" fill=\"#000000\" fill-rule=\"evenodd\" fill-opacity=\"1\" /></svg>\n"
      ]
     },
     "execution_count": 28,
     "metadata": {},
     "output_type": "execute_result"
    }
   ],
   "source": [
    "plot(sadata)"
   ]
  },
  {
   "cell_type": "code",
   "execution_count": 29,
   "metadata": {},
   "outputs": [
    {
     "data": {
      "text/plain": [
       "146-element Array{String,1}:\n",
       " \"3/5/20\"\n",
       " \"3/6/20\"\n",
       " \"3/7/20\"\n",
       " \"3/8/20\"\n",
       " \"3/9/20\"\n",
       " \"3/10/20\"\n",
       " \"3/11/20\"\n",
       " \"3/12/20\"\n",
       " \"3/13/20\"\n",
       " \"3/14/20\"\n",
       " \"3/15/20\"\n",
       " \"3/16/20\"\n",
       " \"3/17/20\"\n",
       " ⋮\n",
       " \"7/17/20\"\n",
       " \"7/18/20\"\n",
       " \"7/19/20\"\n",
       " \"7/20/20\"\n",
       " \"7/21/20\"\n",
       " \"7/22/20\"\n",
       " \"7/23/20\"\n",
       " \"7/24/20\"\n",
       " \"7/25/20\"\n",
       " \"7/26/20\"\n",
       " \"7/27/20\"\n",
       " \"7/28/20\""
      ]
     },
     "execution_count": 29,
     "metadata": {},
     "output_type": "execute_result"
    }
   ],
   "source": [
    "confirmeddate = String.(names(datacopy))[48:end] # apply STring function to each element"
   ]
  },
  {
   "cell_type": "markdown",
   "metadata": {},
   "source": [
    "Parse: convert string representation into a Julia object:"
   ]
  },
  {
   "cell_type": "code",
   "execution_count": 30,
   "metadata": {},
   "outputs": [
    {
     "data": {
      "text/plain": [
       "\"3/5/20\""
      ]
     },
     "execution_count": 30,
     "metadata": {},
     "output_type": "execute_result"
    }
   ],
   "source": [
    "confirmeddate[1]"
   ]
  },
  {
   "cell_type": "markdown",
   "metadata": {},
   "source": [
    "using Dates which comes with Julia"
   ]
  },
  {
   "cell_type": "code",
   "execution_count": 31,
   "metadata": {},
   "outputs": [
    {
     "data": {
      "text/plain": [
       "dateformat\"m/d/y\""
      ]
     },
     "execution_count": 31,
     "metadata": {},
     "output_type": "execute_result"
    }
   ],
   "source": [
    "format = Dates.DateFormat(\"m/d/y\") #Month, Date, Year"
   ]
  },
  {
   "cell_type": "code",
   "execution_count": 32,
   "metadata": {},
   "outputs": [
    {
     "data": {
      "text/plain": [
       "2020-03-05"
      ]
     },
     "execution_count": 32,
     "metadata": {},
     "output_type": "execute_result"
    }
   ],
   "source": [
    "parse(Date, confirmeddate[1], format) + Year(2000)"
   ]
  },
  {
   "cell_type": "code",
   "execution_count": 33,
   "metadata": {},
   "outputs": [
    {
     "data": {
      "text/plain": [
       "146-element Array{Date,1}:\n",
       " 2020-03-05\n",
       " 2020-03-06\n",
       " 2020-03-07\n",
       " 2020-03-08\n",
       " 2020-03-09\n",
       " 2020-03-10\n",
       " 2020-03-11\n",
       " 2020-03-12\n",
       " 2020-03-13\n",
       " 2020-03-14\n",
       " 2020-03-15\n",
       " 2020-03-16\n",
       " 2020-03-17\n",
       " ⋮\n",
       " 2020-07-17\n",
       " 2020-07-18\n",
       " 2020-07-19\n",
       " 2020-07-20\n",
       " 2020-07-21\n",
       " 2020-07-22\n",
       " 2020-07-23\n",
       " 2020-07-24\n",
       " 2020-07-25\n",
       " 2020-07-26\n",
       " 2020-07-27\n",
       " 2020-07-28"
      ]
     },
     "execution_count": 33,
     "metadata": {},
     "output_type": "execute_result"
    }
   ],
   "source": [
    "confirmeddays = parse.(Date, confirmeddate, format) .+ Year(2000)"
   ]
  },
  {
   "cell_type": "markdown",
   "metadata": {},
   "source": [
    "Testing subjects:\n",
    "\n",
    "***plot(confirmeddays, sadata, label=\"time line\", #xticks=confirmed_days[1:14:end], xrotation=45, leg=:topleft)***\n",
    "\n",
    "***scatter!(confirmeddays, sadata, label=\"confirmed days\")***"
   ]
  },
  {
   "cell_type": "markdown",
   "metadata": {},
   "source": [
    "Straight line on semi-log means ***exponential growth***"
   ]
  },
  {
   "cell_type": "code",
   "execution_count": 34,
   "metadata": {},
   "outputs": [
    {
     "data": {
      "image/svg+xml": [
       "<?xml version=\"1.0\" encoding=\"utf-8\"?>\n",
       "<svg xmlns=\"http://www.w3.org/2000/svg\" xmlns:xlink=\"http://www.w3.org/1999/xlink\" width=\"600\" height=\"400\" viewBox=\"0 0 2400 1600\">\n",
       "<defs>\n",
       "  <clipPath id=\"clip980\">\n",
       "    <rect x=\"0\" y=\"0\" width=\"2400\" height=\"1600\"/>\n",
       "  </clipPath>\n",
       "</defs>\n",
       "<path clip-path=\"url(#clip980)\" d=\"\n",
       "M0 1600 L2400 1600 L2400 0 L0 0  Z\n",
       "  \" fill=\"#ffffff\" fill-rule=\"evenodd\" fill-opacity=\"1\"/>\n",
       "<defs>\n",
       "  <clipPath id=\"clip981\">\n",
       "    <rect x=\"480\" y=\"0\" width=\"1681\" height=\"1600\"/>\n",
       "  </clipPath>\n",
       "</defs>\n",
       "<path clip-path=\"url(#clip980)\" d=\"\n",
       "M260.051 1263.94 L2352.76 1263.94 L2352.76 123.472 L260.051 123.472  Z\n",
       "  \" fill=\"#ffffff\" fill-rule=\"evenodd\" fill-opacity=\"1\"/>\n",
       "<defs>\n",
       "  <clipPath id=\"clip982\">\n",
       "    <rect x=\"260\" y=\"123\" width=\"2094\" height=\"1141\"/>\n",
       "  </clipPath>\n",
       "</defs>\n",
       "<polyline clip-path=\"url(#clip982)\" style=\"stroke:#000000; stroke-width:2; stroke-opacity:0.1; fill:none\" points=\"\n",
       "  319.279,1263.94 319.279,123.472 \n",
       "  \"/>\n",
       "<polyline clip-path=\"url(#clip982)\" style=\"stroke:#000000; stroke-width:2; stroke-opacity:0.1; fill:none\" points=\"\n",
       "  509.896,1263.94 509.896,123.472 \n",
       "  \"/>\n",
       "<polyline clip-path=\"url(#clip982)\" style=\"stroke:#000000; stroke-width:2; stroke-opacity:0.1; fill:none\" points=\"\n",
       "  700.513,1263.94 700.513,123.472 \n",
       "  \"/>\n",
       "<polyline clip-path=\"url(#clip982)\" style=\"stroke:#000000; stroke-width:2; stroke-opacity:0.1; fill:none\" points=\"\n",
       "  891.13,1263.94 891.13,123.472 \n",
       "  \"/>\n",
       "<polyline clip-path=\"url(#clip982)\" style=\"stroke:#000000; stroke-width:2; stroke-opacity:0.1; fill:none\" points=\"\n",
       "  1081.75,1263.94 1081.75,123.472 \n",
       "  \"/>\n",
       "<polyline clip-path=\"url(#clip982)\" style=\"stroke:#000000; stroke-width:2; stroke-opacity:0.1; fill:none\" points=\"\n",
       "  1272.36,1263.94 1272.36,123.472 \n",
       "  \"/>\n",
       "<polyline clip-path=\"url(#clip982)\" style=\"stroke:#000000; stroke-width:2; stroke-opacity:0.1; fill:none\" points=\"\n",
       "  1462.98,1263.94 1462.98,123.472 \n",
       "  \"/>\n",
       "<polyline clip-path=\"url(#clip982)\" style=\"stroke:#000000; stroke-width:2; stroke-opacity:0.1; fill:none\" points=\"\n",
       "  1653.6,1263.94 1653.6,123.472 \n",
       "  \"/>\n",
       "<polyline clip-path=\"url(#clip982)\" style=\"stroke:#000000; stroke-width:2; stroke-opacity:0.1; fill:none\" points=\"\n",
       "  1844.22,1263.94 1844.22,123.472 \n",
       "  \"/>\n",
       "<polyline clip-path=\"url(#clip982)\" style=\"stroke:#000000; stroke-width:2; stroke-opacity:0.1; fill:none\" points=\"\n",
       "  2034.83,1263.94 2034.83,123.472 \n",
       "  \"/>\n",
       "<polyline clip-path=\"url(#clip982)\" style=\"stroke:#000000; stroke-width:2; stroke-opacity:0.1; fill:none\" points=\"\n",
       "  2225.45,1263.94 2225.45,123.472 \n",
       "  \"/>\n",
       "<polyline clip-path=\"url(#clip982)\" style=\"stroke:#000000; stroke-width:2; stroke-opacity:0.1; fill:none\" points=\"\n",
       "  260.051,1231.66 2352.76,1231.66 \n",
       "  \"/>\n",
       "<polyline clip-path=\"url(#clip982)\" style=\"stroke:#000000; stroke-width:2; stroke-opacity:0.1; fill:none\" points=\"\n",
       "  260.051,1041.65 2352.76,1041.65 \n",
       "  \"/>\n",
       "<polyline clip-path=\"url(#clip982)\" style=\"stroke:#000000; stroke-width:2; stroke-opacity:0.1; fill:none\" points=\"\n",
       "  260.051,851.649 2352.76,851.649 \n",
       "  \"/>\n",
       "<polyline clip-path=\"url(#clip982)\" style=\"stroke:#000000; stroke-width:2; stroke-opacity:0.1; fill:none\" points=\"\n",
       "  260.051,661.644 2352.76,661.644 \n",
       "  \"/>\n",
       "<polyline clip-path=\"url(#clip982)\" style=\"stroke:#000000; stroke-width:2; stroke-opacity:0.1; fill:none\" points=\"\n",
       "  260.051,471.639 2352.76,471.639 \n",
       "  \"/>\n",
       "<polyline clip-path=\"url(#clip982)\" style=\"stroke:#000000; stroke-width:2; stroke-opacity:0.1; fill:none\" points=\"\n",
       "  260.051,281.634 2352.76,281.634 \n",
       "  \"/>\n",
       "<polyline clip-path=\"url(#clip980)\" style=\"stroke:#000000; stroke-width:4; stroke-opacity:1; fill:none\" points=\"\n",
       "  260.051,1263.94 2352.76,1263.94 \n",
       "  \"/>\n",
       "<polyline clip-path=\"url(#clip980)\" style=\"stroke:#000000; stroke-width:4; stroke-opacity:1; fill:none\" points=\"\n",
       "  260.051,1263.94 260.051,123.472 \n",
       "  \"/>\n",
       "<polyline clip-path=\"url(#clip980)\" style=\"stroke:#000000; stroke-width:4; stroke-opacity:1; fill:none\" points=\"\n",
       "  319.279,1263.94 319.279,1250.25 \n",
       "  \"/>\n",
       "<polyline clip-path=\"url(#clip980)\" style=\"stroke:#000000; stroke-width:4; stroke-opacity:1; fill:none\" points=\"\n",
       "  509.896,1263.94 509.896,1250.25 \n",
       "  \"/>\n",
       "<polyline clip-path=\"url(#clip980)\" style=\"stroke:#000000; stroke-width:4; stroke-opacity:1; fill:none\" points=\"\n",
       "  700.513,1263.94 700.513,1250.25 \n",
       "  \"/>\n",
       "<polyline clip-path=\"url(#clip980)\" style=\"stroke:#000000; stroke-width:4; stroke-opacity:1; fill:none\" points=\"\n",
       "  891.13,1263.94 891.13,1250.25 \n",
       "  \"/>\n",
       "<polyline clip-path=\"url(#clip980)\" style=\"stroke:#000000; stroke-width:4; stroke-opacity:1; fill:none\" points=\"\n",
       "  1081.75,1263.94 1081.75,1250.25 \n",
       "  \"/>\n",
       "<polyline clip-path=\"url(#clip980)\" style=\"stroke:#000000; stroke-width:4; stroke-opacity:1; fill:none\" points=\"\n",
       "  1272.36,1263.94 1272.36,1250.25 \n",
       "  \"/>\n",
       "<polyline clip-path=\"url(#clip980)\" style=\"stroke:#000000; stroke-width:4; stroke-opacity:1; fill:none\" points=\"\n",
       "  1462.98,1263.94 1462.98,1250.25 \n",
       "  \"/>\n",
       "<polyline clip-path=\"url(#clip980)\" style=\"stroke:#000000; stroke-width:4; stroke-opacity:1; fill:none\" points=\"\n",
       "  1653.6,1263.94 1653.6,1250.25 \n",
       "  \"/>\n",
       "<polyline clip-path=\"url(#clip980)\" style=\"stroke:#000000; stroke-width:4; stroke-opacity:1; fill:none\" points=\"\n",
       "  1844.22,1263.94 1844.22,1250.25 \n",
       "  \"/>\n",
       "<polyline clip-path=\"url(#clip980)\" style=\"stroke:#000000; stroke-width:4; stroke-opacity:1; fill:none\" points=\"\n",
       "  2034.83,1263.94 2034.83,1250.25 \n",
       "  \"/>\n",
       "<polyline clip-path=\"url(#clip980)\" style=\"stroke:#000000; stroke-width:4; stroke-opacity:1; fill:none\" points=\"\n",
       "  2225.45,1263.94 2225.45,1250.25 \n",
       "  \"/>\n",
       "<polyline clip-path=\"url(#clip980)\" style=\"stroke:#000000; stroke-width:4; stroke-opacity:1; fill:none\" points=\"\n",
       "  260.051,1231.66 285.164,1231.66 \n",
       "  \"/>\n",
       "<polyline clip-path=\"url(#clip980)\" style=\"stroke:#000000; stroke-width:4; stroke-opacity:1; fill:none\" points=\"\n",
       "  260.051,1041.65 285.164,1041.65 \n",
       "  \"/>\n",
       "<polyline clip-path=\"url(#clip980)\" style=\"stroke:#000000; stroke-width:4; stroke-opacity:1; fill:none\" points=\"\n",
       "  260.051,851.649 285.164,851.649 \n",
       "  \"/>\n",
       "<polyline clip-path=\"url(#clip980)\" style=\"stroke:#000000; stroke-width:4; stroke-opacity:1; fill:none\" points=\"\n",
       "  260.051,661.644 285.164,661.644 \n",
       "  \"/>\n",
       "<polyline clip-path=\"url(#clip980)\" style=\"stroke:#000000; stroke-width:4; stroke-opacity:1; fill:none\" points=\"\n",
       "  260.051,471.639 285.164,471.639 \n",
       "  \"/>\n",
       "<polyline clip-path=\"url(#clip980)\" style=\"stroke:#000000; stroke-width:4; stroke-opacity:1; fill:none\" points=\"\n",
       "  260.051,281.634 285.164,281.634 \n",
       "  \"/>\n",
       "<path clip-path=\"url(#clip980)\" d=\"M 0 0 M181.944 1466.36 L193.483 1454.82 L196.266 1457.6 L180.749 1473.12 L177.966 1470.33 Q177.901 1466.5 177.868 1459.99 Q177.835 1453.44 177.721 1451.66 Q177.524 1448.29 176.919 1446.44 Q176.313 1444.55 175.118 1443.36 Q173.17 1441.41 170.568 1441.56 Q167.982 1441.69 165.788 1443.88 Q164.233 1445.44 163.038 1447.71 Q161.86 1449.97 160.992 1453.03 L157.653 1449.69 Q158.848 1446.9 160.174 1444.75 Q161.5 1442.61 162.94 1441.17 Q166.738 1437.37 170.895 1437.01 Q175.053 1436.65 178.228 1439.82 Q179.734 1441.33 180.52 1443.26 Q181.305 1445.16 181.649 1448.48 Q181.714 1449.37 181.796 1453.84 Q181.862 1458.29 181.944 1466.36 Z\" fill=\"#000000\" fill-rule=\"evenodd\" fill-opacity=\"1\" /><path clip-path=\"url(#clip980)\" d=\"M 0 0 M184.661 1424.68 Q182.107 1427.24 183.335 1431.05 Q184.563 1434.83 189.604 1439.87 Q194.629 1444.9 198.426 1446.14 Q202.224 1447.35 204.777 1444.8 Q207.347 1442.23 206.119 1438.45 Q204.892 1434.64 199.867 1429.61 Q194.825 1424.57 191.028 1423.36 Q187.231 1422.11 184.661 1424.68 M182.042 1422.06 Q186.15 1417.96 191.568 1419.05 Q196.986 1420.12 203.173 1426.3 Q209.344 1432.48 210.424 1437.91 Q211.504 1443.31 207.396 1447.42 Q203.288 1451.53 197.87 1450.46 Q192.452 1449.37 186.281 1443.2 Q180.094 1437.01 179.014 1431.61 Q177.933 1426.17 182.042 1422.06 Z\" fill=\"#000000\" fill-rule=\"evenodd\" fill-opacity=\"1\" /><path clip-path=\"url(#clip980)\" d=\"M 0 0 M219.017 1429.28 L230.557 1417.74 L233.34 1420.53 L217.823 1436.04 L215.04 1433.26 Q214.974 1429.43 214.942 1422.92 Q214.909 1416.37 214.794 1414.58 Q214.598 1411.21 213.992 1409.36 Q213.387 1407.48 212.192 1406.29 Q210.244 1404.34 207.642 1404.49 Q205.055 1404.62 202.862 1406.81 Q201.307 1408.36 200.112 1410.64 Q198.934 1412.9 198.066 1415.96 L194.727 1412.62 Q195.922 1409.82 197.248 1407.68 Q198.574 1405.53 200.014 1404.09 Q203.811 1400.3 207.969 1399.94 Q212.126 1399.58 215.302 1402.75 Q216.808 1404.26 217.593 1406.19 Q218.379 1408.09 218.723 1411.41 Q218.788 1412.29 218.87 1416.76 Q218.936 1421.21 219.017 1429.28 Z\" fill=\"#000000\" fill-rule=\"evenodd\" fill-opacity=\"1\" /><path clip-path=\"url(#clip980)\" d=\"M 0 0 M221.735 1387.61 Q219.181 1390.16 220.409 1393.98 Q221.636 1397.76 226.678 1402.8 Q231.703 1407.82 235.5 1409.07 Q239.298 1410.28 241.851 1407.73 Q244.421 1405.16 243.193 1401.38 Q241.966 1397.56 236.941 1392.54 Q231.899 1387.5 228.102 1386.28 Q224.304 1385.04 221.735 1387.61 M219.116 1384.99 Q223.224 1380.88 228.642 1381.98 Q234.06 1383.04 240.247 1389.23 Q246.418 1395.4 247.498 1400.84 Q248.578 1406.24 244.47 1410.35 Q240.361 1414.45 234.944 1413.39 Q229.526 1412.29 223.355 1406.12 Q217.168 1399.94 216.088 1394.53 Q215.007 1389.1 219.116 1384.99 Z\" fill=\"#000000\" fill-rule=\"evenodd\" fill-opacity=\"1\" /><path clip-path=\"url(#clip980)\" d=\"M 0 0 M243.553 1389.26 L252.376 1380.44 L255.06 1383.13 L246.238 1391.95 L243.553 1389.26 Z\" fill=\"#000000\" fill-rule=\"evenodd\" fill-opacity=\"1\" /><path clip-path=\"url(#clip980)\" d=\"M 0 0 M251.295 1358.05 Q248.742 1360.6 249.97 1364.42 Q251.197 1368.2 256.239 1373.24 Q261.264 1378.26 265.061 1379.51 Q268.858 1380.72 271.412 1378.17 Q273.982 1375.6 272.754 1371.81 Q271.526 1368 266.501 1362.98 Q261.46 1357.93 257.663 1356.72 Q253.865 1355.48 251.295 1358.05 M248.676 1355.43 Q252.785 1351.32 258.203 1352.42 Q263.621 1353.48 269.808 1359.67 Q275.978 1365.84 277.059 1371.27 Q278.139 1376.68 274.031 1380.78 Q269.922 1384.89 264.504 1383.83 Q259.087 1382.73 252.916 1376.56 Q246.729 1370.37 245.648 1364.97 Q244.568 1359.54 248.676 1355.43 Z\" fill=\"#000000\" fill-rule=\"evenodd\" fill-opacity=\"1\" /><path clip-path=\"url(#clip980)\" d=\"M 0 0 M282.428 1345.09 Q285.308 1343.22 288.238 1343.5 Q291.184 1343.76 293.541 1346.12 Q297.159 1349.73 296.651 1354.2 Q296.144 1358.67 291.561 1363.25 Q290.022 1364.79 288.075 1366.12 Q286.159 1367.44 283.819 1368.57 L280.627 1365.38 Q282.804 1364.81 284.85 1363.58 Q286.896 1362.35 288.68 1360.57 Q291.79 1357.46 292.183 1354.61 Q292.592 1351.75 290.251 1349.41 Q288.091 1347.25 285.357 1347.56 Q282.624 1347.84 279.923 1350.54 L277.075 1353.38 L274.358 1350.67 L277.337 1347.69 Q279.776 1345.25 280.103 1342.99 Q280.414 1340.72 278.581 1338.88 Q276.699 1337 274.358 1337.34 Q272.017 1337.65 269.529 1340.14 Q268.171 1341.5 266.911 1343.35 Q265.65 1345.2 264.406 1347.69 L261.46 1344.74 Q262.819 1342.34 264.193 1340.44 Q265.585 1338.52 267.041 1337.07 Q270.806 1333.3 274.718 1332.83 Q278.614 1332.33 281.527 1335.25 Q283.557 1337.28 283.802 1339.85 Q284.032 1342.4 282.428 1345.09 Z\" fill=\"#000000\" fill-rule=\"evenodd\" fill-opacity=\"1\" /><path clip-path=\"url(#clip980)\" d=\"M 0 0 M291.757 1341.06 L300.58 1332.24 L303.264 1334.92 L294.442 1343.74 L291.757 1341.06 Z\" fill=\"#000000\" fill-rule=\"evenodd\" fill-opacity=\"1\" /><path clip-path=\"url(#clip980)\" d=\"M 0 0 M299.499 1309.85 Q296.946 1312.4 298.174 1316.21 Q299.401 1319.99 304.443 1325.03 Q309.468 1330.06 313.265 1331.3 Q317.062 1332.51 319.616 1329.96 Q322.186 1327.39 320.958 1323.61 Q319.73 1319.8 314.705 1314.77 Q309.664 1309.73 305.867 1308.52 Q302.069 1307.28 299.499 1309.85 M296.881 1307.23 Q300.989 1303.12 306.407 1304.21 Q311.825 1305.28 318.012 1311.47 Q324.183 1317.64 325.263 1323.07 Q326.343 1328.47 322.235 1332.58 Q318.126 1336.69 312.709 1335.62 Q307.291 1334.53 301.12 1328.36 Q294.933 1322.17 293.852 1316.77 Q292.772 1311.33 296.881 1307.23 Z\" fill=\"#000000\" fill-rule=\"evenodd\" fill-opacity=\"1\" /><path clip-path=\"url(#clip980)\" d=\"M 0 0 M309.386 1295.6 L322.366 1282.62 L325.148 1285.41 L315.197 1295.36 L321.187 1301.35 Q321.662 1300.38 322.268 1299.55 Q322.857 1298.7 323.577 1297.98 Q327.669 1293.89 332.301 1293.74 Q336.933 1293.59 340.764 1297.42 Q344.708 1301.37 344.446 1306.01 Q344.168 1310.65 339.7 1315.12 Q338.161 1316.65 336.295 1318 Q334.445 1319.32 332.219 1320.5 L328.897 1317.18 Q331.172 1316.51 333.136 1315.33 Q335.1 1314.15 336.852 1312.4 Q339.683 1309.57 339.847 1306.42 Q340.011 1303.28 337.457 1300.73 Q334.904 1298.17 331.761 1298.34 Q328.618 1298.5 325.787 1301.33 Q324.461 1302.66 323.43 1304.28 Q322.415 1305.88 321.662 1307.88 L309.386 1295.6 Z\" fill=\"#000000\" fill-rule=\"evenodd\" fill-opacity=\"1\" /><path clip-path=\"url(#clip980)\" d=\"M 0 0 M372.855 1466.06 L384.395 1454.52 L387.178 1457.31 L371.661 1472.82 L368.878 1470.04 Q368.813 1466.21 368.78 1459.7 Q368.747 1453.15 368.632 1451.36 Q368.436 1447.99 367.83 1446.14 Q367.225 1444.26 366.03 1443.07 Q364.082 1441.12 361.48 1441.26 Q358.893 1441.4 356.7 1443.59 Q355.145 1445.14 353.95 1447.42 Q352.772 1449.68 351.904 1452.74 L348.565 1449.4 Q349.76 1446.6 351.086 1444.46 Q352.412 1442.31 353.852 1440.87 Q357.649 1437.07 361.807 1436.71 Q365.964 1436.35 369.14 1439.53 Q370.646 1441.04 371.431 1442.97 Q372.217 1444.87 372.561 1448.19 Q372.626 1449.07 372.708 1453.54 Q372.774 1457.99 372.855 1466.06 Z\" fill=\"#000000\" fill-rule=\"evenodd\" fill-opacity=\"1\" /><path clip-path=\"url(#clip980)\" d=\"M 0 0 M375.573 1424.39 Q373.019 1426.94 374.247 1430.76 Q375.474 1434.54 380.516 1439.58 Q385.541 1444.6 389.338 1445.85 Q393.136 1447.06 395.689 1444.51 Q398.259 1441.94 397.031 1438.15 Q395.804 1434.34 390.779 1429.32 Q385.737 1424.27 381.94 1423.06 Q378.142 1421.82 375.573 1424.39 M372.954 1421.77 Q377.062 1417.66 382.48 1418.76 Q387.898 1419.82 394.085 1426.01 Q400.256 1432.18 401.336 1437.61 Q402.416 1443.02 398.308 1447.12 Q394.199 1451.23 388.782 1450.17 Q383.364 1449.07 377.193 1442.9 Q371.006 1436.71 369.926 1431.31 Q368.845 1425.88 372.954 1421.77 Z\" fill=\"#000000\" fill-rule=\"evenodd\" fill-opacity=\"1\" /><path clip-path=\"url(#clip980)\" d=\"M 0 0 M409.929 1428.99 L421.469 1417.45 L424.251 1420.23 L408.734 1435.75 L405.952 1432.97 Q405.886 1429.14 405.854 1422.62 Q405.821 1416.07 405.706 1414.29 Q405.51 1410.92 404.904 1409.07 Q404.299 1407.19 403.104 1405.99 Q401.156 1404.04 398.553 1404.19 Q395.967 1404.32 393.774 1406.52 Q392.219 1408.07 391.024 1410.35 Q389.846 1412.6 388.978 1415.67 L385.639 1412.33 Q386.834 1409.53 388.16 1407.38 Q389.485 1405.24 390.926 1403.8 Q394.723 1400 398.881 1399.64 Q403.038 1399.28 406.214 1402.46 Q407.72 1403.96 408.505 1405.89 Q409.291 1407.79 409.635 1411.11 Q409.7 1412 409.782 1416.47 Q409.847 1420.92 409.929 1428.99 Z\" fill=\"#000000\" fill-rule=\"evenodd\" fill-opacity=\"1\" /><path clip-path=\"url(#clip980)\" d=\"M 0 0 M412.646 1387.32 Q410.093 1389.87 411.321 1393.68 Q412.548 1397.46 417.59 1402.51 Q422.615 1407.53 426.412 1408.77 Q430.209 1409.99 432.763 1407.43 Q435.333 1404.86 434.105 1401.08 Q432.877 1397.27 427.852 1392.24 Q422.811 1387.2 419.014 1385.99 Q415.216 1384.75 412.646 1387.32 M410.027 1384.7 Q414.136 1380.59 419.554 1381.68 Q424.972 1382.75 431.159 1388.94 Q437.329 1395.11 438.41 1400.54 Q439.49 1405.94 435.382 1410.05 Q431.273 1414.16 425.855 1413.1 Q420.438 1412 414.267 1405.83 Q408.08 1399.64 406.999 1394.24 Q405.919 1388.8 410.027 1384.7 Z\" fill=\"#000000\" fill-rule=\"evenodd\" fill-opacity=\"1\" /><path clip-path=\"url(#clip980)\" d=\"M 0 0 M434.465 1388.97 L443.287 1380.15 L445.972 1382.83 L437.149 1391.65 L434.465 1388.97 Z\" fill=\"#000000\" fill-rule=\"evenodd\" fill-opacity=\"1\" /><path clip-path=\"url(#clip980)\" d=\"M 0 0 M442.207 1357.75 Q439.654 1360.31 440.881 1364.12 Q442.109 1367.9 447.15 1372.94 Q452.175 1377.97 455.973 1379.21 Q459.77 1380.42 462.324 1377.87 Q464.893 1375.3 463.666 1371.52 Q462.438 1367.71 457.413 1362.68 Q452.372 1357.64 448.574 1356.43 Q444.777 1355.18 442.207 1357.75 M439.588 1355.14 Q443.697 1351.03 449.115 1352.12 Q454.532 1353.19 460.72 1359.38 Q466.89 1365.55 467.971 1370.98 Q469.051 1376.38 464.943 1380.49 Q460.834 1384.6 455.416 1383.53 Q449.998 1382.44 443.828 1376.27 Q437.64 1370.08 436.56 1364.68 Q435.48 1359.24 439.588 1355.14 Z\" fill=\"#000000\" fill-rule=\"evenodd\" fill-opacity=\"1\" /><path clip-path=\"url(#clip980)\" d=\"M 0 0 M473.339 1344.79 Q476.22 1342.93 479.15 1343.2 Q482.096 1343.47 484.453 1345.82 Q488.071 1349.44 487.563 1353.91 Q487.056 1358.38 482.473 1362.96 Q480.934 1364.5 478.986 1365.82 Q477.071 1367.15 474.731 1368.28 L471.539 1365.09 Q473.716 1364.51 475.762 1363.29 Q477.808 1362.06 479.592 1360.28 Q482.702 1357.17 483.095 1354.32 Q483.504 1351.45 481.163 1349.11 Q479.003 1346.95 476.269 1347.26 Q473.536 1347.54 470.835 1350.24 L467.987 1353.09 L465.27 1350.37 L468.249 1347.39 Q470.688 1344.95 471.015 1342.7 Q471.326 1340.42 469.493 1338.59 Q467.611 1336.71 465.27 1337.05 Q462.929 1337.36 460.441 1339.85 Q459.083 1341.21 457.822 1343.06 Q456.562 1344.91 455.318 1347.39 L452.372 1344.45 Q453.73 1342.04 455.105 1340.14 Q456.497 1338.23 457.953 1336.77 Q461.718 1333.01 465.63 1332.53 Q469.526 1332.04 472.439 1334.95 Q474.469 1336.98 474.714 1339.55 Q474.943 1342.11 473.339 1344.79 Z\" fill=\"#000000\" fill-rule=\"evenodd\" fill-opacity=\"1\" /><path clip-path=\"url(#clip980)\" d=\"M 0 0 M482.669 1340.76 L491.492 1331.94 L494.176 1334.63 L485.354 1343.45 L482.669 1340.76 Z\" fill=\"#000000\" fill-rule=\"evenodd\" fill-opacity=\"1\" /><path clip-path=\"url(#clip980)\" d=\"M 0 0 M503.391 1335.53 L508.793 1330.13 L490.149 1311.48 L485.452 1318.54 L482.44 1315.52 L487.105 1308.5 L490.411 1305.2 L512.066 1326.85 L517.468 1321.45 L520.25 1324.23 L506.174 1338.31 L503.391 1335.53 Z\" fill=\"#000000\" fill-rule=\"evenodd\" fill-opacity=\"1\" /><path clip-path=\"url(#clip980)\" d=\"M 0 0 M523.426 1320.04 L520.414 1317.03 Q522.247 1316.38 523.835 1315.41 Q525.423 1314.44 526.65 1313.22 Q529.924 1309.94 529.449 1306.03 Q528.975 1302.09 524.735 1297.36 Q525.194 1299.71 524.49 1301.92 Q523.786 1304.13 522.018 1305.9 Q518.352 1309.57 513.998 1309.5 Q509.644 1309.4 505.797 1305.56 Q502.033 1301.79 501.984 1297.29 Q501.934 1292.79 505.634 1289.09 Q509.873 1284.85 515.356 1285.88 Q520.84 1286.88 527.027 1293.07 Q532.805 1298.85 533.509 1305.05 Q534.212 1311.22 529.58 1315.85 Q528.336 1317.1 526.814 1318.13 Q525.292 1319.16 523.426 1320.04 M519.645 1303.1 Q521.871 1300.88 521.642 1298.06 Q521.429 1295.23 518.777 1292.58 Q516.142 1289.94 513.31 1289.73 Q510.479 1289.48 508.253 1291.71 Q506.027 1293.94 506.256 1296.78 Q506.485 1299.6 509.12 1302.23 Q511.772 1304.89 514.587 1305.11 Q517.419 1305.33 519.645 1303.1 Z\" fill=\"#000000\" fill-rule=\"evenodd\" fill-opacity=\"1\" /><path clip-path=\"url(#clip980)\" d=\"M 0 0 M562.802 1466.73 L574.341 1455.19 L577.124 1457.98 L561.607 1473.49 L558.824 1470.71 Q558.759 1466.88 558.726 1460.37 Q558.693 1453.82 558.579 1452.03 Q558.382 1448.66 557.777 1446.81 Q557.171 1444.93 555.976 1443.74 Q554.028 1441.79 551.426 1441.94 Q548.84 1442.07 546.646 1444.26 Q545.091 1445.82 543.896 1448.09 Q542.718 1450.35 541.85 1453.41 L538.511 1450.07 Q539.706 1447.27 541.032 1445.13 Q542.358 1442.98 543.798 1441.54 Q547.596 1437.75 551.753 1437.39 Q555.911 1437.03 559.086 1440.2 Q560.592 1441.71 561.378 1443.64 Q562.163 1445.54 562.507 1448.86 Q562.572 1449.74 562.654 1454.21 Q562.72 1458.66 562.802 1466.73 Z\" fill=\"#000000\" fill-rule=\"evenodd\" fill-opacity=\"1\" /><path clip-path=\"url(#clip980)\" d=\"M 0 0 M565.519 1425.06 Q562.965 1427.61 564.193 1431.43 Q565.42 1435.21 570.462 1440.25 Q575.487 1445.27 579.284 1446.52 Q583.082 1447.73 585.635 1445.18 Q588.205 1442.61 586.977 1438.83 Q585.75 1435.01 580.725 1429.99 Q575.683 1424.95 571.886 1423.73 Q568.088 1422.49 565.519 1425.06 M562.9 1422.44 Q567.008 1418.33 572.426 1419.43 Q577.844 1420.49 584.031 1426.68 Q590.202 1432.85 591.282 1438.29 Q592.362 1443.69 588.254 1447.8 Q584.146 1451.9 578.728 1450.84 Q573.31 1449.74 567.139 1443.57 Q560.952 1437.39 559.872 1431.98 Q558.791 1426.55 562.9 1422.44 Z\" fill=\"#000000\" fill-rule=\"evenodd\" fill-opacity=\"1\" /><path clip-path=\"url(#clip980)\" d=\"M 0 0 M599.875 1429.66 L611.415 1418.12 L614.197 1420.9 L598.68 1436.42 L595.898 1433.64 Q595.832 1429.81 595.8 1423.29 Q595.767 1416.75 595.652 1414.96 Q595.456 1411.59 594.85 1409.74 Q594.245 1407.86 593.05 1406.66 Q591.102 1404.71 588.5 1404.86 Q585.913 1404.99 583.72 1407.19 Q582.165 1408.74 580.97 1411.02 Q579.792 1413.28 578.924 1416.34 L575.585 1413 Q576.78 1410.2 578.106 1408.05 Q579.432 1405.91 580.872 1404.47 Q584.669 1400.67 588.827 1400.31 Q592.984 1399.95 596.16 1403.13 Q597.666 1404.63 598.451 1406.56 Q599.237 1408.46 599.581 1411.79 Q599.646 1412.67 599.728 1417.14 Q599.794 1421.59 599.875 1429.66 Z\" fill=\"#000000\" fill-rule=\"evenodd\" fill-opacity=\"1\" /><path clip-path=\"url(#clip980)\" d=\"M 0 0 M602.592 1387.99 Q600.039 1390.54 601.267 1394.35 Q602.494 1398.13 607.536 1403.18 Q612.561 1408.2 616.358 1409.45 Q620.155 1410.66 622.709 1408.1 Q625.279 1405.53 624.051 1401.75 Q622.823 1397.94 617.798 1392.91 Q612.757 1387.87 608.96 1386.66 Q605.162 1385.42 602.592 1387.99 M599.974 1385.37 Q604.082 1381.26 609.5 1382.36 Q614.918 1383.42 621.105 1389.61 Q627.276 1395.78 628.356 1401.21 Q629.436 1406.61 625.328 1410.72 Q621.219 1414.83 615.802 1413.77 Q610.384 1412.67 604.213 1406.5 Q598.026 1400.31 596.945 1394.91 Q595.865 1389.48 599.974 1385.37 Z\" fill=\"#000000\" fill-rule=\"evenodd\" fill-opacity=\"1\" /><path clip-path=\"url(#clip980)\" d=\"M 0 0 M624.411 1389.64 L633.234 1380.82 L635.918 1383.5 L627.096 1392.32 L624.411 1389.64 Z\" fill=\"#000000\" fill-rule=\"evenodd\" fill-opacity=\"1\" /><path clip-path=\"url(#clip980)\" d=\"M 0 0 M632.153 1358.43 Q629.6 1360.98 630.827 1364.79 Q632.055 1368.57 637.096 1373.62 Q642.122 1378.64 645.919 1379.88 Q649.716 1381.1 652.27 1378.54 Q654.84 1375.97 653.612 1372.19 Q652.384 1368.38 647.359 1363.35 Q642.318 1358.31 638.521 1357.1 Q634.723 1355.86 632.153 1358.43 M629.534 1355.81 Q633.643 1351.7 639.061 1352.8 Q644.479 1353.86 650.666 1360.05 Q656.836 1366.22 657.917 1371.65 Q658.997 1377.05 654.889 1381.16 Q650.78 1385.27 645.362 1384.21 Q639.945 1383.11 633.774 1376.94 Q627.587 1370.75 626.506 1365.35 Q625.426 1359.92 629.534 1355.81 Z\" fill=\"#000000\" fill-rule=\"evenodd\" fill-opacity=\"1\" /><path clip-path=\"url(#clip980)\" d=\"M 0 0 M653.972 1338.01 L658.67 1359.41 L667.017 1351.06 L653.972 1338.01 M650.224 1336 L654.381 1331.84 L670.307 1347.77 L673.794 1344.28 L676.544 1347.03 L673.057 1350.52 L678.819 1356.28 L675.529 1359.57 L669.767 1353.81 L658.735 1364.84 L655.543 1361.65 L650.224 1336 Z\" fill=\"#000000\" fill-rule=\"evenodd\" fill-opacity=\"1\" /><path clip-path=\"url(#clip980)\" d=\"M 0 0 M673.417 1340.63 L682.24 1331.81 L684.924 1334.5 L676.102 1343.32 L673.417 1340.63 Z\" fill=\"#000000\" fill-rule=\"evenodd\" fill-opacity=\"1\" /><path clip-path=\"url(#clip980)\" d=\"M 0 0 M681.159 1309.42 Q678.606 1311.97 679.834 1315.79 Q681.061 1319.57 686.103 1324.61 Q691.128 1329.63 694.925 1330.88 Q698.722 1332.09 701.276 1329.54 Q703.846 1326.97 702.618 1323.19 Q701.39 1319.37 696.365 1314.35 Q691.324 1309.3 687.527 1308.09 Q683.729 1306.85 681.159 1309.42 M678.541 1306.8 Q682.649 1302.69 688.067 1303.79 Q693.485 1304.85 699.672 1311.04 Q705.843 1317.21 706.923 1322.64 Q708.003 1328.05 703.895 1332.15 Q699.786 1336.26 694.369 1335.2 Q688.951 1334.1 682.78 1327.93 Q676.593 1321.74 675.512 1316.34 Q674.432 1310.91 678.541 1306.8 Z\" fill=\"#000000\" fill-rule=\"evenodd\" fill-opacity=\"1\" /><path clip-path=\"url(#clip980)\" d=\"M 0 0 M715.516 1314.02 L727.056 1302.48 L729.838 1305.26 L714.321 1320.78 L711.539 1318 Q711.473 1314.17 711.441 1307.65 Q711.408 1301.1 711.293 1299.32 Q711.097 1295.95 710.491 1294.1 Q709.886 1292.22 708.691 1291.02 Q706.743 1289.07 704.14 1289.22 Q701.554 1289.35 699.361 1291.55 Q697.806 1293.1 696.611 1295.38 Q695.432 1297.63 694.565 1300.7 L691.226 1297.36 Q692.421 1294.56 693.747 1292.41 Q695.072 1290.27 696.513 1288.83 Q700.31 1285.03 704.468 1284.67 Q708.625 1284.31 711.801 1287.49 Q713.306 1288.99 714.092 1290.92 Q714.878 1292.82 715.222 1296.14 Q715.287 1297.03 715.369 1301.5 Q715.434 1305.95 715.516 1314.02 Z\" fill=\"#000000\" fill-rule=\"evenodd\" fill-opacity=\"1\" /><path clip-path=\"url(#clip980)\" d=\"M 0 0 M753.042 1467.11 L764.582 1455.57 L767.364 1458.35 L751.847 1473.87 L749.065 1471.09 Q748.999 1467.26 748.967 1460.74 Q748.934 1454.2 748.819 1452.41 Q748.623 1449.04 748.017 1447.19 Q747.412 1445.31 746.217 1444.11 Q744.269 1442.16 741.666 1442.31 Q739.08 1442.44 736.887 1444.64 Q735.332 1446.19 734.137 1448.47 Q732.959 1450.73 732.091 1453.79 L728.752 1450.45 Q729.947 1447.65 731.273 1445.5 Q732.599 1443.36 734.039 1441.92 Q737.836 1438.12 741.994 1437.76 Q746.151 1437.4 749.327 1440.58 Q750.833 1442.08 751.618 1444.01 Q752.404 1445.91 752.748 1449.24 Q752.813 1450.12 752.895 1454.59 Q752.96 1459.04 753.042 1467.11 Z\" fill=\"#000000\" fill-rule=\"evenodd\" fill-opacity=\"1\" /><path clip-path=\"url(#clip980)\" d=\"M 0 0 M755.759 1425.44 Q753.206 1427.99 754.434 1431.8 Q755.661 1435.59 760.703 1440.63 Q765.728 1445.65 769.525 1446.9 Q773.322 1448.11 775.876 1445.55 Q778.446 1442.98 777.218 1439.2 Q775.99 1435.39 770.965 1430.36 Q765.924 1425.32 762.127 1424.11 Q758.329 1422.87 755.759 1425.44 M753.141 1422.82 Q757.249 1418.71 762.667 1419.81 Q768.085 1420.87 774.272 1427.06 Q780.443 1433.23 781.523 1438.66 Q782.603 1444.06 778.495 1448.17 Q774.386 1452.28 768.968 1451.22 Q763.551 1450.12 757.38 1443.95 Q751.193 1437.76 750.112 1432.36 Q749.032 1426.93 753.141 1422.82 Z\" fill=\"#000000\" fill-rule=\"evenodd\" fill-opacity=\"1\" /><path clip-path=\"url(#clip980)\" d=\"M 0 0 M790.116 1430.04 L801.656 1418.5 L804.438 1421.28 L788.921 1436.8 L786.139 1434.01 Q786.073 1430.18 786.04 1423.67 Q786.008 1417.12 785.893 1415.34 Q785.697 1411.97 785.091 1410.12 Q784.485 1408.23 783.291 1407.04 Q781.343 1405.09 778.74 1405.24 Q776.154 1405.37 773.961 1407.56 Q772.406 1409.12 771.211 1411.39 Q770.032 1413.65 769.165 1416.71 L765.826 1413.37 Q767.021 1410.57 768.347 1408.43 Q769.672 1406.29 771.113 1404.85 Q774.91 1401.05 779.068 1400.69 Q783.225 1400.33 786.401 1403.5 Q787.906 1405.01 788.692 1406.94 Q789.478 1408.84 789.821 1412.16 Q789.887 1413.05 789.969 1417.51 Q790.034 1421.97 790.116 1430.04 Z\" fill=\"#000000\" fill-rule=\"evenodd\" fill-opacity=\"1\" /><path clip-path=\"url(#clip980)\" d=\"M 0 0 M792.833 1388.36 Q790.28 1390.92 791.507 1394.73 Q792.735 1398.51 797.776 1403.55 Q802.801 1408.58 806.599 1409.82 Q810.396 1411.03 812.95 1408.48 Q815.519 1405.91 814.292 1402.13 Q813.064 1398.31 808.039 1393.29 Q802.998 1388.25 799.2 1387.04 Q795.403 1385.79 792.833 1388.36 M790.214 1385.74 Q794.323 1381.64 799.741 1382.73 Q805.158 1383.8 811.346 1389.98 Q817.516 1396.15 818.597 1401.59 Q819.677 1406.99 815.569 1411.1 Q811.46 1415.21 806.042 1414.14 Q800.624 1413.05 794.454 1406.88 Q788.267 1400.69 787.186 1395.29 Q786.106 1389.85 790.214 1385.74 Z\" fill=\"#000000\" fill-rule=\"evenodd\" fill-opacity=\"1\" /><path clip-path=\"url(#clip980)\" d=\"M 0 0 M814.652 1390.02 L823.474 1381.19 L826.159 1383.88 L817.336 1392.7 L814.652 1390.02 Z\" fill=\"#000000\" fill-rule=\"evenodd\" fill-opacity=\"1\" /><path clip-path=\"url(#clip980)\" d=\"M 0 0 M822.394 1358.8 Q819.841 1361.36 821.068 1365.17 Q822.296 1368.95 827.337 1373.99 Q832.362 1379.02 836.16 1380.26 Q839.957 1381.47 842.51 1378.92 Q845.08 1376.35 843.853 1372.57 Q842.625 1368.75 837.6 1363.73 Q832.559 1358.69 828.761 1357.48 Q824.964 1356.23 822.394 1358.8 M819.775 1356.18 Q823.884 1352.07 829.301 1353.17 Q834.719 1354.24 840.906 1360.42 Q847.077 1366.59 848.157 1372.03 Q849.238 1377.43 845.129 1381.54 Q841.021 1385.65 835.603 1384.58 Q830.185 1383.49 824.015 1377.31 Q817.827 1371.13 816.747 1365.73 Q815.667 1360.29 819.775 1356.18 Z\" fill=\"#000000\" fill-rule=\"evenodd\" fill-opacity=\"1\" /><path clip-path=\"url(#clip980)\" d=\"M 0 0 M844.213 1338.39 L848.91 1359.78 L857.258 1351.44 L844.213 1338.39 M840.464 1336.38 L844.622 1332.22 L860.548 1348.15 L864.035 1344.66 L866.784 1347.41 L863.298 1350.9 L869.06 1356.66 L865.77 1359.95 L860.008 1354.19 L848.976 1365.22 L845.784 1362.03 L840.464 1336.38 Z\" fill=\"#000000\" fill-rule=\"evenodd\" fill-opacity=\"1\" /><path clip-path=\"url(#clip980)\" d=\"M 0 0 M863.658 1341.01 L872.481 1332.19 L875.165 1334.87 L866.342 1343.69 L863.658 1341.01 Z\" fill=\"#000000\" fill-rule=\"evenodd\" fill-opacity=\"1\" /><path clip-path=\"url(#clip980)\" d=\"M 0 0 M884.38 1335.77 L889.782 1330.37 L871.138 1311.73 L866.441 1318.78 L863.429 1315.77 L868.094 1308.75 L871.4 1305.44 L893.055 1327.1 L898.457 1321.7 L901.239 1324.48 L887.163 1338.55 L884.38 1335.77 Z\" fill=\"#000000\" fill-rule=\"evenodd\" fill-opacity=\"1\" /><path clip-path=\"url(#clip980)\" d=\"M 0 0 M898.768 1299.88 Q896.542 1302.1 896.754 1304.93 Q896.984 1307.75 899.635 1310.4 Q902.271 1313.04 905.102 1313.28 Q907.934 1313.5 910.16 1311.27 Q912.386 1309.04 912.157 1306.23 Q911.928 1303.38 909.292 1300.74 Q906.641 1298.09 903.809 1297.88 Q900.994 1297.65 898.768 1299.88 M894.97 1282.95 L897.982 1285.96 Q896.149 1286.62 894.561 1287.58 Q892.99 1288.53 891.746 1289.78 Q888.472 1293.05 888.947 1297 Q889.438 1300.92 893.661 1305.64 Q893.203 1303.25 893.906 1301.04 Q894.594 1298.81 896.345 1297.06 Q900.028 1293.38 904.398 1293.49 Q908.769 1293.58 912.615 1297.42 Q916.38 1301.19 916.429 1305.69 Q916.478 1310.19 912.779 1313.89 Q908.539 1318.13 903.056 1317.13 Q897.556 1316.11 891.386 1309.94 Q885.591 1304.15 884.904 1297.96 Q884.2 1291.76 888.832 1287.13 Q890.076 1285.88 891.582 1284.87 Q893.104 1283.84 894.97 1282.95 Z\" fill=\"#000000\" fill-rule=\"evenodd\" fill-opacity=\"1\" /><path clip-path=\"url(#clip980)\" d=\"M 0 0 M943.365 1467.4 L954.904 1455.87 L957.687 1458.65 L942.17 1474.16 L939.387 1471.38 Q939.322 1467.55 939.289 1461.04 Q939.256 1454.49 939.142 1452.71 Q938.946 1449.33 938.34 1447.48 Q937.734 1445.6 936.539 1444.41 Q934.592 1442.46 931.989 1442.61 Q929.403 1442.74 927.21 1444.93 Q925.655 1446.49 924.46 1448.76 Q923.281 1451.02 922.414 1454.08 L919.075 1450.74 Q920.269 1447.94 921.595 1445.8 Q922.921 1443.65 924.362 1442.21 Q928.159 1438.42 932.316 1438.06 Q936.474 1437.7 939.649 1440.87 Q941.155 1442.38 941.941 1444.31 Q942.727 1446.21 943.07 1449.53 Q943.136 1450.41 943.218 1454.88 Q943.283 1459.34 943.365 1467.4 Z\" fill=\"#000000\" fill-rule=\"evenodd\" fill-opacity=\"1\" /><path clip-path=\"url(#clip980)\" d=\"M 0 0 M946.082 1425.73 Q943.529 1428.28 944.756 1432.1 Q945.984 1435.88 951.025 1440.92 Q956.05 1445.95 959.848 1447.19 Q963.645 1448.4 966.198 1445.85 Q968.768 1443.28 967.541 1439.5 Q966.313 1435.68 961.288 1430.66 Q956.247 1425.62 952.449 1424.41 Q948.652 1423.16 946.082 1425.73 M943.463 1423.11 Q947.572 1419 952.989 1420.1 Q958.407 1421.16 964.594 1427.35 Q970.765 1433.52 971.845 1438.96 Q972.926 1444.36 968.817 1448.47 Q964.709 1452.58 959.291 1451.51 Q953.873 1450.41 947.702 1444.24 Q941.515 1438.06 940.435 1432.66 Q939.355 1427.22 943.463 1423.11 Z\" fill=\"#000000\" fill-rule=\"evenodd\" fill-opacity=\"1\" /><path clip-path=\"url(#clip980)\" d=\"M 0 0 M980.439 1430.33 L991.978 1418.79 L994.761 1421.57 L979.244 1437.09 L976.461 1434.31 Q976.396 1430.48 976.363 1423.96 Q976.33 1417.42 976.216 1415.63 Q976.019 1412.26 975.414 1410.41 Q974.808 1408.53 973.613 1407.33 Q971.665 1405.39 969.063 1405.53 Q966.477 1405.66 964.283 1407.86 Q962.728 1409.41 961.534 1411.69 Q960.355 1413.95 959.488 1417.01 L956.148 1413.67 Q957.343 1410.87 958.669 1408.72 Q959.995 1406.58 961.435 1405.14 Q965.233 1401.34 969.39 1400.98 Q973.548 1400.62 976.723 1403.8 Q978.229 1405.3 979.015 1407.24 Q979.8 1409.13 980.144 1412.46 Q980.21 1413.34 980.291 1417.81 Q980.357 1422.26 980.439 1430.33 Z\" fill=\"#000000\" fill-rule=\"evenodd\" fill-opacity=\"1\" /><path clip-path=\"url(#clip980)\" d=\"M 0 0 M983.156 1388.66 Q980.602 1391.21 981.83 1395.02 Q983.058 1398.81 988.099 1403.85 Q993.124 1408.87 996.921 1410.12 Q1000.72 1411.33 1003.27 1408.77 Q1005.84 1406.2 1004.61 1402.42 Q1003.39 1398.61 998.362 1393.58 Q993.32 1388.54 989.523 1387.33 Q985.726 1386.09 983.156 1388.66 M980.537 1386.04 Q984.645 1381.93 990.063 1383.03 Q995.481 1384.09 1001.67 1390.28 Q1007.84 1396.45 1008.92 1401.88 Q1010 1407.28 1005.89 1411.39 Q1001.78 1415.5 996.365 1414.44 Q990.947 1413.34 984.776 1407.17 Q978.589 1400.98 977.509 1395.58 Q976.429 1390.15 980.537 1386.04 Z\" fill=\"#000000\" fill-rule=\"evenodd\" fill-opacity=\"1\" /><path clip-path=\"url(#clip980)\" d=\"M 0 0 M1004.97 1390.31 L1013.8 1381.49 L1016.48 1384.17 L1007.66 1393 L1004.97 1390.31 Z\" fill=\"#000000\" fill-rule=\"evenodd\" fill-opacity=\"1\" /><path clip-path=\"url(#clip980)\" d=\"M 0 0 M1012.72 1359.1 Q1010.16 1361.65 1011.39 1365.46 Q1012.62 1369.25 1017.66 1374.29 Q1022.68 1379.31 1026.48 1380.56 Q1030.28 1381.77 1032.83 1379.21 Q1035.4 1376.64 1034.18 1372.86 Q1032.95 1369.05 1027.92 1364.02 Q1022.88 1358.98 1019.08 1357.77 Q1015.29 1356.53 1012.72 1359.1 M1010.1 1356.48 Q1014.21 1352.37 1019.62 1353.47 Q1025.04 1354.53 1031.23 1360.72 Q1037.4 1366.89 1038.48 1372.32 Q1039.56 1377.72 1035.45 1381.83 Q1031.34 1385.94 1025.93 1384.88 Q1020.51 1383.78 1014.34 1377.61 Q1008.15 1371.42 1007.07 1366.02 Q1005.99 1360.59 1010.1 1356.48 Z\" fill=\"#000000\" fill-rule=\"evenodd\" fill-opacity=\"1\" /><path clip-path=\"url(#clip980)\" d=\"M 0 0 M1034.54 1338.69 L1039.23 1360.08 L1047.58 1351.73 L1034.54 1338.69 M1030.79 1336.67 L1034.94 1332.51 L1050.87 1348.44 L1054.36 1344.95 L1057.11 1347.7 L1053.62 1351.19 L1059.38 1356.95 L1056.09 1360.24 L1050.33 1354.48 L1039.3 1365.51 L1036.11 1362.32 L1030.79 1336.67 Z\" fill=\"#000000\" fill-rule=\"evenodd\" fill-opacity=\"1\" /><path clip-path=\"url(#clip980)\" d=\"M 0 0 M1053.98 1341.3 L1062.8 1332.48 L1065.49 1335.17 L1056.67 1343.99 L1053.98 1341.3 Z\" fill=\"#000000\" fill-rule=\"evenodd\" fill-opacity=\"1\" /><path clip-path=\"url(#clip980)\" d=\"M 0 0 M1073.75 1316.23 Q1076.63 1314.36 1079.56 1314.64 Q1082.51 1314.9 1084.87 1317.26 Q1088.48 1320.88 1087.98 1325.35 Q1087.47 1329.81 1082.89 1334.4 Q1081.35 1335.94 1079.4 1337.26 Q1077.49 1338.59 1075.14 1339.72 L1071.95 1336.53 Q1074.13 1335.95 1076.18 1334.72 Q1078.22 1333.5 1080.01 1331.71 Q1083.12 1328.6 1083.51 1325.75 Q1083.92 1322.89 1081.58 1320.55 Q1079.42 1318.39 1076.68 1318.7 Q1073.95 1318.98 1071.25 1321.68 L1068.4 1324.53 L1065.68 1321.81 L1068.66 1318.83 Q1071.1 1316.39 1071.43 1314.13 Q1071.74 1311.86 1069.91 1310.03 Q1068.02 1308.14 1065.68 1308.49 Q1063.34 1308.8 1060.86 1311.29 Q1059.5 1312.64 1058.24 1314.49 Q1056.98 1316.34 1055.73 1318.83 L1052.79 1315.88 Q1054.14 1313.48 1055.52 1311.58 Q1056.91 1309.67 1058.37 1308.21 Q1062.13 1304.44 1066.04 1303.97 Q1069.94 1303.48 1072.85 1306.39 Q1074.88 1308.42 1075.13 1310.99 Q1075.36 1313.54 1073.75 1316.23 Z\" fill=\"#000000\" fill-rule=\"evenodd\" fill-opacity=\"1\" /><path clip-path=\"url(#clip980)\" d=\"M 0 0 M1080.37 1291.45 Q1077.81 1294 1079.04 1297.81 Q1080.27 1301.6 1085.31 1306.64 Q1090.33 1311.66 1094.13 1312.91 Q1097.93 1314.12 1100.48 1311.56 Q1103.05 1308.99 1101.82 1305.21 Q1100.6 1301.4 1095.57 1296.37 Q1090.53 1291.33 1086.73 1290.12 Q1082.94 1288.88 1080.37 1291.45 M1077.75 1288.83 Q1081.86 1284.72 1087.27 1285.82 Q1092.69 1286.88 1098.88 1293.07 Q1105.05 1299.24 1106.13 1304.67 Q1107.21 1310.07 1103.1 1314.18 Q1098.99 1318.29 1093.58 1317.23 Q1088.16 1316.13 1081.99 1309.96 Q1075.8 1303.77 1074.72 1298.37 Q1073.64 1292.94 1077.75 1288.83 Z\" fill=\"#000000\" fill-rule=\"evenodd\" fill-opacity=\"1\" /><path clip-path=\"url(#clip980)\" d=\"M 0 0 M1135.1 1466.29 L1146.63 1454.75 L1149.42 1457.53 L1133.9 1473.05 L1131.12 1470.27 Q1131.05 1466.44 1131.02 1459.92 Q1130.99 1453.38 1130.87 1451.59 Q1130.68 1448.22 1130.07 1446.37 Q1129.46 1444.49 1128.27 1443.29 Q1126.32 1441.35 1123.72 1441.49 Q1121.13 1441.62 1118.94 1443.82 Q1117.38 1445.37 1116.19 1447.65 Q1115.01 1449.91 1114.14 1452.97 L1110.8 1449.63 Q1112 1446.83 1113.33 1444.69 Q1114.65 1442.54 1116.09 1441.1 Q1119.89 1437.3 1124.05 1436.94 Q1128.2 1436.58 1131.38 1439.76 Q1132.89 1441.26 1133.67 1443.2 Q1134.46 1445.09 1134.8 1448.42 Q1134.87 1449.3 1134.95 1453.77 Q1135.01 1458.22 1135.1 1466.29 Z\" fill=\"#000000\" fill-rule=\"evenodd\" fill-opacity=\"1\" /><path clip-path=\"url(#clip980)\" d=\"M 0 0 M1137.81 1424.62 Q1135.26 1427.17 1136.49 1430.99 Q1137.71 1434.77 1142.76 1439.81 Q1147.78 1444.83 1151.58 1446.08 Q1155.38 1447.29 1157.93 1444.73 Q1160.5 1442.16 1159.27 1438.38 Q1158.04 1434.57 1153.02 1429.55 Q1147.98 1424.5 1144.18 1423.29 Q1140.38 1422.05 1137.81 1424.62 M1135.19 1422 Q1139.3 1417.89 1144.72 1418.99 Q1150.14 1420.05 1156.32 1426.24 Q1162.5 1432.41 1163.58 1437.84 Q1164.66 1443.25 1160.55 1447.35 Q1156.44 1451.46 1151.02 1450.4 Q1145.6 1449.3 1139.43 1443.13 Q1133.25 1436.94 1132.17 1431.54 Q1131.08 1426.11 1135.19 1422 Z\" fill=\"#000000\" fill-rule=\"evenodd\" fill-opacity=\"1\" /><path clip-path=\"url(#clip980)\" d=\"M 0 0 M1172.17 1429.22 L1183.71 1417.68 L1186.49 1420.46 L1170.97 1435.98 L1168.19 1433.2 Q1168.13 1429.37 1168.09 1422.85 Q1168.06 1416.3 1167.95 1414.52 Q1167.75 1411.15 1167.14 1409.3 Q1166.54 1407.42 1165.34 1406.22 Q1163.4 1404.27 1160.79 1404.42 Q1158.21 1404.55 1156.01 1406.74 Q1154.46 1408.3 1153.26 1410.57 Q1152.09 1412.83 1151.22 1415.89 L1147.88 1412.56 Q1149.07 1409.76 1150.4 1407.61 Q1151.73 1405.47 1153.17 1404.03 Q1156.96 1400.23 1161.12 1399.87 Q1165.28 1399.51 1168.45 1402.69 Q1169.96 1404.19 1170.74 1406.12 Q1171.53 1408.02 1171.87 1411.34 Q1171.94 1412.23 1172.02 1416.7 Q1172.09 1421.15 1172.17 1429.22 Z\" fill=\"#000000\" fill-rule=\"evenodd\" fill-opacity=\"1\" /><path clip-path=\"url(#clip980)\" d=\"M 0 0 M1174.89 1387.54 Q1172.33 1390.1 1173.56 1393.91 Q1174.79 1397.69 1179.83 1402.73 Q1184.85 1407.76 1188.65 1409 Q1192.45 1410.21 1195 1407.66 Q1197.57 1405.09 1196.34 1401.31 Q1195.12 1397.5 1190.09 1392.47 Q1185.05 1387.43 1181.25 1386.22 Q1177.46 1384.97 1174.89 1387.54 M1172.27 1384.93 Q1176.38 1380.82 1181.79 1381.91 Q1187.21 1382.98 1193.4 1389.17 Q1199.57 1395.34 1200.65 1400.77 Q1201.73 1406.17 1197.62 1410.28 Q1193.51 1414.39 1188.1 1413.32 Q1182.68 1412.23 1176.51 1406.06 Q1170.32 1399.87 1169.24 1394.47 Q1168.16 1389.03 1172.27 1384.93 Z\" fill=\"#000000\" fill-rule=\"evenodd\" fill-opacity=\"1\" /><path clip-path=\"url(#clip980)\" d=\"M 0 0 M1196.7 1389.2 L1205.53 1380.38 L1208.21 1383.06 L1199.39 1391.88 L1196.7 1389.2 Z\" fill=\"#000000\" fill-rule=\"evenodd\" fill-opacity=\"1\" /><path clip-path=\"url(#clip980)\" d=\"M 0 0 M1204.45 1357.98 Q1201.89 1360.54 1203.12 1364.35 Q1204.35 1368.13 1209.39 1373.17 Q1214.42 1378.2 1218.21 1379.44 Q1222.01 1380.65 1224.56 1378.1 Q1227.13 1375.53 1225.91 1371.75 Q1224.68 1367.94 1219.65 1362.91 Q1214.61 1357.87 1210.81 1356.66 Q1207.02 1355.41 1204.45 1357.98 M1201.83 1355.36 Q1205.94 1351.26 1211.35 1352.35 Q1216.77 1353.42 1222.96 1359.6 Q1229.13 1365.77 1230.21 1371.21 Q1231.29 1376.61 1227.18 1380.72 Q1223.07 1384.83 1217.66 1383.76 Q1212.24 1382.67 1206.07 1376.5 Q1199.88 1370.31 1198.8 1364.91 Q1197.72 1359.47 1201.83 1355.36 Z\" fill=\"#000000\" fill-rule=\"evenodd\" fill-opacity=\"1\" /><path clip-path=\"url(#clip980)\" d=\"M 0 0 M1214.33 1343.74 L1227.31 1330.76 L1230.1 1333.55 L1220.14 1343.5 L1226.13 1349.49 Q1226.61 1348.52 1227.21 1347.69 Q1227.8 1346.84 1228.52 1346.12 Q1232.62 1342.02 1237.25 1341.88 Q1241.88 1341.73 1245.71 1345.56 Q1249.66 1349.51 1249.39 1354.15 Q1249.12 1358.79 1244.65 1363.25 Q1243.11 1364.79 1241.24 1366.14 Q1239.39 1367.46 1237.17 1368.64 L1233.84 1365.32 Q1236.12 1364.65 1238.08 1363.47 Q1240.05 1362.29 1241.8 1360.54 Q1244.63 1357.71 1244.79 1354.56 Q1244.96 1351.42 1242.4 1348.87 Q1239.85 1346.31 1236.71 1346.48 Q1233.57 1346.64 1230.73 1349.47 Q1229.41 1350.8 1228.38 1352.42 Q1227.36 1354.02 1226.61 1356.02 L1214.33 1343.74 Z\" fill=\"#000000\" fill-rule=\"evenodd\" fill-opacity=\"1\" /><path clip-path=\"url(#clip980)\" d=\"M 0 0 M1244.66 1341.24 L1253.49 1332.42 L1256.17 1335.1 L1247.35 1343.92 L1244.66 1341.24 Z\" fill=\"#000000\" fill-rule=\"evenodd\" fill-opacity=\"1\" /><path clip-path=\"url(#clip980)\" d=\"M 0 0 M1265.39 1336 L1270.79 1330.6 L1252.14 1311.96 L1247.45 1319.01 L1244.43 1316 L1249.1 1308.98 L1252.41 1305.67 L1274.06 1327.33 L1279.46 1321.92 L1282.24 1324.71 L1268.17 1338.78 L1265.39 1336 Z\" fill=\"#000000\" fill-rule=\"evenodd\" fill-opacity=\"1\" /><path clip-path=\"url(#clip980)\" d=\"M 0 0 M1273.36 1290.48 L1278.05 1311.87 L1286.4 1303.53 L1273.36 1290.48 M1269.61 1288.47 L1273.77 1284.31 L1289.69 1300.24 L1293.18 1296.75 L1295.93 1299.5 L1292.44 1302.99 L1298.2 1308.75 L1294.91 1312.04 L1289.15 1306.28 L1278.12 1317.31 L1274.93 1314.12 L1269.61 1288.47 Z\" fill=\"#000000\" fill-rule=\"evenodd\" fill-opacity=\"1\" /><path clip-path=\"url(#clip980)\" d=\"M 0 0 M1326.38 1465.62 L1337.92 1454.08 L1340.71 1456.86 L1325.19 1472.38 L1322.41 1469.6 Q1322.34 1465.77 1322.31 1459.25 Q1322.28 1452.71 1322.16 1450.92 Q1321.96 1447.55 1321.36 1445.7 Q1320.75 1443.82 1319.56 1442.62 Q1317.61 1440.68 1315.01 1440.82 Q1312.42 1440.95 1310.23 1443.15 Q1308.67 1444.7 1307.48 1446.98 Q1306.3 1449.24 1305.43 1452.3 L1302.09 1448.96 Q1303.29 1446.16 1304.61 1444.01 Q1305.94 1441.87 1307.38 1440.43 Q1311.18 1436.63 1315.33 1436.27 Q1319.49 1435.91 1322.67 1439.09 Q1324.17 1440.59 1324.96 1442.53 Q1325.75 1444.42 1326.09 1447.75 Q1326.15 1448.63 1326.24 1453.1 Q1326.3 1457.55 1326.38 1465.62 Z\" fill=\"#000000\" fill-rule=\"evenodd\" fill-opacity=\"1\" /><path clip-path=\"url(#clip980)\" d=\"M 0 0 M1329.1 1423.95 Q1326.55 1426.5 1327.77 1430.31 Q1329 1434.1 1334.04 1439.14 Q1339.07 1444.16 1342.87 1445.41 Q1346.66 1446.62 1349.22 1444.06 Q1351.79 1441.49 1350.56 1437.71 Q1349.33 1433.9 1344.31 1428.87 Q1339.27 1423.83 1335.47 1422.62 Q1331.67 1421.38 1329.1 1423.95 M1326.48 1421.33 Q1330.59 1417.22 1336.01 1418.32 Q1341.43 1419.38 1347.61 1425.57 Q1353.78 1431.74 1354.86 1437.17 Q1355.94 1442.57 1351.84 1446.68 Q1347.73 1450.79 1342.31 1449.73 Q1336.89 1448.63 1330.72 1442.46 Q1324.53 1436.27 1323.45 1430.87 Q1322.37 1425.44 1326.48 1421.33 Z\" fill=\"#000000\" fill-rule=\"evenodd\" fill-opacity=\"1\" /><path clip-path=\"url(#clip980)\" d=\"M 0 0 M1363.46 1428.55 L1375 1417.01 L1377.78 1419.79 L1362.26 1435.31 L1359.48 1432.52 Q1359.41 1428.69 1359.38 1422.18 Q1359.35 1415.63 1359.23 1413.85 Q1359.04 1410.48 1358.43 1408.63 Q1357.83 1406.74 1356.63 1405.55 Q1354.68 1403.6 1352.08 1403.75 Q1349.5 1403.88 1347.3 1406.07 Q1345.75 1407.63 1344.55 1409.9 Q1343.37 1412.16 1342.51 1415.22 L1339.17 1411.88 Q1340.36 1409.09 1341.69 1406.94 Q1343.01 1404.8 1344.45 1403.36 Q1348.25 1399.56 1352.41 1399.2 Q1356.57 1398.84 1359.74 1402.01 Q1361.25 1403.52 1362.03 1405.45 Q1362.82 1407.35 1363.16 1410.67 Q1363.23 1411.56 1363.31 1416.03 Q1363.38 1420.48 1363.46 1428.55 Z\" fill=\"#000000\" fill-rule=\"evenodd\" fill-opacity=\"1\" /><path clip-path=\"url(#clip980)\" d=\"M 0 0 M1366.17 1386.87 Q1363.62 1389.43 1364.85 1393.24 Q1366.08 1397.02 1371.12 1402.06 Q1376.14 1407.09 1379.94 1408.33 Q1383.74 1409.54 1386.29 1406.99 Q1388.86 1404.42 1387.63 1400.64 Q1386.41 1396.83 1381.38 1391.8 Q1376.34 1386.76 1372.54 1385.55 Q1368.74 1384.3 1366.17 1386.87 M1363.56 1384.25 Q1367.66 1380.15 1373.08 1381.24 Q1378.5 1382.31 1384.69 1388.49 Q1390.86 1394.66 1391.94 1400.1 Q1393.02 1405.5 1388.91 1409.61 Q1384.8 1413.72 1379.38 1412.65 Q1373.97 1411.56 1367.79 1405.39 Q1361.61 1399.2 1360.53 1393.8 Q1359.45 1388.36 1363.56 1384.25 Z\" fill=\"#000000\" fill-rule=\"evenodd\" fill-opacity=\"1\" /><path clip-path=\"url(#clip980)\" d=\"M 0 0 M1387.99 1388.53 L1396.82 1379.7 L1399.5 1382.39 L1390.68 1391.21 L1387.99 1388.53 Z\" fill=\"#000000\" fill-rule=\"evenodd\" fill-opacity=\"1\" /><path clip-path=\"url(#clip980)\" d=\"M 0 0 M1395.74 1357.31 Q1393.18 1359.87 1394.41 1363.68 Q1395.64 1367.46 1400.68 1372.5 Q1405.7 1377.53 1409.5 1378.77 Q1413.3 1379.98 1415.85 1377.43 Q1418.42 1374.86 1417.19 1371.08 Q1415.97 1367.26 1410.94 1362.24 Q1405.9 1357.2 1402.1 1355.99 Q1398.3 1354.74 1395.74 1357.31 M1393.12 1354.69 Q1397.22 1350.59 1402.64 1351.68 Q1408.06 1352.75 1414.25 1358.93 Q1420.42 1365.1 1421.5 1370.54 Q1422.58 1375.94 1418.47 1380.05 Q1414.36 1384.16 1408.94 1383.09 Q1403.53 1382 1397.36 1375.82 Q1391.17 1369.64 1390.09 1364.24 Q1389.01 1358.8 1393.12 1354.69 Z\" fill=\"#000000\" fill-rule=\"evenodd\" fill-opacity=\"1\" /><path clip-path=\"url(#clip980)\" d=\"M 0 0 M1405.62 1343.07 L1418.6 1330.09 L1421.38 1332.88 L1411.43 1342.83 L1417.42 1348.82 Q1417.9 1347.85 1418.5 1347.02 Q1419.09 1346.17 1419.81 1345.45 Q1423.9 1341.35 1428.54 1341.21 Q1433.17 1341.06 1437 1344.89 Q1440.94 1348.83 1440.68 1353.48 Q1440.4 1358.11 1435.94 1362.58 Q1434.4 1364.12 1432.53 1365.46 Q1430.68 1366.79 1428.46 1367.97 L1425.13 1364.65 Q1427.41 1363.97 1429.37 1362.8 Q1431.34 1361.62 1433.09 1359.87 Q1435.92 1357.03 1436.08 1353.89 Q1436.25 1350.75 1433.69 1348.2 Q1431.14 1345.64 1428 1345.81 Q1424.85 1345.97 1422.02 1348.8 Q1420.7 1350.13 1419.67 1351.75 Q1418.65 1353.35 1417.9 1355.35 L1405.62 1343.07 Z\" fill=\"#000000\" fill-rule=\"evenodd\" fill-opacity=\"1\" /><path clip-path=\"url(#clip980)\" d=\"M 0 0 M1435.95 1340.57 L1444.77 1331.75 L1447.46 1334.43 L1438.64 1343.25 L1435.95 1340.57 Z\" fill=\"#000000\" fill-rule=\"evenodd\" fill-opacity=\"1\" /><path clip-path=\"url(#clip980)\" d=\"M 0 0 M1458.95 1333.06 L1470.49 1321.52 L1473.27 1324.3 L1457.75 1339.82 L1454.97 1337.03 Q1454.91 1333.2 1454.87 1326.69 Q1454.84 1320.14 1454.73 1318.36 Q1454.53 1314.98 1453.92 1313.14 Q1453.32 1311.25 1452.12 1310.06 Q1450.18 1308.11 1447.57 1308.26 Q1444.99 1308.39 1442.79 1310.58 Q1441.24 1312.14 1440.04 1314.41 Q1438.87 1316.67 1438 1319.73 L1434.66 1316.39 Q1435.85 1313.59 1437.18 1311.45 Q1438.51 1309.3 1439.95 1307.86 Q1443.74 1304.07 1447.9 1303.71 Q1452.06 1303.35 1455.23 1306.52 Q1456.74 1308.03 1457.52 1309.96 Q1458.31 1311.86 1458.65 1315.18 Q1458.72 1316.06 1458.8 1320.53 Q1458.87 1324.99 1458.95 1333.06 Z\" fill=\"#000000\" fill-rule=\"evenodd\" fill-opacity=\"1\" /><path clip-path=\"url(#clip980)\" d=\"M 0 0 M1472.32 1302.04 Q1469.96 1304.39 1469.87 1307.01 Q1469.78 1309.62 1471.99 1311.83 Q1474.2 1314.04 1476.81 1313.95 Q1479.43 1313.86 1481.78 1311.5 Q1484.14 1309.14 1484.24 1306.52 Q1484.32 1303.89 1482.13 1301.69 Q1479.92 1299.48 1477.3 1299.58 Q1474.7 1299.66 1472.32 1302.04 M1467.61 1303.94 Q1464.96 1305.54 1462.3 1305.28 Q1459.67 1305 1457.57 1302.9 Q1454.64 1299.98 1455.02 1296.19 Q1455.41 1292.4 1459.05 1288.76 Q1462.7 1285.11 1466.48 1284.74 Q1470.26 1284.36 1473.19 1287.29 Q1475.28 1289.38 1475.55 1292.04 Q1475.82 1294.67 1474.24 1297.31 Q1477.18 1295.47 1480.13 1295.77 Q1483.09 1296.05 1485.43 1298.39 Q1488.98 1301.94 1488.71 1306.01 Q1488.44 1310.07 1484.4 1314.12 Q1480.36 1318.16 1476.28 1318.44 Q1472.22 1318.7 1468.67 1315.15 Q1466.33 1312.81 1466.05 1309.85 Q1465.77 1306.88 1467.61 1303.94 M1461.17 1299.93 Q1463.07 1301.82 1465.32 1301.71 Q1467.57 1301.58 1469.72 1299.43 Q1471.85 1297.31 1471.98 1295.05 Q1472.13 1292.77 1470.23 1290.87 Q1468.33 1288.98 1466.05 1289.12 Q1463.79 1289.25 1461.67 1291.38 Q1459.52 1293.53 1459.39 1295.78 Q1459.28 1298.03 1461.17 1299.93 Z\" fill=\"#000000\" fill-rule=\"evenodd\" fill-opacity=\"1\" /><path clip-path=\"url(#clip980)\" d=\"M 0 0 M1516.72 1465.9 L1528.26 1454.36 L1531.04 1457.14 L1515.53 1472.66 L1512.74 1469.88 Q1512.68 1466.05 1512.65 1459.53 Q1512.61 1452.98 1512.5 1451.2 Q1512.3 1447.83 1511.7 1445.98 Q1511.09 1444.1 1509.9 1442.9 Q1507.95 1440.95 1505.35 1441.1 Q1502.76 1441.23 1500.57 1443.43 Q1499.01 1444.98 1497.82 1447.26 Q1496.64 1449.51 1495.77 1452.58 L1492.43 1449.24 Q1493.63 1446.44 1494.95 1444.29 Q1496.28 1442.15 1497.72 1440.71 Q1501.52 1436.91 1505.67 1436.55 Q1509.83 1436.19 1513.01 1439.37 Q1514.51 1440.87 1515.3 1442.8 Q1516.08 1444.7 1516.43 1448.02 Q1516.49 1448.91 1516.58 1453.38 Q1516.64 1457.83 1516.72 1465.9 Z\" fill=\"#000000\" fill-rule=\"evenodd\" fill-opacity=\"1\" /><path clip-path=\"url(#clip980)\" d=\"M 0 0 M1519.44 1424.23 Q1516.89 1426.78 1518.11 1430.59 Q1519.34 1434.37 1524.38 1439.42 Q1529.41 1444.44 1533.21 1445.68 Q1537 1446.9 1539.56 1444.34 Q1542.13 1441.77 1540.9 1437.99 Q1539.67 1434.18 1534.65 1429.15 Q1529.6 1424.11 1525.81 1422.9 Q1522.01 1421.66 1519.44 1424.23 M1516.82 1421.61 Q1520.93 1417.5 1526.35 1418.59 Q1531.76 1419.66 1537.95 1425.85 Q1544.12 1432.02 1545.2 1437.45 Q1546.28 1442.85 1542.17 1446.96 Q1538.07 1451.07 1532.65 1450.01 Q1527.23 1448.91 1521.06 1442.74 Q1514.87 1436.55 1513.79 1431.15 Q1512.71 1425.72 1516.82 1421.61 Z\" fill=\"#000000\" fill-rule=\"evenodd\" fill-opacity=\"1\" /><path clip-path=\"url(#clip980)\" d=\"M 0 0 M1553.8 1428.82 L1565.34 1417.29 L1568.12 1420.07 L1552.6 1435.59 L1549.82 1432.8 Q1549.75 1428.97 1549.72 1422.46 Q1549.69 1415.91 1549.57 1414.13 Q1549.38 1410.75 1548.77 1408.9 Q1548.17 1407.02 1546.97 1405.83 Q1545.02 1403.88 1542.42 1404.03 Q1539.83 1404.16 1537.64 1406.35 Q1536.09 1407.91 1534.89 1410.18 Q1533.71 1412.44 1532.85 1415.5 L1529.51 1412.16 Q1530.7 1409.36 1532.03 1407.22 Q1533.35 1405.07 1534.79 1403.63 Q1538.59 1399.84 1542.75 1399.48 Q1546.91 1399.12 1550.08 1402.29 Q1551.59 1403.8 1552.37 1405.73 Q1553.16 1407.63 1553.5 1410.95 Q1553.57 1411.83 1553.65 1416.3 Q1553.71 1420.76 1553.8 1428.82 Z\" fill=\"#000000\" fill-rule=\"evenodd\" fill-opacity=\"1\" /><path clip-path=\"url(#clip980)\" d=\"M 0 0 M1556.51 1387.15 Q1553.96 1389.71 1555.19 1393.52 Q1556.42 1397.3 1561.46 1402.34 Q1566.48 1407.37 1570.28 1408.61 Q1574.08 1409.82 1576.63 1407.27 Q1579.2 1404.7 1577.97 1400.92 Q1576.74 1397.1 1571.72 1392.08 Q1566.68 1387.04 1562.88 1385.83 Q1559.08 1384.58 1556.51 1387.15 M1553.89 1384.53 Q1558 1380.42 1563.42 1381.52 Q1568.84 1382.59 1575.03 1388.77 Q1581.2 1394.94 1582.28 1400.38 Q1583.36 1405.78 1579.25 1409.89 Q1575.14 1414 1569.72 1412.93 Q1564.3 1411.83 1558.13 1405.66 Q1551.95 1399.48 1550.87 1394.08 Q1549.79 1388.64 1553.89 1384.53 Z\" fill=\"#000000\" fill-rule=\"evenodd\" fill-opacity=\"1\" /><path clip-path=\"url(#clip980)\" d=\"M 0 0 M1578.33 1388.8 L1587.15 1379.98 L1589.84 1382.67 L1581.02 1391.49 L1578.33 1388.8 Z\" fill=\"#000000\" fill-rule=\"evenodd\" fill-opacity=\"1\" /><path clip-path=\"url(#clip980)\" d=\"M 0 0 M1586.07 1357.59 Q1583.52 1360.14 1584.75 1363.96 Q1585.98 1367.74 1591.02 1372.78 Q1596.04 1377.81 1599.84 1379.05 Q1603.64 1380.26 1606.19 1377.71 Q1608.76 1375.14 1607.53 1371.36 Q1606.31 1367.54 1601.28 1362.52 Q1596.24 1357.48 1592.44 1356.27 Q1588.64 1355.02 1586.07 1357.59 M1583.46 1354.97 Q1587.56 1350.86 1592.98 1351.96 Q1598.4 1353.02 1604.59 1359.21 Q1610.76 1365.38 1611.84 1370.82 Q1612.92 1376.22 1608.81 1380.33 Q1604.7 1384.43 1599.28 1383.37 Q1593.87 1382.27 1587.69 1376.1 Q1581.51 1369.92 1580.43 1364.51 Q1579.35 1359.08 1583.46 1354.97 Z\" fill=\"#000000\" fill-rule=\"evenodd\" fill-opacity=\"1\" /><path clip-path=\"url(#clip980)\" d=\"M 0 0 M1614.31 1346.8 Q1612.08 1349.03 1612.3 1351.86 Q1612.53 1354.68 1615.18 1357.33 Q1617.81 1359.96 1620.64 1360.21 Q1623.48 1360.42 1625.7 1358.2 Q1627.93 1355.97 1627.7 1353.16 Q1627.47 1350.31 1624.83 1347.67 Q1622.18 1345.02 1619.35 1344.81 Q1616.54 1344.58 1614.31 1346.8 M1610.51 1329.88 L1613.52 1332.89 Q1611.69 1333.55 1610.1 1334.51 Q1608.53 1335.46 1607.29 1336.71 Q1604.01 1339.98 1604.49 1343.92 Q1604.98 1347.85 1609.2 1352.57 Q1608.74 1350.18 1609.45 1347.97 Q1610.14 1345.74 1611.89 1343.99 Q1615.57 1340.31 1619.94 1340.42 Q1624.31 1340.5 1628.16 1344.35 Q1631.92 1348.11 1631.97 1352.61 Q1632.02 1357.12 1628.32 1360.82 Q1624.08 1365.05 1618.6 1364.06 Q1613.1 1363.04 1606.93 1356.87 Q1601.13 1351.08 1600.45 1344.89 Q1599.74 1338.69 1604.37 1334.05 Q1605.62 1332.81 1607.12 1331.79 Q1608.65 1330.76 1610.51 1329.88 Z\" fill=\"#000000\" fill-rule=\"evenodd\" fill-opacity=\"1\" /><path clip-path=\"url(#clip980)\" d=\"M 0 0 M1627.11 1340.03 L1635.93 1331.21 L1638.62 1333.89 L1629.79 1342.71 L1627.11 1340.03 Z\" fill=\"#000000\" fill-rule=\"evenodd\" fill-opacity=\"1\" /><path clip-path=\"url(#clip980)\" d=\"M 0 0 M1647.83 1334.79 L1653.23 1329.39 L1634.59 1310.75 L1629.89 1317.8 L1626.88 1314.79 L1631.54 1307.77 L1634.85 1304.46 L1656.51 1326.11 L1661.91 1320.71 L1664.69 1323.5 L1650.61 1337.57 L1647.83 1334.79 Z\" fill=\"#000000\" fill-rule=\"evenodd\" fill-opacity=\"1\" /><path clip-path=\"url(#clip980)\" d=\"M 0 0 M1666.07 1316.56 L1671.47 1311.15 L1652.82 1292.51 L1648.13 1299.57 L1645.11 1296.55 L1649.78 1289.53 L1653.09 1286.23 L1674.74 1307.88 L1680.14 1302.48 L1682.92 1305.26 L1668.85 1319.34 L1666.07 1316.56 Z\" fill=\"#000000\" fill-rule=\"evenodd\" fill-opacity=\"1\" /><path clip-path=\"url(#clip980)\" d=\"M 0 0 M1707.44 1465.8 L1718.98 1454.26 L1721.76 1457.04 L1706.24 1472.56 L1703.46 1469.78 Q1703.39 1465.95 1703.36 1459.43 Q1703.33 1452.89 1703.21 1451.1 Q1703.02 1447.73 1702.41 1445.88 Q1701.81 1444 1700.61 1442.8 Q1698.66 1440.86 1696.06 1441 Q1693.48 1441.13 1691.28 1443.33 Q1689.73 1444.88 1688.53 1447.16 Q1687.35 1449.42 1686.49 1452.48 L1683.15 1449.14 Q1684.34 1446.34 1685.67 1444.19 Q1686.99 1442.05 1688.43 1440.61 Q1692.23 1436.81 1696.39 1436.45 Q1700.55 1436.09 1703.72 1439.27 Q1705.23 1440.77 1706.01 1442.71 Q1706.8 1444.6 1707.14 1447.93 Q1707.21 1448.81 1707.29 1453.28 Q1707.36 1457.73 1707.44 1465.8 Z\" fill=\"#000000\" fill-rule=\"evenodd\" fill-opacity=\"1\" /><path clip-path=\"url(#clip980)\" d=\"M 0 0 M1710.15 1424.13 Q1707.6 1426.68 1708.83 1430.49 Q1710.06 1434.28 1715.1 1439.32 Q1720.12 1444.34 1723.92 1445.59 Q1727.72 1446.8 1730.27 1444.24 Q1732.84 1441.67 1731.61 1437.89 Q1730.39 1434.08 1725.36 1429.05 Q1720.32 1424.01 1716.52 1422.8 Q1712.72 1421.56 1710.15 1424.13 M1707.54 1421.51 Q1711.64 1417.4 1717.06 1418.5 Q1722.48 1419.56 1728.67 1425.75 Q1734.84 1431.92 1735.92 1437.35 Q1737 1442.75 1732.89 1446.86 Q1728.78 1450.97 1723.36 1449.91 Q1717.95 1448.81 1711.78 1442.64 Q1705.59 1436.45 1704.51 1431.05 Q1703.43 1425.62 1707.54 1421.51 Z\" fill=\"#000000\" fill-rule=\"evenodd\" fill-opacity=\"1\" /><path clip-path=\"url(#clip980)\" d=\"M 0 0 M1744.51 1428.73 L1756.05 1417.19 L1758.83 1419.97 L1743.32 1435.49 L1740.53 1432.7 Q1740.47 1428.87 1740.44 1422.36 Q1740.4 1415.81 1740.29 1414.03 Q1740.09 1410.66 1739.49 1408.81 Q1738.88 1406.92 1737.69 1405.73 Q1735.74 1403.78 1733.14 1403.93 Q1730.55 1404.06 1728.36 1406.25 Q1726.8 1407.81 1725.61 1410.08 Q1724.43 1412.34 1723.56 1415.4 L1720.22 1412.06 Q1721.42 1409.27 1722.74 1407.12 Q1724.07 1404.98 1725.51 1403.54 Q1729.31 1399.74 1733.46 1399.38 Q1737.62 1399.02 1740.8 1402.19 Q1742.3 1403.7 1743.09 1405.63 Q1743.87 1407.53 1744.22 1410.85 Q1744.28 1411.74 1744.36 1416.21 Q1744.43 1420.66 1744.51 1428.73 Z\" fill=\"#000000\" fill-rule=\"evenodd\" fill-opacity=\"1\" /><path clip-path=\"url(#clip980)\" d=\"M 0 0 M1747.23 1387.05 Q1744.68 1389.61 1745.9 1393.42 Q1747.13 1397.2 1752.17 1402.24 Q1757.2 1407.27 1760.99 1408.51 Q1764.79 1409.72 1767.35 1407.17 Q1769.91 1404.6 1768.69 1400.82 Q1767.46 1397.01 1762.43 1391.98 Q1757.39 1386.94 1753.6 1385.73 Q1749.8 1384.48 1747.23 1387.05 M1744.61 1384.43 Q1748.72 1380.33 1754.14 1381.42 Q1759.55 1382.49 1765.74 1388.67 Q1771.91 1394.84 1772.99 1400.28 Q1774.07 1405.68 1769.96 1409.79 Q1765.86 1413.9 1760.44 1412.83 Q1755.02 1411.74 1748.85 1405.57 Q1742.66 1399.38 1741.58 1393.98 Q1740.5 1388.54 1744.61 1384.43 Z\" fill=\"#000000\" fill-rule=\"evenodd\" fill-opacity=\"1\" /><path clip-path=\"url(#clip980)\" d=\"M 0 0 M1769.05 1388.71 L1777.87 1379.88 L1780.55 1382.57 L1771.73 1391.39 L1769.05 1388.71 Z\" fill=\"#000000\" fill-rule=\"evenodd\" fill-opacity=\"1\" /><path clip-path=\"url(#clip980)\" d=\"M 0 0 M1776.79 1357.49 Q1774.24 1360.05 1775.46 1363.86 Q1776.69 1367.64 1781.73 1372.68 Q1786.76 1377.71 1790.56 1378.95 Q1794.35 1380.16 1796.91 1377.61 Q1799.48 1375.04 1798.25 1371.26 Q1797.02 1367.44 1792 1362.42 Q1786.95 1357.38 1783.16 1356.17 Q1779.36 1354.92 1776.79 1357.49 M1774.17 1354.87 Q1778.28 1350.77 1783.7 1351.86 Q1789.11 1352.93 1795.3 1359.11 Q1801.47 1365.28 1802.55 1370.72 Q1803.63 1376.12 1799.52 1380.23 Q1795.42 1384.34 1790 1383.27 Q1784.58 1382.18 1778.41 1376.01 Q1772.22 1369.82 1771.14 1364.42 Q1770.06 1358.98 1774.17 1354.87 Z\" fill=\"#000000\" fill-rule=\"evenodd\" fill-opacity=\"1\" /><path clip-path=\"url(#clip980)\" d=\"M 0 0 M1805.02 1346.71 Q1802.8 1348.93 1803.01 1351.76 Q1803.24 1354.58 1805.89 1357.23 Q1808.53 1359.87 1811.36 1360.11 Q1814.19 1360.32 1816.42 1358.1 Q1818.64 1355.87 1818.41 1353.06 Q1818.18 1350.21 1815.55 1347.57 Q1812.9 1344.92 1810.07 1344.71 Q1807.25 1344.48 1805.02 1346.71 M1801.23 1329.78 L1804.24 1332.79 Q1802.41 1333.45 1800.82 1334.41 Q1799.25 1335.36 1798 1336.61 Q1794.73 1339.88 1795.2 1343.83 Q1795.69 1347.75 1799.92 1352.47 Q1799.46 1350.08 1800.16 1347.87 Q1800.85 1345.64 1802.6 1343.89 Q1806.28 1340.21 1810.66 1340.32 Q1815.03 1340.4 1818.87 1344.25 Q1822.64 1348.02 1822.69 1352.52 Q1822.73 1357.02 1819.04 1360.72 Q1814.8 1364.96 1809.31 1363.96 Q1803.81 1362.94 1797.64 1356.77 Q1791.85 1350.98 1791.16 1344.79 Q1790.46 1338.59 1795.09 1333.96 Q1796.33 1332.71 1797.84 1331.7 Q1799.36 1330.67 1801.23 1329.78 Z\" fill=\"#000000\" fill-rule=\"evenodd\" fill-opacity=\"1\" /><path clip-path=\"url(#clip980)\" d=\"M 0 0 M1817.82 1339.93 L1826.65 1331.11 L1829.33 1333.79 L1820.51 1342.61 L1817.82 1339.93 Z\" fill=\"#000000\" fill-rule=\"evenodd\" fill-opacity=\"1\" /><path clip-path=\"url(#clip980)\" d=\"M 0 0 M1840.82 1332.42 L1852.36 1320.88 L1855.14 1323.66 L1839.63 1339.18 L1836.84 1336.39 Q1836.78 1332.56 1836.75 1326.05 Q1836.71 1319.5 1836.6 1317.72 Q1836.4 1314.35 1835.8 1312.5 Q1835.19 1310.61 1834 1309.42 Q1832.05 1307.47 1829.45 1307.62 Q1826.86 1307.75 1824.67 1309.94 Q1823.11 1311.5 1821.92 1313.77 Q1820.74 1316.03 1819.87 1319.09 L1816.53 1315.75 Q1817.73 1312.96 1819.05 1310.81 Q1820.38 1308.67 1821.82 1307.23 Q1825.62 1303.43 1829.77 1303.07 Q1833.93 1302.71 1837.11 1305.88 Q1838.61 1307.39 1839.4 1309.32 Q1840.18 1311.22 1840.53 1314.54 Q1840.59 1315.43 1840.67 1319.9 Q1840.74 1324.35 1840.82 1332.42 Z\" fill=\"#000000\" fill-rule=\"evenodd\" fill-opacity=\"1\" /><path clip-path=\"url(#clip980)\" d=\"M 0 0 M1834.32 1295.6 L1847.3 1282.62 L1850.09 1285.41 L1840.13 1295.36 L1846.12 1301.35 Q1846.6 1300.38 1847.21 1299.55 Q1847.79 1298.7 1848.51 1297.98 Q1852.61 1293.89 1857.24 1293.74 Q1861.87 1293.59 1865.7 1297.42 Q1869.65 1301.37 1869.38 1306.01 Q1869.11 1310.65 1864.64 1315.12 Q1863.1 1316.65 1861.23 1318 Q1859.38 1319.32 1857.16 1320.5 L1853.83 1317.18 Q1856.11 1316.51 1858.07 1315.33 Q1860.04 1314.15 1861.79 1312.4 Q1864.62 1309.57 1864.78 1306.42 Q1864.95 1303.28 1862.39 1300.73 Q1859.84 1298.17 1856.7 1298.34 Q1853.56 1298.5 1850.72 1301.33 Q1849.4 1302.66 1848.37 1304.28 Q1847.35 1305.88 1846.6 1307.88 L1834.32 1295.6 Z\" fill=\"#000000\" fill-rule=\"evenodd\" fill-opacity=\"1\" /><path clip-path=\"url(#clip980)\" d=\"M 0 0 M1897.11 1466.75 L1908.65 1455.21 L1911.43 1457.99 L1895.91 1473.51 L1893.13 1470.73 Q1893.06 1466.9 1893.03 1460.38 Q1893 1453.84 1892.88 1452.05 Q1892.69 1448.68 1892.08 1446.83 Q1891.48 1444.95 1890.28 1443.75 Q1888.33 1441.8 1885.73 1441.95 Q1883.14 1442.08 1880.95 1444.28 Q1879.4 1445.83 1878.2 1448.11 Q1877.02 1450.37 1876.15 1453.43 L1872.82 1450.09 Q1874.01 1447.29 1875.34 1445.14 Q1876.66 1443 1878.1 1441.56 Q1881.9 1437.76 1886.06 1437.4 Q1890.21 1437.04 1893.39 1440.22 Q1894.9 1441.72 1895.68 1443.65 Q1896.47 1445.55 1896.81 1448.88 Q1896.88 1449.76 1896.96 1454.23 Q1897.02 1458.68 1897.11 1466.75 Z\" fill=\"#000000\" fill-rule=\"evenodd\" fill-opacity=\"1\" /><path clip-path=\"url(#clip980)\" d=\"M 0 0 M1899.82 1425.08 Q1897.27 1427.63 1898.5 1431.44 Q1899.72 1435.22 1904.77 1440.27 Q1909.79 1445.29 1913.59 1446.54 Q1917.39 1447.75 1919.94 1445.19 Q1922.51 1442.62 1921.28 1438.84 Q1920.05 1435.03 1915.03 1430 Q1909.99 1424.96 1906.19 1423.75 Q1902.39 1422.51 1899.82 1425.08 M1897.2 1422.46 Q1901.31 1418.35 1906.73 1419.45 Q1912.15 1420.51 1918.34 1426.7 Q1924.51 1432.87 1925.59 1438.3 Q1926.67 1443.7 1922.56 1447.81 Q1918.45 1451.92 1913.03 1450.86 Q1907.61 1449.76 1901.44 1443.59 Q1895.26 1437.4 1894.18 1432 Q1893.1 1426.57 1897.2 1422.46 Z\" fill=\"#000000\" fill-rule=\"evenodd\" fill-opacity=\"1\" /><path clip-path=\"url(#clip980)\" d=\"M 0 0 M1934.18 1429.68 L1945.72 1418.14 L1948.5 1420.92 L1932.98 1436.44 L1930.2 1433.65 Q1930.14 1429.82 1930.1 1423.31 Q1930.07 1416.76 1929.96 1414.98 Q1929.76 1411.61 1929.15 1409.76 Q1928.55 1407.87 1927.35 1406.68 Q1925.41 1404.73 1922.8 1404.88 Q1920.22 1405.01 1918.02 1407.2 Q1916.47 1408.76 1915.27 1411.03 Q1914.1 1413.29 1913.23 1416.35 L1909.89 1413.01 Q1911.08 1410.21 1912.41 1408.07 Q1913.74 1405.93 1915.18 1404.49 Q1918.97 1400.69 1923.13 1400.33 Q1927.29 1399.97 1930.46 1403.14 Q1931.97 1404.65 1932.76 1406.58 Q1933.54 1408.48 1933.88 1411.8 Q1933.95 1412.69 1934.03 1417.15 Q1934.1 1421.61 1934.18 1429.68 Z\" fill=\"#000000\" fill-rule=\"evenodd\" fill-opacity=\"1\" /><path clip-path=\"url(#clip980)\" d=\"M 0 0 M1936.9 1388 Q1934.34 1390.56 1935.57 1394.37 Q1936.8 1398.15 1941.84 1403.19 Q1946.86 1408.22 1950.66 1409.46 Q1954.46 1410.67 1957.01 1408.12 Q1959.58 1405.55 1958.36 1401.77 Q1957.13 1397.95 1952.1 1392.93 Q1947.06 1387.89 1943.26 1386.68 Q1939.47 1385.43 1936.9 1388 M1934.28 1385.38 Q1938.39 1381.28 1943.8 1382.37 Q1949.22 1383.44 1955.41 1389.62 Q1961.58 1395.79 1962.66 1401.23 Q1963.74 1406.63 1959.63 1410.74 Q1955.52 1414.85 1950.11 1413.78 Q1944.69 1412.69 1938.52 1406.52 Q1932.33 1400.33 1931.25 1394.93 Q1930.17 1389.49 1934.28 1385.38 Z\" fill=\"#000000\" fill-rule=\"evenodd\" fill-opacity=\"1\" /><path clip-path=\"url(#clip980)\" d=\"M 0 0 M1958.72 1389.66 L1967.54 1380.83 L1970.22 1383.52 L1961.4 1392.34 L1958.72 1389.66 Z\" fill=\"#000000\" fill-rule=\"evenodd\" fill-opacity=\"1\" /><path clip-path=\"url(#clip980)\" d=\"M 0 0 M1966.46 1358.44 Q1963.9 1361 1965.13 1364.81 Q1966.36 1368.59 1971.4 1373.63 Q1976.43 1378.66 1980.22 1379.9 Q1984.02 1381.11 1986.57 1378.56 Q1989.14 1375.99 1987.92 1372.21 Q1986.69 1368.39 1981.66 1363.37 Q1976.62 1358.33 1972.82 1357.12 Q1969.03 1355.87 1966.46 1358.44 M1963.84 1355.82 Q1967.95 1351.71 1973.36 1352.81 Q1978.78 1353.88 1984.97 1360.06 Q1991.14 1366.23 1992.22 1371.67 Q1993.3 1377.07 1989.19 1381.18 Q1985.08 1385.29 1979.67 1384.22 Q1974.25 1383.13 1968.08 1376.95 Q1961.89 1370.77 1960.81 1365.37 Q1959.73 1359.93 1963.84 1355.82 Z\" fill=\"#000000\" fill-rule=\"evenodd\" fill-opacity=\"1\" /><path clip-path=\"url(#clip980)\" d=\"M 0 0 M1975.48 1345.07 L1991.19 1329.36 L1992.6 1330.76 L2006.76 1362.67 L2003.3 1366.12 L1989.99 1336.12 L1978.26 1347.85 L1975.48 1345.07 Z\" fill=\"#000000\" fill-rule=\"evenodd\" fill-opacity=\"1\" /><path clip-path=\"url(#clip980)\" d=\"M 0 0 M2006.74 1341.63 L2015.56 1332.81 L2018.25 1335.49 L2009.42 1344.32 L2006.74 1341.63 Z\" fill=\"#000000\" fill-rule=\"evenodd\" fill-opacity=\"1\" /><path clip-path=\"url(#clip980)\" d=\"M 0 0 M2014.48 1310.42 Q2011.93 1312.97 2013.16 1316.79 Q2014.38 1320.57 2019.42 1325.61 Q2024.45 1330.63 2028.25 1331.88 Q2032.04 1333.09 2034.6 1330.53 Q2037.17 1327.96 2035.94 1324.18 Q2034.71 1320.37 2029.69 1315.34 Q2024.65 1310.3 2020.85 1309.09 Q2017.05 1307.85 2014.48 1310.42 M2011.86 1307.8 Q2015.97 1303.69 2021.39 1304.79 Q2026.81 1305.85 2032.99 1312.04 Q2039.16 1318.21 2040.24 1323.64 Q2041.33 1329.04 2037.22 1333.15 Q2033.11 1337.26 2027.69 1336.2 Q2022.27 1335.1 2016.1 1328.93 Q2009.91 1322.74 2008.83 1317.34 Q2007.75 1311.91 2011.86 1307.8 Z\" fill=\"#000000\" fill-rule=\"evenodd\" fill-opacity=\"1\" /><path clip-path=\"url(#clip980)\" d=\"M 0 0 M2048.36 1320.04 L2045.35 1317.03 Q2047.19 1316.38 2048.77 1315.41 Q2050.36 1314.44 2051.59 1313.22 Q2054.86 1309.94 2054.39 1306.03 Q2053.91 1302.09 2049.67 1297.36 Q2050.13 1299.71 2049.43 1301.92 Q2048.72 1304.13 2046.96 1305.9 Q2043.29 1309.57 2038.94 1309.5 Q2034.58 1309.4 2030.74 1305.56 Q2026.97 1301.79 2026.92 1297.29 Q2026.87 1292.79 2030.57 1289.09 Q2034.81 1284.85 2040.29 1285.88 Q2045.78 1286.88 2051.96 1293.07 Q2057.74 1298.85 2058.45 1305.05 Q2059.15 1311.22 2054.52 1315.85 Q2053.27 1317.1 2051.75 1318.13 Q2050.23 1319.16 2048.36 1320.04 M2044.58 1303.1 Q2046.81 1300.88 2046.58 1298.06 Q2046.37 1295.23 2043.71 1292.58 Q2041.08 1289.94 2038.25 1289.73 Q2035.42 1289.48 2033.19 1291.71 Q2030.96 1293.94 2031.19 1296.78 Q2031.42 1299.6 2034.06 1302.23 Q2036.71 1304.89 2039.52 1305.11 Q2042.36 1305.33 2044.58 1303.1 Z\" fill=\"#000000\" fill-rule=\"evenodd\" fill-opacity=\"1\" /><path clip-path=\"url(#clip980)\" d=\"M 0 0 M2089.18 1465.29 L2100.72 1453.75 L2103.5 1456.54 L2087.98 1472.05 L2085.2 1469.27 Q2085.14 1465.44 2085.1 1458.93 Q2085.07 1452.38 2084.96 1450.59 Q2084.76 1447.22 2084.15 1445.37 Q2083.55 1443.49 2082.35 1442.3 Q2080.41 1440.35 2077.8 1440.5 Q2075.22 1440.63 2073.02 1442.82 Q2071.47 1444.37 2070.27 1446.65 Q2069.1 1448.91 2068.23 1451.97 L2064.89 1448.63 Q2066.08 1445.83 2067.41 1443.69 Q2068.74 1441.54 2070.18 1440.1 Q2073.97 1436.31 2078.13 1435.95 Q2082.29 1435.59 2085.46 1438.76 Q2086.97 1440.27 2087.76 1442.2 Q2088.54 1444.1 2088.89 1447.42 Q2088.95 1448.3 2089.03 1452.77 Q2089.1 1457.22 2089.18 1465.29 Z\" fill=\"#000000\" fill-rule=\"evenodd\" fill-opacity=\"1\" /><path clip-path=\"url(#clip980)\" d=\"M 0 0 M2091.9 1423.62 Q2089.34 1426.17 2090.57 1429.99 Q2091.8 1433.77 2096.84 1438.81 Q2101.86 1443.83 2105.66 1445.08 Q2109.46 1446.29 2112.01 1443.74 Q2114.58 1441.17 2113.36 1437.39 Q2112.13 1433.57 2107.1 1428.55 Q2102.06 1423.51 2098.26 1422.29 Q2094.47 1421.05 2091.9 1423.62 M2089.28 1421 Q2093.39 1416.89 2098.8 1417.99 Q2104.22 1419.05 2110.41 1425.24 Q2116.58 1431.41 2117.66 1436.85 Q2118.74 1442.25 2114.63 1446.36 Q2110.52 1450.46 2105.11 1449.4 Q2099.69 1448.3 2093.52 1442.13 Q2087.33 1435.95 2086.25 1430.54 Q2085.17 1425.11 2089.28 1421 Z\" fill=\"#000000\" fill-rule=\"evenodd\" fill-opacity=\"1\" /><path clip-path=\"url(#clip980)\" d=\"M 0 0 M2126.25 1428.22 L2137.79 1416.68 L2140.58 1419.46 L2125.06 1434.98 L2122.28 1432.2 Q2122.21 1428.37 2122.18 1421.85 Q2122.15 1415.3 2122.03 1413.52 Q2121.83 1410.15 2121.23 1408.3 Q2120.62 1406.42 2119.43 1405.22 Q2117.48 1403.27 2114.88 1403.42 Q2112.29 1403.55 2110.1 1405.75 Q2108.54 1407.3 2107.35 1409.58 Q2106.17 1411.83 2105.3 1414.9 L2101.96 1411.56 Q2103.16 1408.76 2104.48 1406.61 Q2105.81 1404.47 2107.25 1403.03 Q2111.05 1399.23 2115.2 1398.87 Q2119.36 1398.51 2122.54 1401.69 Q2124.04 1403.19 2124.83 1405.12 Q2125.62 1407.02 2125.96 1410.35 Q2126.02 1411.23 2126.11 1415.7 Q2126.17 1420.15 2126.25 1428.22 Z\" fill=\"#000000\" fill-rule=\"evenodd\" fill-opacity=\"1\" /><path clip-path=\"url(#clip980)\" d=\"M 0 0 M2128.97 1386.55 Q2126.42 1389.1 2127.64 1392.91 Q2128.87 1396.69 2133.91 1401.74 Q2138.94 1406.76 2142.74 1408 Q2146.53 1409.22 2149.09 1406.66 Q2151.66 1404.09 2150.43 1400.31 Q2149.2 1396.5 2144.18 1391.47 Q2139.14 1386.43 2135.34 1385.22 Q2131.54 1383.98 2128.97 1386.55 M2126.35 1383.93 Q2130.46 1379.82 2135.88 1380.92 Q2141.3 1381.98 2147.48 1388.17 Q2153.65 1394.34 2154.73 1399.77 Q2155.81 1405.17 2151.71 1409.28 Q2147.6 1413.39 2142.18 1412.33 Q2136.76 1411.23 2130.59 1405.06 Q2124.4 1398.87 2123.32 1393.47 Q2122.24 1388.04 2126.35 1383.93 Z\" fill=\"#000000\" fill-rule=\"evenodd\" fill-opacity=\"1\" /><path clip-path=\"url(#clip980)\" d=\"M 0 0 M2150.79 1388.2 L2159.61 1379.38 L2162.3 1382.06 L2153.47 1390.88 L2150.79 1388.2 Z\" fill=\"#000000\" fill-rule=\"evenodd\" fill-opacity=\"1\" /><path clip-path=\"url(#clip980)\" d=\"M 0 0 M2158.53 1356.99 Q2155.98 1359.54 2157.21 1363.35 Q2158.43 1367.13 2163.47 1372.17 Q2168.5 1377.2 2172.3 1378.44 Q2176.09 1379.66 2178.65 1377.1 Q2181.22 1374.53 2179.99 1370.75 Q2178.76 1366.94 2173.74 1361.91 Q2168.7 1356.87 2164.9 1355.66 Q2161.1 1354.42 2158.53 1356.99 M2155.91 1354.37 Q2160.02 1350.26 2165.44 1351.35 Q2170.86 1352.42 2177.04 1358.61 Q2183.21 1364.78 2184.29 1370.21 Q2185.38 1375.61 2181.27 1379.72 Q2177.16 1383.83 2171.74 1382.77 Q2166.32 1381.67 2160.15 1375.5 Q2153.96 1369.31 2152.88 1363.91 Q2151.8 1358.47 2155.91 1354.37 Z\" fill=\"#000000\" fill-rule=\"evenodd\" fill-opacity=\"1\" /><path clip-path=\"url(#clip980)\" d=\"M 0 0 M2167.55 1343.61 L2183.26 1327.9 L2184.67 1329.31 L2198.83 1361.21 L2195.38 1364.66 L2182.07 1334.66 L2170.33 1346.4 L2167.55 1343.61 Z\" fill=\"#000000\" fill-rule=\"evenodd\" fill-opacity=\"1\" /><path clip-path=\"url(#clip980)\" d=\"M 0 0 M2198.81 1340.18 L2207.64 1331.35 L2210.32 1334.04 L2201.5 1342.86 L2198.81 1340.18 Z\" fill=\"#000000\" fill-rule=\"evenodd\" fill-opacity=\"1\" /><path clip-path=\"url(#clip980)\" d=\"M 0 0 M2221.81 1332.66 L2233.35 1321.12 L2236.13 1323.91 L2220.62 1339.42 L2217.83 1336.64 Q2217.77 1332.81 2217.73 1326.3 Q2217.7 1319.75 2217.59 1317.96 Q2217.39 1314.59 2216.79 1312.74 Q2216.18 1310.86 2214.99 1309.67 Q2213.04 1307.72 2210.43 1307.86 Q2207.85 1308 2205.66 1310.19 Q2204.1 1311.74 2202.91 1314.02 Q2201.73 1316.28 2200.86 1319.34 L2197.52 1316 Q2198.72 1313.2 2200.04 1311.06 Q2201.37 1308.91 2202.81 1307.47 Q2206.6 1303.67 2210.76 1303.31 Q2214.92 1302.95 2218.1 1306.13 Q2219.6 1307.64 2220.39 1309.57 Q2221.17 1311.47 2221.52 1314.79 Q2221.58 1315.67 2221.66 1320.14 Q2221.73 1324.59 2221.81 1332.66 Z\" fill=\"#000000\" fill-rule=\"evenodd\" fill-opacity=\"1\" /><path clip-path=\"url(#clip980)\" d=\"M 0 0 M2236.56 1297.13 Q2239.44 1295.26 2242.37 1295.54 Q2245.32 1295.8 2247.67 1298.16 Q2251.29 1301.78 2250.78 1306.24 Q2250.27 1310.71 2245.69 1315.3 Q2244.15 1316.83 2242.21 1318.16 Q2240.29 1319.49 2237.95 1320.62 L2234.76 1317.42 Q2236.93 1316.85 2238.98 1315.62 Q2241.03 1314.4 2242.81 1312.61 Q2245.92 1309.5 2246.31 1306.65 Q2246.72 1303.79 2244.38 1301.45 Q2242.22 1299.29 2239.49 1299.6 Q2236.75 1299.88 2234.05 1302.58 L2231.21 1305.43 L2228.49 1302.71 L2231.47 1299.73 Q2233.91 1297.29 2234.23 1295.03 Q2234.54 1292.76 2232.71 1290.92 Q2230.83 1289.04 2228.49 1289.38 Q2226.15 1289.7 2223.66 1292.18 Q2222.3 1293.54 2221.04 1295.39 Q2219.78 1297.24 2218.54 1299.73 L2215.59 1296.78 Q2216.95 1294.38 2218.32 1292.48 Q2219.72 1290.56 2221.17 1289.11 Q2224.94 1285.34 2228.85 1284.87 Q2232.74 1284.38 2235.66 1287.29 Q2237.69 1289.32 2237.93 1291.89 Q2238.16 1294.44 2236.56 1297.13 Z\" fill=\"#000000\" fill-rule=\"evenodd\" fill-opacity=\"1\" /><path clip-path=\"url(#clip980)\" d=\"M 0 0 M169.721 1251.45 L177.359 1251.45 L177.359 1225.09 L169.049 1226.75 L169.049 1222.49 L177.313 1220.83 L181.989 1220.83 L181.989 1251.45 L189.628 1251.45 L189.628 1255.39 L169.721 1255.39 L169.721 1251.45 Z\" fill=\"#000000\" fill-rule=\"evenodd\" fill-opacity=\"1\" /><path clip-path=\"url(#clip980)\" d=\"M 0 0 M204.697 1223.91 Q201.086 1223.91 199.257 1227.47 Q197.452 1231.01 197.452 1238.14 Q197.452 1245.25 199.257 1248.81 Q201.086 1252.35 204.697 1252.35 Q208.331 1252.35 210.137 1248.81 Q211.966 1245.25 211.966 1238.14 Q211.966 1231.01 210.137 1227.47 Q208.331 1223.91 204.697 1223.91 M204.697 1220.2 Q210.507 1220.2 213.563 1224.81 Q216.642 1229.39 216.642 1238.14 Q216.642 1246.87 213.563 1251.48 Q210.507 1256.06 204.697 1256.06 Q198.887 1256.06 195.808 1251.48 Q192.753 1246.87 192.753 1238.14 Q192.753 1229.39 195.808 1224.81 Q198.887 1220.2 204.697 1220.2 Z\" fill=\"#000000\" fill-rule=\"evenodd\" fill-opacity=\"1\" /><path clip-path=\"url(#clip980)\" d=\"M 0 0 M226.346 1202.4 Q223.412 1202.4 221.927 1205.29 Q220.46 1208.17 220.46 1213.96 Q220.46 1219.74 221.927 1222.64 Q223.412 1225.51 226.346 1225.51 Q229.299 1225.51 230.766 1222.64 Q232.252 1219.74 232.252 1213.96 Q232.252 1208.17 230.766 1205.29 Q229.299 1202.4 226.346 1202.4 M226.346 1199.39 Q231.067 1199.39 233.55 1203.13 Q236.051 1206.86 236.051 1213.96 Q236.051 1221.06 233.55 1224.8 Q231.067 1228.52 226.346 1228.52 Q221.626 1228.52 219.124 1224.8 Q216.642 1221.06 216.642 1213.96 Q216.642 1206.86 219.124 1203.13 Q221.626 1199.39 226.346 1199.39 Z\" fill=\"#000000\" fill-rule=\"evenodd\" fill-opacity=\"1\" /><path clip-path=\"url(#clip980)\" d=\"M 0 0 M172.41 1061.45 L180.049 1061.45 L180.049 1035.08 L171.739 1036.75 L171.739 1032.49 L180.003 1030.82 L184.679 1030.82 L184.679 1061.45 L192.317 1061.45 L192.317 1065.38 L172.41 1065.38 L172.41 1061.45 Z\" fill=\"#000000\" fill-rule=\"evenodd\" fill-opacity=\"1\" /><path clip-path=\"url(#clip980)\" d=\"M 0 0 M207.387 1033.9 Q203.776 1033.9 201.947 1037.47 Q200.141 1041.01 200.141 1048.14 Q200.141 1055.24 201.947 1058.81 Q203.776 1062.35 207.387 1062.35 Q211.021 1062.35 212.827 1058.81 Q214.655 1055.24 214.655 1048.14 Q214.655 1041.01 212.827 1037.47 Q211.021 1033.9 207.387 1033.9 M207.387 1030.2 Q213.197 1030.2 216.252 1034.8 Q219.331 1039.39 219.331 1048.14 Q219.331 1056.86 216.252 1061.47 Q213.197 1066.05 207.387 1066.05 Q201.577 1066.05 198.498 1061.47 Q195.442 1056.86 195.442 1048.14 Q195.442 1039.39 198.498 1034.8 Q201.577 1030.2 207.387 1030.2 Z\" fill=\"#000000\" fill-rule=\"evenodd\" fill-opacity=\"1\" /><path clip-path=\"url(#clip980)\" d=\"M 0 0 M219.877 1034.77 L226.083 1034.77 L226.083 1013.35 L219.331 1014.71 L219.331 1011.25 L226.046 1009.89 L229.845 1009.89 L229.845 1034.77 L236.051 1034.77 L236.051 1037.97 L219.877 1037.97 L219.877 1034.77 Z\" fill=\"#000000\" fill-rule=\"evenodd\" fill-opacity=\"1\" /><path clip-path=\"url(#clip980)\" d=\"M 0 0 M171.3 871.442 L178.939 871.442 L178.939 845.076 L170.629 846.743 L170.629 842.484 L178.893 840.817 L183.569 840.817 L183.569 871.442 L191.208 871.442 L191.208 875.377 L171.3 875.377 L171.3 871.442 Z\" fill=\"#000000\" fill-rule=\"evenodd\" fill-opacity=\"1\" /><path clip-path=\"url(#clip980)\" d=\"M 0 0 M206.277 843.896 Q202.666 843.896 200.837 847.46 Q199.032 851.002 199.032 858.132 Q199.032 865.238 200.837 868.803 Q202.666 872.345 206.277 872.345 Q209.911 872.345 211.717 868.803 Q213.546 865.238 213.546 858.132 Q213.546 851.002 211.717 847.46 Q209.911 843.896 206.277 843.896 M206.277 840.192 Q212.087 840.192 215.143 844.798 Q218.221 849.382 218.221 858.132 Q218.221 866.858 215.143 871.465 Q212.087 876.048 206.277 876.048 Q200.467 876.048 197.388 871.465 Q194.333 866.858 194.333 858.132 Q194.333 849.382 197.388 844.798 Q200.467 840.192 206.277 840.192 Z\" fill=\"#000000\" fill-rule=\"evenodd\" fill-opacity=\"1\" /><path clip-path=\"url(#clip980)\" d=\"M 0 0 M222.792 844.769 L236.051 844.769 L236.051 847.967 L218.221 847.967 L218.221 844.769 Q220.384 842.531 224.108 838.77 Q227.851 834.989 228.81 833.898 Q230.635 831.848 231.349 830.438 Q232.083 829.008 232.083 827.635 Q232.083 825.397 230.503 823.987 Q228.942 822.576 226.422 822.576 Q224.635 822.576 222.641 823.197 Q220.666 823.817 218.41 825.077 L218.41 821.241 Q220.704 820.319 222.698 819.849 Q224.691 819.379 226.346 819.379 Q230.71 819.379 233.305 821.56 Q235.901 823.742 235.901 827.391 Q235.901 829.121 235.243 830.682 Q234.603 832.224 232.892 834.331 Q232.421 834.876 229.901 837.491 Q227.381 840.086 222.792 844.769 Z\" fill=\"#000000\" fill-rule=\"evenodd\" fill-opacity=\"1\" /><path clip-path=\"url(#clip980)\" d=\"M 0 0 M170.642 681.437 L178.281 681.437 L178.281 655.071 L169.971 656.738 L169.971 652.478 L178.235 650.812 L182.911 650.812 L182.911 681.437 L190.549 681.437 L190.549 685.372 L170.642 685.372 L170.642 681.437 Z\" fill=\"#000000\" fill-rule=\"evenodd\" fill-opacity=\"1\" /><path clip-path=\"url(#clip980)\" d=\"M 0 0 M205.619 653.89 Q202.008 653.89 200.179 657.455 Q198.373 660.997 198.373 668.127 Q198.373 675.233 200.179 678.798 Q202.008 682.339 205.619 682.339 Q209.253 682.339 211.059 678.798 Q212.887 675.233 212.887 668.127 Q212.887 660.997 211.059 657.455 Q209.253 653.89 205.619 653.89 M205.619 650.187 Q211.429 650.187 214.485 654.793 Q217.563 659.377 217.563 668.127 Q217.563 676.853 214.485 681.46 Q211.429 686.043 205.619 686.043 Q199.809 686.043 196.73 681.46 Q193.674 676.853 193.674 668.127 Q193.674 659.377 196.73 654.793 Q199.809 650.187 205.619 650.187 Z\" fill=\"#000000\" fill-rule=\"evenodd\" fill-opacity=\"1\" /><path clip-path=\"url(#clip980)\" d=\"M 0 0 M230.258 642.821 Q232.986 643.404 234.509 645.247 Q236.051 647.09 236.051 649.799 Q236.051 653.955 233.192 656.231 Q230.334 658.507 225.067 658.507 Q223.3 658.507 221.419 658.149 Q219.557 657.811 217.563 657.115 L217.563 653.448 Q219.143 654.369 221.024 654.839 Q222.905 655.309 224.955 655.309 Q228.528 655.309 230.39 653.899 Q232.271 652.488 232.271 649.799 Q232.271 647.316 230.522 645.924 Q228.791 644.514 225.688 644.514 L222.416 644.514 L222.416 641.392 L225.839 641.392 Q228.641 641.392 230.127 640.282 Q231.613 639.154 231.613 637.047 Q231.613 634.884 230.07 633.737 Q228.547 632.571 225.688 632.571 Q224.127 632.571 222.34 632.909 Q220.554 633.248 218.41 633.963 L218.41 630.577 Q220.572 629.975 222.453 629.674 Q224.353 629.374 226.027 629.374 Q230.352 629.374 232.873 631.348 Q235.393 633.304 235.393 636.652 Q235.393 638.984 234.058 640.602 Q232.722 642.2 230.258 642.821 Z\" fill=\"#000000\" fill-rule=\"evenodd\" fill-opacity=\"1\" /><path clip-path=\"url(#clip980)\" d=\"M 0 0 M168.667 491.431 L176.306 491.431 L176.306 465.066 L167.996 466.733 L167.996 462.473 L176.26 460.807 L180.936 460.807 L180.936 491.431 L188.575 491.431 L188.575 495.367 L168.667 495.367 L168.667 491.431 Z\" fill=\"#000000\" fill-rule=\"evenodd\" fill-opacity=\"1\" /><path clip-path=\"url(#clip980)\" d=\"M 0 0 M203.644 463.885 Q200.033 463.885 198.204 467.45 Q196.399 470.992 196.399 478.121 Q196.399 485.228 198.204 488.793 Q200.033 492.334 203.644 492.334 Q207.278 492.334 209.084 488.793 Q210.912 485.228 210.912 478.121 Q210.912 470.992 209.084 467.45 Q207.278 463.885 203.644 463.885 M203.644 460.182 Q209.454 460.182 212.51 464.788 Q215.588 469.371 215.588 478.121 Q215.588 486.848 212.51 491.455 Q209.454 496.038 203.644 496.038 Q197.834 496.038 194.755 491.455 Q191.7 486.848 191.7 478.121 Q191.7 469.371 194.755 464.788 Q197.834 460.182 203.644 460.182 Z\" fill=\"#000000\" fill-rule=\"evenodd\" fill-opacity=\"1\" /><path clip-path=\"url(#clip980)\" d=\"M 0 0 M228.265 443.186 L218.673 458.176 L228.265 458.176 L228.265 443.186 M227.268 439.876 L232.045 439.876 L232.045 458.176 L236.051 458.176 L236.051 461.336 L232.045 461.336 L232.045 467.956 L228.265 467.956 L228.265 461.336 L215.588 461.336 L215.588 457.668 L227.268 439.876 Z\" fill=\"#000000\" fill-rule=\"evenodd\" fill-opacity=\"1\" /><path clip-path=\"url(#clip980)\" d=\"M 0 0 M170.962 301.426 L178.601 301.426 L178.601 275.061 L170.291 276.727 L170.291 272.468 L178.554 270.802 L183.23 270.802 L183.23 301.426 L190.869 301.426 L190.869 305.362 L170.962 305.362 L170.962 301.426 Z\" fill=\"#000000\" fill-rule=\"evenodd\" fill-opacity=\"1\" /><path clip-path=\"url(#clip980)\" d=\"M 0 0 M205.939 273.88 Q202.327 273.88 200.499 277.445 Q198.693 280.987 198.693 288.116 Q198.693 295.223 200.499 298.787 Q202.327 302.329 205.939 302.329 Q209.573 302.329 211.378 298.787 Q213.207 295.223 213.207 288.116 Q213.207 280.987 211.378 277.445 Q209.573 273.88 205.939 273.88 M205.939 270.177 Q211.749 270.177 214.804 274.783 Q217.883 279.366 217.883 288.116 Q217.883 296.843 214.804 301.45 Q211.749 306.033 205.939 306.033 Q200.128 306.033 197.05 301.45 Q193.994 296.843 193.994 288.116 Q193.994 279.366 197.05 274.783 Q200.128 270.177 205.939 270.177 Z\" fill=\"#000000\" fill-rule=\"evenodd\" fill-opacity=\"1\" /><path clip-path=\"url(#clip980)\" d=\"M 0 0 M219.068 249.871 L233.982 249.871 L233.982 253.068 L222.547 253.068 L222.547 259.952 Q223.375 259.67 224.202 259.538 Q225.03 259.388 225.857 259.388 Q230.559 259.388 233.305 261.965 Q236.051 264.541 236.051 268.942 Q236.051 273.475 233.23 275.995 Q230.409 278.497 225.274 278.497 Q223.506 278.497 221.663 278.196 Q219.839 277.895 217.883 277.293 L217.883 273.475 Q219.576 274.396 221.381 274.848 Q223.187 275.299 225.199 275.299 Q228.453 275.299 230.352 273.588 Q232.252 271.876 232.252 268.942 Q232.252 266.008 230.352 264.297 Q228.453 262.585 225.199 262.585 Q223.676 262.585 222.152 262.924 Q220.648 263.262 219.068 263.977 L219.068 249.871 Z\" fill=\"#000000\" fill-rule=\"evenodd\" fill-opacity=\"1\" /><path clip-path=\"url(#clip980)\" d=\"M 0 0 M1176.53 16.7545 L1176.53 25.383 Q1172.4 21.5346 1167.7 19.6307 Q1163.04 17.7268 1157.78 17.7268 Q1147.41 17.7268 1141.9 24.0867 Q1136.39 30.4061 1136.39 42.3968 Q1136.39 54.3469 1141.9 60.7069 Q1147.41 67.0263 1157.78 67.0263 Q1163.04 67.0263 1167.7 65.1223 Q1172.4 63.2184 1176.53 59.3701 L1176.53 67.9175 Q1172.24 70.8341 1167.42 72.2924 Q1162.64 73.7508 1157.29 73.7508 Q1143.56 73.7508 1135.66 65.3654 Q1127.76 56.9395 1127.76 42.3968 Q1127.76 27.8135 1135.66 19.4281 Q1143.56 11.0023 1157.29 11.0023 Q1162.72 11.0023 1167.5 12.4606 Q1172.32 13.8784 1176.53 16.7545 Z\" fill=\"#000000\" fill-rule=\"evenodd\" fill-opacity=\"1\" /><path clip-path=\"url(#clip980)\" d=\"M 0 0 M1209.22 17.6457 Q1200.31 17.6457 1195.04 24.2892 Q1189.82 30.9327 1189.82 42.3968 Q1189.82 53.8203 1195.04 60.4638 Q1200.31 67.1073 1209.22 67.1073 Q1218.13 67.1073 1223.32 60.4638 Q1228.55 53.8203 1228.55 42.3968 Q1228.55 30.9327 1223.32 24.2892 Q1218.13 17.6457 1209.22 17.6457 M1209.22 11.0023 Q1221.94 11.0023 1229.56 19.5497 Q1237.17 28.0566 1237.17 42.3968 Q1237.17 56.6965 1229.56 65.2439 Q1221.94 73.7508 1209.22 73.7508 Q1196.46 73.7508 1188.81 65.2439 Q1181.19 56.737 1181.19 42.3968 Q1181.19 28.0566 1188.81 19.5497 Q1196.46 11.0023 1209.22 11.0023 Z\" fill=\"#000000\" fill-rule=\"evenodd\" fill-opacity=\"1\" /><path clip-path=\"url(#clip980)\" d=\"M 0 0 M1259.45 72.576 L1236.36 12.096 L1244.91 12.096 L1264.07 63.0159 L1283.27 12.096 L1291.78 12.096 L1268.73 72.576 L1259.45 72.576 Z\" fill=\"#000000\" fill-rule=\"evenodd\" fill-opacity=\"1\" /><path clip-path=\"url(#clip980)\" d=\"M 0 0 M1299.92 12.096 L1308.1 12.096 L1308.1 72.576 L1299.92 72.576 L1299.92 12.096 Z\" fill=\"#000000\" fill-rule=\"evenodd\" fill-opacity=\"1\" /><path clip-path=\"url(#clip980)\" d=\"M 0 0 M1324.43 18.8205 L1324.43 65.8515 L1334.31 65.8515 Q1346.83 65.8515 1352.62 60.1802 Q1358.46 54.509 1358.46 42.2752 Q1358.46 30.1225 1352.62 24.4918 Q1346.83 18.8205 1334.31 18.8205 L1324.43 18.8205 M1316.25 12.096 L1333.06 12.096 Q1350.64 12.096 1358.86 19.4281 Q1367.09 26.7198 1367.09 42.2752 Q1367.09 57.9117 1358.82 65.2439 Q1350.56 72.576 1333.06 72.576 L1316.25 72.576 L1316.25 12.096 Z\" fill=\"#000000\" fill-rule=\"evenodd\" fill-opacity=\"1\" /><path clip-path=\"url(#clip980)\" d=\"M 0 0 M1371.14 46.5287 L1392.97 46.5287 L1392.97 53.1722 L1371.14 53.1722 L1371.14 46.5287 Z\" fill=\"#000000\" fill-rule=\"evenodd\" fill-opacity=\"1\" /><path clip-path=\"url(#clip980)\" d=\"M 0 0 M1403.26 65.6895 L1416.63 65.6895 L1416.63 19.5497 L1402.09 22.4663 L1402.09 15.0127 L1416.55 12.096 L1424.73 12.096 L1424.73 65.6895 L1438.1 65.6895 L1438.1 72.576 L1403.26 72.576 L1403.26 65.6895 Z\" fill=\"#000000\" fill-rule=\"evenodd\" fill-opacity=\"1\" /><path clip-path=\"url(#clip980)\" d=\"M 0 0 M1447.21 71.3202 L1447.21 63.8666 Q1450.29 65.3249 1453.45 66.0946 Q1456.61 66.8642 1459.65 66.8642 Q1467.75 66.8642 1472 61.436 Q1476.3 55.9673 1476.91 44.8678 Q1474.56 48.3516 1470.95 50.215 Q1467.35 52.0784 1462.97 52.0784 Q1453.9 52.0784 1448.59 46.6097 Q1443.32 41.1005 1443.32 31.5808 Q1443.32 22.2638 1448.83 16.633 Q1454.34 11.0023 1463.5 11.0023 Q1473.99 11.0023 1479.5 19.0636 Q1485.05 27.0843 1485.05 42.3968 Q1485.05 56.6965 1478.24 65.2439 Q1471.48 73.7508 1460.01 73.7508 Q1456.94 73.7508 1453.78 73.1431 Q1450.62 72.5355 1447.21 71.3202 M1463.5 45.678 Q1469.01 45.678 1472.21 41.9107 Q1475.45 38.1433 1475.45 31.5808 Q1475.45 25.0589 1472.21 21.2916 Q1469.01 17.4837 1463.5 17.4837 Q1457.99 17.4837 1454.75 21.2916 Q1451.55 25.0589 1451.55 31.5808 Q1451.55 38.1433 1454.75 41.9107 Q1457.99 45.678 1463.5 45.678 Z\" fill=\"#000000\" fill-rule=\"evenodd\" fill-opacity=\"1\" /><path clip-path=\"url(#clip980)\" d=\"M 0 0 M878.373 1506.66 L878.373 1513.44 Q875.127 1510.42 871.435 1508.92 Q867.775 1507.42 863.637 1507.42 Q855.489 1507.42 851.16 1512.42 Q846.831 1517.39 846.831 1526.81 Q846.831 1536.2 851.16 1541.19 Q855.489 1546.16 863.637 1546.16 Q867.775 1546.16 871.435 1544.66 Q875.127 1543.17 878.373 1540.14 L878.373 1546.86 Q875 1549.15 871.212 1550.3 Q867.456 1551.44 863.255 1551.44 Q852.465 1551.44 846.258 1544.85 Q840.052 1538.23 840.052 1526.81 Q840.052 1515.35 846.258 1508.76 Q852.465 1502.14 863.255 1502.14 Q867.52 1502.14 871.276 1503.29 Q875.063 1504.4 878.373 1506.66 Z\" fill=\"#000000\" fill-rule=\"evenodd\" fill-opacity=\"1\" /><path clip-path=\"url(#clip980)\" d=\"M 0 0 M898.33 1518.98 Q893.619 1518.98 890.882 1522.67 Q888.145 1526.33 888.145 1532.73 Q888.145 1539.13 890.85 1542.82 Q893.587 1546.48 898.33 1546.48 Q903.009 1546.48 905.746 1542.79 Q908.483 1539.09 908.483 1532.73 Q908.483 1526.39 905.746 1522.7 Q903.009 1518.98 898.33 1518.98 M898.33 1514.01 Q905.969 1514.01 910.329 1518.98 Q914.69 1523.94 914.69 1532.73 Q914.69 1541.48 910.329 1546.48 Q905.969 1551.44 898.33 1551.44 Q890.659 1551.44 886.299 1546.48 Q881.97 1541.48 881.97 1532.73 Q881.97 1523.94 886.299 1518.98 Q890.659 1514.01 898.33 1514.01 Z\" fill=\"#000000\" fill-rule=\"evenodd\" fill-opacity=\"1\" /><path clip-path=\"url(#clip980)\" d=\"M 0 0 M950.465 1529 L950.465 1550.52 L944.609 1550.52 L944.609 1529.19 Q944.609 1524.13 942.635 1521.62 Q940.662 1519.11 936.715 1519.11 Q931.973 1519.11 929.235 1522.13 Q926.498 1525.15 926.498 1530.37 L926.498 1550.52 L920.61 1550.52 L920.61 1514.87 L926.498 1514.87 L926.498 1520.41 Q928.599 1517.2 931.432 1515.6 Q934.296 1514.01 938.02 1514.01 Q944.163 1514.01 947.314 1517.83 Q950.465 1521.62 950.465 1529 Z\" fill=\"#000000\" fill-rule=\"evenodd\" fill-opacity=\"1\" /><path clip-path=\"url(#clip980)\" d=\"M 0 0 M974.655 1500.99 L974.655 1505.86 L969.053 1505.86 Q965.902 1505.86 964.661 1507.14 Q963.451 1508.41 963.451 1511.72 L963.451 1514.87 L973.095 1514.87 L973.095 1519.42 L963.451 1519.42 L963.451 1550.52 L957.563 1550.52 L957.563 1519.42 L951.961 1519.42 L951.961 1514.87 L957.563 1514.87 L957.563 1512.39 Q957.563 1506.44 960.332 1503.73 Q963.101 1500.99 969.117 1500.99 L974.655 1500.99 Z\" fill=\"#000000\" fill-rule=\"evenodd\" fill-opacity=\"1\" /><path clip-path=\"url(#clip980)\" d=\"M 0 0 M980.798 1514.87 L986.654 1514.87 L986.654 1550.52 L980.798 1550.52 L980.798 1514.87 M980.798 1500.99 L986.654 1500.99 L986.654 1508.41 L980.798 1508.41 L980.798 1500.99 Z\" fill=\"#000000\" fill-rule=\"evenodd\" fill-opacity=\"1\" /><path clip-path=\"url(#clip980)\" d=\"M 0 0 M1013.45 1520.35 Q1012.47 1519.77 1011.29 1519.52 Q1010.14 1519.23 1008.74 1519.23 Q1003.78 1519.23 1001.1 1522.48 Q998.463 1525.69 998.463 1531.74 L998.463 1550.52 L992.574 1550.52 L992.574 1514.87 L998.463 1514.87 L998.463 1520.41 Q1000.31 1517.16 1003.27 1515.6 Q1006.23 1514.01 1010.46 1514.01 Q1011.07 1514.01 1011.8 1514.11 Q1012.53 1514.17 1013.42 1514.33 L1013.45 1520.35 Z\" fill=\"#000000\" fill-rule=\"evenodd\" fill-opacity=\"1\" /><path clip-path=\"url(#clip980)\" d=\"M 0 0 M1046.21 1521.72 Q1048.4 1517.77 1051.46 1515.89 Q1054.51 1514.01 1058.65 1514.01 Q1064.22 1514.01 1067.24 1517.93 Q1070.27 1521.81 1070.27 1529 L1070.27 1550.52 L1064.38 1550.52 L1064.38 1529.19 Q1064.38 1524.07 1062.57 1521.59 Q1060.75 1519.11 1057.03 1519.11 Q1052.48 1519.11 1049.83 1522.13 Q1047.19 1525.15 1047.19 1530.37 L1047.19 1550.52 L1041.3 1550.52 L1041.3 1529.19 Q1041.3 1524.04 1039.49 1521.59 Q1037.68 1519.11 1033.89 1519.11 Q1029.4 1519.11 1026.76 1522.16 Q1024.12 1525.18 1024.12 1530.37 L1024.12 1550.52 L1018.23 1550.52 L1018.23 1514.87 L1024.12 1514.87 L1024.12 1520.41 Q1026.12 1517.13 1028.92 1515.57 Q1031.72 1514.01 1035.57 1514.01 Q1039.46 1514.01 1042.16 1515.99 Q1044.9 1517.96 1046.21 1521.72 Z\" fill=\"#000000\" fill-rule=\"evenodd\" fill-opacity=\"1\" /><path clip-path=\"url(#clip980)\" d=\"M 0 0 M1106.9 1531.23 L1106.9 1534.1 L1079.98 1534.1 Q1080.36 1540.14 1083.6 1543.33 Q1086.88 1546.48 1092.71 1546.48 Q1096.08 1546.48 1099.23 1545.65 Q1102.41 1544.82 1105.53 1543.17 L1105.53 1548.71 Q1102.38 1550.04 1099.07 1550.74 Q1095.76 1551.44 1092.36 1551.44 Q1083.83 1551.44 1078.83 1546.48 Q1073.86 1541.51 1073.86 1533.05 Q1073.86 1524.29 1078.57 1519.17 Q1083.32 1514.01 1091.34 1514.01 Q1098.53 1514.01 1102.7 1518.66 Q1106.9 1523.27 1106.9 1531.23 M1101.05 1529.51 Q1100.98 1524.71 1098.34 1521.84 Q1095.73 1518.98 1091.4 1518.98 Q1086.5 1518.98 1083.54 1521.75 Q1080.61 1524.52 1080.17 1529.54 L1101.05 1529.51 Z\" fill=\"#000000\" fill-rule=\"evenodd\" fill-opacity=\"1\" /><path clip-path=\"url(#clip980)\" d=\"M 0 0 M1136.5 1520.28 L1136.5 1500.99 L1142.36 1500.99 L1142.36 1550.52 L1136.5 1550.52 L1136.5 1545.17 Q1134.66 1548.36 1131.82 1549.92 Q1129.02 1551.44 1125.08 1551.44 Q1118.62 1551.44 1114.54 1546.29 Q1110.5 1541.13 1110.5 1532.73 Q1110.5 1524.33 1114.54 1519.17 Q1118.62 1514.01 1125.08 1514.01 Q1129.02 1514.01 1131.82 1515.57 Q1134.66 1517.1 1136.5 1520.28 M1116.55 1532.73 Q1116.55 1539.19 1119.19 1542.88 Q1121.86 1546.54 1126.51 1546.54 Q1131.16 1546.54 1133.83 1542.88 Q1136.5 1539.19 1136.5 1532.73 Q1136.5 1526.27 1133.83 1522.61 Q1131.16 1518.91 1126.51 1518.91 Q1121.86 1518.91 1119.19 1522.61 Q1116.55 1526.27 1116.55 1532.73 Z\" fill=\"#000000\" fill-rule=\"evenodd\" fill-opacity=\"1\" /><path clip-path=\"url(#clip980)\" d=\"M 0 0 M1194.88 1516.24 L1194.88 1521.72 Q1192.39 1520.35 1189.88 1519.68 Q1187.4 1518.98 1184.85 1518.98 Q1179.15 1518.98 1176 1522.61 Q1172.85 1526.2 1172.85 1532.73 Q1172.85 1539.25 1176 1542.88 Q1179.15 1546.48 1184.85 1546.48 Q1187.4 1546.48 1189.88 1545.81 Q1192.39 1545.11 1194.88 1543.74 L1194.88 1549.15 Q1192.43 1550.3 1189.78 1550.87 Q1187.17 1551.44 1184.21 1551.44 Q1176.16 1551.44 1171.42 1546.38 Q1166.68 1541.32 1166.68 1532.73 Q1166.68 1524.01 1171.45 1519.01 Q1176.26 1514.01 1184.6 1514.01 Q1187.3 1514.01 1189.88 1514.59 Q1192.46 1515.13 1194.88 1516.24 Z\" fill=\"#000000\" fill-rule=\"evenodd\" fill-opacity=\"1\" /><path clip-path=\"url(#clip980)\" d=\"M 0 0 M1217.22 1532.6 Q1210.12 1532.6 1207.39 1534.22 Q1204.65 1535.85 1204.65 1539.76 Q1204.65 1542.88 1206.68 1544.73 Q1208.75 1546.54 1212.29 1546.54 Q1217.16 1546.54 1220.08 1543.1 Q1223.04 1539.63 1223.04 1533.91 L1223.04 1532.6 L1217.22 1532.6 M1228.9 1530.18 L1228.9 1550.52 L1223.04 1550.52 L1223.04 1545.11 Q1221.04 1548.36 1218.05 1549.92 Q1215.06 1551.44 1210.73 1551.44 Q1205.25 1551.44 1202.01 1548.39 Q1198.79 1545.3 1198.79 1540.14 Q1198.79 1534.13 1202.8 1531.07 Q1206.84 1528.02 1214.83 1528.02 L1223.04 1528.02 L1223.04 1527.44 Q1223.04 1523.4 1220.37 1521.21 Q1217.73 1518.98 1212.92 1518.98 Q1209.87 1518.98 1206.97 1519.71 Q1204.07 1520.44 1201.4 1521.91 L1201.4 1516.5 Q1204.62 1515.25 1207.64 1514.65 Q1210.66 1514.01 1213.53 1514.01 Q1221.26 1514.01 1225.08 1518.02 Q1228.9 1522.03 1228.9 1530.18 Z\" fill=\"#000000\" fill-rule=\"evenodd\" fill-opacity=\"1\" /><path clip-path=\"url(#clip980)\" d=\"M 0 0 M1257.77 1515.92 L1257.77 1521.46 Q1255.29 1520.19 1252.61 1519.55 Q1249.94 1518.91 1247.08 1518.91 Q1242.71 1518.91 1240.52 1520.25 Q1238.35 1521.59 1238.35 1524.26 Q1238.35 1526.3 1239.91 1527.48 Q1241.47 1528.62 1246.18 1529.67 L1248.19 1530.12 Q1254.43 1531.45 1257.04 1533.91 Q1259.68 1536.32 1259.68 1540.68 Q1259.68 1545.65 1255.73 1548.55 Q1251.82 1551.44 1244.94 1551.44 Q1242.08 1551.44 1238.96 1550.87 Q1235.87 1550.33 1232.43 1549.21 L1232.43 1543.17 Q1235.68 1544.85 1238.83 1545.71 Q1241.98 1546.54 1245.07 1546.54 Q1249.21 1546.54 1251.44 1545.14 Q1253.66 1543.71 1253.66 1541.13 Q1253.66 1538.74 1252.04 1537.47 Q1250.45 1536.2 1245.01 1535.02 L1242.97 1534.54 Q1237.53 1533.4 1235.11 1531.04 Q1232.69 1528.65 1232.69 1524.52 Q1232.69 1519.49 1236.25 1516.75 Q1239.82 1514.01 1246.37 1514.01 Q1249.62 1514.01 1252.49 1514.49 Q1255.35 1514.97 1257.77 1515.92 Z\" fill=\"#000000\" fill-rule=\"evenodd\" fill-opacity=\"1\" /><path clip-path=\"url(#clip980)\" d=\"M 0 0 M1296.31 1531.23 L1296.31 1534.1 L1269.39 1534.1 Q1269.77 1540.14 1273.02 1543.33 Q1276.29 1546.48 1282.12 1546.48 Q1285.49 1546.48 1288.64 1545.65 Q1291.83 1544.82 1294.95 1543.17 L1294.95 1548.71 Q1291.79 1550.04 1288.48 1550.74 Q1285.17 1551.44 1281.77 1551.44 Q1273.24 1551.44 1268.24 1546.48 Q1263.28 1541.51 1263.28 1533.05 Q1263.28 1524.29 1267.99 1519.17 Q1272.73 1514.01 1280.75 1514.01 Q1287.94 1514.01 1292.11 1518.66 Q1296.31 1523.27 1296.31 1531.23 M1290.46 1529.51 Q1290.39 1524.71 1287.75 1521.84 Q1285.14 1518.98 1280.81 1518.98 Q1275.91 1518.98 1272.95 1521.75 Q1270.02 1524.52 1269.58 1529.54 L1290.46 1529.51 Z\" fill=\"#000000\" fill-rule=\"evenodd\" fill-opacity=\"1\" /><path clip-path=\"url(#clip980)\" d=\"M 0 0 M1325.18 1515.92 L1325.18 1521.46 Q1322.7 1520.19 1320.03 1519.55 Q1317.35 1518.91 1314.49 1518.91 Q1310.13 1518.91 1307.93 1520.25 Q1305.77 1521.59 1305.77 1524.26 Q1305.77 1526.3 1307.33 1527.48 Q1308.89 1528.62 1313.6 1529.67 L1315.6 1530.12 Q1321.84 1531.45 1324.45 1533.91 Q1327.09 1536.32 1327.09 1540.68 Q1327.09 1545.65 1323.15 1548.55 Q1319.23 1551.44 1312.36 1551.44 Q1309.49 1551.44 1306.37 1550.87 Q1303.28 1550.33 1299.85 1549.21 L1299.85 1543.17 Q1303.09 1544.85 1306.24 1545.71 Q1309.4 1546.54 1312.48 1546.54 Q1316.62 1546.54 1318.85 1545.14 Q1321.08 1543.71 1321.08 1541.13 Q1321.08 1538.74 1319.45 1537.47 Q1317.86 1536.2 1312.42 1535.02 L1310.38 1534.54 Q1304.94 1533.4 1302.52 1531.04 Q1300.1 1528.65 1300.1 1524.52 Q1300.1 1519.49 1303.67 1516.75 Q1307.23 1514.01 1313.79 1514.01 Q1317.03 1514.01 1319.9 1514.49 Q1322.76 1514.97 1325.18 1515.92 Z\" fill=\"#000000\" fill-rule=\"evenodd\" fill-opacity=\"1\" /><path clip-path=\"url(#clip980)\" d=\"M 0 0 M1384.45 1531.23 L1384.45 1534.1 L1357.52 1534.1 Q1357.9 1540.14 1361.15 1543.33 Q1364.43 1546.48 1370.25 1546.48 Q1373.63 1546.48 1376.78 1545.65 Q1379.96 1544.82 1383.08 1543.17 L1383.08 1548.71 Q1379.93 1550.04 1376.62 1550.74 Q1373.31 1551.44 1369.9 1551.44 Q1361.37 1551.44 1356.37 1546.48 Q1351.41 1541.51 1351.41 1533.05 Q1351.41 1524.29 1356.12 1519.17 Q1360.86 1514.01 1368.88 1514.01 Q1376.08 1514.01 1380.25 1518.66 Q1384.45 1523.27 1384.45 1531.23 M1378.59 1529.51 Q1378.53 1524.71 1375.89 1521.84 Q1373.28 1518.98 1368.95 1518.98 Q1364.05 1518.98 1361.08 1521.75 Q1358.16 1524.52 1357.71 1529.54 L1378.59 1529.51 Z\" fill=\"#000000\" fill-rule=\"evenodd\" fill-opacity=\"1\" /><path clip-path=\"url(#clip980)\" d=\"M 0 0 M1386.39 1514.87 L1392.6 1514.87 L1403.74 1544.79 L1414.88 1514.87 L1421.08 1514.87 L1407.71 1550.52 L1399.76 1550.52 L1386.39 1514.87 Z\" fill=\"#000000\" fill-rule=\"evenodd\" fill-opacity=\"1\" /><path clip-path=\"url(#clip980)\" d=\"M 0 0 M1457.72 1531.23 L1457.72 1534.1 L1430.79 1534.1 Q1431.17 1540.14 1434.42 1543.33 Q1437.7 1546.48 1443.52 1546.48 Q1446.89 1546.48 1450.05 1545.65 Q1453.23 1544.82 1456.35 1543.17 L1456.35 1548.71 Q1453.2 1550.04 1449.89 1550.74 Q1446.58 1551.44 1443.17 1551.44 Q1434.64 1551.44 1429.64 1546.48 Q1424.68 1541.51 1424.68 1533.05 Q1424.68 1524.29 1429.39 1519.17 Q1434.13 1514.01 1442.15 1514.01 Q1449.35 1514.01 1453.52 1518.66 Q1457.72 1523.27 1457.72 1531.23 M1451.86 1529.51 Q1451.8 1524.71 1449.15 1521.84 Q1446.54 1518.98 1442.22 1518.98 Q1437.31 1518.98 1434.35 1521.75 Q1431.43 1524.52 1430.98 1529.54 L1451.86 1529.51 Z\" fill=\"#000000\" fill-rule=\"evenodd\" fill-opacity=\"1\" /><path clip-path=\"url(#clip980)\" d=\"M 0 0 M1484.52 1520.35 Q1483.53 1519.77 1482.35 1519.52 Q1481.21 1519.23 1479.81 1519.23 Q1474.84 1519.23 1472.17 1522.48 Q1469.52 1525.69 1469.52 1531.74 L1469.52 1550.52 L1463.64 1550.52 L1463.64 1514.87 L1469.52 1514.87 L1469.52 1520.41 Q1471.37 1517.16 1474.33 1515.6 Q1477.29 1514.01 1481.52 1514.01 Q1482.13 1514.01 1482.86 1514.11 Q1483.59 1514.17 1484.48 1514.33 L1484.52 1520.35 Z\" fill=\"#000000\" fill-rule=\"evenodd\" fill-opacity=\"1\" /><path clip-path=\"url(#clip980)\" d=\"M 0 0 M1505.49 1553.83 Q1503.01 1560.2 1500.65 1562.14 Q1498.3 1564.08 1494.35 1564.08 L1489.67 1564.08 L1489.67 1559.18 L1493.11 1559.18 Q1495.53 1559.18 1496.87 1558.03 Q1498.2 1556.89 1499.83 1552.62 L1500.88 1549.95 L1486.46 1514.87 L1492.66 1514.87 L1503.8 1542.75 L1514.94 1514.87 L1521.15 1514.87 L1505.49 1553.83 Z\" fill=\"#000000\" fill-rule=\"evenodd\" fill-opacity=\"1\" /><path clip-path=\"url(#clip980)\" d=\"M 0 0 M1549.96 1545.11 L1560.46 1545.11 L1560.46 1508.86 L1549.03 1511.15 L1549.03 1505.29 L1560.4 1503 L1566.82 1503 L1566.82 1545.11 L1577.33 1545.11 L1577.33 1550.52 L1549.96 1550.52 L1549.96 1545.11 Z\" fill=\"#000000\" fill-rule=\"evenodd\" fill-opacity=\"1\" /><path clip-path=\"url(#clip980)\" d=\"M 0 0 M1601.96 1508.6 L1585.73 1533.97 L1601.96 1533.97 L1601.96 1508.6 M1600.28 1503 L1608.36 1503 L1608.36 1533.97 L1615.14 1533.97 L1615.14 1539.32 L1608.36 1539.32 L1608.36 1550.52 L1601.96 1550.52 L1601.96 1539.32 L1580.51 1539.32 L1580.51 1533.11 L1600.28 1503 Z\" fill=\"#000000\" fill-rule=\"evenodd\" fill-opacity=\"1\" /><path clip-path=\"url(#clip980)\" d=\"M 0 0 M1665.46 1520.28 L1665.46 1500.99 L1671.32 1500.99 L1671.32 1550.52 L1665.46 1550.52 L1665.46 1545.17 Q1663.62 1548.36 1660.78 1549.92 Q1657.98 1551.44 1654.03 1551.44 Q1647.57 1551.44 1643.5 1546.29 Q1639.46 1541.13 1639.46 1532.73 Q1639.46 1524.33 1643.5 1519.17 Q1647.57 1514.01 1654.03 1514.01 Q1657.98 1514.01 1660.78 1515.57 Q1663.62 1517.1 1665.46 1520.28 M1645.5 1532.73 Q1645.5 1539.19 1648.15 1542.88 Q1650.82 1546.54 1655.47 1546.54 Q1660.11 1546.54 1662.79 1542.88 Q1665.46 1539.19 1665.46 1532.73 Q1665.46 1526.27 1662.79 1522.61 Q1660.11 1518.91 1655.47 1518.91 Q1650.82 1518.91 1648.15 1522.61 Q1645.5 1526.27 1645.5 1532.73 Z\" fill=\"#000000\" fill-rule=\"evenodd\" fill-opacity=\"1\" /><path clip-path=\"url(#clip980)\" d=\"M 0 0 M1693.66 1532.6 Q1686.56 1532.6 1683.83 1534.22 Q1681.09 1535.85 1681.09 1539.76 Q1681.09 1542.88 1683.13 1544.73 Q1685.19 1546.54 1688.73 1546.54 Q1693.6 1546.54 1696.53 1543.1 Q1699.49 1539.63 1699.49 1533.91 L1699.49 1532.6 L1693.66 1532.6 M1705.34 1530.18 L1705.34 1550.52 L1699.49 1550.52 L1699.49 1545.11 Q1697.48 1548.36 1694.49 1549.92 Q1691.5 1551.44 1687.17 1551.44 Q1681.69 1551.44 1678.45 1548.39 Q1675.23 1545.3 1675.23 1540.14 Q1675.23 1534.13 1679.24 1531.07 Q1683.29 1528.02 1691.27 1528.02 L1699.49 1528.02 L1699.49 1527.44 Q1699.49 1523.4 1696.81 1521.21 Q1694.17 1518.98 1689.36 1518.98 Q1686.31 1518.98 1683.41 1519.71 Q1680.52 1520.44 1677.84 1521.91 L1677.84 1516.5 Q1681.06 1515.25 1684.08 1514.65 Q1687.1 1514.01 1689.97 1514.01 Q1697.7 1514.01 1701.52 1518.02 Q1705.34 1522.03 1705.34 1530.18 Z\" fill=\"#000000\" fill-rule=\"evenodd\" fill-opacity=\"1\" /><path clip-path=\"url(#clip980)\" d=\"M 0 0 M1726.32 1553.83 Q1723.83 1560.2 1721.48 1562.14 Q1719.12 1564.08 1715.18 1564.08 L1710.5 1564.08 L1710.5 1559.18 L1713.94 1559.18 Q1716.36 1559.18 1717.69 1558.03 Q1719.03 1556.89 1720.65 1552.62 L1721.7 1549.95 L1707.28 1514.87 L1713.49 1514.87 L1724.63 1542.75 L1735.77 1514.87 L1741.98 1514.87 L1726.32 1553.83 Z\" fill=\"#000000\" fill-rule=\"evenodd\" fill-opacity=\"1\" /><path clip-path=\"url(#clip980)\" d=\"M 0 0 M1770.85 1515.92 L1770.85 1521.46 Q1768.36 1520.19 1765.69 1519.55 Q1763.02 1518.91 1760.15 1518.91 Q1755.79 1518.91 1753.59 1520.25 Q1751.43 1521.59 1751.43 1524.26 Q1751.43 1526.3 1752.99 1527.48 Q1754.55 1528.62 1759.26 1529.67 L1761.27 1530.12 Q1767.5 1531.45 1770.11 1533.91 Q1772.76 1536.32 1772.76 1540.68 Q1772.76 1545.65 1768.81 1548.55 Q1764.89 1551.44 1758.02 1551.44 Q1755.15 1551.44 1752.03 1550.87 Q1748.95 1550.33 1745.51 1549.21 L1745.51 1543.17 Q1748.76 1544.85 1751.91 1545.71 Q1755.06 1546.54 1758.15 1546.54 Q1762.28 1546.54 1764.51 1545.14 Q1766.74 1543.71 1766.74 1541.13 Q1766.74 1538.74 1765.12 1537.47 Q1763.52 1536.2 1758.08 1535.02 L1756.05 1534.54 Q1750.6 1533.4 1748.18 1531.04 Q1745.76 1528.65 1745.76 1524.52 Q1745.76 1519.49 1749.33 1516.75 Q1752.89 1514.01 1759.45 1514.01 Q1762.7 1514.01 1765.56 1514.49 Q1768.43 1514.97 1770.85 1515.92 Z\" fill=\"#000000\" fill-rule=\"evenodd\" fill-opacity=\"1\" /><path clip-path=\"url(#clip980)\" d=\"M 0 0 M40.4842 1012.05 L40.4842 971.854 L45.895 971.854 L45.895 988.723 L88.0042 988.723 L88.0042 995.184 L45.895 995.184 L45.895 1012.05 L40.4842 1012.05 Z\" fill=\"#000000\" fill-rule=\"evenodd\" fill-opacity=\"1\" /><path clip-path=\"url(#clip980)\" d=\"M 0 0 M56.4621 962.974 Q56.4621 967.685 60.1542 970.422 Q63.8145 973.159 70.212 973.159 Q76.6095 973.159 80.3017 970.454 Q83.9619 967.716 83.9619 962.974 Q83.9619 958.295 80.2698 955.558 Q76.5777 952.821 70.212 952.821 Q63.8781 952.821 60.186 955.558 Q56.4621 958.295 56.4621 962.974 M51.4968 962.974 Q51.4968 955.335 56.4621 950.975 Q61.4273 946.614 70.212 946.614 Q78.9649 946.614 83.9619 950.975 Q88.9272 955.335 88.9272 962.974 Q88.9272 970.645 83.9619 975.005 Q78.9649 979.334 70.212 979.334 Q61.4273 979.334 56.4621 975.005 Q51.4968 970.645 51.4968 962.974 Z\" fill=\"#000000\" fill-rule=\"evenodd\" fill-opacity=\"1\" /><path clip-path=\"url(#clip980)\" d=\"M 0 0 M42.2347 934.678 L52.3562 934.678 L52.3562 922.615 L56.9077 922.615 L56.9077 934.678 L76.2594 934.678 Q80.6199 934.678 81.8613 933.501 Q83.1026 932.291 83.1026 928.631 L83.1026 922.615 L88.0042 922.615 L88.0042 928.631 Q88.0042 935.41 85.4897 937.988 Q82.9434 940.567 76.2594 940.567 L56.9077 940.567 L56.9077 944.863 L52.3562 944.863 L52.3562 940.567 L42.2347 940.567 L42.2347 934.678 Z\" fill=\"#000000\" fill-rule=\"evenodd\" fill-opacity=\"1\" /><path clip-path=\"url(#clip980)\" d=\"M 0 0 M70.0847 900.272 Q70.0847 907.369 71.7079 910.107 Q73.3312 912.844 77.2461 912.844 Q80.3653 912.844 82.2114 910.807 Q84.0256 908.738 84.0256 905.205 Q84.0256 900.335 80.5881 897.407 Q77.1188 894.447 71.3897 894.447 L70.0847 894.447 L70.0847 900.272 M67.6657 888.591 L88.0042 888.591 L88.0042 894.447 L82.5933 894.447 Q85.8398 896.452 87.3994 899.444 Q88.9272 902.436 88.9272 906.765 Q88.9272 912.239 85.8716 915.486 Q82.7843 918.7 77.6281 918.7 Q71.6125 918.7 68.5569 914.69 Q65.5014 910.648 65.5014 902.659 L65.5014 894.447 L64.9285 894.447 Q60.8862 894.447 58.6901 897.121 Q56.4621 899.762 56.4621 904.569 Q56.4621 907.624 57.1941 910.52 Q57.9262 913.417 59.3903 916.09 L53.9795 916.09 Q52.7381 912.876 52.1334 909.852 Q51.4968 906.828 51.4968 903.964 Q51.4968 896.229 55.5072 892.41 Q59.5176 888.591 67.6657 888.591 Z\" fill=\"#000000\" fill-rule=\"evenodd\" fill-opacity=\"1\" /><path clip-path=\"url(#clip980)\" d=\"M 0 0 M38.479 882.448 L38.479 876.591 L88.0042 876.591 L88.0042 882.448 L38.479 882.448 Z\" fill=\"#000000\" fill-rule=\"evenodd\" fill-opacity=\"1\" /><path clip-path=\"url(#clip980)\" d=\"M 0 0 M53.7248 824.074 L59.1993 824.074 Q57.8307 826.557 57.1623 829.071 Q56.4621 831.554 56.4621 834.1 Q56.4621 839.797 60.0905 842.948 Q63.6872 846.1 70.212 846.1 Q76.7369 846.1 80.3653 842.948 Q83.9619 839.797 83.9619 834.1 Q83.9619 831.554 83.2935 829.071 Q82.5933 826.557 81.2247 824.074 L86.6355 824.074 Q87.7814 826.525 88.3543 829.167 Q88.9272 831.777 88.9272 834.737 Q88.9272 842.789 83.8664 847.532 Q78.8057 852.274 70.212 852.274 Q61.491 852.274 56.4939 847.5 Q51.4968 842.694 51.4968 834.355 Q51.4968 831.649 52.0697 829.071 Q52.6108 826.493 53.7248 824.074 Z\" fill=\"#000000\" fill-rule=\"evenodd\" fill-opacity=\"1\" /><path clip-path=\"url(#clip980)\" d=\"M 0 0 M56.4621 804.118 Q56.4621 808.828 60.1542 811.566 Q63.8145 814.303 70.212 814.303 Q76.6095 814.303 80.3017 811.597 Q83.9619 808.86 83.9619 804.118 Q83.9619 799.439 80.2698 796.702 Q76.5777 793.964 70.212 793.964 Q63.8781 793.964 60.186 796.702 Q56.4621 799.439 56.4621 804.118 M51.4968 804.118 Q51.4968 796.479 56.4621 792.118 Q61.4273 787.758 70.212 787.758 Q78.9649 787.758 83.9619 792.118 Q88.9272 796.479 88.9272 804.118 Q88.9272 811.788 83.9619 816.149 Q78.9649 820.478 70.212 820.478 Q61.4273 820.478 56.4621 816.149 Q51.4968 811.788 51.4968 804.118 Z\" fill=\"#000000\" fill-rule=\"evenodd\" fill-opacity=\"1\" /><path clip-path=\"url(#clip980)\" d=\"M 0 0 M66.4881 751.983 L88.0042 751.983 L88.0042 757.839 L66.679 757.839 Q61.6183 757.839 59.1038 759.812 Q56.5894 761.786 56.5894 765.732 Q56.5894 770.475 59.6131 773.212 Q62.6368 775.949 67.8567 775.949 L88.0042 775.949 L88.0042 781.838 L52.3562 781.838 L52.3562 775.949 L57.8944 775.949 Q54.6797 773.849 53.0883 771.016 Q51.4968 768.151 51.4968 764.427 Q51.4968 758.285 55.3163 755.134 Q59.1038 751.983 66.4881 751.983 Z\" fill=\"#000000\" fill-rule=\"evenodd\" fill-opacity=\"1\" /><path clip-path=\"url(#clip980)\" d=\"M 0 0 M38.479 727.793 L43.3487 727.793 L43.3487 733.395 Q43.3487 736.546 44.6219 737.787 Q45.895 738.996 49.2052 738.996 L52.3562 738.996 L52.3562 729.352 L56.9077 729.352 L56.9077 738.996 L88.0042 738.996 L88.0042 744.885 L56.9077 744.885 L56.9077 750.487 L52.3562 750.487 L52.3562 744.885 L49.8736 744.885 Q43.9216 744.885 41.2162 742.116 Q38.479 739.347 38.479 733.331 L38.479 727.793 Z\" fill=\"#000000\" fill-rule=\"evenodd\" fill-opacity=\"1\" /><path clip-path=\"url(#clip980)\" d=\"M 0 0 M52.3562 721.65 L52.3562 715.793 L88.0042 715.793 L88.0042 721.65 L52.3562 721.65 M38.479 721.65 L38.479 715.793 L45.895 715.793 L45.895 721.65 L38.479 721.65 Z\" fill=\"#000000\" fill-rule=\"evenodd\" fill-opacity=\"1\" /><path clip-path=\"url(#clip980)\" d=\"M 0 0 M57.8307 688.994 Q57.2578 689.981 57.0032 691.158 Q56.7167 692.304 56.7167 693.704 Q56.7167 698.67 59.9632 701.343 Q63.1779 703.985 69.2253 703.985 L88.0042 703.985 L88.0042 709.873 L52.3562 709.873 L52.3562 703.985 L57.8944 703.985 Q54.6479 702.139 53.0883 699.179 Q51.4968 696.219 51.4968 691.986 Q51.4968 691.381 51.5923 690.649 Q51.656 689.917 51.8151 689.026 L57.8307 688.994 Z\" fill=\"#000000\" fill-rule=\"evenodd\" fill-opacity=\"1\" /><path clip-path=\"url(#clip980)\" d=\"M 0 0 M59.1993 656.242 Q55.2526 654.046 53.3747 650.991 Q51.4968 647.935 51.4968 643.797 Q51.4968 638.227 55.4117 635.204 Q59.2948 632.18 66.4881 632.18 L88.0042 632.18 L88.0042 638.068 L66.679 638.068 Q61.5546 638.068 59.072 639.882 Q56.5894 641.697 56.5894 645.421 Q56.5894 649.972 59.6131 652.614 Q62.6368 655.256 67.8567 655.256 L88.0042 655.256 L88.0042 661.144 L66.679 661.144 Q61.5228 661.144 59.072 662.958 Q56.5894 664.772 56.5894 668.56 Q56.5894 673.048 59.6449 675.69 Q62.6686 678.331 67.8567 678.331 L88.0042 678.331 L88.0042 684.22 L52.3562 684.22 L52.3562 678.331 L57.8944 678.331 Q54.616 676.326 53.0564 673.525 Q51.4968 670.724 51.4968 666.873 Q51.4968 662.99 53.4702 660.285 Q55.4436 657.547 59.1993 656.242 Z\" fill=\"#000000\" fill-rule=\"evenodd\" fill-opacity=\"1\" /><path clip-path=\"url(#clip980)\" d=\"M 0 0 M68.7161 595.545 L71.5806 595.545 L71.5806 622.472 Q77.6281 622.09 80.8109 618.844 Q83.9619 615.565 83.9619 609.741 Q83.9619 606.367 83.1344 603.216 Q82.3069 600.033 80.6518 596.914 L86.1899 596.914 Q87.5267 600.065 88.227 603.375 Q88.9272 606.685 88.9272 610.091 Q88.9272 618.621 83.9619 623.618 Q78.9967 628.583 70.5303 628.583 Q61.7774 628.583 56.6531 623.873 Q51.4968 619.13 51.4968 611.109 Q51.4968 603.916 56.1438 599.747 Q60.7589 595.545 68.7161 595.545 M66.9973 601.402 Q62.1912 601.465 59.3266 604.107 Q56.4621 606.717 56.4621 611.046 Q56.4621 615.947 59.2312 618.907 Q62.0002 621.836 67.0292 622.281 L66.9973 601.402 Z\" fill=\"#000000\" fill-rule=\"evenodd\" fill-opacity=\"1\" /><path clip-path=\"url(#clip980)\" d=\"M 0 0 M57.7671 565.945 L38.479 565.945 L38.479 560.088 L88.0042 560.088 L88.0042 565.945 L82.657 565.945 Q85.8398 567.791 87.3994 570.624 Q88.9272 573.424 88.9272 577.371 Q88.9272 583.832 83.771 587.906 Q78.6147 591.949 70.212 591.949 Q61.8093 591.949 56.6531 587.906 Q51.4968 583.832 51.4968 577.371 Q51.4968 573.424 53.0564 570.624 Q54.5842 567.791 57.7671 565.945 M70.212 585.901 Q76.6732 585.901 80.3653 583.259 Q84.0256 580.586 84.0256 575.939 Q84.0256 571.292 80.3653 568.618 Q76.6732 565.945 70.212 565.945 Q63.7508 565.945 60.0905 568.618 Q56.3984 571.292 56.3984 575.939 Q56.3984 580.586 60.0905 583.259 Q63.7508 585.901 70.212 585.901 Z\" fill=\"#000000\" fill-rule=\"evenodd\" fill-opacity=\"1\" /><path clip-path=\"url(#clip980)\" d=\"M 0 0 M53.7248 507.571 L59.1993 507.571 Q57.8307 510.054 57.1623 512.568 Q56.4621 515.051 56.4621 517.597 Q56.4621 523.295 60.0905 526.446 Q63.6872 529.597 70.212 529.597 Q76.7369 529.597 80.3653 526.446 Q83.9619 523.295 83.9619 517.597 Q83.9619 515.051 83.2935 512.568 Q82.5933 510.054 81.2247 507.571 L86.6355 507.571 Q87.7814 510.022 88.3543 512.664 Q88.9272 515.274 88.9272 518.234 Q88.9272 526.286 83.8664 531.029 Q78.8057 535.771 70.212 535.771 Q61.491 535.771 56.4939 530.997 Q51.4968 526.191 51.4968 517.852 Q51.4968 515.146 52.0697 512.568 Q52.6108 509.99 53.7248 507.571 Z\" fill=\"#000000\" fill-rule=\"evenodd\" fill-opacity=\"1\" /><path clip-path=\"url(#clip980)\" d=\"M 0 0 M70.0847 485.228 Q70.0847 492.325 71.7079 495.063 Q73.3312 497.8 77.2461 497.8 Q80.3653 497.8 82.2114 495.763 Q84.0256 493.694 84.0256 490.161 Q84.0256 485.291 80.5881 482.363 Q77.1188 479.403 71.3897 479.403 L70.0847 479.403 L70.0847 485.228 M67.6657 473.547 L88.0042 473.547 L88.0042 479.403 L82.5933 479.403 Q85.8398 481.408 87.3994 484.4 Q88.9272 487.392 88.9272 491.721 Q88.9272 497.195 85.8716 500.442 Q82.7843 503.656 77.6281 503.656 Q71.6125 503.656 68.5569 499.646 Q65.5014 495.604 65.5014 487.615 L65.5014 479.403 L64.9285 479.403 Q60.8862 479.403 58.6901 482.077 Q56.4621 484.718 56.4621 489.524 Q56.4621 492.58 57.1941 495.476 Q57.9262 498.373 59.3903 501.046 L53.9795 501.046 Q52.7381 497.832 52.1334 494.808 Q51.4968 491.784 51.4968 488.92 Q51.4968 481.185 55.5072 477.366 Q59.5176 473.547 67.6657 473.547 Z\" fill=\"#000000\" fill-rule=\"evenodd\" fill-opacity=\"1\" /><path clip-path=\"url(#clip980)\" d=\"M 0 0 M53.4065 444.678 L58.9447 444.678 Q57.6716 447.161 57.035 449.834 Q56.3984 452.508 56.3984 455.372 Q56.3984 459.733 57.7352 461.929 Q59.072 464.093 61.7456 464.093 Q63.7826 464.093 64.9603 462.534 Q66.1061 460.974 67.1565 456.264 L67.6021 454.258 Q68.9389 448.02 71.3897 445.41 Q73.8086 442.768 78.1691 442.768 Q83.1344 442.768 86.0308 446.715 Q88.9272 450.63 88.9272 457.505 Q88.9272 460.37 88.3543 463.489 Q87.8132 466.576 86.6992 470.014 L80.6518 470.014 Q82.3387 466.767 83.198 463.616 Q84.0256 460.465 84.0256 457.378 Q84.0256 453.24 82.6251 451.012 Q81.1929 448.784 78.6147 448.784 Q76.2276 448.784 74.9545 450.407 Q73.6813 451.999 72.5037 457.441 L72.0262 459.478 Q70.8804 464.921 68.5251 467.34 Q66.138 469.759 62.0002 469.759 Q56.9713 469.759 54.2341 466.194 Q51.4968 462.629 51.4968 456.073 Q51.4968 452.826 51.9743 449.962 Q52.4517 447.097 53.4065 444.678 Z\" fill=\"#000000\" fill-rule=\"evenodd\" fill-opacity=\"1\" /><path clip-path=\"url(#clip980)\" d=\"M 0 0 M68.7161 406.134 L71.5806 406.134 L71.5806 433.061 Q77.6281 432.679 80.8109 429.432 Q83.9619 426.154 83.9619 420.329 Q83.9619 416.955 83.1344 413.804 Q82.3069 410.622 80.6518 407.502 L86.1899 407.502 Q87.5267 410.653 88.227 413.964 Q88.9272 417.274 88.9272 420.679 Q88.9272 429.209 83.9619 434.206 Q78.9967 439.172 70.5303 439.172 Q61.7774 439.172 56.6531 434.461 Q51.4968 429.719 51.4968 421.698 Q51.4968 414.505 56.1438 410.335 Q60.7589 406.134 68.7161 406.134 M66.9973 411.99 Q62.1912 412.054 59.3266 414.696 Q56.4621 417.306 56.4621 421.634 Q56.4621 426.536 59.2312 429.496 Q62.0002 432.424 67.0292 432.87 L66.9973 411.99 Z\" fill=\"#000000\" fill-rule=\"evenodd\" fill-opacity=\"1\" /><path clip-path=\"url(#clip980)\" d=\"M 0 0 M53.4065 377.265 L58.9447 377.265 Q57.6716 379.748 57.035 382.421 Q56.3984 385.095 56.3984 387.96 Q56.3984 392.32 57.7352 394.516 Q59.072 396.681 61.7456 396.681 Q63.7826 396.681 64.9603 395.121 Q66.1061 393.561 67.1565 388.851 L67.6021 386.846 Q68.9389 380.607 71.3897 377.997 Q73.8086 375.356 78.1691 375.356 Q83.1344 375.356 86.0308 379.302 Q88.9272 383.217 88.9272 390.092 Q88.9272 392.957 88.3543 396.076 Q87.8132 399.163 86.6992 402.601 L80.6518 402.601 Q82.3387 399.354 83.198 396.203 Q84.0256 393.052 84.0256 389.965 Q84.0256 385.827 82.6251 383.599 Q81.1929 381.371 78.6147 381.371 Q76.2276 381.371 74.9545 382.994 Q73.6813 384.586 72.5037 390.028 L72.0262 392.065 Q70.8804 397.508 68.5251 399.927 Q66.138 402.346 62.0002 402.346 Q56.9713 402.346 54.2341 398.781 Q51.4968 395.217 51.4968 388.66 Q51.4968 385.413 51.9743 382.549 Q52.4517 379.684 53.4065 377.265 Z\" fill=\"#000000\" fill-rule=\"evenodd\" fill-opacity=\"1\" /><polyline clip-path=\"url(#clip982)\" style=\"stroke:#009af9; stroke-width:4; stroke-opacity:1; fill:none\" points=\"\n",
       "  319.279,1231.66 332.894,1231.66 346.51,1231.66 360.125,1141 373.741,1141 387.356,1071.09 400.972,1020 414.587,997.868 428.203,969.412 441.818,931.493 \n",
       "  455.434,907.212 469.049,891.096 482.665,891.096 496.28,839.402 509.896,818.191 523.511,793.631 537.127,779.407 550.742,768.474 564.358,736.843 577.974,710.379 \n",
       "  591.589,690.022 605.205,667.899 618.82,648.689 632.436,647.498 646.051,641.274 659.667,638.36 673.282,636.697 686.898,635.066 700.513,630.303 714.129,627.911 \n",
       "  727.744,623.638 741.36,620.071 754.975,618.54 768.591,615.513 782.206,611.104 795.822,607.216 809.437,604.323 823.053,603.3 836.668,597.601 850.284,593.925 \n",
       "  863.899,588.888 877.515,585.836 891.13,582.639 904.746,577.184 918.361,570.059 931.977,566.753 945.592,563.124 959.208,559.098 972.823,555.145 986.439,548.225 \n",
       "  1000.05,542.832 1013.67,540.12 1027.29,536.691 1040.9,532.325 1054.52,528.902 1068.13,523.253 1081.75,518.795 1095.36,514.468 1108.98,509.295 1122.59,503.67 \n",
       "  1136.21,498.518 1149.83,494.59 1163.44,492.057 1177.06,487.693 1190.67,481.302 1204.29,476.57 1217.9,471.515 1231.52,466.427 1245.13,461.19 1258.75,456.087 \n",
       "  1272.36,451.663 1285.98,446.728 1299.6,441.808 1313.21,435.395 1326.83,430.652 1340.44,426.887 1354.06,423.122 1367.67,418.082 1381.29,413.928 1394.9,409.079 \n",
       "  1408.52,404.419 1422.14,400.731 1435.75,398.494 1449.37,392.992 1462.98,388.455 1476.6,383.101 1490.21,378.366 1503.83,373.915 1517.44,369.793 1531.06,366.371 \n",
       "  1544.68,362.515 1558.29,355.627 1571.91,350.448 1585.52,345.76 1599.14,341.711 1612.75,337.393 1626.37,334.037 1639.98,330.337 1653.6,325.78 1667.21,321.178 \n",
       "  1680.83,316.252 1694.45,311.021 1708.06,307.003 1721.68,303.918 1735.29,299.623 1748.91,296.129 1762.52,292.45 1776.14,287.906 1789.75,283.891 1803.37,280.332 \n",
       "  1816.99,276.742 1830.6,272.433 1844.22,267.714 1857.83,263.492 1871.45,258.849 1885.06,254.976 1898.68,251.393 1912.29,247.513 1925.91,243.195 1939.53,238.794 \n",
       "  1953.14,234.46 1966.76,229.553 1980.37,225.789 1993.99,222.109 2007.6,218.141 2021.22,214.84 2034.83,209.965 2048.45,205.797 2062.06,201.47 2075.68,197.787 \n",
       "  2089.3,194.405 2102.91,191.45 2116.53,187.994 2130.14,184.571 2143.76,181.236 2157.37,178.051 2170.99,174.947 2184.6,172.868 2198.22,171.083 2211.84,168.288 \n",
       "  2225.45,165.595 2239.07,162.822 2252.68,160.47 2266.3,158.362 2279.91,157.058 2293.53,155.749 \n",
       "  \"/>\n",
       "<circle clip-path=\"url(#clip982)\" cx=\"319.279\" cy=\"1231.66\" r=\"14\" fill=\"#e26f46\" fill-rule=\"evenodd\" fill-opacity=\"1\" stroke=\"#000000\" stroke-opacity=\"1\" stroke-width=\"3.2\"/>\n",
       "<circle clip-path=\"url(#clip982)\" cx=\"332.894\" cy=\"1231.66\" r=\"14\" fill=\"#e26f46\" fill-rule=\"evenodd\" fill-opacity=\"1\" stroke=\"#000000\" stroke-opacity=\"1\" stroke-width=\"3.2\"/>\n",
       "<circle clip-path=\"url(#clip982)\" cx=\"346.51\" cy=\"1231.66\" r=\"14\" fill=\"#e26f46\" fill-rule=\"evenodd\" fill-opacity=\"1\" stroke=\"#000000\" stroke-opacity=\"1\" stroke-width=\"3.2\"/>\n",
       "<circle clip-path=\"url(#clip982)\" cx=\"360.125\" cy=\"1141\" r=\"14\" fill=\"#e26f46\" fill-rule=\"evenodd\" fill-opacity=\"1\" stroke=\"#000000\" stroke-opacity=\"1\" stroke-width=\"3.2\"/>\n",
       "<circle clip-path=\"url(#clip982)\" cx=\"373.741\" cy=\"1141\" r=\"14\" fill=\"#e26f46\" fill-rule=\"evenodd\" fill-opacity=\"1\" stroke=\"#000000\" stroke-opacity=\"1\" stroke-width=\"3.2\"/>\n",
       "<circle clip-path=\"url(#clip982)\" cx=\"387.356\" cy=\"1071.09\" r=\"14\" fill=\"#e26f46\" fill-rule=\"evenodd\" fill-opacity=\"1\" stroke=\"#000000\" stroke-opacity=\"1\" stroke-width=\"3.2\"/>\n",
       "<circle clip-path=\"url(#clip982)\" cx=\"400.972\" cy=\"1020\" r=\"14\" fill=\"#e26f46\" fill-rule=\"evenodd\" fill-opacity=\"1\" stroke=\"#000000\" stroke-opacity=\"1\" stroke-width=\"3.2\"/>\n",
       "<circle clip-path=\"url(#clip982)\" cx=\"414.587\" cy=\"997.868\" r=\"14\" fill=\"#e26f46\" fill-rule=\"evenodd\" fill-opacity=\"1\" stroke=\"#000000\" stroke-opacity=\"1\" stroke-width=\"3.2\"/>\n",
       "<circle clip-path=\"url(#clip982)\" cx=\"428.203\" cy=\"969.412\" r=\"14\" fill=\"#e26f46\" fill-rule=\"evenodd\" fill-opacity=\"1\" stroke=\"#000000\" stroke-opacity=\"1\" stroke-width=\"3.2\"/>\n",
       "<circle clip-path=\"url(#clip982)\" cx=\"441.818\" cy=\"931.493\" r=\"14\" fill=\"#e26f46\" fill-rule=\"evenodd\" fill-opacity=\"1\" stroke=\"#000000\" stroke-opacity=\"1\" stroke-width=\"3.2\"/>\n",
       "<circle clip-path=\"url(#clip982)\" cx=\"455.434\" cy=\"907.212\" r=\"14\" fill=\"#e26f46\" fill-rule=\"evenodd\" fill-opacity=\"1\" stroke=\"#000000\" stroke-opacity=\"1\" stroke-width=\"3.2\"/>\n",
       "<circle clip-path=\"url(#clip982)\" cx=\"469.049\" cy=\"891.096\" r=\"14\" fill=\"#e26f46\" fill-rule=\"evenodd\" fill-opacity=\"1\" stroke=\"#000000\" stroke-opacity=\"1\" stroke-width=\"3.2\"/>\n",
       "<circle clip-path=\"url(#clip982)\" cx=\"482.665\" cy=\"891.096\" r=\"14\" fill=\"#e26f46\" fill-rule=\"evenodd\" fill-opacity=\"1\" stroke=\"#000000\" stroke-opacity=\"1\" stroke-width=\"3.2\"/>\n",
       "<circle clip-path=\"url(#clip982)\" cx=\"496.28\" cy=\"839.402\" r=\"14\" fill=\"#e26f46\" fill-rule=\"evenodd\" fill-opacity=\"1\" stroke=\"#000000\" stroke-opacity=\"1\" stroke-width=\"3.2\"/>\n",
       "<circle clip-path=\"url(#clip982)\" cx=\"509.896\" cy=\"818.191\" r=\"14\" fill=\"#e26f46\" fill-rule=\"evenodd\" fill-opacity=\"1\" stroke=\"#000000\" stroke-opacity=\"1\" stroke-width=\"3.2\"/>\n",
       "<circle clip-path=\"url(#clip982)\" cx=\"523.511\" cy=\"793.631\" r=\"14\" fill=\"#e26f46\" fill-rule=\"evenodd\" fill-opacity=\"1\" stroke=\"#000000\" stroke-opacity=\"1\" stroke-width=\"3.2\"/>\n",
       "<circle clip-path=\"url(#clip982)\" cx=\"537.127\" cy=\"779.407\" r=\"14\" fill=\"#e26f46\" fill-rule=\"evenodd\" fill-opacity=\"1\" stroke=\"#000000\" stroke-opacity=\"1\" stroke-width=\"3.2\"/>\n",
       "<circle clip-path=\"url(#clip982)\" cx=\"550.742\" cy=\"768.474\" r=\"14\" fill=\"#e26f46\" fill-rule=\"evenodd\" fill-opacity=\"1\" stroke=\"#000000\" stroke-opacity=\"1\" stroke-width=\"3.2\"/>\n",
       "<circle clip-path=\"url(#clip982)\" cx=\"564.358\" cy=\"736.843\" r=\"14\" fill=\"#e26f46\" fill-rule=\"evenodd\" fill-opacity=\"1\" stroke=\"#000000\" stroke-opacity=\"1\" stroke-width=\"3.2\"/>\n",
       "<circle clip-path=\"url(#clip982)\" cx=\"577.974\" cy=\"710.379\" r=\"14\" fill=\"#e26f46\" fill-rule=\"evenodd\" fill-opacity=\"1\" stroke=\"#000000\" stroke-opacity=\"1\" stroke-width=\"3.2\"/>\n",
       "<circle clip-path=\"url(#clip982)\" cx=\"591.589\" cy=\"690.022\" r=\"14\" fill=\"#e26f46\" fill-rule=\"evenodd\" fill-opacity=\"1\" stroke=\"#000000\" stroke-opacity=\"1\" stroke-width=\"3.2\"/>\n",
       "<circle clip-path=\"url(#clip982)\" cx=\"605.205\" cy=\"667.899\" r=\"14\" fill=\"#e26f46\" fill-rule=\"evenodd\" fill-opacity=\"1\" stroke=\"#000000\" stroke-opacity=\"1\" stroke-width=\"3.2\"/>\n",
       "<circle clip-path=\"url(#clip982)\" cx=\"618.82\" cy=\"648.689\" r=\"14\" fill=\"#e26f46\" fill-rule=\"evenodd\" fill-opacity=\"1\" stroke=\"#000000\" stroke-opacity=\"1\" stroke-width=\"3.2\"/>\n",
       "<circle clip-path=\"url(#clip982)\" cx=\"632.436\" cy=\"647.498\" r=\"14\" fill=\"#e26f46\" fill-rule=\"evenodd\" fill-opacity=\"1\" stroke=\"#000000\" stroke-opacity=\"1\" stroke-width=\"3.2\"/>\n",
       "<circle clip-path=\"url(#clip982)\" cx=\"646.051\" cy=\"641.274\" r=\"14\" fill=\"#e26f46\" fill-rule=\"evenodd\" fill-opacity=\"1\" stroke=\"#000000\" stroke-opacity=\"1\" stroke-width=\"3.2\"/>\n",
       "<circle clip-path=\"url(#clip982)\" cx=\"659.667\" cy=\"638.36\" r=\"14\" fill=\"#e26f46\" fill-rule=\"evenodd\" fill-opacity=\"1\" stroke=\"#000000\" stroke-opacity=\"1\" stroke-width=\"3.2\"/>\n",
       "<circle clip-path=\"url(#clip982)\" cx=\"673.282\" cy=\"636.697\" r=\"14\" fill=\"#e26f46\" fill-rule=\"evenodd\" fill-opacity=\"1\" stroke=\"#000000\" stroke-opacity=\"1\" stroke-width=\"3.2\"/>\n",
       "<circle clip-path=\"url(#clip982)\" cx=\"686.898\" cy=\"635.066\" r=\"14\" fill=\"#e26f46\" fill-rule=\"evenodd\" fill-opacity=\"1\" stroke=\"#000000\" stroke-opacity=\"1\" stroke-width=\"3.2\"/>\n",
       "<circle clip-path=\"url(#clip982)\" cx=\"700.513\" cy=\"630.303\" r=\"14\" fill=\"#e26f46\" fill-rule=\"evenodd\" fill-opacity=\"1\" stroke=\"#000000\" stroke-opacity=\"1\" stroke-width=\"3.2\"/>\n",
       "<circle clip-path=\"url(#clip982)\" cx=\"714.129\" cy=\"627.911\" r=\"14\" fill=\"#e26f46\" fill-rule=\"evenodd\" fill-opacity=\"1\" stroke=\"#000000\" stroke-opacity=\"1\" stroke-width=\"3.2\"/>\n",
       "<circle clip-path=\"url(#clip982)\" cx=\"727.744\" cy=\"623.638\" r=\"14\" fill=\"#e26f46\" fill-rule=\"evenodd\" fill-opacity=\"1\" stroke=\"#000000\" stroke-opacity=\"1\" stroke-width=\"3.2\"/>\n",
       "<circle clip-path=\"url(#clip982)\" cx=\"741.36\" cy=\"620.071\" r=\"14\" fill=\"#e26f46\" fill-rule=\"evenodd\" fill-opacity=\"1\" stroke=\"#000000\" stroke-opacity=\"1\" stroke-width=\"3.2\"/>\n",
       "<circle clip-path=\"url(#clip982)\" cx=\"754.975\" cy=\"618.54\" r=\"14\" fill=\"#e26f46\" fill-rule=\"evenodd\" fill-opacity=\"1\" stroke=\"#000000\" stroke-opacity=\"1\" stroke-width=\"3.2\"/>\n",
       "<circle clip-path=\"url(#clip982)\" cx=\"768.591\" cy=\"615.513\" r=\"14\" fill=\"#e26f46\" fill-rule=\"evenodd\" fill-opacity=\"1\" stroke=\"#000000\" stroke-opacity=\"1\" stroke-width=\"3.2\"/>\n",
       "<circle clip-path=\"url(#clip982)\" cx=\"782.206\" cy=\"611.104\" r=\"14\" fill=\"#e26f46\" fill-rule=\"evenodd\" fill-opacity=\"1\" stroke=\"#000000\" stroke-opacity=\"1\" stroke-width=\"3.2\"/>\n",
       "<circle clip-path=\"url(#clip982)\" cx=\"795.822\" cy=\"607.216\" r=\"14\" fill=\"#e26f46\" fill-rule=\"evenodd\" fill-opacity=\"1\" stroke=\"#000000\" stroke-opacity=\"1\" stroke-width=\"3.2\"/>\n",
       "<circle clip-path=\"url(#clip982)\" cx=\"809.437\" cy=\"604.323\" r=\"14\" fill=\"#e26f46\" fill-rule=\"evenodd\" fill-opacity=\"1\" stroke=\"#000000\" stroke-opacity=\"1\" stroke-width=\"3.2\"/>\n",
       "<circle clip-path=\"url(#clip982)\" cx=\"823.053\" cy=\"603.3\" r=\"14\" fill=\"#e26f46\" fill-rule=\"evenodd\" fill-opacity=\"1\" stroke=\"#000000\" stroke-opacity=\"1\" stroke-width=\"3.2\"/>\n",
       "<circle clip-path=\"url(#clip982)\" cx=\"836.668\" cy=\"597.601\" r=\"14\" fill=\"#e26f46\" fill-rule=\"evenodd\" fill-opacity=\"1\" stroke=\"#000000\" stroke-opacity=\"1\" stroke-width=\"3.2\"/>\n",
       "<circle clip-path=\"url(#clip982)\" cx=\"850.284\" cy=\"593.925\" r=\"14\" fill=\"#e26f46\" fill-rule=\"evenodd\" fill-opacity=\"1\" stroke=\"#000000\" stroke-opacity=\"1\" stroke-width=\"3.2\"/>\n",
       "<circle clip-path=\"url(#clip982)\" cx=\"863.899\" cy=\"588.888\" r=\"14\" fill=\"#e26f46\" fill-rule=\"evenodd\" fill-opacity=\"1\" stroke=\"#000000\" stroke-opacity=\"1\" stroke-width=\"3.2\"/>\n",
       "<circle clip-path=\"url(#clip982)\" cx=\"877.515\" cy=\"585.836\" r=\"14\" fill=\"#e26f46\" fill-rule=\"evenodd\" fill-opacity=\"1\" stroke=\"#000000\" stroke-opacity=\"1\" stroke-width=\"3.2\"/>\n",
       "<circle clip-path=\"url(#clip982)\" cx=\"891.13\" cy=\"582.639\" r=\"14\" fill=\"#e26f46\" fill-rule=\"evenodd\" fill-opacity=\"1\" stroke=\"#000000\" stroke-opacity=\"1\" stroke-width=\"3.2\"/>\n",
       "<circle clip-path=\"url(#clip982)\" cx=\"904.746\" cy=\"577.184\" r=\"14\" fill=\"#e26f46\" fill-rule=\"evenodd\" fill-opacity=\"1\" stroke=\"#000000\" stroke-opacity=\"1\" stroke-width=\"3.2\"/>\n",
       "<circle clip-path=\"url(#clip982)\" cx=\"918.361\" cy=\"570.059\" r=\"14\" fill=\"#e26f46\" fill-rule=\"evenodd\" fill-opacity=\"1\" stroke=\"#000000\" stroke-opacity=\"1\" stroke-width=\"3.2\"/>\n",
       "<circle clip-path=\"url(#clip982)\" cx=\"931.977\" cy=\"566.753\" r=\"14\" fill=\"#e26f46\" fill-rule=\"evenodd\" fill-opacity=\"1\" stroke=\"#000000\" stroke-opacity=\"1\" stroke-width=\"3.2\"/>\n",
       "<circle clip-path=\"url(#clip982)\" cx=\"945.592\" cy=\"563.124\" r=\"14\" fill=\"#e26f46\" fill-rule=\"evenodd\" fill-opacity=\"1\" stroke=\"#000000\" stroke-opacity=\"1\" stroke-width=\"3.2\"/>\n",
       "<circle clip-path=\"url(#clip982)\" cx=\"959.208\" cy=\"559.098\" r=\"14\" fill=\"#e26f46\" fill-rule=\"evenodd\" fill-opacity=\"1\" stroke=\"#000000\" stroke-opacity=\"1\" stroke-width=\"3.2\"/>\n",
       "<circle clip-path=\"url(#clip982)\" cx=\"972.823\" cy=\"555.145\" r=\"14\" fill=\"#e26f46\" fill-rule=\"evenodd\" fill-opacity=\"1\" stroke=\"#000000\" stroke-opacity=\"1\" stroke-width=\"3.2\"/>\n",
       "<circle clip-path=\"url(#clip982)\" cx=\"986.439\" cy=\"548.225\" r=\"14\" fill=\"#e26f46\" fill-rule=\"evenodd\" fill-opacity=\"1\" stroke=\"#000000\" stroke-opacity=\"1\" stroke-width=\"3.2\"/>\n",
       "<circle clip-path=\"url(#clip982)\" cx=\"1000.05\" cy=\"542.832\" r=\"14\" fill=\"#e26f46\" fill-rule=\"evenodd\" fill-opacity=\"1\" stroke=\"#000000\" stroke-opacity=\"1\" stroke-width=\"3.2\"/>\n",
       "<circle clip-path=\"url(#clip982)\" cx=\"1013.67\" cy=\"540.12\" r=\"14\" fill=\"#e26f46\" fill-rule=\"evenodd\" fill-opacity=\"1\" stroke=\"#000000\" stroke-opacity=\"1\" stroke-width=\"3.2\"/>\n",
       "<circle clip-path=\"url(#clip982)\" cx=\"1027.29\" cy=\"536.691\" r=\"14\" fill=\"#e26f46\" fill-rule=\"evenodd\" fill-opacity=\"1\" stroke=\"#000000\" stroke-opacity=\"1\" stroke-width=\"3.2\"/>\n",
       "<circle clip-path=\"url(#clip982)\" cx=\"1040.9\" cy=\"532.325\" r=\"14\" fill=\"#e26f46\" fill-rule=\"evenodd\" fill-opacity=\"1\" stroke=\"#000000\" stroke-opacity=\"1\" stroke-width=\"3.2\"/>\n",
       "<circle clip-path=\"url(#clip982)\" cx=\"1054.52\" cy=\"528.902\" r=\"14\" fill=\"#e26f46\" fill-rule=\"evenodd\" fill-opacity=\"1\" stroke=\"#000000\" stroke-opacity=\"1\" stroke-width=\"3.2\"/>\n",
       "<circle clip-path=\"url(#clip982)\" cx=\"1068.13\" cy=\"523.253\" r=\"14\" fill=\"#e26f46\" fill-rule=\"evenodd\" fill-opacity=\"1\" stroke=\"#000000\" stroke-opacity=\"1\" stroke-width=\"3.2\"/>\n",
       "<circle clip-path=\"url(#clip982)\" cx=\"1081.75\" cy=\"518.795\" r=\"14\" fill=\"#e26f46\" fill-rule=\"evenodd\" fill-opacity=\"1\" stroke=\"#000000\" stroke-opacity=\"1\" stroke-width=\"3.2\"/>\n",
       "<circle clip-path=\"url(#clip982)\" cx=\"1095.36\" cy=\"514.468\" r=\"14\" fill=\"#e26f46\" fill-rule=\"evenodd\" fill-opacity=\"1\" stroke=\"#000000\" stroke-opacity=\"1\" stroke-width=\"3.2\"/>\n",
       "<circle clip-path=\"url(#clip982)\" cx=\"1108.98\" cy=\"509.295\" r=\"14\" fill=\"#e26f46\" fill-rule=\"evenodd\" fill-opacity=\"1\" stroke=\"#000000\" stroke-opacity=\"1\" stroke-width=\"3.2\"/>\n",
       "<circle clip-path=\"url(#clip982)\" cx=\"1122.59\" cy=\"503.67\" r=\"14\" fill=\"#e26f46\" fill-rule=\"evenodd\" fill-opacity=\"1\" stroke=\"#000000\" stroke-opacity=\"1\" stroke-width=\"3.2\"/>\n",
       "<circle clip-path=\"url(#clip982)\" cx=\"1136.21\" cy=\"498.518\" r=\"14\" fill=\"#e26f46\" fill-rule=\"evenodd\" fill-opacity=\"1\" stroke=\"#000000\" stroke-opacity=\"1\" stroke-width=\"3.2\"/>\n",
       "<circle clip-path=\"url(#clip982)\" cx=\"1149.83\" cy=\"494.59\" r=\"14\" fill=\"#e26f46\" fill-rule=\"evenodd\" fill-opacity=\"1\" stroke=\"#000000\" stroke-opacity=\"1\" stroke-width=\"3.2\"/>\n",
       "<circle clip-path=\"url(#clip982)\" cx=\"1163.44\" cy=\"492.057\" r=\"14\" fill=\"#e26f46\" fill-rule=\"evenodd\" fill-opacity=\"1\" stroke=\"#000000\" stroke-opacity=\"1\" stroke-width=\"3.2\"/>\n",
       "<circle clip-path=\"url(#clip982)\" cx=\"1177.06\" cy=\"487.693\" r=\"14\" fill=\"#e26f46\" fill-rule=\"evenodd\" fill-opacity=\"1\" stroke=\"#000000\" stroke-opacity=\"1\" stroke-width=\"3.2\"/>\n",
       "<circle clip-path=\"url(#clip982)\" cx=\"1190.67\" cy=\"481.302\" r=\"14\" fill=\"#e26f46\" fill-rule=\"evenodd\" fill-opacity=\"1\" stroke=\"#000000\" stroke-opacity=\"1\" stroke-width=\"3.2\"/>\n",
       "<circle clip-path=\"url(#clip982)\" cx=\"1204.29\" cy=\"476.57\" r=\"14\" fill=\"#e26f46\" fill-rule=\"evenodd\" fill-opacity=\"1\" stroke=\"#000000\" stroke-opacity=\"1\" stroke-width=\"3.2\"/>\n",
       "<circle clip-path=\"url(#clip982)\" cx=\"1217.9\" cy=\"471.515\" r=\"14\" fill=\"#e26f46\" fill-rule=\"evenodd\" fill-opacity=\"1\" stroke=\"#000000\" stroke-opacity=\"1\" stroke-width=\"3.2\"/>\n",
       "<circle clip-path=\"url(#clip982)\" cx=\"1231.52\" cy=\"466.427\" r=\"14\" fill=\"#e26f46\" fill-rule=\"evenodd\" fill-opacity=\"1\" stroke=\"#000000\" stroke-opacity=\"1\" stroke-width=\"3.2\"/>\n",
       "<circle clip-path=\"url(#clip982)\" cx=\"1245.13\" cy=\"461.19\" r=\"14\" fill=\"#e26f46\" fill-rule=\"evenodd\" fill-opacity=\"1\" stroke=\"#000000\" stroke-opacity=\"1\" stroke-width=\"3.2\"/>\n",
       "<circle clip-path=\"url(#clip982)\" cx=\"1258.75\" cy=\"456.087\" r=\"14\" fill=\"#e26f46\" fill-rule=\"evenodd\" fill-opacity=\"1\" stroke=\"#000000\" stroke-opacity=\"1\" stroke-width=\"3.2\"/>\n",
       "<circle clip-path=\"url(#clip982)\" cx=\"1272.36\" cy=\"451.663\" r=\"14\" fill=\"#e26f46\" fill-rule=\"evenodd\" fill-opacity=\"1\" stroke=\"#000000\" stroke-opacity=\"1\" stroke-width=\"3.2\"/>\n",
       "<circle clip-path=\"url(#clip982)\" cx=\"1285.98\" cy=\"446.728\" r=\"14\" fill=\"#e26f46\" fill-rule=\"evenodd\" fill-opacity=\"1\" stroke=\"#000000\" stroke-opacity=\"1\" stroke-width=\"3.2\"/>\n",
       "<circle clip-path=\"url(#clip982)\" cx=\"1299.6\" cy=\"441.808\" r=\"14\" fill=\"#e26f46\" fill-rule=\"evenodd\" fill-opacity=\"1\" stroke=\"#000000\" stroke-opacity=\"1\" stroke-width=\"3.2\"/>\n",
       "<circle clip-path=\"url(#clip982)\" cx=\"1313.21\" cy=\"435.395\" r=\"14\" fill=\"#e26f46\" fill-rule=\"evenodd\" fill-opacity=\"1\" stroke=\"#000000\" stroke-opacity=\"1\" stroke-width=\"3.2\"/>\n",
       "<circle clip-path=\"url(#clip982)\" cx=\"1326.83\" cy=\"430.652\" r=\"14\" fill=\"#e26f46\" fill-rule=\"evenodd\" fill-opacity=\"1\" stroke=\"#000000\" stroke-opacity=\"1\" stroke-width=\"3.2\"/>\n",
       "<circle clip-path=\"url(#clip982)\" cx=\"1340.44\" cy=\"426.887\" r=\"14\" fill=\"#e26f46\" fill-rule=\"evenodd\" fill-opacity=\"1\" stroke=\"#000000\" stroke-opacity=\"1\" stroke-width=\"3.2\"/>\n",
       "<circle clip-path=\"url(#clip982)\" cx=\"1354.06\" cy=\"423.122\" r=\"14\" fill=\"#e26f46\" fill-rule=\"evenodd\" fill-opacity=\"1\" stroke=\"#000000\" stroke-opacity=\"1\" stroke-width=\"3.2\"/>\n",
       "<circle clip-path=\"url(#clip982)\" cx=\"1367.67\" cy=\"418.082\" r=\"14\" fill=\"#e26f46\" fill-rule=\"evenodd\" fill-opacity=\"1\" stroke=\"#000000\" stroke-opacity=\"1\" stroke-width=\"3.2\"/>\n",
       "<circle clip-path=\"url(#clip982)\" cx=\"1381.29\" cy=\"413.928\" r=\"14\" fill=\"#e26f46\" fill-rule=\"evenodd\" fill-opacity=\"1\" stroke=\"#000000\" stroke-opacity=\"1\" stroke-width=\"3.2\"/>\n",
       "<circle clip-path=\"url(#clip982)\" cx=\"1394.9\" cy=\"409.079\" r=\"14\" fill=\"#e26f46\" fill-rule=\"evenodd\" fill-opacity=\"1\" stroke=\"#000000\" stroke-opacity=\"1\" stroke-width=\"3.2\"/>\n",
       "<circle clip-path=\"url(#clip982)\" cx=\"1408.52\" cy=\"404.419\" r=\"14\" fill=\"#e26f46\" fill-rule=\"evenodd\" fill-opacity=\"1\" stroke=\"#000000\" stroke-opacity=\"1\" stroke-width=\"3.2\"/>\n",
       "<circle clip-path=\"url(#clip982)\" cx=\"1422.14\" cy=\"400.731\" r=\"14\" fill=\"#e26f46\" fill-rule=\"evenodd\" fill-opacity=\"1\" stroke=\"#000000\" stroke-opacity=\"1\" stroke-width=\"3.2\"/>\n",
       "<circle clip-path=\"url(#clip982)\" cx=\"1435.75\" cy=\"398.494\" r=\"14\" fill=\"#e26f46\" fill-rule=\"evenodd\" fill-opacity=\"1\" stroke=\"#000000\" stroke-opacity=\"1\" stroke-width=\"3.2\"/>\n",
       "<circle clip-path=\"url(#clip982)\" cx=\"1449.37\" cy=\"392.992\" r=\"14\" fill=\"#e26f46\" fill-rule=\"evenodd\" fill-opacity=\"1\" stroke=\"#000000\" stroke-opacity=\"1\" stroke-width=\"3.2\"/>\n",
       "<circle clip-path=\"url(#clip982)\" cx=\"1462.98\" cy=\"388.455\" r=\"14\" fill=\"#e26f46\" fill-rule=\"evenodd\" fill-opacity=\"1\" stroke=\"#000000\" stroke-opacity=\"1\" stroke-width=\"3.2\"/>\n",
       "<circle clip-path=\"url(#clip982)\" cx=\"1476.6\" cy=\"383.101\" r=\"14\" fill=\"#e26f46\" fill-rule=\"evenodd\" fill-opacity=\"1\" stroke=\"#000000\" stroke-opacity=\"1\" stroke-width=\"3.2\"/>\n",
       "<circle clip-path=\"url(#clip982)\" cx=\"1490.21\" cy=\"378.366\" r=\"14\" fill=\"#e26f46\" fill-rule=\"evenodd\" fill-opacity=\"1\" stroke=\"#000000\" stroke-opacity=\"1\" stroke-width=\"3.2\"/>\n",
       "<circle clip-path=\"url(#clip982)\" cx=\"1503.83\" cy=\"373.915\" r=\"14\" fill=\"#e26f46\" fill-rule=\"evenodd\" fill-opacity=\"1\" stroke=\"#000000\" stroke-opacity=\"1\" stroke-width=\"3.2\"/>\n",
       "<circle clip-path=\"url(#clip982)\" cx=\"1517.44\" cy=\"369.793\" r=\"14\" fill=\"#e26f46\" fill-rule=\"evenodd\" fill-opacity=\"1\" stroke=\"#000000\" stroke-opacity=\"1\" stroke-width=\"3.2\"/>\n",
       "<circle clip-path=\"url(#clip982)\" cx=\"1531.06\" cy=\"366.371\" r=\"14\" fill=\"#e26f46\" fill-rule=\"evenodd\" fill-opacity=\"1\" stroke=\"#000000\" stroke-opacity=\"1\" stroke-width=\"3.2\"/>\n",
       "<circle clip-path=\"url(#clip982)\" cx=\"1544.68\" cy=\"362.515\" r=\"14\" fill=\"#e26f46\" fill-rule=\"evenodd\" fill-opacity=\"1\" stroke=\"#000000\" stroke-opacity=\"1\" stroke-width=\"3.2\"/>\n",
       "<circle clip-path=\"url(#clip982)\" cx=\"1558.29\" cy=\"355.627\" r=\"14\" fill=\"#e26f46\" fill-rule=\"evenodd\" fill-opacity=\"1\" stroke=\"#000000\" stroke-opacity=\"1\" stroke-width=\"3.2\"/>\n",
       "<circle clip-path=\"url(#clip982)\" cx=\"1571.91\" cy=\"350.448\" r=\"14\" fill=\"#e26f46\" fill-rule=\"evenodd\" fill-opacity=\"1\" stroke=\"#000000\" stroke-opacity=\"1\" stroke-width=\"3.2\"/>\n",
       "<circle clip-path=\"url(#clip982)\" cx=\"1585.52\" cy=\"345.76\" r=\"14\" fill=\"#e26f46\" fill-rule=\"evenodd\" fill-opacity=\"1\" stroke=\"#000000\" stroke-opacity=\"1\" stroke-width=\"3.2\"/>\n",
       "<circle clip-path=\"url(#clip982)\" cx=\"1599.14\" cy=\"341.711\" r=\"14\" fill=\"#e26f46\" fill-rule=\"evenodd\" fill-opacity=\"1\" stroke=\"#000000\" stroke-opacity=\"1\" stroke-width=\"3.2\"/>\n",
       "<circle clip-path=\"url(#clip982)\" cx=\"1612.75\" cy=\"337.393\" r=\"14\" fill=\"#e26f46\" fill-rule=\"evenodd\" fill-opacity=\"1\" stroke=\"#000000\" stroke-opacity=\"1\" stroke-width=\"3.2\"/>\n",
       "<circle clip-path=\"url(#clip982)\" cx=\"1626.37\" cy=\"334.037\" r=\"14\" fill=\"#e26f46\" fill-rule=\"evenodd\" fill-opacity=\"1\" stroke=\"#000000\" stroke-opacity=\"1\" stroke-width=\"3.2\"/>\n",
       "<circle clip-path=\"url(#clip982)\" cx=\"1639.98\" cy=\"330.337\" r=\"14\" fill=\"#e26f46\" fill-rule=\"evenodd\" fill-opacity=\"1\" stroke=\"#000000\" stroke-opacity=\"1\" stroke-width=\"3.2\"/>\n",
       "<circle clip-path=\"url(#clip982)\" cx=\"1653.6\" cy=\"325.78\" r=\"14\" fill=\"#e26f46\" fill-rule=\"evenodd\" fill-opacity=\"1\" stroke=\"#000000\" stroke-opacity=\"1\" stroke-width=\"3.2\"/>\n",
       "<circle clip-path=\"url(#clip982)\" cx=\"1667.21\" cy=\"321.178\" r=\"14\" fill=\"#e26f46\" fill-rule=\"evenodd\" fill-opacity=\"1\" stroke=\"#000000\" stroke-opacity=\"1\" stroke-width=\"3.2\"/>\n",
       "<circle clip-path=\"url(#clip982)\" cx=\"1680.83\" cy=\"316.252\" r=\"14\" fill=\"#e26f46\" fill-rule=\"evenodd\" fill-opacity=\"1\" stroke=\"#000000\" stroke-opacity=\"1\" stroke-width=\"3.2\"/>\n",
       "<circle clip-path=\"url(#clip982)\" cx=\"1694.45\" cy=\"311.021\" r=\"14\" fill=\"#e26f46\" fill-rule=\"evenodd\" fill-opacity=\"1\" stroke=\"#000000\" stroke-opacity=\"1\" stroke-width=\"3.2\"/>\n",
       "<circle clip-path=\"url(#clip982)\" cx=\"1708.06\" cy=\"307.003\" r=\"14\" fill=\"#e26f46\" fill-rule=\"evenodd\" fill-opacity=\"1\" stroke=\"#000000\" stroke-opacity=\"1\" stroke-width=\"3.2\"/>\n",
       "<circle clip-path=\"url(#clip982)\" cx=\"1721.68\" cy=\"303.918\" r=\"14\" fill=\"#e26f46\" fill-rule=\"evenodd\" fill-opacity=\"1\" stroke=\"#000000\" stroke-opacity=\"1\" stroke-width=\"3.2\"/>\n",
       "<circle clip-path=\"url(#clip982)\" cx=\"1735.29\" cy=\"299.623\" r=\"14\" fill=\"#e26f46\" fill-rule=\"evenodd\" fill-opacity=\"1\" stroke=\"#000000\" stroke-opacity=\"1\" stroke-width=\"3.2\"/>\n",
       "<circle clip-path=\"url(#clip982)\" cx=\"1748.91\" cy=\"296.129\" r=\"14\" fill=\"#e26f46\" fill-rule=\"evenodd\" fill-opacity=\"1\" stroke=\"#000000\" stroke-opacity=\"1\" stroke-width=\"3.2\"/>\n",
       "<circle clip-path=\"url(#clip982)\" cx=\"1762.52\" cy=\"292.45\" r=\"14\" fill=\"#e26f46\" fill-rule=\"evenodd\" fill-opacity=\"1\" stroke=\"#000000\" stroke-opacity=\"1\" stroke-width=\"3.2\"/>\n",
       "<circle clip-path=\"url(#clip982)\" cx=\"1776.14\" cy=\"287.906\" r=\"14\" fill=\"#e26f46\" fill-rule=\"evenodd\" fill-opacity=\"1\" stroke=\"#000000\" stroke-opacity=\"1\" stroke-width=\"3.2\"/>\n",
       "<circle clip-path=\"url(#clip982)\" cx=\"1789.75\" cy=\"283.891\" r=\"14\" fill=\"#e26f46\" fill-rule=\"evenodd\" fill-opacity=\"1\" stroke=\"#000000\" stroke-opacity=\"1\" stroke-width=\"3.2\"/>\n",
       "<circle clip-path=\"url(#clip982)\" cx=\"1803.37\" cy=\"280.332\" r=\"14\" fill=\"#e26f46\" fill-rule=\"evenodd\" fill-opacity=\"1\" stroke=\"#000000\" stroke-opacity=\"1\" stroke-width=\"3.2\"/>\n",
       "<circle clip-path=\"url(#clip982)\" cx=\"1816.99\" cy=\"276.742\" r=\"14\" fill=\"#e26f46\" fill-rule=\"evenodd\" fill-opacity=\"1\" stroke=\"#000000\" stroke-opacity=\"1\" stroke-width=\"3.2\"/>\n",
       "<circle clip-path=\"url(#clip982)\" cx=\"1830.6\" cy=\"272.433\" r=\"14\" fill=\"#e26f46\" fill-rule=\"evenodd\" fill-opacity=\"1\" stroke=\"#000000\" stroke-opacity=\"1\" stroke-width=\"3.2\"/>\n",
       "<circle clip-path=\"url(#clip982)\" cx=\"1844.22\" cy=\"267.714\" r=\"14\" fill=\"#e26f46\" fill-rule=\"evenodd\" fill-opacity=\"1\" stroke=\"#000000\" stroke-opacity=\"1\" stroke-width=\"3.2\"/>\n",
       "<circle clip-path=\"url(#clip982)\" cx=\"1857.83\" cy=\"263.492\" r=\"14\" fill=\"#e26f46\" fill-rule=\"evenodd\" fill-opacity=\"1\" stroke=\"#000000\" stroke-opacity=\"1\" stroke-width=\"3.2\"/>\n",
       "<circle clip-path=\"url(#clip982)\" cx=\"1871.45\" cy=\"258.849\" r=\"14\" fill=\"#e26f46\" fill-rule=\"evenodd\" fill-opacity=\"1\" stroke=\"#000000\" stroke-opacity=\"1\" stroke-width=\"3.2\"/>\n",
       "<circle clip-path=\"url(#clip982)\" cx=\"1885.06\" cy=\"254.976\" r=\"14\" fill=\"#e26f46\" fill-rule=\"evenodd\" fill-opacity=\"1\" stroke=\"#000000\" stroke-opacity=\"1\" stroke-width=\"3.2\"/>\n",
       "<circle clip-path=\"url(#clip982)\" cx=\"1898.68\" cy=\"251.393\" r=\"14\" fill=\"#e26f46\" fill-rule=\"evenodd\" fill-opacity=\"1\" stroke=\"#000000\" stroke-opacity=\"1\" stroke-width=\"3.2\"/>\n",
       "<circle clip-path=\"url(#clip982)\" cx=\"1912.29\" cy=\"247.513\" r=\"14\" fill=\"#e26f46\" fill-rule=\"evenodd\" fill-opacity=\"1\" stroke=\"#000000\" stroke-opacity=\"1\" stroke-width=\"3.2\"/>\n",
       "<circle clip-path=\"url(#clip982)\" cx=\"1925.91\" cy=\"243.195\" r=\"14\" fill=\"#e26f46\" fill-rule=\"evenodd\" fill-opacity=\"1\" stroke=\"#000000\" stroke-opacity=\"1\" stroke-width=\"3.2\"/>\n",
       "<circle clip-path=\"url(#clip982)\" cx=\"1939.53\" cy=\"238.794\" r=\"14\" fill=\"#e26f46\" fill-rule=\"evenodd\" fill-opacity=\"1\" stroke=\"#000000\" stroke-opacity=\"1\" stroke-width=\"3.2\"/>\n",
       "<circle clip-path=\"url(#clip982)\" cx=\"1953.14\" cy=\"234.46\" r=\"14\" fill=\"#e26f46\" fill-rule=\"evenodd\" fill-opacity=\"1\" stroke=\"#000000\" stroke-opacity=\"1\" stroke-width=\"3.2\"/>\n",
       "<circle clip-path=\"url(#clip982)\" cx=\"1966.76\" cy=\"229.553\" r=\"14\" fill=\"#e26f46\" fill-rule=\"evenodd\" fill-opacity=\"1\" stroke=\"#000000\" stroke-opacity=\"1\" stroke-width=\"3.2\"/>\n",
       "<circle clip-path=\"url(#clip982)\" cx=\"1980.37\" cy=\"225.789\" r=\"14\" fill=\"#e26f46\" fill-rule=\"evenodd\" fill-opacity=\"1\" stroke=\"#000000\" stroke-opacity=\"1\" stroke-width=\"3.2\"/>\n",
       "<circle clip-path=\"url(#clip982)\" cx=\"1993.99\" cy=\"222.109\" r=\"14\" fill=\"#e26f46\" fill-rule=\"evenodd\" fill-opacity=\"1\" stroke=\"#000000\" stroke-opacity=\"1\" stroke-width=\"3.2\"/>\n",
       "<circle clip-path=\"url(#clip982)\" cx=\"2007.6\" cy=\"218.141\" r=\"14\" fill=\"#e26f46\" fill-rule=\"evenodd\" fill-opacity=\"1\" stroke=\"#000000\" stroke-opacity=\"1\" stroke-width=\"3.2\"/>\n",
       "<circle clip-path=\"url(#clip982)\" cx=\"2021.22\" cy=\"214.84\" r=\"14\" fill=\"#e26f46\" fill-rule=\"evenodd\" fill-opacity=\"1\" stroke=\"#000000\" stroke-opacity=\"1\" stroke-width=\"3.2\"/>\n",
       "<circle clip-path=\"url(#clip982)\" cx=\"2034.83\" cy=\"209.965\" r=\"14\" fill=\"#e26f46\" fill-rule=\"evenodd\" fill-opacity=\"1\" stroke=\"#000000\" stroke-opacity=\"1\" stroke-width=\"3.2\"/>\n",
       "<circle clip-path=\"url(#clip982)\" cx=\"2048.45\" cy=\"205.797\" r=\"14\" fill=\"#e26f46\" fill-rule=\"evenodd\" fill-opacity=\"1\" stroke=\"#000000\" stroke-opacity=\"1\" stroke-width=\"3.2\"/>\n",
       "<circle clip-path=\"url(#clip982)\" cx=\"2062.06\" cy=\"201.47\" r=\"14\" fill=\"#e26f46\" fill-rule=\"evenodd\" fill-opacity=\"1\" stroke=\"#000000\" stroke-opacity=\"1\" stroke-width=\"3.2\"/>\n",
       "<circle clip-path=\"url(#clip982)\" cx=\"2075.68\" cy=\"197.787\" r=\"14\" fill=\"#e26f46\" fill-rule=\"evenodd\" fill-opacity=\"1\" stroke=\"#000000\" stroke-opacity=\"1\" stroke-width=\"3.2\"/>\n",
       "<circle clip-path=\"url(#clip982)\" cx=\"2089.3\" cy=\"194.405\" r=\"14\" fill=\"#e26f46\" fill-rule=\"evenodd\" fill-opacity=\"1\" stroke=\"#000000\" stroke-opacity=\"1\" stroke-width=\"3.2\"/>\n",
       "<circle clip-path=\"url(#clip982)\" cx=\"2102.91\" cy=\"191.45\" r=\"14\" fill=\"#e26f46\" fill-rule=\"evenodd\" fill-opacity=\"1\" stroke=\"#000000\" stroke-opacity=\"1\" stroke-width=\"3.2\"/>\n",
       "<circle clip-path=\"url(#clip982)\" cx=\"2116.53\" cy=\"187.994\" r=\"14\" fill=\"#e26f46\" fill-rule=\"evenodd\" fill-opacity=\"1\" stroke=\"#000000\" stroke-opacity=\"1\" stroke-width=\"3.2\"/>\n",
       "<circle clip-path=\"url(#clip982)\" cx=\"2130.14\" cy=\"184.571\" r=\"14\" fill=\"#e26f46\" fill-rule=\"evenodd\" fill-opacity=\"1\" stroke=\"#000000\" stroke-opacity=\"1\" stroke-width=\"3.2\"/>\n",
       "<circle clip-path=\"url(#clip982)\" cx=\"2143.76\" cy=\"181.236\" r=\"14\" fill=\"#e26f46\" fill-rule=\"evenodd\" fill-opacity=\"1\" stroke=\"#000000\" stroke-opacity=\"1\" stroke-width=\"3.2\"/>\n",
       "<circle clip-path=\"url(#clip982)\" cx=\"2157.37\" cy=\"178.051\" r=\"14\" fill=\"#e26f46\" fill-rule=\"evenodd\" fill-opacity=\"1\" stroke=\"#000000\" stroke-opacity=\"1\" stroke-width=\"3.2\"/>\n",
       "<circle clip-path=\"url(#clip982)\" cx=\"2170.99\" cy=\"174.947\" r=\"14\" fill=\"#e26f46\" fill-rule=\"evenodd\" fill-opacity=\"1\" stroke=\"#000000\" stroke-opacity=\"1\" stroke-width=\"3.2\"/>\n",
       "<circle clip-path=\"url(#clip982)\" cx=\"2184.6\" cy=\"172.868\" r=\"14\" fill=\"#e26f46\" fill-rule=\"evenodd\" fill-opacity=\"1\" stroke=\"#000000\" stroke-opacity=\"1\" stroke-width=\"3.2\"/>\n",
       "<circle clip-path=\"url(#clip982)\" cx=\"2198.22\" cy=\"171.083\" r=\"14\" fill=\"#e26f46\" fill-rule=\"evenodd\" fill-opacity=\"1\" stroke=\"#000000\" stroke-opacity=\"1\" stroke-width=\"3.2\"/>\n",
       "<circle clip-path=\"url(#clip982)\" cx=\"2211.84\" cy=\"168.288\" r=\"14\" fill=\"#e26f46\" fill-rule=\"evenodd\" fill-opacity=\"1\" stroke=\"#000000\" stroke-opacity=\"1\" stroke-width=\"3.2\"/>\n",
       "<circle clip-path=\"url(#clip982)\" cx=\"2225.45\" cy=\"165.595\" r=\"14\" fill=\"#e26f46\" fill-rule=\"evenodd\" fill-opacity=\"1\" stroke=\"#000000\" stroke-opacity=\"1\" stroke-width=\"3.2\"/>\n",
       "<circle clip-path=\"url(#clip982)\" cx=\"2239.07\" cy=\"162.822\" r=\"14\" fill=\"#e26f46\" fill-rule=\"evenodd\" fill-opacity=\"1\" stroke=\"#000000\" stroke-opacity=\"1\" stroke-width=\"3.2\"/>\n",
       "<circle clip-path=\"url(#clip982)\" cx=\"2252.68\" cy=\"160.47\" r=\"14\" fill=\"#e26f46\" fill-rule=\"evenodd\" fill-opacity=\"1\" stroke=\"#000000\" stroke-opacity=\"1\" stroke-width=\"3.2\"/>\n",
       "<circle clip-path=\"url(#clip982)\" cx=\"2266.3\" cy=\"158.362\" r=\"14\" fill=\"#e26f46\" fill-rule=\"evenodd\" fill-opacity=\"1\" stroke=\"#000000\" stroke-opacity=\"1\" stroke-width=\"3.2\"/>\n",
       "<circle clip-path=\"url(#clip982)\" cx=\"2279.91\" cy=\"157.058\" r=\"14\" fill=\"#e26f46\" fill-rule=\"evenodd\" fill-opacity=\"1\" stroke=\"#000000\" stroke-opacity=\"1\" stroke-width=\"3.2\"/>\n",
       "<circle clip-path=\"url(#clip982)\" cx=\"2293.53\" cy=\"155.749\" r=\"14\" fill=\"#e26f46\" fill-rule=\"evenodd\" fill-opacity=\"1\" stroke=\"#000000\" stroke-opacity=\"1\" stroke-width=\"3.2\"/>\n",
       "<path clip-path=\"url(#clip980)\" d=\"\n",
       "M332.051 388.432 L918.901 388.432 L918.901 206.992 L332.051 206.992  Z\n",
       "  \" fill=\"#ffffff\" fill-rule=\"evenodd\" fill-opacity=\"1\"/>\n",
       "<polyline clip-path=\"url(#clip980)\" style=\"stroke:#000000; stroke-width:4; stroke-opacity:1; fill:none\" points=\"\n",
       "  332.051,388.432 918.901,388.432 918.901,206.992 332.051,206.992 332.051,388.432 \n",
       "  \"/>\n",
       "<polyline clip-path=\"url(#clip980)\" style=\"stroke:#009af9; stroke-width:4; stroke-opacity:1; fill:none\" points=\"\n",
       "  356.051,267.472 500.051,267.472 \n",
       "  \"/>\n",
       "<path clip-path=\"url(#clip980)\" d=\"M 0 0 M531.459 251.465 L531.459 258.826 L540.232 258.826 L540.232 262.137 L531.459 262.137 L531.459 276.211 Q531.459 279.382 532.315 280.285 Q533.195 281.187 535.857 281.187 L540.232 281.187 L540.232 284.752 L535.857 284.752 Q530.926 284.752 529.051 282.923 Q527.176 281.072 527.176 276.211 L527.176 262.137 L524.051 262.137 L524.051 258.826 L527.176 258.826 L527.176 251.465 L531.459 251.465 Z\" fill=\"#000000\" fill-rule=\"evenodd\" fill-opacity=\"1\" /><path clip-path=\"url(#clip980)\" d=\"M 0 0 M544.699 258.826 L548.959 258.826 L548.959 284.752 L544.699 284.752 L544.699 258.826 M544.699 248.734 L548.959 248.734 L548.959 254.127 L544.699 254.127 L544.699 248.734 Z\" fill=\"#000000\" fill-rule=\"evenodd\" fill-opacity=\"1\" /><path clip-path=\"url(#clip980)\" d=\"M 0 0 M573.611 263.803 Q575.208 260.933 577.431 259.567 Q579.653 258.201 582.662 258.201 Q586.713 258.201 588.912 261.049 Q591.111 263.873 591.111 269.104 L591.111 284.752 L586.829 284.752 L586.829 269.243 Q586.829 265.516 585.509 263.711 Q584.19 261.905 581.481 261.905 Q578.171 261.905 576.25 264.104 Q574.329 266.303 574.329 270.099 L574.329 284.752 L570.046 284.752 L570.046 269.243 Q570.046 265.493 568.727 263.711 Q567.407 261.905 564.653 261.905 Q561.389 261.905 559.468 264.127 Q557.546 266.326 557.546 270.099 L557.546 284.752 L553.264 284.752 L553.264 258.826 L557.546 258.826 L557.546 262.854 Q559.005 260.47 561.042 259.336 Q563.079 258.201 565.88 258.201 Q568.704 258.201 570.671 259.637 Q572.662 261.072 573.611 263.803 Z\" fill=\"#000000\" fill-rule=\"evenodd\" fill-opacity=\"1\" /><path clip-path=\"url(#clip980)\" d=\"M 0 0 M617.754 270.724 L617.754 272.808 L598.171 272.808 Q598.449 277.206 600.81 279.521 Q603.194 281.812 607.43 281.812 Q609.884 281.812 612.176 281.21 Q614.491 280.609 616.759 279.405 L616.759 283.433 Q614.467 284.405 612.06 284.914 Q609.653 285.423 607.176 285.423 Q600.972 285.423 597.338 281.812 Q593.727 278.201 593.727 272.044 Q593.727 265.678 597.153 261.951 Q600.602 258.201 606.435 258.201 Q611.667 258.201 614.699 261.581 Q617.754 264.937 617.754 270.724 M613.495 269.474 Q613.449 265.979 611.528 263.896 Q609.629 261.812 606.481 261.812 Q602.917 261.812 600.764 263.826 Q598.634 265.84 598.31 269.498 L613.495 269.474 Z\" fill=\"#000000\" fill-rule=\"evenodd\" fill-opacity=\"1\" /><path clip-path=\"url(#clip980)\" d=\"M 0 0 M637.291 248.734 L641.551 248.734 L641.551 284.752 L637.291 284.752 L637.291 248.734 Z\" fill=\"#000000\" fill-rule=\"evenodd\" fill-opacity=\"1\" /><path clip-path=\"url(#clip980)\" d=\"M 0 0 M646.018 258.826 L650.277 258.826 L650.277 284.752 L646.018 284.752 L646.018 258.826 M646.018 248.734 L650.277 248.734 L650.277 254.127 L646.018 254.127 L646.018 248.734 Z\" fill=\"#000000\" fill-rule=\"evenodd\" fill-opacity=\"1\" /><path clip-path=\"url(#clip980)\" d=\"M 0 0 M676.296 269.104 L676.296 284.752 L672.037 284.752 L672.037 269.243 Q672.037 265.562 670.601 263.734 Q669.166 261.905 666.296 261.905 Q662.847 261.905 660.856 264.104 Q658.865 266.303 658.865 270.099 L658.865 284.752 L654.583 284.752 L654.583 258.826 L658.865 258.826 L658.865 262.854 Q660.393 260.516 662.453 259.359 Q664.537 258.201 667.245 258.201 Q671.712 258.201 674.004 260.979 Q676.296 263.734 676.296 269.104 Z\" fill=\"#000000\" fill-rule=\"evenodd\" fill-opacity=\"1\" /><path clip-path=\"url(#clip980)\" d=\"M 0 0 M702.939 270.724 L702.939 272.808 L683.356 272.808 Q683.634 277.206 685.995 279.521 Q688.379 281.812 692.615 281.812 Q695.069 281.812 697.36 281.21 Q699.675 280.609 701.944 279.405 L701.944 283.433 Q699.652 284.405 697.245 284.914 Q694.837 285.423 692.361 285.423 Q686.157 285.423 682.523 281.812 Q678.912 278.201 678.912 272.044 Q678.912 265.678 682.337 261.951 Q685.786 258.201 691.62 258.201 Q696.851 258.201 699.884 261.581 Q702.939 264.937 702.939 270.724 M698.68 269.474 Q698.634 265.979 696.712 263.896 Q694.814 261.812 691.666 261.812 Q688.101 261.812 685.949 263.826 Q683.819 265.84 683.495 269.498 L698.68 269.474 Z\" fill=\"#000000\" fill-rule=\"evenodd\" fill-opacity=\"1\" /><circle clip-path=\"url(#clip980)\" cx=\"440.051\" cy=\"327.952\" r=\"23\" fill=\"#e26f46\" fill-rule=\"evenodd\" fill-opacity=\"1\" stroke=\"#000000\" stroke-opacity=\"1\" stroke-width=\"5.12\"/>\n",
       "<path clip-path=\"url(#clip980)\" d=\"M 0 0 M544.56 320.302 L544.56 324.283 Q542.755 323.288 540.926 322.802 Q539.121 322.292 537.269 322.292 Q533.125 322.292 530.834 324.931 Q528.542 327.547 528.542 332.292 Q528.542 337.038 530.834 339.677 Q533.125 342.292 537.269 342.292 Q539.121 342.292 540.926 341.806 Q542.755 341.297 544.56 340.302 L544.56 344.237 Q542.778 345.07 540.857 345.487 Q538.959 345.903 536.806 345.903 Q530.949 345.903 527.5 342.223 Q524.051 338.542 524.051 332.292 Q524.051 325.95 527.523 322.316 Q531.019 318.681 537.084 318.681 Q539.051 318.681 540.926 319.098 Q542.801 319.492 544.56 320.302 Z\" fill=\"#000000\" fill-rule=\"evenodd\" fill-opacity=\"1\" /><path clip-path=\"url(#clip980)\" d=\"M 0 0 M559.074 322.292 Q555.648 322.292 553.658 324.978 Q551.667 327.64 551.667 332.292 Q551.667 336.945 553.634 339.63 Q555.625 342.292 559.074 342.292 Q562.477 342.292 564.468 339.607 Q566.458 336.922 566.458 332.292 Q566.458 327.686 564.468 325.001 Q562.477 322.292 559.074 322.292 M559.074 318.681 Q564.63 318.681 567.801 322.292 Q570.972 325.904 570.972 332.292 Q570.972 338.658 567.801 342.292 Q564.63 345.903 559.074 345.903 Q553.496 345.903 550.324 342.292 Q547.176 338.658 547.176 332.292 Q547.176 325.904 550.324 322.292 Q553.496 318.681 559.074 318.681 Z\" fill=\"#000000\" fill-rule=\"evenodd\" fill-opacity=\"1\" /><path clip-path=\"url(#clip980)\" d=\"M 0 0 M596.991 329.584 L596.991 345.232 L592.731 345.232 L592.731 329.723 Q592.731 326.042 591.296 324.214 Q589.861 322.385 586.991 322.385 Q583.542 322.385 581.551 324.584 Q579.56 326.783 579.56 330.579 L579.56 345.232 L575.278 345.232 L575.278 319.306 L579.56 319.306 L579.56 323.334 Q581.088 320.996 583.148 319.839 Q585.231 318.681 587.94 318.681 Q592.407 318.681 594.699 321.459 Q596.991 324.214 596.991 329.584 Z\" fill=\"#000000\" fill-rule=\"evenodd\" fill-opacity=\"1\" /><path clip-path=\"url(#clip980)\" d=\"M 0 0 M614.583 309.214 L614.583 312.755 L610.509 312.755 Q608.217 312.755 607.315 313.681 Q606.435 314.607 606.435 317.015 L606.435 319.306 L613.449 319.306 L613.449 322.617 L606.435 322.617 L606.435 345.232 L602.153 345.232 L602.153 322.617 L598.079 322.617 L598.079 319.306 L602.153 319.306 L602.153 317.501 Q602.153 313.172 604.167 311.205 Q606.18 309.214 610.555 309.214 L614.583 309.214 Z\" fill=\"#000000\" fill-rule=\"evenodd\" fill-opacity=\"1\" /><path clip-path=\"url(#clip980)\" d=\"M 0 0 M619.051 319.306 L623.31 319.306 L623.31 345.232 L619.051 345.232 L619.051 319.306 M619.051 309.214 L623.31 309.214 L623.31 314.607 L619.051 314.607 L619.051 309.214 Z\" fill=\"#000000\" fill-rule=\"evenodd\" fill-opacity=\"1\" /><path clip-path=\"url(#clip980)\" d=\"M 0 0 M642.801 323.288 Q642.083 322.871 641.227 322.686 Q640.393 322.478 639.375 322.478 Q635.764 322.478 633.819 324.839 Q631.898 327.177 631.898 331.575 L631.898 345.232 L627.615 345.232 L627.615 319.306 L631.898 319.306 L631.898 323.334 Q633.24 320.973 635.393 319.839 Q637.546 318.681 640.625 318.681 Q641.064 318.681 641.597 318.751 Q642.129 318.797 642.777 318.913 L642.801 323.288 Z\" fill=\"#000000\" fill-rule=\"evenodd\" fill-opacity=\"1\" /><path clip-path=\"url(#clip980)\" d=\"M 0 0 M666.62 324.283 Q668.217 321.413 670.439 320.047 Q672.662 318.681 675.671 318.681 Q679.722 318.681 681.921 321.529 Q684.12 324.353 684.12 329.584 L684.12 345.232 L679.837 345.232 L679.837 329.723 Q679.837 325.996 678.518 324.191 Q677.199 322.385 674.49 322.385 Q671.18 322.385 669.259 324.584 Q667.338 326.783 667.338 330.579 L667.338 345.232 L663.055 345.232 L663.055 329.723 Q663.055 325.973 661.736 324.191 Q660.416 322.385 657.662 322.385 Q654.398 322.385 652.476 324.607 Q650.555 326.806 650.555 330.579 L650.555 345.232 L646.273 345.232 L646.273 319.306 L650.555 319.306 L650.555 323.334 Q652.014 320.95 654.051 319.816 Q656.088 318.681 658.888 318.681 Q661.713 318.681 663.68 320.117 Q665.671 321.552 666.62 324.283 Z\" fill=\"#000000\" fill-rule=\"evenodd\" fill-opacity=\"1\" /><path clip-path=\"url(#clip980)\" d=\"M 0 0 M710.763 331.204 L710.763 333.288 L691.18 333.288 Q691.458 337.686 693.819 340.001 Q696.203 342.292 700.439 342.292 Q702.893 342.292 705.185 341.69 Q707.499 341.089 709.768 339.885 L709.768 343.913 Q707.476 344.885 705.069 345.394 Q702.661 345.903 700.185 345.903 Q693.981 345.903 690.347 342.292 Q686.736 338.681 686.736 332.524 Q686.736 326.158 690.161 322.431 Q693.611 318.681 699.444 318.681 Q704.675 318.681 707.708 322.061 Q710.763 325.417 710.763 331.204 M706.504 329.954 Q706.458 326.459 704.536 324.376 Q702.638 322.292 699.49 322.292 Q695.925 322.292 693.773 324.306 Q691.643 326.32 691.319 329.978 L706.504 329.954 Z\" fill=\"#000000\" fill-rule=\"evenodd\" fill-opacity=\"1\" /><path clip-path=\"url(#clip980)\" d=\"M 0 0 M732.291 323.242 L732.291 309.214 L736.55 309.214 L736.55 345.232 L732.291 345.232 L732.291 341.343 Q730.948 343.658 728.888 344.792 Q726.851 345.903 723.981 345.903 Q719.282 345.903 716.319 342.153 Q713.379 338.403 713.379 332.292 Q713.379 326.181 716.319 322.431 Q719.282 318.681 723.981 318.681 Q726.851 318.681 728.888 319.816 Q730.948 320.927 732.291 323.242 M717.777 332.292 Q717.777 336.991 719.698 339.677 Q721.643 342.339 725.022 342.339 Q728.402 342.339 730.346 339.677 Q732.291 336.991 732.291 332.292 Q732.291 327.593 730.346 324.931 Q728.402 322.246 725.022 322.246 Q721.643 322.246 719.698 324.931 Q717.777 327.593 717.777 332.292 Z\" fill=\"#000000\" fill-rule=\"evenodd\" fill-opacity=\"1\" /><path clip-path=\"url(#clip980)\" d=\"M 0 0 M774.744 320.302 L774.744 324.283 Q772.939 323.288 771.11 322.802 Q769.305 322.292 767.453 322.292 Q763.309 322.292 761.018 324.931 Q758.726 327.547 758.726 332.292 Q758.726 337.038 761.018 339.677 Q763.309 342.292 767.453 342.292 Q769.305 342.292 771.11 341.806 Q772.939 341.297 774.744 340.302 L774.744 344.237 Q772.962 345.07 771.041 345.487 Q769.143 345.903 766.99 345.903 Q761.133 345.903 757.684 342.223 Q754.235 338.542 754.235 332.292 Q754.235 325.95 757.707 322.316 Q761.203 318.681 767.268 318.681 Q769.235 318.681 771.11 319.098 Q772.985 319.492 774.744 320.302 Z\" fill=\"#000000\" fill-rule=\"evenodd\" fill-opacity=\"1\" /><path clip-path=\"url(#clip980)\" d=\"M 0 0 M790.994 332.2 Q785.832 332.2 783.842 333.38 Q781.851 334.561 781.851 337.408 Q781.851 339.677 783.332 341.019 Q784.837 342.339 787.406 342.339 Q790.948 342.339 793.078 339.839 Q795.23 337.316 795.23 333.149 L795.23 332.2 L790.994 332.2 M799.49 330.441 L799.49 345.232 L795.23 345.232 L795.23 341.297 Q793.772 343.658 791.596 344.792 Q789.42 345.903 786.272 345.903 Q782.291 345.903 779.929 343.681 Q777.592 341.436 777.592 337.686 Q777.592 333.311 780.508 331.089 Q783.448 328.866 789.258 328.866 L795.23 328.866 L795.23 328.45 Q795.23 325.51 793.286 323.913 Q791.365 322.292 787.869 322.292 Q785.647 322.292 783.541 322.825 Q781.434 323.357 779.49 324.422 L779.49 320.487 Q781.828 319.584 784.027 319.144 Q786.226 318.681 788.309 318.681 Q793.934 318.681 796.712 321.598 Q799.49 324.515 799.49 330.441 Z\" fill=\"#000000\" fill-rule=\"evenodd\" fill-opacity=\"1\" /><path clip-path=\"url(#clip980)\" d=\"M 0 0 M820.485 320.07 L820.485 324.098 Q818.679 323.172 816.735 322.709 Q814.79 322.246 812.707 322.246 Q809.536 322.246 807.939 323.218 Q806.365 324.191 806.365 326.135 Q806.365 327.616 807.499 328.473 Q808.633 329.306 812.059 330.07 L813.517 330.394 Q818.054 331.366 819.952 333.149 Q821.874 334.908 821.874 338.079 Q821.874 341.69 819.003 343.797 Q816.156 345.903 811.156 345.903 Q809.073 345.903 806.804 345.487 Q804.559 345.093 802.059 344.283 L802.059 339.885 Q804.42 341.112 806.712 341.737 Q809.003 342.339 811.249 342.339 Q814.258 342.339 815.878 341.32 Q817.499 340.278 817.499 338.403 Q817.499 336.667 816.318 335.741 Q815.161 334.816 811.202 333.959 L809.721 333.612 Q805.763 332.778 804.003 331.066 Q802.244 329.329 802.244 326.32 Q802.244 322.663 804.837 320.672 Q807.429 318.681 812.198 318.681 Q814.559 318.681 816.642 319.029 Q818.726 319.376 820.485 320.07 Z\" fill=\"#000000\" fill-rule=\"evenodd\" fill-opacity=\"1\" /><path clip-path=\"url(#clip980)\" d=\"M 0 0 M848.517 331.204 L848.517 333.288 L828.934 333.288 Q829.212 337.686 831.573 340.001 Q833.957 342.292 838.193 342.292 Q840.647 342.292 842.938 341.69 Q845.253 341.089 847.522 339.885 L847.522 343.913 Q845.23 344.885 842.823 345.394 Q840.415 345.903 837.938 345.903 Q831.735 345.903 828.101 342.292 Q824.489 338.681 824.489 332.524 Q824.489 326.158 827.915 322.431 Q831.364 318.681 837.198 318.681 Q842.429 318.681 845.462 322.061 Q848.517 325.417 848.517 331.204 M844.258 329.954 Q844.212 326.459 842.29 324.376 Q840.392 322.292 837.244 322.292 Q833.679 322.292 831.526 324.306 Q829.397 326.32 829.073 329.978 L844.258 329.954 Z\" fill=\"#000000\" fill-rule=\"evenodd\" fill-opacity=\"1\" /><path clip-path=\"url(#clip980)\" d=\"M 0 0 M869.512 320.07 L869.512 324.098 Q867.707 323.172 865.762 322.709 Q863.818 322.246 861.735 322.246 Q858.563 322.246 856.966 323.218 Q855.392 324.191 855.392 326.135 Q855.392 327.616 856.526 328.473 Q857.661 329.306 861.086 330.07 L862.545 330.394 Q867.082 331.366 868.98 333.149 Q870.901 334.908 870.901 338.079 Q870.901 341.69 868.031 343.797 Q865.184 345.903 860.184 345.903 Q858.1 345.903 855.832 345.487 Q853.587 345.093 851.087 344.283 L851.087 339.885 Q853.448 341.112 855.739 341.737 Q858.031 342.339 860.276 342.339 Q863.286 342.339 864.906 341.32 Q866.526 340.278 866.526 338.403 Q866.526 336.667 865.346 335.741 Q864.188 334.816 860.23 333.959 L858.749 333.612 Q854.79 332.778 853.031 331.066 Q851.272 329.329 851.272 326.32 Q851.272 322.663 853.864 320.672 Q856.457 318.681 861.225 318.681 Q863.586 318.681 865.67 319.029 Q867.753 319.376 869.512 320.07 Z\" fill=\"#000000\" fill-rule=\"evenodd\" fill-opacity=\"1\" /></svg>\n"
      ]
     },
     "execution_count": 34,
     "metadata": {},
     "output_type": "execute_result"
    }
   ],
   "source": [
    "# Notes\n",
    "# confirmeddays = x\n",
    "# sadata = y.\n",
    "# xticks=confirmed_days[1:14:end] : Every 14 days\n",
    "\n",
    "covid19confirmedcases = plot(confirmeddays, label=\"time line\", sadata,\n",
    "                                xticks=confirmeddays[1:14:end], \n",
    "                                xrotation=45, \n",
    "                                leg=:topleft, \n",
    "                                yscale=:log10)\n",
    "\n",
    "    scatter!(confirmeddays, sadata, \n",
    "            linewidths=1, \n",
    "            label = \"confirmed cases\")\n",
    "\n",
    "xlabel!(\"Confirmed cases every 14 days\")\n",
    "ylabel!(\"Total confirmed cases\")\n",
    "title!(\"COVID-19\")\n",
    "\n"
   ]
  },
  {
   "cell_type": "code",
   "execution_count": 35,
   "metadata": {},
   "outputs": [
    {
     "data": {
      "text/plain": [
       "Plots.GRBackend()"
      ]
     },
     "execution_count": 35,
     "metadata": {},
     "output_type": "execute_result"
    }
   ],
   "source": [
    "gr()"
   ]
  },
  {
   "cell_type": "code",
   "execution_count": 36,
   "metadata": {},
   "outputs": [
    {
     "data": {
      "text/plain": [
       "Plots.PlotlyJSBackend()"
      ]
     },
     "execution_count": 36,
     "metadata": {},
     "output_type": "execute_result"
    }
   ],
   "source": [
    "plotlyjs()"
   ]
  },
  {
   "cell_type": "code",
   "execution_count": 37,
   "metadata": {},
   "outputs": [
    {
     "data": {
      "text/html": [
       "    <script type=\"text/javascript\">\n",
       "        requirejs([\"https://cdn.plot.ly/plotly-1.54.2.min.js\"], function(p) {\n",
       "            window.Plotly = p\n",
       "        });\n",
       "    </script>\n"
      ]
     },
     "metadata": {},
     "output_type": "display_data"
    },
    {
     "data": {
      "application/vnd.plotly.v1+json": {
       "data": [
        {
         "colorbar": {
          "title": ""
         },
         "legendgroup": "time line",
         "line": {
          "color": "rgba(0, 154, 250, 1.000)",
          "dash": "solid",
          "shape": "linear",
          "width": 1
         },
         "mode": "lines",
         "name": "time line",
         "showlegend": true,
         "type": "scatter",
         "x": [
          737489,
          737490,
          737491,
          737492,
          737493,
          737494,
          737495,
          737496,
          737497,
          737498,
          737499,
          737500,
          737501,
          737502,
          737503,
          737504,
          737505,
          737506,
          737507,
          737508,
          737509,
          737510,
          737511,
          737512,
          737513,
          737514,
          737515,
          737516,
          737517,
          737518,
          737519,
          737520,
          737521,
          737522,
          737523,
          737524,
          737525,
          737526,
          737527,
          737528,
          737529,
          737530,
          737531,
          737532,
          737533,
          737534,
          737535,
          737536,
          737537,
          737538,
          737539,
          737540,
          737541,
          737542,
          737543,
          737544,
          737545,
          737546,
          737547,
          737548,
          737549,
          737550,
          737551,
          737552,
          737553,
          737554,
          737555,
          737556,
          737557,
          737558,
          737559,
          737560,
          737561,
          737562,
          737563,
          737564,
          737565,
          737566,
          737567,
          737568,
          737569,
          737570,
          737571,
          737572,
          737573,
          737574,
          737575,
          737576,
          737577,
          737578,
          737579,
          737580,
          737581,
          737582,
          737583,
          737584,
          737585,
          737586,
          737587,
          737588,
          737589,
          737590,
          737591,
          737592,
          737593,
          737594,
          737595,
          737596,
          737597,
          737598,
          737599,
          737600,
          737601,
          737602,
          737603,
          737604,
          737605,
          737606,
          737607,
          737608,
          737609,
          737610,
          737611,
          737612,
          737613,
          737614,
          737615,
          737616,
          737617,
          737618,
          737619,
          737620,
          737621,
          737622,
          737623,
          737624,
          737625,
          737626,
          737627,
          737628,
          737629,
          737630,
          737631,
          737632,
          737633,
          737634
         ],
         "xaxis": "x1",
         "y": [
          1,
          1,
          1,
          3,
          3,
          7,
          13,
          17,
          24,
          38,
          51,
          62,
          62,
          116,
          150,
          202,
          240,
          274,
          402,
          554,
          709,
          927,
          1170,
          1187,
          1280,
          1326,
          1353,
          1380,
          1462,
          1505,
          1585,
          1655,
          1686,
          1749,
          1845,
          1934,
          2003,
          2028,
          2173,
          2272,
          2415,
          2506,
          2605,
          2783,
          3034,
          3158,
          3300,
          3465,
          3635,
          3953,
          4220,
          4361,
          4546,
          4793,
          4996,
          5350,
          5647,
          5951,
          6336,
          6783,
          7220,
          7572,
          7808,
          8232,
          8895,
          9420,
          10015,
          10652,
          11350,
          12074,
          12739,
          13524,
          14355,
          15515,
          16433,
          17200,
          18003,
          19137,
          20125,
          21343,
          22583,
          23615,
          24264,
          25937,
          27403,
          29240,
          30967,
          32683,
          34357,
          35812,
          37525,
          40792,
          43434,
          45973,
          48285,
          50879,
          52991,
          55421,
          58568,
          61927,
          65736,
          70038,
          73533,
          76334,
          80412,
          83890,
          87715,
          92681,
          97302,
          101590,
          106108,
          111796,
          118375,
          124590,
          131800,
          138134,
          144264,
          151209,
          159333,
          168061,
          177124,
          187977,
          196750,
          205721,
          215855,
          224665,
          238339,
          250687,
          264184,
          276242,
          287796,
          298292,
          311049,
          324221,
          337594,
          350879,
          364328,
          373628,
          381798,
          394948,
          408052,
          421996,
          434200,
          445433,
          452529,
          459761
         ],
         "yaxis": "y1",
         "zmax": null,
         "zmin": null
        },
        {
         "colorbar": {
          "title": ""
         },
         "hoverinfo": "text",
         "legendgroup": "confirmed cases",
         "marker": {
          "color": "rgba(227, 111, 71, 1.000)",
          "line": {
           "color": "rgba(0, 0, 0, 1.000)",
           "width": 1
          },
          "size": 8,
          "symbol": "circle"
         },
         "mode": "markers",
         "name": "confirmed cases",
         "showlegend": true,
         "text": [
          1,
          1,
          1,
          3,
          3,
          7,
          13,
          17,
          24,
          38,
          51,
          62,
          62,
          116,
          150,
          202,
          240,
          274,
          402,
          554,
          709,
          927,
          1170,
          1187,
          1280,
          1326,
          1353,
          1380,
          1462,
          1505,
          1585,
          1655,
          1686,
          1749,
          1845,
          1934,
          2003,
          2028,
          2173,
          2272,
          2415,
          2506,
          2605,
          2783,
          3034,
          3158,
          3300,
          3465,
          3635,
          3953,
          4220,
          4361,
          4546,
          4793,
          4996,
          5350,
          5647,
          5951,
          6336,
          6783,
          7220,
          7572,
          7808,
          8232,
          8895,
          9420,
          10015,
          10652,
          11350,
          12074,
          12739,
          13524,
          14355,
          15515,
          16433,
          17200,
          18003,
          19137,
          20125,
          21343,
          22583,
          23615,
          24264,
          25937,
          27403,
          29240,
          30967,
          32683,
          34357,
          35812,
          37525,
          40792,
          43434,
          45973,
          48285,
          50879,
          52991,
          55421,
          58568,
          61927,
          65736,
          70038,
          73533,
          76334,
          80412,
          83890,
          87715,
          92681,
          97302,
          101590,
          106108,
          111796,
          118375,
          124590,
          131800,
          138134,
          144264,
          151209,
          159333,
          168061,
          177124,
          187977,
          196750,
          205721,
          215855,
          224665,
          238339,
          250687,
          264184,
          276242,
          287796,
          298292,
          311049,
          324221,
          337594,
          350879,
          364328,
          373628,
          381798,
          394948,
          408052,
          421996,
          434200,
          445433,
          452529,
          459761
         ],
         "type": "scatter",
         "x": [
          737489,
          737490,
          737491,
          737492,
          737493,
          737494,
          737495,
          737496,
          737497,
          737498,
          737499,
          737500,
          737501,
          737502,
          737503,
          737504,
          737505,
          737506,
          737507,
          737508,
          737509,
          737510,
          737511,
          737512,
          737513,
          737514,
          737515,
          737516,
          737517,
          737518,
          737519,
          737520,
          737521,
          737522,
          737523,
          737524,
          737525,
          737526,
          737527,
          737528,
          737529,
          737530,
          737531,
          737532,
          737533,
          737534,
          737535,
          737536,
          737537,
          737538,
          737539,
          737540,
          737541,
          737542,
          737543,
          737544,
          737545,
          737546,
          737547,
          737548,
          737549,
          737550,
          737551,
          737552,
          737553,
          737554,
          737555,
          737556,
          737557,
          737558,
          737559,
          737560,
          737561,
          737562,
          737563,
          737564,
          737565,
          737566,
          737567,
          737568,
          737569,
          737570,
          737571,
          737572,
          737573,
          737574,
          737575,
          737576,
          737577,
          737578,
          737579,
          737580,
          737581,
          737582,
          737583,
          737584,
          737585,
          737586,
          737587,
          737588,
          737589,
          737590,
          737591,
          737592,
          737593,
          737594,
          737595,
          737596,
          737597,
          737598,
          737599,
          737600,
          737601,
          737602,
          737603,
          737604,
          737605,
          737606,
          737607,
          737608,
          737609,
          737610,
          737611,
          737612,
          737613,
          737614,
          737615,
          737616,
          737617,
          737618,
          737619,
          737620,
          737621,
          737622,
          737623,
          737624,
          737625,
          737626,
          737627,
          737628,
          737629,
          737630,
          737631,
          737632,
          737633,
          737634
         ],
         "xaxis": "x1",
         "y": [
          1,
          1,
          1,
          3,
          3,
          7,
          13,
          17,
          24,
          38,
          51,
          62,
          62,
          116,
          150,
          202,
          240,
          274,
          402,
          554,
          709,
          927,
          1170,
          1187,
          1280,
          1326,
          1353,
          1380,
          1462,
          1505,
          1585,
          1655,
          1686,
          1749,
          1845,
          1934,
          2003,
          2028,
          2173,
          2272,
          2415,
          2506,
          2605,
          2783,
          3034,
          3158,
          3300,
          3465,
          3635,
          3953,
          4220,
          4361,
          4546,
          4793,
          4996,
          5350,
          5647,
          5951,
          6336,
          6783,
          7220,
          7572,
          7808,
          8232,
          8895,
          9420,
          10015,
          10652,
          11350,
          12074,
          12739,
          13524,
          14355,
          15515,
          16433,
          17200,
          18003,
          19137,
          20125,
          21343,
          22583,
          23615,
          24264,
          25937,
          27403,
          29240,
          30967,
          32683,
          34357,
          35812,
          37525,
          40792,
          43434,
          45973,
          48285,
          50879,
          52991,
          55421,
          58568,
          61927,
          65736,
          70038,
          73533,
          76334,
          80412,
          83890,
          87715,
          92681,
          97302,
          101590,
          106108,
          111796,
          118375,
          124590,
          131800,
          138134,
          144264,
          151209,
          159333,
          168061,
          177124,
          187977,
          196750,
          205721,
          215855,
          224665,
          238339,
          250687,
          264184,
          276242,
          287796,
          298292,
          311049,
          324221,
          337594,
          350879,
          364328,
          373628,
          381798,
          394948,
          408052,
          421996,
          434200,
          445433,
          452529,
          459761
         ],
         "yaxis": "y1",
         "zmax": null,
         "zmin": null
        }
       ],
       "layout": {
        "annotations": [
         {
          "font": {
           "color": "rgba(0, 0, 0, 1.000)",
           "family": "sans-serif",
           "size": 20
          },
          "rotation": 0,
          "showarrow": false,
          "text": "COVID-19",
          "x": 0.5423611111111111,
          "xanchor": "center",
          "xref": "paper",
          "y": 1,
          "yanchor": "top",
          "yref": "paper"
         }
        ],
        "height": 400,
        "legend": {
         "bgcolor": "rgba(255, 255, 255, 1.000)",
         "bordercolor": "rgba(0, 0, 0, 1.000)",
         "borderwidth": 1,
         "font": {
          "color": "rgba(0, 0, 0, 1.000)",
          "family": "sans-serif",
          "size": 11
         },
         "tracegroupgap": 0,
         "traceorder": "normal",
         "x": 1,
         "xanchor": "right",
         "y": 0.52,
         "yanchor": "middle"
        },
        "margin": {
         "b": 20,
         "l": 0,
         "r": 0,
         "t": 20
        },
        "paper_bgcolor": "rgba(255, 255, 255, 1.000)",
        "plot_bgcolor": "rgba(255, 255, 255, 1.000)",
        "showlegend": true,
        "width": 600,
        "xaxis": {
         "anchor": "y1",
         "domain": [
          0.09128390201224845,
          0.9934383202099738
         ],
         "gridcolor": "rgba(0, 0, 0, 0.100)",
         "gridwidth": 0.5,
         "linecolor": "rgba(0, 0, 0, 1.000)",
         "mirror": false,
         "range": [
          737484.65,
          737638.35
         ],
         "showgrid": false,
         "showline": true,
         "showticklabels": true,
         "tickangle": -45,
         "tickcolor": "rgb(0, 0, 0)",
         "tickfont": {
          "color": "rgba(0, 0, 0, 1.000)",
          "family": "sans-serif",
          "size": 11
         },
         "tickmode": "array",
         "ticks": "inside",
         "ticktext": [
          "2020-03-05",
          "2020-03-19",
          "2020-04-02",
          "2020-04-16",
          "2020-04-30",
          "2020-05-14",
          "2020-05-28",
          "2020-06-11",
          "2020-06-25",
          "2020-07-09",
          "2020-07-23"
         ],
         "tickvals": [
          737489,
          737503,
          737517,
          737531,
          737545,
          737559,
          737573,
          737587,
          737601,
          737615,
          737629
         ],
         "title": "Confirmed cases every 14 days",
         "titlefont": {
          "color": "rgba(0, 0, 0, 1.000)",
          "family": "sans-serif",
          "size": 15
         },
         "type": "-",
         "visible": true,
         "zeroline": false,
         "zerolinecolor": "rgba(0, 0, 0, 1.000)"
        },
        "yaxis": {
         "anchor": "x1",
         "domain": [
          0.22481365942612075,
          0.9415463692038496
         ],
         "gridcolor": "rgba(0, 0, 0, 0.100)",
         "gridwidth": 0.5,
         "linecolor": "rgba(0, 0, 0, 1.000)",
         "mirror": false,
         "range": [
          -0.16987596386207676,
          5.83240809259797
         ],
         "showgrid": false,
         "showline": true,
         "showticklabels": true,
         "tickangle": 0,
         "tickcolor": "rgb(0, 0, 0)",
         "tickfont": {
          "color": "rgba(0, 0, 0, 1.000)",
          "family": "sans-serif",
          "size": 11
         },
         "tickmode": "array",
         "ticks": "inside",
         "ticktext": [
          "10^0",
          "10^1",
          "10^2",
          "10^3",
          "10^4",
          "10^5"
         ],
         "tickvals": [
          1,
          10,
          100,
          1000,
          10000,
          100000
         ],
         "title": "Total confirmed cases",
         "titlefont": {
          "color": "rgba(0, 0, 0, 1.000)",
          "family": "sans-serif",
          "size": 15
         },
         "type": "log",
         "visible": true,
         "zeroline": false,
         "zerolinecolor": "rgba(0, 0, 0, 1.000)"
        }
       }
      },
      "text/html": [
       "<!DOCTYPE html>\n",
       "<html>\n",
       "    <head>\n",
       "        <title>Plots.jl</title>\n",
       "        <meta http-equiv=\"content-type\" content=\"text/html; charset=UTF-8\">\n",
       "        <script src=\"https://cdn.plot.ly/plotly-1.54.2.min.js\"></script>\n",
       "    </head>\n",
       "    <body>\n",
       "            <div id=\"afb992a1-b221-49a6-aaee-ba53b8b9c04d\" style=\"width:600px;height:400px;\"></div>\n",
       "    <script>\n",
       "    PLOT = document.getElementById('afb992a1-b221-49a6-aaee-ba53b8b9c04d');\n",
       "    Plotly.plot(PLOT, [\n",
       "    {\n",
       "        \"xaxis\": \"x1\",\n",
       "        \"colorbar\": {\n",
       "            \"title\": \"\"\n",
       "        },\n",
       "        \"yaxis\": \"y1\",\n",
       "        \"x\": [\n",
       "            737489.0,\n",
       "            737490.0,\n",
       "            737491.0,\n",
       "            737492.0,\n",
       "            737493.0,\n",
       "            737494.0,\n",
       "            737495.0,\n",
       "            737496.0,\n",
       "            737497.0,\n",
       "            737498.0,\n",
       "            737499.0,\n",
       "            737500.0,\n",
       "            737501.0,\n",
       "            737502.0,\n",
       "            737503.0,\n",
       "            737504.0,\n",
       "            737505.0,\n",
       "            737506.0,\n",
       "            737507.0,\n",
       "            737508.0,\n",
       "            737509.0,\n",
       "            737510.0,\n",
       "            737511.0,\n",
       "            737512.0,\n",
       "            737513.0,\n",
       "            737514.0,\n",
       "            737515.0,\n",
       "            737516.0,\n",
       "            737517.0,\n",
       "            737518.0,\n",
       "            737519.0,\n",
       "            737520.0,\n",
       "            737521.0,\n",
       "            737522.0,\n",
       "            737523.0,\n",
       "            737524.0,\n",
       "            737525.0,\n",
       "            737526.0,\n",
       "            737527.0,\n",
       "            737528.0,\n",
       "            737529.0,\n",
       "            737530.0,\n",
       "            737531.0,\n",
       "            737532.0,\n",
       "            737533.0,\n",
       "            737534.0,\n",
       "            737535.0,\n",
       "            737536.0,\n",
       "            737537.0,\n",
       "            737538.0,\n",
       "            737539.0,\n",
       "            737540.0,\n",
       "            737541.0,\n",
       "            737542.0,\n",
       "            737543.0,\n",
       "            737544.0,\n",
       "            737545.0,\n",
       "            737546.0,\n",
       "            737547.0,\n",
       "            737548.0,\n",
       "            737549.0,\n",
       "            737550.0,\n",
       "            737551.0,\n",
       "            737552.0,\n",
       "            737553.0,\n",
       "            737554.0,\n",
       "            737555.0,\n",
       "            737556.0,\n",
       "            737557.0,\n",
       "            737558.0,\n",
       "            737559.0,\n",
       "            737560.0,\n",
       "            737561.0,\n",
       "            737562.0,\n",
       "            737563.0,\n",
       "            737564.0,\n",
       "            737565.0,\n",
       "            737566.0,\n",
       "            737567.0,\n",
       "            737568.0,\n",
       "            737569.0,\n",
       "            737570.0,\n",
       "            737571.0,\n",
       "            737572.0,\n",
       "            737573.0,\n",
       "            737574.0,\n",
       "            737575.0,\n",
       "            737576.0,\n",
       "            737577.0,\n",
       "            737578.0,\n",
       "            737579.0,\n",
       "            737580.0,\n",
       "            737581.0,\n",
       "            737582.0,\n",
       "            737583.0,\n",
       "            737584.0,\n",
       "            737585.0,\n",
       "            737586.0,\n",
       "            737587.0,\n",
       "            737588.0,\n",
       "            737589.0,\n",
       "            737590.0,\n",
       "            737591.0,\n",
       "            737592.0,\n",
       "            737593.0,\n",
       "            737594.0,\n",
       "            737595.0,\n",
       "            737596.0,\n",
       "            737597.0,\n",
       "            737598.0,\n",
       "            737599.0,\n",
       "            737600.0,\n",
       "            737601.0,\n",
       "            737602.0,\n",
       "            737603.0,\n",
       "            737604.0,\n",
       "            737605.0,\n",
       "            737606.0,\n",
       "            737607.0,\n",
       "            737608.0,\n",
       "            737609.0,\n",
       "            737610.0,\n",
       "            737611.0,\n",
       "            737612.0,\n",
       "            737613.0,\n",
       "            737614.0,\n",
       "            737615.0,\n",
       "            737616.0,\n",
       "            737617.0,\n",
       "            737618.0,\n",
       "            737619.0,\n",
       "            737620.0,\n",
       "            737621.0,\n",
       "            737622.0,\n",
       "            737623.0,\n",
       "            737624.0,\n",
       "            737625.0,\n",
       "            737626.0,\n",
       "            737627.0,\n",
       "            737628.0,\n",
       "            737629.0,\n",
       "            737630.0,\n",
       "            737631.0,\n",
       "            737632.0,\n",
       "            737633.0,\n",
       "            737634.0\n",
       "        ],\n",
       "        \"showlegend\": true,\n",
       "        \"mode\": \"lines\",\n",
       "        \"name\": \"time line\",\n",
       "        \"zmin\": null,\n",
       "        \"legendgroup\": \"time line\",\n",
       "        \"zmax\": null,\n",
       "        \"line\": {\n",
       "            \"color\": \"rgba(0, 154, 250, 1.000)\",\n",
       "            \"shape\": \"linear\",\n",
       "            \"dash\": \"solid\",\n",
       "            \"width\": 1\n",
       "        },\n",
       "        \"y\": [\n",
       "            1.0,\n",
       "            1.0,\n",
       "            1.0,\n",
       "            3.0,\n",
       "            3.0,\n",
       "            7.0,\n",
       "            13.0,\n",
       "            17.0,\n",
       "            24.0,\n",
       "            38.0,\n",
       "            51.0,\n",
       "            62.0,\n",
       "            62.0,\n",
       "            116.0,\n",
       "            150.0,\n",
       "            202.0,\n",
       "            240.0,\n",
       "            274.0,\n",
       "            402.0,\n",
       "            554.0,\n",
       "            709.0,\n",
       "            927.0,\n",
       "            1170.0,\n",
       "            1187.0,\n",
       "            1280.0,\n",
       "            1326.0,\n",
       "            1353.0,\n",
       "            1380.0,\n",
       "            1462.0,\n",
       "            1505.0,\n",
       "            1585.0,\n",
       "            1655.0,\n",
       "            1686.0,\n",
       "            1749.0,\n",
       "            1845.0,\n",
       "            1934.0,\n",
       "            2003.0,\n",
       "            2028.0,\n",
       "            2173.0,\n",
       "            2272.0,\n",
       "            2415.0,\n",
       "            2506.0,\n",
       "            2605.0,\n",
       "            2783.0,\n",
       "            3034.0,\n",
       "            3158.0,\n",
       "            3300.0,\n",
       "            3465.0,\n",
       "            3635.0,\n",
       "            3953.0,\n",
       "            4220.0,\n",
       "            4361.0,\n",
       "            4546.0,\n",
       "            4793.0,\n",
       "            4996.0,\n",
       "            5350.0,\n",
       "            5647.0,\n",
       "            5951.0,\n",
       "            6336.0,\n",
       "            6783.0,\n",
       "            7220.0,\n",
       "            7572.0,\n",
       "            7808.0,\n",
       "            8232.0,\n",
       "            8895.0,\n",
       "            9420.0,\n",
       "            10015.0,\n",
       "            10652.0,\n",
       "            11350.0,\n",
       "            12074.0,\n",
       "            12739.0,\n",
       "            13524.0,\n",
       "            14355.0,\n",
       "            15515.0,\n",
       "            16433.0,\n",
       "            17200.0,\n",
       "            18003.0,\n",
       "            19137.0,\n",
       "            20125.0,\n",
       "            21343.0,\n",
       "            22583.0,\n",
       "            23615.0,\n",
       "            24264.0,\n",
       "            25937.0,\n",
       "            27403.0,\n",
       "            29240.0,\n",
       "            30967.0,\n",
       "            32683.0,\n",
       "            34357.0,\n",
       "            35812.0,\n",
       "            37525.0,\n",
       "            40792.0,\n",
       "            43434.0,\n",
       "            45973.0,\n",
       "            48285.0,\n",
       "            50879.0,\n",
       "            52991.0,\n",
       "            55421.0,\n",
       "            58568.0,\n",
       "            61927.0,\n",
       "            65736.0,\n",
       "            70038.0,\n",
       "            73533.0,\n",
       "            76334.0,\n",
       "            80412.0,\n",
       "            83890.0,\n",
       "            87715.0,\n",
       "            92681.0,\n",
       "            97302.0,\n",
       "            101590.0,\n",
       "            106108.0,\n",
       "            111796.0,\n",
       "            118375.0,\n",
       "            124590.0,\n",
       "            131800.0,\n",
       "            138134.0,\n",
       "            144264.0,\n",
       "            151209.0,\n",
       "            159333.0,\n",
       "            168061.0,\n",
       "            177124.0,\n",
       "            187977.0,\n",
       "            196750.0,\n",
       "            205721.0,\n",
       "            215855.0,\n",
       "            224665.0,\n",
       "            238339.0,\n",
       "            250687.0,\n",
       "            264184.0,\n",
       "            276242.0,\n",
       "            287796.0,\n",
       "            298292.0,\n",
       "            311049.0,\n",
       "            324221.0,\n",
       "            337594.0,\n",
       "            350879.0,\n",
       "            364328.0,\n",
       "            373628.0,\n",
       "            381798.0,\n",
       "            394948.0,\n",
       "            408052.0,\n",
       "            421996.0,\n",
       "            434200.0,\n",
       "            445433.0,\n",
       "            452529.0,\n",
       "            459761.0\n",
       "        ],\n",
       "        \"type\": \"scatter\"\n",
       "    },\n",
       "    {\n",
       "        \"xaxis\": \"x1\",\n",
       "        \"colorbar\": {\n",
       "            \"title\": \"\"\n",
       "        },\n",
       "        \"yaxis\": \"y1\",\n",
       "        \"text\": [\n",
       "            1,\n",
       "            1,\n",
       "            1,\n",
       "            3,\n",
       "            3,\n",
       "            7,\n",
       "            13,\n",
       "            17,\n",
       "            24,\n",
       "            38,\n",
       "            51,\n",
       "            62,\n",
       "            62,\n",
       "            116,\n",
       "            150,\n",
       "            202,\n",
       "            240,\n",
       "            274,\n",
       "            402,\n",
       "            554,\n",
       "            709,\n",
       "            927,\n",
       "            1170,\n",
       "            1187,\n",
       "            1280,\n",
       "            1326,\n",
       "            1353,\n",
       "            1380,\n",
       "            1462,\n",
       "            1505,\n",
       "            1585,\n",
       "            1655,\n",
       "            1686,\n",
       "            1749,\n",
       "            1845,\n",
       "            1934,\n",
       "            2003,\n",
       "            2028,\n",
       "            2173,\n",
       "            2272,\n",
       "            2415,\n",
       "            2506,\n",
       "            2605,\n",
       "            2783,\n",
       "            3034,\n",
       "            3158,\n",
       "            3300,\n",
       "            3465,\n",
       "            3635,\n",
       "            3953,\n",
       "            4220,\n",
       "            4361,\n",
       "            4546,\n",
       "            4793,\n",
       "            4996,\n",
       "            5350,\n",
       "            5647,\n",
       "            5951,\n",
       "            6336,\n",
       "            6783,\n",
       "            7220,\n",
       "            7572,\n",
       "            7808,\n",
       "            8232,\n",
       "            8895,\n",
       "            9420,\n",
       "            10015,\n",
       "            10652,\n",
       "            11350,\n",
       "            12074,\n",
       "            12739,\n",
       "            13524,\n",
       "            14355,\n",
       "            15515,\n",
       "            16433,\n",
       "            17200,\n",
       "            18003,\n",
       "            19137,\n",
       "            20125,\n",
       "            21343,\n",
       "            22583,\n",
       "            23615,\n",
       "            24264,\n",
       "            25937,\n",
       "            27403,\n",
       "            29240,\n",
       "            30967,\n",
       "            32683,\n",
       "            34357,\n",
       "            35812,\n",
       "            37525,\n",
       "            40792,\n",
       "            43434,\n",
       "            45973,\n",
       "            48285,\n",
       "            50879,\n",
       "            52991,\n",
       "            55421,\n",
       "            58568,\n",
       "            61927,\n",
       "            65736,\n",
       "            70038,\n",
       "            73533,\n",
       "            76334,\n",
       "            80412,\n",
       "            83890,\n",
       "            87715,\n",
       "            92681,\n",
       "            97302,\n",
       "            101590,\n",
       "            106108,\n",
       "            111796,\n",
       "            118375,\n",
       "            124590,\n",
       "            131800,\n",
       "            138134,\n",
       "            144264,\n",
       "            151209,\n",
       "            159333,\n",
       "            168061,\n",
       "            177124,\n",
       "            187977,\n",
       "            196750,\n",
       "            205721,\n",
       "            215855,\n",
       "            224665,\n",
       "            238339,\n",
       "            250687,\n",
       "            264184,\n",
       "            276242,\n",
       "            287796,\n",
       "            298292,\n",
       "            311049,\n",
       "            324221,\n",
       "            337594,\n",
       "            350879,\n",
       "            364328,\n",
       "            373628,\n",
       "            381798,\n",
       "            394948,\n",
       "            408052,\n",
       "            421996,\n",
       "            434200,\n",
       "            445433,\n",
       "            452529,\n",
       "            459761\n",
       "        ],\n",
       "        \"x\": [\n",
       "            737489.0,\n",
       "            737490.0,\n",
       "            737491.0,\n",
       "            737492.0,\n",
       "            737493.0,\n",
       "            737494.0,\n",
       "            737495.0,\n",
       "            737496.0,\n",
       "            737497.0,\n",
       "            737498.0,\n",
       "            737499.0,\n",
       "            737500.0,\n",
       "            737501.0,\n",
       "            737502.0,\n",
       "            737503.0,\n",
       "            737504.0,\n",
       "            737505.0,\n",
       "            737506.0,\n",
       "            737507.0,\n",
       "            737508.0,\n",
       "            737509.0,\n",
       "            737510.0,\n",
       "            737511.0,\n",
       "            737512.0,\n",
       "            737513.0,\n",
       "            737514.0,\n",
       "            737515.0,\n",
       "            737516.0,\n",
       "            737517.0,\n",
       "            737518.0,\n",
       "            737519.0,\n",
       "            737520.0,\n",
       "            737521.0,\n",
       "            737522.0,\n",
       "            737523.0,\n",
       "            737524.0,\n",
       "            737525.0,\n",
       "            737526.0,\n",
       "            737527.0,\n",
       "            737528.0,\n",
       "            737529.0,\n",
       "            737530.0,\n",
       "            737531.0,\n",
       "            737532.0,\n",
       "            737533.0,\n",
       "            737534.0,\n",
       "            737535.0,\n",
       "            737536.0,\n",
       "            737537.0,\n",
       "            737538.0,\n",
       "            737539.0,\n",
       "            737540.0,\n",
       "            737541.0,\n",
       "            737542.0,\n",
       "            737543.0,\n",
       "            737544.0,\n",
       "            737545.0,\n",
       "            737546.0,\n",
       "            737547.0,\n",
       "            737548.0,\n",
       "            737549.0,\n",
       "            737550.0,\n",
       "            737551.0,\n",
       "            737552.0,\n",
       "            737553.0,\n",
       "            737554.0,\n",
       "            737555.0,\n",
       "            737556.0,\n",
       "            737557.0,\n",
       "            737558.0,\n",
       "            737559.0,\n",
       "            737560.0,\n",
       "            737561.0,\n",
       "            737562.0,\n",
       "            737563.0,\n",
       "            737564.0,\n",
       "            737565.0,\n",
       "            737566.0,\n",
       "            737567.0,\n",
       "            737568.0,\n",
       "            737569.0,\n",
       "            737570.0,\n",
       "            737571.0,\n",
       "            737572.0,\n",
       "            737573.0,\n",
       "            737574.0,\n",
       "            737575.0,\n",
       "            737576.0,\n",
       "            737577.0,\n",
       "            737578.0,\n",
       "            737579.0,\n",
       "            737580.0,\n",
       "            737581.0,\n",
       "            737582.0,\n",
       "            737583.0,\n",
       "            737584.0,\n",
       "            737585.0,\n",
       "            737586.0,\n",
       "            737587.0,\n",
       "            737588.0,\n",
       "            737589.0,\n",
       "            737590.0,\n",
       "            737591.0,\n",
       "            737592.0,\n",
       "            737593.0,\n",
       "            737594.0,\n",
       "            737595.0,\n",
       "            737596.0,\n",
       "            737597.0,\n",
       "            737598.0,\n",
       "            737599.0,\n",
       "            737600.0,\n",
       "            737601.0,\n",
       "            737602.0,\n",
       "            737603.0,\n",
       "            737604.0,\n",
       "            737605.0,\n",
       "            737606.0,\n",
       "            737607.0,\n",
       "            737608.0,\n",
       "            737609.0,\n",
       "            737610.0,\n",
       "            737611.0,\n",
       "            737612.0,\n",
       "            737613.0,\n",
       "            737614.0,\n",
       "            737615.0,\n",
       "            737616.0,\n",
       "            737617.0,\n",
       "            737618.0,\n",
       "            737619.0,\n",
       "            737620.0,\n",
       "            737621.0,\n",
       "            737622.0,\n",
       "            737623.0,\n",
       "            737624.0,\n",
       "            737625.0,\n",
       "            737626.0,\n",
       "            737627.0,\n",
       "            737628.0,\n",
       "            737629.0,\n",
       "            737630.0,\n",
       "            737631.0,\n",
       "            737632.0,\n",
       "            737633.0,\n",
       "            737634.0\n",
       "        ],\n",
       "        \"showlegend\": true,\n",
       "        \"mode\": \"markers\",\n",
       "        \"name\": \"confirmed cases\",\n",
       "        \"zmin\": null,\n",
       "        \"legendgroup\": \"confirmed cases\",\n",
       "        \"marker\": {\n",
       "            \"symbol\": \"circle\",\n",
       "            \"color\": \"rgba(227, 111, 71, 1.000)\",\n",
       "            \"line\": {\n",
       "                \"color\": \"rgba(0, 0, 0, 1.000)\",\n",
       "                \"width\": 1\n",
       "            },\n",
       "            \"size\": 8\n",
       "        },\n",
       "        \"zmax\": null,\n",
       "        \"y\": [\n",
       "            1.0,\n",
       "            1.0,\n",
       "            1.0,\n",
       "            3.0,\n",
       "            3.0,\n",
       "            7.0,\n",
       "            13.0,\n",
       "            17.0,\n",
       "            24.0,\n",
       "            38.0,\n",
       "            51.0,\n",
       "            62.0,\n",
       "            62.0,\n",
       "            116.0,\n",
       "            150.0,\n",
       "            202.0,\n",
       "            240.0,\n",
       "            274.0,\n",
       "            402.0,\n",
       "            554.0,\n",
       "            709.0,\n",
       "            927.0,\n",
       "            1170.0,\n",
       "            1187.0,\n",
       "            1280.0,\n",
       "            1326.0,\n",
       "            1353.0,\n",
       "            1380.0,\n",
       "            1462.0,\n",
       "            1505.0,\n",
       "            1585.0,\n",
       "            1655.0,\n",
       "            1686.0,\n",
       "            1749.0,\n",
       "            1845.0,\n",
       "            1934.0,\n",
       "            2003.0,\n",
       "            2028.0,\n",
       "            2173.0,\n",
       "            2272.0,\n",
       "            2415.0,\n",
       "            2506.0,\n",
       "            2605.0,\n",
       "            2783.0,\n",
       "            3034.0,\n",
       "            3158.0,\n",
       "            3300.0,\n",
       "            3465.0,\n",
       "            3635.0,\n",
       "            3953.0,\n",
       "            4220.0,\n",
       "            4361.0,\n",
       "            4546.0,\n",
       "            4793.0,\n",
       "            4996.0,\n",
       "            5350.0,\n",
       "            5647.0,\n",
       "            5951.0,\n",
       "            6336.0,\n",
       "            6783.0,\n",
       "            7220.0,\n",
       "            7572.0,\n",
       "            7808.0,\n",
       "            8232.0,\n",
       "            8895.0,\n",
       "            9420.0,\n",
       "            10015.0,\n",
       "            10652.0,\n",
       "            11350.0,\n",
       "            12074.0,\n",
       "            12739.0,\n",
       "            13524.0,\n",
       "            14355.0,\n",
       "            15515.0,\n",
       "            16433.0,\n",
       "            17200.0,\n",
       "            18003.0,\n",
       "            19137.0,\n",
       "            20125.0,\n",
       "            21343.0,\n",
       "            22583.0,\n",
       "            23615.0,\n",
       "            24264.0,\n",
       "            25937.0,\n",
       "            27403.0,\n",
       "            29240.0,\n",
       "            30967.0,\n",
       "            32683.0,\n",
       "            34357.0,\n",
       "            35812.0,\n",
       "            37525.0,\n",
       "            40792.0,\n",
       "            43434.0,\n",
       "            45973.0,\n",
       "            48285.0,\n",
       "            50879.0,\n",
       "            52991.0,\n",
       "            55421.0,\n",
       "            58568.0,\n",
       "            61927.0,\n",
       "            65736.0,\n",
       "            70038.0,\n",
       "            73533.0,\n",
       "            76334.0,\n",
       "            80412.0,\n",
       "            83890.0,\n",
       "            87715.0,\n",
       "            92681.0,\n",
       "            97302.0,\n",
       "            101590.0,\n",
       "            106108.0,\n",
       "            111796.0,\n",
       "            118375.0,\n",
       "            124590.0,\n",
       "            131800.0,\n",
       "            138134.0,\n",
       "            144264.0,\n",
       "            151209.0,\n",
       "            159333.0,\n",
       "            168061.0,\n",
       "            177124.0,\n",
       "            187977.0,\n",
       "            196750.0,\n",
       "            205721.0,\n",
       "            215855.0,\n",
       "            224665.0,\n",
       "            238339.0,\n",
       "            250687.0,\n",
       "            264184.0,\n",
       "            276242.0,\n",
       "            287796.0,\n",
       "            298292.0,\n",
       "            311049.0,\n",
       "            324221.0,\n",
       "            337594.0,\n",
       "            350879.0,\n",
       "            364328.0,\n",
       "            373628.0,\n",
       "            381798.0,\n",
       "            394948.0,\n",
       "            408052.0,\n",
       "            421996.0,\n",
       "            434200.0,\n",
       "            445433.0,\n",
       "            452529.0,\n",
       "            459761.0\n",
       "        ],\n",
       "        \"type\": \"scatter\",\n",
       "        \"hoverinfo\": \"text\"\n",
       "    }\n",
       "]\n",
       ", {\n",
       "    \"showlegend\": true,\n",
       "    \"xaxis\": {\n",
       "        \"showticklabels\": true,\n",
       "        \"gridwidth\": 0.5,\n",
       "        \"tickvals\": [\n",
       "            737489.0,\n",
       "            737503.0,\n",
       "            737517.0,\n",
       "            737531.0,\n",
       "            737545.0,\n",
       "            737559.0,\n",
       "            737573.0,\n",
       "            737587.0,\n",
       "            737601.0,\n",
       "            737615.0,\n",
       "            737629.0\n",
       "        ],\n",
       "        \"visible\": true,\n",
       "        \"ticks\": \"inside\",\n",
       "        \"range\": [\n",
       "            737484.65,\n",
       "            737638.35\n",
       "        ],\n",
       "        \"domain\": [\n",
       "            0.09128390201224845,\n",
       "            0.9934383202099738\n",
       "        ],\n",
       "        \"tickmode\": \"array\",\n",
       "        \"linecolor\": \"rgba(0, 0, 0, 1.000)\",\n",
       "        \"showgrid\": false,\n",
       "        \"title\": \"Confirmed cases every 14 days\",\n",
       "        \"mirror\": false,\n",
       "        \"tickangle\": -45,\n",
       "        \"showline\": true,\n",
       "        \"gridcolor\": \"rgba(0, 0, 0, 0.100)\",\n",
       "        \"titlefont\": {\n",
       "            \"color\": \"rgba(0, 0, 0, 1.000)\",\n",
       "            \"family\": \"sans-serif\",\n",
       "            \"size\": 15\n",
       "        },\n",
       "        \"tickcolor\": \"rgb(0, 0, 0)\",\n",
       "        \"ticktext\": [\n",
       "            \"2020-03-05\",\n",
       "            \"2020-03-19\",\n",
       "            \"2020-04-02\",\n",
       "            \"2020-04-16\",\n",
       "            \"2020-04-30\",\n",
       "            \"2020-05-14\",\n",
       "            \"2020-05-28\",\n",
       "            \"2020-06-11\",\n",
       "            \"2020-06-25\",\n",
       "            \"2020-07-09\",\n",
       "            \"2020-07-23\"\n",
       "        ],\n",
       "        \"zeroline\": false,\n",
       "        \"type\": \"-\",\n",
       "        \"tickfont\": {\n",
       "            \"color\": \"rgba(0, 0, 0, 1.000)\",\n",
       "            \"family\": \"sans-serif\",\n",
       "            \"size\": 11\n",
       "        },\n",
       "        \"zerolinecolor\": \"rgba(0, 0, 0, 1.000)\",\n",
       "        \"anchor\": \"y1\"\n",
       "    },\n",
       "    \"paper_bgcolor\": \"rgba(255, 255, 255, 1.000)\",\n",
       "    \"annotations\": [\n",
       "        {\n",
       "            \"yanchor\": \"top\",\n",
       "            \"xanchor\": \"center\",\n",
       "            \"rotation\": -0.0,\n",
       "            \"y\": 1.0,\n",
       "            \"font\": {\n",
       "                \"color\": \"rgba(0, 0, 0, 1.000)\",\n",
       "                \"family\": \"sans-serif\",\n",
       "                \"size\": 20\n",
       "            },\n",
       "            \"yref\": \"paper\",\n",
       "            \"showarrow\": false,\n",
       "            \"text\": \"COVID-19\",\n",
       "            \"xref\": \"paper\",\n",
       "            \"x\": 0.5423611111111111\n",
       "        }\n",
       "    ],\n",
       "    \"height\": 400,\n",
       "    \"margin\": {\n",
       "        \"l\": 0,\n",
       "        \"b\": 20,\n",
       "        \"r\": 0,\n",
       "        \"t\": 20\n",
       "    },\n",
       "    \"plot_bgcolor\": \"rgba(255, 255, 255, 1.000)\",\n",
       "    \"yaxis\": {\n",
       "        \"showticklabels\": true,\n",
       "        \"gridwidth\": 0.5,\n",
       "        \"tickvals\": [\n",
       "            1.0,\n",
       "            10.0,\n",
       "            100.0,\n",
       "            1000.0,\n",
       "            10000.0,\n",
       "            100000.0\n",
       "        ],\n",
       "        \"visible\": true,\n",
       "        \"ticks\": \"inside\",\n",
       "        \"range\": [\n",
       "            -0.16987596386207676,\n",
       "            5.83240809259797\n",
       "        ],\n",
       "        \"domain\": [\n",
       "            0.22481365942612075,\n",
       "            0.9415463692038496\n",
       "        ],\n",
       "        \"tickmode\": \"array\",\n",
       "        \"linecolor\": \"rgba(0, 0, 0, 1.000)\",\n",
       "        \"showgrid\": false,\n",
       "        \"title\": \"Total confirmed cases\",\n",
       "        \"mirror\": false,\n",
       "        \"tickangle\": 0,\n",
       "        \"showline\": true,\n",
       "        \"gridcolor\": \"rgba(0, 0, 0, 0.100)\",\n",
       "        \"titlefont\": {\n",
       "            \"color\": \"rgba(0, 0, 0, 1.000)\",\n",
       "            \"family\": \"sans-serif\",\n",
       "            \"size\": 15\n",
       "        },\n",
       "        \"tickcolor\": \"rgb(0, 0, 0)\",\n",
       "        \"ticktext\": [\n",
       "            \"10^0\",\n",
       "            \"10^1\",\n",
       "            \"10^2\",\n",
       "            \"10^3\",\n",
       "            \"10^4\",\n",
       "            \"10^5\"\n",
       "        ],\n",
       "        \"zeroline\": false,\n",
       "        \"type\": \"log\",\n",
       "        \"tickfont\": {\n",
       "            \"color\": \"rgba(0, 0, 0, 1.000)\",\n",
       "            \"family\": \"sans-serif\",\n",
       "            \"size\": 11\n",
       "        },\n",
       "        \"zerolinecolor\": \"rgba(0, 0, 0, 1.000)\",\n",
       "        \"anchor\": \"x1\"\n",
       "    },\n",
       "    \"legend\": {\n",
       "        \"yanchor\": \"middle\",\n",
       "        \"xanchor\": \"right\",\n",
       "        \"bordercolor\": \"rgba(0, 0, 0, 1.000)\",\n",
       "        \"bgcolor\": \"rgba(255, 255, 255, 1.000)\",\n",
       "        \"font\": {\n",
       "            \"color\": \"rgba(0, 0, 0, 1.000)\",\n",
       "            \"family\": \"sans-serif\",\n",
       "            \"size\": 11\n",
       "        },\n",
       "        \"tracegroupgap\": 0,\n",
       "        \"y\": 0.52,\n",
       "        \"borderwidth\": 1,\n",
       "        \"traceorder\": \"normal\",\n",
       "        \"x\": 1.0\n",
       "    },\n",
       "    \"width\": 600\n",
       "}\n",
       ");\n",
       "    </script>\n",
       "\n",
       "    </body>\n",
       "</html>\n"
      ]
     },
     "execution_count": 37,
     "metadata": {},
     "output_type": "execute_result"
    }
   ],
   "source": [
    "#Notes:\n",
    "#Added scatter!()\n",
    "#confirmeddays = x\n",
    "#sadata = y.\n",
    "#xticks=confirmeddays[1:14:end] : Every 14 days\n",
    "#optional label=\"time line\" m=:o  The letter o form the point in the graph\n",
    "\n",
    "covid19confirmedcases = plot(confirmeddays, label=\"time line\", sadata,\n",
    "                                xticks=confirmeddays[1:14:end], \n",
    "                                xrotation=45, \n",
    "                                leg=:right, \n",
    "                                yscale=:log10,\n",
    "                                grid=false)\n",
    "    scatter!(confirmeddays, sadata, \n",
    "            linewidths=1, \n",
    "            hover=sadata,\n",
    "            label = \"confirmed cases\")\n",
    "\n",
    "theme(:dark)\n",
    "xlabel!(\"Confirmed cases every 14 days\")\n",
    "ylabel!(\"Total confirmed cases\")\n",
    "title!(\"COVID-19\")\n",
    " \n"
   ]
  }
 ],
 "metadata": {
  "@webio": {
   "lastCommId": "fbc8b3eea3f94a11867049affbdae430",
   "lastKernelId": "655a49e5-ce00-4b9e-9d47-1268d83d8ac7"
  },
  "kernelspec": {
   "display_name": "Julia 1.4.2",
   "language": "julia",
   "name": "julia-1.4"
  },
  "language_info": {
   "file_extension": ".jl",
   "mimetype": "application/julia",
   "name": "julia",
   "version": "1.4.2"
  }
 },
 "nbformat": 4,
 "nbformat_minor": 4
}
